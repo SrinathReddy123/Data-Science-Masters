{
 "cells": [
  {
   "cell_type": "code",
   "execution_count": null,
   "id": "e07600b0-9db3-4abd-9b36-74198f1ceab8",
   "metadata": {},
   "outputs": [],
   "source": [
    "# By default we are supposed to do/include Exception Handling in every scenario."
   ]
  },
  {
   "cell_type": "code",
   "execution_count": null,
   "id": "63f845fa-a0fb-49cb-8a71-c50aeb85a148",
   "metadata": {},
   "outputs": [],
   "source": [
    "# There might be scenarios where programmers wants to throw an exception, not just only system raised exception."
   ]
  },
  {
   "cell_type": "code",
   "execution_count": 1,
   "id": "b6ca98a7-3e58-4be6-a29c-3f1ad526634b",
   "metadata": {},
   "outputs": [
    {
     "name": "stdin",
     "output_type": "stream",
     "text": [
      "enter your age 23\n"
     ]
    }
   ],
   "source": [
    "age = int(input(\"enter your age\"))\n",
    "\n",
    "# But age can't be negative. system can't understand. System won't raise any exception here.\n",
    "# This is where custom exceptions comes into picture. we can raise exceptions based on our conditions."
   ]
  },
  {
   "cell_type": "code",
   "execution_count": 1,
   "id": "13dcab96-2936-48a6-b052-f71f02f6c5a8",
   "metadata": {},
   "outputs": [],
   "source": [
    "# Here we have Exception as our Base class\n",
    "# self here refers to the current class\n",
    "class validateAgeClass(Exception):\n",
    "    def __init__(self,message):\n",
    "        self.msg = message\n",
    "    \n",
    "    "
   ]
  },
  {
   "cell_type": "code",
   "execution_count": 2,
   "id": "6963d7a4-dc50-4829-a0f7-b1594252a39d",
   "metadata": {},
   "outputs": [],
   "source": [
    "# Raise is a reserved keyword in python, for raising an exception\n",
    "\n",
    "\n",
    "def validate_age(age):\n",
    "    if age < 0 :\n",
    "        raise validateAgeClass(\"Age should never be less than zero\")\n",
    "    elif age > 200 :\n",
    "        raise validateAgeClass(\"Age is too high\")\n",
    "    else:\n",
    "        print(\"Age is valid\")\n",
    "        "
   ]
  },
  {
   "cell_type": "code",
   "execution_count": null,
   "id": "568d6ae8-7b7b-42fc-addc-0fb23ddfbdb7",
   "metadata": {},
   "outputs": [],
   "source": [
    "\"\"\"In Python, the self parameter refers to the instance of the class that the method is being called on. It is \n",
    "a convention used to reference the object that the method is acting upon within the method's code. By convention,\n",
    "the first parameter of a class method should always be self, which allows the method to access and modify the \n",
    "instance variables and other methods of the object it is called on. \"\"\""
   ]
  },
  {
   "cell_type": "code",
   "execution_count": 3,
   "id": "642ecc43-33d8-4828-8010-c929f4280075",
   "metadata": {},
   "outputs": [
    {
     "ename": "SyntaxError",
     "evalue": "incomplete input (3687111736.py, line 4)",
     "output_type": "error",
     "traceback": [
      "\u001b[0;36m  Cell \u001b[0;32mIn[3], line 4\u001b[0;36m\u001b[0m\n\u001b[0;31m    \u001b[0m\n\u001b[0m    ^\u001b[0m\n\u001b[0;31mSyntaxError\u001b[0m\u001b[0;31m:\u001b[0m incomplete input\n"
     ]
    }
   ],
   "source": [
    "try:\n",
    "    age = int(input(\"enter your age\"))\n",
    "    validateAgeClass(age)\n",
    "    "
   ]
  },
  {
   "cell_type": "code",
   "execution_count": 4,
   "id": "25d5a3e3-1de0-4c7e-84a0-76e1b97ca3cf",
   "metadata": {},
   "outputs": [
    {
     "name": "stdin",
     "output_type": "stream",
     "text": [
      "enter your age -234\n"
     ]
    },
    {
     "name": "stdout",
     "output_type": "stream",
     "text": [
      "Age should never be less than zero\n"
     ]
    }
   ],
   "source": [
    "try:\n",
    "    age = int(input(\"enter your age\"))\n",
    "    validate_age(age)\n",
    "except validateAgeClass as e:\n",
    "    print(e)\n",
    "    \n",
    "    "
   ]
  },
  {
   "cell_type": "code",
   "execution_count": 5,
   "id": "54cd069b-87db-446f-9ab1-603d21c90ab8",
   "metadata": {},
   "outputs": [
    {
     "name": "stdin",
     "output_type": "stream",
     "text": [
      "enter your age 1234\n"
     ]
    },
    {
     "name": "stdout",
     "output_type": "stream",
     "text": [
      "Age is too high\n"
     ]
    }
   ],
   "source": [
    "try:\n",
    "    age = int(input(\"enter your age\"))\n",
    "    validate_age(age)\n",
    "except validateAgeClass as e:\n",
    "    print(e)"
   ]
  },
  {
   "cell_type": "code",
   "execution_count": null,
   "id": "7d5d3344-72c6-418b-a7ff-c5e1dea0e631",
   "metadata": {},
   "outputs": [],
   "source": []
  }
 ],
 "metadata": {
  "kernelspec": {
   "display_name": "Python 3 (ipykernel)",
   "language": "python",
   "name": "python3"
  },
  "language_info": {
   "codemirror_mode": {
    "name": "ipython",
    "version": 3
   },
   "file_extension": ".py",
   "mimetype": "text/x-python",
   "name": "python",
   "nbconvert_exporter": "python",
   "pygments_lexer": "ipython3",
   "version": "3.10.8"
  }
 },
 "nbformat": 4,
 "nbformat_minor": 5
}
