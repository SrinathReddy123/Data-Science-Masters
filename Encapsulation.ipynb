{
 "cells": [
  {
   "cell_type": "code",
   "execution_count": 1,
   "id": "9b5769b8-a218-423d-97bf-85fbc70eddb5",
   "metadata": {},
   "outputs": [],
   "source": [
    "class test:\n",
    "    def __init__(self,a,b):\n",
    "        self.a = a\n",
    "        self.b = b\n",
    "        \n",
    "        \n",
    "        \n",
    "        \n",
    "        \n",
    "# init() is a method which can be used to pass data inside a class. (It's a constructor)    \n",
    "    "
   ]
  },
  {
   "cell_type": "code",
   "execution_count": 2,
   "id": "ce856be6-0ba0-4bab-95cf-8b5937913887",
   "metadata": {},
   "outputs": [
    {
     "ename": "TypeError",
     "evalue": "test.__init__() missing 2 required positional arguments: 'a' and 'b'",
     "output_type": "error",
     "traceback": [
      "\u001b[0;31m---------------------------------------------------------------------------\u001b[0m",
      "\u001b[0;31mTypeError\u001b[0m                                 Traceback (most recent call last)",
      "Cell \u001b[0;32mIn[2], line 1\u001b[0m\n\u001b[0;32m----> 1\u001b[0m t \u001b[38;5;241m=\u001b[39m \u001b[43mtest\u001b[49m\u001b[43m(\u001b[49m\u001b[43m)\u001b[49m\n",
      "\u001b[0;31mTypeError\u001b[0m: test.__init__() missing 2 required positional arguments: 'a' and 'b'"
     ]
    }
   ],
   "source": [
    " t = test()"
   ]
  },
  {
   "cell_type": "code",
   "execution_count": 3,
   "id": "4e7fd7b0-0d1f-4e49-8ac3-66126eebc2c0",
   "metadata": {},
   "outputs": [],
   "source": [
    "t = test(4,5)"
   ]
  },
  {
   "cell_type": "code",
   "execution_count": 4,
   "id": "249de1c1-9149-419c-bc6e-0195654373f8",
   "metadata": {},
   "outputs": [
    {
     "data": {
      "text/plain": [
       "4"
      ]
     },
     "execution_count": 4,
     "metadata": {},
     "output_type": "execute_result"
    }
   ],
   "source": [
    "t.a"
   ]
  },
  {
   "cell_type": "code",
   "execution_count": 5,
   "id": "10666366-909e-4e78-9027-5be3364f27df",
   "metadata": {},
   "outputs": [
    {
     "data": {
      "text/plain": [
       "5"
      ]
     },
     "execution_count": 5,
     "metadata": {},
     "output_type": "execute_result"
    }
   ],
   "source": [
    "t.b"
   ]
  },
  {
   "cell_type": "code",
   "execution_count": 6,
   "id": "d453f82d-df08-4e75-8c2c-70a81c721b2b",
   "metadata": {},
   "outputs": [],
   "source": [
    "t.a = 1234\n",
    "\n",
    "# t.tab(press) -> we can see \"a\" and \"b\" as members of \"t\" class variable(object)"
   ]
  },
  {
   "cell_type": "code",
   "execution_count": 7,
   "id": "cbfbd51e-9398-4005-b80b-3a8ab71f4992",
   "metadata": {},
   "outputs": [
    {
     "data": {
      "text/plain": [
       "1234"
      ]
     },
     "execution_count": 7,
     "metadata": {},
     "output_type": "execute_result"
    }
   ],
   "source": [
    "t.a\n",
    "# Here we can access the variables and also can modify it. So here anyone can modify the values of object.\n",
    "# Anyone can do assignment or modify operation.\n",
    "# we don't allow this for each and every object that we create . We may for some objects.\n",
    "# Sometimes we have to take preventice measures. we should restrict user (they shouldn't be able to access this \n",
    "# particular variable directly.\n",
    "\n",
    "# this is where Encapsulation comes into picture. It will allows us to prevent any kind of direct access of data \n",
    "# or modification of data.\n",
    "\n",
    "\n",
    "# eg: A medical capsule we don't know the composition of chemicals that r used or we can't modify the\n",
    "# composition of chemicals inside the capsule.\n",
    "\n",
    "\n",
    "# Similarly we want to create a capsule kind of structure where user can use it,but user can't access data directly\n",
    "\n",
    "\n",
    "# User won't be able to modify data directly, if they have to make some changes,they will be able to do that \n",
    "# with the help of our own defined methods."
   ]
  },
  {
   "cell_type": "code",
   "execution_count": 8,
   "id": "c12e94c9-50d2-43c6-bf10-6b018453ef3b",
   "metadata": {},
   "outputs": [],
   "source": [
    "# Here why we used __ before variables\n",
    "# By default the members of class are public and anyone can access.\n",
    "# we used __ before a variable, which makes the members as Private.(we can access them directly only inside class)\n",
    "# For private members we can't access the members using an object.\n",
    "\n",
    "class car:\n",
    "    def __init__(self, year, make, model ,speed):\n",
    "        self.__year = year\n",
    "        self.__make = make\n",
    "        self.__model = model\n",
    "        self.__speed = speed\n",
    "        "
   ]
  },
  {
   "cell_type": "code",
   "execution_count": 9,
   "id": "1bb4255f-85f2-4d9e-bc04-360d03ee05f2",
   "metadata": {},
   "outputs": [
    {
     "ename": "TypeError",
     "evalue": "car.__init__() missing 4 required positional arguments: 'year', 'make', 'model', and 'speed'",
     "output_type": "error",
     "traceback": [
      "\u001b[0;31m---------------------------------------------------------------------------\u001b[0m",
      "\u001b[0;31mTypeError\u001b[0m                                 Traceback (most recent call last)",
      "Cell \u001b[0;32mIn[9], line 1\u001b[0m\n\u001b[0;32m----> 1\u001b[0m maruthi \u001b[38;5;241m=\u001b[39m \u001b[43mcar\u001b[49m\u001b[43m(\u001b[49m\u001b[43m)\u001b[49m\n",
      "\u001b[0;31mTypeError\u001b[0m: car.__init__() missing 4 required positional arguments: 'year', 'make', 'model', and 'speed'"
     ]
    }
   ],
   "source": [
    " maruthi = car()"
   ]
  },
  {
   "cell_type": "code",
   "execution_count": 11,
   "id": "a138de1c-33f4-489e-9bfb-3ff3851d3287",
   "metadata": {},
   "outputs": [],
   "source": [
    "maruthi_car = car(2023,\"maruthi\",\"claz\",100)"
   ]
  },
  {
   "cell_type": "code",
   "execution_count": 12,
   "id": "589f3771-4a7f-418a-8b81-78b9f0f320af",
   "metadata": {},
   "outputs": [
    {
     "ename": "AttributeError",
     "evalue": "'car' object has no attribute '__year'",
     "output_type": "error",
     "traceback": [
      "\u001b[0;31m---------------------------------------------------------------------------\u001b[0m",
      "\u001b[0;31mAttributeError\u001b[0m                            Traceback (most recent call last)",
      "Cell \u001b[0;32mIn[12], line 3\u001b[0m\n\u001b[1;32m      1\u001b[0m \u001b[38;5;66;03m# use objectname.tab(press on it) -> we can't see any kind of popup\u001b[39;00m\n\u001b[0;32m----> 3\u001b[0m \u001b[43mmaruthi_car\u001b[49m\u001b[38;5;241;43m.\u001b[39;49m\u001b[43m__year\u001b[49m\n",
      "\u001b[0;31mAttributeError\u001b[0m: 'car' object has no attribute '__year'"
     ]
    }
   ],
   "source": [
    "# use objectname.tab(press on it) -> we can't see any kind of popup\n",
    "\n",
    "maruthi_car.__year"
   ]
  },
  {
   "cell_type": "code",
   "execution_count": 13,
   "id": "632bff73-0c42-4584-b31d-dcbb3a08b4c0",
   "metadata": {},
   "outputs": [
    {
     "data": {
      "text/plain": [
       "2023"
      ]
     },
     "execution_count": 13,
     "metadata": {},
     "output_type": "execute_result"
    }
   ],
   "source": [
    "maruthi_car._car__year\n",
    "\n",
    "# we should use objname._classname__membername to access private members using class name\n",
    "# our code base will be hidden from everyone."
   ]
  },
  {
   "cell_type": "code",
   "execution_count": 14,
   "id": "a7db0da1-d287-482c-9524-dbd88cc8c143",
   "metadata": {},
   "outputs": [],
   "source": [
    "maruthi_car._car__year = 2022"
   ]
  },
  {
   "cell_type": "code",
   "execution_count": 15,
   "id": "b5100d20-3494-4b7c-9355-3a0eb6c616a9",
   "metadata": {},
   "outputs": [
    {
     "data": {
      "text/plain": [
       "2022"
      ]
     },
     "execution_count": 15,
     "metadata": {},
     "output_type": "execute_result"
    }
   ],
   "source": [
    "maruthi_car._car__year"
   ]
  },
  {
   "cell_type": "code",
   "execution_count": null,
   "id": "194019f9-dcc4-417f-af36-976dbe994b7e",
   "metadata": {},
   "outputs": [],
   "source": [
    "# Any user who is not a creator(part) of this, they will not be able to either see or access it.\n",
    "\n",
    "# what kind of privileges we should have for other users to access our private members of class??\n",
    "# we should create a public method through which others will be able to access the members.\n",
    "\n",
    "# If we don't create any public method, then no one will be able to access the members.\n",
    "# This is called Encapsulation.(Hiding the entire implementation of class members "
   ]
  },
  {
   "cell_type": "code",
   "execution_count": 16,
   "id": "5bf004c0-622b-4357-9375-aaa8f162b6b1",
   "metadata": {},
   "outputs": [],
   "source": [
    "class car:\n",
    "    def __init__(self, year, make, model ,speed):\n",
    "        self.__year = year\n",
    "        self.__make = make\n",
    "        self.__model = model\n",
    "        self.__speed = speed\n",
    "        \n",
    "    def set_speed(self,speed):\n",
    "        self.__speed = o if speed < 0 else speed\n",
    "        "
   ]
  },
  {
   "cell_type": "code",
   "execution_count": 20,
   "id": "4a723350-ecf1-4b32-bbd7-0d1eaa602df6",
   "metadata": {},
   "outputs": [],
   "source": [
    "nexon_car = car(2023,\"tata\",\"nexon\",100)"
   ]
  },
  {
   "cell_type": "code",
   "execution_count": null,
   "id": "26c4ad26-3c92-49b0-b8f4-a5e5c4e23a5c",
   "metadata": {},
   "outputs": [],
   "source": [
    "# Here we can access it inside the method of the particular class.\n",
    "# How can someone from outside the method's class can access it?\n",
    "\n",
    "# use objectname.tab(click on it) -> Then we can see \n",
    "# objectname.method_name\n",
    "\n",
    "\n",
    "# Here in the above case,user can update/set the speed, but user can't see the speed value"
   ]
  },
  {
   "cell_type": "code",
   "execution_count": 19,
   "id": "794e28fd-f114-49aa-9dce-74979807109f",
   "metadata": {},
   "outputs": [
    {
     "ename": "AttributeError",
     "evalue": "'car' object has no attribute 'set_speed'",
     "output_type": "error",
     "traceback": [
      "\u001b[0;31m---------------------------------------------------------------------------\u001b[0m",
      "\u001b[0;31mAttributeError\u001b[0m                            Traceback (most recent call last)",
      "Cell \u001b[0;32mIn[19], line 1\u001b[0m\n\u001b[0;32m----> 1\u001b[0m \u001b[43mmaruthi_car\u001b[49m\u001b[38;5;241;43m.\u001b[39;49m\u001b[43mset_speed\u001b[49m(\u001b[38;5;241m-\u001b[39m\u001b[38;5;241m1234\u001b[39m)\n",
      "\u001b[0;31mAttributeError\u001b[0m: 'car' object has no attribute 'set_speed'"
     ]
    }
   ],
   "source": [
    "maruthi_car.set_speed(-1234)"
   ]
  },
  {
   "cell_type": "code",
   "execution_count": 21,
   "id": "9d59496f-eb26-4614-9ba7-3c779463e820",
   "metadata": {},
   "outputs": [
    {
     "data": {
      "text/plain": [
       "100"
      ]
     },
     "execution_count": 21,
     "metadata": {},
     "output_type": "execute_result"
    }
   ],
   "source": [
    "maruthi_car._car__speed"
   ]
  },
  {
   "cell_type": "code",
   "execution_count": null,
   "id": "98e37cfb-fd7d-4bc6-82ac-120335443adf",
   "metadata": {},
   "outputs": [],
   "source": [
    "# For others, outside people9other than creators of class) they can't see speed \n",
    "# objname.tab(click on it) -> we get set-speed method\n",
    "nexon_car.set_speed "
   ]
  },
  {
   "cell_type": "code",
   "execution_count": 22,
   "id": "19c6a789-2675-44fa-af71-5db07e8d4580",
   "metadata": {},
   "outputs": [],
   "source": [
    "# we want to give privilege to user,then we should create a function\n",
    "\n",
    "class car:\n",
    "    def __init__(self, year, make, model ,speed):\n",
    "        self.__year = year\n",
    "        self.__make = make\n",
    "        self.__model = model\n",
    "        self.__speed = speed\n",
    "        \n",
    "    def set_speed(self,speed):\n",
    "        self.__speed = o if speed < 0 else speed\n",
    "    def get_speed(self):\n",
    "        return self.__speed"
   ]
  },
  {
   "cell_type": "code",
   "execution_count": 23,
   "id": "5b5bb253-8c9c-4774-ba06-d3a4b09ab775",
   "metadata": {},
   "outputs": [],
   "source": [
    "thar_car = car(2023,\"Mahinda\",\"thar\",100)"
   ]
  },
  {
   "cell_type": "code",
   "execution_count": 24,
   "id": "f8035200-5c8f-4de6-a953-d57e614a590d",
   "metadata": {},
   "outputs": [
    {
     "data": {
      "text/plain": [
       "100"
      ]
     },
     "execution_count": 24,
     "metadata": {},
     "output_type": "execute_result"
    }
   ],
   "source": [
    "thar_car.get_speed()"
   ]
  },
  {
   "cell_type": "code",
   "execution_count": null,
   "id": "5e03b013-b716-4057-9489-99c8824e835c",
   "metadata": {},
   "outputs": [],
   "source": [
    "# Encapsulation : We try to hide all the members that we have created, and we are not allowing users to access \n",
    "# them directly, to access them user should go through a public method that is created by class creator."
   ]
  },
  {
   "cell_type": "code",
   "execution_count": 25,
   "id": "a480bcec-675b-48b1-994c-94ea9a70dc91",
   "metadata": {},
   "outputs": [],
   "source": [
    "# Here balance variable is Private variable, so we can't access the balance directly, we should definitely go \n",
    "# through a public method for accessing/modifying it unless they know the class name and object name both.\n",
    "\n",
    "class bank_account:\n",
    "    def __init__( self, balance):\n",
    "        self.__balance = balance\n",
    "        \n",
    "    def deposit(self, amount):\n",
    "        self.__balance = amount +  self.__balance \n",
    "        \n",
    "    def withdraw(self, amount):\n",
    "        if self.__balance > amount : \n",
    "            self.__balance = self.__balance - amount  \n",
    "            return True\n",
    "        else :\n",
    "            return False\n",
    "        \n",
    "    def get_balance(self):\n",
    "        return self.__balance\n",
    "        \n",
    "        \n",
    "        \n",
    "# Here we(Externally) can prevent everyone from changing the balance value and they won't be able to modify.\n",
    "# We are preventing everyone from accessing the variable directly, and mishappenings. Else people can manipulate \n",
    "# the systems. Because if anyone can access them directly, then they can make any changes on the members.\n",
    "\n",
    "# people can manipulate the complete purpose of class and methods with which we defined them.\n",
    "\n",
    "# Here through get_balance() people can find their bank balance instead of directly accessing it."
   ]
  },
  {
   "cell_type": "code",
   "execution_count": 26,
   "id": "99165aeb-0d3e-43d8-b749-69f405c1512e",
   "metadata": {},
   "outputs": [],
   "source": [
    "obj_bankaccnt = bank_account(10000)"
   ]
  },
  {
   "cell_type": "code",
   "execution_count": 27,
   "id": "e59442ef-95cd-45c7-aedb-a208636351eb",
   "metadata": {},
   "outputs": [
    {
     "data": {
      "text/plain": [
       "10000"
      ]
     },
     "execution_count": 27,
     "metadata": {},
     "output_type": "execute_result"
    }
   ],
   "source": [
    "# use obj_bankaccnt.tab(click on it) - we see deposit, withdraw and get_balance\n",
    "# Here through object we will be able to access only methods but not balance variable directly.\n",
    "obj_bankaccnt.get_balance()"
   ]
  },
  {
   "cell_type": "code",
   "execution_count": 28,
   "id": "a872c020-6d96-499b-9ac5-3347274d780d",
   "metadata": {},
   "outputs": [],
   "source": [
    "obj_bankaccnt.deposit(1234)"
   ]
  },
  {
   "cell_type": "code",
   "execution_count": 29,
   "id": "19e73c27-dd93-4192-b86b-2f2d5e0f0614",
   "metadata": {},
   "outputs": [
    {
     "data": {
      "text/plain": [
       "11234"
      ]
     },
     "execution_count": 29,
     "metadata": {},
     "output_type": "execute_result"
    }
   ],
   "source": [
    "obj_bankaccnt.get_balance()"
   ]
  },
  {
   "cell_type": "code",
   "execution_count": 30,
   "id": "5a2a6221-770a-4f90-9e40-09f9405ba70f",
   "metadata": {},
   "outputs": [
    {
     "data": {
      "text/plain": [
       "True"
      ]
     },
     "execution_count": 30,
     "metadata": {},
     "output_type": "execute_result"
    }
   ],
   "source": [
    "obj_bankaccnt.withdraw(1234)"
   ]
  },
  {
   "cell_type": "code",
   "execution_count": 31,
   "id": "41242134-9b20-4cea-b38b-c2526a408ac2",
   "metadata": {},
   "outputs": [
    {
     "data": {
      "text/plain": [
       "10000"
      ]
     },
     "execution_count": 31,
     "metadata": {},
     "output_type": "execute_result"
    }
   ],
   "source": [
    "obj_bankaccnt.get_balance()"
   ]
  },
  {
   "cell_type": "code",
   "execution_count": 32,
   "id": "6867e9a8-1756-446b-baa4-8422fb26b05a",
   "metadata": {},
   "outputs": [
    {
     "data": {
      "text/plain": [
       "False"
      ]
     },
     "execution_count": 32,
     "metadata": {},
     "output_type": "execute_result"
    }
   ],
   "source": [
    "obj_bankaccnt.withdraw(11234)"
   ]
  },
  {
   "cell_type": "code",
   "execution_count": null,
   "id": "a0bb8ef8-07fe-4f20-a187-c9882726c96f",
   "metadata": {},
   "outputs": [],
   "source": [
    "# Hiding the entire implementation(Background details)Showing only the essential things is called Encapsulation.\n",
    "# we can hide the internal composition and we expose whatever is required for user.Because we can't expose\n",
    "# everything to outer world.\n",
    "    "
   ]
  }
 ],
 "metadata": {
  "kernelspec": {
   "display_name": "Python 3 (ipykernel)",
   "language": "python",
   "name": "python3"
  },
  "language_info": {
   "codemirror_mode": {
    "name": "ipython",
    "version": 3
   },
   "file_extension": ".py",
   "mimetype": "text/x-python",
   "name": "python",
   "nbconvert_exporter": "python",
   "pygments_lexer": "ipython3",
   "version": "3.10.8"
  }
 },
 "nbformat": 4,
 "nbformat_minor": 5
}
