{
 "cells": [
  {
   "cell_type": "code",
   "execution_count": null,
   "id": "25fcf087-e18e-46aa-b052-fe9a2b111d5a",
   "metadata": {},
   "outputs": [],
   "source": [
    "Answer 1:"
   ]
  },
  {
   "cell_type": "markdown",
   "id": "9241c600-c158-45a4-a6ca-83d751c426e3",
   "metadata": {},
   "source": [
    "The open() function is used to open a file.\n",
    "\n",
    "The open() function takes two arguments: the first argument is the name of the file you want to open, and the second argument is the mode in which you want to open the file.\n",
    "\n",
    "Eg : file_object = open(file_name, mode)\n",
    "\n",
    "\n",
    "Here, file_name is a string that represents the name of the file you want to open, and mode is a string that represents the mode in which you want to open the file."
   ]
  },
  {
   "cell_type": "markdown",
   "id": "b302f3b9-bba0-409d-a2f0-1455fd67952b",
   "metadata": {},
   "source": [
    "Modes in which a file can be opened:\n",
    "    \n",
    "There are several modes in which you can open a file in Python, some of which are:\n",
    "\n",
    "\"r\": This is the default mode for opening a file. It opens the file for reading only. If the file does not exist, an error will be raised.\n",
    "\n",
    "\"w\": This mode opens the file for writing. If the file exists, it is truncated to zero length. If the file does not exist, a new file is created.\n",
    "\n",
    "\"a\": This mode opens the file for appending. If the file exists, new data is written to the end of the file. If the file does not exist, a new file is created.\n",
    "\n",
    "\"x\": This mode creates a new file and opens it for writing. If the file already exists, an error is raised.\n",
    "\n",
    "\"b\": This mode is used to open a file in binary mode.\n",
    "\n",
    "\"t\": This mode is used to open a file in text mode (default mode).\n",
    "\n",
    "\"+\": This mode is used to open a file for both reading and writing.   "
   ]
  },
  {
   "cell_type": "code",
   "execution_count": null,
   "id": "d3c31cea-3a9c-4ce1-85be-0dcd7c37be68",
   "metadata": {},
   "outputs": [],
   "source": [
    "Answer 2:"
   ]
  },
  {
   "cell_type": "markdown",
   "id": "e08846d8-9e75-4db0-8392-78e38a6e6b34",
   "metadata": {},
   "source": [
    "The close() function in Python is used to close a file that has been opened with the open() function.\n",
    "\n",
    "It is important to close a file after you have finished reading from or writing to it because it frees up system resources that were being used by the file, such as memory and open file descriptors.\n",
    "\n",
    "\n",
    "If you do not close a file after you have finished working with it, you may run into problems such as:\n",
    "\n",
    "The file may remain locked and inaccessible to other programs that need to access it.\n",
    "\n",
    "You may run out of file descriptors, which can cause your program to crash or behave unexpectedly.\n",
    "\n",
    "Your program may continue to use memory and other system resources that were being used by the file, which can slow down your program or even cause it to crash."
   ]
  },
  {
   "cell_type": "markdown",
   "id": "bbb2d6fa-d74a-4191-b0eb-36d64f9aacbc",
   "metadata": {},
   "source": [
    "In addition to freeing up system resources, closing a file also ensures that any changes you made to the file are written to disk. When you write data to a file, it is first stored in a buffer in memory. The close() function flushes this buffer and writes the data to the file on disk. If you do not close the file, the data in the buffer may not be written to the file, which can result in data loss."
   ]
  },
  {
   "cell_type": "code",
   "execution_count": null,
   "id": "60710a82-c828-44ed-8396-f6512789361a",
   "metadata": {},
   "outputs": [],
   "source": [
    "To close a file in Python, you simply need to call the close() function on the file object. \n",
    "Here's an example:\n",
    "\n"
   ]
  },
  {
   "cell_type": "markdown",
   "id": "8e04d101-80fd-453e-8bbe-0c470f66110c",
   "metadata": {},
   "source": [
    "file_object = open(\"file.txt\", \"r\")\n",
    "# Do something with a the file...\n",
    "file_object.close()\n"
   ]
  },
  {
   "cell_type": "markdown",
   "id": "789b4490-6204-4108-aff7-019d8024288b",
   "metadata": {},
   "source": [
    "In this example, the close() function is called on the file_object variable to close the file after it has been used."
   ]
  },
  {
   "cell_type": "code",
   "execution_count": null,
   "id": "250833cb-65c5-44d7-8960-7787f9d0a83a",
   "metadata": {},
   "outputs": [],
   "source": [
    "Answer 3:"
   ]
  },
  {
   "cell_type": "code",
   "execution_count": 2,
   "id": "877de1f6-b58d-4104-90b8-92cfee522d9a",
   "metadata": {},
   "outputs": [
    {
     "name": "stdout",
     "output_type": "stream",
     "text": [
      "I want to become a Data Scientist\n"
     ]
    }
   ],
   "source": [
    "# Open the file for writing\n",
    "file_object = open(\"sample.txt\", \"w\")\n",
    "\n",
    "# Write a string to the file\n",
    "file_object.write(\"I want to become a Data Scientist\")\n",
    "\n",
    "# Close the file\n",
    "file_object.close()\n",
    "\n",
    "# Open the file for reading\n",
    "file_object = open(\"sample.txt\", \"r\")\n",
    "\n",
    "# Read the content of the file\n",
    "file_content = file_object.read()\n",
    "\n",
    "# Close the file\n",
    "file_object.close()\n",
    "\n",
    "# Print the content of the file\n",
    "print(file_content)"
   ]
  },
  {
   "cell_type": "markdown",
   "id": "a163289a-d19d-42ab-a677-d5aacb360bba",
   "metadata": {},
   "source": [
    "In this program, we first open a file called \"sample.txt\" for writing using the \"w\" mode. We then write the string \"I want to become a Data Scientist\" to the file using the write() function, and then close the file using the close() function."
   ]
  },
  {
   "cell_type": "markdown",
   "id": "1b1236d7-fff0-4b0a-9c7a-0ffc1dc418bc",
   "metadata": {},
   "source": [
    "Next, we open the file again, this time for reading using the \"r\" mode. We read the contents of the file using the read() function and assign it to a variable called file_content. Finally, we close the file again using the close() function, and print the contents of the file to the console using the print() function."
   ]
  },
  {
   "cell_type": "markdown",
   "id": "cfdacafc-5599-44b3-9cb0-9648baad02a2",
   "metadata": {},
   "source": [
    "When you run this program, it will create a new text file called \"sample.txt\" in the same directory as your Python script, write the string \"I want to become a Data Scientist\" to the file, and then read the contents of the file and print it to the console."
   ]
  },
  {
   "cell_type": "code",
   "execution_count": null,
   "id": "cfcb5cb2-ced2-46ac-9b61-2a74a27e68d7",
   "metadata": {},
   "outputs": [],
   "source": [
    "Answer 4:"
   ]
  },
  {
   "cell_type": "markdown",
   "id": "51dcfa98-b100-4896-a39c-9ad64198373f",
   "metadata": {},
   "source": [
    "In Python, there are several methods that you can use to read data from a file. Here are three common methods for reading data from a file: read(), readline(), and readlines()."
   ]
  },
  {
   "cell_type": "markdown",
   "id": "e795fa5e-23b8-4f9d-9b45-bb4572b1fd27",
   "metadata": {},
   "source": [
    "1. read() method:\n",
    "The read() method is used to read the entire contents of a file as a single string. It takes an optional argument that specifies the number of characters to read. If you do not specify a number, read() will read the entire file. Here's an example of how to use read() to read the contents of a file:"
   ]
  },
  {
   "cell_type": "code",
   "execution_count": 3,
   "id": "a125e339-ac03-459c-b07f-f5a3ba16731e",
   "metadata": {},
   "outputs": [
    {
     "name": "stdout",
     "output_type": "stream",
     "text": [
      "I want to become a Data Scientist\n"
     ]
    }
   ],
   "source": [
    "# Open the file for reading\n",
    "file_object = open(\"sample.txt\", \"r\")\n",
    "\n",
    "# Read the entire contents of the file\n",
    "file_content = file_object.read()\n",
    "\n",
    "# Close the file\n",
    "file_object.close()\n",
    "\n",
    "# Print the contents of the file\n",
    "print(file_content)\n"
   ]
  },
  {
   "cell_type": "markdown",
   "id": "65024e4a-c2b4-425f-a5c8-d9264e60da1b",
   "metadata": {},
   "source": [
    "2. readline() method:\n",
    "\n",
    "The readline() method is used to read a single line from a file. It reads the characters in the line up to and including the newline character (\"\\n\"), and returns them as a string. Here's an example of how to use readline() to read a line from a file:"
   ]
  },
  {
   "cell_type": "code",
   "execution_count": 4,
   "id": "b8e23e51-dea2-401f-a4ce-ad43114d273c",
   "metadata": {},
   "outputs": [
    {
     "name": "stdout",
     "output_type": "stream",
     "text": [
      "I want to become a Data Scientist\n"
     ]
    }
   ],
   "source": [
    "# Open the file for reading\n",
    "file_object = open(\"sample.txt\", \"r\")\n",
    "\n",
    "# Read the first line of the file\n",
    "first_line = file_object.readline()\n",
    "\n",
    "# Close the file\n",
    "file_object.close()\n",
    "\n",
    "# Print the first line of the file\n",
    "print(first_line)\n"
   ]
  },
  {
   "cell_type": "markdown",
   "id": "13ca3a65-55e9-4bb0-9ebe-cb096bb3a68b",
   "metadata": {},
   "source": [
    "3. readlines() method:\n",
    "\n",
    "The readlines() method is used to read all the lines of a file and return them as a list of strings. Each string in the list represents a single line from the file. Here's an example of how to use readlines() to read all the lines of a file:"
   ]
  },
  {
   "cell_type": "code",
   "execution_count": 5,
   "id": "71dcefef-a298-470d-a90e-1edc104cfffd",
   "metadata": {},
   "outputs": [
    {
     "name": "stdout",
     "output_type": "stream",
     "text": [
      "I want to become a Data Scientist\n"
     ]
    }
   ],
   "source": [
    "# Open the file for reading\n",
    "file_object = open(\"sample.txt\", \"r\")\n",
    "\n",
    "# Read all the lines of the file\n",
    "all_lines = file_object.readlines()\n",
    "\n",
    "# Close the file\n",
    "file_object.close()\n",
    "\n",
    "# Print all the lines of the file\n",
    "for line in all_lines:\n",
    "    print(line)\n"
   ]
  },
  {
   "cell_type": "markdown",
   "id": "5ce0f0fa-98fa-4430-920d-d7d6543e4aba",
   "metadata": {},
   "source": [
    "In all three examples, we first open the file in read mode using the open() function. We then use one of the three methods (read(), readline(), or readlines()) to read data from the file. Finally, we close the file using the close() method."
   ]
  },
  {
   "cell_type": "markdown",
   "id": "3143fbe6-9a86-4d21-9572-c7eb242c3e95",
   "metadata": {},
   "source": [
    "The read() method returns a single string that contains the entire contents of the file, while the readline() method returns a single string that contains the first line of the file. The readlines() method returns a list of strings, where each string represents a single line from the file."
   ]
  },
  {
   "cell_type": "code",
   "execution_count": null,
   "id": "3f9cb3c9-7708-4323-b19c-b59ec2b48be8",
   "metadata": {},
   "outputs": [],
   "source": [
    "Answer 5:"
   ]
  },
  {
   "cell_type": "markdown",
   "id": "2195b939-5763-4f28-80c4-2d2459057f61",
   "metadata": {},
   "source": [
    "The with statement in Python is used to wrap the execution of a block of code with methods defined by a context manager. \n",
    "Context managers are objects that define the methods __enter__ and __exit__, and are used to manage resources such as files, network connections, and locks."
   ]
  },
  {
   "cell_type": "markdown",
   "id": "34c5b26f-a1b2-4589-8749-71e2fa3ac624",
   "metadata": {},
   "source": [
    "When used with the open() function, the with statement ensures that the file is properly opened and closed, even if an exception is raised during the execution of the block of code. This is particularly useful when working with files, as it helps prevent data loss and resource leaks."
   ]
  },
  {
   "cell_type": "markdown",
   "id": "73c4e783-357d-4fc1-98a1-7514caa7cb0a",
   "metadata": {},
   "source": [
    "The advantage of using with statement and open() together is that it simplifies the code and ensures that the file is properly closed after the block of code has executed. This means that there is no need to explicitly call file.close() at the end of the block, as it is automatically handled by the context manager."
   ]
  },
  {
   "cell_type": "code",
   "execution_count": null,
   "id": "7804fd9c-048b-4e31-acc2-43000dc97044",
   "metadata": {},
   "outputs": [],
   "source": [
    "Here is an example of how to use with statement and open() together to read the contents of a file:"
   ]
  },
  {
   "cell_type": "code",
   "execution_count": null,
   "id": "616d4814-deff-4644-a7e7-95bf98537379",
   "metadata": {},
   "outputs": [],
   "source": [
    "with open('sample.txt', 'r') as f:\n",
    "    contents = f.read()\n",
    "    print(contents)\n"
   ]
  },
  {
   "cell_type": "markdown",
   "id": "3275d9e5-3929-45ea-9943-8bee5703de7b",
   "metadata": {},
   "source": [
    "In this example, the with statement is used to open the file 'myfile.txt' for reading, and the contents of the file are stored in the variable contents. After the block of code is executed, the file is automatically closed by the context manager, even if an exception is raised."
   ]
  },
  {
   "cell_type": "markdown",
   "id": "b7ced8fb-10b8-4651-a8ff-d386c2bc4fb2",
   "metadata": {},
   "source": [
    "In summary, using with statement and open() together simplifies the code and ensures that the file is properly closed, making it a best practice for working with files in Python."
   ]
  },
  {
   "cell_type": "code",
   "execution_count": null,
   "id": "903eb096-bfe1-4a43-bf9c-258b5dbe3731",
   "metadata": {},
   "outputs": [],
   "source": [
    "Answer 6:\n",
    "    "
   ]
  },
  {
   "cell_type": "code",
   "execution_count": null,
   "id": "f35ae747-d7b8-45db-ad03-93037ad266b2",
   "metadata": {},
   "outputs": [],
   "source": [
    "The write() and writelines() functions are used to write data to a file in Python."
   ]
  },
  {
   "cell_type": "markdown",
   "id": "1d964f7c-fe56-4c74-b447-5b6bf8b808fa",
   "metadata": {},
   "source": [
    "The write() function is used to write a string of text to a file. It takes a string as its argument, and writes the contents of the string to the file. If the file already exists, the write() function overwrites the existing content. If the file doesn't exist, the write() function creates a new file with the specified name."
   ]
  },
  {
   "cell_type": "code",
   "execution_count": null,
   "id": "b10b1458-c45b-4bee-bede-544801c23e20",
   "metadata": {},
   "outputs": [],
   "source": [
    "Here's an example of using the write() function to write a string of text to a file:"
   ]
  },
  {
   "cell_type": "code",
   "execution_count": 6,
   "id": "fc7f63c9-e803-4f52-9b22-42b50ba5c5b1",
   "metadata": {},
   "outputs": [],
   "source": [
    "# Open a file for writing\n",
    "\n",
    "with open('myfile.txt', 'w') as f:\n",
    "    # Write a string to the file\n",
    "    f.write('Hello, world!')\n"
   ]
  },
  {
   "cell_type": "markdown",
   "id": "334545e8-53f8-4166-bc85-607177ce8a25",
   "metadata": {},
   "source": [
    "In this example, we open a file named myfile.txt for writing using the 'w' mode. We then use the write() function to write the string \"Hello, world!\" to the file."
   ]
  },
  {
   "cell_type": "code",
   "execution_count": null,
   "id": "2d7a9fac-613f-4c93-9cb4-a72de09d4784",
   "metadata": {},
   "outputs": [],
   "source": []
  },
  {
   "cell_type": "markdown",
   "id": "6f581d42-8f38-4d2e-81ac-0e7b20dc1e5a",
   "metadata": {},
   "source": [
    "The writelines() function is used to write a list of strings to a file. It takes a list of strings as its argument, and writes each string in the list to the file. If the file already exists, the writelines() function overwrites the existing content. If the file doesn't exist, the writelines() function creates a new file with the specified name"
   ]
  },
  {
   "cell_type": "code",
   "execution_count": null,
   "id": "6ade850f-b846-44a3-a4ac-38b3bb09a700",
   "metadata": {},
   "outputs": [],
   "source": [
    "Here's an example of using the writelines() function to write a list of strings to a file:"
   ]
  },
  {
   "cell_type": "code",
   "execution_count": 7,
   "id": "70d1c344-5710-400b-9b4e-1be078044f94",
   "metadata": {},
   "outputs": [],
   "source": [
    "# A list of strings\n",
    "lines = ['Line 1\\n', 'Line 2\\n', 'Line 3\\n']\n",
    "\n",
    "# Open a file for writing\n",
    "with open('myfile.txt', 'w') as f:\n",
    "    # Write the list of strings to the file\n",
    "    f.writelines(lines)\n"
   ]
  },
  {
   "cell_type": "markdown",
   "id": "92b4f597-918d-4e43-bb20-5861526b7918",
   "metadata": {},
   "source": [
    "In this example, we define a list of strings named lines. We then open a file named myfile.txt for writing using the 'w' mode. We then use the writelines() function to write the list of strings to the file. Each string in the list is written on a separate line."
   ]
  },
  {
   "cell_type": "markdown",
   "id": "061cd8f0-6cee-42fe-a4f9-a4a2d7360ad5",
   "metadata": {},
   "source": [
    "In summary, the write() function is used to write a single string to a file, while the writelines() function is used to write a list of strings to a file."
   ]
  }
 ],
 "metadata": {
  "kernelspec": {
   "display_name": "Python 3 (ipykernel)",
   "language": "python",
   "name": "python3"
  },
  "language_info": {
   "codemirror_mode": {
    "name": "ipython",
    "version": 3
   },
   "file_extension": ".py",
   "mimetype": "text/x-python",
   "name": "python",
   "nbconvert_exporter": "python",
   "pygments_lexer": "ipython3",
   "version": "3.10.8"
  }
 },
 "nbformat": 4,
 "nbformat_minor": 5
}
