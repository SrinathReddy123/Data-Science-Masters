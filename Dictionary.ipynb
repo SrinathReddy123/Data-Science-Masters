{
 "cells": [
  {
   "cell_type": "code",
   "execution_count": 1,
   "id": "1596fb8b-ba50-4cf8-b107-aa60a91b68fc",
   "metadata": {},
   "outputs": [],
   "source": [
    "# Dictionary is a collection of elements, we store data in <key,value> pair in a dictionary.\n",
    "# Key should always be unique in dictionary."
   ]
  },
  {
   "cell_type": "code",
   "execution_count": 2,
   "id": "1490fef4-e4a9-4c00-932c-a57f26b88646",
   "metadata": {},
   "outputs": [],
   "source": [
    "d = {}\n",
    "# defining a dictionary\n",
    "# In set,we accomodate a flat element."
   ]
  },
  {
   "cell_type": "code",
   "execution_count": 3,
   "id": "c06da931-0a6c-4e94-aac6-c2cd925c7c3d",
   "metadata": {},
   "outputs": [
    {
     "data": {
      "text/plain": [
       "dict"
      ]
     },
     "execution_count": 3,
     "metadata": {},
     "output_type": "execute_result"
    }
   ],
   "source": [
    "type(d)"
   ]
  },
  {
   "cell_type": "code",
   "execution_count": 4,
   "id": "60b076d7-84ea-4b0f-a3ee-b20896f3d479",
   "metadata": {},
   "outputs": [],
   "source": [
    "d1 = { \"name\" : \"srinath\" , \"mail\" : \"sri@gmail.com\" ,\"number\" : 23123 }\n",
    "\n",
    "# This is how we can store data in dictionary"
   ]
  },
  {
   "cell_type": "code",
   "execution_count": 5,
   "id": "8ec9dd2e-974f-49a7-b3f2-61288a5bb80c",
   "metadata": {},
   "outputs": [
    {
     "data": {
      "text/plain": [
       "dict"
      ]
     },
     "execution_count": 5,
     "metadata": {},
     "output_type": "execute_result"
    }
   ],
   "source": [
    "type(d1)"
   ]
  },
  {
   "cell_type": "code",
   "execution_count": 6,
   "id": "6034f075-3a92-4f39-92c2-701c53edd484",
   "metadata": {},
   "outputs": [
    {
     "data": {
      "text/plain": [
       "{'name': 'srinath', 'mail': 'sri@gmail.com', 'number': 23123}"
      ]
     },
     "execution_count": 6,
     "metadata": {},
     "output_type": "execute_result"
    }
   ],
   "source": [
    "d1"
   ]
  },
  {
   "cell_type": "code",
   "execution_count": 7,
   "id": "52d77eae-8322-42a7-b8da-b7fac83f9add",
   "metadata": {},
   "outputs": [],
   "source": [
    "# key can be anything, value can be anything\n",
    "\n",
    "d2 = { \"name\" : \"sudh\" , \"name\" : \"srinath\" }"
   ]
  },
  {
   "cell_type": "code",
   "execution_count": 8,
   "id": "4f3b6e4d-861e-4269-9113-c2702abd2ca6",
   "metadata": {},
   "outputs": [
    {
     "data": {
      "text/plain": [
       "{'name': 'srinath'}"
      ]
     },
     "execution_count": 8,
     "metadata": {},
     "output_type": "execute_result"
    }
   ],
   "source": [
    "d2"
   ]
  },
  {
   "cell_type": "code",
   "execution_count": 9,
   "id": "4429cb10-244c-4840-b1d3-340f61bfbcaa",
   "metadata": {},
   "outputs": [],
   "source": [
    "# If for kays having same name, then the most recently assigned value to the key will be considered\n",
    "# while creating a dictionary, key should always be unique.\n",
    "\n",
    "# If a key is existing in dictionary, and if e try to have another key with same name then it will update \n",
    "# the value for that key with new value that has to be inserted.\n",
    "\n",
    "# Dictionary will never allow us to have 2 or more keys with same name. Values for 2 or more keys can be same."
   ]
  },
  {
   "cell_type": "code",
   "execution_count": 10,
   "id": "a1800c69-9852-4f75-926f-dec749ef84ef",
   "metadata": {},
   "outputs": [],
   "source": [
    "# what are the possible values for key.\n",
    "# key can be string, numeric value,floating point number, boolean value.\n",
    "# key can't be special characters(@,#,$)\n",
    "\n",
    "d3 = { 234432 : 'abc' , 12.34 : \"sri\" , True : 123 }\n",
    "      "
   ]
  },
  {
   "cell_type": "code",
   "execution_count": 11,
   "id": "dfef39fb-e837-442a-ad9b-30b3624eaf79",
   "metadata": {},
   "outputs": [
    {
     "ename": "SyntaxError",
     "evalue": "invalid syntax (3607287855.py, line 1)",
     "output_type": "error",
     "traceback": [
      "\u001b[0;36m  Cell \u001b[0;32mIn[11], line 1\u001b[0;36m\u001b[0m\n\u001b[0;31m    d4 = { @ : \"asd\" }\u001b[0m\n\u001b[0m           ^\u001b[0m\n\u001b[0;31mSyntaxError\u001b[0m\u001b[0;31m:\u001b[0m invalid syntax\n"
     ]
    }
   ],
   "source": [
    "d4 = { @ : \"asd\" }"
   ]
  },
  {
   "cell_type": "code",
   "execution_count": null,
   "id": "93c9218e-1d88-4738-9d83-eea9e069cae1",
   "metadata": {},
   "outputs": [],
   "source": [
    "# can we take a list as key in dictionary?? -> No,because List is unhashable type.\n",
    "\n",
    "d5 = { [1,2,3] : \"abc\" }"
   ]
  },
  {
   "cell_type": "code",
   "execution_count": null,
   "id": "bbe33d62-cfcc-44f3-b8df-c1e6f6a0eaef",
   "metadata": {},
   "outputs": [],
   "source": [
    "# can we take a list as key in dictionary?? -> Yes \n",
    "\n",
    "d6 = { (1,2,3) : \"srinath\" }"
   ]
  },
  {
   "cell_type": "code",
   "execution_count": null,
   "id": "a49ae0a0-eab8-485a-a844-e12ff81ae581",
   "metadata": {},
   "outputs": [],
   "source": [
    "d6"
   ]
  },
  {
   "cell_type": "code",
   "execution_count": null,
   "id": "e2a54dc3-814a-478c-83df-b6a47225a2a3",
   "metadata": {},
   "outputs": [],
   "source": [
    "# can we take a set as key in dictionary??  -> No\n",
    "\n",
    "d7 = { {1,2,3} : \"abc\" }"
   ]
  },
  {
   "cell_type": "code",
   "execution_count": null,
   "id": "53255a29-12a6-4a43-b73c-228114d4adb0",
   "metadata": {},
   "outputs": [],
   "source": [
    "# # can we take a dictionary as key in dictionary?? \n",
    "\n",
    "d11 = { {\"key\": 123} : \"abc\" }"
   ]
  },
  {
   "cell_type": "code",
   "execution_count": 12,
   "id": "d9697a41-be15-44ee-9d32-9c36dd243878",
   "metadata": {},
   "outputs": [],
   "source": [
    "# From collections point of view, we can consider only tuples as key.\n",
    "# List,set,dictionary and special character can't be considered as key in dictionary."
   ]
  },
  {
   "cell_type": "code",
   "execution_count": 13,
   "id": "41e9f453-a9e3-40b8-ab57-8a141374d376",
   "metadata": {},
   "outputs": [],
   "source": [
    "d12 = {\"course_name\" : [\"Data Science Masters\", \"We dev\", \"Java with DSA & System Design\"] } "
   ]
  },
  {
   "cell_type": "code",
   "execution_count": 14,
   "id": "8b81c0a4-5648-4bc6-a6e5-e981346f720e",
   "metadata": {},
   "outputs": [
    {
     "data": {
      "text/plain": [
       "{'course_name': ['Data Science Masters',\n",
       "  'We dev',\n",
       "  'Java with DSA & System Design']}"
      ]
     },
     "execution_count": 14,
     "metadata": {},
     "output_type": "execute_result"
    }
   ],
   "source": [
    "# we can have list as a value in a dictionary.\n",
    "\n",
    "d12"
   ]
  },
  {
   "cell_type": "code",
   "execution_count": 15,
   "id": "ae6dc5c8-ceb4-4677-9c18-52bd23d3ed07",
   "metadata": {},
   "outputs": [],
   "source": [
    "d13 = { \"key\" : (1,2,3,4) }"
   ]
  },
  {
   "cell_type": "code",
   "execution_count": 16,
   "id": "843c2538-e72d-4462-8cb4-e98b98584095",
   "metadata": {},
   "outputs": [],
   "source": [
    "d14 = { \"key\" : {1,2,3,4} }"
   ]
  },
  {
   "cell_type": "code",
   "execution_count": 17,
   "id": "ab701a60-b190-4d17-8dfd-281f5d2ca4cf",
   "metadata": {},
   "outputs": [],
   "source": [
    "#  we can have tuple,set as a value in a dictionary."
   ]
  },
  {
   "cell_type": "code",
   "execution_count": 18,
   "id": "b763c066-a58b-4c64-9ffe-f46fd070828f",
   "metadata": {},
   "outputs": [],
   "source": [
    "# can we have a dictionary as a value in a dictionary?? -> Yes. It is called Nested dictionary\n",
    "\n",
    "d15 = { \"key\" : {\"qwe\" : 123, \"name\" : \"sudh\" , \"classes\" : \"DataScienceMasters\" } }"
   ]
  },
  {
   "cell_type": "code",
   "execution_count": 19,
   "id": "4472293a-0ded-4892-9383-3bc5cc825b57",
   "metadata": {},
   "outputs": [],
   "source": [
    "d16 = { \"batch_name\" : [\"Data science masters\", \"web dev\",\"Java with DSA&System Design\"], \n",
    "                        \"start_date\" : (28,14,21) , \n",
    "       \"mentor_name\" : {\"krish naik\",\"sudhanshu\",\"Hitesh\",\"NavinReddy\",\"Hyder\",\"Anurag\" }  }"
   ]
  },
  {
   "cell_type": "code",
   "execution_count": 20,
   "id": "d9b90b65-e94c-4c3d-9b41-f20cf177254b",
   "metadata": {},
   "outputs": [
    {
     "data": {
      "text/plain": [
       "{'batch_name': ['Data science masters',\n",
       "  'web dev',\n",
       "  'Java with DSA&System Design'],\n",
       " 'start_date': (28, 14, 21),\n",
       " 'mentor_name': {'Anurag',\n",
       "  'Hitesh',\n",
       "  'Hyder',\n",
       "  'NavinReddy',\n",
       "  'krish naik',\n",
       "  'sudhanshu'}}"
      ]
     },
     "execution_count": 20,
     "metadata": {},
     "output_type": "execute_result"
    }
   ],
   "source": [
    "d16"
   ]
  },
  {
   "cell_type": "code",
   "execution_count": 21,
   "id": "ec1a5e0d-9141-4851-8c82-9ae19d22443f",
   "metadata": {},
   "outputs": [],
   "source": [
    "# Adding new <key,value> pair to a dictionary\n",
    "\n",
    "d16['timing'] = (8,8,8)\n"
   ]
  },
  {
   "cell_type": "code",
   "execution_count": 22,
   "id": "e75af5b9-74b1-4902-b0d9-b28f8b589ee4",
   "metadata": {},
   "outputs": [],
   "source": [
    "# If we give an existing key, then it will update the value of it in dictionary.It won't create a new key with\n",
    "# same name."
   ]
  },
  {
   "cell_type": "code",
   "execution_count": 23,
   "id": "68905f70-6d1a-4bc0-a848-45f09a5bc575",
   "metadata": {},
   "outputs": [
    {
     "data": {
      "text/plain": [
       "['Data science masters', 'web dev', 'Java with DSA&System Design']"
      ]
     },
     "execution_count": 23,
     "metadata": {},
     "output_type": "execute_result"
    }
   ],
   "source": [
    "# Extracting a particular data from a dictionary.\n",
    "\n",
    "# In dictionary, the key behaves as index i.e to obtain a particular key's value: use dictname['keyname']\n",
    "\n",
    "d16['batch_name']\n",
    "\n"
   ]
  },
  {
   "cell_type": "code",
   "execution_count": 24,
   "id": "57a48fbf-31ac-49ab-b1b8-8fb3cbe77ca5",
   "metadata": {},
   "outputs": [
    {
     "data": {
      "text/plain": [
       "{'Anurag', 'Hitesh', 'Hyder', 'NavinReddy', 'krish naik', 'sudhanshu'}"
      ]
     },
     "execution_count": 24,
     "metadata": {},
     "output_type": "execute_result"
    }
   ],
   "source": [
    "d16['mentor_name']"
   ]
  },
  {
   "cell_type": "code",
   "execution_count": 25,
   "id": "2640e367-629a-4927-ab2c-1aebf41b84c2",
   "metadata": {},
   "outputs": [
    {
     "data": {
      "text/plain": [
       "set"
      ]
     },
     "execution_count": 25,
     "metadata": {},
     "output_type": "execute_result"
    }
   ],
   "source": [
    "type(d16['mentor_name'])"
   ]
  },
  {
   "cell_type": "code",
   "execution_count": 26,
   "id": "72a4ee9c-1ce2-48dd-8553-322a81028aaa",
   "metadata": {},
   "outputs": [
    {
     "ename": "KeyError",
     "evalue": "'key1'",
     "output_type": "error",
     "traceback": [
      "\u001b[0;31m---------------------------------------------------------------------------\u001b[0m",
      "\u001b[0;31mKeyError\u001b[0m                                  Traceback (most recent call last)",
      "Cell \u001b[0;32mIn[26], line 3\u001b[0m\n\u001b[1;32m      1\u001b[0m \u001b[38;5;66;03m# what happens if we search for a key that is not present in dictionary.\u001b[39;00m\n\u001b[1;32m      2\u001b[0m \u001b[38;5;66;03m# It simply gives KeyError\u001b[39;00m\n\u001b[0;32m----> 3\u001b[0m \u001b[43md16\u001b[49m\u001b[43m[\u001b[49m\u001b[38;5;124;43m'\u001b[39;49m\u001b[38;5;124;43mkey1\u001b[39;49m\u001b[38;5;124;43m'\u001b[39;49m\u001b[43m]\u001b[49m\n",
      "\u001b[0;31mKeyError\u001b[0m: 'key1'"
     ]
    }
   ],
   "source": [
    "# what happens if we search for a key that is not present in dictionary.\n",
    "# It simply gives KeyError\n",
    "d16['key1']"
   ]
  },
  {
   "cell_type": "code",
   "execution_count": 27,
   "id": "c1105008-2ef1-41d5-aee1-b62941a7082a",
   "metadata": {},
   "outputs": [],
   "source": [
    "d16['name'] = \"sudhanshu\""
   ]
  },
  {
   "cell_type": "code",
   "execution_count": 28,
   "id": "c1864e31-dfb7-4120-b165-e1ecefdf6850",
   "metadata": {},
   "outputs": [
    {
     "data": {
      "text/plain": [
       "{'batch_name': ['Data science masters',\n",
       "  'web dev',\n",
       "  'Java with DSA&System Design'],\n",
       " 'start_date': (28, 14, 21),\n",
       " 'mentor_name': {'Anurag',\n",
       "  'Hitesh',\n",
       "  'Hyder',\n",
       "  'NavinReddy',\n",
       "  'krish naik',\n",
       "  'sudhanshu'},\n",
       " 'timing': (8, 8, 8),\n",
       " 'name': 'sudhanshu'}"
      ]
     },
     "execution_count": 28,
     "metadata": {},
     "output_type": "execute_result"
    }
   ],
   "source": [
    "d16"
   ]
  },
  {
   "cell_type": "code",
   "execution_count": 29,
   "id": "f3d77eaa-cb5f-4c86-b7c3-9703bb2abaa0",
   "metadata": {},
   "outputs": [
    {
     "data": {
      "text/plain": [
       "'sudhanshu'"
      ]
     },
     "execution_count": 29,
     "metadata": {},
     "output_type": "execute_result"
    }
   ],
   "source": [
    "d16['name']"
   ]
  },
  {
   "cell_type": "code",
   "execution_count": 30,
   "id": "18f3452f-5dc9-42dc-aabb-124f282fe668",
   "metadata": {},
   "outputs": [
    {
     "data": {
      "text/plain": [
       "'SUDHANSHU'"
      ]
     },
     "execution_count": 30,
     "metadata": {},
     "output_type": "execute_result"
    }
   ],
   "source": [
    "# To get result in uppercase format\n",
    "d16['name'].upper()"
   ]
  },
  {
   "cell_type": "code",
   "execution_count": 31,
   "id": "1a9c257b-e50d-43eb-80aa-91174a9068e5",
   "metadata": {},
   "outputs": [
    {
     "data": {
      "text/plain": [
       "{'key': {'qwe': 123, 'name': 'sudh', 'classes': 'DataScienceMasters'}}"
      ]
     },
     "execution_count": 31,
     "metadata": {},
     "output_type": "execute_result"
    }
   ],
   "source": [
    "d15"
   ]
  },
  {
   "cell_type": "code",
   "execution_count": 32,
   "id": "0daa3d60-8c8e-4940-ab64-d34e808b665b",
   "metadata": {},
   "outputs": [],
   "source": [
    "# Assume we have to extract 123 from d15 dictionary"
   ]
  },
  {
   "cell_type": "code",
   "execution_count": 33,
   "id": "46ae1acb-136a-4178-84fc-ed513a961683",
   "metadata": {},
   "outputs": [
    {
     "data": {
      "text/plain": [
       "{'qwe': 123, 'name': 'sudh', 'classes': 'DataScienceMasters'}"
      ]
     },
     "execution_count": 33,
     "metadata": {},
     "output_type": "execute_result"
    }
   ],
   "source": [
    "d15['key']"
   ]
  },
  {
   "cell_type": "code",
   "execution_count": 34,
   "id": "8b49a66f-6a81-42f4-89c2-0dd531f70f77",
   "metadata": {},
   "outputs": [
    {
     "data": {
      "text/plain": [
       "dict"
      ]
     },
     "execution_count": 34,
     "metadata": {},
     "output_type": "execute_result"
    }
   ],
   "source": [
    "type(d15['key'])"
   ]
  },
  {
   "cell_type": "code",
   "execution_count": 35,
   "id": "2c586847-c205-4e14-a9d8-c606c9a8ec79",
   "metadata": {},
   "outputs": [
    {
     "data": {
      "text/plain": [
       "123"
      ]
     },
     "execution_count": 35,
     "metadata": {},
     "output_type": "execute_result"
    }
   ],
   "source": [
    "d15['key']['qwe']\n",
    "\n",
    "# Here we just need to go one level after the other"
   ]
  },
  {
   "cell_type": "code",
   "execution_count": 36,
   "id": "bd462388-adce-42c5-a483-6b6ca90be577",
   "metadata": {},
   "outputs": [
    {
     "data": {
      "text/plain": [
       "int"
      ]
     },
     "execution_count": 36,
     "metadata": {},
     "output_type": "execute_result"
    }
   ],
   "source": [
    "type(d15['key']['qwe'])"
   ]
  },
  {
   "cell_type": "code",
   "execution_count": 37,
   "id": "b1c3ca4b-af58-4540-a40d-2cd2680c9785",
   "metadata": {},
   "outputs": [],
   "source": [
    "# Adding a new key into dictionary \n",
    "d15['key1'] = 'abc'"
   ]
  },
  {
   "cell_type": "code",
   "execution_count": 38,
   "id": "1f3e2d84-fcfd-43de-b06c-64fac111c962",
   "metadata": {},
   "outputs": [
    {
     "data": {
      "text/plain": [
       "{'key': {'qwe': 123, 'name': 'sudh', 'classes': 'DataScienceMasters'},\n",
       " 'key1': 'abc'}"
      ]
     },
     "execution_count": 38,
     "metadata": {},
     "output_type": "execute_result"
    }
   ],
   "source": [
    "d15"
   ]
  },
  {
   "cell_type": "code",
   "execution_count": 39,
   "id": "eda87596-da8a-4c7f-9e4e-12ae0a638d2e",
   "metadata": {},
   "outputs": [],
   "source": [
    "# Deleting a particular key.\n",
    "\n",
    "del d15['key1']"
   ]
  },
  {
   "cell_type": "code",
   "execution_count": 40,
   "id": "19e25e07-1cf1-4050-a6bf-584edad21b66",
   "metadata": {},
   "outputs": [
    {
     "data": {
      "text/plain": [
       "{'key': {'qwe': 123, 'name': 'sudh', 'classes': 'DataScienceMasters'}}"
      ]
     },
     "execution_count": 40,
     "metadata": {},
     "output_type": "execute_result"
    }
   ],
   "source": [
    "d15"
   ]
  },
  {
   "cell_type": "code",
   "execution_count": 41,
   "id": "c9d3b893-3048-4bb9-b1e8-13bec3d23499",
   "metadata": {},
   "outputs": [],
   "source": [
    "# clearing a dictionary. Deletes all the keys in the dictionary.\n",
    "\n",
    "d15.clear()"
   ]
  },
  {
   "cell_type": "code",
   "execution_count": 42,
   "id": "53d1cc92-d4dd-42ad-8e8b-fc5ceb890ff2",
   "metadata": {},
   "outputs": [
    {
     "data": {
      "text/plain": [
       "5"
      ]
     },
     "execution_count": 42,
     "metadata": {},
     "output_type": "execute_result"
    }
   ],
   "source": [
    "len(d16)\n",
    "\n",
    "# it returns the number of <key,value> pairs in a dictionary."
   ]
  },
  {
   "cell_type": "code",
   "execution_count": 43,
   "id": "18433628-445d-4918-8787-9a8dd9de7dc9",
   "metadata": {},
   "outputs": [
    {
     "data": {
      "text/plain": [
       "{'batch_name': ['Data science masters',\n",
       "  'web dev',\n",
       "  'Java with DSA&System Design'],\n",
       " 'start_date': (28, 14, 21),\n",
       " 'mentor_name': {'Anurag',\n",
       "  'Hitesh',\n",
       "  'Hyder',\n",
       "  'NavinReddy',\n",
       "  'krish naik',\n",
       "  'sudhanshu'},\n",
       " 'timing': (8, 8, 8),\n",
       " 'name': 'sudhanshu'}"
      ]
     },
     "execution_count": 43,
     "metadata": {},
     "output_type": "execute_result"
    }
   ],
   "source": [
    "d16"
   ]
  },
  {
   "cell_type": "code",
   "execution_count": 44,
   "id": "5c6e84e5-7505-48d3-a9ac-16eaf639b299",
   "metadata": {},
   "outputs": [
    {
     "data": {
      "text/plain": [
       "dict_keys(['batch_name', 'start_date', 'mentor_name', 'timing', 'name'])"
      ]
     },
     "execution_count": 44,
     "metadata": {},
     "output_type": "execute_result"
    }
   ],
   "source": [
    "# How to retrieve all the keys in a dictionary.\n",
    "# dict_name.keys() -> Predefined method for obtaining all the keys in dictionary.\n",
    "\n",
    "d16.keys()\n"
   ]
  },
  {
   "cell_type": "code",
   "execution_count": 45,
   "id": "15335c38-21e5-43b7-b6ab-49657925e0e8",
   "metadata": {},
   "outputs": [
    {
     "data": {
      "text/plain": [
       "dict_values([['Data science masters', 'web dev', 'Java with DSA&System Design'], (28, 14, 21), {'Hitesh', 'krish naik', 'sudhanshu', 'Anurag', 'NavinReddy', 'Hyder'}, (8, 8, 8), 'sudhanshu'])"
      ]
     },
     "execution_count": 45,
     "metadata": {},
     "output_type": "execute_result"
    }
   ],
   "source": [
    "# How to retrieve all the values in a dictionary.\n",
    "# dict_name.values() -> Predefined method for obtaining all the values in dictionary.\n",
    "\n",
    "d16.values()"
   ]
  },
  {
   "cell_type": "code",
   "execution_count": 46,
   "id": "c0fbd9df-766e-4c18-8306-584e0e465d19",
   "metadata": {},
   "outputs": [
    {
     "data": {
      "text/plain": [
       "[['Data science masters', 'web dev', 'Java with DSA&System Design'],\n",
       " (28, 14, 21),\n",
       " {'Anurag', 'Hitesh', 'Hyder', 'NavinReddy', 'krish naik', 'sudhanshu'},\n",
       " (8, 8, 8),\n",
       " 'sudhanshu']"
      ]
     },
     "execution_count": 46,
     "metadata": {},
     "output_type": "execute_result"
    }
   ],
   "source": [
    "# converting above output into a list\n",
    "# pass above thing as input to list()\n",
    "\n",
    "list(d16.values())\n"
   ]
  },
  {
   "cell_type": "code",
   "execution_count": 47,
   "id": "189bc1ed-811f-455c-aa02-0825c4affbc0",
   "metadata": {},
   "outputs": [
    {
     "data": {
      "text/plain": [
       "['batch_name', 'start_date', 'mentor_name', 'timing', 'name']"
      ]
     },
     "execution_count": 47,
     "metadata": {},
     "output_type": "execute_result"
    }
   ],
   "source": [
    "list(d16.keys())"
   ]
  },
  {
   "cell_type": "code",
   "execution_count": 48,
   "id": "062ef1b0-34bb-42a7-b227-3e298da5794a",
   "metadata": {},
   "outputs": [
    {
     "data": {
      "text/plain": [
       "dict_items([('batch_name', ['Data science masters', 'web dev', 'Java with DSA&System Design']), ('start_date', (28, 14, 21)), ('mentor_name', {'Hitesh', 'krish naik', 'sudhanshu', 'Anurag', 'NavinReddy', 'Hyder'}), ('timing', (8, 8, 8)), ('name', 'sudhanshu')])"
      ]
     },
     "execution_count": 48,
     "metadata": {},
     "output_type": "execute_result"
    }
   ],
   "source": [
    "# Extracting a list of <key,value> pair \n",
    "# dictionary_name.items() -> predefined method\n",
    "\n",
    "d16.items()"
   ]
  },
  {
   "cell_type": "code",
   "execution_count": 49,
   "id": "19092228-798c-4f3c-a5e6-c2230d88e2c8",
   "metadata": {},
   "outputs": [
    {
     "data": {
      "text/plain": [
       "[('batch_name',\n",
       "  ['Data science masters', 'web dev', 'Java with DSA&System Design']),\n",
       " ('start_date', (28, 14, 21)),\n",
       " ('mentor_name',\n",
       "  {'Anurag', 'Hitesh', 'Hyder', 'NavinReddy', 'krish naik', 'sudhanshu'}),\n",
       " ('timing', (8, 8, 8)),\n",
       " ('name', 'sudhanshu')]"
      ]
     },
     "execution_count": 49,
     "metadata": {},
     "output_type": "execute_result"
    }
   ],
   "source": [
    "list(d16.items())\n",
    "\n",
    "# Here the number of tuples will be equal to number of <key,value> pairs"
   ]
  },
  {
   "cell_type": "code",
   "execution_count": 50,
   "id": "bd5a45d6-9ff5-400e-baf4-b61f0db43331",
   "metadata": {},
   "outputs": [],
   "source": [
    "d17 = d16.copy()\n",
    "\n",
    "# using copy() ensures that we do deep copy,then it will reserve new space and places the same data here.\n",
    "# Any changes that are made in 1 dictionary will not be reflected on other dictionary as they are different copies. "
   ]
  },
  {
   "cell_type": "code",
   "execution_count": 51,
   "id": "78b3dd62-e4bb-4467-b419-dc30d55234c2",
   "metadata": {},
   "outputs": [
    {
     "data": {
      "text/plain": [
       "{'batch_name': ['Data science masters',\n",
       "  'web dev',\n",
       "  'Java with DSA&System Design'],\n",
       " 'start_date': (28, 14, 21),\n",
       " 'mentor_name': {'Anurag',\n",
       "  'Hitesh',\n",
       "  'Hyder',\n",
       "  'NavinReddy',\n",
       "  'krish naik',\n",
       "  'sudhanshu'},\n",
       " 'timing': (8, 8, 8),\n",
       " 'name': 'sudhanshu'}"
      ]
     },
     "execution_count": 51,
     "metadata": {},
     "output_type": "execute_result"
    }
   ],
   "source": [
    "d17\n",
    "\n",
    "# Here a seperate of the same dictionary will be created and d17 will be referring to the newly created dictionary.\n",
    "# But d16 will refer to existing copy of dictionary."
   ]
  },
  {
   "cell_type": "code",
   "execution_count": 52,
   "id": "09c1e166-10b8-45f8-97b1-a4723475036b",
   "metadata": {},
   "outputs": [],
   "source": [
    "d18 = d16\n",
    "\n",
    "# Here shallow copy will be done, where d18 refers to the existing copy dictionary.\n",
    "# So any changes that are made on d18 will be same reflected on d16 dictionary as well"
   ]
  },
  {
   "cell_type": "code",
   "execution_count": 53,
   "id": "88bc5c70-82d2-4a8b-b5b5-4dffdc755cd0",
   "metadata": {},
   "outputs": [
    {
     "data": {
      "text/plain": [
       "{'batch_name': ['Data science masters',\n",
       "  'web dev',\n",
       "  'Java with DSA&System Design'],\n",
       " 'start_date': (28, 14, 21),\n",
       " 'mentor_name': {'Anurag',\n",
       "  'Hitesh',\n",
       "  'Hyder',\n",
       "  'NavinReddy',\n",
       "  'krish naik',\n",
       "  'sudhanshu'},\n",
       " 'timing': (8, 8, 8),\n",
       " 'name': 'sudhanshu'}"
      ]
     },
     "execution_count": 53,
     "metadata": {},
     "output_type": "execute_result"
    }
   ],
   "source": [
    "d18"
   ]
  },
  {
   "cell_type": "code",
   "execution_count": 58,
   "id": "d4367a33-757e-4284-b804-c58c8f7a439d",
   "metadata": {},
   "outputs": [
    {
     "data": {
      "text/plain": [
       "{'batch_name': ['Data science masters',\n",
       "  'web dev',\n",
       "  'Java with DSA&System Design'],\n",
       " 'start_date': (28, 14, 21),\n",
       " 'mentor_name': {'Anurag',\n",
       "  'Hitesh',\n",
       "  'Hyder',\n",
       "  'NavinReddy',\n",
       "  'krish naik',\n",
       "  'sudhanshu'},\n",
       " 'timing': (8, 8, 8)}"
      ]
     },
     "execution_count": 58,
     "metadata": {},
     "output_type": "execute_result"
    }
   ],
   "source": [
    "d16"
   ]
  },
  {
   "cell_type": "code",
   "execution_count": 56,
   "id": "ac8f9136-34e8-43a8-b5c5-8d2bc1481f14",
   "metadata": {},
   "outputs": [
    {
     "ename": "KeyError",
     "evalue": "'name'",
     "output_type": "error",
     "traceback": [
      "\u001b[0;31m---------------------------------------------------------------------------\u001b[0m",
      "\u001b[0;31mKeyError\u001b[0m                                  Traceback (most recent call last)",
      "Cell \u001b[0;32mIn[56], line 1\u001b[0m\n\u001b[0;32m----> 1\u001b[0m \u001b[38;5;28;01mdel\u001b[39;00m d16[\u001b[38;5;124m'\u001b[39m\u001b[38;5;124mname\u001b[39m\u001b[38;5;124m'\u001b[39m]\n",
      "\u001b[0;31mKeyError\u001b[0m: 'name'"
     ]
    }
   ],
   "source": [
    "del d16['name']"
   ]
  },
  {
   "cell_type": "code",
   "execution_count": 57,
   "id": "2356885a-322b-40d3-ba84-f91c1053d9bc",
   "metadata": {},
   "outputs": [
    {
     "data": {
      "text/plain": [
       "{'batch_name': ['Data science masters',\n",
       "  'web dev',\n",
       "  'Java with DSA&System Design'],\n",
       " 'start_date': (28, 14, 21),\n",
       " 'mentor_name': {'Anurag',\n",
       "  'Hitesh',\n",
       "  'Hyder',\n",
       "  'NavinReddy',\n",
       "  'krish naik',\n",
       "  'sudhanshu'},\n",
       " 'timing': (8, 8, 8)}"
      ]
     },
     "execution_count": 57,
     "metadata": {},
     "output_type": "execute_result"
    }
   ],
   "source": [
    "d16\n"
   ]
  },
  {
   "cell_type": "code",
   "execution_count": 61,
   "id": "c062b416-3740-40cc-b504-284310ecde5c",
   "metadata": {},
   "outputs": [
    {
     "data": {
      "text/plain": [
       "{'batch_name': ['Data science masters',\n",
       "  'web dev',\n",
       "  'Java with DSA&System Design'],\n",
       " 'start_date': (28, 14, 21),\n",
       " 'mentor_name': {'Anurag',\n",
       "  'Hitesh',\n",
       "  'Hyder',\n",
       "  'NavinReddy',\n",
       "  'krish naik',\n",
       "  'sudhanshu'},\n",
       " 'timing': (8, 8, 8)}"
      ]
     },
     "execution_count": 61,
     "metadata": {},
     "output_type": "execute_result"
    }
   ],
   "source": [
    "d18"
   ]
  },
  {
   "cell_type": "code",
   "execution_count": 59,
   "id": "eb3c2f40-7c2c-41a2-92b6-5b48b20a92b0",
   "metadata": {},
   "outputs": [],
   "source": [
    "del d17['mentor_name']"
   ]
  },
  {
   "cell_type": "code",
   "execution_count": 60,
   "id": "26515af1-4978-4f5b-aca0-6ba0fffeb9f6",
   "metadata": {},
   "outputs": [
    {
     "data": {
      "text/plain": [
       "{'batch_name': ['Data science masters',\n",
       "  'web dev',\n",
       "  'Java with DSA&System Design'],\n",
       " 'start_date': (28, 14, 21),\n",
       " 'timing': (8, 8, 8),\n",
       " 'name': 'sudhanshu'}"
      ]
     },
     "execution_count": 60,
     "metadata": {},
     "output_type": "execute_result"
    }
   ],
   "source": [
    "d17"
   ]
  },
  {
   "cell_type": "code",
   "execution_count": 62,
   "id": "fe6176c3-19b7-41d4-92ae-ffbaf641bd37",
   "metadata": {},
   "outputs": [
    {
     "data": {
      "text/plain": [
       "{'batch_name': ['Data science masters',\n",
       "  'web dev',\n",
       "  'Java with DSA&System Design'],\n",
       " 'start_date': (28, 14, 21),\n",
       " 'mentor_name': {'Anurag',\n",
       "  'Hitesh',\n",
       "  'Hyder',\n",
       "  'NavinReddy',\n",
       "  'krish naik',\n",
       "  'sudhanshu'},\n",
       " 'timing': (8, 8, 8)}"
      ]
     },
     "execution_count": 62,
     "metadata": {},
     "output_type": "execute_result"
    }
   ],
   "source": [
    "d18"
   ]
  },
  {
   "cell_type": "code",
   "execution_count": null,
   "id": "70edba47-2396-4e72-8471-3f3633c6c17f",
   "metadata": {},
   "outputs": [],
   "source": [
    "# with shallow copy, new memory won't be allocated and so both will refer to same memory location."
   ]
  },
  {
   "cell_type": "code",
   "execution_count": 63,
   "id": "8c84fc46-2883-4d4d-af25-592e8f895230",
   "metadata": {},
   "outputs": [
    {
     "ename": "TypeError",
     "evalue": "pop expected at least 1 argument, got 0",
     "output_type": "error",
     "traceback": [
      "\u001b[0;31m---------------------------------------------------------------------------\u001b[0m",
      "\u001b[0;31mTypeError\u001b[0m                                 Traceback (most recent call last)",
      "Cell \u001b[0;32mIn[63], line 3\u001b[0m\n\u001b[1;32m      1\u001b[0m \u001b[38;5;66;03m# use dictionaryname.tab(click on it)  -> to check all the predefined methods.\u001b[39;00m\n\u001b[0;32m----> 3\u001b[0m \u001b[43md16\u001b[49m\u001b[38;5;241;43m.\u001b[39;49m\u001b[43mpop\u001b[49m\u001b[43m(\u001b[49m\u001b[43m)\u001b[49m\n",
      "\u001b[0;31mTypeError\u001b[0m: pop expected at least 1 argument, got 0"
     ]
    }
   ],
   "source": [
    "# use dictionaryname.tab(click on it)  -> to check all the predefined methods.\n",
    "\n",
    "d16.pop()"
   ]
  },
  {
   "cell_type": "code",
   "execution_count": 64,
   "id": "c62394d3-be1e-4630-8027-f665d9b48b47",
   "metadata": {},
   "outputs": [
    {
     "data": {
      "text/plain": [
       "(8, 8, 8)"
      ]
     },
     "execution_count": 64,
     "metadata": {},
     "output_type": "execute_result"
    }
   ],
   "source": [
    "# pop() -> removes a specific key and returns value for that key\n",
    "\n",
    "d16.pop('timing')"
   ]
  },
  {
   "cell_type": "code",
   "execution_count": 65,
   "id": "4c100c08-d8b2-4984-b585-287c082d2fe0",
   "metadata": {},
   "outputs": [
    {
     "data": {
      "text/plain": [
       "{'batch_name': ['Data science masters',\n",
       "  'web dev',\n",
       "  'Java with DSA&System Design'],\n",
       " 'start_date': (28, 14, 21),\n",
       " 'mentor_name': {'Anurag',\n",
       "  'Hitesh',\n",
       "  'Hyder',\n",
       "  'NavinReddy',\n",
       "  'krish naik',\n",
       "  'sudhanshu'}}"
      ]
     },
     "execution_count": 65,
     "metadata": {},
     "output_type": "execute_result"
    }
   ],
   "source": [
    "d16"
   ]
  },
  {
   "cell_type": "code",
   "execution_count": 66,
   "id": "0654d2a4-3f5e-455c-b2cb-e01c67d6423c",
   "metadata": {},
   "outputs": [
    {
     "data": {
      "text/plain": [
       "{'Anurag', 'Hitesh', 'Hyder', 'NavinReddy', 'krish naik', 'sudhanshu'}"
      ]
     },
     "execution_count": 66,
     "metadata": {},
     "output_type": "execute_result"
    }
   ],
   "source": [
    "d16.pop('mentor_name')"
   ]
  },
  {
   "cell_type": "code",
   "execution_count": 67,
   "id": "fc1f4cb3-460b-47b5-a2b8-f6e57fead7fd",
   "metadata": {},
   "outputs": [
    {
     "data": {
      "text/plain": [
       "{1: ('a', 'b', 'c'), 2: ('a', 'b', 'c'), 3: ('a', 'b', 'c')}"
      ]
     },
     "execution_count": 67,
     "metadata": {},
     "output_type": "execute_result"
    }
   ],
   "source": [
    "d.fromkeys((1,2,3),('a','b','c'))\n",
    "\n",
    "# fromkeys() - here the first parameter is iterables and for each element in 1st parameter, it will consider\n",
    "# the 2nd parameter as value for that key."
   ]
  },
  {
   "cell_type": "code",
   "execution_count": 68,
   "id": "a06d8707-299f-41f4-a491-ae3d9b7e8326",
   "metadata": {},
   "outputs": [],
   "source": [
    "d19 = { \"key1\" : \"value1\" , \"key2\" : \"value2\" }\n"
   ]
  },
  {
   "cell_type": "code",
   "execution_count": 69,
   "id": "463013a8-bdba-4ea4-bb2c-84adaed6ba7a",
   "metadata": {},
   "outputs": [],
   "source": [
    "d20 = { \"key3\" : \"value3\" , \"key4\" : \"value4\" }"
   ]
  },
  {
   "cell_type": "code",
   "execution_count": 70,
   "id": "42c64c44-6d81-4d91-84b5-89ce639bbb43",
   "metadata": {},
   "outputs": [
    {
     "data": {
      "text/plain": [
       "({'key1': 'value', 'key2': 'value2'}, {'key3': 'value3', 'key4': 'value4'})"
      ]
     },
     "execution_count": 70,
     "metadata": {},
     "output_type": "execute_result"
    }
   ],
   "source": [
    "# Assume we want to keep these 2 dictionaries in a tuple\n",
    "(d19,d20)"
   ]
  },
  {
   "cell_type": "code",
   "execution_count": 71,
   "id": "1eb100b7-b0da-49fd-81c0-132f1d069edc",
   "metadata": {},
   "outputs": [],
   "source": [
    "d19.update(d20)"
   ]
  },
  {
   "cell_type": "code",
   "execution_count": 72,
   "id": "5177c046-36b6-4ff8-9eab-edfc29964918",
   "metadata": {},
   "outputs": [
    {
     "data": {
      "text/plain": [
       "{'key1': 'value', 'key2': 'value2', 'key3': 'value3', 'key4': 'value4'}"
      ]
     },
     "execution_count": 72,
     "metadata": {},
     "output_type": "execute_result"
    }
   ],
   "source": [
    "d19\n",
    "\n",
    "# It will update all the <key,value> pairs that are present in d20 that are not present in d19.\n",
    "d19 = d19 union d20"
   ]
  },
  {
   "cell_type": "code",
   "execution_count": 73,
   "id": "50f3b3f8-4573-4ad0-9fc9-9279b5b99849",
   "metadata": {},
   "outputs": [],
   "source": [
    "d20.update(d19)"
   ]
  },
  {
   "cell_type": "code",
   "execution_count": 74,
   "id": "bfbe0603-c134-40df-a9fa-e5c203035a34",
   "metadata": {},
   "outputs": [
    {
     "data": {
      "text/plain": [
       "{'key3': 'value3', 'key4': 'value4', 'key1': 'value', 'key2': 'value2'}"
      ]
     },
     "execution_count": 74,
     "metadata": {},
     "output_type": "execute_result"
    }
   ],
   "source": [
    "d20"
   ]
  },
  {
   "cell_type": "code",
   "execution_count": 75,
   "id": "049c1919-94e7-43b1-86de-18acd0549b89",
   "metadata": {},
   "outputs": [],
   "source": [
    "# returns the value for key that is being passed, else retrun default.\n",
    "\n",
    "d20.get(\"sudh\")"
   ]
  },
  {
   "cell_type": "code",
   "execution_count": 76,
   "id": "4ec509b3-d4a5-4802-8838-62e895521759",
   "metadata": {},
   "outputs": [
    {
     "data": {
      "text/plain": [
       "'value3'"
      ]
     },
     "execution_count": 76,
     "metadata": {},
     "output_type": "execute_result"
    }
   ],
   "source": [
    "d20.get('key3')"
   ]
  },
  {
   "cell_type": "code",
   "execution_count": 77,
   "id": "67ad9e3a-c765-4685-8025-c9578ad69959",
   "metadata": {},
   "outputs": [
    {
     "data": {
      "text/plain": [
       "'value3'"
      ]
     },
     "execution_count": 77,
     "metadata": {},
     "output_type": "execute_result"
    }
   ],
   "source": [
    "d20['key3']"
   ]
  },
  {
   "cell_type": "code",
   "execution_count": null,
   "id": "a505c0e4-fb78-4566-86fc-6cf6bcd465c0",
   "metadata": {},
   "outputs": [],
   "source": [
    "# get() won't return KeyError, if key is not there in dictionary\n",
    "# but using indexing dict_name['keyname'] -> returns error it key doesn't exist in dictionary."
   ]
  },
  {
   "cell_type": "code",
   "execution_count": null,
   "id": "6776c135-218b-4b9b-bc8e-864f6169e014",
   "metadata": {},
   "outputs": [],
   "source": [
    "Dictionary Comprehension\n",
    "\n",
    "# Assume we have to create a dictionary, where key is 1 to 10 and values can be square of the keys.\n",
    "# range(a,b)  -> iterates from a to b-1 except upper bound."
   ]
  }
 ],
 "metadata": {
  "kernelspec": {
   "display_name": "Python 3 (ipykernel)",
   "language": "python",
   "name": "python3"
  },
  "language_info": {
   "codemirror_mode": {
    "name": "ipython",
    "version": 3
   },
   "file_extension": ".py",
   "mimetype": "text/x-python",
   "name": "python",
   "nbconvert_exporter": "python",
   "pygments_lexer": "ipython3",
   "version": "3.10.8"
  }
 },
 "nbformat": 4,
 "nbformat_minor": 5
}
