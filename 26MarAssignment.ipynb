{
 "cells": [
  {
   "cell_type": "markdown",
   "id": "c9ffd15b-3234-43ac-a564-c2ec5d6c77ff",
   "metadata": {},
   "source": [
    "Answer 1:"
   ]
  },
  {
   "cell_type": "markdown",
   "id": "36f84933-0afa-4f40-a1a1-4c1fd0bfed01",
   "metadata": {},
   "source": [
    "Simple linear regression and multiple linear regression are both techniques used in statistics to model the relationship between a dependent variable and one or more independent variables."
   ]
  },
  {
   "cell_type": "markdown",
   "id": "cc34eaaf-e68f-47e3-ae0d-23f8e9ec6095",
   "metadata": {},
   "source": [
    "Simple linear regression involves only one independent variable, whereas multiple linear regression involves two or more independent variables.\n",
    "\n",
    "An example of simple linear regression would be predicting the salary of an employee based on their years of experience. Here, salary is the dependent variable and years of experience is the independent variable."
   ]
  },
  {
   "cell_type": "markdown",
   "id": "f186ad41-c622-4c1a-b4e4-6e9337ff0474",
   "metadata": {},
   "source": [
    "On the other hand, an example of multiple linear regression would be predicting the price of a house based on several variables such as square footage, number of bedrooms, number of bathrooms, and location. Here, price is the dependent variable and square footage, number of bedrooms, number of bathrooms, and location are the independent variables.\n",
    "\n",
    "In summary, simple linear regression involves only one independent variable, while multiple linear regression involves two or more independent variables."
   ]
  },
  {
   "cell_type": "code",
   "execution_count": null,
   "id": "7787f3fe-9250-482e-9e7a-f50d3af12bb7",
   "metadata": {},
   "outputs": [],
   "source": [
    "Answer 2:"
   ]
  },
  {
   "cell_type": "markdown",
   "id": "78660ea6-24ec-4ffa-b9f2-a69585cb3252",
   "metadata": {},
   "source": [
    "Linear regression is a statistical technique used to model the relationship between a dependent variable and one or more independent variables. There are several assumptions associated with linear regression, and it is important to check whether these assumptions hold in a given dataset before interpreting the results of the analysis."
   ]
  },
  {
   "cell_type": "markdown",
   "id": "5cc1c6ae-e8bf-4d5d-9db3-1eb062d48981",
   "metadata": {},
   "source": [
    "The assumptions of linear regression are:\n",
    "\n",
    "1. Linearity: The relationship between the dependent variable and the independent variables should be linear.\n",
    "\n",
    "2. Independence: The observations should be independent of each other.\n",
    "\n",
    "3. Homoscedasticity: The variance of the errors should be constant across all levels of the independent variables.\n",
    "\n",
    "4. Normality: The errors should be normally distributed.\n",
    "\n",
    "5. No multicollinearity: The independent variables should not be highly correlated with each other."
   ]
  },
  {
   "cell_type": "markdown",
   "id": "7224e081-2a01-4767-976c-d25147fbf067",
   "metadata": {},
   "source": [
    "To check whether these assumptions hold in a given dataset, several diagnostic plots and tests can be used. Some of the commonly used methods are:\n",
    "\n",
    "1. Scatter plots: A scatter plot of the dependent variable against each independent variable can be used to check for linearity.\n",
    "\n",
    "2. Residual plots: A plot of the residuals (the difference between the observed and predicted values) against the predicted values can be used to check for homoscedasticity and linearity.\n",
    "\n",
    "3. QQ plots: A quantile-quantile (QQ) plot can be used to check for normality.\n",
    "\n",
    "4. Cook's distance: Cook's distance is a measure of the influence of each observation on the regression line. Large values of Cook's distance indicate influential observations that may be outliers.\n",
    "\n",
    "5. Variance inflation factor (VIF): The VIF can be used to check for multicollinearity between the independent variables"
   ]
  },
  {
   "cell_type": "markdown",
   "id": "1c9e4126-5a4c-4777-8d2b-3a433c48cca4",
   "metadata": {},
   "source": [
    "In summary, checking the assumptions of linear regression is an important step in analyzing data. Diagnostic plots and tests can be used to check for linearity, independence, homoscedasticity, normality, and multicollinearity in a given dataset."
   ]
  },
  {
   "cell_type": "code",
   "execution_count": null,
   "id": "cffc9e6e-9d05-46f9-a093-b7a4bc766cc3",
   "metadata": {},
   "outputs": [],
   "source": [
    "Answer 3:"
   ]
  },
  {
   "cell_type": "markdown",
   "id": "4689f3f1-ae2f-4dd2-b053-9b110bcba0fd",
   "metadata": {},
   "source": [
    "In a linear regression model, the slope and intercept are the parameters that describe the relationship between the dependent variable and independent variable(s). The slope measures the change in the dependent variable for each unit increase in the independent variable, while the intercept represents the value of the dependent variable when the independent variable(s) are equal to zero."
   ]
  },
  {
   "cell_type": "markdown",
   "id": "8f0efd94-f28b-4b7d-88e5-e8875a2c1137",
   "metadata": {},
   "source": [
    "To interpret the slope and intercept in a linear regression model, consider the following example:\n",
    "\n",
    "Suppose we have data on the relationship between the number of hours studied and the exam scores of a group of students. We fit a linear regression model to the data and obtain the following equation:\n",
    "\n",
    "Exam Score = 70 + 5*(Number of Hours Studied)\n",
    "\n",
    "Here, the intercept (70) represents the expected exam score for a student who has not studied at all (i.e., when the number of hours studied is zero). The slope (5) represents the expected increase in exam score for each additional hour studied."
   ]
  },
  {
   "cell_type": "markdown",
   "id": "b99e43a3-611d-44d9-ad29-66b446514f9e",
   "metadata": {},
   "source": [
    "Therefore, we can interpret the slope as follows: For every additional hour of studying, we expect the exam score to increase by 5 points, on average.\n",
    "\n",
    "Similarly, we can interpret the intercept as follows: For a student who has not studied at all, we expect their exam score to be 70 points, on average.\n",
    "\n",
    "In summary, the slope and intercept of a linear regression model represent the change in the dependent variable for each unit increase in the independent variable(s) and the value of the dependent variable when the independent variable(s) are equal to zero, respectively. These parameters can be interpreted in terms of the specific context of the data being analyzed."
   ]
  },
  {
   "cell_type": "code",
   "execution_count": null,
   "id": "f4f93686-85bd-4079-896e-bb1503777e9a",
   "metadata": {},
   "outputs": [],
   "source": []
  },
  {
   "cell_type": "code",
   "execution_count": null,
   "id": "018c99d1-9e6b-4bdf-9bff-b0c45a1d42b0",
   "metadata": {},
   "outputs": [],
   "source": [
    "Answer 4:"
   ]
  },
  {
   "cell_type": "markdown",
   "id": "b3fa1045-d14e-4333-80ea-1ccdb92f696c",
   "metadata": {},
   "source": [
    "Gradient descent is a numerical optimization algorithm used to minimize the error or cost function of a machine learning model. \n",
    "The cost function measures the difference between the predicted output and the actual output of the model, given a set of training data. The goal of gradient descent is to find the set of parameters (weights and biases) that minimize the cost function and produce the best predictions on new, unseen data."
   ]
  },
  {
   "cell_type": "markdown",
   "id": "bf96e67e-43d0-4f79-aa3b-a5c13ff680ba",
   "metadata": {},
   "source": [
    "The basic idea of gradient descent is to iteratively adjust the parameters of the model in the direction of steepest descent of the cost function. This is achieved by calculating the gradient (partial derivative) of the cost function with respect to each parameter, and updating the parameters in the direction of the negative gradient."
   ]
  },
  {
   "cell_type": "markdown",
   "id": "b7176a8c-65a5-41a8-8401-13ad0e9aace1",
   "metadata": {},
   "source": [
    "In each iteration of the algorithm, the parameters are updated using the following formula:\n",
    "\n",
    "θ = θ - α ∇J(θ)\n",
    "\n",
    "where θ is the vector of parameters, α is the learning rate (a hyperparameter that controls the step size of the updates), and ∇J(θ) is the gradient of the cost function with respect to θ."
   ]
  },
  {
   "cell_type": "markdown",
   "id": "833112fa-38a7-4cea-ad86-685760c5e005",
   "metadata": {},
   "source": [
    "The gradient descent algorithm continues iterating until convergence (i.e., the cost function no longer improves) or a maximum number of iterations is reached."
   ]
  },
  {
   "cell_type": "markdown",
   "id": "32c5bc91-e0d4-4e63-8aa6-2f04f39cf4f4",
   "metadata": {},
   "source": [
    "Gradient descent is used extensively in machine learning, particularly in training neural networks and other types of deep learning models. In these models, the cost function can be highly non-linear and high-dimensional, making it difficult or impossible to find the optimal set of parameters analytically.\n",
    "\n",
    "Gradient descent provides a scalable and efficient way to train these models by iteratively adjusting the parameters to minimize the cost function. By using the gradient descent algorithm, we can optimize complex models with millions of parameters and train them on large datasets."
   ]
  },
  {
   "cell_type": "code",
   "execution_count": null,
   "id": "5d8a812b-2e98-4c10-bdd4-77b63db4910e",
   "metadata": {},
   "outputs": [],
   "source": []
  },
  {
   "cell_type": "code",
   "execution_count": null,
   "id": "5fae888a-a5ef-4085-89ff-018c57d5c3ea",
   "metadata": {},
   "outputs": [],
   "source": [
    "Answer 5:"
   ]
  },
  {
   "cell_type": "markdown",
   "id": "1fc85492-fa1b-496b-a70e-846fa9ea6c0b",
   "metadata": {},
   "source": [
    "Multiple linear regression is a statistical technique used to model the relationship between a dependent variable and two or more independent variables. The multiple linear regression model extends the simple linear regression model, which models the relationship between a dependent variable and a single independent variable."
   ]
  },
  {
   "cell_type": "markdown",
   "id": "632bdfce-6d6b-49ee-91cb-bb0069f3aa19",
   "metadata": {},
   "source": [
    "In multiple linear regression, the relationship between the dependent variable and the independent variables is modeled using the following equation:\n",
    "\n",
    "Y = β0 + β1X1 + β2X2 + ... + βn*Xn + ε\n",
    "\n",
    "where Y is the dependent variable, X1, X2, ..., Xn are the independent variables, β0 is the intercept (the expected value of Y when all independent variables are zero), β1, β2, ..., βn are the coefficients (the expected change in Y for a one-unit increase in each independent variable, holding all other variables constant), and ε is the error term (the part of Y that cannot be explained by the independent variables)."
   ]
  },
  {
   "cell_type": "markdown",
   "id": "ba69371d-0534-49d5-8c5d-fd61600ef6a4",
   "metadata": {},
   "source": [
    "The multiple linear regression model differs from the simple linear regression model in that it can accommodate multiple independent variables, allowing us to model more complex relationships between the dependent variable and the independent variables.\n",
    "\n",
    "In simple linear regression, there is only one independent variable, and the relationship between the dependent variable and the independent variable is modeled as a straight line. In contrast, in multiple linear regression, the relationship between the dependent variable and the independent variables is modeled as a hyperplane (a higher-dimensional analogue of a line), allowing for more complex relationships between the variables."
   ]
  },
  {
   "cell_type": "markdown",
   "id": "b432c694-9deb-4319-a08a-1b9d069dee08",
   "metadata": {},
   "source": [
    "Additionally, the coefficients in multiple linear regression are interpreted differently than in simple linear regression. In simple linear regression, the coefficient represents the expected change in the dependent variable for a one-unit increase in the independent variable, holding all other variables constant.\n",
    "\n",
    "In multiple linear regression, each coefficient represents the expected change in the dependent variable for a one-unit increase in the corresponding independent variable, holding all other variables constant. This allows us to model the effects of multiple independent variables on the dependent variable simultaneously."
   ]
  },
  {
   "cell_type": "markdown",
   "id": "2324e690-509d-4838-b4b4-8d1366fe9b0a",
   "metadata": {},
   "source": [
    "In summary, multiple linear regression is an extension of simple linear regression that allows us to model the relationship between a dependent variable and two or more independent variables. The multiple linear regression model can accommodate more complex relationships between the variables, and the coefficients are interpreted differently than in simple linear regression."
   ]
  },
  {
   "cell_type": "code",
   "execution_count": null,
   "id": "151a2176-8840-4549-ad08-3e918420bf0f",
   "metadata": {},
   "outputs": [],
   "source": []
  },
  {
   "cell_type": "code",
   "execution_count": null,
   "id": "78c3d5f7-9e4c-4c49-9ffb-518739ad82e5",
   "metadata": {},
   "outputs": [],
   "source": [
    "Answer 6:"
   ]
  },
  {
   "cell_type": "markdown",
   "id": "33e93844-3fd6-487b-8c4b-b56ab893d824",
   "metadata": {},
   "source": [
    "Multicollinearity is a common problem that can arise in multiple linear regression when two or more independent variables are highly correlated with each other. In this situation, it becomes difficult to distinguish the individual effects of each independent variable on the dependent variable, as they are essentially capturing the same information."
   ]
  },
  {
   "cell_type": "markdown",
   "id": "a6ad01f7-dd3c-40a4-bf58-74bb93c4a5e5",
   "metadata": {},
   "source": [
    "The presence of multicollinearity can lead to several issues in the model, including:\n",
    "\n",
    "Unstable and unreliable estimates of the regression coefficients\n",
    "Large standard errors and decreased statistical power\n",
    "Difficulty in interpreting the coefficients and determining the relative importance of each independent variable\n",
    "Difficulty in making accurate predictions on new data"
   ]
  },
  {
   "cell_type": "markdown",
   "id": "4d6ca8f6-244d-4f8d-85d8-ef482736eab9",
   "metadata": {},
   "source": [
    "To detect multicollinearity, we can calculate the correlation matrix between the independent variables and look for high correlation coefficients (above 0.7 or 0.8, depending on the context). \n",
    "\n",
    "Another method is to calculate the variance inflation factor (VIF) for each independent variable, which measures how much the variance of the estimated coefficient is inflated due to multicollinearity. A VIF value of 1 indicates no correlation, while a value greater than 1 indicates some degree of correlation."
   ]
  },
  {
   "cell_type": "code",
   "execution_count": null,
   "id": "eea1386d-b47a-4ab3-94b3-7061062de7af",
   "metadata": {},
   "outputs": [],
   "source": []
  },
  {
   "cell_type": "code",
   "execution_count": null,
   "id": "c7e59cee-6329-480c-84dd-af94634ec250",
   "metadata": {},
   "outputs": [],
   "source": [
    "Answer 7:"
   ]
  },
  {
   "cell_type": "markdown",
   "id": "d3b6f7a7-15ce-4daf-8f22-c67fc3d5e3b5",
   "metadata": {},
   "source": [
    "Polynomial regression is a type of regression analysis in which the relationship between the independent variable and the dependent variable is modeled as an nth-degree polynomial function. This means that instead of modeling the relationship as a straight line (as in linear regression), we allow for a more flexible curve that can better capture nonlinear patterns in the data."
   ]
  },
  {
   "cell_type": "markdown",
   "id": "3fc6429e-3541-4f1d-aad4-2c665ebf0acf",
   "metadata": {},
   "source": [
    "The polynomial regression model can be expressed as:\n",
    "\n",
    "y = β0 + β1x + β2x^2 + β3x^3 + … + βnx^n + ε\n",
    "\n",
    "where y is the dependent variable, x is the independent variable, β0, β1, β2, …, βn are the coefficients, n is the degree of the polynomial, and ε is the error term."
   ]
  },
  {
   "cell_type": "markdown",
   "id": "c408fb35-8f0d-41db-a19b-8656853a5773",
   "metadata": {},
   "source": [
    "The key difference between polynomial regression and linear regression is that the former can model nonlinear relationships between the dependent variable and the independent variable, while the latter only models linear relationships. \n",
    "\n",
    "In other words, linear regression assumes that the relationship between the variables is linear and can be represented by a straight line, while polynomial regression can capture more complex patterns such as curves, peaks, or valleys."
   ]
  },
  {
   "cell_type": "markdown",
   "id": "5cef39e7-81ba-44f1-8cfa-76dc0c58ce89",
   "metadata": {},
   "source": [
    "For example, if we have a dataset that shows a U-shaped relationship between an independent variable (e.g., age) and a dependent variable (e.g., income), a linear regression model would not be appropriate because it assumes a constant rate of change in income with respect to age. A polynomial regression model, on the other hand, could capture the U-shaped pattern by adding a quadratic term (x^2) to the model."
   ]
  },
  {
   "cell_type": "markdown",
   "id": "4d77c8c8-5611-4be6-982b-83ad405af9fb",
   "metadata": {},
   "source": [
    "In summary, the polynomial regression model is a type of regression analysis that allows for a more flexible relationship between the dependent variable and the independent variable by modeling it as an nth-degree polynomial function. \n",
    "\n",
    "The key difference between polynomial regression and linear regression is that the former can capture nonlinear relationships while the latter can only model linear relationships."
   ]
  },
  {
   "cell_type": "code",
   "execution_count": null,
   "id": "ef037933-c1f8-4e13-894d-c173e9d84e5a",
   "metadata": {},
   "outputs": [],
   "source": []
  },
  {
   "cell_type": "code",
   "execution_count": null,
   "id": "5b737d5a-2df2-45da-b5da-bd016cb6b012",
   "metadata": {},
   "outputs": [],
   "source": [
    "Answer 8:"
   ]
  },
  {
   "cell_type": "markdown",
   "id": "48dfff45-5947-4bfb-a599-6f10d6eb7673",
   "metadata": {},
   "source": [
    "Advantages of polynomial regression compared to linear regression:\n",
    "\n",
    "1.Increased flexibility: Polynomial regression can capture more complex patterns in the data, including nonlinear relationships between the dependent and independent variables.\n",
    "\n",
    "2.Better fit: In some cases, a polynomial model may provide a better fit to the data than a linear model."
   ]
  },
  {
   "cell_type": "markdown",
   "id": "cad60cdc-6f97-40f0-9031-6b526f8f7ab0",
   "metadata": {},
   "source": [
    "Disadvantages of polynomial regression compared to linear regression:\n",
    "\n",
    "1.Overfitting: As the degree of the polynomial increases, the model becomes more complex and can lead to overfitting, where the model fits the noise in the data rather than the underlying signal.\n",
    "\n",
    "2.Interpretability: Polynomial models can be more difficult to interpret than linear models, particularly when the degree of the polynomial is high.\n",
    "\n",
    "3.Extrapolation: Polynomial models can produce unreliable predictions outside of the range of the observed data, particularly if the degree of the polynomial is high."
   ]
  },
  {
   "cell_type": "markdown",
   "id": "ca953e79-3956-4334-921f-eb844ae436de",
   "metadata": {},
   "source": [
    "In general, polynomial regression is useful in situations where the relationship between the dependent and independent variables is not linear, and a more flexible model is needed to capture nonlinear patterns in the data. \n",
    "\n",
    "However, it is important to be cautious when using polynomial regression and consider the trade-off between model complexity and interpretability, as well as the risk of overfitting. In some cases, other methods such as piecewise linear regression, nonlinear regression, or machine learning algorithms may be more appropriate."
   ]
  }
 ],
 "metadata": {
  "kernelspec": {
   "display_name": "Python 3 (ipykernel)",
   "language": "python",
   "name": "python3"
  },
  "language_info": {
   "codemirror_mode": {
    "name": "ipython",
    "version": 3
   },
   "file_extension": ".py",
   "mimetype": "text/x-python",
   "name": "python",
   "nbconvert_exporter": "python",
   "pygments_lexer": "ipython3",
   "version": "3.10.8"
  }
 },
 "nbformat": 4,
 "nbformat_minor": 5
}
