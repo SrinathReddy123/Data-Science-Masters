{
 "cells": [
  {
   "cell_type": "code",
   "execution_count": null,
   "id": "45627b68-a539-4494-aa70-a555325f3ee9",
   "metadata": {},
   "outputs": [],
   "source": [
    "Answer 1:"
   ]
  },
  {
   "cell_type": "markdown",
   "id": "1927e380-5224-4ccc-8894-867819154810",
   "metadata": {},
   "source": [
    "Both Probability Mass Function (PMF) and Probability Density Function (PDF) are mathematical functions used to describe the probability distribution of a random variable.\n",
    "\n",
    "However, they differ in their application depending on whether the random variable is discrete or continuous."
   ]
  },
  {
   "cell_type": "markdown",
   "id": "0df6f30f-0e74-430b-a4d9-de24aa85180e",
   "metadata": {},
   "source": [
    "The Probability Mass Function (PMF) is used for discrete random variables, where the possible values are countable and finite or countably infinite. \n",
    "\n",
    "It gives the probability of each possible outcome of the random variable.\n",
    "In other words, the PMF is a function that maps each possible value of the discrete random variable to its probability of occurrence."
   ]
  },
  {
   "cell_type": "markdown",
   "id": "18a8701c-58da-4ca2-9331-d0eb6f5abedb",
   "metadata": {},
   "source": [
    "For example, consider a fair six-sided die. The possible outcomes are the numbers 1, 2, 3, 4, 5, and 6.\n",
    "The PMF of the random variable representing the outcome of a single roll of the die is:"
   ]
  },
  {
   "cell_type": "code",
   "execution_count": null,
   "id": "3ffe4de1-4d77-4cc9-ba77-bc25126ec865",
   "metadata": {},
   "outputs": [],
   "source": [
    "x     P(X=x)\n",
    "-------------\n",
    "1     1/6\n",
    "2     1/6\n",
    "3     1/6\n",
    "4     1/6\n",
    "5     1/6\n",
    "6     1/6\n"
   ]
  },
  {
   "cell_type": "markdown",
   "id": "2c15ce4d-5831-4555-a63d-30e029c66b2c",
   "metadata": {},
   "source": [
    "Here, x represents the possible values of the random variable, and P(X=x) represents the probability of each value occurring."
   ]
  },
  {
   "cell_type": "markdown",
   "id": "52cfb17c-627a-4804-a325-7f45f0d1ec14",
   "metadata": {},
   "source": [
    "The PMF has the property that sum of probabilities over all possible values of the random variable is equal to 1."
   ]
  },
  {
   "cell_type": "markdown",
   "id": "90ff5f5a-7266-4416-87a2-b5e786ae0bd7",
   "metadata": {},
   "source": [
    "The Probability Density Function (PDF) is used for continuous random variables, where the possible values form an uncountably infinite interval. \n",
    "\n",
    "It gives the relative likelihood of the random variable taking a particular value. In other words, the PDF is a function that describes the distribution of probabilities over an interval of values of the continuous random variable."
   ]
  },
  {
   "cell_type": "markdown",
   "id": "701d9dbd-3616-485c-a2e6-80df416303c3",
   "metadata": {},
   "source": [
    "For example, consider the standard normal distribution, which is a continuous probability distribution with mean 0 and standard deviation 1. The PDF of the standard normal distribution is given by the formula:\n",
    "\n",
    "f(x) = 1 / sqrt(2π) * exp(-x^2 / 2)\n"
   ]
  },
  {
   "cell_type": "markdown",
   "id": "323bbaee-d360-4fb2-a8b9-d5cf625a584c",
   "metadata": {},
   "source": [
    "Here, x represents the possible values of the random variable, and f(x) represents the relative likelihood of the random variable taking the value x. \n",
    "\n",
    "The PDF has the property that the area under the curve over an interval of values of the random variable represents the probability of the random variable falling within that interval."
   ]
  },
  {
   "cell_type": "markdown",
   "id": "cc5bf0e3-2d35-4b0a-9a6b-4444641f914f",
   "metadata": {},
   "source": [
    "In summary, the PMF is used for discrete random variables, while the PDF is used for continuous random variables.\n",
    "\n",
    "The PMF gives the probability of each possible value of the random variable, while the PDF gives the relative likelihood of the random variable taking a particular value."
   ]
  },
  {
   "cell_type": "code",
   "execution_count": null,
   "id": "eb470a9f-1c34-496b-82a1-d4e526d17269",
   "metadata": {},
   "outputs": [],
   "source": []
  },
  {
   "cell_type": "code",
   "execution_count": null,
   "id": "3f19bb61-9eb7-4bee-8674-b1931032f6e5",
   "metadata": {},
   "outputs": [],
   "source": [
    "Answer 2:"
   ]
  },
  {
   "cell_type": "markdown",
   "id": "3bc2eded-65b9-47be-b97b-8cc6559390c4",
   "metadata": {},
   "source": [
    "The Cumulative Density Function (CDF) is a mathematical function that describes the cumulative probability distribution of a random variable. \n",
    "\n",
    "It gives the probability that the random variable is less than or equal to a certain value, as a function of that value. In other words, the CDF is the integral of the PDF (or sum of the PMF) over the range of possible values up to a given point."
   ]
  },
  {
   "cell_type": "markdown",
   "id": "cb369dc8-0f01-4472-9da1-59b81b60188b",
   "metadata": {},
   "source": [
    "For example, consider the standard normal distribution with mean 0 and standard deviation 1.\n",
    "\n",
    "The CDF of this distribution is denoted by Φ(x) and is given by the formula:\n",
    "Φ(x) = 1 / sqrt(2π) * ∫(-∞,x) exp(-t^2 / 2) dt\n"
   ]
  },
  {
   "cell_type": "markdown",
   "id": "4f09276f-1b72-4380-99f7-5b2ed2d2d4fd",
   "metadata": {},
   "source": [
    "Here, x is a real number and the integral is taken from negative infinity to x.\n",
    "\n",
    "The value of Φ(x) gives the probability that a random variable following a standard normal distribution is less than or equal to x. For instance, Φ(0) = 0.5, which means that there is a 50% probability that a random variable following a standard normal distribution is less than or equal to 0."
   ]
  },
  {
   "cell_type": "markdown",
   "id": "6f88873a-4f04-493d-b512-75d7b6429d95",
   "metadata": {},
   "source": [
    "The CDF is used in statistical analysis for a variety of purposes, such as hypothesis testing, confidence interval estimation, and calculation of probabilities of events. Specifically, the CDF can be used to calculate the probability of a random variable falling within a certain range or to find the value of the random variable that corresponds to a certain probability.\n",
    "\n",
    "It is a fundamental concept in statistics that is used in conjunction with other techniques such as hypothesis testing, regression analysis, and machine learning."
   ]
  },
  {
   "cell_type": "markdown",
   "id": "5c777e98-3e4a-4229-a443-139602459040",
   "metadata": {},
   "source": [
    "In summary, the CDF is a function that gives the cumulative probability distribution of a random variable.\n",
    "\n",
    "It is used to calculate the probability of a random variable falling within a certain range or to find the value of the random variable that corresponds to a certain probability.\n",
    "\n",
    "The CDF is a fundamental concept in statistics that is used in many areas of statistical analysis."
   ]
  },
  {
   "cell_type": "markdown",
   "id": "5c792a64-8836-452a-925b-87c8395b95b4",
   "metadata": {},
   "source": [
    "Answer 3:"
   ]
  },
  {
   "cell_type": "code",
   "execution_count": null,
   "id": "e131de24-a753-4467-858d-a2c5d841758a",
   "metadata": {},
   "outputs": [],
   "source": []
  },
  {
   "cell_type": "markdown",
   "id": "62d722b2-8a22-4104-96f1-8223410533df",
   "metadata": {},
   "source": [
    "The normal distribution is a commonly used statistical model in many fields, particularly in natural and social sciences, engineering, and finance.\n",
    "\n",
    "Some examples of situations where the normal distribution might be used as a model are:"
   ]
  },
  {
   "cell_type": "markdown",
   "id": "b8a8eac6-275d-4c8c-8987-140bcab93163",
   "metadata": {},
   "source": [
    "1. Heights and weights of people: The normal distribution can be used to model the distribution of heights and weights of people, assuming that these variables follow a bell-shaped curve.\n",
    "\n",
    "2. Measurement errors: The normal distribution can be used to model the distribution of measurement errors, assuming that they follow a bell-shaped curve with mean 0.\n",
    "\n",
    "3. Test scores: The normal distribution can be used to model the distribution of test scores, assuming that the scores follow a bell-shaped curve and that the test is properly designed and standardized.\n",
    "\n",
    "4. Stock prices: The normal distribution can be used to model the distribution of stock prices, assuming that they follow a log-normal distribution"
   ]
  },
  {
   "cell_type": "markdown",
   "id": "08621dbb-2fed-4735-9fba-3707c853bb3d",
   "metadata": {},
   "source": [
    "The parameters of the normal distribution are the mean (μ) and standard deviation (σ). \n",
    "\n",
    "The mean determines the center of the distribution, while the standard deviation determines the spread or width of the distribution."
   ]
  },
  {
   "cell_type": "markdown",
   "id": "e19e2800-c4e5-4879-aca2-fb220a1631ee",
   "metadata": {},
   "source": [
    "Specifically, the mean is the point where the distribution is symmetric, and the standard deviation controls the shape of the distribution by determining how steeply it rises and falls."
   ]
  },
  {
   "cell_type": "markdown",
   "id": "7ae4d281-701d-405a-93c2-ed7f03556ce8",
   "metadata": {},
   "source": [
    "A larger standard deviation indicates a wider distribution, while a smaller standard deviation indicates a narrower distribution. \n",
    "\n",
    "The area under the curve of the normal distribution is always equal to 1, which means that the total probability of all possible events is equal to 1."
   ]
  },
  {
   "cell_type": "code",
   "execution_count": null,
   "id": "c623ad71-f4ba-4871-8ada-aef85d045ef8",
   "metadata": {},
   "outputs": [],
   "source": []
  },
  {
   "cell_type": "code",
   "execution_count": null,
   "id": "0de4dfdf-7943-445a-b4e8-34be4bc012bb",
   "metadata": {},
   "outputs": [],
   "source": [
    "Answer 4:"
   ]
  },
  {
   "cell_type": "markdown",
   "id": "9d477af4-1dcd-47ab-964d-dd151266ffd6",
   "metadata": {},
   "source": [
    "The normal distribution is an important concept in statistics and probability theory, and it has many applications in various fields, including natural and social sciences, engineering, finance, and more. \n",
    "\n",
    "Some of the main reasons why the normal distribution is important are:"
   ]
  },
  {
   "cell_type": "markdown",
   "id": "ddd4d4fe-0193-4413-9b58-2cf296e87d34",
   "metadata": {},
   "source": [
    "1. Central Limit Theorem: One of the most important properties of the normal distribution is the Central Limit Theorem, which states that the sum (or mean) of a large number of independent random variables from any distribution will tend towards a normal distribution. This theorem is important because it allows us to make inferences about a population based on a sample, assuming that the sample size is sufficiently large.\n",
    "\n",
    "2. Predictive Modeling: The normal distribution is commonly used in predictive modeling, such as linear regression and hypothesis testing, as the assumption of normality simplifies the analysis and makes it more tractable. Additionally, many statistical models are based on the normal distribution, such as the t-distribution and F-distribution.\n",
    "\n",
    "3. Quality Control: The normal distribution is used in quality control to monitor the variability of a process and to detect whether it is stable or not. The control charts, which are commonly used in quality control, assume that the data follow a normal distribution.\n",
    "\n",
    "4. Risk Management: The normal distribution is used in finance to model asset returns and to estimate the value at risk (VaR) of a portfolio. The VaR measures the maximum loss that a portfolio can incur at a given confidence level, assuming that the asset returns follow a normal distribution."
   ]
  },
  {
   "cell_type": "markdown",
   "id": "ba6eb048-5640-4240-8659-55e647267db8",
   "metadata": {},
   "source": [
    "Some real-life examples of normal distribution are:\n",
    "\n",
    "1. Heights of adult males and females: The heights of adult males and females tend to follow a normal distribution, with the mean height of adult males being higher than that of females.\n",
    "\n",
    "2. IQ scores: IQ scores of a population tend to follow a normal distribution, with the mean score being around 100 and the standard deviation being around 15.\n",
    "\n",
    "3. Blood pressure: The systolic blood pressure of a population tends to follow a normal distribution, with the mean value being around 120 mmHg and the standard deviation being around 10 mmHg.\n",
    "\n",
    "4. Errors in manufacturing: The errors in manufacturing tend to follow a normal distribution, with the mean value being zero and the standard deviation being a measure of the variability of the errors."
   ]
  },
  {
   "cell_type": "markdown",
   "id": "0bd57dc5-1078-411f-aff7-b1aa5081aa96",
   "metadata": {},
   "source": [
    "In summary, the normal distribution is an important concept in statistics and probability theory, and it has many applications in various fields.\n",
    "\n",
    "It is commonly used in predictive modeling, quality control, risk management, and more. Some real-life examples of normal distribution include heights of adult males and females, IQ scores, blood pressure, and errors in manufacturing."
   ]
  },
  {
   "cell_type": "code",
   "execution_count": null,
   "id": "e1303ad8-3cbd-4f10-877b-6b49cec31d13",
   "metadata": {},
   "outputs": [],
   "source": []
  },
  {
   "cell_type": "code",
   "execution_count": null,
   "id": "3011cb85-b872-4b4d-9e03-3f85c7e3678a",
   "metadata": {},
   "outputs": [],
   "source": [
    "Answer 5:"
   ]
  },
  {
   "cell_type": "markdown",
   "id": "fd5fede2-4b36-42bc-9bde-4e3741c7fb91",
   "metadata": {},
   "source": [
    "The Bernoulli distribution is a discrete probability distribution that models a random variable that can take only two possible values, typically labeled as 0 and 1. \n",
    "\n",
    "It is named after the Swiss mathematician Jacob Bernoulli, who introduced the concept in the 17th century.\n",
    "\n",
    "The probability distribution of a Bernoulli random variable is characterized by a single parameter p, which represents the probability of the outcome 1."
   ]
  },
  {
   "cell_type": "markdown",
   "id": "e317f748-81e8-4c29-8923-70f56297b781",
   "metadata": {},
   "source": [
    "For example, suppose we flip a fair coin and define a random variable X that takes the value 1 if the coin lands heads and 0 if the coin lands tails. \n",
    "\n",
    "Then X follows a Bernoulli distribution with p=0.5, as the probability of getting heads is 0.5."
   ]
  },
  {
   "cell_type": "markdown",
   "id": "478bf2aa-afb7-4e78-9484-ce73a8b737e9",
   "metadata": {},
   "source": [
    "The main difference between Bernoulli distribution and Binomial distribution is that the Bernoulli distribution models a single trial with two possible outcomes, whereas the Binomial distribution models the number of successes in a fixed number of independent trials, each with two possible outcomes.\n",
    "\n",
    "In other words, the Bernoulli distribution is a special case of the Binomial distribution with n=1."
   ]
  },
  {
   "cell_type": "markdown",
   "id": "76bd32ac-024d-48f8-8ab6-cb2016b11707",
   "metadata": {},
   "source": [
    "For example, suppose we flip a fair coin 10 times and define a random variable Y that represents the number of times the coin lands heads. \n",
    "\n",
    "Then Y follows a Binomial distribution with parameters n=10 and p=0.5. The probability of getting k heads in 10 flips can be calculated using the Binomial probability mass function."
   ]
  },
  {
   "cell_type": "markdown",
   "id": "18f233ee-11a1-4d42-bc1c-bb7b53bd52ca",
   "metadata": {},
   "source": [
    "Therefore, the Bernoulli distribution and the Binomial distribution are closely related, and the latter can be thought of as an extension of the former to multiple trials."
   ]
  },
  {
   "cell_type": "code",
   "execution_count": null,
   "id": "e172f1ad-e3d0-43c1-b4ec-4d2cbfe92443",
   "metadata": {},
   "outputs": [],
   "source": [
    "Answer 6:"
   ]
  },
  {
   "cell_type": "markdown",
   "id": "7f446ea4-80f4-428c-9be6-aeac937c5139",
   "metadata": {},
   "source": [
    "We can use the standard normal distribution formula to calculate the probability of a randomly selected observation being greater than 60. First, we need to convert the value of 60 to a standard score (also known as a z-score) using the formula:"
   ]
  },
  {
   "cell_type": "markdown",
   "id": "18ba5359-2941-4772-bbc4-18f1627c71b0",
   "metadata": {},
   "source": [
    "z = (x - μ) / σ\n",
    "\n",
    "where x is the value we want to convert, μ is the mean of the distribution, and σ is the standard deviation of the distribution."
   ]
  },
  {
   "cell_type": "markdown",
   "id": "9afd9cd4-f5dd-4079-b60c-4cc4adf8fa20",
   "metadata": {},
   "source": [
    "z = (60 - 50) / 10 = 1"
   ]
  },
  {
   "cell_type": "markdown",
   "id": "5ee882ce-aa82-4adc-8227-7e17600b9428",
   "metadata": {},
   "source": [
    "So, we want to find the probability that a standard normal random variable is greater than 1. We can look this up in a standard normal distribution table or use a calculator. Using a calculator, we can find this probability using the cumulative distribution function:\n",
    "\n",
    "P(Z > 1) = 1 - P(Z ≤ 1)"
   ]
  },
  {
   "cell_type": "markdown",
   "id": "0d087a57-88c2-41fc-a233-623caca8ef5e",
   "metadata": {},
   "source": [
    "where Z is a standard normal random variable. Using a standard normal distribution table, we can find that P(Z ≤ 1) = 0.8413, so:\n",
    "\n",
    "P(Z > 1) = 1 - 0.8413 = 0.1587"
   ]
  },
  {
   "cell_type": "markdown",
   "id": "8d284d0b-7da6-4d75-81c7-90a2fb438f14",
   "metadata": {},
   "source": [
    "Therefore, the probability that a randomly selected observation from the dataset will be greater than 60 is approximately 0.1587 or 15.87%."
   ]
  },
  {
   "cell_type": "code",
   "execution_count": null,
   "id": "ee8790a2-ff2b-4a84-ab46-65c760d94518",
   "metadata": {},
   "outputs": [],
   "source": []
  },
  {
   "cell_type": "code",
   "execution_count": null,
   "id": "0e45eba1-c5f3-4a05-8733-2cea4ff2125f",
   "metadata": {},
   "outputs": [],
   "source": [
    "Answer 7:"
   ]
  },
  {
   "cell_type": "markdown",
   "id": "90a39c3c-d007-4599-98fe-50b84d728b35",
   "metadata": {},
   "source": [
    "The uniform distribution is a probability distribution in which all values within a certain range are equally likely to occur. In other words, the probability of any specific value occurring within the range is the same as the probability of any other value within the same range occurring."
   ]
  },
  {
   "cell_type": "markdown",
   "id": "785cbdaf-fe1e-4dd3-a4c5-74a1d449a51e",
   "metadata": {},
   "source": [
    "For example, consider a roll of a fair die. The die has six sides, each with a number from 1 to 6. Assuming the die is fair, each number on the die has an equal chance of being rolled, and the distribution of the rolls is uniform.\n",
    "\n",
    "The probability of rolling any specific number on the die is 1/6, and the probability of rolling any number between 1 and 6 is the same for each number, or 1/6."
   ]
  },
  {
   "cell_type": "markdown",
   "id": "c4924049-5889-40e5-98f6-1784069f96d2",
   "metadata": {},
   "source": [
    "Another example is the time it takes to complete a certain task. Suppose the task can be completed in between 5 to 15 minutes, and any time between these two values is equally likely to occur. \n",
    "\n",
    "In this case, the distribution of the completion time is uniform, and the probability of completing the task within any specific time interval between 5 and 15 minutes is the same for all intervals."
   ]
  },
  {
   "cell_type": "markdown",
   "id": "11dbdaa5-3c6e-4d99-bd5e-92e505215766",
   "metadata": {},
   "source": [
    "The uniform distribution is often used in simulations and models where there is a range of possible outcomes, and each outcome is equally likely to occur."
   ]
  },
  {
   "cell_type": "code",
   "execution_count": null,
   "id": "5d47960b-31d3-43f4-b7ed-2b7a5bf58e07",
   "metadata": {},
   "outputs": [],
   "source": []
  },
  {
   "cell_type": "code",
   "execution_count": null,
   "id": "5dfa4448-1c17-4de2-bd52-c39b5b218410",
   "metadata": {},
   "outputs": [],
   "source": [
    "Answer 8:"
   ]
  },
  {
   "cell_type": "markdown",
   "id": "51a08705-9b75-4c94-bffa-28e4fcbcc6e7",
   "metadata": {},
   "source": [
    "A z-score (also known as a standard score) is a measure of how many standard deviations a data point is from the mean of its distribution. It is calculated using the formula:\n",
    "\n",
    "z = (x - μ) / σ\n",
    "\n",
    "where x is the data point, μ is the mean of the distribution, and σ is the standard deviation of the distribution."
   ]
  },
  {
   "cell_type": "markdown",
   "id": "c8611feb-4300-415f-815d-f7511c8e397f",
   "metadata": {},
   "source": [
    "The z-score tells us how far a data point is from the mean in terms of standard deviations. A positive z-score indicates that the data point is above the mean, while a negative z-score indicates that the data point is below the mean."
   ]
  },
  {
   "cell_type": "markdown",
   "id": "6c80a99d-45c7-4d77-ad9d-4bbcb6b1022c",
   "metadata": {},
   "source": [
    "The importance of the z-score lies in its usefulness for comparing data points from different distributions. Because the z-score is a standardized measure, it can be used to compare data points from different distributions that have different means and standard deviations. \n",
    "\n",
    "For example, if we have two datasets with different means and standard deviations, we can compare individual data points from each dataset by calculating their z-scores and comparing them."
   ]
  },
  {
   "cell_type": "markdown",
   "id": "5d9685b8-f6fe-4a5f-b93c-5b1bf357acd9",
   "metadata": {},
   "source": [
    "The z-score is also important in hypothesis testing and statistical inference. \n",
    "\n",
    "In hypothesis testing, we use the z-score to determine the probability of observing a data point or sample mean if the null hypothesis is true. If the probability is low enough, we reject the null hypothesis in favor of the alternative hypothesis."
   ]
  },
  {
   "cell_type": "markdown",
   "id": "cf1ced87-647b-4457-9063-e8b13778fc94",
   "metadata": {},
   "source": [
    "Overall, the z-score is an important statistical tool that allows us to standardize and compare data points from different distributions and make statistical inferences about population parameters based on sample data."
   ]
  },
  {
   "cell_type": "code",
   "execution_count": null,
   "id": "19e48b72-a8a3-4ba1-a684-e5796b108b6b",
   "metadata": {},
   "outputs": [],
   "source": []
  },
  {
   "cell_type": "code",
   "execution_count": null,
   "id": "92ab58ef-7a47-4d98-b33f-bba9880908ca",
   "metadata": {},
   "outputs": [],
   "source": [
    "Answer 9:"
   ]
  },
  {
   "cell_type": "markdown",
   "id": "5b2d3514-b566-4b7d-8802-b8458f9e08bb",
   "metadata": {},
   "source": [
    "The Central Limit Theorem (CLT) is a fundamental concept in probability theory and statistics that states that as the sample size increases, the distribution of the sample means approaches a normal distribution, regardless of the underlying distribution of the population from which the sample was drawn. More formally, the CLT states that the sum or average of a large number of independent and identically distributed random variables tends to follow a normal distribution."
   ]
  },
  {
   "cell_type": "markdown",
   "id": "1777a965-aae2-4307-8e76-c0d6959c55d2",
   "metadata": {},
   "source": [
    "In simpler terms, the CLT tells us that if we take a large enough sample size from any population with a finite mean and variance, the distribution of the sample means will be approximately normal, even if the population distribution is not normal."
   ]
  },
  {
   "cell_type": "markdown",
   "id": "02ff7fc3-66c1-4406-8656-6fb371070d10",
   "metadata": {},
   "source": [
    "The significance of the Central Limit Theorem lies in its importance for statistical inference. \n",
    "\n",
    "The CLT allows us to use the normal distribution to make inferences about population parameters based on sample statistics, such as the sample mean or sample proportion.\n",
    "\n",
    "This is important because many statistical tests and confidence intervals are based on the assumption of a normal distribution of the sample mean."
   ]
  },
  {
   "cell_type": "markdown",
   "id": "6050611b-7871-428d-b67d-1704d7511fe1",
   "metadata": {},
   "source": [
    "The CLT also has practical applications in fields such as quality control, finance, and engineering, where it is often used to analyze data and make decisions based on sample means or proportions. \n",
    "\n",
    "Additionally, the CLT is used in the design of experiments and sample size determination, where it helps to determine the appropriate sample size needed to obtain a representative sample of a population."
   ]
  },
  {
   "cell_type": "markdown",
   "id": "212518ad-65f6-4134-b197-3feccfed2ae1",
   "metadata": {},
   "source": [
    "Overall, the Central Limit Theorem is a key concept in statistics that allows us to make inferences about population parameters based on sample statistics, and it has a wide range of practical applications in many fields."
   ]
  },
  {
   "cell_type": "markdown",
   "id": "6e7e0fd4-2854-4898-bad3-e3e1fef8d40b",
   "metadata": {},
   "source": []
  },
  {
   "cell_type": "code",
   "execution_count": null,
   "id": "1c5bc071-1f1f-459f-8533-f5afafc264b6",
   "metadata": {},
   "outputs": [],
   "source": [
    "Answer 10:"
   ]
  },
  {
   "cell_type": "markdown",
   "id": "fae6ccbc-1dc9-4117-92b0-a975f8e403b2",
   "metadata": {},
   "source": [
    "The Central Limit Theorem (CLT) has some assumptions that must be met for it to hold true. These assumptions include:"
   ]
  },
  {
   "cell_type": "markdown",
   "id": "7322f291-a5e6-4397-84c2-909b8744b185",
   "metadata": {},
   "source": [
    "1. Random Sampling: The sample must be randomly selected from the population of interest.\n",
    "\n",
    "2. Independence: The observations in the sample must be independent of each other.\n",
    "\n",
    "3. Finite Population or Large Sample Size: The sample size must be large enough relative to the population size or the sample must be drawn from a finite population.\n",
    "\n",
    "4. Identical Distribution: The observations in the sample must be identically distributed, meaning they have the same mean and variance.\n",
    "\n",
    "5. Finite Mean and Variance: The population from which the sample is drawn must have a finite mean and a finite variance."
   ]
  },
  {
   "cell_type": "markdown",
   "id": "5b08c705-49a6-4bdd-acca-7372a390fdd9",
   "metadata": {},
   "source": [
    "It is important to note that violating any of these assumptions may cause the CLT to fail, resulting in a non-normal distribution of the sample mean. \n",
    "\n",
    "For example, if the observations in the sample are not independent, or if the sample size is too small, then the CLT may not hold true. Therefore, it is important to carefully consider these assumptions when using the CLT in statistical analysis."
   ]
  }
 ],
 "metadata": {
  "kernelspec": {
   "display_name": "Python 3 (ipykernel)",
   "language": "python",
   "name": "python3"
  },
  "language_info": {
   "codemirror_mode": {
    "name": "ipython",
    "version": 3
   },
   "file_extension": ".py",
   "mimetype": "text/x-python",
   "name": "python",
   "nbconvert_exporter": "python",
   "pygments_lexer": "ipython3",
   "version": "3.10.8"
  }
 },
 "nbformat": 4,
 "nbformat_minor": 5
}
