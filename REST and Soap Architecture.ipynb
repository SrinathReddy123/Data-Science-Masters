{
 "cells": [
  {
   "cell_type": "markdown",
   "id": "c90d7ddf-d882-48b8-aa98-4381c4ce1aeb",
   "metadata": {},
   "source": [
    "Difference between SOAP and REST architecture??\n"
   ]
  },
  {
   "cell_type": "code",
   "execution_count": null,
   "id": "9250f0a3-7ba9-49fa-a443-3569832b5866",
   "metadata": {},
   "outputs": [],
   "source": [
    "REST - Representational State Transfer.\n",
    "SOAP - Simple Object Access Protocol.\n",
    "\n",
    "Both architectures are used to create an API.\n",
    "They might use different set of protocols.\n",
    "\n",
    "REST by default uses HTTP protocol(a set of rules by which through web  we can send data, and update data\n",
    " and delete data through )\n",
    "\n",
    "\n",
    "REST have methods like GET,PUT,POST and DELETE.\n",
    "REST is known for its simplicity and scalability, flexibility.\n",
    "Creating REST APIs is easy and scaling the application is also easy\n",
    "\n",
    "\n",
    "SOAP uses TCP/IP or SMTP protocol. Scalability is possible but not as easy compared to REST.\n",
    "SOAP it transfers all mesaages using XML(Xtended Markup Language). In XML we have WSDL(Web Service \n",
    " Description Language) in this we can write all the rules. Internally all our rules will  be written in WSDL.\n",
    "\n",
    "\n",
    "\n",
    "\n",
    "REST is less secure as compared to SOAP.\n",
    "If we want to build an application, where security is primarily focussed(high priority), then in such cases\n",
    "  it is preferred to use SOAP architecture.\n",
    "    \n",
    "If we are not much concerned about scurity and we are much worried about scalability, and flexibility of our \n",
    " application then REST architecture should be used."
   ]
  },
  {
   "cell_type": "code",
   "execution_count": null,
   "id": "ab799c11-b012-4945-bda3-0895957f5244",
   "metadata": {},
   "outputs": [],
   "source": [
    "API - simply means how are you going to provide communication between two different homogeneous/heterogeneous\n",
    "  systems."
   ]
  }
 ],
 "metadata": {
  "kernelspec": {
   "display_name": "Python 3 (ipykernel)",
   "language": "python",
   "name": "python3"
  },
  "language_info": {
   "codemirror_mode": {
    "name": "ipython",
    "version": 3
   },
   "file_extension": ".py",
   "mimetype": "text/x-python",
   "name": "python",
   "nbconvert_exporter": "python",
   "pygments_lexer": "ipython3",
   "version": "3.10.8"
  }
 },
 "nbformat": 4,
 "nbformat_minor": 5
}
