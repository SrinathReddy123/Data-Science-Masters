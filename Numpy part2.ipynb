{
 "cells": [
  {
   "cell_type": "code",
   "execution_count": 4,
   "id": "736a8519-e29f-4004-bde4-5b0598b10040",
   "metadata": {},
   "outputs": [],
   "source": [
    "import numpy as np"
   ]
  },
  {
   "cell_type": "code",
   "execution_count": 2,
   "id": "52de22a9-c24e-4a1f-8351-b1ffd5f41d6e",
   "metadata": {},
   "outputs": [
    {
     "data": {
      "text/plain": [
       "[0, 1, 2, 3, 4]"
      ]
     },
     "execution_count": 2,
     "metadata": {},
     "output_type": "execute_result"
    }
   ],
   "source": [
    "list(range(5))"
   ]
  },
  {
   "cell_type": "code",
   "execution_count": 3,
   "id": "a015323d-542d-42e0-9c0d-a7c9d5bcc765",
   "metadata": {},
   "outputs": [
    {
     "data": {
      "text/plain": [
       "[0, 1, 2, 3, 4, 5, 6, 7, 8, 9]"
      ]
     },
     "execution_count": 3,
     "metadata": {},
     "output_type": "execute_result"
    }
   ],
   "source": [
    "list(range(0,10))"
   ]
  },
  {
   "cell_type": "code",
   "execution_count": 4,
   "id": "e8ea5a3b-f8a0-48d3-9ab4-4f0f1bfc27e5",
   "metadata": {},
   "outputs": [
    {
     "ename": "TypeError",
     "evalue": "'float' object cannot be interpreted as an integer",
     "output_type": "error",
     "traceback": [
      "\u001b[0;31m---------------------------------------------------------------------------\u001b[0m",
      "\u001b[0;31mTypeError\u001b[0m                                 Traceback (most recent call last)",
      "Cell \u001b[0;32mIn[4], line 1\u001b[0m\n\u001b[0;32m----> 1\u001b[0m \u001b[38;5;28mlist\u001b[39m(\u001b[38;5;28;43mrange\u001b[39;49m\u001b[43m(\u001b[49m\u001b[38;5;241;43m0.4\u001b[39;49m\u001b[43m,\u001b[49m\u001b[38;5;241;43m10.5\u001b[39;49m\u001b[43m)\u001b[49m)\n",
      "\u001b[0;31mTypeError\u001b[0m: 'float' object cannot be interpreted as an integer"
     ]
    }
   ],
   "source": [
    "list(range(0.4,10.5))\n",
    "\n",
    "# range() will always consider integers."
   ]
  },
  {
   "cell_type": "code",
   "execution_count": 7,
   "id": "dc879eeb-1009-488d-a9dd-725e0929ba4e",
   "metadata": {},
   "outputs": [
    {
     "data": {
      "text/plain": [
       "array([ 0.4,  1.4,  2.4,  3.4,  4.4,  5.4,  6.4,  7.4,  8.4,  9.4, 10.4])"
      ]
     },
     "execution_count": 7,
     "metadata": {},
     "output_type": "execute_result"
    }
   ],
   "source": [
    "# In Numpy we have function called arange, similar to range but it also accepts float numbers(decimal)\n",
    "\n",
    "np.arange(0.4,10.5)"
   ]
  },
  {
   "cell_type": "code",
   "execution_count": 8,
   "id": "2ef8409c-3621-4c66-b39d-befa90da8eae",
   "metadata": {},
   "outputs": [
    {
     "data": {
      "text/plain": [
       "array([ 0.4,  0.6,  0.8,  1. ,  1.2,  1.4,  1.6,  1.8,  2. ,  2.2,  2.4,\n",
       "        2.6,  2.8,  3. ,  3.2,  3.4,  3.6,  3.8,  4. ,  4.2,  4.4,  4.6,\n",
       "        4.8,  5. ,  5.2,  5.4,  5.6,  5.8,  6. ,  6.2,  6.4,  6.6,  6.8,\n",
       "        7. ,  7.2,  7.4,  7.6,  7.8,  8. ,  8.2,  8.4,  8.6,  8.8,  9. ,\n",
       "        9.2,  9.4,  9.6,  9.8, 10. , 10.2, 10.4])"
      ]
     },
     "execution_count": 8,
     "metadata": {},
     "output_type": "execute_result"
    }
   ],
   "source": [
    "np.arange(0.4,10.5,0.2)\n",
    "\n",
    "# Here we have given step size, the difference between any 2 successive elements."
   ]
  },
  {
   "cell_type": "code",
   "execution_count": 9,
   "id": "d5c3aa4a-0ab9-44c4-9da4-286301b96f0f",
   "metadata": {},
   "outputs": [
    {
     "data": {
      "text/plain": [
       "[0.4,\n",
       " 0.6000000000000001,\n",
       " 0.8000000000000002,\n",
       " 1.0000000000000002,\n",
       " 1.2000000000000002,\n",
       " 1.4000000000000004,\n",
       " 1.6000000000000005,\n",
       " 1.8000000000000003,\n",
       " 2.0000000000000004,\n",
       " 2.2000000000000006,\n",
       " 2.400000000000001,\n",
       " 2.6000000000000005,\n",
       " 2.8000000000000007,\n",
       " 3.000000000000001,\n",
       " 3.2000000000000006,\n",
       " 3.400000000000001,\n",
       " 3.600000000000001,\n",
       " 3.800000000000001,\n",
       " 4.000000000000002,\n",
       " 4.200000000000001,\n",
       " 4.400000000000002,\n",
       " 4.600000000000001,\n",
       " 4.800000000000002,\n",
       " 5.000000000000002,\n",
       " 5.200000000000002,\n",
       " 5.400000000000002,\n",
       " 5.600000000000002,\n",
       " 5.8000000000000025,\n",
       " 6.000000000000002,\n",
       " 6.200000000000002,\n",
       " 6.400000000000002,\n",
       " 6.600000000000002,\n",
       " 6.8000000000000025,\n",
       " 7.000000000000003,\n",
       " 7.200000000000003,\n",
       " 7.400000000000003,\n",
       " 7.600000000000003,\n",
       " 7.8000000000000025,\n",
       " 8.000000000000002,\n",
       " 8.200000000000003,\n",
       " 8.400000000000004,\n",
       " 8.600000000000003,\n",
       " 8.800000000000002,\n",
       " 9.000000000000004,\n",
       " 9.200000000000003,\n",
       " 9.400000000000004,\n",
       " 9.600000000000003,\n",
       " 9.800000000000004,\n",
       " 10.000000000000004,\n",
       " 10.200000000000003,\n",
       " 10.400000000000004]"
      ]
     },
     "execution_count": 9,
     "metadata": {},
     "output_type": "execute_result"
    }
   ],
   "source": [
    "list(np.arange(0.4,10.5,0.2))\n",
    "\n",
    "# converting the above array into a list."
   ]
  },
  {
   "cell_type": "code",
   "execution_count": 10,
   "id": "c06222f8-7ae7-46f3-b9a5-9b5d24a921e7",
   "metadata": {},
   "outputs": [
    {
     "data": {
      "text/plain": [
       "array([1.        , 1.21052632, 1.42105263, 1.63157895, 1.84210526,\n",
       "       2.05263158, 2.26315789, 2.47368421, 2.68421053, 2.89473684,\n",
       "       3.10526316, 3.31578947, 3.52631579, 3.73684211, 3.94736842,\n",
       "       4.15789474, 4.36842105, 4.57894737, 4.78947368, 5.        ])"
      ]
     },
     "execution_count": 10,
     "metadata": {},
     "output_type": "execute_result"
    }
   ],
   "source": [
    "# To generate data between 2 points with equal differences between them i.e 1 and 5 here and how many number of\n",
    "# elements do we require here(20).\n",
    "\n",
    "np.linspace(1,5, 20)\n",
    "\n",
    "# It divides the scale between 1 and 5 into 20 divisions with equal difference these 20 elements."
   ]
  },
  {
   "cell_type": "code",
   "execution_count": 11,
   "id": "99c6d79c-cd1d-42f6-be1a-22837d3c1045",
   "metadata": {},
   "outputs": [
    {
     "data": {
      "text/plain": [
       "array([1.00000000e+01, 2.78255940e+01, 7.74263683e+01, 2.15443469e+02,\n",
       "       5.99484250e+02, 1.66810054e+03, 4.64158883e+03, 1.29154967e+04,\n",
       "       3.59381366e+04, 1.00000000e+05])"
      ]
     },
     "execution_count": 11,
     "metadata": {},
     "output_type": "execute_result"
    }
   ],
   "source": [
    "np.logspace(1,5, 10)\n",
    "\n",
    "# Here by default base is 10, "
   ]
  },
  {
   "cell_type": "code",
   "execution_count": 12,
   "id": "f13092d5-0594-4016-b1ae-e3b5e9ddd059",
   "metadata": {},
   "outputs": [
    {
     "data": {
      "text/plain": [
       "array([ 2.        ,  2.72158   ,  3.70349885,  5.0396842 ,  6.85795186,\n",
       "        9.33223232, 12.69920842, 17.28095582, 23.51575188, 32.        ])"
      ]
     },
     "execution_count": 12,
     "metadata": {},
     "output_type": "execute_result"
    }
   ],
   "source": [
    "# generating the numbers with base2\n",
    "np.logspace(1,5, 10, base=2)"
   ]
  },
  {
   "cell_type": "code",
   "execution_count": 13,
   "id": "5b5d1fbf-eda6-4a82-97c8-98e4e218488a",
   "metadata": {},
   "outputs": [
    {
     "data": {
      "text/plain": [
       "array([0., 0., 0., 0., 0.])"
      ]
     },
     "execution_count": 13,
     "metadata": {},
     "output_type": "execute_result"
    }
   ],
   "source": [
    "np.zeros(5)\n",
    "\n",
    "# creates 1 dimensional array with mentioned number of zeroes."
   ]
  },
  {
   "cell_type": "code",
   "execution_count": 14,
   "id": "d9f5be55-7e51-4c6d-a681-ff328c81044f",
   "metadata": {},
   "outputs": [
    {
     "data": {
      "text/plain": [
       "array([[0., 0., 0., 0.],\n",
       "       [0., 0., 0., 0.],\n",
       "       [0., 0., 0., 0.]])"
      ]
     },
     "execution_count": 14,
     "metadata": {},
     "output_type": "execute_result"
    }
   ],
   "source": [
    "np.zeros((3,4))\n",
    "\n",
    "# creates a 2 dimensional array, with all zeroes where 1st mentioned index is number o rows and the 2nd mentioned\n",
    "# index is the number of columns."
   ]
  },
  {
   "cell_type": "code",
   "execution_count": 15,
   "id": "dbfd6db1-4856-4ef8-a5ef-5f336461fb6c",
   "metadata": {},
   "outputs": [
    {
     "data": {
      "text/plain": [
       "array([[[0., 0.],\n",
       "        [0., 0.],\n",
       "        [0., 0.],\n",
       "        [0., 0.]],\n",
       "\n",
       "       [[0., 0.],\n",
       "        [0., 0.],\n",
       "        [0., 0.],\n",
       "        [0., 0.]],\n",
       "\n",
       "       [[0., 0.],\n",
       "        [0., 0.],\n",
       "        [0., 0.],\n",
       "        [0., 0.]]])"
      ]
     },
     "execution_count": 15,
     "metadata": {},
     "output_type": "execute_result"
    }
   ],
   "source": [
    "np.zeros((3,4,2))\n",
    "\n",
    "# here it means we have (4,2) arrays which are 2 dimensional arrays and 3rd dimension is how many number of such\n",
    "# 2 dimensional arrays are present.\n",
    "\n",
    "# (i,j,k) -> it means we have \"i\" number of (j,k) number of 2 dimensional arrays. "
   ]
  },
  {
   "cell_type": "code",
   "execution_count": 16,
   "id": "464063ae-645d-4d12-9749-6ede281b63b7",
   "metadata": {},
   "outputs": [
    {
     "data": {
      "text/plain": [
       "array([[[[0., 0., 0.],\n",
       "         [0., 0., 0.]],\n",
       "\n",
       "        [[0., 0., 0.],\n",
       "         [0., 0., 0.]],\n",
       "\n",
       "        [[0., 0., 0.],\n",
       "         [0., 0., 0.]],\n",
       "\n",
       "        [[0., 0., 0.],\n",
       "         [0., 0., 0.]]],\n",
       "\n",
       "\n",
       "       [[[0., 0., 0.],\n",
       "         [0., 0., 0.]],\n",
       "\n",
       "        [[0., 0., 0.],\n",
       "         [0., 0., 0.]],\n",
       "\n",
       "        [[0., 0., 0.],\n",
       "         [0., 0., 0.]],\n",
       "\n",
       "        [[0., 0., 0.],\n",
       "         [0., 0., 0.]]],\n",
       "\n",
       "\n",
       "       [[[0., 0., 0.],\n",
       "         [0., 0., 0.]],\n",
       "\n",
       "        [[0., 0., 0.],\n",
       "         [0., 0., 0.]],\n",
       "\n",
       "        [[0., 0., 0.],\n",
       "         [0., 0., 0.]],\n",
       "\n",
       "        [[0., 0., 0.],\n",
       "         [0., 0., 0.]]]])"
      ]
     },
     "execution_count": 16,
     "metadata": {},
     "output_type": "execute_result"
    }
   ],
   "source": [
    "np.zeros((3,4,2,3))\n",
    "\n",
    "\n",
    "# we will get 3 number of (4,2,3) matrices."
   ]
  },
  {
   "cell_type": "code",
   "execution_count": 17,
   "id": "963c7283-a45b-42c7-bc6d-ed000400cd1e",
   "metadata": {},
   "outputs": [
    {
     "data": {
      "text/plain": [
       "array([1., 1., 1., 1., 1.])"
      ]
     },
     "execution_count": 17,
     "metadata": {},
     "output_type": "execute_result"
    }
   ],
   "source": [
    "# generates an array of 1's \n",
    "\n",
    "np.ones(5)"
   ]
  },
  {
   "cell_type": "code",
   "execution_count": 18,
   "id": "458b5bb3-1fe2-4a73-bdcb-ba3bee9629eb",
   "metadata": {},
   "outputs": [
    {
     "data": {
      "text/plain": [
       "array([[1., 1., 1., 1.],\n",
       "       [1., 1., 1., 1.],\n",
       "       [1., 1., 1., 1.]])"
      ]
     },
     "execution_count": 18,
     "metadata": {},
     "output_type": "execute_result"
    }
   ],
   "source": [
    "np.ones((3,4))"
   ]
  },
  {
   "cell_type": "code",
   "execution_count": 19,
   "id": "7f35d738-c795-4ffb-9e4d-5c683d5181ef",
   "metadata": {},
   "outputs": [],
   "source": [
    "arr = np.ones((3,4))"
   ]
  },
  {
   "cell_type": "code",
   "execution_count": 20,
   "id": "c93ca9d5-36c2-4203-971e-96da479db601",
   "metadata": {},
   "outputs": [
    {
     "data": {
      "text/plain": [
       "array([[6., 6., 6., 6.],\n",
       "       [6., 6., 6., 6.],\n",
       "       [6., 6., 6., 6.]])"
      ]
     },
     "execution_count": 20,
     "metadata": {},
     "output_type": "execute_result"
    }
   ],
   "source": [
    "arr + 5\n",
    "\n",
    "# For each element in array, "
   ]
  },
  {
   "cell_type": "code",
   "execution_count": 21,
   "id": "31f6bd02-285a-42aa-992b-7a5470bbcadc",
   "metadata": {},
   "outputs": [
    {
     "data": {
      "text/plain": [
       "array([[4., 4., 4., 4.],\n",
       "       [4., 4., 4., 4.],\n",
       "       [4., 4., 4., 4.]])"
      ]
     },
     "execution_count": 21,
     "metadata": {},
     "output_type": "execute_result"
    }
   ],
   "source": [
    "arr * 4"
   ]
  },
  {
   "cell_type": "code",
   "execution_count": 23,
   "id": "4915d3c6-a21d-44f0-859f-97317a4fa3cf",
   "metadata": {},
   "outputs": [
    {
     "data": {
      "text/plain": [
       "array([[4., 4., 4., 4.],\n",
       "       [4., 4., 4., 4.],\n",
       "       [4., 4., 4., 4.]])"
      ]
     },
     "execution_count": 23,
     "metadata": {},
     "output_type": "execute_result"
    }
   ],
   "source": [
    "np.empty((3,4))"
   ]
  },
  {
   "cell_type": "code",
   "execution_count": 24,
   "id": "d69e6d07-565e-4221-ae6e-14bf61f23f63",
   "metadata": {},
   "outputs": [
    {
     "data": {
      "text/plain": [
       "array([[1., 0., 0., 0., 0.],\n",
       "       [0., 1., 0., 0., 0.],\n",
       "       [0., 0., 1., 0., 0.],\n",
       "       [0., 0., 0., 1., 0.],\n",
       "       [0., 0., 0., 0., 1.]])"
      ]
     },
     "execution_count": 24,
     "metadata": {},
     "output_type": "execute_result"
    }
   ],
   "source": [
    "# Identity matrix : only diagonal elements are 1, and non-diagonal elements will be zero.\n",
    "# Identity matrix : is always a square matrix(No.of rows = No.of columns)\n",
    "np.eye(5)"
   ]
  },
  {
   "cell_type": "code",
   "execution_count": 27,
   "id": "bc085792-6736-4973-93d1-5cfe10652e2d",
   "metadata": {},
   "outputs": [],
   "source": [
    "arr1 = np.eye(5)"
   ]
  },
  {
   "cell_type": "code",
   "execution_count": 25,
   "id": "ba65f48d-812e-44fe-9005-e61c0de602cf",
   "metadata": {},
   "outputs": [],
   "source": [
    "# converting the array into a dataframe:\n",
    "\n",
    "import pandas as pd"
   ]
  },
  {
   "cell_type": "code",
   "execution_count": 28,
   "id": "2f9b44f5-23fc-40bf-8e3b-d1cce04369a1",
   "metadata": {},
   "outputs": [
    {
     "data": {
      "text/html": [
       "<div>\n",
       "<style scoped>\n",
       "    .dataframe tbody tr th:only-of-type {\n",
       "        vertical-align: middle;\n",
       "    }\n",
       "\n",
       "    .dataframe tbody tr th {\n",
       "        vertical-align: top;\n",
       "    }\n",
       "\n",
       "    .dataframe thead th {\n",
       "        text-align: right;\n",
       "    }\n",
       "</style>\n",
       "<table border=\"1\" class=\"dataframe\">\n",
       "  <thead>\n",
       "    <tr style=\"text-align: right;\">\n",
       "      <th></th>\n",
       "      <th>0</th>\n",
       "      <th>1</th>\n",
       "      <th>2</th>\n",
       "      <th>3</th>\n",
       "      <th>4</th>\n",
       "    </tr>\n",
       "  </thead>\n",
       "  <tbody>\n",
       "    <tr>\n",
       "      <th>0</th>\n",
       "      <td>1.0</td>\n",
       "      <td>0.0</td>\n",
       "      <td>0.0</td>\n",
       "      <td>0.0</td>\n",
       "      <td>0.0</td>\n",
       "    </tr>\n",
       "    <tr>\n",
       "      <th>1</th>\n",
       "      <td>0.0</td>\n",
       "      <td>1.0</td>\n",
       "      <td>0.0</td>\n",
       "      <td>0.0</td>\n",
       "      <td>0.0</td>\n",
       "    </tr>\n",
       "    <tr>\n",
       "      <th>2</th>\n",
       "      <td>0.0</td>\n",
       "      <td>0.0</td>\n",
       "      <td>1.0</td>\n",
       "      <td>0.0</td>\n",
       "      <td>0.0</td>\n",
       "    </tr>\n",
       "    <tr>\n",
       "      <th>3</th>\n",
       "      <td>0.0</td>\n",
       "      <td>0.0</td>\n",
       "      <td>0.0</td>\n",
       "      <td>1.0</td>\n",
       "      <td>0.0</td>\n",
       "    </tr>\n",
       "    <tr>\n",
       "      <th>4</th>\n",
       "      <td>0.0</td>\n",
       "      <td>0.0</td>\n",
       "      <td>0.0</td>\n",
       "      <td>0.0</td>\n",
       "      <td>1.0</td>\n",
       "    </tr>\n",
       "  </tbody>\n",
       "</table>\n",
       "</div>"
      ],
      "text/plain": [
       "     0    1    2    3    4\n",
       "0  1.0  0.0  0.0  0.0  0.0\n",
       "1  0.0  1.0  0.0  0.0  0.0\n",
       "2  0.0  0.0  1.0  0.0  0.0\n",
       "3  0.0  0.0  0.0  1.0  0.0\n",
       "4  0.0  0.0  0.0  0.0  1.0"
      ]
     },
     "execution_count": 28,
     "metadata": {},
     "output_type": "execute_result"
    }
   ],
   "source": [
    "pd.DataFrame(arr1)"
   ]
  },
  {
   "cell_type": "code",
   "execution_count": 2,
   "id": "f4f66e08-3731-4e2f-ae05-a7154e56221f",
   "metadata": {},
   "outputs": [
    {
     "data": {
      "text/plain": [
       "array([[0.30228318, 0.2079964 ],\n",
       "       [0.38057657, 0.94930198],\n",
       "       [0.31535568, 0.01048755]])"
      ]
     },
     "execution_count": 2,
     "metadata": {},
     "output_type": "execute_result"
    }
   ],
   "source": [
    "# For generating random data: generates data randomly.\n",
    "\n",
    "np.random.rand(3,2)"
   ]
  },
  {
   "cell_type": "code",
   "execution_count": 4,
   "id": "f8aea4b7-4364-46f1-9386-27babc13f9ea",
   "metadata": {},
   "outputs": [
    {
     "data": {
      "text/plain": [
       "array([[ 1.3278357 , -0.72859867],\n",
       "       [ 0.54661492,  1.223045  ],\n",
       "       [-0.63259471, -0.56819247]])"
      ]
     },
     "execution_count": 4,
     "metadata": {},
     "output_type": "execute_result"
    }
   ],
   "source": [
    "\n",
    "np.random.randn(3,2)"
   ]
  },
  {
   "cell_type": "code",
   "execution_count": null,
   "id": "fb87bf6f-f8e6-4148-b2db-2fbc99d7e19e",
   "metadata": {},
   "outputs": [],
   "source": [
    "# Difference between rand() and randn()\n",
    "\n",
    "rand() - It generates random numbers, where mean and std deviation can be anything\n",
    "randn() - standard normal distribution( mean = 0, std deviation = 1) "
   ]
  },
  {
   "cell_type": "code",
   "execution_count": 5,
   "id": "862b4841-f895-4408-a060-26bcad83658c",
   "metadata": {},
   "outputs": [
    {
     "data": {
      "text/plain": [
       "array([[3, 4, 3, 4],\n",
       "       [2, 1, 1, 1],\n",
       "       [1, 2, 1, 3]])"
      ]
     },
     "execution_count": 5,
     "metadata": {},
     "output_type": "execute_result"
    }
   ],
   "source": [
    "# generates random data between a given range of the specified shape\n",
    "\n",
    "np.random.randint(1,5, (3,4))\n",
    "# We need a matrix of size 3*4 where all the elements should be between 1 and 5.\n",
    "\n",
    "# such functions are very effective for data manipulation"
   ]
  },
  {
   "cell_type": "code",
   "execution_count": 6,
   "id": "1a985d29-e551-4f5d-89a9-020e2e1dd5ed",
   "metadata": {},
   "outputs": [],
   "source": [
    "arr2 = np.random.randint(1,5, (3,4))"
   ]
  },
  {
   "cell_type": "code",
   "execution_count": 7,
   "id": "f2365d8c-ebef-45d1-b0e6-dff48168aa76",
   "metadata": {},
   "outputs": [
    {
     "data": {
      "text/plain": [
       "12"
      ]
     },
     "execution_count": 7,
     "metadata": {},
     "output_type": "execute_result"
    }
   ],
   "source": [
    "arr2.size"
   ]
  },
  {
   "cell_type": "code",
   "execution_count": 8,
   "id": "96e913db-d216-4094-94e7-b12f7c0c699f",
   "metadata": {},
   "outputs": [
    {
     "data": {
      "text/plain": [
       "(3, 4)"
      ]
     },
     "execution_count": 8,
     "metadata": {},
     "output_type": "execute_result"
    }
   ],
   "source": [
    "arr2.shape"
   ]
  },
  {
   "cell_type": "code",
   "execution_count": 10,
   "id": "7b11cfb2-c633-456f-be28-99c1b687450d",
   "metadata": {},
   "outputs": [
    {
     "data": {
      "text/plain": [
       "array([[1, 3],\n",
       "       [4, 1],\n",
       "       [1, 3],\n",
       "       [4, 3],\n",
       "       [2, 4],\n",
       "       [3, 4]])"
      ]
     },
     "execution_count": 10,
     "metadata": {},
     "output_type": "execute_result"
    }
   ],
   "source": [
    "# Assume we want to change the shape, then we can use reshape()\n",
    "# we should make sure that the total number of elements in new shape must be same as that of previous shape.\n",
    "\n",
    "arr2.reshape(6,2)"
   ]
  },
  {
   "cell_type": "code",
   "execution_count": 11,
   "id": "d5dcb5d6-8288-4fbf-bd69-fd1ee8e5f5a4",
   "metadata": {},
   "outputs": [
    {
     "ename": "ValueError",
     "evalue": "cannot reshape array of size 12 into shape (6,3)",
     "output_type": "error",
     "traceback": [
      "\u001b[0;31m---------------------------------------------------------------------------\u001b[0m",
      "\u001b[0;31mValueError\u001b[0m                                Traceback (most recent call last)",
      "Cell \u001b[0;32mIn[11], line 1\u001b[0m\n\u001b[0;32m----> 1\u001b[0m \u001b[43marr2\u001b[49m\u001b[38;5;241;43m.\u001b[39;49m\u001b[43mreshape\u001b[49m\u001b[43m(\u001b[49m\u001b[38;5;241;43m6\u001b[39;49m\u001b[43m,\u001b[49m\u001b[38;5;241;43m3\u001b[39;49m\u001b[43m)\u001b[49m\n",
      "\u001b[0;31mValueError\u001b[0m: cannot reshape array of size 12 into shape (6,3)"
     ]
    }
   ],
   "source": [
    "arr2.reshape(6,3)"
   ]
  },
  {
   "cell_type": "code",
   "execution_count": 12,
   "id": "48359edf-ded4-4a33-b268-8a31bee4ff5a",
   "metadata": {},
   "outputs": [
    {
     "data": {
      "text/plain": [
       "array([[1, 3, 4, 1, 1, 3],\n",
       "       [4, 3, 2, 4, 3, 4]])"
      ]
     },
     "execution_count": 12,
     "metadata": {},
     "output_type": "execute_result"
    }
   ],
   "source": [
    "arr2.reshape(2,6)"
   ]
  },
  {
   "cell_type": "code",
   "execution_count": 13,
   "id": "f95e55f8-ccf5-4562-b8dd-5e1aa61faebd",
   "metadata": {},
   "outputs": [
    {
     "data": {
      "text/plain": [
       "array([[1, 3, 4],\n",
       "       [1, 1, 3],\n",
       "       [4, 3, 2],\n",
       "       [4, 3, 4]])"
      ]
     },
     "execution_count": 13,
     "metadata": {},
     "output_type": "execute_result"
    }
   ],
   "source": [
    "arr2.reshape(4,3)"
   ]
  },
  {
   "cell_type": "code",
   "execution_count": 14,
   "id": "935ea6ae-2302-42f0-9489-057097d30c36",
   "metadata": {},
   "outputs": [
    {
     "data": {
      "text/plain": [
       "array([[1, 3, 4],\n",
       "       [1, 1, 3],\n",
       "       [4, 3, 2],\n",
       "       [4, 3, 4]])"
      ]
     },
     "execution_count": 14,
     "metadata": {},
     "output_type": "execute_result"
    }
   ],
   "source": [
    "arr2.reshape(4,-1)\n",
    "\n",
    "# for 2nd number in shape we can give any number. It's completely fine."
   ]
  },
  {
   "cell_type": "code",
   "execution_count": 15,
   "id": "e7c1c1e3-a23b-46b9-914c-088982877a3c",
   "metadata": {},
   "outputs": [
    {
     "data": {
      "text/plain": [
       "array([[1, 3, 4],\n",
       "       [1, 1, 3],\n",
       "       [4, 3, 2],\n",
       "       [4, 3, 4]])"
      ]
     },
     "execution_count": 15,
     "metadata": {},
     "output_type": "execute_result"
    }
   ],
   "source": [
    "arr2.reshape(4,-33)"
   ]
  },
  {
   "cell_type": "code",
   "execution_count": 16,
   "id": "04102e96-4b57-4e9c-9ec6-f60204d4146e",
   "metadata": {},
   "outputs": [
    {
     "data": {
      "text/plain": [
       "array([[[1, 3, 4],\n",
       "        [1, 1, 3]],\n",
       "\n",
       "       [[4, 3, 2],\n",
       "        [4, 3, 4]]])"
      ]
     },
     "execution_count": 16,
     "metadata": {},
     "output_type": "execute_result"
    }
   ],
   "source": [
    "arr2.reshape(2,2,3)"
   ]
  },
  {
   "cell_type": "code",
   "execution_count": 21,
   "id": "bb03f4f5-47ee-4d58-92d4-5dfb4fc09cc2",
   "metadata": {},
   "outputs": [
    {
     "data": {
      "text/plain": [
       "array([[[[[[1]]],\n",
       "\n",
       "\n",
       "         [[[3]]],\n",
       "\n",
       "\n",
       "         [[[4]]]],\n",
       "\n",
       "\n",
       "\n",
       "        [[[[1]]],\n",
       "\n",
       "\n",
       "         [[[1]]],\n",
       "\n",
       "\n",
       "         [[[3]]]]],\n",
       "\n",
       "\n",
       "\n",
       "\n",
       "       [[[[[4]]],\n",
       "\n",
       "\n",
       "         [[[3]]],\n",
       "\n",
       "\n",
       "         [[[2]]]],\n",
       "\n",
       "\n",
       "\n",
       "        [[[[4]]],\n",
       "\n",
       "\n",
       "         [[[3]]],\n",
       "\n",
       "\n",
       "         [[[4]]]]]])"
      ]
     },
     "execution_count": 21,
     "metadata": {},
     "output_type": "execute_result"
    }
   ],
   "source": [
    "arr2.reshape(2,2,3,1,1,1)"
   ]
  },
  {
   "cell_type": "code",
   "execution_count": 18,
   "id": "74b2a9c3-9972-4695-9d36-81081225d26d",
   "metadata": {},
   "outputs": [],
   "source": [
    "arr3 = np.random.randint(1,10, (5,6))\n",
    "\n",
    "# generate a dataset, such that all elements are in range(1,10) and we need an array of size (5,6)."
   ]
  },
  {
   "cell_type": "code",
   "execution_count": 19,
   "id": "86b01d2b-78e9-472f-98e3-9fd8d0e7bab3",
   "metadata": {},
   "outputs": [
    {
     "data": {
      "text/plain": [
       "array([[7, 9, 8, 1, 1, 6],\n",
       "       [5, 4, 9, 5, 7, 4],\n",
       "       [4, 1, 7, 6, 3, 9],\n",
       "       [1, 8, 3, 8, 5, 8],\n",
       "       [3, 8, 1, 3, 6, 4]])"
      ]
     },
     "execution_count": 19,
     "metadata": {},
     "output_type": "execute_result"
    }
   ],
   "source": [
    "arr3"
   ]
  },
  {
   "cell_type": "code",
   "execution_count": 20,
   "id": "4d91ca36-6389-47a2-a4bf-3e17798ac653",
   "metadata": {},
   "outputs": [
    {
     "data": {
      "text/plain": [
       "array([[False,  True,  True, False, False, False],\n",
       "       [False, False,  True, False, False, False],\n",
       "       [False, False, False, False, False,  True],\n",
       "       [False,  True, False,  True, False,  True],\n",
       "       [False,  True, False, False, False, False]])"
      ]
     },
     "execution_count": 20,
     "metadata": {},
     "output_type": "execute_result"
    }
   ],
   "source": [
    "# Let's try to filter all the data where elements are > 7.\n",
    "\n",
    "arr3 > 7 # this returns a boolean array."
   ]
  },
  {
   "cell_type": "code",
   "execution_count": 23,
   "id": "ebb05f69-8237-4162-82e6-d91e5d87829b",
   "metadata": {},
   "outputs": [
    {
     "data": {
      "text/plain": [
       "array([9, 9, 9])"
      ]
     },
     "execution_count": 23,
     "metadata": {},
     "output_type": "execute_result"
    }
   ],
   "source": [
    "arr3[arr3 >8]"
   ]
  },
  {
   "cell_type": "code",
   "execution_count": 25,
   "id": "1da64fa7-a836-4949-bda4-08febf0a8cbc",
   "metadata": {},
   "outputs": [
    {
     "data": {
      "text/plain": [
       "array([7, 9])"
      ]
     },
     "execution_count": 25,
     "metadata": {},
     "output_type": "execute_result"
    }
   ],
   "source": [
    "# Extracting part(subset) of 2 D array\n",
    "# Eg: First 2 elements in 1st row.\n",
    "\n",
    "\n",
    "arr3[0,[0,1]]\n",
    "\n",
    "# The 1st number , tells what is the row number and the 2nd number tells"
   ]
  },
  {
   "cell_type": "code",
   "execution_count": 26,
   "id": "b1f33fa2-021b-4676-b150-c42a3c5199f3",
   "metadata": {},
   "outputs": [
    {
     "data": {
      "text/plain": [
       "array([[7, 6],\n",
       "       [3, 8]])"
      ]
     },
     "execution_count": 26,
     "metadata": {},
     "output_type": "execute_result"
    }
   ],
   "source": [
    "arr3[2:4 , [2,3]]\n",
    "\n",
    "# From 2nd and 3rd row, (start to end-1) it gets elements in range(2,3)\n",
    "# This is similar to List Slicing and Indexing."
   ]
  },
  {
   "cell_type": "code",
   "execution_count": 27,
   "id": "aa5cfc8b-3a32-4b77-8464-fbd699f5acfd",
   "metadata": {},
   "outputs": [
    {
     "data": {
      "text/plain": [
       "array([[2, 1, 2],\n",
       "       [2, 2, 2],\n",
       "       [1, 1, 1]])"
      ]
     },
     "execution_count": 27,
     "metadata": {},
     "output_type": "execute_result"
    }
   ],
   "source": [
    "np.random.randint(1,3, (3,3))"
   ]
  },
  {
   "cell_type": "code",
   "execution_count": 5,
   "id": "da621636-f91f-485a-8764-7303836ab6ac",
   "metadata": {},
   "outputs": [],
   "source": [
    "arr4 = np.random.randint(1,3, (3,3))"
   ]
  },
  {
   "cell_type": "code",
   "execution_count": 29,
   "id": "270b5ba7-e184-4eb9-8260-072ab52650d8",
   "metadata": {},
   "outputs": [],
   "source": [
    "arr5 = np.random.randint(1,3, (3,3))"
   ]
  },
  {
   "cell_type": "code",
   "execution_count": 30,
   "id": "87937073-96e7-476d-94fa-a536baeba9e3",
   "metadata": {},
   "outputs": [
    {
     "data": {
      "text/plain": [
       "array([[3, 3, 3],\n",
       "       [4, 3, 4],\n",
       "       [2, 3, 4]])"
      ]
     },
     "execution_count": 30,
     "metadata": {},
     "output_type": "execute_result"
    }
   ],
   "source": [
    "arr4 + arr5\n",
    "\n",
    "# Here it performs index wise addition operation."
   ]
  },
  {
   "cell_type": "code",
   "execution_count": 31,
   "id": "54681c46-97d3-4786-a896-88e2a66f08ca",
   "metadata": {},
   "outputs": [
    {
     "data": {
      "text/plain": [
       "array([[ 1, -1,  1],\n",
       "       [ 0,  1,  0],\n",
       "       [ 0, -1,  0]])"
      ]
     },
     "execution_count": 31,
     "metadata": {},
     "output_type": "execute_result"
    }
   ],
   "source": [
    "arr4 - arr5"
   ]
  },
  {
   "cell_type": "code",
   "execution_count": 32,
   "id": "d03b23ba-165c-430f-a8a4-33127d398111",
   "metadata": {},
   "outputs": [
    {
     "data": {
      "text/plain": [
       "array([[2, 2, 2],\n",
       "       [4, 2, 4],\n",
       "       [1, 2, 4]])"
      ]
     },
     "execution_count": 32,
     "metadata": {},
     "output_type": "execute_result"
    }
   ],
   "source": [
    "arr4 * arr5\n",
    "\n",
    "# Here it performs index wise multiplication operation.\n"
   ]
  },
  {
   "cell_type": "code",
   "execution_count": null,
   "id": "d9cf13e5-c9b7-426a-ab03-f2cbf60bf998",
   "metadata": {},
   "outputs": [],
   "source": [
    "# How we will be able to do Matrix multiplication:\n",
    "# To accomplish matrix multiplication, the no.of columns in 1st matrix have to be equal to no.of rows in 1st matrix\n",
    "\n",
    "# if m1 is 3*4 size, and m2 is 4*5 size then m1*m2 is of size \"3*5\".\n",
    "# If m1 is of size p*q , and m2 is of size l*m then q=l, then only matrix multiplication is possible."
   ]
  },
  {
   "cell_type": "markdown",
   "id": "6b9b0606-5672-4a66-95aa-c27b8f37313b",
   "metadata": {},
   "source": [
    "matrix multiplication is done by taking row wise(a row) and column wise(a column)\n",
    "\n",
    "Eg: To obtain 1,2 element in resultant matrix, then 1st row in mat1 and 2nd column in 2nd matrix, and then do\n",
    "  element wise multiplication followed by addition of all multiplied elements to get the resultant element at \n",
    "  that index."
   ]
  },
  {
   "cell_type": "code",
   "execution_count": 33,
   "id": "94d134fb-9317-4a7e-aff5-9636c55c6b47",
   "metadata": {},
   "outputs": [
    {
     "data": {
      "text/plain": [
       "array([[ 6,  9,  8],\n",
       "       [ 8, 10, 10],\n",
       "       [ 5,  7,  7]])"
      ]
     },
     "execution_count": 33,
     "metadata": {},
     "output_type": "execute_result"
    }
   ],
   "source": [
    "arr4@arr5\n",
    "\n",
    "# Matrix multiplication."
   ]
  },
  {
   "cell_type": "code",
   "execution_count": 34,
   "id": "a00c595a-a433-490a-8514-d2c85db72532",
   "metadata": {},
   "outputs": [
    {
     "data": {
      "text/plain": [
       "array([[2. , 0.5, 2. ],\n",
       "       [1. , 2. , 1. ],\n",
       "       [1. , 0.5, 1. ]])"
      ]
     },
     "execution_count": 34,
     "metadata": {},
     "output_type": "execute_result"
    }
   ],
   "source": [
    "arr4/arr5"
   ]
  },
  {
   "cell_type": "code",
   "execution_count": 6,
   "id": "757aeca9-9669-4b5d-beaa-4dce8e729b94",
   "metadata": {},
   "outputs": [
    {
     "name": "stderr",
     "output_type": "stream",
     "text": [
      "/tmp/ipykernel_1773/1674986024.py:1: RuntimeWarning: divide by zero encountered in divide\n",
      "  arr4/0\n"
     ]
    },
    {
     "data": {
      "text/plain": [
       "array([[inf, inf, inf],\n",
       "       [inf, inf, inf],\n",
       "       [inf, inf, inf]])"
      ]
     },
     "execution_count": 6,
     "metadata": {},
     "output_type": "execute_result"
    }
   ],
   "source": [
    "arr4/0\n",
    "\n",
    "# here it gives infinity, but in python it gives divide by zero(0) exception."
   ]
  },
  {
   "cell_type": "code",
   "execution_count": 8,
   "id": "8793842d-9ae7-49b1-97ac-240d9c4fe010",
   "metadata": {},
   "outputs": [],
   "source": [
    "# Numpy - Broadcasting:\n",
    "\n",
    "arr6 = np.zeros((3,4))"
   ]
  },
  {
   "cell_type": "code",
   "execution_count": 9,
   "id": "ad2099d5-2bbd-468a-a8a6-ce49431a953d",
   "metadata": {},
   "outputs": [
    {
     "data": {
      "text/plain": [
       "array([[0., 0., 0., 0.],\n",
       "       [0., 0., 0., 0.],\n",
       "       [0., 0., 0., 0.]])"
      ]
     },
     "execution_count": 9,
     "metadata": {},
     "output_type": "execute_result"
    }
   ],
   "source": [
    "arr6"
   ]
  },
  {
   "cell_type": "code",
   "execution_count": 10,
   "id": "b69f5a49-c9bb-4471-baaf-13ea78857572",
   "metadata": {},
   "outputs": [
    {
     "data": {
      "text/plain": [
       "array([[5., 5., 5., 5.],\n",
       "       [5., 5., 5., 5.],\n",
       "       [5., 5., 5., 5.]])"
      ]
     },
     "execution_count": 10,
     "metadata": {},
     "output_type": "execute_result"
    }
   ],
   "source": [
    "arr6 + 5\n",
    "\n",
    "# Here we are trying to broadcast the same to each and every element in array."
   ]
  },
  {
   "cell_type": "code",
   "execution_count": 11,
   "id": "46f20746-c936-4f55-86e3-ccf3e456f1ec",
   "metadata": {},
   "outputs": [],
   "source": [
    "a = np.array([1,2,3,4])"
   ]
  },
  {
   "cell_type": "code",
   "execution_count": 12,
   "id": "c0b57491-e9a6-4905-8095-c63d90d6d02a",
   "metadata": {},
   "outputs": [
    {
     "data": {
      "text/plain": [
       "array([[1., 2., 3., 4.],\n",
       "       [1., 2., 3., 4.],\n",
       "       [1., 2., 3., 4.]])"
      ]
     },
     "execution_count": 12,
     "metadata": {},
     "output_type": "execute_result"
    }
   ],
   "source": [
    "arr + a"
   ]
  },
  {
   "cell_type": "code",
   "execution_count": 13,
   "id": "5134e972-0855-431f-aabb-a04a447422c4",
   "metadata": {},
   "outputs": [],
   "source": [
    "b = np.array([[3,4,5]])"
   ]
  },
  {
   "cell_type": "code",
   "execution_count": 14,
   "id": "97f6f577-9f46-465c-b346-d5146da1d87a",
   "metadata": {},
   "outputs": [],
   "source": [
    "arr7 = arr6 + b.T"
   ]
  },
  {
   "cell_type": "code",
   "execution_count": 15,
   "id": "99f631ea-1fb7-413b-a256-351e159d5607",
   "metadata": {},
   "outputs": [
    {
     "data": {
      "text/plain": [
       "array([[3., 3., 3., 3.],\n",
       "       [4., 4., 4., 4.],\n",
       "       [5., 5., 5., 5.]])"
      ]
     },
     "execution_count": 15,
     "metadata": {},
     "output_type": "execute_result"
    }
   ],
   "source": [
    "arr7"
   ]
  },
  {
   "cell_type": "code",
   "execution_count": 16,
   "id": "c64d92f5-abcd-409d-9e98-05e477c58389",
   "metadata": {},
   "outputs": [
    {
     "data": {
      "text/plain": [
       "array([[3],\n",
       "       [4],\n",
       "       [5]])"
      ]
     },
     "execution_count": 16,
     "metadata": {},
     "output_type": "execute_result"
    }
   ],
   "source": [
    "b.T"
   ]
  },
  {
   "cell_type": "code",
   "execution_count": 17,
   "id": "92ebbf27-fba0-4200-bc4a-f3fca8727668",
   "metadata": {},
   "outputs": [
    {
     "data": {
      "text/plain": [
       "array([[1.73205081, 1.73205081, 1.73205081, 1.73205081],\n",
       "       [2.        , 2.        , 2.        , 2.        ],\n",
       "       [2.23606798, 2.23606798, 2.23606798, 2.23606798]])"
      ]
     },
     "execution_count": 17,
     "metadata": {},
     "output_type": "execute_result"
    }
   ],
   "source": [
    "# Finding square root of every element in array.\n",
    "\n",
    "np.sqrt(arr7)"
   ]
  },
  {
   "cell_type": "code",
   "execution_count": 18,
   "id": "42f5b571-d125-46e4-8c62-6411a715491a",
   "metadata": {},
   "outputs": [
    {
     "data": {
      "text/plain": [
       "array([[0.47712125, 0.47712125, 0.47712125, 0.47712125],\n",
       "       [0.60205999, 0.60205999, 0.60205999, 0.60205999],\n",
       "       [0.69897   , 0.69897   , 0.69897   , 0.69897   ]])"
      ]
     },
     "execution_count": 18,
     "metadata": {},
     "output_type": "execute_result"
    }
   ],
   "source": [
    "# Finding log with respect to base 10.\n",
    "\n",
    "np.log10(arr7)"
   ]
  },
  {
   "cell_type": "code",
   "execution_count": 20,
   "id": "5cd9e7c8-d701-4022-8541-00167dc98528",
   "metadata": {},
   "outputs": [
    {
     "data": {
      "text/plain": [
       "array([[ 20.08553692,  20.08553692,  20.08553692,  20.08553692],\n",
       "       [ 54.59815003,  54.59815003,  54.59815003,  54.59815003],\n",
       "       [148.4131591 , 148.4131591 , 148.4131591 , 148.4131591 ]])"
      ]
     },
     "execution_count": 20,
     "metadata": {},
     "output_type": "execute_result"
    }
   ],
   "source": [
    "# Finding exponent with respect to \"e\"\n",
    "\n",
    "np.exp(arr7)"
   ]
  },
  {
   "cell_type": "code",
   "execution_count": 21,
   "id": "9730a6c7-917b-44ea-ba5f-21c0a26bad50",
   "metadata": {},
   "outputs": [
    {
     "data": {
      "text/plain": [
       "3.0"
      ]
     },
     "execution_count": 21,
     "metadata": {},
     "output_type": "execute_result"
    }
   ],
   "source": [
    "np.min(arr7)"
   ]
  },
  {
   "cell_type": "code",
   "execution_count": 22,
   "id": "9e31367d-c71d-4013-bc45-056c0bb23b69",
   "metadata": {},
   "outputs": [
    {
     "data": {
      "text/plain": [
       "5.0"
      ]
     },
     "execution_count": 22,
     "metadata": {},
     "output_type": "execute_result"
    }
   ],
   "source": [
    "np.max(arr7)"
   ]
  },
  {
   "cell_type": "code",
   "execution_count": null,
   "id": "62db1c72-1ed9-4930-a1b9-a0dd0eaa35bd",
   "metadata": {},
   "outputs": [],
   "source": []
  }
 ],
 "metadata": {
  "kernelspec": {
   "display_name": "Python 3 (ipykernel)",
   "language": "python",
   "name": "python3"
  },
  "language_info": {
   "codemirror_mode": {
    "name": "ipython",
    "version": 3
   },
   "file_extension": ".py",
   "mimetype": "text/x-python",
   "name": "python",
   "nbconvert_exporter": "python",
   "pygments_lexer": "ipython3",
   "version": "3.10.8"
  }
 },
 "nbformat": 4,
 "nbformat_minor": 5
}
