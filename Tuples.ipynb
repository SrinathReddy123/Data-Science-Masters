{
 "cells": [
  {
   "cell_type": "code",
   "execution_count": 1,
   "id": "d47c376d-3fd5-466c-adf3-7c0c6ff6e490",
   "metadata": {},
   "outputs": [],
   "source": [
    "t= ()"
   ]
  },
  {
   "cell_type": "code",
   "execution_count": 2,
   "id": "25f66a6b-8d7c-4072-b575-30765382632e",
   "metadata": {},
   "outputs": [
    {
     "data": {
      "text/plain": [
       "tuple"
      ]
     },
     "execution_count": 2,
     "metadata": {},
     "output_type": "execute_result"
    }
   ],
   "source": [
    "type(t)\n"
   ]
  },
  {
   "cell_type": "code",
   "execution_count": 3,
   "id": "c3d011a0-47ae-4419-92a7-a445e574ae92",
   "metadata": {},
   "outputs": [],
   "source": [
    "t1=(1,1.2,3+2j,\"sri\",True)"
   ]
  },
  {
   "cell_type": "code",
   "execution_count": 4,
   "id": "9023f06f-61d8-4758-968f-6600cf611319",
   "metadata": {},
   "outputs": [
    {
     "data": {
      "text/plain": [
       "tuple"
      ]
     },
     "execution_count": 4,
     "metadata": {},
     "output_type": "execute_result"
    }
   ],
   "source": [
    "type(t1)"
   ]
  },
  {
   "cell_type": "markdown",
   "id": "0157f46b-fe44-42f9-a549-74c04136983a",
   "metadata": {},
   "source": [
    "Even in lists we can store the data of different types."
   ]
  },
  {
   "cell_type": "markdown",
   "id": "78b56b19-48f1-4074-b690-d411adaf71e1",
   "metadata": {},
   "source": [
    "For list we use [], for sets we use ()"
   ]
  },
  {
   "cell_type": "markdown",
   "id": "c93c013f-dfb1-48e1-bb64-28ca14b81842",
   "metadata": {},
   "source": [
    "Accessing tuple\n"
   ]
  },
  {
   "cell_type": "code",
   "execution_count": 6,
   "id": "56ee807b-52fc-4673-8b50-267023faa0fd",
   "metadata": {},
   "outputs": [
    {
     "data": {
      "text/plain": [
       "(1, 1.2, (3+2j), 'sri', True)"
      ]
     },
     "execution_count": 6,
     "metadata": {},
     "output_type": "execute_result"
    }
   ],
   "source": [
    "t1"
   ]
  },
  {
   "cell_type": "markdown",
   "id": "9271be73-5953-4251-a886-d6a5978c456f",
   "metadata": {},
   "source": [
    "when tuple is going to store information, it creates indexing and it will try to hold all the information inside \n",
    "those indexes with indices starting from 0.\n"
   ]
  },
  {
   "cell_type": "code",
   "execution_count": 7,
   "id": "f318fa0d-1fac-4a87-b60d-8101c8a7b459",
   "metadata": {},
   "outputs": [
    {
     "data": {
      "text/plain": [
       "1"
      ]
     },
     "execution_count": 7,
     "metadata": {},
     "output_type": "execute_result"
    }
   ],
   "source": [
    "t1[0]"
   ]
  },
  {
   "cell_type": "code",
   "execution_count": 8,
   "id": "2fb1ba96-3875-44a2-b2be-99978710c03d",
   "metadata": {},
   "outputs": [
    {
     "data": {
      "text/plain": [
       "'sri'"
      ]
     },
     "execution_count": 8,
     "metadata": {},
     "output_type": "execute_result"
    }
   ],
   "source": [
    "t1[3]"
   ]
  },
  {
   "cell_type": "code",
   "execution_count": 9,
   "id": "29e574cc-7737-4be4-ad8d-de83cc70e5b7",
   "metadata": {},
   "outputs": [
    {
     "data": {
      "text/plain": [
       "(True, 'sri', (3+2j), 1.2, 1)"
      ]
     },
     "execution_count": 9,
     "metadata": {},
     "output_type": "execute_result"
    }
   ],
   "source": [
    "t1[::-1]"
   ]
  },
  {
   "cell_type": "markdown",
   "id": "04461fa7-38f4-4455-9c36-124debb0ca7c",
   "metadata": {},
   "source": [
    "::-1 -It will give the reverse of a data structure.\n",
    "Because of this, the original structure of tuple doesn't gets changed."
   ]
  },
  {
   "cell_type": "code",
   "execution_count": 10,
   "id": "0013c7ee-f3b8-488e-a9dc-ffeba91c529a",
   "metadata": {},
   "outputs": [],
   "source": [
    "t1 = t1[::-1]"
   ]
  },
  {
   "cell_type": "markdown",
   "id": "e0622983-3e4c-4979-810a-a87a5dd3432f",
   "metadata": {},
   "source": [
    "Now in above line, the original structure of tuple gets changed as there is assignment operator.\n",
    "Now above cell should be executed to see that  original structure of tuple gets changed."
   ]
  },
  {
   "cell_type": "markdown",
   "id": "0db242bc-5412-4455-8b1e-2d32d1427665",
   "metadata": {},
   "source": [
    "Slicing\n",
    "Accessing a part of any data structure is called Slicing.\n",
    "t1[start:end] -> It will print the elements at indices from 0 to end-1."
   ]
  },
  {
   "cell_type": "code",
   "execution_count": 11,
   "id": "0a35a260-e904-4676-8ca8-582611b9c4a1",
   "metadata": {},
   "outputs": [
    {
     "data": {
      "text/plain": [
       "(True, 'sri', (3+2j))"
      ]
     },
     "execution_count": 11,
     "metadata": {},
     "output_type": "execute_result"
    }
   ],
   "source": [
    "t1[0:3]"
   ]
  },
  {
   "cell_type": "markdown",
   "id": "a5248881-e37e-4f6f-aaed-779e91eef23e",
   "metadata": {},
   "source": [
    "Inbuilt Functions that are available with respect to tuple. -> count(),index()\n",
    "  count() - returns the count of number of occurences of given element in tuple.\n",
    "  index() - returns the index of first occurence of given particular element in tuple.\n",
    "\n",
    "For List - we have append(), extend(),sort(),insert()\n",
    "\n",
    "In Jupyter Notebook:\n",
    "  To find all inbuilt functions that are available, use tuplename.tab \n",
    "  use shift + tab - to know a python inbuilt function completely.\n"
   ]
  },
  {
   "cell_type": "code",
   "execution_count": null,
   "id": "4e756eed-644d-46f5-80b5-3dffc43e7801",
   "metadata": {},
   "outputs": [],
   "source": [
    "t1."
   ]
  },
  {
   "cell_type": "code",
   "execution_count": 13,
   "id": "89a27b30-f13d-49a8-9d67-550f00f3287a",
   "metadata": {},
   "outputs": [
    {
     "data": {
      "text/plain": [
       "2"
      ]
     },
     "execution_count": 13,
     "metadata": {},
     "output_type": "execute_result"
    }
   ],
   "source": [
    "t1.count(1)\n",
    "\n"
   ]
  },
  {
   "cell_type": "code",
   "execution_count": 14,
   "id": "a4a545de-37ac-4282-91bf-512b1c5c69b2",
   "metadata": {},
   "outputs": [
    {
     "data": {
      "text/plain": [
       "1"
      ]
     },
     "execution_count": 14,
     "metadata": {},
     "output_type": "execute_result"
    }
   ],
   "source": [
    "t1.count('sri')"
   ]
  },
  {
   "cell_type": "code",
   "execution_count": 15,
   "id": "10aad5d0-5f19-4e0f-a2b8-9b771e7c3439",
   "metadata": {},
   "outputs": [
    {
     "data": {
      "text/plain": [
       "1"
      ]
     },
     "execution_count": 15,
     "metadata": {},
     "output_type": "execute_result"
    }
   ],
   "source": [
    "t1.index('sri')"
   ]
  },
  {
   "cell_type": "code",
   "execution_count": 16,
   "id": "60d8a18f-c453-4f14-8511-e667774f8a94",
   "metadata": {},
   "outputs": [
    {
     "data": {
      "text/plain": [
       "0"
      ]
     },
     "execution_count": 16,
     "metadata": {},
     "output_type": "execute_result"
    }
   ],
   "source": [
    "t1.index(1)"
   ]
  },
  {
   "cell_type": "markdown",
   "id": "d7b735b6-f387-4d0c-a30d-21182bd20b85",
   "metadata": {},
   "source": [
    "In above cell, the value at index 0 is True, it is not giving element at last index."
   ]
  },
  {
   "cell_type": "code",
   "execution_count": 17,
   "id": "afba40d6-88c2-4cbb-981e-5a33dd0d14c2",
   "metadata": {},
   "outputs": [
    {
     "data": {
      "text/plain": [
       "1"
      ]
     },
     "execution_count": 17,
     "metadata": {},
     "output_type": "execute_result"
    }
   ],
   "source": [
    "t1.index('sri')"
   ]
  },
  {
   "cell_type": "code",
   "execution_count": 18,
   "id": "38cbb13f-aa49-4160-87f0-0f1992d8ef05",
   "metadata": {},
   "outputs": [
    {
     "data": {
      "text/plain": [
       "0"
      ]
     },
     "execution_count": 18,
     "metadata": {},
     "output_type": "execute_result"
    }
   ],
   "source": [
    "t1.count('True')"
   ]
  },
  {
   "cell_type": "code",
   "execution_count": 19,
   "id": "c40ef832-537d-49c8-ba83-432788371529",
   "metadata": {},
   "outputs": [
    {
     "data": {
      "text/plain": [
       "2"
      ]
     },
     "execution_count": 19,
     "metadata": {},
     "output_type": "execute_result"
    }
   ],
   "source": [
    "t1.count(True)"
   ]
  },
  {
   "cell_type": "markdown",
   "id": "b5dc2e3e-af8a-43f8-826c-1d78e429eecb",
   "metadata": {},
   "source": [
    "Internally system tries to store boolean variable True as 1,and False as 0.\n",
    "Hence it is counting True as 1."
   ]
  },
  {
   "cell_type": "code",
   "execution_count": 20,
   "id": "b4bee885-f65d-4277-9fef-bcdd108ca1db",
   "metadata": {},
   "outputs": [
    {
     "data": {
      "text/plain": [
       "2"
      ]
     },
     "execution_count": 20,
     "metadata": {},
     "output_type": "execute_result"
    }
   ],
   "source": [
    "t1.count(1)"
   ]
  },
  {
   "cell_type": "code",
   "execution_count": 21,
   "id": "387bfb6c-2f3e-4939-b34e-7b9b27690651",
   "metadata": {},
   "outputs": [],
   "source": [
    "l = [1,2,3,4]"
   ]
  },
  {
   "cell_type": "markdown",
   "id": "dba54260-753c-471f-96ff-402681268734",
   "metadata": {},
   "source": [
    "Lists are mutable, but sets are immutable.\n",
    "We can replace existing elements in List, but can't do that in Tuple.\n",
    "\n",
    "\n",
    "In Lists we can make required changes in elements of list, but this is not possible with Tuples.\n",
    "Tuples won;t allow us to make any changes at a particular index. Here we try to make changes at a particular index.\n",
    "We can't change any element in a tuple.\n",
    "\n",
    "\n",
    "Item assignment is different(when we assign new data to a variable)."
   ]
  },
  {
   "cell_type": "code",
   "execution_count": 22,
   "id": "b49c70a4-9714-4e9b-acb0-e4401a85a5fb",
   "metadata": {},
   "outputs": [
    {
     "ename": "TypeError",
     "evalue": "'tuple' object does not support item assignment",
     "output_type": "error",
     "traceback": [
      "\u001b[0;31m---------------------------------------------------------------------------\u001b[0m",
      "\u001b[0;31mTypeError\u001b[0m                                 Traceback (most recent call last)",
      "Cell \u001b[0;32mIn[22], line 1\u001b[0m\n\u001b[0;32m----> 1\u001b[0m \u001b[43mt1\u001b[49m\u001b[43m[\u001b[49m\u001b[38;5;241;43m1\u001b[39;49m\u001b[43m]\u001b[49m \u001b[38;5;241m=\u001b[39m \u001b[38;5;241m345\u001b[39m\n",
      "\u001b[0;31mTypeError\u001b[0m: 'tuple' object does not support item assignment"
     ]
    }
   ],
   "source": [
    "t1[1] = 345"
   ]
  },
  {
   "cell_type": "markdown",
   "id": "d492564f-c00b-4e71-8e58-8a493edcf813",
   "metadata": {},
   "source": [
    "Iterating a Tuple using a for loop"
   ]
  },
  {
   "cell_type": "code",
   "execution_count": 23,
   "id": "5bcfb4fe-82ae-463c-b244-3975bfc4b62b",
   "metadata": {},
   "outputs": [
    {
     "name": "stdout",
     "output_type": "stream",
     "text": [
      "True\n",
      "sri\n",
      "(3+2j)\n",
      "1.2\n",
      "1\n"
     ]
    }
   ],
   "source": [
    "for i in t1:\n",
    "     print(i)"
   ]
  },
  {
   "cell_type": "code",
   "execution_count": 24,
   "id": "7d42630a-2de6-400d-9277-aa6145baa2fd",
   "metadata": {},
   "outputs": [
    {
     "name": "stdout",
     "output_type": "stream",
     "text": [
      "True <class 'bool'>\n",
      "sri <class 'str'>\n",
      "(3+2j) <class 'complex'>\n",
      "1.2 <class 'float'>\n",
      "1 <class 'int'>\n"
     ]
    }
   ],
   "source": [
    "for i in t1:\n",
    "     print(i,type(i))"
   ]
  },
  {
   "cell_type": "code",
   "execution_count": 25,
   "id": "68da37fd-8fac-495b-8766-14069d38c30b",
   "metadata": {},
   "outputs": [],
   "source": [
    "t2 = (1,2,3,4)"
   ]
  },
  {
   "cell_type": "code",
   "execution_count": 28,
   "id": "72409be3-b15d-4377-a47f-244ad892a1a6",
   "metadata": {},
   "outputs": [
    {
     "data": {
      "text/plain": [
       "(1,\n",
       " 2,\n",
       " 3,\n",
       " 4,\n",
       " 1,\n",
       " 2,\n",
       " 3,\n",
       " 4,\n",
       " 1,\n",
       " 2,\n",
       " 3,\n",
       " 4,\n",
       " 1,\n",
       " 2,\n",
       " 3,\n",
       " 4,\n",
       " 1,\n",
       " 2,\n",
       " 3,\n",
       " 4,\n",
       " 1,\n",
       " 2,\n",
       " 3,\n",
       " 4,\n",
       " 1,\n",
       " 2,\n",
       " 3,\n",
       " 4,\n",
       " 1,\n",
       " 2,\n",
       " 3,\n",
       " 4,\n",
       " 1,\n",
       " 2,\n",
       " 3,\n",
       " 4)"
      ]
     },
     "execution_count": 28,
     "metadata": {},
     "output_type": "execute_result"
    }
   ],
   "source": [
    "t2 * 3"
   ]
  },
  {
   "cell_type": "code",
   "execution_count": 29,
   "id": "d1eb6ddb-b1be-447b-9ecf-eb471faf1a61",
   "metadata": {},
   "outputs": [
    {
     "data": {
      "text/plain": [
       "4"
      ]
     },
     "execution_count": 29,
     "metadata": {},
     "output_type": "execute_result"
    }
   ],
   "source": [
    "max(t2)"
   ]
  },
  {
   "cell_type": "code",
   "execution_count": 30,
   "id": "c238b90b-58cb-4c45-902e-cc899da9ccd8",
   "metadata": {},
   "outputs": [
    {
     "data": {
      "text/plain": [
       "1"
      ]
     },
     "execution_count": 30,
     "metadata": {},
     "output_type": "execute_result"
    }
   ],
   "source": [
    "min(t2)"
   ]
  },
  {
   "cell_type": "markdown",
   "id": "fbcee5e8-d54e-44db-ae9d-0e4b0b62e7b9",
   "metadata": {},
   "source": [
    "Tuples basically follows Immutability concept where it is not going to allow to change any element at a particular\n",
    " index.\n",
    " \n",
    "When we want no one to make any changes to data structure, then in such scenarios Tuples can be used.(set of \n",
    " passwords)\n",
    "We can't make any new element insertions into Tuples. \n",
    " "
   ]
  },
  {
   "cell_type": "code",
   "execution_count": 33,
   "id": "b3863c1a-0519-4306-b8e2-4802df66f22f",
   "metadata": {},
   "outputs": [],
   "source": [
    "t1 = (1,2,3,4)\n",
    "t2= (5,6,7,8)"
   ]
  },
  {
   "cell_type": "code",
   "execution_count": null,
   "id": "a21f6718-6ee4-433f-b8eb-fe4a1d545fad",
   "metadata": {},
   "outputs": [],
   "source": [
    "Storing multiple tuples together"
   ]
  },
  {
   "cell_type": "code",
   "execution_count": 34,
   "id": "37c87f1b-640d-42e3-8dae-370cc865f012",
   "metadata": {},
   "outputs": [],
   "source": [
    "t3 = (t1,t2)"
   ]
  },
  {
   "cell_type": "code",
   "execution_count": 35,
   "id": "735569a7-8974-42b6-b45a-5174950b7557",
   "metadata": {},
   "outputs": [
    {
     "data": {
      "text/plain": [
       "((1, 2, 3, 4), (5, 6, 7, 8))"
      ]
     },
     "execution_count": 35,
     "metadata": {},
     "output_type": "execute_result"
    }
   ],
   "source": [
    "t3"
   ]
  },
  {
   "cell_type": "markdown",
   "id": "f67f72dd-c47b-4242-baa6-fa1e1dc09daa",
   "metadata": {},
   "source": [
    "We can have a tuple as an element of other tuple.\n",
    "We can have tuples inside a list and lists inside a tuple."
   ]
  },
  {
   "cell_type": "code",
   "execution_count": 36,
   "id": "d2ac3f7d-f6b6-4781-b4ef-3785ed821da1",
   "metadata": {},
   "outputs": [],
   "source": [
    "t4 = ((2,3,7,8),[2,4,6,8])"
   ]
  },
  {
   "cell_type": "code",
   "execution_count": 37,
   "id": "de04f73c-4c28-4aa9-9462-972b047dc76b",
   "metadata": {},
   "outputs": [
    {
     "data": {
      "text/plain": [
       "((2, 3, 7, 8), [2, 4, 6, 8])"
      ]
     },
     "execution_count": 37,
     "metadata": {},
     "output_type": "execute_result"
    }
   ],
   "source": [
    "t4"
   ]
  },
  {
   "cell_type": "markdown",
   "id": "dfe1a26f-2f8f-4d63-b7c6-e13c36411160",
   "metadata": {},
   "source": [
    "Deleting a tuple - use del tuple_name"
   ]
  },
  {
   "cell_type": "code",
   "execution_count": 38,
   "id": "d7f34034-01c9-44b6-bd1d-466be7d77adb",
   "metadata": {},
   "outputs": [],
   "source": [
    "del t4"
   ]
  },
  {
   "cell_type": "code",
   "execution_count": 39,
   "id": "5184a2bc-3b55-4c66-9a5d-ede0d28a63df",
   "metadata": {},
   "outputs": [
    {
     "ename": "NameError",
     "evalue": "name 't4' is not defined",
     "output_type": "error",
     "traceback": [
      "\u001b[0;31m---------------------------------------------------------------------------\u001b[0m",
      "\u001b[0;31mNameError\u001b[0m                                 Traceback (most recent call last)",
      "Cell \u001b[0;32mIn[39], line 1\u001b[0m\n\u001b[0;32m----> 1\u001b[0m \u001b[43mt4\u001b[49m\n",
      "\u001b[0;31mNameError\u001b[0m: name 't4' is not defined"
     ]
    }
   ],
   "source": [
    "t4"
   ]
  },
  {
   "cell_type": "markdown",
   "id": "6bbe7ebd-c6dc-4baf-ab71-f7146b7ecbe6",
   "metadata": {},
   "source": [
    "use len(tuple_name) to find the number of elements in tuple."
   ]
  },
  {
   "cell_type": "code",
   "execution_count": 40,
   "id": "27febef8-de2d-4ac3-9fa6-a30c78f3d1be",
   "metadata": {},
   "outputs": [
    {
     "data": {
      "text/plain": [
       "4"
      ]
     },
     "execution_count": 40,
     "metadata": {},
     "output_type": "execute_result"
    }
   ],
   "source": [
    "len(t1)"
   ]
  },
  {
   "cell_type": "markdown",
   "id": "5407c3f2-c9e1-4ea1-8865-4d0bdf516b9e",
   "metadata": {},
   "source": [
    "Checking a particular element or subset of elements are present in tuple.\n",
    "element_name in tuple_name"
   ]
  },
  {
   "cell_type": "code",
   "execution_count": 41,
   "id": "218620fb-49f4-4757-bb94-c5d832233856",
   "metadata": {},
   "outputs": [
    {
     "data": {
      "text/plain": [
       "False"
      ]
     },
     "execution_count": 41,
     "metadata": {},
     "output_type": "execute_result"
    }
   ],
   "source": [
    "\"sri\" in t1"
   ]
  },
  {
   "cell_type": "code",
   "execution_count": 42,
   "id": "5f5bd342-4220-4aeb-9f5c-be7a59de6b06",
   "metadata": {},
   "outputs": [
    {
     "data": {
      "text/plain": [
       "True"
      ]
     },
     "execution_count": 42,
     "metadata": {},
     "output_type": "execute_result"
    }
   ],
   "source": [
    "2 in t1"
   ]
  },
  {
   "cell_type": "code",
   "execution_count": null,
   "id": "dc5dd678-e991-454b-91cb-f454d10c010c",
   "metadata": {},
   "outputs": [],
   "source": []
  }
 ],
 "metadata": {
  "kernelspec": {
   "display_name": "Python 3 (ipykernel)",
   "language": "python",
   "name": "python3"
  },
  "language_info": {
   "codemirror_mode": {
    "name": "ipython",
    "version": 3
   },
   "file_extension": ".py",
   "mimetype": "text/x-python",
   "name": "python",
   "nbconvert_exporter": "python",
   "pygments_lexer": "ipython3",
   "version": "3.10.8"
  }
 },
 "nbformat": 4,
 "nbformat_minor": 5
}
