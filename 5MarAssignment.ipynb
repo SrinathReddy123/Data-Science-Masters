{
 "cells": [
  {
   "cell_type": "markdown",
   "id": "f0140d2d-54ab-435a-be15-141733b24d62",
   "metadata": {},
   "source": [
    "Answer 1:"
   ]
  },
  {
   "cell_type": "markdown",
   "id": "f96f3c19-8811-4a45-93e2-1dfe58ebbfc8",
   "metadata": {},
   "source": [
    "First, we need to install the Bokeh library using pip. You can install Bokeh by running the following command in your terminal or command prompt:"
   ]
  },
  {
   "cell_type": "code",
   "execution_count": 2,
   "id": "1f1e5886-ec1c-4581-a86d-3153e2bb0a44",
   "metadata": {},
   "outputs": [
    {
     "name": "stdout",
     "output_type": "stream",
     "text": [
      "Requirement already satisfied: bokeh in /opt/conda/lib/python3.10/site-packages (3.0.3)\n",
      "Requirement already satisfied: tornado>=5.1 in /opt/conda/lib/python3.10/site-packages (from bokeh) (6.1)\n",
      "Requirement already satisfied: Jinja2>=2.9 in /opt/conda/lib/python3.10/site-packages (from bokeh) (3.1.2)\n",
      "Requirement already satisfied: pandas>=1.2 in /opt/conda/lib/python3.10/site-packages (from bokeh) (1.5.2)\n",
      "Requirement already satisfied: numpy>=1.11.3 in /opt/conda/lib/python3.10/site-packages (from bokeh) (1.23.5)\n",
      "Requirement already satisfied: xyzservices>=2021.09.1 in /opt/conda/lib/python3.10/site-packages (from bokeh) (2022.9.0)\n",
      "Requirement already satisfied: contourpy>=1 in /opt/conda/lib/python3.10/site-packages (from bokeh) (1.0.6)\n",
      "Requirement already satisfied: PyYAML>=3.10 in /opt/conda/lib/python3.10/site-packages (from bokeh) (6.0)\n",
      "Requirement already satisfied: packaging>=16.8 in /opt/conda/lib/python3.10/site-packages (from bokeh) (22.0)\n",
      "Requirement already satisfied: pillow>=7.1.0 in /opt/conda/lib/python3.10/site-packages (from bokeh) (9.2.0)\n",
      "Requirement already satisfied: MarkupSafe>=2.0 in /opt/conda/lib/python3.10/site-packages (from Jinja2>=2.9->bokeh) (2.1.1)\n",
      "Requirement already satisfied: python-dateutil>=2.8.1 in /opt/conda/lib/python3.10/site-packages (from pandas>=1.2->bokeh) (2.8.2)\n",
      "Requirement already satisfied: pytz>=2020.1 in /opt/conda/lib/python3.10/site-packages (from pandas>=1.2->bokeh) (2022.6)\n",
      "Requirement already satisfied: six>=1.5 in /opt/conda/lib/python3.10/site-packages (from python-dateutil>=2.8.1->pandas>=1.2->bokeh) (1.16.0)\n",
      "Note: you may need to restart the kernel to use updated packages.\n"
     ]
    }
   ],
   "source": [
    "pip install bokeh"
   ]
  },
  {
   "cell_type": "markdown",
   "id": "13bfcf10-ab75-4efa-9d2e-5e17576715c6",
   "metadata": {},
   "source": [
    "Next, we need to import the necessary functions from the Bokeh library:"
   ]
  },
  {
   "cell_type": "code",
   "execution_count": 4,
   "id": "167c644f-2ac7-47bc-9bd5-f95f4ade2e84",
   "metadata": {},
   "outputs": [],
   "source": [
    "from bokeh.plotting import figure, output_file, show\n"
   ]
  },
  {
   "cell_type": "markdown",
   "id": "989b90a6-d1b0-4c37-9d8f-b6f9ebd09122",
   "metadata": {},
   "source": [
    "Now, we can create a plot by defining a figure object and specifying its properties. In this example, we will create a scatter plot with some random data:"
   ]
  },
  {
   "cell_type": "code",
   "execution_count": 5,
   "id": "cc3c146c-6cc7-410c-84ea-6bb9411ec72f",
   "metadata": {},
   "outputs": [],
   "source": [
    "# create some random data\n",
    "x = [1, 2, 3, 4, 5]\n",
    "y = [6, 7, 2, 4, 5]\n",
    "\n",
    "# create a figure object\n",
    "p = figure(title=\"Simple Scatter Plot\", x_axis_label='X', y_axis_label='Y')\n",
    "\n",
    "# add a scatter plot to the figure\n",
    "p.scatter(x, y, size=10, color='navy', alpha=0.5)\n",
    "\n",
    "# specify the output file name and show the plot in a browser\n",
    "output_file(\"scatter_plot.html\")\n",
    "show(p)\n"
   ]
  },
  {
   "cell_type": "markdown",
   "id": "de34f2f0-fe0b-44ef-9f4e-3dcf148740b3",
   "metadata": {},
   "source": [
    "Finally, we can save the plot as an HTML file and display it in a web browser by calling the output_file() and show() functions. \n",
    "\n",
    "In this example, the plot will be saved as \"scatter_plot.html\" and displayed in the default web browser."
   ]
  },
  {
   "cell_type": "code",
   "execution_count": 6,
   "id": "aa76bd4a-2051-42dd-8622-40fa0eb0274d",
   "metadata": {},
   "outputs": [],
   "source": [
    "output_file(\"scatter_plot.html\")\n",
    "show(p)"
   ]
  },
  {
   "cell_type": "markdown",
   "id": "b62ddfad-3e64-45e5-80cb-f3f739af0046",
   "metadata": {},
   "source": []
  },
  {
   "cell_type": "code",
   "execution_count": null,
   "id": "fa13505a-1fc4-4d27-918c-db78128776c1",
   "metadata": {},
   "outputs": [],
   "source": [
    "Answer 2:"
   ]
  },
  {
   "cell_type": "markdown",
   "id": "42711a09-73bc-4cc8-844a-261e6bca8cb9",
   "metadata": {},
   "source": [
    "Glyphs in Bokeh are the basic visual building blocks that are used to create visualizations in Bokeh plots. Glyphs are geometric shapes, such as circles, squares, lines, and patches, that can be added to Bokeh plots to create different types of visualizations."
   ]
  },
  {
   "cell_type": "markdown",
   "id": "eefaac3c-d304-4985-8589-4d259edaed5d",
   "metadata": {},
   "source": [
    "To add glyphs to a Bokeh plot, you need to create a glyph object and add it to the plot using the plot.add_glyph() method. The glyph object takes a set of data as input and generates the corresponding geometric shape for each data point."
   ]
  },
  {
   "cell_type": "markdown",
   "id": "d774509d-8072-4ecf-9a50-4aef32b55288",
   "metadata": {},
   "source": [
    "Here is an example that demonstrates how to add glyphs to a Bokeh plot:"
   ]
  },
  {
   "cell_type": "code",
   "execution_count": 7,
   "id": "c5b85654-1199-46b7-9f88-102d91b9a740",
   "metadata": {},
   "outputs": [],
   "source": [
    "from bokeh.plotting import figure, output_file, show\n",
    "\n",
    "# create a figure object\n",
    "p = figure(title=\"Glyphs example\", x_axis_label=\"X-axis\", y_axis_label=\"Y-axis\")\n",
    "\n",
    "# create a data source\n",
    "x = [1, 2, 3, 4, 5]\n",
    "y = [6, 7, 2, 4, 5]\n",
    "\n",
    "# add circles glyph to the figure\n",
    "p.circle(x, y, size=10, color=\"blue\", alpha=0.5)\n",
    "\n",
    "# add squares glyph to the figure\n",
    "p.square(x, y, size=10, color=\"red\", alpha=0.5)\n",
    "\n",
    "# create an output file\n",
    "output_file(\"glyphs.html\")\n",
    "\n",
    "# show the plot\n",
    "show(p)\n"
   ]
  },
  {
   "cell_type": "markdown",
   "id": "47faf4b7-d274-4be8-ad88-66a481235bde",
   "metadata": {},
   "source": [
    "In this example, we first create a figure object and specify the title and axis labels. Then, we create a data source by defining two lists of x and y values."
   ]
  },
  {
   "cell_type": "markdown",
   "id": "67552381-d420-469c-aade-c03cd71ca31a",
   "metadata": {},
   "source": [
    "Next, we add two glyphs to the figure using the circle and square methods.\n",
    "\n",
    "The circle method adds circle glyphs to the plot, while the square method adds square glyphs. We specify the x and y values, size, color, and alpha (transparency) for each glyph."
   ]
  },
  {
   "cell_type": "markdown",
   "id": "240399b9-fa67-4a75-93db-6a080bfadfb4",
   "metadata": {},
   "source": [
    "Finally, we create an output file and show the plot using the output_file and show functions, respectively.\n",
    "\n",
    "When we run this script, it will generate an HTML file with the Bokeh plot that displays circles and squares glyphs."
   ]
  },
  {
   "cell_type": "code",
   "execution_count": null,
   "id": "039cc77d-2564-416d-a815-42a684a842bc",
   "metadata": {},
   "outputs": [],
   "source": []
  },
  {
   "cell_type": "code",
   "execution_count": null,
   "id": "4dd4cb82-dbc9-4821-9f35-9e4cb382da91",
   "metadata": {},
   "outputs": [],
   "source": [
    "Answer 3:"
   ]
  },
  {
   "cell_type": "markdown",
   "id": "6159c6c0-4c94-4eb9-ae3f-817e411a6c82",
   "metadata": {},
   "source": [
    "Bokeh provides a wide range of customization options to customize the appearance of a plot.\n",
    "\n",
    "Here are some examples of how to customize the appearance of a Bokeh plot, including the axes, title, and legend."
   ]
  },
  {
   "cell_type": "code",
   "execution_count": null,
   "id": "05571f77-c864-46d1-ba5c-9286db917a6b",
   "metadata": {},
   "outputs": [],
   "source": [
    "Changing the title and axis labels:"
   ]
  },
  {
   "cell_type": "code",
   "execution_count": 8,
   "id": "fd7edab7-0f50-4755-bf15-885025b31c00",
   "metadata": {},
   "outputs": [],
   "source": [
    "from bokeh.plotting import figure, output_file, show\n",
    "\n",
    "# create a figure object\n",
    "p = figure(title=\"My Plot Title\", x_axis_label=\"X-axis\", y_axis_label=\"Y-axis\")\n",
    "\n",
    "# create a data source\n",
    "x = [1, 2, 3, 4, 5]\n",
    "y = [6, 7, 2, 4, 5]\n",
    "\n",
    "# add a circle glyph to the figure\n",
    "p.circle(x, y, size=10, color=\"blue\", alpha=0.5)\n",
    "\n",
    "# change the title and axis labels\n",
    "p.title.text = \"My New Plot Title\"\n",
    "p.xaxis.axis_label = \"New X-axis Label\"\n",
    "p.yaxis.axis_label = \"New Y-axis Label\"\n",
    "\n",
    "# create an output file\n",
    "output_file(\"customized_plot.html\")\n",
    "\n",
    "# show the plot\n",
    "show(p)\n"
   ]
  },
  {
   "cell_type": "markdown",
   "id": "b8426eb3-92ac-4aa6-89d3-039d4416e00a",
   "metadata": {},
   "source": [
    "In this example, we create a figure object and specify the title and axis labels. We then add a circle glyph to the figure and specify the x and y values, size, color, and alpha."
   ]
  },
  {
   "cell_type": "markdown",
   "id": "0d7476b2-0109-46bb-9dba-90a40817312f",
   "metadata": {},
   "source": [
    "We then customize the appearance of the plot by changing the title and axis labels using the title.text, xaxis.axis_label, and yaxis.axis_label properties."
   ]
  },
  {
   "cell_type": "code",
   "execution_count": null,
   "id": "9aa443db-988c-4dfb-8b9b-b56af793f026",
   "metadata": {},
   "outputs": [],
   "source": []
  },
  {
   "cell_type": "markdown",
   "id": "0510eba2-3308-4eb0-949f-628ad837a325",
   "metadata": {},
   "source": [
    "2. Changing the axis ranges and tick marks:"
   ]
  },
  {
   "cell_type": "code",
   "execution_count": 9,
   "id": "a72fff90-aee1-41fc-8f8e-9fecab38520f",
   "metadata": {},
   "outputs": [],
   "source": [
    "from bokeh.plotting import figure, output_file, show\n",
    "\n",
    "# create a figure object\n",
    "p = figure(title=\"My Plot Title\", x_axis_label=\"X-axis\", y_axis_label=\"Y-axis\")\n",
    "\n",
    "# create a data source\n",
    "x = [1, 2, 3, 4, 5]\n",
    "y = [6, 7, 2, 4, 5]\n",
    "\n",
    "# add a circle glyph to the figure\n",
    "p.circle(x, y, size=10, color=\"blue\", alpha=0.5)\n",
    "\n",
    "# change the axis ranges and tick marks\n",
    "p.x_range.start = 0\n",
    "p.x_range.end = 6\n",
    "p.y_range.start = 0\n",
    "p.y_range.end = 10\n",
    "p.xaxis.ticker = [0, 2, 4, 6]\n",
    "p.yaxis.ticker = [0, 2, 4, 6, 8, 10]\n",
    "\n",
    "# create an output file\n",
    "output_file(\"customized_plot.html\")\n",
    "\n",
    "# show the plot\n",
    "show(p)\n"
   ]
  },
  {
   "cell_type": "markdown",
   "id": "1ff5183e-f928-423c-870a-458078b8ee72",
   "metadata": {},
   "source": [
    "In this example, we create a figure object and specify the title and axis labels. We then add a circle glyph to the figure and specify the x and y values, size, color, and alpha."
   ]
  },
  {
   "cell_type": "markdown",
   "id": "9d80e45f-957b-4044-bffc-f08d28ed7f04",
   "metadata": {},
   "source": [
    "We then customize the appearance of the plot by changing the axis ranges and tick marks using the x_range.start, x_range.end, y_range.start, y_range.end, xaxis.ticker, and yaxis.ticker properties."
   ]
  },
  {
   "cell_type": "code",
   "execution_count": null,
   "id": "47363c8a-c08a-4e60-b1fa-9bb4e777ed41",
   "metadata": {},
   "outputs": [],
   "source": [
    "3. Adding a legend:"
   ]
  },
  {
   "cell_type": "code",
   "execution_count": 11,
   "id": "c79f336e-07f4-4f9a-9876-dfb01e9eedda",
   "metadata": {},
   "outputs": [
    {
     "data": {
      "text/html": [
       "<div style=\"display: table;\"><div style=\"display: table-row;\"><div style=\"display: table-cell;\"><b title=\"bokeh.models.renderers.glyph_renderer.GlyphRenderer\">GlyphRenderer</b>(</div><div style=\"display: table-cell;\">id&nbsp;=&nbsp;'p2167', <span id=\"p2171\" style=\"cursor: pointer;\">&hellip;)</span></div></div><div class=\"p2170\" style=\"display: none;\"><div style=\"display: table-cell;\"></div><div style=\"display: table-cell;\">coordinates&nbsp;=&nbsp;None,</div></div><div class=\"p2170\" style=\"display: none;\"><div style=\"display: table-cell;\"></div><div style=\"display: table-cell;\">data_source&nbsp;=&nbsp;ColumnDataSource(id='p2161', ...),</div></div><div class=\"p2170\" style=\"display: none;\"><div style=\"display: table-cell;\"></div><div style=\"display: table-cell;\">glyph&nbsp;=&nbsp;Circle(id='p2164', ...),</div></div><div class=\"p2170\" style=\"display: none;\"><div style=\"display: table-cell;\"></div><div style=\"display: table-cell;\">group&nbsp;=&nbsp;None,</div></div><div class=\"p2170\" style=\"display: none;\"><div style=\"display: table-cell;\"></div><div style=\"display: table-cell;\">hover_glyph&nbsp;=&nbsp;None,</div></div><div class=\"p2170\" style=\"display: none;\"><div style=\"display: table-cell;\"></div><div style=\"display: table-cell;\">js_event_callbacks&nbsp;=&nbsp;{},</div></div><div class=\"p2170\" style=\"display: none;\"><div style=\"display: table-cell;\"></div><div style=\"display: table-cell;\">js_property_callbacks&nbsp;=&nbsp;{},</div></div><div class=\"p2170\" style=\"display: none;\"><div style=\"display: table-cell;\"></div><div style=\"display: table-cell;\">level&nbsp;=&nbsp;'glyph',</div></div><div class=\"p2170\" style=\"display: none;\"><div style=\"display: table-cell;\"></div><div style=\"display: table-cell;\">muted&nbsp;=&nbsp;False,</div></div><div class=\"p2170\" style=\"display: none;\"><div style=\"display: table-cell;\"></div><div style=\"display: table-cell;\">muted_glyph&nbsp;=&nbsp;Circle(id='p2166', ...),</div></div><div class=\"p2170\" style=\"display: none;\"><div style=\"display: table-cell;\"></div><div style=\"display: table-cell;\">name&nbsp;=&nbsp;None,</div></div><div class=\"p2170\" style=\"display: none;\"><div style=\"display: table-cell;\"></div><div style=\"display: table-cell;\">nonselection_glyph&nbsp;=&nbsp;Circle(id='p2165', ...),</div></div><div class=\"p2170\" style=\"display: none;\"><div style=\"display: table-cell;\"></div><div style=\"display: table-cell;\">selection_glyph&nbsp;=&nbsp;'auto',</div></div><div class=\"p2170\" style=\"display: none;\"><div style=\"display: table-cell;\"></div><div style=\"display: table-cell;\">subscribed_events&nbsp;=&nbsp;PropertyValueSet(),</div></div><div class=\"p2170\" style=\"display: none;\"><div style=\"display: table-cell;\"></div><div style=\"display: table-cell;\">syncable&nbsp;=&nbsp;True,</div></div><div class=\"p2170\" style=\"display: none;\"><div style=\"display: table-cell;\"></div><div style=\"display: table-cell;\">tags&nbsp;=&nbsp;[],</div></div><div class=\"p2170\" style=\"display: none;\"><div style=\"display: table-cell;\"></div><div style=\"display: table-cell;\">view&nbsp;=&nbsp;CDSView(id='p2168', ...),</div></div><div class=\"p2170\" style=\"display: none;\"><div style=\"display: table-cell;\"></div><div style=\"display: table-cell;\">visible&nbsp;=&nbsp;True,</div></div><div class=\"p2170\" style=\"display: none;\"><div style=\"display: table-cell;\"></div><div style=\"display: table-cell;\">x_range_name&nbsp;=&nbsp;'default',</div></div><div class=\"p2170\" style=\"display: none;\"><div style=\"display: table-cell;\"></div><div style=\"display: table-cell;\">y_range_name&nbsp;=&nbsp;'default')</div></div></div>\n",
       "<script>\n",
       "(function() {\n",
       "  let expanded = false;\n",
       "  const ellipsis = document.getElementById(\"p2171\");\n",
       "  ellipsis.addEventListener(\"click\", function() {\n",
       "    const rows = document.getElementsByClassName(\"p2170\");\n",
       "    for (let i = 0; i < rows.length; i++) {\n",
       "      const el = rows[i];\n",
       "      el.style.display = expanded ? \"none\" : \"table-row\";\n",
       "    }\n",
       "    ellipsis.innerHTML = expanded ? \"&hellip;)\" : \"&lsaquo;&lsaquo;&lsaquo;\";\n",
       "    expanded = !expanded;\n",
       "  });\n",
       "})();\n",
       "</script>\n"
      ],
      "text/plain": [
       "GlyphRenderer(id='p2167', ...)"
      ]
     },
     "execution_count": 11,
     "metadata": {},
     "output_type": "execute_result"
    }
   ],
   "source": [
    "from bokeh.plotting import figure, output_file, show\n",
    "from bokeh.models import Legend\n",
    "\n",
    "# create a figure object\n",
    "p = figure(title=\"My Plot Title\", x_axis_label=\"X-axis\", y_axis_label=\"Y-axis\")\n",
    "\n",
    "# create a data source\n",
    "x = [1, 2, 3, 4, 5]\n",
    "y1 = [6, 7, 2, 4, 5]\n",
    "y2 = [2, 5, 8, 3, 6]\n",
    "\n",
    "# add circle glyphs to the figure\n",
    "p.circle(x)\n"
   ]
  },
  {
   "cell_type": "code",
   "execution_count": null,
   "id": "1c930ac5-033b-4ec1-b26b-d0205566d910",
   "metadata": {},
   "outputs": [],
   "source": []
  },
  {
   "cell_type": "code",
   "execution_count": null,
   "id": "f794929e-3f49-4d4d-bea8-bf56cd24dac5",
   "metadata": {},
   "outputs": [],
   "source": []
  },
  {
   "cell_type": "code",
   "execution_count": null,
   "id": "7160f2c6-8b72-4c08-942e-88f41d311f79",
   "metadata": {},
   "outputs": [],
   "source": [
    "Answer 4:"
   ]
  },
  {
   "cell_type": "markdown",
   "id": "9df7b766-287c-4a57-ae9a-c495e297905f",
   "metadata": {},
   "source": [
    "Bokeh server is a server-side technology provided by Bokeh that allows users to create interactive plots that can be updated in real-time. \n",
    "\n",
    "Bokeh server provides a way to create web applications that can handle interactions and events, allowing users to modify and interact with the plot dynamically."
   ]
  },
  {
   "cell_type": "markdown",
   "id": "259fb18d-c36c-46ee-bd9c-27f3e9f9f38b",
   "metadata": {},
   "source": [
    "To use Bokeh server to create interactive plots, you need to define a function that generates the plot and returns it as a Bokeh Layout or Widget object.\n",
    "\n",
    "This function will be called whenever a user accesses the web application."
   ]
  },
  {
   "cell_type": "code",
   "execution_count": null,
   "id": "0da88e1a-f16d-45ff-8a8e-a87a3f26bc71",
   "metadata": {},
   "outputs": [],
   "source": [
    "Here is an example of how to use Bokeh server to create an interactive plot that can be updated in real-time:"
   ]
  },
  {
   "cell_type": "code",
   "execution_count": 12,
   "id": "c330118f-3c6b-4552-9720-be412c0d52b1",
   "metadata": {},
   "outputs": [
    {
     "ename": "AttributeError",
     "evalue": "unexpected attribute 'plot_width' to figure, similar attributes are outer_width, width or min_width",
     "output_type": "error",
     "traceback": [
      "\u001b[0;31m---------------------------------------------------------------------------\u001b[0m",
      "\u001b[0;31mAttributeError\u001b[0m                            Traceback (most recent call last)",
      "Cell \u001b[0;32mIn[12], line 10\u001b[0m\n\u001b[1;32m      7\u001b[0m source \u001b[38;5;241m=\u001b[39m ColumnDataSource(data\u001b[38;5;241m=\u001b[39m\u001b[38;5;28mdict\u001b[39m(x\u001b[38;5;241m=\u001b[39m[], y\u001b[38;5;241m=\u001b[39m[]))\n\u001b[1;32m      9\u001b[0m \u001b[38;5;66;03m# create a plot\u001b[39;00m\n\u001b[0;32m---> 10\u001b[0m plot \u001b[38;5;241m=\u001b[39m \u001b[43mfigure\u001b[49m\u001b[43m(\u001b[49m\u001b[43mplot_width\u001b[49m\u001b[38;5;241;43m=\u001b[39;49m\u001b[38;5;241;43m400\u001b[39;49m\u001b[43m,\u001b[49m\u001b[43m \u001b[49m\u001b[43mplot_height\u001b[49m\u001b[38;5;241;43m=\u001b[39;49m\u001b[38;5;241;43m400\u001b[39;49m\u001b[43m)\u001b[49m\n\u001b[1;32m     11\u001b[0m plot\u001b[38;5;241m.\u001b[39mline(\u001b[38;5;124m'\u001b[39m\u001b[38;5;124mx\u001b[39m\u001b[38;5;124m'\u001b[39m, \u001b[38;5;124m'\u001b[39m\u001b[38;5;124my\u001b[39m\u001b[38;5;124m'\u001b[39m, source\u001b[38;5;241m=\u001b[39msource)\n\u001b[1;32m     13\u001b[0m \u001b[38;5;66;03m# define a callback function\u001b[39;00m\n",
      "File \u001b[0;32m/opt/conda/lib/python3.10/site-packages/bokeh/plotting/_figure.py:190\u001b[0m, in \u001b[0;36mfigure.__init__\u001b[0;34m(self, *arg, **kw)\u001b[0m\n\u001b[1;32m    188\u001b[0m \u001b[38;5;28;01mfor\u001b[39;00m name \u001b[38;5;129;01min\u001b[39;00m kw\u001b[38;5;241m.\u001b[39mkeys():\n\u001b[1;32m    189\u001b[0m     \u001b[38;5;28;01mif\u001b[39;00m name \u001b[38;5;129;01mnot\u001b[39;00m \u001b[38;5;129;01min\u001b[39;00m names:\n\u001b[0;32m--> 190\u001b[0m         \u001b[38;5;28;43mself\u001b[39;49m\u001b[38;5;241;43m.\u001b[39;49m\u001b[43m_raise_attribute_error_with_matches\u001b[49m\u001b[43m(\u001b[49m\u001b[43mname\u001b[49m\u001b[43m,\u001b[49m\u001b[43m \u001b[49m\u001b[43mnames\u001b[49m\u001b[43m \u001b[49m\u001b[38;5;241;43m|\u001b[39;49m\u001b[43m \u001b[49m\u001b[43mopts\u001b[49m\u001b[38;5;241;43m.\u001b[39;49m\u001b[43mproperties\u001b[49m\u001b[43m(\u001b[49m\u001b[43m)\u001b[49m\u001b[43m)\u001b[49m\n\u001b[1;32m    192\u001b[0m \u001b[38;5;28msuper\u001b[39m()\u001b[38;5;241m.\u001b[39m\u001b[38;5;21m__init__\u001b[39m(\u001b[38;5;241m*\u001b[39marg, \u001b[38;5;241m*\u001b[39m\u001b[38;5;241m*\u001b[39mkw)\n\u001b[1;32m    194\u001b[0m \u001b[38;5;28mself\u001b[39m\u001b[38;5;241m.\u001b[39mx_range \u001b[38;5;241m=\u001b[39m get_range(opts\u001b[38;5;241m.\u001b[39mx_range)\n",
      "File \u001b[0;32m/opt/conda/lib/python3.10/site-packages/bokeh/core/has_props.py:368\u001b[0m, in \u001b[0;36mHasProps._raise_attribute_error_with_matches\u001b[0;34m(self, name, properties)\u001b[0m\n\u001b[1;32m    365\u001b[0m \u001b[38;5;28;01mif\u001b[39;00m \u001b[38;5;129;01mnot\u001b[39;00m matches:\n\u001b[1;32m    366\u001b[0m     matches, text \u001b[38;5;241m=\u001b[39m \u001b[38;5;28msorted\u001b[39m(properties), \u001b[38;5;124m\"\u001b[39m\u001b[38;5;124mpossible\u001b[39m\u001b[38;5;124m\"\u001b[39m\n\u001b[0;32m--> 368\u001b[0m \u001b[38;5;28;01mraise\u001b[39;00m \u001b[38;5;167;01mAttributeError\u001b[39;00m(\u001b[38;5;124mf\u001b[39m\u001b[38;5;124m\"\u001b[39m\u001b[38;5;124munexpected attribute \u001b[39m\u001b[38;5;132;01m{\u001b[39;00mname\u001b[38;5;132;01m!r}\u001b[39;00m\u001b[38;5;124m to \u001b[39m\u001b[38;5;132;01m{\u001b[39;00m\u001b[38;5;28mself\u001b[39m\u001b[38;5;241m.\u001b[39m\u001b[38;5;18m__class__\u001b[39m\u001b[38;5;241m.\u001b[39m\u001b[38;5;18m__name__\u001b[39m\u001b[38;5;132;01m}\u001b[39;00m\u001b[38;5;124m, \u001b[39m\u001b[38;5;132;01m{\u001b[39;00mtext\u001b[38;5;132;01m}\u001b[39;00m\u001b[38;5;124m attributes are \u001b[39m\u001b[38;5;132;01m{\u001b[39;00mnice_join(matches)\u001b[38;5;132;01m}\u001b[39;00m\u001b[38;5;124m\"\u001b[39m)\n",
      "\u001b[0;31mAttributeError\u001b[0m: unexpected attribute 'plot_width' to figure, similar attributes are outer_width, width or min_width"
     ]
    }
   ],
   "source": [
    "from bokeh.plotting import figure\n",
    "from bokeh.models import ColumnDataSource\n",
    "from bokeh.layouts import column\n",
    "from bokeh.server.server import Server\n",
    "\n",
    "# create a data source\n",
    "source = ColumnDataSource(data=dict(x=[], y=[]))\n",
    "\n",
    "# create a plot\n",
    "plot = figure(plot_width=400, plot_height=400)\n",
    "plot.line('x', 'y', source=source)\n",
    "\n",
    "# define a callback function\n",
    "def update_data():\n",
    "    new_data = dict(x=[1, 2, 3, 4, 5], y=[6, 7, 2, 4, 5])\n",
    "    source.data = new_data\n",
    "\n",
    "# define a layout function\n",
    "def make_layout(doc):\n",
    "    # add the plot to the document\n",
    "    doc.add_root(column(plot))\n",
    "    \n",
    "    # add a callback to the document\n",
    "    doc.add_periodic_callback(update_data, 1000)\n",
    "\n",
    "# create a Bokeh server instance\n",
    "server = Server({'/': make_layout})\n",
    "\n",
    "# start the server\n",
    "server.start()\n",
    "\n",
    "# open the web application in a browser\n",
    "server.io_loop.add_callback(server.show, \"/\")\n",
    "\n",
    "# run the server\n",
    "server.io_loop.start()\n"
   ]
  },
  {
   "cell_type": "markdown",
   "id": "ca2b3ff7-c83f-4055-8377-77741be6e91b",
   "metadata": {},
   "source": [
    "In this example, we create a data source and a plot, and define a callback function that updates the data source every second.\n",
    "\n",
    "We then define a layout function that adds the plot to the document and sets up the callback."
   ]
  },
  {
   "cell_type": "markdown",
   "id": "a95343a9-1f94-46fd-8dc5-e842c07332dd",
   "metadata": {},
   "source": [
    "We create a Bokeh server instance with the make_layout function, and start the server. We then open the web application in a browser and run the server"
   ]
  },
  {
   "cell_type": "markdown",
   "id": "4eca0c44-57de-4b9b-ad47-4857400dd052",
   "metadata": {},
   "source": [
    "When we open the web application, we will see the plot with an empty data source. \n",
    "\n",
    "Every second, the callback function will update the data source with new data, and the plot will be updated in real-time to display the new data."
   ]
  },
  {
   "cell_type": "code",
   "execution_count": null,
   "id": "236ddda3-0750-4c07-84d8-eb5a7afebfb7",
   "metadata": {},
   "outputs": [],
   "source": []
  },
  {
   "cell_type": "code",
   "execution_count": null,
   "id": "e6e15e63-81f0-42a0-b4a8-684dbb9c42d6",
   "metadata": {},
   "outputs": [],
   "source": [
    "Answer 5:"
   ]
  },
  {
   "cell_type": "markdown",
   "id": "059a281d-0395-4316-9752-51158a8d3fa3",
   "metadata": {},
   "source": [
    "You can embed a Bokeh plot into a web page or dashboard using Flask or Django by generating the plot in Python using Bokeh, and then passing the plot object to a template engine such as Jinja2 to render the plot in the HTML page."
   ]
  },
  {
   "cell_type": "code",
   "execution_count": null,
   "id": "687b1971-6f63-4465-aa0e-0b07b347c3d5",
   "metadata": {},
   "outputs": [],
   "source": [
    "Here is an example of how to embed a Bokeh plot into a Flask web page:"
   ]
  },
  {
   "cell_type": "code",
   "execution_count": null,
   "id": "59270a9a-e0b0-4b24-b597-617dac491a37",
   "metadata": {},
   "outputs": [],
   "source": [
    "from flask import Flask, render_template\n",
    "from bokeh.embed import components\n",
    "from bokeh.plotting import figure\n",
    "\n",
    "app = Flask(__name__)\n",
    "\n",
    "@app.route('/')\n",
    "def index():\n",
    "    # create a plot\n",
    "    plot = figure(plot_width=400, plot_height=400)\n",
    "    plot.line([1, 2, 3, 4, 5], [6, 7, 2, 4, 5])\n",
    "    \n",
    "    # generate the Bokeh components for the plot\n",
    "    script, div = components(plot)\n",
    "    \n",
    "    # render the HTML template with the plot components\n",
    "    return render_template('index.html', script=script, div=div)\n",
    "\n",
    "if __name__ == '__main__':\n",
    "    app.run(debug=True)\n"
   ]
  },
  {
   "cell_type": "markdown",
   "id": "9945705a-27bd-4b84-ad0e-8d6d038abec8",
   "metadata": {},
   "source": [
    "In this example, we create a Flask web application with a single route / that generates a Bokeh plot and embeds it in an HTML page using the components function. The components function generates the JavaScript and HTML code needed to display the plot in a web page."
   ]
  },
  {
   "cell_type": "markdown",
   "id": "c7aba617-1b3f-4922-a76d-4f8ab6078e4b",
   "metadata": {},
   "source": [
    "We then pass the generated script and div variables to the render_template function to render the HTML page with the plot embedded in it. We create an HTML template file called index.html that includes the script and div variables using Jinja2 syntax."
   ]
  },
  {
   "cell_type": "code",
   "execution_count": null,
   "id": "86161f19-d973-463f-b25a-1bb4f53beaee",
   "metadata": {},
   "outputs": [],
   "source": []
  },
  {
   "cell_type": "markdown",
   "id": "cdcb04f0-bf23-412c-bb22-0f1bfd4d0f11",
   "metadata": {},
   "source": [
    "Here is an example of an index.html template that displays the Bokeh plot:"
   ]
  },
  {
   "cell_type": "code",
   "execution_count": null,
   "id": "4b06bed5-0bcb-48d2-a202-09f7c77a0d7f",
   "metadata": {},
   "outputs": [],
   "source": [
    "<!doctype html>\n",
    "<html>\n",
    "    <head>\n",
    "        <title>Bokeh Plot</title>\n",
    "        {{ script|safe }}\n",
    "    </head>\n",
    "    <body>\n",
    "        <div>\n",
    "            {{ div|safe }}\n",
    "        </div>\n",
    "    </body>\n",
    "</html>\n"
   ]
  },
  {
   "cell_type": "markdown",
   "id": "09f28436-7514-4813-b9ba-a334ee304a1f",
   "metadata": {},
   "source": [
    "In this example, we include the script variable in the <head> section of the HTML page, and the div variable in a <div> element in the <body> section of the HTML page."
   ]
  },
  {
   "cell_type": "markdown",
   "id": "9f5e1caa-c2eb-404b-81f9-4fa06e652abf",
   "metadata": {},
   "source": [
    "You can follow a similar approach to embed a Bokeh plot into a Django web page or dashboard. Instead of using Flask, you would create a Django web application and define a view that generates the plot and embeds it in an HTML template using Django's template engine."
   ]
  }
 ],
 "metadata": {
  "kernelspec": {
   "display_name": "Python 3 (ipykernel)",
   "language": "python",
   "name": "python3"
  },
  "language_info": {
   "codemirror_mode": {
    "name": "ipython",
    "version": 3
   },
   "file_extension": ".py",
   "mimetype": "text/x-python",
   "name": "python",
   "nbconvert_exporter": "python",
   "pygments_lexer": "ipython3",
   "version": "3.10.8"
  }
 },
 "nbformat": 4,
 "nbformat_minor": 5
}
