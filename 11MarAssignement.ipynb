{
 "cells": [
  {
   "cell_type": "code",
   "execution_count": null,
   "id": "3b4d21e0-b6ce-4538-91c5-49865be84aca",
   "metadata": {},
   "outputs": [],
   "source": [
    "Answer 1:"
   ]
  },
  {
   "cell_type": "markdown",
   "id": "5bf2f22d-2e13-4344-b14c-d220227c715e",
   "metadata": {},
   "source": [
    "A t-test and a z-test are both statistical hypothesis tests that are used to compare sample means to population means. However, they differ in their assumptions and applications"
   ]
  },
  {
   "cell_type": "markdown",
   "id": "959dd086-8e05-4b7b-8507-2330a80a0cb9",
   "metadata": {},
   "source": [
    "A t-test is used when the population standard deviation is unknown, and the sample size is small (usually less than 30). \n",
    "\n",
    "It is also used when the data are normally distributed or approximately normally distributed. The t-test uses a t-distribution to calculate the probability of obtaining the observed sample mean."
   ]
  },
  {
   "cell_type": "markdown",
   "id": "ccf3c09f-9abc-47d0-bafc-750f56aa8f79",
   "metadata": {},
   "source": [
    "A z-test, on the other hand, is used when the population standard deviation is known or can be estimated, and the sample size is large (usually greater than 30). \n",
    "\n",
    "It assumes that the data are normally distributed or approximately normally distributed. The z-test uses a standard normal distribution to calculate the probability of obtaining the observed sample mean."
   ]
  },
  {
   "cell_type": "markdown",
   "id": "7b228bf9-1a1e-4a88-aa37-acd29ab1795d",
   "metadata": {},
   "source": [
    "Example scenario for t-test: Suppose you want to test whether a new weight loss program is effective in helping people lose weight.\n",
    "\n",
    "You randomly select 20 participants and record their weights before and after the program. You want to test whether there is a significant difference between the average weight before and after the program. \n",
    "\n",
    "Since the population standard deviation is unknown, and the sample size is small, you would use a two-sample t-test."
   ]
  },
  {
   "cell_type": "markdown",
   "id": "f9d01ebe-5042-42ad-9c27-adb6176627d2",
   "metadata": {},
   "source": [
    "Example scenario for z-test: Suppose you want to test whether a new drug reduces blood pressure. You randomly select 1000 participants and divide them into two groups: one group is given the new drug, and the other group is given a placebo. \n",
    "\n",
    "You measure their blood pressure after a certain period of time and want to test whether there is a significant difference in the mean blood pressure between the two groups. Since the sample size is large and the population standard deviation can be estimated, you would use a two-sample z-test."
   ]
  },
  {
   "cell_type": "code",
   "execution_count": null,
   "id": "ba933b2b-4e26-4699-bdb7-63af5ca14a7c",
   "metadata": {},
   "outputs": [],
   "source": []
  },
  {
   "cell_type": "code",
   "execution_count": null,
   "id": "aa204dac-5fbe-4c6c-9a8b-b9d75af0ecad",
   "metadata": {},
   "outputs": [],
   "source": [
    "Answer 2:"
   ]
  },
  {
   "cell_type": "markdown",
   "id": "d2be1c60-46f1-4830-b72f-9f77ca92a61d",
   "metadata": {},
   "source": [
    "One-tailed and two-tailed tests are types of statistical hypothesis tests that differ in their hypotheses and interpretations of results."
   ]
  },
  {
   "cell_type": "markdown",
   "id": "77350f1b-a597-48dd-bc0d-2bda3a77a9a1",
   "metadata": {},
   "source": [
    "A one-tailed test is a test in which the alternative hypothesis specifies the direction of the difference between the sample mean and the population mean.\n",
    "\n",
    "In other words, it tests whether the sample mean is significantly greater than or less than the population mean. The null hypothesis, on the other hand, assumes that there is no significant difference between the sample mean and the population mean. \n",
    "\n",
    "One-tailed tests are often used when there is a strong theoretical basis for predicting the direction of the difference."
   ]
  },
  {
   "cell_type": "markdown",
   "id": "3505a2ba-154b-4853-bc1d-aa45202f85d2",
   "metadata": {},
   "source": [
    "Example: A researcher wants to test whether a new medication increases the average lifespan of rats. The null hypothesis is that the medication does not affect lifespan, and the alternative hypothesis is that the medication increases lifespan.\n",
    "\n",
    "This is a one-tailed test because the alternative hypothesis specifies the direction of the difference (increase in lifespan)"
   ]
  },
  {
   "cell_type": "markdown",
   "id": "0b8c7106-a27f-4f83-93d7-3cbdcc025c9d",
   "metadata": {},
   "source": [
    "A two-tailed test, also known as a two-sided test, is a test in which the alternative hypothesis does not specify the direction of the difference between the sample mean and the population mean. \n",
    "\n",
    "In other words, it tests whether the sample mean is significantly different from the population mean, whether it is greater or less than the population mean. \n",
    "\n",
    "The null hypothesis assumes that there is no significant difference between the sample mean and the population mean. Two-tailed tests are often used when there is no clear theoretical basis for predicting the direction of the difference."
   ]
  },
  {
   "cell_type": "markdown",
   "id": "9f49f13b-feb7-4375-a21f-6d0ed38e696a",
   "metadata": {},
   "source": [
    "Example: A researcher wants to test whether a new method of teaching improves test scores. The null hypothesis is that the new method does not affect test scores, and the alternative hypothesis is that the new method improves test scores. \n",
    "\n",
    "This is a two-tailed test because the alternative hypothesis does not specify the direction of the difference (it could either improve or worsen test scores)."
   ]
  },
  {
   "cell_type": "code",
   "execution_count": null,
   "id": "4d163012-797e-40d8-9508-8c66698ae74d",
   "metadata": {},
   "outputs": [],
   "source": []
  },
  {
   "cell_type": "code",
   "execution_count": null,
   "id": "141709de-faa5-4001-a08d-561b03e4e805",
   "metadata": {},
   "outputs": [],
   "source": [
    "Answer 3:"
   ]
  },
  {
   "cell_type": "code",
   "execution_count": null,
   "id": "bf742b1e-6266-471c-b07e-5bebab1941d3",
   "metadata": {},
   "outputs": [],
   "source": [
    "Type 1 and Type 2 errors are two types of errors that can occur in hypothesis testing."
   ]
  },
  {
   "cell_type": "markdown",
   "id": "97e1e1e5-da7e-4e0d-87dc-45dbf3e6db16",
   "metadata": {},
   "source": [
    "Type 1 error occurs when we reject a true null hypothesis. It means we conclude that there is a significant difference between the sample mean and population mean when there is actually no significant difference.\n",
    "\n",
    "This error is also known as a false positive. The probability of making a Type 1 error is denoted by α and is also known as the significance level."
   ]
  },
  {
   "cell_type": "markdown",
   "id": "876a48f2-497f-4494-af2c-58d84190cfdc",
   "metadata": {},
   "source": [
    "Example of Type 1 error: Suppose a researcher wants to test whether a new drug reduces cholesterol levels. The null hypothesis is that the drug does not affect cholesterol levels. \n",
    "\n",
    "If the researcher rejects the null hypothesis when it is actually true, this would be a Type 1 error. It means the researcher concludes that the drug reduces cholesterol levels when it actually does not."
   ]
  },
  {
   "cell_type": "markdown",
   "id": "2b99baac-1a24-4953-abc4-ee9251cb062e",
   "metadata": {},
   "source": [
    "Type 2 error occurs when we fail to reject a false null hypothesis. It means we conclude that there is no significant difference between the sample mean and population mean when there is actually a significant difference. \n",
    "\n",
    "This error is also known as a false negative. The probability of making a Type 2 error is denoted by β."
   ]
  },
  {
   "cell_type": "markdown",
   "id": "967f246f-cd6e-4b69-b0ff-1259c8b6ad39",
   "metadata": {},
   "source": [
    "Example of Type 2 error: Suppose a researcher wants to test whether a new treatment cures a disease. The null hypothesis is that the treatment does not cure the disease. \n",
    "\n",
    "If the researcher fails to reject the null hypothesis when it is actually false, this would be a Type 2 error. It means the researcher concludes that the treatment does not cure the disease when it actually does."
   ]
  },
  {
   "cell_type": "markdown",
   "id": "3de8c2aa-1e87-490b-857c-ae7da9c599e2",
   "metadata": {},
   "source": [
    "The probability of making a Type 1 error and Type 2 error is inversely related. In other words, if we decrease the probability of making a Type 1 error (by decreasing the significance level α), we increase the probability of making a Type 2 error (by increasing β), and vice versa. \n",
    "\n",
    "The goal of hypothesis testing is to strike a balance between Type 1 and Type 2 errors by selecting an appropriate significance level and sample size."
   ]
  },
  {
   "cell_type": "code",
   "execution_count": null,
   "id": "f15347c5-f50f-489a-8919-b7d06c1d199f",
   "metadata": {},
   "outputs": [],
   "source": [
    "Answer 4:"
   ]
  },
  {
   "cell_type": "markdown",
   "id": "7ac7a3b7-4e5f-43b4-885b-9fdaf55b8acf",
   "metadata": {},
   "source": [
    "Bayes's theorem is a fundamental concept in probability theory that describes the probability of an event based on prior knowledge of conditions that might be related to the event. It is named after Reverend Thomas Bayes"
   ]
  },
  {
   "cell_type": "markdown",
   "id": "cea7ad53-f907-474c-8ea3-a1862d651e65",
   "metadata": {},
   "source": [
    "Bayes's theorem states that the probability of an event A given an event B is equal to the probability of event B given event A multiplied by the probability of event A, divided by the probability of event B."
   ]
  },
  {
   "cell_type": "markdown",
   "id": "998d8fc7-3cb6-4361-8209-168000ffa09b",
   "metadata": {},
   "source": [
    "P(A|B) = P(B|A) * P(A) / P(B)\n",
    "\n",
    "where P(A|B) is the probability of event A given event B, P(B|A) is the probability of event B given event A, P(A) is the probability of event A, and P(B) is the probability of event B."
   ]
  },
  {
   "cell_type": "markdown",
   "id": "039d5ecc-352e-494e-9efd-509104abeb4b",
   "metadata": {},
   "source": [
    "An example scenario where Bayes's theorem could be applied is in medical diagnosis. Suppose a medical test is used to detect a disease, and the test is known to be accurate 95% of the time.\n",
    "\n",
    "Assume that the disease occurs in 1% of the population. If a person tests positive for the disease, what is the probability that the person actually has the disease?"
   ]
  },
  {
   "cell_type": "markdown",
   "id": "a541430d-6a98-4acd-a894-94c7ab4fe22b",
   "metadata": {},
   "source": [
    "Let A be the event that the person has the disease, and B be the event that the person tests positive for the disease. \n",
    "\n",
    "Then, we can use Bayes's theorem to calculate P(A|B), the probability that the person has the disease given that they tested positive:"
   ]
  },
  {
   "cell_type": "markdown",
   "id": "08fb9b45-27cf-4d92-8b45-48383f981c4c",
   "metadata": {},
   "source": [
    "P(A|B) = P(B|A) * P(A) / P(B)\n",
    "\n",
    "P(B|A) is the probability that a person with the disease tests positive, which is given as 0.95.\n",
    "\n",
    "P(A) is the probability that a person has the disease, which is given as 0.01.\n",
    "\n",
    "P(B) is the probability of testing positive for the disease, which can be calculated using the law of total probability:\n",
    "\n",
    "P(B) = P(B|A) * P(A) + P(B|~A) * P(~A)\n",
    "\n",
    "where ~A is the complement of event A, i.e., the person does not have the disease. P(B|~A) is the probability that a person without the disease tests positive, which is given as 0.05"
   ]
  },
  {
   "cell_type": "code",
   "execution_count": null,
   "id": "39f0b24d-a91e-4d62-a379-a3e025c2a724",
   "metadata": {},
   "outputs": [],
   "source": [
    "So, we have:\n",
    "\n",
    "P(B) = P(B|A) * P(A) + P(B|~A) * P(~A)\n",
    "= 0.95 * 0.01 + 0.05 * 0.99\n",
    "= 0.058\n",
    "\n",
    "Now, we can calculate P(A|B):\n",
    "\n",
    "P(A|B) = P(B|A) * P(A) / P(B)\n",
    "= 0.95 * 0.01 / 0.058\n",
    "= 0.1638"
   ]
  },
  {
   "cell_type": "markdown",
   "id": "0c885d7e-532f-4eeb-8e00-7404a3d51d7c",
   "metadata": {},
   "source": [
    "Thus, the probability that the person actually has the disease given that they tested positive is approximately 16.4%."
   ]
  },
  {
   "cell_type": "code",
   "execution_count": null,
   "id": "e8bf8549-8690-4076-9e3b-060a11667d22",
   "metadata": {},
   "outputs": [],
   "source": [
    "Answer 5:"
   ]
  },
  {
   "cell_type": "markdown",
   "id": "d4e62b4b-fdd2-407f-ad24-322c8d2affef",
   "metadata": {},
   "source": [
    "A confidence interval is a range of values that is likely to contain the true value of a population parameter with a certain level of confidence. \n",
    "\n",
    "It is commonly used in statistics to estimate the precision of a sample estimate of a population parameter, such as a mean or proportion. The level of confidence is typically chosen to be 90%, 95%, or 99%, depending on the desired level of certainty."
   ]
  },
  {
   "cell_type": "markdown",
   "id": "3d19dbc9-a56d-4a8c-b6ad-9e6eddf58e9f",
   "metadata": {},
   "source": [
    "To calculate a confidence interval, we need to know the sample size, sample mean, sample standard deviation (or standard error), and the desired level of confidence. The formula for calculating a confidence interval for a population mean is:\n",
    "\n",
    "CI = X̄ ± Zα/2 * σ/√n\n",
    "\n",
    "where CI is the confidence interval, X̄ is the sample mean, Zα/2 is the critical value from the standard normal distribution corresponding to the level of confidence (α/2 for a two-tailed test), σ is the population standard deviation (or the sample standard deviation if the population standard deviation is unknown), and n is the sample size."
   ]
  },
  {
   "cell_type": "markdown",
   "id": "d7562471-a698-411b-9fd6-5d8cd2042696",
   "metadata": {},
   "source": [
    "For example, suppose we want to estimate the average height of all students in a school using a sample of 50 students.\n",
    "\n",
    "We measure the height of the 50 students and calculate a sample mean of 65 inches and a sample standard deviation of 3 inches. We want to construct a 95% confidence interval for the true population mean height."
   ]
  },
  {
   "cell_type": "markdown",
   "id": "ff5884bc-db59-4955-946a-48d4bef151d7",
   "metadata": {},
   "source": [
    "From the standard normal distribution table, we find that the critical value Zα/2 for a 95% confidence level is 1.96. Using the formula above, we can calculate the confidence interval:\n",
    "\n",
    "CI = 65 ± 1.96 * (3/√50)\n",
    "= (63.27, 66.73)"
   ]
  },
  {
   "cell_type": "markdown",
   "id": "53bf45cf-3eef-449a-9ec7-8dcf865c49b3",
   "metadata": {},
   "source": [
    "Therefore, we can say with 95% confidence that the true population mean height of all students in the school is between 63.27 inches and 66.73 inches.\n",
    "\n",
    "This means that if we were to repeat the study many times and construct a confidence interval for each study, 95% of the intervals would contain the true population mean height."
   ]
  },
  {
   "cell_type": "code",
   "execution_count": null,
   "id": "42554622-65fa-42c1-92f9-98c4c0f2f003",
   "metadata": {},
   "outputs": [],
   "source": []
  },
  {
   "cell_type": "code",
   "execution_count": null,
   "id": "1898353c-b15a-4b82-9be6-d15721fc1baa",
   "metadata": {},
   "outputs": [],
   "source": [
    "Answer 6:"
   ]
  },
  {
   "cell_type": "markdown",
   "id": "88760dd0-d46c-4aff-bf27-7b19ddf26dc1",
   "metadata": {},
   "source": [
    "Suppose there is a rare genetic disease that affects 1 in 10,000 people. There is a test available that is 99% accurate in detecting the disease. If a person tests positive for the disease, what is the probability that they actually have the disease?"
   ]
  },
  {
   "cell_type": "markdown",
   "id": "c98e79a4-c1e0-4170-bc0e-32630f3c8787",
   "metadata": {},
   "source": [
    "Let A be the event that a person has the disease, and B be the event that a person tests positive for the disease. Then, we can use Bayes' Theorem to calculate P(A|B), the probability that a person has the disease given that they test positive:\n",
    "\n",
    "P(A|B) = P(B|A) * P(A) / P(B)\n",
    "\n",
    "where P(B|A) is the probability of testing positive given that a person has the disease, P(A) is the prior probability of a person having the disease, and P(B) is the probability of testing positive."
   ]
  },
  {
   "cell_type": "markdown",
   "id": "cc63a378-c4c1-411f-991b-a82922208424",
   "metadata": {},
   "source": [
    "We are given that P(A) = 1/10,000 = 0.0001, and P(B|A) = 0.99, since the test is 99% accurate in detecting the disease. We can calculate P(B|~A), the probability of testing positive given that a person does not have the disease, using the complement rule:\n",
    "\n",
    "P(B|~A) = 1 - P(~B|~A)\n",
    "\n",
    "where ~B is the complement of event B, i.e., a person tests negative for the disease. Since the test is 99% accurate in detecting the disease, it is also 99% accurate in giving a negative result to a person without the disease, so P(~B|~A) = 0.99."
   ]
  },
  {
   "cell_type": "markdown",
   "id": "e351c617-47cf-4513-a7d9-121913601e42",
   "metadata": {},
   "source": [
    "Therefore,\n",
    "\n",
    "P(B|~A) = 1 - 0.99 = 0.01\n",
    "\n",
    "Now we can use the law of total probability to calculate P(B):\n",
    "\n",
    "P(B) = P(B|A) * P(A) + P(B|~A) * P(~A)\n",
    "\n",
    "where P(~A) = 1 - P(A) = 1 - 0.0001 = 0.9999.\n",
    "\n",
    "P(B) = 0.99 * 0.0001 + 0.01 * 0.9999\n",
    "= 0.010098"
   ]
  },
  {
   "cell_type": "markdown",
   "id": "3e742b91-63e3-4b8c-8dd1-93508d60e9a3",
   "metadata": {},
   "source": [
    "Finally, we can calculate P(A|B):\n",
    "\n",
    "P(A|B) = P(B|A) * P(A) / P(B)\n",
    "= 0.99 * 0.0001 / 0.010098\n",
    "= 0.0098 or 0.98%"
   ]
  },
  {
   "cell_type": "markdown",
   "id": "9507bab6-4206-48aa-b4e3-79fc55f649d9",
   "metadata": {},
   "source": [
    "Therefore, the probability that a person actually has the disease given that they test positive is only 0.98%, despite the test being 99% accurate in detecting the disease.\n",
    "\n",
    "This illustrates the importance of considering the base rate of the disease in addition to the accuracy of the test when interpreting the results of medical tests."
   ]
  },
  {
   "cell_type": "code",
   "execution_count": null,
   "id": "6a548904-053b-4abf-9e2f-db9e1f2897f3",
   "metadata": {},
   "outputs": [],
   "source": []
  },
  {
   "cell_type": "code",
   "execution_count": null,
   "id": "e820e801-5718-4a65-a714-373406a56c2b",
   "metadata": {},
   "outputs": [],
   "source": [
    "Answer 7:"
   ]
  },
  {
   "cell_type": "markdown",
   "id": "08e98fc5-a570-41e7-bf09-70a1ff139556",
   "metadata": {},
   "source": [
    "To calculate the 95% confidence interval for a sample of data with a mean of 50 and a standard deviation of 5, we need to use the formula:\n",
    "\n",
    "CI = X̄ ± Zα/2 * (σ/√n)\n",
    "\n",
    "where X̄ is the sample mean, σ is the population standard deviation (which we don't know, so we use the sample standard deviation instead), n is the sample size, Zα/2 is the critical value of the standard normal distribution for the desired confidence level (95% in this case), and CI is the confidence interval."
   ]
  },
  {
   "cell_type": "markdown",
   "id": "21bd9fc0-f08f-4e6d-999f-2833f09ba815",
   "metadata": {},
   "source": [
    "Using a standard normal distribution table or a calculator, we can find that Zα/2 for a 95% confidence level is approximately 1.96.\n",
    "\n",
    "Plugging in the values, we get:\n",
    "\n",
    "CI = 50 ± 1.96 * (5/√n)\n",
    "\n",
    "We don't know the sample size, so let's assume it's 100 for this example. Then:\n",
    "\n",
    "CI = 50 ± 1.96 * (5/√100)\n",
    "= 50 ± 0.98\n",
    "= (49.02, 50.98)"
   ]
  },
  {
   "cell_type": "markdown",
   "id": "49d638ba-49d1-4318-a1ce-456e326f3c39",
   "metadata": {},
   "source": [
    "Interpretation: We can say with 95% confidence that the true population mean falls within the interval (49.02, 50.98).\n",
    "This means that if we were to repeat the sampling process many times and calculate the confidence intervals each time, approximately 95% of those intervals would contain the true population mean.\n",
    "\n",
    "Additionally, we can be reasonably confident that the true population mean is not below 49.02 or above 50.98."
   ]
  },
  {
   "cell_type": "code",
   "execution_count": null,
   "id": "b806880e-0605-4abb-a280-b973a0e48243",
   "metadata": {},
   "outputs": [],
   "source": []
  },
  {
   "cell_type": "code",
   "execution_count": null,
   "id": "802b1042-2a7f-4e53-8f51-fbe62d3efd93",
   "metadata": {},
   "outputs": [],
   "source": [
    "Answer 8:"
   ]
  },
  {
   "cell_type": "markdown",
   "id": "d0b6a104-8b78-497e-aaa8-a57add1fa980",
   "metadata": {},
   "source": [
    "The margin of error is the amount of uncertainty or variation associated with a particular level of confidence in an interval estimate. \n",
    "\n",
    "It is the plus or minus value added or subtracted from the point estimate of a parameter to obtain the interval estimate. It represents the maximum expected difference between the sample estimate and the population parameter."
   ]
  },
  {
   "cell_type": "markdown",
   "id": "3c5d74c5-0811-462d-a141-15925c56f7bc",
   "metadata": {},
   "source": [
    "The margin of error depends on several factors, including the sample size, population standard deviation, level of confidence, and the shape of the population distribution. \n",
    "\n",
    "In general, a larger sample size results in a smaller margin of error because as the sample size increases, the variability in the sample means decreases, and the estimates become more accurate."
   ]
  },
  {
   "cell_type": "markdown",
   "id": "02d2d08d-fe79-45c4-b925-1b202f1ff569",
   "metadata": {},
   "source": [
    "For example, suppose we want to estimate the average height of a population of trees in a park. We collect a random sample of 50 trees and measure their heights.\n",
    "\n",
    "We find that the sample mean height is 20 feet, and the standard deviation is 2 feet. If we want to construct a 95% confidence interval for the population mean height, we can use the formula:\n",
    "\n",
    "Margin of error = Zα/2 * (σ/√n)\n",
    "\n",
    "Where Zα/2 is the critical value of the standard normal distribution for the desired confidence level (in this case, 95%), σ is the population standard deviation (which we don't know, so we use the sample standard deviation instead), and n is the sample size."
   ]
  },
  {
   "cell_type": "markdown",
   "id": "9054f5b5-4a89-482e-84ae-c79de6fea1d7",
   "metadata": {},
   "source": [
    "Assuming a standard normal distribution, we can find that Zα/2 for a 95% confidence level is approximately 1.96. Plugging in the values, we get:\n",
    "\n",
    "Margin of error = 1.96 * (2/√50) = 0.56\n",
    "\n",
    "So, the 95% confidence interval for the population mean height is (19.44, 20.56)."
   ]
  },
  {
   "cell_type": "markdown",
   "id": "93ff93c2-b1fa-43cf-8266-61af6fb72c97",
   "metadata": {},
   "source": [
    "Suppose we increase the sample size to 100 trees while keeping the standard deviation and level of confidence the same. Then, the margin of error would be:\n",
    "\n",
    "Margin of error = 1.96 * (2/√100) = 0.4\n",
    "\n",
    "The larger sample size reduces the margin of error, indicating a higher degree of confidence in the estimate.\n",
    "\n",
    "In summary, a larger sample size results in a smaller margin of error, which indicates a more precise estimate of the population parameter."
   ]
  },
  {
   "cell_type": "code",
   "execution_count": null,
   "id": "7bb64776-357d-4a6b-bb3a-e2ec91a7dc25",
   "metadata": {},
   "outputs": [],
   "source": [
    "Answer 9:"
   ]
  },
  {
   "cell_type": "markdown",
   "id": "442842d2-c027-4f78-b9d8-adac5e46b768",
   "metadata": {},
   "source": [
    "To calculate the z-score for a data point with a value of 75, a population mean of 70, and a population standard deviation of 5, we can use the formula:\n",
    "\n",
    "z = (x - μ) / σ\n",
    "\n",
    "where x is the data point, μ is the population mean, and σ is the population standard deviation.\n",
    "\n",
    "Plugging in the values, we get:\n",
    "\n",
    "z = (75 - 70) / 5\n",
    "= 1"
   ]
  },
  {
   "cell_type": "markdown",
   "id": "d77d2ac7-60d9-47e9-8342-0e0241032eb9",
   "metadata": {},
   "source": [
    "Interpretation: The z-score of 1 means that the data point of 75 is one standard deviation above the population mean of 70. \n",
    "\n",
    "The positive sign of the z-score indicates that the data point is above the mean. The magnitude of the z-score of 1 indicates that the data point is one standard deviation away from the mean, which is a moderate deviation from the average value.\n",
    "\n",
    "The z-score is useful in standardizing data so that we can compare values from different populations or variables with different units of measurement."
   ]
  },
  {
   "cell_type": "code",
   "execution_count": null,
   "id": "1483f716-589a-477b-8dac-ba4fb9872855",
   "metadata": {},
   "outputs": [],
   "source": [
    "Answer 10:"
   ]
  },
  {
   "cell_type": "markdown",
   "id": "9a152011-38d7-4958-92c0-1216d242a06b",
   "metadata": {},
   "source": [
    "To conduct a hypothesis test to determine if the weight loss drug is significantly effective at a 95% confidence level using a t-test, we need to set up the null and alternative hypotheses:\n",
    "\n",
    "Null hypothesis (H0): The drug is not significantly effective; the population mean weight loss is equal to or less than 0 pounds.\n",
    "Alternative hypothesis (Ha): The drug is significantly effective; the population mean weight loss is greater than 0 pounds."
   ]
  },
  {
   "cell_type": "markdown",
   "id": "8142de4e-a05f-4a07-8e41-baa6dfaf585e",
   "metadata": {},
   "source": [
    "We can use a one-sample t-test to test the hypotheses, where the test statistic is calculated as:\n",
    "\n",
    "t = (x̄ - μ) / (s / √n)\n",
    "\n",
    "where x̄ is the sample mean, μ is the hypothesized population mean under the null hypothesis (which is 0 in this case), s is the sample standard deviation, and n is the sample size.\n",
    "\n",
    "Plugging in the values, we get:\n",
    "\n",
    "t = (6 - 0) / (2.5 / √50)\n",
    "= 15.1"
   ]
  },
  {
   "cell_type": "markdown",
   "id": "7b45f2c2-e3f7-4930-9a74-f4c81906f9b3",
   "metadata": {},
   "source": [
    "Using a t-table with 49 degrees of freedom (df = n - 1), at a 95% confidence level and a one-tailed test (since the alternative hypothesis is one-sided), the critical t-value is approximately 1.68.\n",
    "\n",
    "Since the calculated t-value of 15.1 is greater than the critical t-value of 1.68, we can reject the null hypothesis and conclude that the weight loss drug is significantly effective at a 95% confidence level."
   ]
  },
  {
   "cell_type": "markdown",
   "id": "a5c72ac3-d5f7-4d7a-9866-578f967cbd89",
   "metadata": {},
   "source": [
    "Interpretation: The sample data provides strong evidence to support the claim that the weight loss drug is significantly effective in reducing weight. \n",
    "\n",
    "The sample mean weight loss of 6 pounds is statistically significant at a 95% confidence level, indicating that the population mean weight loss is likely to be greater than 0 pounds."
   ]
  },
  {
   "cell_type": "code",
   "execution_count": null,
   "id": "2824d1c6-fe23-4838-9cee-d7987bbfb19c",
   "metadata": {},
   "outputs": [],
   "source": [
    "Answer 11:"
   ]
  },
  {
   "cell_type": "markdown",
   "id": "1a616026-4b9a-463c-a739-404aab2e4fd5",
   "metadata": {},
   "source": [
    "To calculate the 95% confidence interval for the true proportion of people who are satisfied with their job, we can use the following formula:"
   ]
  },
  {
   "cell_type": "markdown",
   "id": "f1d85985-7a41-4652-8dce-249381aa50ad",
   "metadata": {},
   "source": [
    "CI = p ± z* (sqrt(p*(1-p)/n))\n",
    "\n",
    "where p is the sample proportion, z* is the critical z-value for a 95% confidence interval (which is approximately 1.96), and n is the sample size.\n",
    "\n",
    "Plugging in the values, we get:\n",
    "\n",
    "CI = 0.65 ± 1.96 * (sqrt(0.65*(1-0.65)/500))\n",
    "= 0.65 ± 0.042\n",
    "= (0.608, 0.692)"
   ]
  },
  {
   "cell_type": "markdown",
   "id": "7b0f3a90-88a2-4014-830a-937854eb0358",
   "metadata": {},
   "source": [
    "Interpretation: We are 95% confident that the true proportion of people who are satisfied with their job is between 60.8% and 69.2%, based on the sample data of 500 people. \n",
    "\n",
    "This interval provides a range of plausible values for the population proportion, and the level of confidence indicates our degree of certainty in this estimate"
   ]
  },
  {
   "cell_type": "code",
   "execution_count": null,
   "id": "bd75df33-11cb-46dc-938b-db61dfca7d8b",
   "metadata": {},
   "outputs": [],
   "source": [
    "Answer 12:"
   ]
  },
  {
   "cell_type": "markdown",
   "id": "0504382f-2dd1-4dd6-acc2-c60a5269ecbc",
   "metadata": {},
   "source": [
    "To conduct a hypothesis test to determine if the two teaching methods have a significant difference in student performance using a t-test with a significance level of 0.01, we need to set up the null and alternative hypotheses:\n",
    "\n",
    "Null hypothesis (H0): There is no significant difference in student performance between the two teaching methods; the population means are equal.\n",
    "\n",
    "Alternative hypothesis (Ha): There is a significant difference in student performance between the two teaching methods; the population means are not equal."
   ]
  },
  {
   "cell_type": "markdown",
   "id": "a29d9ce8-6676-4aa0-80e2-464eafa33624",
   "metadata": {},
   "source": [
    "We can use a two-sample t-test to test the hypotheses, where the test statistic is calculated as:\n",
    "\n",
    "t = (x̄1 - x̄2) / (sqrt(s1^2/n1 + s2^2/n2))\n",
    "\n",
    "where x̄1 and x̄2 are the sample means, s1 and s2 are the sample standard deviations, n1 and n2 are the sample sizes.\n",
    "\n",
    "Plugging in the values, we get:\n",
    "\n",
    "t = (85 - 82) / (sqrt(6^2/1 + 5^2/1))\n",
    "= 1.58"
   ]
  },
  {
   "cell_type": "markdown",
   "id": "6f2e45ac-7fa7-4498-97b4-8f79018c8c20",
   "metadata": {},
   "source": [
    "Using a t-table with 2 degrees of freedom (df = n1 + n2 - 2), at a significance level of 0.01 and a two-tailed test (since the alternative hypothesis is two-sided), the critical t-value is approximately ±2.92.\n",
    "\n",
    "Since the calculated t-value of 1.58 is less than the critical t-value of ±2.92, we fail to reject the null hypothesis and conclude that there is no significant difference in student performance between the two teaching methods at a significance level of 0.01."
   ]
  },
  {
   "cell_type": "markdown",
   "id": "4bdc69ee-c774-40b7-9b32-e8de79895bb2",
   "metadata": {},
   "source": [
    "Interpretation: Based on the sample data, we do not have sufficient evidence to support the claim that there is a significant difference in student performance between the two teaching methods at a significance level of 0.01. \n",
    "\n",
    "This means that we cannot conclude that one teaching method is better than the other in terms of improving student performance, based on the sample data alone."
   ]
  },
  {
   "cell_type": "code",
   "execution_count": null,
   "id": "4e572520-0288-4808-b70a-87511577648c",
   "metadata": {},
   "outputs": [],
   "source": [
    "Answer 13:\n",
    "    "
   ]
  },
  {
   "cell_type": "markdown",
   "id": "ffc6f026-350f-4111-8330-fe76c1612852",
   "metadata": {},
   "source": [
    "To calculate the 90% confidence interval for the true population mean based on a sample of 50 observations, we can use the following formula:"
   ]
  },
  {
   "cell_type": "markdown",
   "id": "6b38cac0-cdf5-42f1-9a4e-d0411c61e957",
   "metadata": {},
   "source": [
    "CI = x̄ ± zα/2 * (σ / sqrt(n))\n",
    "\n",
    "where:\n",
    "\n",
    "x̄ is the sample mean\n",
    "σ is the population standard deviation\n",
    "n is the sample size\n",
    "zα/2 is the critical z-value for the desired confidence level, which can be obtained from a standard normal distribution table or calculator"
   ]
  },
  {
   "cell_type": "markdown",
   "id": "13cd0410-37f5-4dc9-a878-38c30bb4081d",
   "metadata": {},
   "source": [
    "Plugging in the values, we get:\n",
    "\n",
    "CI = 65 ± 1.645 * (8 / sqrt(50))\n",
    "≈ 65 ± 2.91\n",
    "\n",
    "Therefore, the 90% confidence interval for the true population mean is approximately (62.09, 67.91)"
   ]
  },
  {
   "cell_type": "markdown",
   "id": "ba59fc4a-bd78-4be5-986e-a8aebefc587f",
   "metadata": {},
   "source": [
    "Interpretation: We can be 90% confident that the true population mean falls within the range of (62.09, 67.91) based on the sample data.\n",
    "\n",
    "This means that if we were to take multiple samples from the same population and construct a 90% confidence interval for each sample, approximately 90% of these intervals would contain the true population mean."
   ]
  },
  {
   "cell_type": "code",
   "execution_count": null,
   "id": "2d3a6d96-e86a-4f5f-a65a-7e1165e3e777",
   "metadata": {},
   "outputs": [],
   "source": [
    "Answer 14:"
   ]
  },
  {
   "cell_type": "code",
   "execution_count": null,
   "id": "ae02a8b2-5f82-4ca9-a113-b79e84a09f2b",
   "metadata": {},
   "outputs": [],
   "source": [
    "To conduct a hypothesis test, we need to state the null and alternative hypotheses.\n",
    "\n",
    "Null Hypothesis: Caffeine has no significant effect on reaction time (μ = 0.25 seconds)\n",
    "Alternative Hypothesis: Caffeine has a significant effect on reaction time (μ ≠ 0.25 seconds)"
   ]
  },
  {
   "cell_type": "markdown",
   "id": "51d55985-ac14-43fe-9b1c-62268ea2fa52",
   "metadata": {},
   "source": [
    "We will conduct a two-tailed t-test since the alternative hypothesis is not directional.\n",
    "\n",
    "The level of significance is 0.1 (90% confidence level), which corresponds to a critical value of t with 29 degrees of freedom (df) of ±1.6991.\n",
    "\n",
    "To calculate the t-statistic, we use the formula:\n",
    "\n",
    "t = (x̄ - μ) / (s / √n)\n",
    "\n",
    "where x̄ is the sample mean, μ is the hypothesized population mean, s is the sample standard deviation, and n is the sample size."
   ]
  },
  {
   "cell_type": "markdown",
   "id": "56fe1b0a-f5a2-4a06-aca2-a5384f522bd1",
   "metadata": {},
   "source": [
    "Plugging in the values, we get:\n",
    "\n",
    "t = (0.25 - μ) / (0.05 / √30)\n",
    "\n",
    "To reject the null hypothesis, the calculated t-value must be greater than the critical t-value or less than the negative critical t-value.\n",
    "\n",
    "At a 90% confidence level (two-tailed), the critical t-value is ±1.6991.\n",
    "\n",
    "Calculating the t-value:\n",
    "\n",
    "t = (0.25 - μ) / (0.05 / √30)\n",
    "\n",
    "If we assume a small effect size of 0.2, then the expected mean reaction time with caffeine would be 0.25 - (0.2 * 0.25) = 0.2 seconds.\n",
    "\n",
    "t = (0.25 - 0.2) / (0.05 / √30) = 3\n",
    "\n",
    "Since 3 is greater than the critical value of ±1.6991, we can reject the null hypothesis and conclude that caffeine has a significant effect on reaction time at a 90% confidence level."
   ]
  }
 ],
 "metadata": {
  "kernelspec": {
   "display_name": "Python 3 (ipykernel)",
   "language": "python",
   "name": "python3"
  },
  "language_info": {
   "codemirror_mode": {
    "name": "ipython",
    "version": 3
   },
   "file_extension": ".py",
   "mimetype": "text/x-python",
   "name": "python",
   "nbconvert_exporter": "python",
   "pygments_lexer": "ipython3",
   "version": "3.10.8"
  }
 },
 "nbformat": 4,
 "nbformat_minor": 5
}
