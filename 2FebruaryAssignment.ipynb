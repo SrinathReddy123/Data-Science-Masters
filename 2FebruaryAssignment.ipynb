{
 "cells": [
  {
   "cell_type": "markdown",
   "id": "e01c230c-c52a-4b24-a262-a843dcf993df",
   "metadata": {},
   "source": [
    "Answer 1.\n",
    "\n",
    "Tuple is an ordered collection of elements, which can be of different data types.\n",
    "\n",
    "Some characteristics of tuples include:\n",
    "\n",
    "1. Tuples are ordered: The order of elements in a tuple is preserved, and each element can be accessed by its index.\n",
    "\n",
    "2. Tuples are heterogeneous: A tuple can contain elements of different data types, such as integers, strings, and\n",
    " booleans.\n",
    "\n",
    "3. Tuples are immutable: Once a tuple is created, its contents cannot be modified. This means that you cannot add,\n",
    "   remove, or change elements within a tuple.\n",
    "\n",
    "4. Tuples can be nested: A tuple can contain other tuples, as well as other data types.\n",
    "\n",
    "\n",
    "\n",
    "\n",
    "This means that once a tuple is created, its contents cannot be modified. If you need to modify the contents of a collection, you may want to use a list instead of a tuple."
   ]
  },
  {
   "cell_type": "markdown",
   "id": "91d8d6ec-b11b-44c9-acf7-4e38c8536fda",
   "metadata": {},
   "source": [
    "Answer 2. Tuples have two built-in methods: count() and index().\n",
    "   Here are examples of each method:\n",
    "   \n",
    "   1.count(): This method returns the number of times a specified element appears in the tuple.\n",
    "   2.index(): This method returns the index of the first occurrence of a specified element in the tuple."
   ]
  },
  {
   "cell_type": "code",
   "execution_count": 1,
   "id": "32fca7f9-7639-458a-8604-3d920e50346b",
   "metadata": {},
   "outputs": [
    {
     "name": "stdout",
     "output_type": "stream",
     "text": [
      "3\n"
     ]
    }
   ],
   "source": [
    "t1 = (1, 2, 3, 1, 4, 1)\n",
    "count_ones = t1.count(1)\n",
    "print(count_ones)"
   ]
  },
  {
   "cell_type": "code",
   "execution_count": 2,
   "id": "41e02f60-8fe7-471e-9889-d7ecf39ee7eb",
   "metadata": {},
   "outputs": [
    {
     "name": "stdout",
     "output_type": "stream",
     "text": [
      "0\n"
     ]
    }
   ],
   "source": [
    "t1 = (1, 2, 3, 1, 4, 1)\n",
    "index_first_occurence_one = t1.index(1)\n",
    "print(index_first_occurence_one)"
   ]
  },
  {
   "cell_type": "markdown",
   "id": "7d473dc4-cd16-4c1c-8445-1528d85285a1",
   "metadata": {},
   "source": [
    "why tuples have only two in-built methods as compared to Lists?\n",
    "\n",
    "Tuples have only two built-in methods as compared to lists because tuples are immutable, and as a result, they do not require as many methods as lists. Lists, on the other hand, are mutable, which means they can be modified, and thus they require more methods to handle their various operations, such as adding, removing, and modifying elements.\n",
    "\n",
    "\n",
    "Additionally, tuples are often used for data structures that require immutability, such as representing coordinates or dates, whereas lists are typically used for sequences of mutable data."
   ]
  },
  {
   "cell_type": "markdown",
   "id": "f973a8fd-ea10-4269-82dc-07d00db9ef2c",
   "metadata": {},
   "source": [
    "Answer 3. Set is the collection datatypes in python do not allow duplicate items"
   ]
  },
  {
   "cell_type": "code",
   "execution_count": 4,
   "id": "1f4ab62f-8beb-4e57-8a37-efd5c8fa3468",
   "metadata": {},
   "outputs": [],
   "source": [
    "l1 = [1, 1, 1, 2, 1, 3, 1, 4, 2, 1, 2, 2, 2, 3, 2, 4, 3, 1, 3, 2, 3, 3, 3, 4, 4, 1, 4, 2, 4, 3, 4, 4]"
   ]
  },
  {
   "cell_type": "code",
   "execution_count": 5,
   "id": "5b54bc53-4999-42db-9e57-0f4741af28fc",
   "metadata": {},
   "outputs": [],
   "source": [
    "\n",
    "s1 = set(l1)\n"
   ]
  },
  {
   "cell_type": "code",
   "execution_count": 6,
   "id": "cae02d12-eb52-4e9e-bcda-6fe7dfc84969",
   "metadata": {},
   "outputs": [
    {
     "data": {
      "text/plain": [
       "{1, 2, 3, 4}"
      ]
     },
     "execution_count": 6,
     "metadata": {},
     "output_type": "execute_result"
    }
   ],
   "source": [
    "s1"
   ]
  },
  {
   "cell_type": "markdown",
   "id": "ee82a7de-ec6e-4e99-b124-1d16ac184cca",
   "metadata": {},
   "source": [
    "Answer 4.  In Python, both union() and update() methods are used to combine two sets.\n",
    "\n",
    "union(): This method returns a new set that contains all the elements from both sets, but without modifying either original set.\n",
    "\n",
    "update(): This method modifies the set on which it is called to include all the elements from another set."
   ]
  },
  {
   "cell_type": "code",
   "execution_count": 9,
   "id": "f63c09bd-368c-4ab1-ba62-6896bff21727",
   "metadata": {},
   "outputs": [
    {
     "data": {
      "text/plain": [
       "{1, 2, 3, 4, 5}"
      ]
     },
     "execution_count": 9,
     "metadata": {},
     "output_type": "execute_result"
    }
   ],
   "source": [
    "s1 = {1, 2, 3}\n",
    "s2 = {3, 4, 5}\n",
    "s1.union(s2)"
   ]
  },
  {
   "cell_type": "markdown",
   "id": "3ee60b75-78f9-41f7-80e3-1468135f81a4",
   "metadata": {},
   "source": [
    "In the above example, s3 is a new set that contains all the elements from both s1 and s2, but s1 and s2 themselves are not modified."
   ]
  },
  {
   "cell_type": "code",
   "execution_count": 7,
   "id": "648c090f-14a5-4bab-afd2-4f7526cec64b",
   "metadata": {},
   "outputs": [],
   "source": [
    "s1 = {1, 2, 3}\n",
    "s2 = {3, 4, 5}\n",
    "s1.update(s2)"
   ]
  },
  {
   "cell_type": "code",
   "execution_count": 8,
   "id": "00706e06-0891-49e1-b7e0-fadc84ec993f",
   "metadata": {},
   "outputs": [
    {
     "data": {
      "text/plain": [
       "{1, 2, 3, 4, 5}"
      ]
     },
     "execution_count": 8,
     "metadata": {},
     "output_type": "execute_result"
    }
   ],
   "source": [
    "s1"
   ]
  },
  {
   "cell_type": "markdown",
   "id": "34f663df-126f-4d26-bfeb-8d61f2999439",
   "metadata": {},
   "source": [
    "In the above example, s1 is modified to include all the elements from s2. The resulting set is {1, 2, 3, 4, 5}, and s2 is not modified."
   ]
  },
  {
   "cell_type": "markdown",
   "id": "75e09c7a-195d-4b6e-86b6-9ba20bd74af2",
   "metadata": {},
   "source": [
    "In summary, the union() method returns a new set that contains all the elements from both sets, while the update() method modifies the set on which it is called to include all the elements from another set."
   ]
  },
  {
   "cell_type": "markdown",
   "id": "5c10c325-21c2-4e63-b0e8-2c45d234840a",
   "metadata": {},
   "source": [
    "Answer 5. In Python, a dictionary is an unordered collection of key-value pairs, where each key is unique and associated    with a value."
   ]
  },
  {
   "cell_type": "code",
   "execution_count": 10,
   "id": "a89b45d6-718d-4ba2-ae82-f75e61979719",
   "metadata": {},
   "outputs": [],
   "source": [
    "d1 = { \"name\" : \"srinath\" , \"mail\" : \"sri@gmail.com\" ,\"number\" : 23123 }"
   ]
  },
  {
   "cell_type": "markdown",
   "id": "63460f96-ad32-4bcd-94d7-966007f8f267",
   "metadata": {},
   "source": [
    "In this example, the keys are \"name\",\"mail\",\"number\" and the corresponding values are \"srinath\", \"sri@gmail.com\",  23123 respectively."
   ]
  },
  {
   "cell_type": "markdown",
   "id": "05456cc1-a1e3-4a37-8879-1152be0fac5c",
   "metadata": {},
   "source": [
    "Dictionaries are unordered, which means that the elements are not stored in a specific order. The order in which the key-value pairs are stored may change over time, and there is no guarantee that the order will remain the same between different runs of the program. "
   ]
  },
  {
   "cell_type": "code",
   "execution_count": null,
   "id": "e6f2ec06-1382-410a-9a4d-57720b913fcf",
   "metadata": {},
   "outputs": [],
   "source": [
    "Answer 6.\n",
    "Yes, we can create a nested dictionary in Python.\n",
    "A nested dictionary is a dictionary where the values are themselves dictionaries.\n",
    "\n"
   ]
  },
  {
   "cell_type": "code",
   "execution_count": 12,
   "id": "710d5792-8261-4271-b95b-3a821cbee431",
   "metadata": {},
   "outputs": [],
   "source": [
    "d15 = { \"nested-dict\" : {\"number\" : 123, \"name\" : \"sudh\" , \"classes\" : \"DataScienceMasters\" } }"
   ]
  },
  {
   "cell_type": "markdown",
   "id": "191af1b9-1654-411f-8e66-0ae218950e31",
   "metadata": {},
   "source": [
    " In above eg: d15 is dictionary name, and it has 1 key name is \"nested-dict\" and it's value is a dictionary\n",
    "  {\"qwe\" : 123, \"name\" : \"sudh\" , \"classes\" : \"DataScienceMasters\" }"
   ]
  },
  {
   "cell_type": "code",
   "execution_count": null,
   "id": "e01284d8-315c-4933-ba4f-f4f9758049d3",
   "metadata": {},
   "outputs": [],
   "source": [
    "We can access the values in a nested dictionary using a combination of keys"
   ]
  },
  {
   "cell_type": "code",
   "execution_count": 13,
   "id": "173f065c-9c24-4889-8cd7-2b0370a940a3",
   "metadata": {},
   "outputs": [
    {
     "data": {
      "text/plain": [
       "'sudh'"
      ]
     },
     "execution_count": 13,
     "metadata": {},
     "output_type": "execute_result"
    }
   ],
   "source": [
    "# To access name of person(sudh)\n",
    "\n",
    "d15[\"nested-dict\"][\"name\"]"
   ]
  },
  {
   "cell_type": "code",
   "execution_count": 14,
   "id": "6eb0eda7-e794-4059-b486-f77b3b6ff6f3",
   "metadata": {},
   "outputs": [],
   "source": [
    "# Answer 7:\n",
    "    \n",
    "dict1 = {'language' : 'Python', 'course': 'Data Science Masters'}    "
   ]
  },
  {
   "cell_type": "markdown",
   "id": "6af7ad10-97d6-4f1b-8c8a-2b27981cfb0b",
   "metadata": {},
   "source": [
    "Using setdefault() method to add a new key-value pair to a dictionary, and set the default value of the key to a list"
   ]
  },
  {
   "cell_type": "code",
   "execution_count": 15,
   "id": "c5715a84-3526-4e5f-8140-840e6918789b",
   "metadata": {},
   "outputs": [
    {
     "data": {
      "text/plain": [
       "['Python', 'Machine Learning', 'Deep Learning']"
      ]
     },
     "execution_count": 15,
     "metadata": {},
     "output_type": "execute_result"
    }
   ],
   "source": [
    "dict1.setdefault('topics', ['Python', 'Machine Learning', 'Deep Learning'])"
   ]
  },
  {
   "cell_type": "code",
   "execution_count": 16,
   "id": "7523fec4-f60c-4f90-aeb1-ff1063c0525d",
   "metadata": {},
   "outputs": [
    {
     "data": {
      "text/plain": [
       "{'language': 'Python',\n",
       " 'course': 'Data Science Masters',\n",
       " 'topics': ['Python', 'Machine Learning', 'Deep Learning']}"
      ]
     },
     "execution_count": 16,
     "metadata": {},
     "output_type": "execute_result"
    }
   ],
   "source": [
    "dict1"
   ]
  },
  {
   "cell_type": "markdown",
   "id": "8d056047-5fd6-4e9c-81b9-5c2b434ba9b6",
   "metadata": {},
   "source": [
    "In this example, we used setdefault() method to add a new key-value pair to the 'dict1' dictionary.\n",
    "The first argument to setdefault() is the key that we want to add, and the second argument is the default value for   that key.\n",
    "\n",
    "If the key already exists in the dictionary, then the setdefault() method returns the existing value for that key, and does not modify the dictionary.\n",
    "\n",
    "If the key does not exist in the dictionary, then setdefault() adds the key-value pair to the dictionary, with the default value as the value of the key.\n",
    "\n",
    "\n"
   ]
  },
  {
   "cell_type": "code",
   "execution_count": 17,
   "id": "6cd19348-e41b-438d-b88e-f0c854971ed8",
   "metadata": {},
   "outputs": [
    {
     "data": {
      "text/plain": [
       "['Python', 'Machine Learning', 'Deep Learning']"
      ]
     },
     "execution_count": 17,
     "metadata": {},
     "output_type": "execute_result"
    }
   ],
   "source": [
    "dict1.setdefault('topics', ['Pyt', 'ML', 'Dl'])"
   ]
  },
  {
   "cell_type": "markdown",
   "id": "d3f8658c-5ca7-4717-ae2f-ab823cf78c4f",
   "metadata": {},
   "source": [
    " So in above eg as 'topics' key is already existing in dict1 so it returned the default value of it, instaead\n",
    "of updating the new <key,value> pair to dict1"
   ]
  }
 ],
 "metadata": {
  "kernelspec": {
   "display_name": "Python 3 (ipykernel)",
   "language": "python",
   "name": "python3"
  },
  "language_info": {
   "codemirror_mode": {
    "name": "ipython",
    "version": 3
   },
   "file_extension": ".py",
   "mimetype": "text/x-python",
   "name": "python",
   "nbconvert_exporter": "python",
   "pygments_lexer": "ipython3",
   "version": "3.10.8"
  }
 },
 "nbformat": 4,
 "nbformat_minor": 5
}
