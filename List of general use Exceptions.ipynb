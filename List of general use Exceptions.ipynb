{
 "cells": [
  {
   "cell_type": "code",
   "execution_count": 1,
   "id": "2f931e17-8e47-47d5-8fa2-2efd4cad6002",
   "metadata": {},
   "outputs": [
    {
     "name": "stdout",
     "output_type": "stream",
     "text": [
      "division by zero\n"
     ]
    }
   ],
   "source": [
    "try:\n",
    "    a = 10\n",
    "    10 / 0\n",
    "except ZeroDivisionError as e:\n",
    "    print(e)\n",
    "    \n",
    "    \n",
    "    "
   ]
  },
  {
   "cell_type": "code",
   "execution_count": 2,
   "id": "37381af4-a3da-4e03-8e1c-1fb791703163",
   "metadata": {},
   "outputs": [
    {
     "name": "stdout",
     "output_type": "stream",
     "text": [
      "invalid literal for int() with base 10: 'sudh'\n"
     ]
    }
   ],
   "source": [
    "# value error or type error\n",
    "try:\n",
    "    int(\"sudh\")\n",
    "except  (ValueError , TypeError) as e:\n",
    "    print(e)\n",
    "    \n",
    "# Here we know the type of exception that can generate, and so in except we can specify the type of Exception\n",
    "# that it can cause. But if we don't know what type of exception it can generate then in except we can \n",
    "# specify parent class(Exception).This can be used when we are not aware of error type then we can use "
   ]
  },
  {
   "cell_type": "code",
   "execution_count": 3,
   "id": "74f384d9-d3fe-4083-9f99-a120235d9693",
   "metadata": {},
   "outputs": [
    {
     "name": "stdout",
     "output_type": "stream",
     "text": [
      "invalid literal for int() with base 10: 'sudh'\n"
     ]
    }
   ],
   "source": [
    "try:\n",
    "    int(\"sudh\")\n",
    "except Exception as e:\n",
    "    print(e)"
   ]
  },
  {
   "cell_type": "code",
   "execution_count": null,
   "id": "35da9e29-2f52-4347-a9b9-e191476e374f",
   "metadata": {},
   "outputs": [],
   "source": [
    "# It is always better to mention the type of error in except, so that "
   ]
  },
  {
   "cell_type": "code",
   "execution_count": 4,
   "id": "e738bbe3-59f7-4a48-b3f7-c74d91e4cc49",
   "metadata": {},
   "outputs": [
    {
     "name": "stdout",
     "output_type": "stream",
     "text": [
      "No module named 'sri'\n"
     ]
    }
   ],
   "source": [
    "# when we try to import package that is not existing then it will give import error.\n",
    "try:\n",
    "    import sri\n",
    "except ImportError as e :\n",
    "    print(e)"
   ]
  },
  {
   "cell_type": "code",
   "execution_count": 5,
   "id": "84e8ec24-f5e4-478d-a7bd-5552e605c3fa",
   "metadata": {},
   "outputs": [
    {
     "name": "stdout",
     "output_type": "stream",
     "text": [
      "'key10'\n"
     ]
    }
   ],
   "source": [
    "# when we try to fetch data based on non-existing key.Then it is key error\n",
    "\n",
    "try:\n",
    "    d = { 1 : [3,4,5,6] , \"key\" : \"sudh\" }\n",
    "    d[\"key10\"]\n",
    "except KeyError as e :  \n",
    "    print(e)"
   ]
  },
  {
   "cell_type": "code",
   "execution_count": 6,
   "id": "72618d5d-a95b-4ff1-a516-288d67a84f66",
   "metadata": {},
   "outputs": [
    {
     "name": "stdout",
     "output_type": "stream",
     "text": [
      "'str' object has no attribute 'test'\n"
     ]
    }
   ],
   "source": [
    "# We try to call a method that is not existing, then it can be considered as AttributeError\n",
    "# Exception class is a base class of all exceptions\n",
    "try :\n",
    "      \"sri\".test()  \n",
    "except AttributeError as e :\n",
    "    print(e)"
   ]
  },
  {
   "cell_type": "code",
   "execution_count": 7,
   "id": "078ddefe-eef1-457e-a8be-620b61d38f40",
   "metadata": {},
   "outputs": [
    {
     "name": "stdout",
     "output_type": "stream",
     "text": [
      "list index out of range\n"
     ]
    }
   ],
   "source": [
    "# trying to fetch element in a list, which is out of range/bounds. Here it is Index out of range error.\n",
    "\n",
    "try :\n",
    "    l = [ 1,2,3,4 ]\n",
    "    l[10]\n",
    "except Exception as e :\n",
    "    print(e)\n",
    "    "
   ]
  },
  {
   "cell_type": "code",
   "execution_count": 8,
   "id": "219fd3e6-7a24-47bc-a128-4fb066d0018c",
   "metadata": {},
   "outputs": [
    {
     "name": "stdout",
     "output_type": "stream",
     "text": [
      "unsupported operand type(s) for +: 'int' and 'str'\n"
     ]
    }
   ],
   "source": [
    "try :\n",
    "    123 + \"sudh\"\n",
    "except TypeError as e :\n",
    "    print(e)\n"
   ]
  },
  {
   "cell_type": "code",
   "execution_count": 13,
   "id": "8b891dcb-ceb9-48c8-93be-2d088ef0bc2b",
   "metadata": {},
   "outputs": [
    {
     "name": "stdout",
     "output_type": "stream",
     "text": [
      "[Errno 2] No such file or directory: 'test.txt'\n"
     ]
    }
   ],
   "source": [
    "# We try to read from a file that is not existing then we get FileNotFound error\n",
    "try:\n",
    "    with open(\"test.txt\",'r') as f :\n",
    "        f.read()\n",
    "except FileNotFoundError as e:\n",
    "    print(e)\n",
    "    \n",
    "        \n",
    "    "
   ]
  },
  {
   "cell_type": "code",
   "execution_count": 14,
   "id": "ad3752b0-4956-4e43-9960-bd1c10c096ea",
   "metadata": {},
   "outputs": [
    {
     "name": "stdout",
     "output_type": "stream",
     "text": [
      "[Errno 2] No such file or directory: 'test.txt'\n"
     ]
    }
   ],
   "source": [
    "try:\n",
    "    with open(\"test.txt\",'r') as f :\n",
    "        f.read()\n",
    "except Exception as e :\n",
    "    print(e)\n",
    "except FileNotFoundError as e:\n",
    "    print(e)\n",
    "    \n",
    "# Here technically the exception will be handled by Exception class.    \n",
    "    "
   ]
  },
  {
   "cell_type": "code",
   "execution_count": 17,
   "id": "f6948e7f-2ac6-44c5-8240-070fce74e2ce",
   "metadata": {},
   "outputs": [
    {
     "name": "stdout",
     "output_type": "stream",
     "text": [
      "test [Errno 2] No such file or directory: 'test.txt'\n"
     ]
    }
   ],
   "source": [
    "try:\n",
    "    with open(\"test.txt\",'r') as f :\n",
    "        f.read()\n",
    "except Exception as e :\n",
    "    print(\"test\", e)\n",
    "except FileNotFoundError as e:\n",
    "    print(\"this is my filenotfounderror\", e)\n",
    "    \n",
    "# Generally all the exceptions that we discussed generally comes under Excpetion class, which is a Base class\n",
    "# for all types of exceptions.\n",
    "\n",
    "\n",
    "# Using Exception class, it will be able to handle any type of exception.It is not a best way to use Exception\n",
    "# class at top ,rather we should mention the type of exception that code n try block will raise.\n",
    "# At last we can include Exception.\n",
    "\n",
    "\n",
    "\n",
    "# Never write Exception class(super class) at first place.(A Bad approach), we should use specific exception \n",
    "# at beginning and at last we can we can Exception class."
   ]
  },
  {
   "cell_type": "code",
   "execution_count": 19,
   "id": "1a12252a-8054-49be-bceb-8f9477e2adde",
   "metadata": {},
   "outputs": [],
   "source": [
    "def test(file):\n",
    "    try:\n",
    "        with open(file,'r') as f :\n",
    "            f.read()\n",
    "    except Exception as e :\n",
    "        print(\"test\", e)\n",
    "    except FileNotFoundError as e:\n",
    "        print(\"this is my filenotfounderror\", e)\n",
    "    "
   ]
  },
  {
   "cell_type": "code",
   "execution_count": null,
   "id": "ef305b35-ac3b-4f8c-ab2a-5fbe6c10c7d1",
   "metadata": {},
   "outputs": [],
   "source": [
    "# Summary\n",
    "\n",
    "\"\"\" All the suspicious code will be placed in try block.\n",
    "In except block, we will have the code for handling exceptions that are being caught in try block\n",
    "Exception class is the super class of all types of exceptions that are possible  \"\"\""
   ]
  }
 ],
 "metadata": {
  "kernelspec": {
   "display_name": "Python 3 (ipykernel)",
   "language": "python",
   "name": "python3"
  },
  "language_info": {
   "codemirror_mode": {
    "name": "ipython",
    "version": 3
   },
   "file_extension": ".py",
   "mimetype": "text/x-python",
   "name": "python",
   "nbconvert_exporter": "python",
   "pygments_lexer": "ipython3",
   "version": "3.10.8"
  }
 },
 "nbformat": 4,
 "nbformat_minor": 5
}
