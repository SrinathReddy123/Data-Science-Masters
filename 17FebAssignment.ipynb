{
 "cells": [
  {
   "cell_type": "code",
   "execution_count": null,
   "id": "90323b6f-d3f3-4b46-b2e3-77e4cf7868ea",
   "metadata": {},
   "outputs": [],
   "source": [
    "Answer 1:"
   ]
  },
  {
   "cell_type": "markdown",
   "id": "d4989b72-5386-432d-bf83-2b5e288c6077",
   "metadata": {},
   "source": [
    "MongoDB is a popular open-source document-oriented NoSQL database that uses JSON-like documents with optional schema.\n",
    "\n",
    "In MongoDB, data is stored in a flexible, hierarchical format called BSON (Binary JSON), which can include fields, arrays, and sub-documents. It has become popular for its ease of use, scalability, and performance."
   ]
  },
  {
   "cell_type": "markdown",
   "id": "48ebc2fb-262d-4c62-81ac-4418a7c0964d",
   "metadata": {},
   "source": [
    "Non-relational databases, also known as NoSQL databases, are databases that do not rely on a fixed schema, and instead store data in a more flexible, non-tabular format. They can store data in different ways, such as key-value pairs, documents, graphs, or columns. Non-relational databases are often chosen for their scalability, performance, and flexibility."
   ]
  },
  {
   "cell_type": "code",
   "execution_count": null,
   "id": "f8a8b2ef-a2f0-420f-9b93-cde3f335fa86",
   "metadata": {},
   "outputs": [],
   "source": [
    "MongoDB is often preferred over SQL databases in scenarios where:\n",
    "    \n",
    "1. Flexibility is important: MongoDB allows for more flexible schema design, making it a good choice for\n",
    "  applications where the data model is not fully known or may change over time.\n",
    "\n",
    "2. High-Volume Data Needs: MongoDB is designed to scale horizontally, which means it can handle a large\n",
    "  volume of data and traffic by distributing the data across multiple servers.\n",
    "\n",
    "3. Rapid development: MongoDB's flexibility allows developers to quickly prototype and develop new features,\n",
    "  while its ability to handle complex queries allows for sophisticated applications to be built more easily.\n",
    "\n",
    "4. Rich data structures: MongoDB's document-oriented data model allows for rich and complex data structures\n",
    "  to be stored and queried easily.\n",
    "\n",
    "5. Real-time analytics: MongoDB supports real-time analytics, making it a good choice for applications that \n",
    " require real-time data analysis and visualization.\n",
    "\n",
    "However, SQL databases may be more suitable for scenarios where data consistency is a priority or where\n",
    " transactional support is needed. Ultimately, the choice between MongoDB and SQL databases depends on the\n",
    " specific requirements of the application and the data being stored.\n",
    "\n",
    "\n",
    "\n",
    "\n",
    "  "
   ]
  },
  {
   "cell_type": "code",
   "execution_count": null,
   "id": "fa418a98-07e2-4079-b9c2-24513931088e",
   "metadata": {},
   "outputs": [],
   "source": []
  },
  {
   "cell_type": "code",
   "execution_count": null,
   "id": "3ea38a0b-7202-487c-b4e1-69fe48740eb7",
   "metadata": {},
   "outputs": [],
   "source": [
    "Answer 2:"
   ]
  },
  {
   "cell_type": "code",
   "execution_count": null,
   "id": "ce0b70c6-8e1e-4b98-b760-c59d783fca05",
   "metadata": {},
   "outputs": [],
   "source": [
    "Features of MongoDB."
   ]
  },
  {
   "cell_type": "markdown",
   "id": "fbeee29b-3d52-49e5-bdcc-67e8cbcf8999",
   "metadata": {},
   "source": [
    "MongoDB is a popular NoSQL document-oriented database system that offers several features that make it a popular choice for modern application development. Some of the key features of MongoDB are:"
   ]
  },
  {
   "cell_type": "markdown",
   "id": "8ef1183d-01f3-4f08-b1aa-28e51c699c9a",
   "metadata": {},
   "source": [
    "1. Flexible Data Model: MongoDB uses a flexible and dynamic schema design, which allows for easy storage of complex data structures. Data is stored as BSON documents, which can contain nested fields, arrays, and complex data types.\n",
    "\n",
    "2. Scalability: MongoDB is designed to scale horizontally by distributing data across multiple servers. It uses sharding to automatically partition data and distribute it across a cluster, allowing for better performance and increased scalability.\n",
    "\n",
    "3. High Performance: MongoDB is designed to be fast and efficient, with built-in indexing and support for MapReduce queries. It can handle a large volume of data and traffic, making it well-suited for high-traffic applications.\n",
    "\n",
    "4. Easy Integration: MongoDB offers built-in support for many popular programming languages, including Java, Python, Ruby, and Node.js, making it easy to integrate with existing applications.\n",
    "\n",
    "5. High Availability: MongoDB offers several features to ensure high availability of data, including replica sets and automatic failover. Replica sets provide multiple copies of data to ensure data availability in the event of a hardware or network failure.\n",
    "\n",
    "6. Advanced Security: MongoDB offers several features to ensure data security, including authentication, role-based access control, and SSL encryption.\n",
    "\n",
    "7. Aggregation: MongoDB offers powerful aggregation and data processing capabilities, allowing for complex data analysis and real-time reporting.\n",
    "\n",
    "8. Multi-Platform Support: MongoDB runs on a variety of operating systems and platforms, including Linux, Windows, and macOS, making it a versatile database system.\n",
    "\n",
    "Overall, MongoDB's key features make it a popular choice for modern application development, especially for applications that require high performance, scalability, and flexibility."
   ]
  },
  {
   "cell_type": "code",
   "execution_count": null,
   "id": "42b8c4ce-757d-41c0-9c21-5bc661c7ac98",
   "metadata": {},
   "outputs": [],
   "source": []
  },
  {
   "cell_type": "code",
   "execution_count": null,
   "id": "7ad84692-7543-4cd3-aa54-f72d5eb35276",
   "metadata": {},
   "outputs": [],
   "source": [
    "Answer 3:"
   ]
  },
  {
   "cell_type": "code",
   "execution_count": 2,
   "id": "3960fd4e-e8d9-461f-b6b9-a6bcd8fc351d",
   "metadata": {},
   "outputs": [
    {
     "ename": "ModuleNotFoundError",
     "evalue": "No module named 'pymongo'",
     "output_type": "error",
     "traceback": [
      "\u001b[0;31m---------------------------------------------------------------------------\u001b[0m",
      "\u001b[0;31mModuleNotFoundError\u001b[0m                       Traceback (most recent call last)",
      "Cell \u001b[0;32mIn[2], line 1\u001b[0m\n\u001b[0;32m----> 1\u001b[0m \u001b[38;5;28;01mimport\u001b[39;00m \u001b[38;5;21;01mpymongo\u001b[39;00m\n",
      "\u001b[0;31mModuleNotFoundError\u001b[0m: No module named 'pymongo'"
     ]
    }
   ],
   "source": [
    "import pymongo\n"
   ]
  },
  {
   "cell_type": "code",
   "execution_count": 6,
   "id": "60eaacb5-6df4-4e14-bb6e-f52b70175e43",
   "metadata": {},
   "outputs": [
    {
     "name": "stdout",
     "output_type": "stream",
     "text": [
      "Requirement already satisfied: pymongo in /opt/conda/lib/python3.10/site-packages (4.3.3)\n",
      "Requirement already satisfied: dnspython<3.0.0,>=1.16.0 in /opt/conda/lib/python3.10/site-packages (from pymongo) (2.3.0)\n"
     ]
    }
   ],
   "source": [
    "!pip install pymongo"
   ]
  },
  {
   "cell_type": "code",
   "execution_count": 8,
   "id": "1ee368e5-248d-46b4-810e-84530064c975",
   "metadata": {},
   "outputs": [],
   "source": [
    "import pymongo"
   ]
  },
  {
   "cell_type": "code",
   "execution_count": 9,
   "id": "03166a58-6a85-4f33-a33f-1bb5c1095632",
   "metadata": {},
   "outputs": [],
   "source": [
    "# establish a connection to the MongoDB server with python application\n",
    "\n",
    "client = pymongo.MongoClient(\"mongodb+srv://srinathreddy:<srinathqwerty>@cluster1mongodb.dtti7yc.mongodb.net/?retryWrites=true&w=majority\")"
   ]
  },
  {
   "cell_type": "code",
   "execution_count": 10,
   "id": "55e15d8c-7bbe-494a-ad02-f41151dc2b66",
   "metadata": {},
   "outputs": [
    {
     "data": {
      "text/plain": [
       "MongoClient(host=['ac-6c2yjbg-shard-00-02.dtti7yc.mongodb.net:27017', 'ac-6c2yjbg-shard-00-01.dtti7yc.mongodb.net:27017', 'ac-6c2yjbg-shard-00-00.dtti7yc.mongodb.net:27017'], document_class=dict, tz_aware=False, connect=True, retrywrites=True, w='majority', authsource='admin', replicaset='atlas-dmizw4-shard-0', tls=True)"
      ]
     },
     "execution_count": 10,
     "metadata": {},
     "output_type": "execute_result"
    }
   ],
   "source": [
    "client"
   ]
  },
  {
   "cell_type": "code",
   "execution_count": 11,
   "id": "758792e8-e5cd-4f29-a8c3-4749edd0a89e",
   "metadata": {},
   "outputs": [],
   "source": [
    "mydatabase = client['mydatabase']\n",
    "# create a new database named \"mydatabase\""
   ]
  },
  {
   "cell_type": "code",
   "execution_count": 12,
   "id": "29c15453-92ac-4915-8737-08110f8873bb",
   "metadata": {},
   "outputs": [],
   "source": [
    "# create a new collection named \"mycollection\" within the \"mydatabase\" database\n",
    "mycollection = mydatabase['mycollection']"
   ]
  },
  {
   "cell_type": "code",
   "execution_count": null,
   "id": "b949ed35-2df9-408e-8a46-779028496dcb",
   "metadata": {},
   "outputs": [],
   "source": []
  },
  {
   "cell_type": "code",
   "execution_count": null,
   "id": "303a64cf-7481-4162-bfd5-67bca64ca7ff",
   "metadata": {},
   "outputs": [],
   "source": [
    "Answer 4:\n",
    "    \n",
    "    "
   ]
  },
  {
   "cell_type": "code",
   "execution_count": null,
   "id": "305a0ce5-9b69-439c-91ad-848371434041",
   "metadata": {},
   "outputs": [],
   "source": []
  },
  {
   "cell_type": "code",
   "execution_count": null,
   "id": "cebf7bce-5d11-4340-ad66-d11795e46e6c",
   "metadata": {},
   "outputs": [],
   "source": [
    "Answer 5:"
   ]
  },
  {
   "cell_type": "markdown",
   "id": "066e0965-43ad-4185-88fb-decf25ed0ee4",
   "metadata": {},
   "source": [
    "The find() method in MongoDB is used to query a collection and retrieve documents that match a given set of criteria.\n",
    "This method returns a cursor object, which we can iterate over to retrieve the matching documents."
   ]
  },
  {
   "cell_type": "markdown",
   "id": "527168a3-a874-46c6-90bf-6f11f37c88bd",
   "metadata": {},
   "source": [
    "To use the find() method in Python, we can call the find() method on a collection object and pass in a query document as a parameter. \n",
    "The query document is a dictionary that specifies the criteria that the documents must match."
   ]
  },
  {
   "cell_type": "markdown",
   "id": "3679fc25-7044-421d-99da-bab1cd9acc3b",
   "metadata": {},
   "source": [
    "Here's an example code snippet that demonstrates how to use the find() method to query a MongoDB database in Python:"
   ]
  },
  {
   "cell_type": "code",
   "execution_count": null,
   "id": "1a1580dc-1c8c-4201-aec5-8719d35f753c",
   "metadata": {},
   "outputs": [],
   "source": [
    "import pymongo\n",
    "\n",
    "# establish a connection to the MongoDB server\n",
    "client = pymongo.MongoClient('mongodb+srv://srinathreddy:<srinathqwerty>@cluster0.muzxntx.mongodb.net/?retryWrites=true&w=majority')\n",
    "\n",
    "# select the \"mydatabase\" database\n",
    "mydatabase = client['mydatabase']\n",
    "\n",
    "# select the \"mycollection\" collection within the \"mydatabase\" database\n",
    "mycollection = mydatabase['mycollection']\n",
    "\n",
    "# find all documents in the collection\n",
    "cursor = mycollection.find()\n",
    "\n",
    "# iterate over the cursor to retrieve the documents\n",
    "for document in cursor:\n",
    "    print(document)\n"
   ]
  },
  {
   "cell_type": "markdown",
   "id": "642a0525-fceb-4801-8996-6c24f609046e",
   "metadata": {},
   "source": [
    "In this example, we first establish a connection to the MongoDB server and select the mydatabase database and the mycollection collection, as we did in the previous examples.\n",
    "\n",
    "We then call the find() method on the mycollection object with no parameters, which returns a cursor object that represents all documents in the collection."
   ]
  },
  {
   "cell_type": "markdown",
   "id": "9931b49a-2a39-44c8-8c69-3e61aadcc708",
   "metadata": {},
   "source": [
    "We then iterate over the cursor object using a for loop to retrieve the matching documents. \n",
    "\n",
    "The print() function is used to print each document to the console. This will output all the documents in the mycollection collection."
   ]
  },
  {
   "cell_type": "markdown",
   "id": "7562c165-5072-40a5-b138-3710b9b7dfa0",
   "metadata": {},
   "source": [
    "Note that we can also pass a query document to the find() method to filter the results and retrieve only the documents that match the criteria.\n",
    "\n",
    "For example, to retrieve only the documents where the name field is \"John\", we could call the find() method with the query {'name': 'John'}."
   ]
  },
  {
   "cell_type": "code",
   "execution_count": null,
   "id": "45953678-af4b-41cc-a036-eb4c1d146b56",
   "metadata": {},
   "outputs": [],
   "source": [
    "Answer 6:"
   ]
  },
  {
   "cell_type": "markdown",
   "id": "7515c783-2d40-4595-9b5c-22fc4c0ecc05",
   "metadata": {},
   "source": [
    "In MongoDB, the sort() method is used to sort the results of a query in ascending or descending order based on one or more fields.\n",
    "\n",
    "The sort() method takes one or more arguments, which are dictionaries that specify the sorting order for each field. The keys of the dictionaries are the field names, and the values are either 1 for ascending order or -1 for descending order."
   ]
  },
  {
   "cell_type": "code",
   "execution_count": null,
   "id": "7ff85a82-43a6-476e-b6c5-b16227659688",
   "metadata": {},
   "outputs": [],
   "source": [
    "Here is an example to demonstrate sorting in MongoDB:\n",
    "\n",
    "Suppose we have a collection named students with the following documents:"
   ]
  },
  {
   "cell_type": "code",
   "execution_count": null,
   "id": "280e7f9f-df7e-4be0-88fb-d92f4661c6c1",
   "metadata": {},
   "outputs": [],
   "source": [
    "import pymongo\n",
    "\n",
    "# establish a connection to the MongoDB server\n",
    "client = pymongo.MongoClient('mongodb+srv://srinathreddy:<srinathqwerty>@cluster0.muzxntx.mongodb.net/?retryWrites=true&w=majority')\n",
    "\n",
    "# select the \"mydatabase\" database\n",
    "mydatabase = client['mydatabase']\n",
    "\n",
    "# select the \"mycollection\" collection within the \"mydatabase\" database\n",
    "mycollection = mydatabase['mycollection']\n",
    "\n",
    "# find all documents in the collection and sort by age in descending order\n",
    "cursor = mycollection.find().sort('age', -1)\n",
    "\n",
    "# iterate over the cursor to retrieve the documents\n",
    "for document in cursor:\n",
    "    print(document)\n"
   ]
  },
  {
   "cell_type": "markdown",
   "id": "d55bfd3b-065f-4cf2-88aa-6e8d7cffe6bf",
   "metadata": {},
   "source": [
    "In this example, we first establish a connection to the MongoDB server and select the mydatabase database and the mycollection collection, as we did in the previous examples."
   ]
  },
  {
   "cell_type": "markdown",
   "id": "8056da1b-dafb-4a7b-9d4d-d3e3e54720f1",
   "metadata": {},
   "source": [
    "We then call the find() method on the mycollection object with no parameters, which returns a cursor object that represents all documents in the collection.\n",
    "\n",
    "We chain the sort() method to the end of the find() method call to sort the results based on the age field in descending order (i.e., from oldest to youngest).\n",
    "\n",
    "The -1 value in the sort criteria specifies that we want to sort the results in descending order."
   ]
  },
  {
   "cell_type": "markdown",
   "id": "4a31cf32-daad-4404-84ab-2b55e8602639",
   "metadata": {},
   "source": [
    "We then iterate over the cursor object using a for loop to retrieve the matching documents.\n",
    "\n",
    "The print() function is used to print each document to the console. \n",
    "This will output all the documents in the mycollection collection, sorted by age in descending order."
   ]
  },
  {
   "cell_type": "markdown",
   "id": "e3571b90-c782-40a2-9dcc-e7fe22c55dc9",
   "metadata": {},
   "source": [
    "Note that we can also sort the results based on multiple fields by passing a dictionary with multiple keys and values to the sort() method.\n",
    "\n",
    "For example, to sort the results first by age in descending order and then by name in ascending order, we could call the sort() method with the criteria {'age': -1, 'name': 1}"
   ]
  },
  {
   "cell_type": "code",
   "execution_count": null,
   "id": "1e039816-a3e1-4a3f-bce8-ae49092274f6",
   "metadata": {},
   "outputs": [],
   "source": []
  },
  {
   "cell_type": "code",
   "execution_count": null,
   "id": "7a894afc-c3e1-4cc4-a328-7e8e8406c2c5",
   "metadata": {},
   "outputs": [],
   "source": [
    "Answer 7:"
   ]
  },
  {
   "cell_type": "code",
   "execution_count": null,
   "id": "266a69b7-063c-419e-9094-b522207ca518",
   "metadata": {},
   "outputs": [],
   "source": [
    "delete_one(), delete_many(), and drop() are methods used to delete data from a MongoDB database."
   ]
  },
  {
   "cell_type": "code",
   "execution_count": null,
   "id": "31231c5b-6da2-43da-a947-f58734629bf6",
   "metadata": {},
   "outputs": [],
   "source": []
  },
  {
   "cell_type": "markdown",
   "id": "c17749ec-2199-4012-bdc3-92c0c24929d9",
   "metadata": {},
   "source": [
    "delete_one(filter, collation=None): \n",
    "This method is used to delete a single document that matches the specified filter criteria. The filter parameter is a dictionary that contains the filter criteria for the document to be deleted. \n",
    "\n",
    "If there are multiple documents that match the filter criteria, only the first document that is found will be deleted. \n",
    "\n",
    "This method returns a DeleteResult object that contains information about the operation, including the number of documents deleted."
   ]
  },
  {
   "cell_type": "markdown",
   "id": "0f2b2e67-01ca-46bf-8e24-f4228d5d60f4",
   "metadata": {},
   "source": [
    "delete_many(filter, collation=None): This method is used to delete all documents that match the specified filter criteria.\n",
    "\n",
    "The filter parameter is a dictionary that contains the filter criteria for the documents to be deleted. \n",
    "\n",
    "This method returns a DeleteResult object that contains information about the operation, including the number of documents deleted."
   ]
  },
  {
   "cell_type": "markdown",
   "id": "97f7bd51-6ccc-4f27-9934-068747d0632f",
   "metadata": {},
   "source": [
    "drop(): This method is used to delete an entire collection from a MongoDB database.\n",
    "\n",
    "This method deletes all the documents in the collection and the collection itself.\n",
    "This method does not take any parameters and returns None."
   ]
  },
  {
   "cell_type": "markdown",
   "id": "7e9523a7-5334-47d0-8ee0-3be4ab023ca6",
   "metadata": {},
   "source": [
    "These methods are used to remove data from a MongoDB database for various reasons, such as cleaning up old or redundant data, correcting errors, or simply making space for new data. delete_one() and delete_many() allow us to selectively remove documents that meet certain criteria, while drop() can be used to remove an entire collection at once. \n",
    "\n",
    "It is important to use these methods with caution, as data that is deleted using these methods cannot be recovered."
   ]
  }
 ],
 "metadata": {
  "kernelspec": {
   "display_name": "Python 3 (ipykernel)",
   "language": "python",
   "name": "python3"
  },
  "language_info": {
   "codemirror_mode": {
    "name": "ipython",
    "version": 3
   },
   "file_extension": ".py",
   "mimetype": "text/x-python",
   "name": "python",
   "nbconvert_exporter": "python",
   "pygments_lexer": "ipython3",
   "version": "3.10.8"
  }
 },
 "nbformat": 4,
 "nbformat_minor": 5
}
