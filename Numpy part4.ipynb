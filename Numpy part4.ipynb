{
 "cells": [
  {
   "cell_type": "code",
   "execution_count": null,
   "id": "49e39103-3c24-4823-8254-c438c8ddc03c",
   "metadata": {},
   "outputs": [],
   "source": [
    "##Sort, Search & Counting Functions."
   ]
  },
  {
   "cell_type": "code",
   "execution_count": 1,
   "id": "f871f52e-59ed-4989-a3ad-3533e2c0655e",
   "metadata": {},
   "outputs": [],
   "source": [
    "import numpy as np"
   ]
  },
  {
   "cell_type": "code",
   "execution_count": 2,
   "id": "ccbb99dc-58c5-46bb-a80c-245938e8f21c",
   "metadata": {},
   "outputs": [],
   "source": [
    "arr = np.array([4,2,8,5,3,9,12,56])"
   ]
  },
  {
   "cell_type": "code",
   "execution_count": 3,
   "id": "c01d852f-1656-4d43-842f-6f5092891d5b",
   "metadata": {},
   "outputs": [
    {
     "data": {
      "text/plain": [
       "array([ 4,  2,  8,  5,  3,  9, 12, 56])"
      ]
     },
     "execution_count": 3,
     "metadata": {},
     "output_type": "execute_result"
    }
   ],
   "source": [
    "arr"
   ]
  },
  {
   "cell_type": "code",
   "execution_count": 4,
   "id": "652b3b38-fc4e-4c82-90ed-209b7a50fbdb",
   "metadata": {},
   "outputs": [
    {
     "data": {
      "text/plain": [
       "array([ 2,  3,  4,  5,  8,  9, 12, 56])"
      ]
     },
     "execution_count": 4,
     "metadata": {},
     "output_type": "execute_result"
    }
   ],
   "source": [
    "# sort the array in ascending order and then returns the array.\n",
    "\n",
    "np.sort(arr)\n",
    "\n",
    "# we can also sort the array in descending order."
   ]
  },
  {
   "cell_type": "code",
   "execution_count": 5,
   "id": "74fb3f5f-d15a-4a80-a9fb-8a40d71474ac",
   "metadata": {},
   "outputs": [
    {
     "data": {
      "text/plain": [
       "5"
      ]
     },
     "execution_count": 5,
     "metadata": {},
     "output_type": "execute_result"
    }
   ],
   "source": [
    "# we are trying to search for 6 in sorted array, \n",
    "# It finds indices where element should be inserted to maintain order.\n",
    "\n",
    "np.searchsorted(arr,6)\n",
    "# It means we can insert element \"6\" at 5th index so that order of array is maintained."
   ]
  },
  {
   "cell_type": "code",
   "execution_count": 6,
   "id": "bd681106-5c63-49b4-be65-a8ff19e343e7",
   "metadata": {},
   "outputs": [],
   "source": [
    "\n",
    "\n",
    "arr1 = np.array([0,324,645,65,6,6,0,0,0,234])"
   ]
  },
  {
   "cell_type": "code",
   "execution_count": 7,
   "id": "463b7444-9d32-4c57-8463-48b690a641c8",
   "metadata": {},
   "outputs": [
    {
     "data": {
      "text/plain": [
       "array([  0, 324, 645,  65,   6,   6,   0,   0,   0, 234])"
      ]
     },
     "execution_count": 7,
     "metadata": {},
     "output_type": "execute_result"
    }
   ],
   "source": [
    "arr1"
   ]
  },
  {
   "cell_type": "code",
   "execution_count": 8,
   "id": "e55866a6-6701-42b0-b84f-bac820032a03",
   "metadata": {},
   "outputs": [
    {
     "data": {
      "text/plain": [
       "6"
      ]
     },
     "execution_count": 8,
     "metadata": {},
     "output_type": "execute_result"
    }
   ],
   "source": [
    "# counting function.\n",
    "\n",
    "np.count_nonzero(arr1)\n",
    "\n",
    "# counts the number of Non-zero numbers, and then return the count of it."
   ]
  },
  {
   "cell_type": "code",
   "execution_count": 9,
   "id": "1ff35d9e-b43c-47e9-9bf6-391c85c52fdd",
   "metadata": {},
   "outputs": [
    {
     "data": {
      "text/plain": [
       "(array([1, 2, 3, 4, 5, 9]),)"
      ]
     },
     "execution_count": 9,
     "metadata": {},
     "output_type": "execute_result"
    }
   ],
   "source": [
    "# where() -> it gives the index what is the data that satisfies the condition, based on what we search for.\n",
    "\n",
    "np.where(arr1 > 0 )\n",
    "\n",
    "# Here at the indices 1, 2, 3, 4, 5, 9 we have indices where number > 0."
   ]
  },
  {
   "cell_type": "code",
   "execution_count": 10,
   "id": "4df50822-bbbe-496a-8041-0fad3150e5e9",
   "metadata": {},
   "outputs": [
    {
     "data": {
      "text/plain": [
       "array([324, 645,  65,   6,   6, 234])"
      ]
     },
     "execution_count": 10,
     "metadata": {},
     "output_type": "execute_result"
    }
   ],
   "source": [
    "np.extract(arr1 >2,arr1)"
   ]
  },
  {
   "cell_type": "code",
   "execution_count": null,
   "id": "3e4e31e1-e97d-4f7e-8fe5-0f7ee5c45aac",
   "metadata": {},
   "outputs": [],
   "source": [
    "#Numpy - Byte Swapping."
   ]
  },
  {
   "cell_type": "code",
   "execution_count": 11,
   "id": "4601f0c2-d65e-42dc-b1cf-46b7a9fc58bd",
   "metadata": {},
   "outputs": [
    {
     "data": {
      "text/plain": [
       "array([  0, 324, 645,  65,   6,   6,   0,   0,   0, 234])"
      ]
     },
     "execution_count": 11,
     "metadata": {},
     "output_type": "execute_result"
    }
   ],
   "source": [
    "arr1"
   ]
  },
  {
   "cell_type": "code",
   "execution_count": 12,
   "id": "38221c97-4546-46ac-99a5-9345a5a388cd",
   "metadata": {},
   "outputs": [
    {
     "data": {
      "text/plain": [
       "array([ 288230376151711744,  144115188075855872,  576460752303423488,\n",
       "        360287970189639680,  216172782113783808,  648518346341351424,\n",
       "        864691128455135232, 4035225266123964416])"
      ]
     },
     "execution_count": 12,
     "metadata": {},
     "output_type": "execute_result"
    }
   ],
   "source": [
    "arr.byteswap(True)"
   ]
  },
  {
   "cell_type": "code",
   "execution_count": null,
   "id": "b3064430-0487-4db6-8441-4214fbc8cb3a",
   "metadata": {},
   "outputs": [],
   "source": []
  },
  {
   "cell_type": "code",
   "execution_count": 13,
   "id": "db945fd0-e80c-4915-8eeb-f989064048e3",
   "metadata": {},
   "outputs": [
    {
     "data": {
      "text/plain": [
       "array([ 288230376151711744,  144115188075855872,  576460752303423488,\n",
       "        360287970189639680,  216172782113783808,  648518346341351424,\n",
       "        864691128455135232, 4035225266123964416])"
      ]
     },
     "execution_count": 13,
     "metadata": {},
     "output_type": "execute_result"
    }
   ],
   "source": [
    "arr"
   ]
  },
  {
   "cell_type": "code",
   "execution_count": 14,
   "id": "e9690bf0-2da0-4abf-a33d-df04c44f22cd",
   "metadata": {},
   "outputs": [
    {
     "data": {
      "text/plain": [
       "array([ 288230376151711744,  144115188075855872,  576460752303423488,\n",
       "        360287970189639680,  216172782113783808,  648518346341351424,\n",
       "        864691128455135232, 4035225266123964416])"
      ]
     },
     "execution_count": 14,
     "metadata": {},
     "output_type": "execute_result"
    }
   ],
   "source": [
    "arr"
   ]
  },
  {
   "cell_type": "code",
   "execution_count": null,
   "id": "1f1aa061-6335-41e3-80ac-ccf128861f40",
   "metadata": {},
   "outputs": [],
   "source": [
    "#Numpy - Copies &Views."
   ]
  },
  {
   "cell_type": "code",
   "execution_count": 15,
   "id": "0737b884-3aaf-4751-ad54-13e37403b71e",
   "metadata": {},
   "outputs": [],
   "source": [
    "a = np.copy(arr1)"
   ]
  },
  {
   "cell_type": "code",
   "execution_count": 16,
   "id": "277831d8-da5b-45c2-bba6-7f6368d00d97",
   "metadata": {},
   "outputs": [
    {
     "data": {
      "text/plain": [
       "array([  0, 324, 645,  65,   6,   6,   0,   0,   0, 234])"
      ]
     },
     "execution_count": 16,
     "metadata": {},
     "output_type": "execute_result"
    }
   ],
   "source": [
    "a"
   ]
  },
  {
   "cell_type": "code",
   "execution_count": 17,
   "id": "523e6f5b-a8d4-4b39-a0e0-0a4dc4409b2f",
   "metadata": {},
   "outputs": [],
   "source": [
    "b = arr1.view()"
   ]
  },
  {
   "cell_type": "code",
   "execution_count": 18,
   "id": "9dba767c-a8c5-40bc-9ccd-3ba610ad4512",
   "metadata": {},
   "outputs": [
    {
     "data": {
      "text/plain": [
       "array([  0, 324, 645,  65,   6,   6,   0,   0,   0, 234])"
      ]
     },
     "execution_count": 18,
     "metadata": {},
     "output_type": "execute_result"
    }
   ],
   "source": [
    "b"
   ]
  },
  {
   "cell_type": "code",
   "execution_count": 19,
   "id": "f48873b0-54bb-447a-b12b-02e00e46cf40",
   "metadata": {},
   "outputs": [],
   "source": [
    "b = arr1"
   ]
  },
  {
   "cell_type": "code",
   "execution_count": 20,
   "id": "beba8c34-7b42-4150-8b97-df71df58fb42",
   "metadata": {},
   "outputs": [
    {
     "data": {
      "text/plain": [
       "array([  0, 324, 645,  65,   6,   6,   0,   0,   0, 234])"
      ]
     },
     "execution_count": 20,
     "metadata": {},
     "output_type": "execute_result"
    }
   ],
   "source": [
    "b"
   ]
  },
  {
   "cell_type": "code",
   "execution_count": 21,
   "id": "771b65c3-cd35-4c01-bbb0-d43b65078749",
   "metadata": {},
   "outputs": [],
   "source": [
    "b[0] = 234"
   ]
  },
  {
   "cell_type": "code",
   "execution_count": 22,
   "id": "8da519de-277b-49a8-b6e4-80dbe76dfc20",
   "metadata": {},
   "outputs": [
    {
     "data": {
      "text/plain": [
       "array([234, 324, 645,  65,   6,   6,   0,   0,   0, 234])"
      ]
     },
     "execution_count": 22,
     "metadata": {},
     "output_type": "execute_result"
    }
   ],
   "source": [
    "b\n",
    "\n",
    "# Here \"b\" is a view and it follows shallow copy, but not deep copy."
   ]
  },
  {
   "cell_type": "code",
   "execution_count": 23,
   "id": "d2652def-de93-404a-a5e1-89fd39b9fad3",
   "metadata": {},
   "outputs": [
    {
     "data": {
      "text/plain": [
       "array([234, 324, 645,  65,   6,   6,   0,   0,   0, 234])"
      ]
     },
     "execution_count": 23,
     "metadata": {},
     "output_type": "execute_result"
    }
   ],
   "source": [
    "arr1"
   ]
  },
  {
   "cell_type": "code",
   "execution_count": null,
   "id": "15cb0e80-4778-488d-a6f8-7a6dbd239faf",
   "metadata": {},
   "outputs": [],
   "source": [
    "import numpy as np\n",
    "\n",
    "list_ = [ ‘1’ , ’2’ , ‘3’ , ‘4’ , ‘5’ ]\n",
    "\n",
    "array_list = np.array(object = list_)"
   ]
  },
  {
   "cell_type": "code",
   "execution_count": null,
   "id": "16105384-1da8-4304-894b-c4ded1524607",
   "metadata": {},
   "outputs": [],
   "source": []
  }
 ],
 "metadata": {
  "kernelspec": {
   "display_name": "Python 3 (ipykernel)",
   "language": "python",
   "name": "python3"
  },
  "language_info": {
   "codemirror_mode": {
    "name": "ipython",
    "version": 3
   },
   "file_extension": ".py",
   "mimetype": "text/x-python",
   "name": "python",
   "nbconvert_exporter": "python",
   "pygments_lexer": "ipython3",
   "version": "3.10.8"
  }
 },
 "nbformat": 4,
 "nbformat_minor": 5
}
