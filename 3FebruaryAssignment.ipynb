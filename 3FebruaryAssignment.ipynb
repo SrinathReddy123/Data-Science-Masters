{
 "cells": [
  {
   "cell_type": "markdown",
   "id": "7687dcc0-4b63-4761-8562-5bfb9b5d9733",
   "metadata": {},
   "source": [
    "Answer 1"
   ]
  },
  {
   "cell_type": "markdown",
   "id": "c75fef5a-7786-4b9c-b4c1-3de15cb0bf27",
   "metadata": {},
   "source": [
    "def keyword is used to create a function"
   ]
  },
  {
   "cell_type": "code",
   "execution_count": null,
   "id": "42110f74-da57-4ccd-b691-104b8bbe3a4b",
   "metadata": {},
   "outputs": [],
   "source": []
  },
  {
   "cell_type": "code",
   "execution_count": 1,
   "id": "e31e2c2b-1d83-45df-86a5-6f24f2fcaeda",
   "metadata": {},
   "outputs": [],
   "source": [
    "l2 = []\n",
    "def oddnumbers_1to25():\n",
    "    for i in range(1,26):\n",
    "        if i%2 != 0 :\n",
    "            l2.append(i)\n",
    "    return l2         \n",
    "            "
   ]
  },
  {
   "cell_type": "code",
   "execution_count": 2,
   "id": "546cdb33-9029-412f-8f6e-f67cfd37b1d0",
   "metadata": {},
   "outputs": [
    {
     "data": {
      "text/plain": [
       "[1, 3, 5, 7, 9, 11, 13, 15, 17, 19, 21, 23, 25]"
      ]
     },
     "execution_count": 2,
     "metadata": {},
     "output_type": "execute_result"
    }
   ],
   "source": [
    " oddnumbers_1to25()"
   ]
  },
  {
   "cell_type": "markdown",
   "id": "8072823e-3a62-4d8a-90ac-2d9f0ffce9ed",
   "metadata": {},
   "source": [
    "Answer 2:"
   ]
  },
  {
   "cell_type": "markdown",
   "id": "f476d8e8-7eaa-4534-ab5d-02923bd04f41",
   "metadata": {},
   "source": [
    "*args and **kwargs are special syntax in Python that allows a function to accept an arbitrary number of arguments and keyword arguments, respectively."
   ]
  },
  {
   "cell_type": "markdown",
   "id": "adcd93d9-4a07-45d7-85c2-8b7204d6c657",
   "metadata": {},
   "source": [
    "*args allows a function to accept any number of positional arguments. The arguments are passed as a tuple and can be accessed using indexing. \n",
    "\n",
    "Here is an example function that accepts *args and returns their sum:"
   ]
  },
  {
   "cell_type": "code",
   "execution_count": 8,
   "id": "24f140ad-1899-4c3b-9fed-a0742ee75837",
   "metadata": {},
   "outputs": [],
   "source": [
    "import math"
   ]
  },
  {
   "cell_type": "code",
   "execution_count": 11,
   "id": "97fa7445-c4de-4807-b2d9-689627c54c81",
   "metadata": {},
   "outputs": [],
   "source": [
    "def multiply_args(*args):\n",
    "    \"\"\"\n",
    "    This function takes an arbitrary number of arguments and multiplies them together.\n",
    "    \"\"\"\n",
    "    result = 1\n",
    "    for arg in args:\n",
    "        result *= arg\n",
    "    return result"
   ]
  },
  {
   "cell_type": "code",
   "execution_count": 12,
   "id": "480e2180-18cc-49a1-afbb-75fd9038faf4",
   "metadata": {},
   "outputs": [
    {
     "name": "stdout",
     "output_type": "stream",
     "text": [
      "24\n"
     ]
    }
   ],
   "source": [
    "print(multiply_args(2, 3, 4)) "
   ]
  },
  {
   "cell_type": "code",
   "execution_count": 13,
   "id": "fd0ce046-dfc6-4adf-97f4-923f91eab13e",
   "metadata": {},
   "outputs": [
    {
     "name": "stdout",
     "output_type": "stream",
     "text": [
      "700\n"
     ]
    }
   ],
   "source": [
    "print(multiply_args(5, 10, 2, 7))"
   ]
  },
  {
   "cell_type": "markdown",
   "id": "234eab24-9651-4be6-b0a5-7ff2ad6e6512",
   "metadata": {},
   "source": [
    "**kwargs allows a function to accept any number of keyword arguments. The arguments are passed as a dictionary and can be accessed using keys.\n",
    "\n",
    " Here is an example function that accepts **kwargs and prints their values:"
   ]
  },
  {
   "cell_type": "code",
   "execution_count": 14,
   "id": "ef857757-e5a1-43e8-90c4-66ae24f8ee67",
   "metadata": {},
   "outputs": [],
   "source": [
    "def print_kwargs(**kwargs):\n",
    "    for key, value in kwargs.items():\n",
    "        print(f\"{key} = {value}\")"
   ]
  },
  {
   "cell_type": "code",
   "execution_count": 15,
   "id": "68bc45f6-bbc5-47b1-97f6-ee80d30d7b88",
   "metadata": {},
   "outputs": [
    {
     "name": "stdout",
     "output_type": "stream",
     "text": [
      "name = Srinath\n",
      "age = 23\n",
      "city = Bangalore\n"
     ]
    }
   ],
   "source": [
    "print_kwargs(name=\"Srinath\", age=23, city=\"Bangalore\")"
   ]
  },
  {
   "cell_type": "code",
   "execution_count": null,
   "id": "297ab772-ef20-4816-8957-183c5c470f20",
   "metadata": {},
   "outputs": [],
   "source": [
    "Answer 3:"
   ]
  },
  {
   "cell_type": "markdown",
   "id": "fa9f8f91-9492-49db-b5b6-173b01156f4a",
   "metadata": {},
   "source": [
    "In Python, an iterator is an object that enables us to traverse through a sequence of values one by one.\n",
    "\n",
    "We can use the next() method to fetch the next value in the sequence, and the StopIteration exception is raised when there are no more elements left in the sequence."
   ]
  },
  {
   "cell_type": "markdown",
   "id": "1dc3ae84-57e0-48f1-afde-93e3e1bc4110",
   "metadata": {},
   "source": [
    "We can create an iterator object in Python by using the iter() method. This method takes an iterable object (e.g., a list, tuple, or string) and returns an iterator object.\n",
    "\n",
    "Once we have an iterator object, we can use a for loop or the next() method to iterate over the sequence. The for loop automatically calls the next() method to get the next element in the sequence until there are no more elements left."
   ]
  },
  {
   "cell_type": "code",
   "execution_count": 16,
   "id": "0c029c86-b711-487a-9f0e-634660afd159",
   "metadata": {},
   "outputs": [
    {
     "name": "stdout",
     "output_type": "stream",
     "text": [
      "2\n",
      "4\n",
      "6\n",
      "8\n",
      "10\n"
     ]
    }
   ],
   "source": [
    "# Create an iterator object\n",
    "list = [2, 4, 6, 8, 10, 12, 14, 16, 18, 20]\n",
    "my_iter = iter(list)\n",
    "\n",
    "# Iterate over the first five elements using a for loop\n",
    "for i in range(5):\n",
    "    print(next(my_iter))"
   ]
  },
  {
   "cell_type": "markdown",
   "id": "79648eee-96dc-4cec-b8e2-5784f7b32aec",
   "metadata": {},
   "source": [
    "We could also use the next() method directly to iterate over the sequence:\n",
    "Below is the example:\n"
   ]
  },
  {
   "cell_type": "markdown",
   "id": "6fd4361b-d66f-42f5-aafd-e60628526438",
   "metadata": {},
   "source": [
    "# Create an iterator object\n",
    "my_list = [2, 4, 6, 8, 10, 12, 14, 16, 18, 20]\n",
    "my_iter = iter(my_list)\n",
    "\n",
    "# Iterate over the first five elements using the next() method\n",
    "print(next(my_iter)) \n",
    "print(next(my_iter)) \n",
    "print(next(my_iter)) \n",
    "print(next(my_iter))  \n",
    "print(next(my_iter))  "
   ]
  },
  {
   "cell_type": "markdown",
   "id": "0d466608-b19a-40e4-bd98-ba151f031e42",
   "metadata": {},
   "source": [
    "Answer 4:\n",
    "    "
   ]
  },
  {
   "cell_type": "markdown",
   "id": "c53be360-7f79-4027-8bee-8ad27c33462a",
   "metadata": {},
   "source": [
    "A generator function in Python is a special type of function that generates a sequence of values on-the-fly instead of returning a single value. It uses the yield keyword instead of return to produce a series of values.\n",
    "\n",
    "When a generator function is called, it returns a generator object that can be used to iterate over the values generated by the function. The generator function does not execute immediately, but instead waits until it is called to produce the next value in the sequence."
   ]
  },
  {
   "cell_type": "markdown",
   "id": "0e0aa055-f697-4b06-94d6-1d62451f229f",
   "metadata": {},
   "source": [
    "The yield keyword is used in generator functions to temporarily suspend the execution of the function and return a value to the caller. The function can then be resumed from where it left off the next time it is called, allowing it to generate a sequence of values one at a time."
   ]
  },
  {
   "cell_type": "code",
   "execution_count": 18,
   "id": "f7ad4a33-dda8-4575-88a4-4ba4770994e5",
   "metadata": {},
   "outputs": [],
   "source": [
    "def even_numbers(n):\n",
    "    \"\"\"\n",
    "    This generator function produces a sequence of even numbers up to n.\n",
    "    \"\"\"\n",
    "    i = 0\n",
    "    while i < n:\n",
    "        yield i\n",
    "        i += 2"
   ]
  },
  {
   "cell_type": "code",
   "execution_count": 19,
   "id": "cf97d518-d45f-4e6e-acd1-66d0f0cb7d04",
   "metadata": {},
   "outputs": [],
   "source": [
    "gen = even_numbers(10)"
   ]
  },
  {
   "cell_type": "code",
   "execution_count": 20,
   "id": "bf22f1a6-c987-42c0-a328-82f41fb7f609",
   "metadata": {},
   "outputs": [
    {
     "data": {
      "text/plain": [
       "<generator object even_numbers at 0x7fc3882fdc40>"
      ]
     },
     "execution_count": 20,
     "metadata": {},
     "output_type": "execute_result"
    }
   ],
   "source": [
    "gen"
   ]
  },
  {
   "cell_type": "code",
   "execution_count": 21,
   "id": "817fcbb7-9fad-49e7-ad7a-ab08414f9bbc",
   "metadata": {},
   "outputs": [
    {
     "name": "stdout",
     "output_type": "stream",
     "text": [
      "0\n",
      "2\n",
      "4\n",
      "6\n",
      "8\n"
     ]
    }
   ],
   "source": [
    "for i in gen:\n",
    "    print(i)"
   ]
  },
  {
   "cell_type": "markdown",
   "id": "670b9f01-f3f0-4887-a851-19663f30c93e",
   "metadata": {},
   "source": [
    "The advantage of using a generator function is that it allows us to generate an arbitrarily long sequence of values without having to store the entire sequence in memory. This can be useful for generating large datasets, processing large files, or other memory-intensive operations."
   ]
  },
  {
   "cell_type": "code",
   "execution_count": null,
   "id": "b16df7b8-fde6-46ff-af43-0509739dc6dc",
   "metadata": {},
   "outputs": [],
   "source": [
    "Answer 5:\n",
    "    "
   ]
  },
  {
   "cell_type": "code",
   "execution_count": 22,
   "id": "4749788f-8ca6-4c06-a2a8-ac88d16110b5",
   "metadata": {},
   "outputs": [],
   "source": [
    "def primes_lessthan_1000():\n",
    "    \"\"\"\n",
    "    A generator function that yields prime numbers less than 1000.\n",
    "    \"\"\"\n",
    "    for num in range(2, 1000):\n",
    "        for i in range(2, num):\n",
    "            if num % i == 0:\n",
    "                break\n",
    "        else:\n",
    "            yield num"
   ]
  },
  {
   "cell_type": "code",
   "execution_count": 23,
   "id": "1f2be686-8507-4b6d-92d0-c909bb6259b5",
   "metadata": {},
   "outputs": [],
   "source": [
    "# Create an instance of the generator\n",
    "prime_gen = primes_lessthan_1000()"
   ]
  },
  {
   "cell_type": "code",
   "execution_count": 24,
   "id": "3955b689-a23a-40be-ac24-8789385e6e3c",
   "metadata": {},
   "outputs": [
    {
     "name": "stdout",
     "output_type": "stream",
     "text": [
      "2\n",
      "3\n",
      "5\n",
      "7\n",
      "11\n",
      "13\n",
      "17\n",
      "19\n",
      "23\n",
      "29\n",
      "31\n",
      "37\n",
      "41\n",
      "43\n",
      "47\n",
      "53\n",
      "59\n",
      "61\n",
      "67\n",
      "71\n"
     ]
    }
   ],
   "source": [
    "# Print the first 20 prime numbers\n",
    "for i in range(20):\n",
    "    print(next(prime_gen))"
   ]
  },
  {
   "cell_type": "code",
   "execution_count": null,
   "id": "daf27ca6-8cdf-4a4e-9c90-1996155dddcc",
   "metadata": {},
   "outputs": [],
   "source": []
  }
 ],
 "metadata": {
  "kernelspec": {
   "display_name": "Python 3 (ipykernel)",
   "language": "python",
   "name": "python3"
  },
  "language_info": {
   "codemirror_mode": {
    "name": "ipython",
    "version": 3
   },
   "file_extension": ".py",
   "mimetype": "text/x-python",
   "name": "python",
   "nbconvert_exporter": "python",
   "pygments_lexer": "ipython3",
   "version": "3.10.8"
  }
 },
 "nbformat": 4,
 "nbformat_minor": 5
}
