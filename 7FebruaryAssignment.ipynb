{
 "cells": [
  {
   "cell_type": "code",
   "execution_count": 1,
   "id": "11883525-15bd-4256-ba90-3ecfe1399931",
   "metadata": {},
   "outputs": [],
   "source": [
    "import re"
   ]
  },
  {
   "cell_type": "code",
   "execution_count": null,
   "id": "2023ae30-9558-4392-af6c-4d6fff271f2f",
   "metadata": {},
   "outputs": [],
   "source": [
    " Answer 1:"
   ]
  },
  {
   "cell_type": "code",
   "execution_count": 2,
   "id": "08fa3ca6-7e68-4855-bf2e-2a894af50823",
   "metadata": {},
   "outputs": [],
   "source": [
    "\n",
    "def check_password(password):\n",
    "# check if the password is 10 characters long\n",
    "    if len(password) < 10:\n",
    "        return \"Invalid Password\"\n",
    "    \n",
    "    # check if the password contains at least two uppercase letters and two lowercase letters\n",
    "    if len(re.findall(r'[A-Z]', password)) < 2 or len(re.findall(r'[a-z]', password)) < 2:\n",
    "        return \"Invalid Password\"\n",
    "    \n",
    "     # check if the password contains at least a number and three special characters\n",
    "    if len(re.findall(r'\\d', password)) < 1 or len(re.findall(r'[!@#$%^&*(),.?\":{}|<>]', password)) < 3:\n",
    "        return \"Invalid Password\"\n",
    "    \n",
    "    \n",
    "    # if all checks pass, return \"Valid Password\"\n",
    "    return \"Valid Password\""
   ]
  },
  {
   "cell_type": "code",
   "execution_count": 3,
   "id": "36447ff8-429e-40e1-b2d0-dd3deef755d8",
   "metadata": {},
   "outputs": [
    {
     "data": {
      "text/plain": [
       "'Valid Password'"
      ]
     },
     "execution_count": 3,
     "metadata": {},
     "output_type": "execute_result"
    }
   ],
   "source": [
    "check_password(\"&%$ASdfs1sqd\")"
   ]
  },
  {
   "cell_type": "code",
   "execution_count": 4,
   "id": "02b7cd43-85e2-4507-bcb0-12ded602548b",
   "metadata": {},
   "outputs": [
    {
     "data": {
      "text/plain": [
       "'Invalid Password'"
      ]
     },
     "execution_count": 4,
     "metadata": {},
     "output_type": "execute_result"
    }
   ],
   "source": [
    "check_password(\"dwe1@#\")"
   ]
  },
  {
   "cell_type": "code",
   "execution_count": null,
   "id": "a3032c7c-3d4e-4986-a073-2e1c906ca093",
   "metadata": {},
   "outputs": [],
   "source": [
    "Answer 2:\n",
    "    "
   ]
  },
  {
   "cell_type": "code",
   "execution_count": 5,
   "id": "301d8b3f-8fb8-4530-aca1-438a59b7d39c",
   "metadata": {},
   "outputs": [
    {
     "name": "stdout",
     "output_type": "stream",
     "text": [
      "True\n"
     ]
    }
   ],
   "source": [
    "# Check if the string starts with a particular letter:\n",
    "\n",
    "s = \"Srinath\"\n",
    "starts_with_H = lambda x: x.startswith(\"S\")\n",
    "print(starts_with_H(s))"
   ]
  },
  {
   "cell_type": "code",
   "execution_count": 7,
   "id": "c3c41a02-3abb-4ad1-8860-3c1ef27fd537",
   "metadata": {},
   "outputs": [
    {
     "name": "stdout",
     "output_type": "stream",
     "text": [
      "True\n"
     ]
    }
   ],
   "source": [
    "# Check if the string is numeric:\n",
    "\n",
    "s = \"12345\"\n",
    "is_numeric = lambda x: x.isnumeric()\n",
    "print(is_numeric(s))"
   ]
  },
  {
   "cell_type": "code",
   "execution_count": 8,
   "id": "e49dc221-5598-4691-8f32-b4f4f0bb42b0",
   "metadata": {},
   "outputs": [
    {
     "name": "stdout",
     "output_type": "stream",
     "text": [
      "[('orange', 80), ('mango', 99), ('grapes', 1000)]\n"
     ]
    }
   ],
   "source": [
    "# Sort a list of tuples having fruit names and their quantity:\n",
    "\n",
    "fruits = [(\"mango\", 99), (\"orange\", 80), (\"grapes\", 1000)]\n",
    "sorted_fruits = sorted(fruits, key=lambda x: x[1])\n",
    "print(sorted_fruits)  \n"
   ]
  },
  {
   "cell_type": "code",
   "execution_count": 9,
   "id": "a3addd11-ecb4-4ab7-ae86-28ff98dd4aff",
   "metadata": {},
   "outputs": [
    {
     "name": "stdout",
     "output_type": "stream",
     "text": [
      "[1, 4, 9, 16, 25, 36, 49, 64, 81, 100]\n"
     ]
    }
   ],
   "source": [
    "# Find the squares of numbers from 1 to 10:\n",
    "\n",
    "squares = [x**2 for x in range(1, 11)]\n",
    "print(squares) \n"
   ]
  },
  {
   "cell_type": "code",
   "execution_count": 11,
   "id": "ebd5315e-5d83-4fba-b509-627ad3c4aafe",
   "metadata": {},
   "outputs": [
    {
     "name": "stdout",
     "output_type": "stream",
     "text": [
      "[1.0, 1.2599210498948732, 1.4422495703074083, 1.5874010519681994, 1.7099759466766968, 1.8171205928321397, 1.912931182772389, 2.0, 2.080083823051904, 2.154434690031884]\n"
     ]
    }
   ],
   "source": [
    "# Find the cube root of numbers from 1 to 10:\n",
    "\n",
    "import math\n",
    "cube_roots = [math.pow(x, 1/3) for x in range(1, 11)]\n",
    "print(cube_roots)"
   ]
  },
  {
   "cell_type": "code",
   "execution_count": 12,
   "id": "99c258da-ad21-4c5f-be41-437c12bd3db7",
   "metadata": {},
   "outputs": [
    {
     "name": "stdout",
     "output_type": "stream",
     "text": [
      "True\n"
     ]
    }
   ],
   "source": [
    "# Check if a given number is even:\n",
    "\n",
    "number = 4\n",
    "is_even = lambda x: x % 2 == 0\n",
    "print(is_even(number))"
   ]
  },
  {
   "cell_type": "code",
   "execution_count": 13,
   "id": "d925c730-dcda-4da9-9ac6-b8735241b7bc",
   "metadata": {},
   "outputs": [
    {
     "name": "stdout",
     "output_type": "stream",
     "text": [
      "[1, 3, 5, 7, 9]\n"
     ]
    }
   ],
   "source": [
    "# Filter odd numbers from the given list:\n",
    "\n",
    "numbers = [1, 2, 3, 4, 5, 6, 7, 8, 9, 10]\n",
    "odd_numbers = list(filter(lambda x: x % 2 != 0, numbers))\n",
    "print(odd_numbers) "
   ]
  },
  {
   "cell_type": "code",
   "execution_count": 15,
   "id": "a949dfd0-1272-46e3-97ce-c3e22870b35a",
   "metadata": {},
   "outputs": [
    {
     "name": "stdout",
     "output_type": "stream",
     "text": [
      "[1, 2, 3, 4, 5, 6]\n",
      "[-1, -2, -3, -4, -5]\n"
     ]
    }
   ],
   "source": [
    "# Sort a list of integers into positive and negative integers lists:\n",
    "\n",
    "numbers = [1, 2, 3, 4, 5, 6, -1, -2, -3, -4, -5, 0]\n",
    "positive_numbers = [x for x in numbers if x > 0]\n",
    "negative_numbers = [x for x in numbers if x < 0]\n",
    "print(positive_numbers) \n",
    "print(negative_numbers)"
   ]
  },
  {
   "cell_type": "code",
   "execution_count": null,
   "id": "163d769a-e542-46b5-b905-7da0cf80bf9a",
   "metadata": {},
   "outputs": [],
   "source": []
  }
 ],
 "metadata": {
  "kernelspec": {
   "display_name": "Python 3 (ipykernel)",
   "language": "python",
   "name": "python3"
  },
  "language_info": {
   "codemirror_mode": {
    "name": "ipython",
    "version": 3
   },
   "file_extension": ".py",
   "mimetype": "text/x-python",
   "name": "python",
   "nbconvert_exporter": "python",
   "pygments_lexer": "ipython3",
   "version": "3.10.8"
  }
 },
 "nbformat": 4,
 "nbformat_minor": 5
}
