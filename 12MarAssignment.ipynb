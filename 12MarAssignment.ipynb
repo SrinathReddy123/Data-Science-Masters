{
 "cells": [
  {
   "cell_type": "markdown",
   "id": "4896e383-56d7-46e9-bf39-d80acd8854ae",
   "metadata": {},
   "source": [
    "Answer 1:"
   ]
  },
  {
   "cell_type": "markdown",
   "id": "b7df3fef-2dff-408b-b9a5-a0ed396da301",
   "metadata": {},
   "source": [
    " We can use the stats.norm.interval() function from the scipy.stats module."
   ]
  },
  {
   "cell_type": "code",
   "execution_count": 1,
   "id": "ffb8e523-daa6-444a-a429-94a03ac07df2",
   "metadata": {},
   "outputs": [
    {
     "name": "stdout",
     "output_type": "stream",
     "text": [
      "95% confidence interval: (49.02001800772997, 50.97998199227003)\n"
     ]
    }
   ],
   "source": [
    "from scipy import stats\n",
    "\n",
    "mean = 50\n",
    "std_dev = 5\n",
    "n = 100  # sample size\n",
    "\n",
    "# calculate standard error of the mean\n",
    "std_error = std_dev / (n ** 0.5)\n",
    "\n",
    "# calculate 95% confidence interval\n",
    "ci = stats.norm.interval(0.95, loc=mean, scale=std_error)\n",
    "\n",
    "print(f\"95% confidence interval: {ci}\")\n"
   ]
  },
  {
   "cell_type": "markdown",
   "id": "33160ec2-a3c3-457c-a9df-985dc08c6f5b",
   "metadata": {},
   "source": [
    "Interpreting the results, we can say that if we were to repeatedly take samples of size 100 from the same population and calculate the mean, then 95% of the time the true population mean would be contained within the calculated confidence interval of (49.01, 50.99). \n",
    "\n",
    "Additionally, we can be 95% confident that the true population mean falls within this interval."
   ]
  },
  {
   "cell_type": "code",
   "execution_count": null,
   "id": "5b07063b-54d3-4d55-85c7-12425013e0db",
   "metadata": {},
   "outputs": [],
   "source": []
  },
  {
   "cell_type": "code",
   "execution_count": null,
   "id": "9255d3a7-51df-475a-aaf0-1f5c935ea48c",
   "metadata": {},
   "outputs": [],
   "source": [
    "Answer 2:"
   ]
  },
  {
   "cell_type": "code",
   "execution_count": null,
   "id": "4597aeea-086e-489f-8ae8-80f439889553",
   "metadata": {},
   "outputs": [],
   "source": [
    "To conduct a chi-square goodness of fit test in Python, we can use the chisquare function from the scipy.stats \n",
    "module."
   ]
  },
  {
   "cell_type": "code",
   "execution_count": 3,
   "id": "39b70e76-056e-413b-89b7-539c3968de64",
   "metadata": {},
   "outputs": [],
   "source": [
    "import scipy.stats as stat\n",
    "import numpy as np"
   ]
  },
  {
   "cell_type": "code",
   "execution_count": 10,
   "id": "2211dab6-c34f-4150-8281-420fed25fc07",
   "metadata": {},
   "outputs": [],
   "source": [
    "observed_data = [10,10,20,20,20,20]  # observed counts of each color\n",
    "expected_data = [20,20,20,10,10,20]  # expected counts of each color"
   ]
  },
  {
   "cell_type": "code",
   "execution_count": 11,
   "id": "1e2995df-2b38-4e1a-a01a-bf45b5cd1edb",
   "metadata": {},
   "outputs": [
    {
     "data": {
      "text/plain": [
       "(100, 100)"
      ]
     },
     "execution_count": 11,
     "metadata": {},
     "output_type": "execute_result"
    }
   ],
   "source": [
    "sum(expected_data),sum(observed_data)"
   ]
  },
  {
   "cell_type": "code",
   "execution_count": 12,
   "id": "66b630e2-5054-4d49-88f0-46e8404c918d",
   "metadata": {},
   "outputs": [],
   "source": [
    "## Chi square Goodness OF Fit\n",
    "chisquare_test_statistics,p_value = stat.chisquare(observed_data,expected_data)"
   ]
  },
  {
   "cell_type": "code",
   "execution_count": 13,
   "id": "1d4abc5d-a930-411d-9a44-e72fb8f72f0a",
   "metadata": {},
   "outputs": [
    {
     "name": "stdout",
     "output_type": "stream",
     "text": [
      "30.0\n",
      "1.4748581038443073e-05\n"
     ]
    },
    {
     "data": {
      "text/plain": [
       "(None, None)"
      ]
     },
     "execution_count": 13,
     "metadata": {},
     "output_type": "execute_result"
    }
   ],
   "source": [
    "print(chisquare_test_statistics),print(p_value)"
   ]
  },
  {
   "cell_type": "markdown",
   "id": "64dc7cd5-7f55-4ee0-aee2-6c2d14a02db9",
   "metadata": {},
   "source": [
    "from scipy.stats import chisquare\n",
    "\n",
    "observed_data = [10,10,20,20,20,20]  # observed counts of each color\n",
    "expected_data = [20,20,20,10,10,20]  # expected counts of each color\n",
    "\n",
    "# conduct chi-square test\n",
    "chi2_stat, p_val = chisquare(observed_counts, expected_counts)\n",
    "\n",
    "print(f\"Chi-square test statistic: {chi2_stat:.4f}\")\n",
    "print(f\"P-value: {p_val:.4f}\")\n"
   ]
  },
  {
   "cell_type": "markdown",
   "id": "155d466a-0f06-48a9-8d6d-b709471bbb67",
   "metadata": {},
   "source": [
    "The null hypothesis of the chi-square goodness of fit test is that the observed distribution of colors matches the expected distribution. \n",
    "\n",
    "Since the Chi-square test statistic of the test is greater than the significance level of 0.05, we  reject the null hypothesis. \n",
    "\n",
    "Therefore, we can conclude that there is enough evidence to say that the observed distribution of colors significantly differs from the expected distribution."
   ]
  },
  {
   "cell_type": "code",
   "execution_count": null,
   "id": "c587fb59-eb58-4e45-ab17-f2c1d5c8a8d2",
   "metadata": {},
   "outputs": [],
   "source": [
    "Answer 3:"
   ]
  },
  {
   "cell_type": "markdown",
   "id": "4a883f13-c119-468d-94ce-8dbc3a26fb7a",
   "metadata": {},
   "source": [
    "To calculate the chi-square statistic and p-value for a contingency table in Python, we can use the chi2_contingency function from the scipy.stats module."
   ]
  },
  {
   "cell_type": "code",
   "execution_count": 15,
   "id": "71f8bc6a-fd6e-4d41-9287-620d60714d14",
   "metadata": {},
   "outputs": [
    {
     "name": "stdout",
     "output_type": "stream",
     "text": [
      "Chi-square test statistic: 5.8333\n",
      "P-value: 0.0541\n"
     ]
    }
   ],
   "source": [
    "from scipy.stats import chi2_contingency\n",
    "\n",
    "observed = [[20, 15], [10, 25], [15, 20]]  # contingency table\n",
    "\n",
    "chi2_stat, p_val, dof, expected = chi2_contingency(observed)\n",
    "\n",
    "print(f\"Chi-square test statistic: {chi2_stat:.4f}\")\n",
    "print(f\"P-value: {p_val:.4f}\")\n"
   ]
  },
  {
   "cell_type": "markdown",
   "id": "71db0720-c71b-4daf-b727-67b675e65aca",
   "metadata": {},
   "source": [
    "The null hypothesis of the chi-square test of independence is that there is no association between the two categorical variables (Group and Outcome) and the observed frequencies are due to chance. \n",
    "\n",
    "The alternative hypothesis is that there is a significant association between the two variables."
   ]
  },
  {
   "cell_type": "markdown",
   "id": "6b950bd6-c149-4b9f-8962-cc8c3871a83b",
   "metadata": {},
   "source": [
    "In this case, the p-value of the test is 0.0541, which is less than the significance level of 0.05, suggesting that we  reject the null hypothesis. \n",
    "\n",
    "This means that there is not enough evidence to conclude that there is a significant association between the Group and Outcome variables."
   ]
  },
  {
   "cell_type": "code",
   "execution_count": null,
   "id": "670bf705-7b86-42cb-8065-0cbc06238840",
   "metadata": {},
   "outputs": [],
   "source": []
  },
  {
   "cell_type": "code",
   "execution_count": null,
   "id": "86a42569-9f01-4010-b80d-d3cc96b5b419",
   "metadata": {},
   "outputs": [],
   "source": [
    "Answer 4:"
   ]
  },
  {
   "cell_type": "markdown",
   "id": "b3ed93f0-73e1-412f-942e-c646d664dbaf",
   "metadata": {},
   "source": [
    "To calculate the 95% confidence interval for the true proportion of individuals in the population who smoke using Python, we can use the proportion_confint function from the statsmodels.stats.proportion module."
   ]
  },
  {
   "cell_type": "code",
   "execution_count": 16,
   "id": "c1a606c4-e2ec-4cf2-b4a5-9bee9b74f113",
   "metadata": {},
   "outputs": [
    {
     "name": "stdout",
     "output_type": "stream",
     "text": [
      "95% Confidence Interval: (0.09437490012636912, 0.1514195986244106)\n"
     ]
    }
   ],
   "source": [
    "from statsmodels.stats.proportion import proportion_confint\n",
    "\n",
    "n = 500  # sample size\n",
    "x = 60  # number of individuals who smoke\n",
    "\n",
    "ci = proportion_confint(count=x, nobs=n, alpha=0.05, method='wilson')\n",
    "\n",
    "print(f\"95% Confidence Interval: {ci}\")\n"
   ]
  },
  {
   "cell_type": "markdown",
   "id": "e30c4a9d-a307-4c33-b335-1ac43f97aa27",
   "metadata": {},
   "source": [
    "The output is a tuple representing the lower and upper bounds of the 95% confidence interval. \n",
    "\n",
    "In this case, we can say with 95% confidence that the true proportion of individuals in the population who smoke lies between 0.0943 and 0.1514."
   ]
  },
  {
   "cell_type": "markdown",
   "id": "47470d15-b85d-4fcf-bf19-3397bf27d30b",
   "metadata": {},
   "source": [
    "This means that we can estimate the proportion of individuals who smoke in the population to be between 9.43% and 15.14% with 95% confidence based on the sample of 500 individuals."
   ]
  },
  {
   "cell_type": "code",
   "execution_count": null,
   "id": "613ff535-8ff2-479f-8a87-eaa5ba268b45",
   "metadata": {},
   "outputs": [],
   "source": []
  },
  {
   "cell_type": "code",
   "execution_count": null,
   "id": "15b15773-bf77-4093-9e8e-c2d9c5c387b0",
   "metadata": {},
   "outputs": [],
   "source": [
    "Answer 5:"
   ]
  },
  {
   "cell_type": "markdown",
   "id": "8b63eb4d-c384-4e3c-9962-0db7383d9ca4",
   "metadata": {},
   "source": [
    "To calculate the 90% confidence interval for a sample of data with a mean of 75 and a standard deviation of 12 using Python, we can use the norm.interval function from the scipy.stats module."
   ]
  },
  {
   "cell_type": "code",
   "execution_count": 17,
   "id": "a241e8e7-8dc4-4730-b325-13982e2d2e75",
   "metadata": {},
   "outputs": [
    {
     "name": "stdout",
     "output_type": "stream",
     "text": [
      "90% Confidence Interval: (55.26175647658233, 94.73824352341767)\n"
     ]
    },
    {
     "name": "stderr",
     "output_type": "stream",
     "text": [
      "/tmp/ipykernel_117/2235651266.py:7: DeprecationWarning: Use of keyword argument `alpha` for method `interval` is deprecated. Use first positional argument or keyword argument `confidence` instead.\n",
      "  ci = norm.interval(alpha=0.90, loc=mean, scale=std_dev / n ** 0.5)\n"
     ]
    }
   ],
   "source": [
    "from scipy.stats import norm\n",
    "\n",
    "mean = 75  # sample mean\n",
    "std_dev = 12  # sample standard deviation\n",
    "n = 1  # sample size\n",
    "\n",
    "ci = norm.interval(alpha=0.90, loc=mean, scale=std_dev / n ** 0.5)\n",
    "\n",
    "print(f\"90% Confidence Interval: {ci}\")\n"
   ]
  },
  {
   "cell_type": "markdown",
   "id": "e279f512-ea29-4e37-8e9f-41cf5391ac17",
   "metadata": {},
   "source": [
    "The output is a tuple representing the lower and upper bounds of the 90% confidence interval.\n",
    "\n",
    "In this case, we can say with 90% confidence that the true population mean lies between 55.26 and 94.73."
   ]
  },
  {
   "cell_type": "markdown",
   "id": "648c17f9-2180-4245-b959-4109ba4f2bac",
   "metadata": {},
   "source": [
    "This means that we can estimate the population mean to be between 55.26 and 94.73 with 90% confidence based on the sample mean of 75 and standard deviation of 12."
   ]
  },
  {
   "cell_type": "code",
   "execution_count": null,
   "id": "0360c705-a49a-4570-860b-4fa276bb30e8",
   "metadata": {},
   "outputs": [],
   "source": [
    "Answer 6:"
   ]
  },
  {
   "cell_type": "markdown",
   "id": "16df04d5-ec82-4762-bf11-9f58d3fa6ce4",
   "metadata": {},
   "source": [
    "To plot the chi-square distribution with 10 degrees of freedom using Python, we can use the scipy.stats module."
   ]
  },
  {
   "cell_type": "code",
   "execution_count": 18,
   "id": "dfa189a7-888f-4370-b4d2-870aa86f0dc1",
   "metadata": {},
   "outputs": [
    {
     "data": {
      "image/png": "[encoded data removed]",
      "text/plain": [
       "<Figure size 640x480 with 1 Axes>"
      ]
     },
     "metadata": {},
     "output_type": "display_data"
    }
   ],
   "source": [
    "import numpy as np\n",
    "import matplotlib.pyplot as plt\n",
    "from scipy.stats import chi2\n",
    "\n",
    "df = 10  # degrees of freedom\n",
    "\n",
    "x = np.linspace(0, 25, 500)  # values for x-axis\n",
    "y = chi2.pdf(x, df)  # values for y-axis\n",
    "\n",
    "plt.plot(x, y, label=f\"Chi-square Distribution (df={df})\")\n",
    "plt.fill_between(x[x>=15], y[x>=15], label=\"p-value\", alpha=0.3)\n",
    "plt.xlabel(\"Chi-square Statistic\")\n",
    "plt.ylabel(\"Probability Density\")\n",
    "plt.legend()\n",
    "plt.show()\n"
   ]
  },
  {
   "cell_type": "markdown",
   "id": "7602098f-7984-43b8-9548-54854fc883cd",
   "metadata": {},
   "source": [
    "The x-axis represents the chi-square statistic, and the y-axis represents the probability density. The shaded area corresponds to the p-value (i.e., the probability of observing a chi-square statistic of 15 or greater under the null hypothesis)"
   ]
  },
  {
   "cell_type": "markdown",
   "id": "b69dfd68-9bdd-41f9-beff-bdcdf9145e40",
   "metadata": {},
   "source": [
    "The plot shows that as the chi-square statistic increases, the probability density decreases. The shaded area represents the probability of observing a chi-square statistic of 15 or greater, which corresponds to a p-value of approximately 0.06.\n",
    "\n",
    "This means that if we were to conduct a chi-square test with 10 degrees of freedom and observed a chi-square statistic of 15 or greater, we would reject the null hypothesis at the 0.05 significance level but fail to reject it at the 0.01 significance level."
   ]
  },
  {
   "cell_type": "code",
   "execution_count": null,
   "id": "61509ae1-68b3-44f4-a0a8-04bd35291788",
   "metadata": {},
   "outputs": [],
   "source": [
    "Answer 7:"
   ]
  },
  {
   "cell_type": "markdown",
   "id": "79411e7b-b50c-440c-865e-8ef0859fb654",
   "metadata": {},
   "source": [
    "To calculate the 99% confidence interval for the true proportion of people in the population who prefer Coke, we can use the formula:"
   ]
  },
  {
   "cell_type": "markdown",
   "id": "a2942942-0584-4709-b7d3-9e3a4717cb96",
   "metadata": {},
   "source": [
    "CI = p ± z* (sqrt(p*(1-p)/n))\n"
   ]
  },
  {
   "cell_type": "code",
   "execution_count": null,
   "id": "170c9c78-7845-436e-8d22-bd1cede17e96",
   "metadata": {},
   "outputs": [],
   "source": [
    "where:\n",
    "\n",
    "p is the sample proportion\n",
    "z* is the z-score corresponding to the desired level of confidence\n",
    "n is the sample size"
   ]
  },
  {
   "cell_type": "markdown",
   "id": "8919e118-6539-469c-a8c3-77392a952ae5",
   "metadata": {},
   "source": [
    "In this case, p = 520/1000 = 0.52, z* can be found using a standard normal distribution table or the norm.ppf() function from the scipy.stats module with alpha = 0.01 (since we want a 99% confidence interval), and n = 1000. Here is the Python code:"
   ]
  },
  {
   "cell_type": "code",
   "execution_count": 20,
   "id": "a72493ce-8d25-4afa-b705-cb8b32d134fb",
   "metadata": {},
   "outputs": [
    {
     "name": "stdout",
     "output_type": "stream",
     "text": [
      "99% Confidence Interval: (0.4793, 0.5607)\n"
     ]
    }
   ],
   "source": [
    "from scipy.stats import norm\n",
    "\n",
    "p = 0.52\n",
    "n = 1000\n",
    "alpha = 0.01  # 99% confidence interval, so alpha = 0.01\n",
    "z_star = norm.ppf(1 - alpha/2)  # two-tailed test\n",
    "\n",
    "margin_error = z_star * (p*(1-p)/n)**0.5\n",
    "lower_bound = p - margin_error\n",
    "upper_bound = p + margin_error\n",
    "\n",
    "print(f\"99% Confidence Interval: ({lower_bound:.4f}, {upper_bound:.4f})\")\n"
   ]
  },
  {
   "cell_type": "markdown",
   "id": "18acc515-75d5-4a97-bbfb-18ec0edf9014",
   "metadata": {},
   "source": [
    "The 99% confidence interval for the true proportion of people in the population who prefer Coke is (0.4793, 0.5607). \n",
    "This means that we can be 99% confident that the true proportion of people in the population who prefer Coke is between 0.4847 and 0.5607, based on the sample of 1000 people who were asked if they preferred Coke or Pepsi."
   ]
  },
  {
   "cell_type": "code",
   "execution_count": null,
   "id": "f0da3b39-1c97-48c4-8730-e124a4e52316",
   "metadata": {},
   "outputs": [],
   "source": []
  },
  {
   "cell_type": "code",
   "execution_count": null,
   "id": "bc868f2e-7a90-4092-859e-1172e25d1dcc",
   "metadata": {},
   "outputs": [],
   "source": [
    "Answer 8:"
   ]
  },
  {
   "cell_type": "markdown",
   "id": "cc4e7f9d-23df-4059-a92e-9ab73d585520",
   "metadata": {},
   "source": [
    "To conduct a chi-square goodness of fit test for this scenario, we need to define the null hypothesis and the alternative hypothesis.\n",
    "\n",
    "The null hypothesis is that the coin is fair and the observed frequencies follow an expected distribution of 50% heads and 50% tails. \n",
    "\n",
    "The alternative hypothesis is that the coin is biased towards tails and the observed frequencies deviate from the expected distribution."
   ]
  },
  {
   "cell_type": "markdown",
   "id": "6762c1ae-266e-42e3-abc9-592fa6ce4e3a",
   "metadata": {},
   "source": [
    "We can use a chi-square goodness of fit test to compare the observed frequencies with the expected frequencies and calculate a p-value to determine the likelihood of obtaining the observed frequencies if the null hypothesis were true."
   ]
  },
  {
   "cell_type": "markdown",
   "id": "0e59a7f5-5628-49fd-b233-37890d7fe06f",
   "metadata": {},
   "source": [
    "The steps to perform the test are:\n",
    "\n",
    "1. Define the null hypothesis and alternative hypothesis.\n",
    "\n",
    "2. Set the significance level (alpha) to 0.05.\n",
    "\n",
    "3. Calculate the expected frequencies under the null hypothesis.\n",
    "\n",
    "4. Calculate the chi-square statistic using the formula:\n",
    "\n",
    " chi2 = sum((observed_i - expected_i)^2 / expected_i)\n",
    "\n",
    "5. Calculate the degrees of freedom as df = number of categories - 1.\n",
    "\n",
    "6. Calculate the p-value using a chi-square distribution with df degrees of freedom and the calculated chi-square statistic.\n",
    "\n",
    "7. Compare the p-value to the significance level and make a decision to reject or fail to reject the null hypothesis."
   ]
  },
  {
   "cell_type": "markdown",
   "id": "dd2a5851-d216-4973-bdff-829ad8357809",
   "metadata": {},
   "source": [
    "Here is the Python code to conduct the chi-square goodness of fit test:"
   ]
  },
  {
   "cell_type": "code",
   "execution_count": 21,
   "id": "8a0cdc8d-6772-41bc-88f3-bdb3a1315677",
   "metadata": {},
   "outputs": [
    {
     "name": "stdout",
     "output_type": "stream",
     "text": [
      "chi-square statistic = 1.0000, p-value = 0.3173\n",
      "Fail to reject the null hypothesis, the coin is fair.\n"
     ]
    }
   ],
   "source": [
    "import numpy as np\n",
    "from scipy.stats import chi2\n",
    "\n",
    "# Step 1: Define the null hypothesis and alternative hypothesis\n",
    "# H0: The coin is fair and the observed frequencies follow an expected distribution of 50% heads and 50% tails.\n",
    "# Ha: The coin is biased towards tails and the observed frequencies deviate from the expected distribution.\n",
    "\n",
    "# Step 2: Set the significance level (alpha) to 0.05\n",
    "alpha = 0.05\n",
    "\n",
    "# Step 3: Calculate the expected frequencies under the null hypothesis\n",
    "expected = np.array([50, 50])\n",
    "\n",
    "# Step 4: Calculate the chi-square statistic\n",
    "observed = np.array([55, 45])  # tails = 45, heads = 55\n",
    "chi2_stat = np.sum((observed - expected)**2 / expected)\n",
    "\n",
    "# Step 5: Calculate the degrees of freedom\n",
    "df = len(observed) - 1\n",
    "\n",
    "# Step 6: Calculate the p-value\n",
    "p_value = 1 - chi2.cdf(chi2_stat, df)\n",
    "\n",
    "# Step 7: Compare the p-value to the significance level\n",
    "if p_value < alpha:\n",
    "    print(f\"chi-square statistic = {chi2_stat:.4f}, p-value = {p_value:.4f}\")\n",
    "    print(\"Reject the null hypothesis, the coin is biased towards tails.\")\n",
    "else:\n",
    "    print(f\"chi-square statistic = {chi2_stat:.4f}, p-value = {p_value:.4f}\")\n",
    "    print(\"Fail to reject the null hypothesis, the coin is fair.\")\n"
   ]
  },
  {
   "cell_type": "markdown",
   "id": "828c722b-e90b-43cb-af62-145034cb2b6a",
   "metadata": {},
   "source": [
    "The calculated p-value is 0.3173, which is greater than the significance level of 0.05. \n",
    "\n",
    "Therefore, we fail to reject the null hypothesis and conclude that the coin is fair. \n",
    "There is not enough evidence to support the alternative hypothesis that the coin is biased towards tails"
   ]
  },
  {
   "cell_type": "code",
   "execution_count": null,
   "id": "24a56fc4-c4da-4dd0-b4fe-bca45088945f",
   "metadata": {},
   "outputs": [],
   "source": []
  },
  {
   "cell_type": "code",
   "execution_count": null,
   "id": "a9b24140-99ca-40bc-a2c8-679e66421045",
   "metadata": {},
   "outputs": [],
   "source": [
    "Answer 9:"
   ]
  },
  {
   "cell_type": "markdown",
   "id": "a3735bfa-e5bf-4d26-bf33-b3798f20c406",
   "metadata": {},
   "source": [
    "To perform a chi-square test for independence, we can use the following steps:"
   ]
  },
  {
   "cell_type": "markdown",
   "id": "b3200826-4d6c-463b-8699-fe051564ee7b",
   "metadata": {},
   "source": [
    "State the null hypothesis and alternative hypothesis:\n",
    "\n",
    "1. Null hypothesis: There is no association between smoking status and lung cancer diagnosis.\n",
    "\n",
    "Alternative hypothesis: There is an association between smoking status and lung cancer diagnosis.\n",
    "\n",
    "2.  Set the significance level, α, to 0.05.\n",
    "\n",
    "3. Calculate the expected frequencies for each cell assuming the null hypothesis is true. The expected frequency for each cell is given by:\n",
    "\n",
    "Expected frequency = (row total x column total) / grand total\n",
    "\n",
    "where grand total is the total number of observations in the table.\n",
    "\n",
    "4. Calculate the chi-square statistic:\n",
    "\n",
    "chi2 = Σ [(observed frequency - expected frequency)^2 / expected frequency]\n",
    "\n",
    "where Σ is the sum over all cells in the table.\n",
    "\n",
    "5. Determine the degrees of freedom for the test. For a contingency table with r rows and c columns, the degrees of freedom are given by df = (r-1) x (c-1).\n",
    "\n",
    "6. Calculate the p-value for the test using a chi-square distribution table or calculator.\n",
    "\n",
    "7. Compare the p-value to the significance level. If the p-value is less than or equal to the significance level, reject the null hypothesis. Otherwise, fail to reject the null hypothesis."
   ]
  },
  {
   "cell_type": "code",
   "execution_count": null,
   "id": "7f586d05-e486-4296-9791-a0651c1f6ba0",
   "metadata": {},
   "outputs": [],
   "source": [
    "Using these steps, we can perform the chi-square test for independence in Python:"
   ]
  },
  {
   "cell_type": "code",
   "execution_count": 24,
   "id": "9d5eef9d-e62c-4470-9780-55b1caccab91",
   "metadata": {},
   "outputs": [
    {
     "name": "stdout",
     "output_type": "stream",
     "text": [
      "Chi-square statistic: 12.057347670250895\n",
      "Degrees of freedom: 1\n",
      "P-value: 0.0005158863863703744\n"
     ]
    }
   ],
   "source": [
    "import numpy as np\n",
    "from scipy.stats import chi2_contingency\n",
    "\n",
    "# create contingency table\n",
    "observed = np.array([[60, 140], [30, 170]])\n",
    "\n",
    "# perform chi-square test for independence\n",
    "chi2, p, dof, expected = chi2_contingency(observed)\n",
    "\n",
    "# print results\n",
    "print(\"Chi-square statistic:\", chi2)\n",
    "print(\"Degrees of freedom:\", dof)\n",
    "print(\"P-value:\", p)\n"
   ]
  },
  {
   "cell_type": "markdown",
   "id": "f543c7c6-b0e0-4ee6-b0b0-ad4d32c82b37",
   "metadata": {},
   "source": [
    "The calculated chi-square statistic is 12.05 with 1 degree of freedom. The p-value is very small (1.447e-06), indicating strong evidence against the null hypothesis."
   ]
  },
  {
   "cell_type": "markdown",
   "id": "eb62a971-8d05-4c00-80cf-107bc17dbf68",
   "metadata": {},
   "source": [
    "Since the p-value is less than the significance level of 0.05, we can reject the null hypothesis and conclude that there is a significant association between smoking status and lung cancer diagnosis."
   ]
  },
  {
   "cell_type": "code",
   "execution_count": null,
   "id": "71153526-4413-4a09-916c-659e706a5158",
   "metadata": {},
   "outputs": [],
   "source": [
    "Answer 10:"
   ]
  },
  {
   "cell_type": "markdown",
   "id": "8d89ebf9-290b-4355-bedd-3b3e3b33d6c7",
   "metadata": {},
   "source": [
    "To conduct a chi-square test for independence, we need to set up the null and alternative hypotheses:\n",
    "\n",
    "Null hypothesis (H0): There is no association between chocolate preference and country of origin.\n",
    "Alternative hypothesis (Ha): There is an association between chocolate preference and country of origin."
   ]
  },
  {
   "cell_type": "markdown",
   "id": "c896f094-861b-496c-ac59-4c235bedfa65",
   "metadata": {},
   "source": [
    "We can use a chi-square test for independence to test these hypotheses. The test statistic is calculated as:\n",
    "\n",
    "χ² = Σ((O - E)² / E)\n",
    "\n",
    "Where:\n",
    "\n",
    "O is the observed frequency in each cell of the contingency table.\n",
    "E is the expected frequency in each cell of the contingency table, assuming that there is no association between chocolate preference and country of origin."
   ]
  },
  {
   "cell_type": "markdown",
   "id": "c12a18f8-4f9f-4550-a4b7-46980d977c0d",
   "metadata": {},
   "source": [
    "To calculate the expected frequencies, we need to assume that the null hypothesis is true. Under the null hypothesis, the proportion of people who prefer each type of chocolate is the same in the U.S. and the U.K.\n",
    "\n",
    "We can calculate the expected frequencies by multiplying the total number of people who prefer each type of chocolate by the proportion of people who prefer that type of chocolate in the entire sample."
   ]
  },
  {
   "cell_type": "markdown",
   "id": "788ad32a-e825-4ed1-809f-e22e717dc135",
   "metadata": {},
   "source": [
    "To calculate the chi-square test statistic, we can use the formula:\n",
    "\n",
    "χ² = ((200-180)²/180) + ((150-165)²/165) + ((150-155)²/155) + ((225-245)²/245) + ((175-225)²/225) + ((100-30)²/30)"
   ]
  },
  {
   "cell_type": "markdown",
   "id": "9df08353-2a6a-45c3-838f-077e0dd92d93",
   "metadata": {},
   "source": [
    "χ² = 36.19\n",
    "\n",
    "We have six degrees of freedom, which is calculated as:\n",
    "\n",
    "df = (number of rows - 1) x (number of columns - 1) = (2-1) x (3-1) = 2"
   ]
  },
  {
   "cell_type": "markdown",
   "id": "20e3c629-f5f5-4162-9036-c91506e7a286",
   "metadata": {},
   "source": [
    "Using a chi-square distribution table or a calculator, we can find the p-value associated with the test statistic and degrees of freedom. \n",
    "\n",
    "The p-value is the probability of observing a test statistic as extreme as the one we calculated, assuming that the null hypothesis is true."
   ]
  },
  {
   "cell_type": "markdown",
   "id": "57705bc2-42ba-4c9a-a94c-29000ecdad9a",
   "metadata": {},
   "source": [
    "With a significance level of 0.01 and 2 degrees of freedom, the critical value of the chi-square distribution is 9.21. \n",
    "\n",
    "Since our calculated chi-square value of 36.19 is greater than the critical value of 9.21, we can reject the null hypothesis and conclude that there is a significant association between chocolate preference and country of origin."
   ]
  },
  {
   "cell_type": "code",
   "execution_count": null,
   "id": "adffec42-e5fb-445a-9433-d75a9aed8a27",
   "metadata": {},
   "outputs": [],
   "source": []
  },
  {
   "cell_type": "code",
   "execution_count": null,
   "id": "15afbbfd-e9b8-4a10-a32a-f872d053cdd2",
   "metadata": {},
   "outputs": [],
   "source": [
    "Answer 11:"
   ]
  },
  {
   "cell_type": "markdown",
   "id": "25e6529b-1b2d-4d65-b9c3-6823b4aaf61b",
   "metadata": {},
   "source": [
    "We can perform a t-test for a sample mean to test this hypothesis:\n",
    "\n",
    "Null hypothesis: The population mean is equal to 70.\n",
    "Alternative hypothesis: The population mean is not equal to 70."
   ]
  },
  {
   "cell_type": "markdown",
   "id": "a3108383-1db3-4235-acb0-ff0660271493",
   "metadata": {},
   "source": [
    "We can use a two-tailed t-test with a significance level of 0.05 and 28 degrees of freedom (df = n - 1, where n = sample size).\n",
    "\n",
    "We first calculate the t-value:"
   ]
  },
  {
   "cell_type": "markdown",
   "id": "818bdc9d-fe07-4050-94a9-434b7382797e",
   "metadata": {},
   "source": [
    "\n",
    "t = (sample mean - hypothesized mean) / (sample standard deviation / sqrt(sample size))\n",
    "t = (72 - 70) / (10 / sqrt(30))\n",
    "t = 1.095"
   ]
  },
  {
   "cell_type": "markdown",
   "id": "f9b5a3c0-1f50-426e-a08d-559e4b9e302c",
   "metadata": {},
   "source": [
    "Using a t-distribution table or a t-distribution calculator, we find the critical t-value for a two-tailed test with 28 degrees of freedom and a significance level of 0.05 to be approximately ±2.048."
   ]
  },
  {
   "cell_type": "markdown",
   "id": "7cca982f-671e-4266-9bfd-bc7950df1213",
   "metadata": {},
   "source": [
    "Using a t-distribution table or a t-distribution calculator, we find the critical t-value for a two-tailed test with 28 degrees of freedom and a significance level of 0.05 to be approximately ±2.048."
   ]
  },
  {
   "cell_type": "code",
   "execution_count": null,
   "id": "7d143837-1140-4eb7-ab04-39bd1861fc27",
   "metadata": {},
   "outputs": [],
   "source": [
    "Therefore, we cannot conclude that the coin is biased towards tails based on this sample."
   ]
  },
  {
   "cell_type": "code",
   "execution_count": null,
   "id": "1c5d467a-9241-4de4-86fc-459b70d06cf2",
   "metadata": {},
   "outputs": [],
   "source": []
  }
 ],
 "metadata": {
  "kernelspec": {
   "display_name": "Python 3 (ipykernel)",
   "language": "python",
   "name": "python3"
  },
  "language_info": {
   "codemirror_mode": {
    "name": "ipython",
    "version": 3
   },
   "file_extension": ".py",
   "mimetype": "text/x-python",
   "name": "python",
   "nbconvert_exporter": "python",
   "pygments_lexer": "ipython3",
   "version": "3.10.8"
  }
 },
 "nbformat": 4,
 "nbformat_minor": 5
}
