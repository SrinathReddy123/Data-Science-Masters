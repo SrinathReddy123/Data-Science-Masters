{
 "cells": [
  {
   "cell_type": "code",
   "execution_count": null,
   "id": "094369d3-a7ee-4665-8048-4716fe502e45",
   "metadata": {},
   "outputs": [],
   "source": [
    "Answer 1:"
   ]
  },
  {
   "cell_type": "markdown",
   "id": "6149dabe-c4a9-41bd-a39f-687d81ee57d4",
   "metadata": {},
   "source": [
    "In probability theory, the Probability Density Function (PDF) is a mathematical function that describes the likelihood of a continuous random variable taking on a particular value or set of values.\n",
    "\n",
    "The PDF is used to specify the probability distribution of a random variable, which is the set of all possible outcomes of that variable and the probability of each outcome occurring."
   ]
  },
  {
   "cell_type": "markdown",
   "id": "1b3aaf11-fa15-4a4f-9746-e5a878d2929f",
   "metadata": {},
   "source": [
    "The PDF is a non-negative function that integrates to 1 over its domain. The area under the curve of the PDF between two points represents the probability that the random variable takes a value within that range. The PDF is also used to calculate the expected value, variance, and other statistical properties of the random variable."
   ]
  },
  {
   "cell_type": "markdown",
   "id": "61e1728e-93bb-4969-a236-36d1ee8d7931",
   "metadata": {},
   "source": [
    "The PDF is often denoted by the symbol f(x) or p(x), where x is the variable and f(x) or p(x) is the probability density at x. The PDF can be derived from the cumulative distribution function (CDF) of a random variable, which gives the probability that the random variable is less than or equal to a particular value."
   ]
  },
  {
   "cell_type": "markdown",
   "id": "f4e34e9d-8f74-42f4-83ac-d513167b99e5",
   "metadata": {},
   "source": [
    "Overall, the PDF is a fundamental concept in probability theory and statistics, and it plays a crucial role in many applications, such as finance, engineering, physics, and machine learning."
   ]
  },
  {
   "cell_type": "code",
   "execution_count": null,
   "id": "7dfea8e4-794a-4376-97f7-3f6abd20d736",
   "metadata": {},
   "outputs": [],
   "source": []
  },
  {
   "cell_type": "code",
   "execution_count": null,
   "id": "cdc92425-98af-4cab-ac08-80c93e01536e",
   "metadata": {},
   "outputs": [],
   "source": [
    "Answer 2:"
   ]
  },
  {
   "cell_type": "markdown",
   "id": "c85cf15e-1dc7-4d08-b250-d1c39a4e96a4",
   "metadata": {},
   "source": [
    "There are several types of probability distributions, each with its own properties and characteristics. Here are some of the most common types of probability distributions:"
   ]
  },
  {
   "cell_type": "markdown",
   "id": "48621a68-ff6b-4aaa-9098-d15a97bf4ac9",
   "metadata": {},
   "source": [
    "Normal Distribution: This is also known as the Gaussian distribution, and it is one of the most widely used distributions in statistics. It is symmetric and bell-shaped, with a mean and standard deviation that determines its shape and location."
   ]
  },
  {
   "cell_type": "markdown",
   "id": "d23c4cbb-a727-4654-a334-0dc45d7da432",
   "metadata": {},
   "source": [
    "Binomial Distribution: This distribution describes the probability of a certain number of successes in a fixed number of independent trials, with a constant probability of success for each trial."
   ]
  },
  {
   "cell_type": "markdown",
   "id": "8a9a5b43-3f7c-4862-aab1-2258551e41ca",
   "metadata": {},
   "source": [
    "Poisson Distribution: This distribution describes the probability of a certain number of events occurring in a fixed interval of time or space, given the average rate of occurrence."
   ]
  },
  {
   "cell_type": "markdown",
   "id": "3599d884-5c2a-4566-8908-92265832c598",
   "metadata": {},
   "source": [
    "Exponential Distribution: This distribution describes the time between events in a Poisson process, where events occur randomly and independently at a constant average rate."
   ]
  },
  {
   "cell_type": "markdown",
   "id": "79e19941-a3ad-4931-a488-ac72846a3204",
   "metadata": {},
   "source": [
    "Uniform Distribution: This distribution describes the probability of a continuous random variable taking on any value within a fixed range, with equal probability for each value."
   ]
  },
  {
   "cell_type": "markdown",
   "id": "a7d3ce0b-0a99-47ec-92b9-45e1881edf60",
   "metadata": {},
   "source": [
    "Gamma Distribution: This distribution is a generalization of the exponential distribution and is used to model the time until a series of events occurs, with a fixed shape parameter and scale parameter."
   ]
  },
  {
   "cell_type": "code",
   "execution_count": null,
   "id": "cc547475-c55f-4f07-a93f-66a77ca71b48",
   "metadata": {},
   "outputs": [],
   "source": []
  },
  {
   "cell_type": "code",
   "execution_count": null,
   "id": "98d951d3-7f57-4bf1-b65e-fb124f78642e",
   "metadata": {},
   "outputs": [],
   "source": [
    "Answer 3:\n",
    "    "
   ]
  },
  {
   "cell_type": "markdown",
   "id": "6248e1f8-924b-4abe-97b0-d1b4b1716a0a",
   "metadata": {},
   "source": [
    "Here is an example Python function that calculates the probability density function (PDF) of a normal distribution with a given mean and standard deviation at a given point using the scipy.stats library:"
   ]
  },
  {
   "cell_type": "code",
   "execution_count": null,
   "id": "4f6874fc-e38b-4728-aae8-d4cb6722ed46",
   "metadata": {},
   "outputs": [],
   "source": [
    "import scipy.stats as stats\n",
    "\n",
    "def normal_pdf(x, mean, std_dev):\n",
    "    \"\"\"Calculate the PDF of a normal distribution with given mean and standard deviation at a given point x\"\"\"\n",
    "    pdf = stats.norm.pdf(x, loc=mean, scale=std_dev)\n",
    "    return pdf\n"
   ]
  },
  {
   "cell_type": "code",
   "execution_count": null,
   "id": "c4ff646a-be9c-4dcc-ae14-cc3abc7f1060",
   "metadata": {},
   "outputs": [],
   "source": [
    "The function takes three arguments:\n",
    "\n",
    "x: the point at which the PDF is to be evaluated\n",
    "mean: the mean of the normal distribution\n",
    "std_dev: the standard deviation of the normal distribution"
   ]
  },
  {
   "cell_type": "markdown",
   "id": "ccbfcd45-fa31-4b85-85f4-06225fbb9040",
   "metadata": {},
   "source": [
    "The function then uses the stats.norm.pdf() function from the scipy.stats library to calculate the PDF at the given point x.\n",
    "\n",
    "The loc parameter is set to the mean, and the scale parameter is set to the standard deviation."
   ]
  },
  {
   "cell_type": "code",
   "execution_count": null,
   "id": "d5a7a90f-cf08-450e-b54c-27cd276304e8",
   "metadata": {},
   "outputs": [],
   "source": [
    "Here's an example of how to use the function:"
   ]
  },
  {
   "cell_type": "code",
   "execution_count": null,
   "id": "05936ac2-44ed-4c7e-979e-8a92ae8b8b29",
   "metadata": {},
   "outputs": [],
   "source": [
    "mean = 0\n",
    "std_dev = 1\n",
    "x = 1\n",
    "\n",
    "pdf = normal_pdf(x, mean, std_dev)\n",
    "print(pdf)"
   ]
  },
  {
   "cell_type": "code",
   "execution_count": null,
   "id": "61914459-16f0-4bf6-9420-dc720ece3528",
   "metadata": {},
   "outputs": [],
   "source": [
    "This would output the value of the PDF of the normal distribution with mean 0 and standard deviation 1 at x=1."
   ]
  },
  {
   "cell_type": "code",
   "execution_count": null,
   "id": "4a30eb30-58a9-4066-8c59-07186bc31675",
   "metadata": {},
   "outputs": [],
   "source": []
  },
  {
   "cell_type": "code",
   "execution_count": null,
   "id": "2b9e189f-d2b6-44d7-839c-723c52b4bf5f",
   "metadata": {},
   "outputs": [],
   "source": [
    "Answer 4:"
   ]
  },
  {
   "cell_type": "markdown",
   "id": "e9401979-4599-49c3-af1d-275bd773bdac",
   "metadata": {},
   "source": [
    "The binomial distribution is a probability distribution that describes the number of successes in a fixed number of independent trials, where each trial has only two possible outcomes (success or failure), and the probability of success is constant across trials. \n",
    "\n",
    "The properties of the binomial distribution include:"
   ]
  },
  {
   "cell_type": "code",
   "execution_count": null,
   "id": "d6a8e065-ce6d-41bf-b85f-54011dcab785",
   "metadata": {},
   "outputs": [],
   "source": [
    "The probability of success in each trial is denoted by p, and the probability of failure is 1-p.\n",
    "The number of trials is denoted by n.\n",
    "The binomial distribution is discrete, meaning that the possible outcomes are countable integers.\n",
    "The mean of the binomial distribution is n * p, and the variance is n * p * (1-p).\n",
    "The shape of the binomial distribution is determined by the values of n and p."
   ]
  },
  {
   "cell_type": "markdown",
   "id": "23067e35-7442-4192-816f-00fa44b19b16",
   "metadata": {},
   "source": [
    "Examples of events where binomial distribution can be applied include:\n",
    "\n",
    "1. Flipping a coin: If a fair coin is flipped 10 times, the number of times that it lands on heads follows a binomial distribution with n=10 and p=0.5.\n",
    "\n",
    "2. Manufacturing defects: If a manufacturer produces a batch of 1000 items and the probability of a defective item is 0.02, the number of defective items follows a binomial distribution with n=1000 and p=0.02."
   ]
  },
  {
   "cell_type": "code",
   "execution_count": null,
   "id": "22474ed9-bac4-41ce-be1a-2d1ceee67903",
   "metadata": {},
   "outputs": [],
   "source": [
    "Binomial distribution is widely used in various fields including finance, marketing, engineering, and biology, among others."
   ]
  },
  {
   "cell_type": "code",
   "execution_count": null,
   "id": "30a3ea7e-23d7-45f5-855c-d3948c221a8c",
   "metadata": {},
   "outputs": [],
   "source": []
  },
  {
   "cell_type": "code",
   "execution_count": null,
   "id": "4906f159-0acf-4a86-9df3-76d6fbcdfc7b",
   "metadata": {},
   "outputs": [],
   "source": [
    "Answer 5:"
   ]
  },
  {
   "cell_type": "markdown",
   "id": "09cc5ffa-b7c5-44f5-a563-f15f9f76d850",
   "metadata": {},
   "source": [
    "Here's an example Python code to generate a random sample of size 1000 from a binomial distribution with probability of success 0.4 and plot a histogram of the results using matplotlib:"
   ]
  },
  {
   "cell_type": "code",
   "execution_count": null,
   "id": "955c9bde-ccca-4119-979b-5430b188b6aa",
   "metadata": {},
   "outputs": [],
   "source": [
    "import numpy as np\n",
    "import matplotlib.pyplot as plt\n",
    "\n",
    "# Generate the random sample\n",
    "n = 1000 # sample size\n",
    "p = 0.4 # probability of success\n",
    "sample = np.random.binomial(n, p, size=1000)\n",
    "\n",
    "# Plot a histogram of the results\n",
    "plt.hist(sample, bins=20)\n",
    "plt.title(\"Binomial Distribution with n=1000, p=0.4\")\n",
    "plt.xlabel(\"Number of Successes\")\n",
    "plt.ylabel(\"Frequency\")\n",
    "plt.show()\n"
   ]
  },
  {
   "cell_type": "markdown",
   "id": "ea2644cc-bc3b-4dc7-bf9b-3c284d11d890",
   "metadata": {},
   "source": [
    "The np.random.binomial() function from the NumPy library is used to generate the random sample of size 1000 from a binomial distribution with probability of success 0.4. The resulting sample array contains the number of successes in each trial."
   ]
  },
  {
   "cell_type": "markdown",
   "id": "fc7dc47f-0443-4a60-9507-cdd12a0f6cfc",
   "metadata": {},
   "source": [
    "Then, the plt.hist() function from the matplotlib library is used to plot a histogram of the results. The bins parameter is set to 20, which specifies the number of bins to use in the histogram."
   ]
  },
  {
   "cell_type": "markdown",
   "id": "433cad74-b28c-44c4-81d2-0ade674e937a",
   "metadata": {},
   "source": [
    "The resulting histogram shows the distribution of the number of successes in the random sample, with the x-axis representing the number of successes and the y-axis representing the frequency of each value."
   ]
  },
  {
   "cell_type": "code",
   "execution_count": null,
   "id": "944adcfb-b442-4a44-98b6-0cb815b326b7",
   "metadata": {},
   "outputs": [],
   "source": []
  },
  {
   "cell_type": "code",
   "execution_count": null,
   "id": "604bd1bd-a91a-49d7-a84e-09f21e9f1fd6",
   "metadata": {},
   "outputs": [],
   "source": [
    "Answer 6 :"
   ]
  },
  {
   "cell_type": "markdown",
   "id": "8a1aa562-7756-4ed4-b5eb-ef0c9962f487",
   "metadata": {},
   "source": [
    "Here's an example Python function that calculates the cumulative distribution function (CDF) of a Poisson distribution with a given mean at a given point using the scipy.stats library:"
   ]
  },
  {
   "cell_type": "code",
   "execution_count": 2,
   "id": "795be403-e1c8-4cf7-8ed3-93dd0f03285a",
   "metadata": {},
   "outputs": [],
   "source": [
    "import scipy.stats as stats\n",
    "\n",
    "def poisson_cdf(x, mean):\n",
    "    \"\"\"Calculate the CDF of a Poisson distribution with given mean at a given point x\"\"\"\n",
    "    cdf = stats.poisson.cdf(x, mu=mean)\n",
    "    return cdf\n"
   ]
  },
  {
   "cell_type": "code",
   "execution_count": null,
   "id": "ea44322d-2dbf-433c-8e2b-6a724d984ad8",
   "metadata": {},
   "outputs": [],
   "source": [
    "The function takes two arguments:\n",
    "\n",
    "x: the point at which the CDF is to be evaluated\n",
    "mean: the mean of the Poisson distribution"
   ]
  },
  {
   "cell_type": "markdown",
   "id": "dccdf857-c80b-4605-a720-8cd3cc9eb1ca",
   "metadata": {},
   "source": [
    "The function then uses the stats.poisson.cdf() function from the scipy.stats library to calculate the CDF at the given point x. The mu parameter is set to the mean."
   ]
  },
  {
   "cell_type": "code",
   "execution_count": 3,
   "id": "5b41fbaa-6635-46b2-a55e-837123133b40",
   "metadata": {},
   "outputs": [
    {
     "name": "stdout",
     "output_type": "stream",
     "text": [
      "0.857123460498547\n"
     ]
    }
   ],
   "source": [
    "# Here's an example of how to use the function:\n",
    "\n",
    "mean = 2\n",
    "x = 3\n",
    "\n",
    "cdf = poisson_cdf(x, mean)\n",
    "print(cdf)\n"
   ]
  },
  {
   "cell_type": "code",
   "execution_count": null,
   "id": "c5d25a72-49c6-492c-a0a6-44ed8596db6d",
   "metadata": {},
   "outputs": [],
   "source": [
    "Answer 7:"
   ]
  },
  {
   "cell_type": "markdown",
   "id": "b95a7ff6-a243-4e78-b21a-1d2b41f7cbce",
   "metadata": {},
   "source": [
    "Binomial and Poisson distributions are both probability distributions that describe the number of occurrences of an event in a given set of trials. However, there are some key differences between them."
   ]
  },
  {
   "cell_type": "markdown",
   "id": "fd452911-9370-44b1-a92b-8eb2ac1b466c",
   "metadata": {},
   "source": [
    "Definition and Assumptions:\n",
    "\n",
    "The Binomial distribution is a discrete probability distribution that models the number of successes in a fixed number of independent trials, where each trial has only two possible outcomes (success or failure), and the probability of success is constant across trials. \n",
    "\n",
    "The Poisson distribution, on the other hand, is a discrete probability distribution that models the number of occurrences of an event in a fixed interval of time or space, where the events occur independently of each other, but the rate of occurrence is constant."
   ]
  },
  {
   "cell_type": "markdown",
   "id": "239eca16-7934-40ce-9d12-ce7cbdbaf3bf",
   "metadata": {},
   "source": [
    "Number of Trials: In Binomial distribution, the number of trials is fixed and known in advance. In Poisson distribution, the number of occurrences is not fixed, and it can be any non-negative integer."
   ]
  },
  {
   "cell_type": "markdown",
   "id": "79ff1985-6412-48f7-80e7-cff7c9faa57f",
   "metadata": {},
   "source": [
    "Probability of Success: In Binomial distribution, the probability of success is constant across trials and is denoted by p. In Poisson distribution, the probability of occurrence of an event is constant across time or space and is denoted by λ."
   ]
  },
  {
   "cell_type": "markdown",
   "id": "b9023559-f832-4944-907e-e971d911ab90",
   "metadata": {},
   "source": [
    "Mean and Variance: In Binomial distribution, the mean is np and the variance is np*(1-p), where n is the number of trials and p is the probability of success. In Poisson distribution, the mean and variance are both λ."
   ]
  },
  {
   "cell_type": "markdown",
   "id": "1c01b733-f6da-42d8-b11f-c8980b850e33",
   "metadata": {},
   "source": [
    "Shape of the Distribution: The shape of the Binomial distribution is determined by the values of n and p. As n becomes large and p becomes small, the Binomial distribution approaches the Poisson distribution. The Poisson distribution has a single parameter, λ, which determines its shape."
   ]
  },
  {
   "cell_type": "markdown",
   "id": "6b855b8c-952a-4dc3-9647-304c7bd078e7",
   "metadata": {},
   "source": [
    "In summary, the main difference between Binomial and Poisson distributions is that the Binomial distribution models the number of successes in a fixed number of independent trials, while the Poisson distribution models the number of occurrences of an event in a fixed interval of time or space."
   ]
  },
  {
   "cell_type": "code",
   "execution_count": null,
   "id": "c96d8b56-85c0-4228-9414-48f7a91199d0",
   "metadata": {},
   "outputs": [],
   "source": []
  },
  {
   "cell_type": "code",
   "execution_count": null,
   "id": "d53e8626-d28f-4b46-b534-23affb21807e",
   "metadata": {},
   "outputs": [],
   "source": [
    "Answer 8:"
   ]
  },
  {
   "cell_type": "markdown",
   "id": "672af905-b619-49b2-a016-93172ca42023",
   "metadata": {},
   "source": [
    "Here's an example Python code to generate a random sample of size 1000 from a Poisson distribution with mean 5, and calculate the sample mean and variance:"
   ]
  },
  {
   "cell_type": "code",
   "execution_count": 4,
   "id": "e0b982e1-dbeb-4d06-bd18-257a07496dbe",
   "metadata": {},
   "outputs": [
    {
     "name": "stdout",
     "output_type": "stream",
     "text": [
      "Sample Mean: 5.014\n",
      "Sample Variance: 5.183804\n"
     ]
    }
   ],
   "source": [
    "import numpy as np\n",
    "\n",
    "# Generate the random sample\n",
    "mean = 5\n",
    "sample = np.random.poisson(mean, size=1000)\n",
    "\n",
    "# Calculate the sample mean and variance\n",
    "sample_mean = np.mean(sample)\n",
    "sample_var = np.var(sample)\n",
    "\n",
    "# Print the results\n",
    "print(\"Sample Mean:\", sample_mean)\n",
    "print(\"Sample Variance:\", sample_var)\n"
   ]
  },
  {
   "cell_type": "markdown",
   "id": "55eb7341-9320-43dc-b4b2-ca1ed627ee97",
   "metadata": {},
   "source": [
    "The np.random.poisson() function from the NumPy library is used to generate the random sample of size 1000 from a Poisson distribution with mean 5. The resulting sample array contains the number of occurrences in each trial."
   ]
  },
  {
   "cell_type": "markdown",
   "id": "b4103339-b283-4b66-8874-1f0418bb2f66",
   "metadata": {},
   "source": [
    "Then, the np.mean() and np.var() functions from the NumPy library are used to calculate the sample mean and variance of the sample, respectively."
   ]
  },
  {
   "cell_type": "markdown",
   "id": "5d77d307-4d80-4bb3-a299-f24e4a641da6",
   "metadata": {},
   "source": [
    "The resulting sample mean and variance are printed to the console.\n",
    "\n",
    "Note that the sample mean and variance may not exactly equal the population mean and variance of the Poisson distribution, especially for small sample sizes. However, as the sample size increases, the sample mean and variance tend to approach the population mean and variance."
   ]
  },
  {
   "cell_type": "code",
   "execution_count": null,
   "id": "15882109-2d8b-46f6-981b-f36e884855d8",
   "metadata": {},
   "outputs": [],
   "source": []
  },
  {
   "cell_type": "code",
   "execution_count": null,
   "id": "069b815a-de41-4a73-bef8-ea6a0cca35d2",
   "metadata": {},
   "outputs": [],
   "source": [
    "Answer 9:"
   ]
  },
  {
   "cell_type": "code",
   "execution_count": null,
   "id": "1fb51cce-5488-4811-885a-d58d89299bfc",
   "metadata": {},
   "outputs": [],
   "source": [
    "In a Binomial distribution, the mean and variance are related by the formula:"
   ]
  },
  {
   "cell_type": "markdown",
   "id": "b61baaf0-9464-4399-b1d3-e59e320126e9",
   "metadata": {},
   "source": [
    "Mean = n * p\n",
    "Variance = n * p * (1 - p)\n"
   ]
  },
  {
   "cell_type": "markdown",
   "id": "3fefc20f-cd7a-44b1-a1f1-608fd769515c",
   "metadata": {},
   "source": [
    "where n is the number of trials and p is the probability of success in each trial. The mean represents the expected number of successes in n trials, while the variance represents the spread or variability of the distribution around the mean."
   ]
  },
  {
   "cell_type": "code",
   "execution_count": null,
   "id": "cd6f6a5c-c565-42f7-a9d9-ebcc96726192",
   "metadata": {},
   "outputs": [],
   "source": [
    "In a Poisson distribution, the mean and variance are equal and are both denoted by the symbol λ (lambda). That is,\n",
    "\n",
    "Mean = Variance = λ\n"
   ]
  },
  {
   "cell_type": "markdown",
   "id": "b7b7bcfd-e073-44ef-b6c6-bdb64e7a3156",
   "metadata": {},
   "source": [
    "where λ is the rate parameter that represents the expected number of occurrences of an event in a fixed interval of time or space.\n",
    "\n",
    "The Poisson distribution is a special case of the Binomial distribution, where the number of trials is large and the probability of success is small, so that np = λ. As a result, the Poisson distribution has a simpler relationship between the mean and variance, compared to the Binomial distribution."
   ]
  },
  {
   "cell_type": "markdown",
   "id": "604451c8-f42f-4446-b345-787174ed12c7",
   "metadata": {},
   "source": [
    "In summary, in both Binomial and Poisson distributions, the mean represents the expected number of occurrences, while the variance represents the variability around the mean. \n",
    "However, the relationship between the mean and variance differs between the two distributions. \n",
    "In Binomial distribution, the variance depends on both the number of trials and the probability of success, while in Poisson distribution, the variance is equal to the mean and depends only on the rate parameter λ."
   ]
  },
  {
   "cell_type": "code",
   "execution_count": null,
   "id": "eda4f24a-6015-4b78-ace6-deec4dcfb10e",
   "metadata": {},
   "outputs": [],
   "source": []
  },
  {
   "cell_type": "code",
   "execution_count": null,
   "id": "82e14d20-fe5f-4be1-9e30-fcd738632020",
   "metadata": {},
   "outputs": [],
   "source": [
    "Answer 10:"
   ]
  },
  {
   "cell_type": "markdown",
   "id": "3d5fbe2d-06b9-4376-a227-c5f2c7131c04",
   "metadata": {},
   "source": [
    "In a normal distribution, the least frequent data appears in the tails of the distribution, which are the regions that are farthest away from the mean. \n",
    "Specifically, the least frequent data appear in the two tails of the distribution, which are the regions that fall outside of the interval defined by the mean plus or minus a few standard deviations."
   ]
  },
  {
   "cell_type": "markdown",
   "id": "fb74bd9e-6344-4fe8-ac01-1e8b3e4fb829",
   "metadata": {},
   "source": [
    "For example, in a standard normal distribution (i.e., a normal distribution with mean 0 and standard deviation 1), the least frequent data appear in the two tails beyond ±3 standard deviations from the mean.\n",
    "\n",
    "This is because the majority of the data falls within ±3 standard deviations of the mean, and the probability of data appearing beyond this range decreases rapidly as we move away from the mean."
   ]
  },
  {
   "cell_type": "markdown",
   "id": "d76dbd54-69a6-4a4e-b32b-cd3d19e1e289",
   "metadata": {},
   "source": [
    "In general, the position of the least frequent data in a normal distribution depends on the mean and standard deviation of the distribution. \n",
    "\n",
    "The farther away the tails are from the mean (i.e., the larger the standard deviation), the less frequent the data in those tails will be.\n",
    "However, regardless of the mean and standard deviation, the least frequent data will always appear in the tails of the distribution."
   ]
  }
 ],
 "metadata": {
  "kernelspec": {
   "display_name": "Python 3 (ipykernel)",
   "language": "python",
   "name": "python3"
  },
  "language_info": {
   "codemirror_mode": {
    "name": "ipython",
    "version": 3
   },
   "file_extension": ".py",
   "mimetype": "text/x-python",
   "name": "python",
   "nbconvert_exporter": "python",
   "pygments_lexer": "ipython3",
   "version": "3.10.8"
  }
 },
 "nbformat": 4,
 "nbformat_minor": 5
}
