{
 "cells": [
  {
   "cell_type": "markdown",
   "id": "66cc8053-dc85-4861-8b4b-4ff4dfffd909",
   "metadata": {},
   "source": [
    "Logical operators:\n",
    "   1.And \n",
    "   2.or\n",
    "   3.not\n",
    "   \n",
    " For comparison statements, and conditional statements we use Logical operators.  "
   ]
  },
  {
   "cell_type": "code",
   "execution_count": null,
   "id": "e1ee5ea1-4eb3-43ee-a892-1ac7abd6a546",
   "metadata": {},
   "outputs": [],
   "source": [
    "Eg: True and True\n",
    "A      B        A and B    A or B    Not A\n",
    "0      0          0           0       1\n",
    "0      1          0           1\n",
    "1      0          0           1       0\n",
    "1      1          1           1\n"
   ]
  },
  {
   "cell_type": "code",
   "execution_count": 1,
   "id": "e54f8a27-7a06-4765-a69e-7505e281458f",
   "metadata": {},
   "outputs": [
    {
     "data": {
      "text/plain": [
       "True"
      ]
     },
     "execution_count": 1,
     "metadata": {},
     "output_type": "execute_result"
    }
   ],
   "source": [
    "True and True\n"
   ]
  },
  {
   "cell_type": "code",
   "execution_count": 2,
   "id": "730065b7-3237-4bb6-b9c4-33d072a453a3",
   "metadata": {},
   "outputs": [
    {
     "data": {
      "text/plain": [
       "False"
      ]
     },
     "execution_count": 2,
     "metadata": {},
     "output_type": "execute_result"
    }
   ],
   "source": [
    "True and False"
   ]
  },
  {
   "cell_type": "code",
   "execution_count": 3,
   "id": "98708977-2279-4925-aadc-25464d786c39",
   "metadata": {},
   "outputs": [
    {
     "data": {
      "text/plain": [
       "False"
      ]
     },
     "execution_count": 3,
     "metadata": {},
     "output_type": "execute_result"
    }
   ],
   "source": [
    "not True"
   ]
  },
  {
   "cell_type": "code",
   "execution_count": 5,
   "id": "0c136373-fdff-42ce-b5e2-5b7a9601a995",
   "metadata": {},
   "outputs": [
    {
     "data": {
      "text/plain": [
       "True"
      ]
     },
     "execution_count": 5,
     "metadata": {},
     "output_type": "execute_result"
    }
   ],
   "source": [
    "not bool(0)"
   ]
  },
  {
   "cell_type": "code",
   "execution_count": 6,
   "id": "c276a93b-9c02-490a-b0d1-e974392e5fe3",
   "metadata": {},
   "outputs": [
    {
     "data": {
      "text/plain": [
       "0"
      ]
     },
     "execution_count": 6,
     "metadata": {},
     "output_type": "execute_result"
    }
   ],
   "source": [
    "int(bool(0))"
   ]
  },
  {
   "cell_type": "code",
   "execution_count": 7,
   "id": "19bcfb7b-d67b-47ea-baa2-de84fbe099bf",
   "metadata": {},
   "outputs": [
    {
     "data": {
      "text/plain": [
       "True"
      ]
     },
     "execution_count": 7,
     "metadata": {},
     "output_type": "execute_result"
    }
   ],
   "source": [
    "not int(bool(0))"
   ]
  },
  {
   "cell_type": "code",
   "execution_count": 8,
   "id": "2e49bb10-8355-449c-aa41-d5d2089f04a7",
   "metadata": {},
   "outputs": [
    {
     "data": {
      "text/plain": [
       "True"
      ]
     },
     "execution_count": 8,
     "metadata": {},
     "output_type": "execute_result"
    }
   ],
   "source": [
    "bool(1)"
   ]
  },
  {
   "cell_type": "code",
   "execution_count": 9,
   "id": "6cebc223-10f3-4cf4-a4b0-34b40b0518bc",
   "metadata": {},
   "outputs": [
    {
     "data": {
      "text/plain": [
       "1"
      ]
     },
     "execution_count": 9,
     "metadata": {},
     "output_type": "execute_result"
    }
   ],
   "source": [
    "int(bool(1))"
   ]
  },
  {
   "cell_type": "code",
   "execution_count": 10,
   "id": "c12dd09f-659d-41a6-9290-ad4103496bb6",
   "metadata": {},
   "outputs": [
    {
     "data": {
      "text/plain": [
       "False"
      ]
     },
     "execution_count": 10,
     "metadata": {},
     "output_type": "execute_result"
    }
   ],
   "source": [
    "not(int(bool(1)))"
   ]
  },
  {
   "cell_type": "code",
   "execution_count": null,
   "id": "734a36bd-8f82-4f46-bd75-4ddd28713685",
   "metadata": {},
   "outputs": [],
   "source": []
  }
 ],
 "metadata": {
  "kernelspec": {
   "display_name": "Python 3 (ipykernel)",
   "language": "python",
   "name": "python3"
  },
  "language_info": {
   "codemirror_mode": {
    "name": "ipython",
    "version": 3
   },
   "file_extension": ".py",
   "mimetype": "text/x-python",
   "name": "python",
   "nbconvert_exporter": "python",
   "pygments_lexer": "ipython3",
   "version": "3.10.8"
  }
 },
 "nbformat": 4,
 "nbformat_minor": 5
}
