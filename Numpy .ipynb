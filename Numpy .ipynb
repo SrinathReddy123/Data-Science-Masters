{
 "cells": [
  {
   "cell_type": "markdown",
   "id": "22e6e3ff-67fa-445a-bebb-232d7c1620bd",
   "metadata": {},
   "source": [
    "Previously there is a package called 'matlab', there are lot of mathematical functions which are available in \n",
    "that. In python there are no such libraries for mathematical operations that are available.\n",
    "\n",
    "\n",
    "So a mathematical package was created for mathematical operations called 'Numpy'. Using Numpy we can perform any\n",
    "matrix and array based calculation.\n",
    "\n",
    "Numpy means \"Numerical Python\".Any operations related to arrays and matrix can be performed using Numpy. \n",
    "Numpy is created for array and matrix calculations."
   ]
  },
  {
   "cell_type": "code",
   "execution_count": 2,
   "id": "465e469a-f521-45a5-afe0-aebf8bf1b345",
   "metadata": {},
   "outputs": [],
   "source": [
    "# import numpy\n",
    "# as is used for aliasing(rename), so that instead of using numpy we can just use np.\n",
    "import numpy as np"
   ]
  },
  {
   "cell_type": "code",
   "execution_count": 3,
   "id": "7a65763f-41d9-4e72-b08d-74ecdeb8501b",
   "metadata": {},
   "outputs": [],
   "source": [
    "l = [1,2,3,4,5,6]"
   ]
  },
  {
   "cell_type": "code",
   "execution_count": 4,
   "id": "7fb0a634-50ef-4a37-bf0e-d3663851b798",
   "metadata": {},
   "outputs": [
    {
     "data": {
      "text/plain": [
       "array([1, 2, 3, 4, 5, 6])"
      ]
     },
     "execution_count": 4,
     "metadata": {},
     "output_type": "execute_result"
    }
   ],
   "source": [
    "# converting a list to array\n",
    "\n",
    "np.array(l)"
   ]
  },
  {
   "cell_type": "code",
   "execution_count": 5,
   "id": "be3c0eb5-9543-4f6a-b462-f86b76793979",
   "metadata": {},
   "outputs": [],
   "source": [
    "arr = np.array(l)"
   ]
  },
  {
   "cell_type": "code",
   "execution_count": 6,
   "id": "d7b34799-8cdd-42dc-a792-7b1f63598394",
   "metadata": {},
   "outputs": [
    {
     "data": {
      "text/plain": [
       "numpy.ndarray"
      ]
     },
     "execution_count": 6,
     "metadata": {},
     "output_type": "execute_result"
    }
   ],
   "source": [
    "# checking the type of array\n",
    "\n",
    "type(arr)\n"
   ]
  },
  {
   "cell_type": "code",
   "execution_count": null,
   "id": "0b556fc5-da44-4f90-b2fc-f8548d40f5df",
   "metadata": {},
   "outputs": [],
   "source": [
    "# It means it is a numpy n-dimensional array."
   ]
  },
  {
   "cell_type": "code",
   "execution_count": 7,
   "id": "bdbfcc79-4942-483c-9d96-5fc3173b8f06",
   "metadata": {},
   "outputs": [
    {
     "data": {
      "text/plain": [
       "array([1, 2, 3, 4, 5, 6])"
      ]
     },
     "execution_count": 7,
     "metadata": {},
     "output_type": "execute_result"
    }
   ],
   "source": [
    "np.asarray(l)"
   ]
  },
  {
   "cell_type": "code",
   "execution_count": 8,
   "id": "35efbb3d-9232-404c-98c7-3c9c402b6971",
   "metadata": {},
   "outputs": [],
   "source": [
    "arr1 = np.array([[1,2,3] , [2,3,4]])\n",
    "\n",
    "# creating a 2 dimensional numpy array."
   ]
  },
  {
   "cell_type": "code",
   "execution_count": 9,
   "id": "0a321a27-219f-4228-9e8a-49a7d3e38ed4",
   "metadata": {},
   "outputs": [
    {
     "data": {
      "text/plain": [
       "numpy.ndarray"
      ]
     },
     "execution_count": 9,
     "metadata": {},
     "output_type": "execute_result"
    }
   ],
   "source": [
    "type(arr1)"
   ]
  },
  {
   "cell_type": "code",
   "execution_count": 10,
   "id": "8c99d8be-cb0d-42f1-a56e-7be4f8242307",
   "metadata": {},
   "outputs": [
    {
     "data": {
      "text/plain": [
       "2"
      ]
     },
     "execution_count": 10,
     "metadata": {},
     "output_type": "execute_result"
    }
   ],
   "source": [
    "# finding how many number of dimensions an array have:\n",
    "\n",
    "arr1.ndim\n",
    "\n",
    "# we can assume that 2 dimensional array starts with indces 0 and 0 for both."
   ]
  },
  {
   "cell_type": "code",
   "execution_count": 11,
   "id": "ab8c0739-90a2-4fe8-922d-e4368e72d5e0",
   "metadata": {},
   "outputs": [
    {
     "data": {
      "text/plain": [
       "1"
      ]
     },
     "execution_count": 11,
     "metadata": {},
     "output_type": "execute_result"
    }
   ],
   "source": [
    "arr.ndim"
   ]
  },
  {
   "cell_type": "code",
   "execution_count": 12,
   "id": "1bf220dd-9e5f-40b6-8eb3-b3e5d5bc7c2d",
   "metadata": {},
   "outputs": [
    {
     "data": {
      "text/plain": [
       "matrix([[1, 2, 3, 4, 5, 6]])"
      ]
     },
     "execution_count": 12,
     "metadata": {},
     "output_type": "execute_result"
    }
   ],
   "source": [
    "# understanding matrix() in numpy.\n",
    "\n",
    "np.matrix(l)\n",
    "\n",
    "# By default, matrix has minimum of 2 dimensions. Array can have 1 dimension.\n",
    "# Matrix will always have atleast 2 dimensions at any point of time."
   ]
  },
  {
   "cell_type": "code",
   "execution_count": 13,
   "id": "2647d1fe-2a3c-43d6-a2cd-36775779ef50",
   "metadata": {},
   "outputs": [],
   "source": [
    "mat = np.matrix(l)"
   ]
  },
  {
   "cell_type": "code",
   "execution_count": 14,
   "id": "1b362a88-e250-4294-8b43-4edaa22d3ec9",
   "metadata": {},
   "outputs": [
    {
     "data": {
      "text/plain": [
       "array([1, 2, 3, 4, 5, 6])"
      ]
     },
     "execution_count": 14,
     "metadata": {},
     "output_type": "execute_result"
    }
   ],
   "source": [
    "np.asanyarray(l)\n",
    "\n",
    "# converts list into array."
   ]
  },
  {
   "cell_type": "code",
   "execution_count": 15,
   "id": "85c2ac0c-c60b-4c04-a459-81e11abce62b",
   "metadata": {},
   "outputs": [
    {
     "data": {
      "text/plain": [
       "matrix([[1, 2, 3, 4, 5, 6]])"
      ]
     },
     "execution_count": 15,
     "metadata": {},
     "output_type": "execute_result"
    }
   ],
   "source": [
    "np.asanyarray(mat)\n",
    "\n",
    "# asanarray() converts anything into array if it is not an array. \n",
    "# matrx is a sub class of array. So the result of above operation is matrix. Matrix is also a type of array."
   ]
  },
  {
   "cell_type": "code",
   "execution_count": 16,
   "id": "643ad4d0-e2d3-42c6-937c-92c83b740497",
   "metadata": {},
   "outputs": [
    {
     "data": {
      "text/plain": [
       "array([1, 2, 3, 4, 5, 6])"
      ]
     },
     "execution_count": 16,
     "metadata": {},
     "output_type": "execute_result"
    }
   ],
   "source": [
    "arr"
   ]
  },
  {
   "cell_type": "code",
   "execution_count": 17,
   "id": "9758b614-3ea1-4ba6-ad99-942e8e83852c",
   "metadata": {},
   "outputs": [],
   "source": [
    "a = arr"
   ]
  },
  {
   "cell_type": "code",
   "execution_count": 18,
   "id": "53179aa3-3b80-4da2-9917-39ad68b9cda0",
   "metadata": {},
   "outputs": [
    {
     "data": {
      "text/plain": [
       "array([1, 2, 3, 4, 5, 6])"
      ]
     },
     "execution_count": 18,
     "metadata": {},
     "output_type": "execute_result"
    }
   ],
   "source": [
    "a"
   ]
  },
  {
   "cell_type": "code",
   "execution_count": 19,
   "id": "db11bdab-a8f1-42ed-af60-e2458e09db7e",
   "metadata": {},
   "outputs": [
    {
     "data": {
      "text/plain": [
       "array([1, 2, 3, 4, 5, 6])"
      ]
     },
     "execution_count": 19,
     "metadata": {},
     "output_type": "execute_result"
    }
   ],
   "source": [
    "arr"
   ]
  },
  {
   "cell_type": "code",
   "execution_count": 20,
   "id": "11e77385-1cf0-4017-91c2-0f005263c5a6",
   "metadata": {},
   "outputs": [],
   "source": [
    "# making changes in arr.\n",
    "arr[0] = 100"
   ]
  },
  {
   "cell_type": "code",
   "execution_count": 21,
   "id": "b355e261-d76d-44f9-af3f-d2ffff1158a7",
   "metadata": {},
   "outputs": [
    {
     "data": {
      "text/plain": [
       "array([100,   2,   3,   4,   5,   6])"
      ]
     },
     "execution_count": 21,
     "metadata": {},
     "output_type": "execute_result"
    }
   ],
   "source": [
    "a"
   ]
  },
  {
   "cell_type": "code",
   "execution_count": 22,
   "id": "00b3200d-26e2-4d24-ae9d-4fb4f21ef1bf",
   "metadata": {},
   "outputs": [
    {
     "data": {
      "text/plain": [
       "array([100,   2,   3,   4,   5,   6])"
      ]
     },
     "execution_count": 22,
     "metadata": {},
     "output_type": "execute_result"
    }
   ],
   "source": [
    "arr"
   ]
  },
  {
   "cell_type": "code",
   "execution_count": null,
   "id": "1401ba04-d5e0-427a-a2e0-b0d705ae2d56",
   "metadata": {},
   "outputs": [],
   "source": [
    "# here the copy operation, that is performed is shallow copy but not deep copy, both 'a' and 'arr' are references \n",
    "# to the same array.\n",
    "\n",
    "# we are not creating new copy of 'arr' andthennassigning it to 'a'.\n",
    "# 'a' refers to same memory location as that of 'arr'. Both are references to the same location in memory.\n",
    "\n",
    "# shallow copy doesb't copy the data, instead it just creates a new reference to the existing copy."
   ]
  },
  {
   "cell_type": "code",
   "execution_count": 23,
   "id": "96f0c648-43b3-48d6-8180-b57a7cc7dcb2",
   "metadata": {},
   "outputs": [],
   "source": [
    "b = np.copy(arr)"
   ]
  },
  {
   "cell_type": "code",
   "execution_count": 24,
   "id": "b4e3e47d-1b2c-4a80-9674-df36159f379d",
   "metadata": {},
   "outputs": [
    {
     "data": {
      "text/plain": [
       "array([100,   2,   3,   4,   5,   6])"
      ]
     },
     "execution_count": 24,
     "metadata": {},
     "output_type": "execute_result"
    }
   ],
   "source": [
    "b"
   ]
  },
  {
   "cell_type": "code",
   "execution_count": 25,
   "id": "bb4a2c4b-3384-40d7-af8b-c2eb05e62be2",
   "metadata": {},
   "outputs": [],
   "source": [
    "b[0] = 50"
   ]
  },
  {
   "cell_type": "code",
   "execution_count": 26,
   "id": "b3d8ea43-45f2-4cb3-8f59-a0f86475ed07",
   "metadata": {},
   "outputs": [
    {
     "data": {
      "text/plain": [
       "array([100,   2,   3,   4,   5,   6])"
      ]
     },
     "execution_count": 26,
     "metadata": {},
     "output_type": "execute_result"
    }
   ],
   "source": [
    "arr"
   ]
  },
  {
   "cell_type": "code",
   "execution_count": 27,
   "id": "bd2ac30a-93ec-45a3-be48-5c39fcdf7a2f",
   "metadata": {},
   "outputs": [
    {
     "data": {
      "text/plain": [
       "array([50,  2,  3,  4,  5,  6])"
      ]
     },
     "execution_count": 27,
     "metadata": {},
     "output_type": "execute_result"
    }
   ],
   "source": [
    "b"
   ]
  },
  {
   "cell_type": "code",
   "execution_count": null,
   "id": "a8b1385e-3b29-47b7-ac7e-6b1616f1236f",
   "metadata": {},
   "outputs": [],
   "source": [
    "# So here we can see that upon using copy() another copy of same data is created in memory and new copy is being \n",
    "# referred by 'b'.\n",
    "# So any changes that are made on'b' will be visible only to 'b' and they don't get reflected on 'arr'\n",
    "# seperate memory will be cretaed and then it assigns the reference to newly created memory.\n",
    "\n",
    "\n",
    "# This is the main difference between shallow copy and deep copy.\n",
    "# This is how we can create reference variable/reference pointer at any time.\n",
    "\n",
    "# In Numpy, we can find many dfferent functions through which we can create different types of array."
   ]
  },
  {
   "cell_type": "code",
   "execution_count": 28,
   "id": "6e3965a2-3239-410a-9a00-446a0a43edf5",
   "metadata": {},
   "outputs": [
    {
     "data": {
      "text/plain": [
       "array([[ True, False, False],\n",
       "       [False,  True, False],\n",
       "       [False, False,  True]])"
      ]
     },
     "execution_count": 28,
     "metadata": {},
     "output_type": "execute_result"
    }
   ],
   "source": [
    "# here (3,3) is the shape of the array\n",
    "\n",
    "np.fromfunction(lambda i, j : i == j, (3,3) )\n",
    "\n",
    "\n",
    "# Here when both row number, and column number are equal then we have 1, else we have 0.\n",
    "# So for i, j = (00, 11, 22) we have met the above condition so for them we have 1."
   ]
  },
  {
   "cell_type": "code",
   "execution_count": 29,
   "id": "1fd6b6ab-17f0-41da-b6d5-8f956b3ccbe3",
   "metadata": {},
   "outputs": [
    {
     "data": {
      "text/plain": [
       "array([[0., 0., 0.],\n",
       "       [0., 1., 2.],\n",
       "       [0., 2., 4.]])"
      ]
     },
     "execution_count": 29,
     "metadata": {},
     "output_type": "execute_result"
    }
   ],
   "source": [
    "np.fromfunction(lambda i, j : i * j, (3,3) )\n",
    "\n",
    "# Here the indices will be multiplied and then the result will be returned.\n",
    "# from function is one kind of function in which we can generate a dataset."
   ]
  },
  {
   "cell_type": "code",
   "execution_count": 30,
   "id": "b5a83cd7-03d4-4c23-a053-70b80ebf3885",
   "metadata": {},
   "outputs": [
    {
     "data": {
      "text/plain": [
       "<generator object <genexpr> at 0x7feb8c131460>"
      ]
     },
     "execution_count": 30,
     "metadata": {},
     "output_type": "execute_result"
    }
   ],
   "source": [
    "(i*i for i in range(5))"
   ]
  },
  {
   "cell_type": "code",
   "execution_count": 31,
   "id": "d47b8c2e-c160-43dd-9262-2888abd16842",
   "metadata": {},
   "outputs": [],
   "source": [
    "iterable = (i*i for i in range(5))"
   ]
  },
  {
   "cell_type": "code",
   "execution_count": 35,
   "id": "a2aedec5-557f-4f43-934c-ace835eeb768",
   "metadata": {},
   "outputs": [
    {
     "data": {
      "text/plain": [
       "array([ 0.,  1.,  4.,  9., 16.])"
      ]
     },
     "execution_count": 35,
     "metadata": {},
     "output_type": "execute_result"
    }
   ],
   "source": [
    "# passing the above iterable\n",
    "\n",
    "np.fromiter(iterable,float)"
   ]
  },
  {
   "cell_type": "code",
   "execution_count": 36,
   "id": "b032bbbc-62cd-4f65-8cc2-5f68f6bc37a9",
   "metadata": {},
   "outputs": [
    {
     "data": {
      "text/plain": [
       "array([23., 45.])"
      ]
     },
     "execution_count": 36,
     "metadata": {},
     "output_type": "execute_result"
    }
   ],
   "source": [
    "# it iterates the below iterable and finds elements based on whitespace(' ') as seperator.\n",
    "\n",
    "np.fromstring('23 45', sep=' ')\n",
    "\n",
    "# In Numpy, majority of the methods that are present will return an array as output."
   ]
  },
  {
   "cell_type": "code",
   "execution_count": 39,
   "id": "0a17676c-9547-4970-8789-f0fc6c8766af",
   "metadata": {},
   "outputs": [
    {
     "data": {
      "text/plain": [
       "array([23., 45., 56.])"
      ]
     },
     "execution_count": 39,
     "metadata": {},
     "output_type": "execute_result"
    }
   ],
   "source": [
    "np.fromstring('23,45,56', sep=',')"
   ]
  },
  {
   "cell_type": "code",
   "execution_count": 37,
   "id": "0138f23e-335e-485b-a5fe-f36223753092",
   "metadata": {},
   "outputs": [
    {
     "name": "stderr",
     "output_type": "stream",
     "text": [
      "/tmp/ipykernel_299/2196023286.py:1: DeprecationWarning: string or file could not be read to its end due to unmatched data; this will raise a ValueError in the future.\n",
      "  np.fromstring('23 sdf   fd dc cde fg 45', sep=' ')\n"
     ]
    },
    {
     "data": {
      "text/plain": [
       "array([23.])"
      ]
     },
     "execution_count": 37,
     "metadata": {},
     "output_type": "execute_result"
    }
   ],
   "source": [
    "np.fromstring('23 sdf   fd dc cde fg 45', sep=' ')"
   ]
  },
  {
   "cell_type": "code",
   "execution_count": 40,
   "id": "4563427e-7a58-4826-8a76-93ab1c544035",
   "metadata": {},
   "outputs": [
    {
     "data": {
      "text/plain": [
       "array([100,   2,   3,   4,   5,   6])"
      ]
     },
     "execution_count": 40,
     "metadata": {},
     "output_type": "execute_result"
    }
   ],
   "source": [
    "arr"
   ]
  },
  {
   "cell_type": "code",
   "execution_count": 41,
   "id": "b3adf0a0-f368-4d2e-a468-3d2b36be45a9",
   "metadata": {},
   "outputs": [
    {
     "data": {
      "text/plain": [
       "array([[1, 2, 3],\n",
       "       [2, 3, 4]])"
      ]
     },
     "execution_count": 41,
     "metadata": {},
     "output_type": "execute_result"
    }
   ],
   "source": [
    "arr1"
   ]
  },
  {
   "cell_type": "code",
   "execution_count": 42,
   "id": "0cda5ab7-c58e-4ee5-82cd-8b88222aa36e",
   "metadata": {},
   "outputs": [
    {
     "data": {
      "text/plain": [
       "2"
      ]
     },
     "execution_count": 42,
     "metadata": {},
     "output_type": "execute_result"
    }
   ],
   "source": [
    "arr1.ndim"
   ]
  },
  {
   "cell_type": "code",
   "execution_count": 43,
   "id": "e4a58dea-009c-4be2-b048-754823970456",
   "metadata": {},
   "outputs": [
    {
     "data": {
      "text/plain": [
       "6"
      ]
     },
     "execution_count": 43,
     "metadata": {},
     "output_type": "execute_result"
    }
   ],
   "source": [
    "arr.size\n",
    "\n",
    "# returns the number of elements in the array."
   ]
  },
  {
   "cell_type": "code",
   "execution_count": 44,
   "id": "0e97b5c7-29f4-476b-a3aa-0b6db60404b8",
   "metadata": {},
   "outputs": [
    {
     "data": {
      "text/plain": [
       "6"
      ]
     },
     "execution_count": 44,
     "metadata": {},
     "output_type": "execute_result"
    }
   ],
   "source": [
    "arr1.size"
   ]
  },
  {
   "cell_type": "code",
   "execution_count": 45,
   "id": "3df778f7-8df9-4cfb-adc2-15db80703577",
   "metadata": {},
   "outputs": [
    {
     "data": {
      "text/plain": [
       "(6,)"
      ]
     },
     "execution_count": 45,
     "metadata": {},
     "output_type": "execute_result"
    }
   ],
   "source": [
    "arr.shape"
   ]
  },
  {
   "cell_type": "code",
   "execution_count": 46,
   "id": "f03d0f8b-807d-40d9-b0ff-2adb92b61f4a",
   "metadata": {},
   "outputs": [
    {
     "data": {
      "text/plain": [
       "(2, 3)"
      ]
     },
     "execution_count": 46,
     "metadata": {},
     "output_type": "execute_result"
    }
   ],
   "source": [
    "arr1.shape\n",
    "\n",
    "# It means arr1 has 2 rows and 3 columns."
   ]
  },
  {
   "cell_type": "code",
   "execution_count": 47,
   "id": "0780d45c-e8bf-4682-a854-dca19af4c66b",
   "metadata": {},
   "outputs": [
    {
     "data": {
      "text/plain": [
       "dtype('int64')"
      ]
     },
     "execution_count": 47,
     "metadata": {},
     "output_type": "execute_result"
    }
   ],
   "source": [
    "arr.dtype\n",
    "\n",
    "# data type of particular array."
   ]
  },
  {
   "cell_type": "code",
   "execution_count": null,
   "id": "bd03ad80-3ecf-498d-a0da-262cfdc1ddb6",
   "metadata": {},
   "outputs": [],
   "source": [
    "arr1.dtype"
   ]
  }
 ],
 "metadata": {
  "kernelspec": {
   "display_name": "Python 3 (ipykernel)",
   "language": "python",
   "name": "python3"
  },
  "language_info": {
   "codemirror_mode": {
    "name": "ipython",
    "version": 3
   },
   "file_extension": ".py",
   "mimetype": "text/x-python",
   "name": "python",
   "nbconvert_exporter": "python",
   "pygments_lexer": "ipython3",
   "version": "3.10.8"
  }
 },
 "nbformat": 4,
 "nbformat_minor": 5
}
