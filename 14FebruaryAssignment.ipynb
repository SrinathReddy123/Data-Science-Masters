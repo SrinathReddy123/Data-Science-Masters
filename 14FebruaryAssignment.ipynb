{
 "cells": [
  {
   "cell_type": "code",
   "execution_count": null,
   "id": "ca87705d-817c-4826-ab5e-2b66d6e1b96b",
   "metadata": {},
   "outputs": [],
   "source": [
    "Answer 1:"
   ]
  },
  {
   "cell_type": "markdown",
   "id": "0fcf7743-5a5e-402f-8727-563613570915",
   "metadata": {},
   "source": [
    "Multithreading is a technique in programming where multiple threads (lightweight sub-processes) are used to execute multiple tasks simultaneously within a single process."
   ]
  },
  {
   "cell_type": "markdown",
   "id": "3a858ba3-4d9b-43c2-883b-f66e6d45c208",
   "metadata": {},
   "source": [
    "In Python, multithreading is used to make programs more efficient by allowing different parts of a program to run concurrently. This can be particularly useful for long-running tasks or tasks that would otherwise block the program's execution, such as network or file I/O"
   ]
  },
  {
   "cell_type": "markdown",
   "id": "fd165100-016f-4d40-b5d0-a65fe258a9dd",
   "metadata": {},
   "source": [
    "threading is the name of module for handling threads in Python.\n",
    "\n",
    "\n",
    "Python has a built-in threading module which is used to handle threads. This module provides a simple way to create, start, and manage threads in Python. The threading module allows for the creation of both new threads and subclasses of existing threads. It also provides synchronization primitives like locks and semaphores to help manage access to shared resources among threads."
   ]
  },
  {
   "cell_type": "code",
   "execution_count": null,
   "id": "cab3af96-5e98-49ef-a599-882497efd6f0",
   "metadata": {},
   "outputs": [],
   "source": [
    "Answer 2:"
   ]
  },
  {
   "cell_type": "markdown",
   "id": "dd2ea349-bc5a-4439-93f5-c8169df1fe75",
   "metadata": {},
   "source": [
    "The threading module is used in Python for creating and managing threads in a program. It provides a simple and efficient way to run multiple threads concurrently within a single process. Here are the uses of the following functions in the threading module."
   ]
  },
  {
   "cell_type": "markdown",
   "id": "b8b33fc6-7ad0-4a39-a80e-ff6e8842d367",
   "metadata": {},
   "source": [
    "1. activeCount(): This function is used to get the number of thread objects that are currently alive. It returns the number of Thread objects that are active or running. It can be useful for debugging or monitoring the state of threads in a program."
   ]
  },
  {
   "cell_type": "markdown",
   "id": "ae6eeeea-4dd4-48e5-b175-be00cc4088af",
   "metadata": {},
   "source": [
    "2. currentThread(): This function returns a reference to the current thread object that is calling the function. This can be useful for identifying the current thread and for passing the current thread as an argument to other functions."
   ]
  },
  {
   "cell_type": "markdown",
   "id": "21511d43-a5a8-46fd-80a0-b0bef6a92905",
   "metadata": {},
   "source": [
    "3. enumerate(): This function returns a list of all thread objects that are currently active in the program. It can be used to get a list of all threads in the program, which can be useful for debugging or monitoring purposes. The returned list contains all threads, including the main thread and any other threads that have been started by the program. Each thread is represented as a Thread object."
   ]
  },
  {
   "cell_type": "code",
   "execution_count": null,
   "id": "8b5ad612-798a-422c-93a0-4b0d8dc315d4",
   "metadata": {},
   "outputs": [],
   "source": [
    "Answer 3:"
   ]
  },
  {
   "cell_type": "markdown",
   "id": "c5c41649-9916-40f7-a96d-77aff3938b69",
   "metadata": {},
   "source": [
    "1. run(): This method defines the behavior of the thread when it is run. It is the entry point for the thread's activity and contains the code that will be executed when the thread is started. When using the Thread class, you should override this method in your subclass to provide the desired behavior for your thread."
   ]
  },
  {
   "cell_type": "markdown",
   "id": "942164d7-10ae-4207-8118-90bd930cf5e9",
   "metadata": {},
   "source": [
    "2. start(): This method is used to start a thread. It allocates a new thread of execution and begins running the run() method in that thread. The start() method should only be called once on a given thread object. If called more than once, a RuntimeError will be raised."
   ]
  },
  {
   "cell_type": "markdown",
   "id": "752e09d7-e7bb-477e-a5b2-10b708561eb8",
   "metadata": {},
   "source": [
    "3. join(): This method is used to wait for a thread to complete its execution. When a thread's join() method is called, the calling thread will block until the target thread completes its work and terminates. If the timeout parameter is specified, the calling thread will wait for the target thread to complete for the specified amount of time. If the target thread does not complete within the specified timeout period, the calling thread will resume execution."
   ]
  },
  {
   "cell_type": "markdown",
   "id": "b9dec6ab-68f9-4ad5-a010-e4ba397751a7",
   "metadata": {},
   "source": [
    "4. isAlive(): This method is used to check whether a thread is still executing. If the thread is still executing, this method returns True. If the thread has completed its work and terminated, this method returns False. This method can be useful for monitoring the state of threads in a program, especially when used in combination with the join() method."
   ]
  },
  {
   "cell_type": "code",
   "execution_count": null,
   "id": "27abc329-1a16-4bfe-8cb4-055b5ada3853",
   "metadata": {},
   "outputs": [],
   "source": [
    "Answer 4:"
   ]
  },
  {
   "cell_type": "code",
   "execution_count": 1,
   "id": "ffb01b4d-18cb-4d94-b9ae-23cddbc66b57",
   "metadata": {},
   "outputs": [
    {
     "name": "stdout",
     "output_type": "stream",
     "text": [
      "Square of 1 is 1\n",
      "Square of 2 is 4\n",
      "Square of 3 is 9\n",
      "Square of 4 is 16\n",
      "Square of 5 is 25\n",
      "Square of 6 is 36\n",
      "Square of 7 is 49\n",
      "Square of 8 is 64\n",
      "Square of 9 is 81\n",
      "Square of 10 is 100\n",
      "Cube of 1 is 1\n",
      "Cube of 2 is 8\n",
      "Cube of 3 is 27\n",
      "Cube of 4 is 64\n",
      "Cube of 5 is 125\n",
      "Cube of 6 is 216\n",
      "Cube of 7 is 343\n",
      "Cube of 8 is 512\n",
      "Cube of 9 is 729\n",
      "Cube of 10 is 1000\n",
      "Done!\n"
     ]
    }
   ],
   "source": [
    "import threading\n",
    "\n",
    "def print_squares():\n",
    "    for i in range(1, 11):\n",
    "        print(f\"Square of {i} is {i*i}\")\n",
    "\n",
    "def print_cubes():\n",
    "    for i in range(1, 11):\n",
    "        print(f\"Cube of {i} is {i*i*i}\")\n",
    "\n",
    "if __name__ == \"__main__\":\n",
    "    # create threads\n",
    "    t1 = threading.Thread(target=print_squares)\n",
    "    t2 = threading.Thread(target=print_cubes)\n",
    "\n",
    "    # start threads\n",
    "    t1.start()\n",
    "    t2.start()\n",
    "\n",
    "    # wait for threads to finish\n",
    "    t1.join()\n",
    "    t2.join()\n",
    "\n",
    "    print(\"Done!\")\n"
   ]
  },
  {
   "cell_type": "markdown",
   "id": "5a91e7e8-3a0f-4072-b3ca-e8e4a1cef463",
   "metadata": {},
   "source": [
    "In this program, we define two functions print_squares() and print_cubes() that print the list of squares and cubes, respectively, for the numbers 1 to 10.\n",
    "We create two threads using the Thread class from the threading module, and assign each thread a target function to execute."
   ]
  },
  {
   "cell_type": "markdown",
   "id": "d942f6a7-a2fa-4d03-9d60-a680ed7282b0",
   "metadata": {},
   "source": [
    "We then start the threads using the start() method and wait for them to finish using the join() method. Finally, we print a message to indicate that the program has finished executing."
   ]
  },
  {
   "cell_type": "code",
   "execution_count": null,
   "id": "07c17580-deb7-462c-a92f-150f04030494",
   "metadata": {},
   "outputs": [],
   "source": [
    "Answer 5:"
   ]
  },
  {
   "cell_type": "code",
   "execution_count": null,
   "id": "e503b978-2678-40ec-b4dc-f8df45ca6f32",
   "metadata": {},
   "outputs": [],
   "source": [
    "Advantages of Multithreading:"
   ]
  },
  {
   "cell_type": "markdown",
   "id": "00bc7127-fac0-4748-a799-c73887eff975",
   "metadata": {},
   "source": [
    "Multithreading is a powerful tool that can be used to improve the performance and responsiveness of a program."
   ]
  },
  {
   "cell_type": "markdown",
   "id": "eaef8664-f2e2-4f79-a6d1-24a6abaa6edb",
   "metadata": {},
   "source": [
    "Advantages:\n",
    "\n",
    "1. Improved performance: Multithreading allows a program to perform multiple tasks simultaneously, which can significantly improve its performance. By dividing a task into smaller threads, a program can use multiple processors and cores to execute the threads in parallel, which can reduce the overall processing time.\n",
    "\n",
    "2. Improved responsiveness: By using multithreading, a program can remain responsive even when performing computationally intensive tasks. For example, a user interface can continue to update and respond to user input while a background thread is performing a long-running task.\n",
    "\n",
    "3. Simplified programming: Multithreading can simplify the programming of complex tasks by dividing them into smaller, more manageable threads. This can make it easier to write, debug, and maintain large and complex programs."
   ]
  },
  {
   "cell_type": "markdown",
   "id": "aa69a7d5-e3c3-4272-b83b-2a749a125725",
   "metadata": {},
   "source": [
    "Disadvantages:\n",
    "\n",
    "1. Increased complexity: Multithreading can make a program more complex and harder to debug. The interaction between threads can be unpredictable, and race conditions and deadlocks can occur if threads are not properly synchronized.\n",
    "\n",
    "2. Resource contention: Multithreading can lead to resource contention, where multiple threads compete for access to the same resources, such as memory or files. If not managed properly, this can lead to inefficiencies or even crashes.\n",
    "\n",
    "3. Overhead: The creation, management, and synchronization of threads can introduce overhead that can reduce the overall performance of a program. If a task is not sufficiently large or complex, the overhead of using multiple threads may outweigh the benefits."
   ]
  },
  {
   "cell_type": "markdown",
   "id": "d26fc354-dbab-435d-9ef9-8c500fe362ea",
   "metadata": {},
   "source": [
    "In summary, while multithreading can offer significant performance improvements, it can also introduce complexity, resource contention, and overhead that must be carefully managed to ensure the benefits outweigh the costs."
   ]
  },
  {
   "cell_type": "code",
   "execution_count": null,
   "id": "6a00d013-cd83-489f-953d-410784d36714",
   "metadata": {},
   "outputs": [],
   "source": [
    "Answer 6:"
   ]
  },
  {
   "cell_type": "markdown",
   "id": "84daabae-9e5f-4d5e-b5a4-0cc8bee23374",
   "metadata": {},
   "source": [
    "Deadlocks and race conditions are two common problems that can occur when using multithreading in a program.\n",
    "\n",
    "Deadlock occurs when two or more threads are waiting for each other to release a resource, resulting in a situation where none of the threads can proceed. This can happen when multiple threads are trying to access shared resources, such as locks or memory, without proper synchronization. A deadlock can cause a program to become unresponsive or crash if not resolved."
   ]
  },
  {
   "cell_type": "markdown",
   "id": "2e34f9c9-f98f-4808-9448-cb7e930170b9",
   "metadata": {},
   "source": [
    "For example, consider a program that has two threads, A and B, both of which need to acquire two locks, L1 and L2, to complete their tasks. If thread A acquires lock L1 and then waits for lock L2, while thread B acquires lock L2 and then waits for lock L1, a deadlock occurs, as neither thread can proceed until the other releases the lock it is waiting for."
   ]
  },
  {
   "cell_type": "markdown",
   "id": "ab25dcac-527f-4f76-88b8-32b6a0938251",
   "metadata": {},
   "source": [
    "Race conditions occur when the behavior of a program depends on the timing or sequence of events between multiple threads, which can be unpredictable and lead to incorrect results. This can happen when multiple threads are trying to access or modify shared resources, such as variables or files, without proper synchronization."
   ]
  },
  {
   "cell_type": "code",
   "execution_count": null,
   "id": "6538de29-ba8f-49bc-a481-d0d7cd02453e",
   "metadata": {},
   "outputs": [],
   "source": []
  },
  {
   "cell_type": "markdown",
   "id": "d0240cfb-8689-4df6-a2d1-971e7e56b988",
   "metadata": {},
   "source": [
    "To avoid these problems, multithreaded programs must carefully manage the access and modification of shared resources using synchronization primitives, such as locks, semaphores, and barriers. Properly designed synchronization can prevent deadlocks and race conditions and ensure that the program behaves correctly and predictably."
   ]
  }
 ],
 "metadata": {
  "kernelspec": {
   "display_name": "Python 3 (ipykernel)",
   "language": "python",
   "name": "python3"
  },
  "language_info": {
   "codemirror_mode": {
    "name": "ipython",
    "version": 3
   },
   "file_extension": ".py",
   "mimetype": "text/x-python",
   "name": "python",
   "nbconvert_exporter": "python",
   "pygments_lexer": "ipython3",
   "version": "3.10.8"
  }
 },
 "nbformat": 4,
 "nbformat_minor": 5
}
