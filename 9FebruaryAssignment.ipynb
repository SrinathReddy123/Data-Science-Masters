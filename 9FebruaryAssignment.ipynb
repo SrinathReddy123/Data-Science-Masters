{
 "cells": [
  {
   "cell_type": "code",
   "execution_count": null,
   "id": "870ff17b-0039-43a2-baa1-b889b5da612f",
   "metadata": {},
   "outputs": [],
   "source": [
    "Answer 1:"
   ]
  },
  {
   "cell_type": "code",
   "execution_count": 1,
   "id": "bfadd6ed-f76b-46bb-a282-fd3bb0e5368f",
   "metadata": {},
   "outputs": [],
   "source": [
    "class Vehicle:\n",
    "    def __init__(self, name_of_vehicle, max_speed, average_of_vehicle):\n",
    "        self.name_of_vehicle = name_of_vehicle\n",
    "        self.max_speed = max_speed\n",
    "        self.average_of_vehicle = average_of_vehicle"
   ]
  },
  {
   "cell_type": "code",
   "execution_count": 2,
   "id": "98147e94-386d-4ce1-a9fd-b40005e4ce9d",
   "metadata": {},
   "outputs": [],
   "source": [
    "car = Vehicle(\"Maruthi Suzuki Dzire\", 250, 20)\n",
    "bike = Vehicle(\"Tesla\", 186, 15)"
   ]
  },
  {
   "cell_type": "code",
   "execution_count": 4,
   "id": "4a298439-7494-40e7-a097-7cbcccbb14f6",
   "metadata": {},
   "outputs": [
    {
     "data": {
      "text/plain": [
       "250"
      ]
     },
     "execution_count": 4,
     "metadata": {},
     "output_type": "execute_result"
    }
   ],
   "source": [
    "car.max_speed"
   ]
  },
  {
   "cell_type": "code",
   "execution_count": 5,
   "id": "6894e1ff-4907-4aa5-980f-eae6122af1a9",
   "metadata": {},
   "outputs": [
    {
     "data": {
      "text/plain": [
       "'Maruthi Suzuki Dzire'"
      ]
     },
     "execution_count": 5,
     "metadata": {},
     "output_type": "execute_result"
    }
   ],
   "source": [
    "car.name_of_vehicle"
   ]
  },
  {
   "cell_type": "code",
   "execution_count": null,
   "id": "7aa40f57-50c1-414b-bbb0-04f3e4f76053",
   "metadata": {},
   "outputs": [],
   "source": []
  },
  {
   "cell_type": "code",
   "execution_count": null,
   "id": "689084f1-78ad-469c-85e0-0c9e23f56cef",
   "metadata": {},
   "outputs": [],
   "source": [
    "Answer 2:"
   ]
  },
  {
   "cell_type": "code",
   "execution_count": 6,
   "id": "8c54b680-2f8f-4db7-bfcb-252f13b7f8f9",
   "metadata": {},
   "outputs": [],
   "source": [
    "class Car(Vehicle):\n",
    "    def __init__(self, name_of_vehicle, max_speed, average_of_vehicle):\n",
    "        super().__init__(name_of_vehicle, max_speed, average_of_vehicle)\n",
    "\n",
    "    def seating_capacity(self, capacity):\n",
    "        return f\"{self.name_of_vehicle} has a seating capacity of {capacity} passengers.\""
   ]
  },
  {
   "cell_type": "code",
   "execution_count": 7,
   "id": "ea1d4214-84b6-4ad1-8229-3f8b0865095b",
   "metadata": {},
   "outputs": [
    {
     "name": "stdout",
     "output_type": "stream",
     "text": [
      "Tesla Model S has a seating capacity of 5 passengers.\n"
     ]
    }
   ],
   "source": [
    "my_car = Car(\"Tesla Model S\", 250, 20)\n",
    "print(my_car.seating_capacity(5))"
   ]
  },
  {
   "cell_type": "code",
   "execution_count": null,
   "id": "85191326-6b55-4eef-92dc-ca222c42f239",
   "metadata": {},
   "outputs": [],
   "source": [
    "Answer 3:"
   ]
  },
  {
   "cell_type": "markdown",
   "id": "1d47a0a1-8692-4e32-b3f6-63dea5ad3b54",
   "metadata": {},
   "source": [
    "Multiple inheritance is a feature in object-oriented programming where a subclass can inherit from multiple parent classes. In Python, multiple inheritance is supported by allowing a class to inherit from more than one parent class. This means that a subclass can have multiple direct superclasses."
   ]
  },
  {
   "cell_type": "code",
   "execution_count": 8,
   "id": "d3100e33-83dc-457a-a663-ee660816c9a7",
   "metadata": {},
   "outputs": [
    {
     "name": "stdout",
     "output_type": "stream",
     "text": [
      "Sky Runner is flying with a maximum speed of 500 km/h at an altitude of 5000 meters\n",
      "Sky Runner is driving with a maximum speed of 500 km/h\n"
     ]
    }
   ],
   "source": [
    "class Vehicle:\n",
    "    def __init__(self, name, max_speed):\n",
    "        self.name = name\n",
    "        self.max_speed = max_speed\n",
    "\n",
    "    def drive(self):\n",
    "        print(f\"{self.name} is driving with a maximum speed of {self.max_speed} km/h\")\n",
    "\n",
    "class Airplane:\n",
    "    def __init__(self, name, max_speed, altitude):\n",
    "        self.name = name\n",
    "        self.max_speed = max_speed\n",
    "        self.altitude = altitude\n",
    "\n",
    "    def fly(self):\n",
    "        print(f\"{self.name} is flying with a maximum speed of {self.max_speed} km/h at an altitude of {self.altitude} meters\")\n",
    "\n",
    "class FlyingCar(Vehicle, Airplane):\n",
    "    def __init__(self, name, max_speed, altitude):\n",
    "        Vehicle.__init__(self, name, max_speed)\n",
    "        Airplane.__init__(self, name, max_speed, altitude)\n",
    "\n",
    "    def fly_and_drive(self):\n",
    "        self.fly()\n",
    "        self.drive()\n",
    "\n",
    "my_flying_car = FlyingCar(\"Sky Runner\", 500, 5000)\n",
    "my_flying_car.fly_and_drive()\n"
   ]
  },
  {
   "cell_type": "markdown",
   "id": "4b5a3c54-4c3b-45fb-b68e-0b9d1e1e9527",
   "metadata": {},
   "source": [
    "In the example above, we defined a Vehicle class and an Airplane class, both of which have an __init__ method and a method that simulates driving or flying, respectively."
   ]
  },
  {
   "cell_type": "markdown",
   "id": "d5b31019-8165-4459-83fe-3ca414aaaeca",
   "metadata": {},
   "source": [
    "We then defined a FlyingCar class that inherits from both the Vehicle and Airplane classes. The FlyingCar class has its own __init__ method that initializes both the Vehicle and Airplane instance variables using the __init__ methods of the parent classes."
   ]
  },
  {
   "cell_type": "markdown",
   "id": "ca94b692-850e-4d78-b874-52cf7e942d0b",
   "metadata": {},
   "source": [
    "Finally, we created an instance of the FlyingCar class called my_flying_car and called its fly_and_drive method, which calls both the fly and drive methods of the Airplane and Vehicle parent classes, respectively. This demonstrates how multiple inheritance can be used to create a new class that has behavior from multiple parent classes."
   ]
  },
  {
   "cell_type": "code",
   "execution_count": null,
   "id": "8b8e6501-bc35-4aa2-b89f-117b2a17b86b",
   "metadata": {},
   "outputs": [],
   "source": [
    "Answer 4:"
   ]
  },
  {
   "cell_type": "markdown",
   "id": "1bb314e4-4372-4f4c-9ada-b434180a74bc",
   "metadata": {},
   "source": [
    "In Python, getters and setters are a way to encapsulate instance variables by providing methods to access and modify their values.\n",
    "Getters are methods that are used to retrieve the value of an instance variable.\n",
    "Setters are methods that are used to set or modify the value of an instance variable."
   ]
  },
  {
   "cell_type": "code",
   "execution_count": 10,
   "id": "d2b6c26b-81e0-4af8-8ad5-472fbe4bf0fe",
   "metadata": {},
   "outputs": [],
   "source": [
    "class Person:\n",
    "    def __init__(self, name, age):\n",
    "        self._name = name\n",
    "        self._age = age\n",
    "\n",
    "    def get_name(self):\n",
    "        return self._name\n",
    "\n",
    "    def set_name(self, name):\n",
    "        self._name = name\n",
    "\n",
    "    def get_age(self):\n",
    "        return self._age\n",
    "\n",
    "    def set_age(self, age):\n",
    "        self._age = age"
   ]
  },
  {
   "cell_type": "markdown",
   "id": "395a319a-3f8b-410c-825f-8534c96bb8cb",
   "metadata": {},
   "source": [
    "The getter methods simply return the value of the instance variable, while the setter methods set the value of the instance variable to the provided value."
   ]
  },
  {
   "cell_type": "markdown",
   "id": "ec586d3c-4930-4d10-b4b9-03710046767f",
   "metadata": {},
   "source": [
    "Note that we have used underscores before the instance variable names to indicate that they are private variables. "
   ]
  },
  {
   "cell_type": "code",
   "execution_count": 12,
   "id": "daef9975-4aaf-492c-9a55-e7b1bbc527ea",
   "metadata": {},
   "outputs": [
    {
     "name": "stdout",
     "output_type": "stream",
     "text": [
      "Srinath\n",
      "Sudh\n",
      "23\n",
      "24\n"
     ]
    }
   ],
   "source": [
    "person = Person(\"Srinath\", 23)\n",
    "print(person.get_name())  \n",
    "person.set_name(\"Sudh\")\n",
    "print(person.get_name())\n",
    "print(person.get_age()) \n",
    "person.set_age(24)\n",
    "print(person.get_age())"
   ]
  },
  {
   "cell_type": "code",
   "execution_count": null,
   "id": "67127a5f-29c9-4ccd-a4df-ee93f8a08492",
   "metadata": {},
   "outputs": [],
   "source": [
    "Answer 5:"
   ]
  },
  {
   "cell_type": "markdown",
   "id": "93877637-7c0b-497a-b294-822aec7e4176",
   "metadata": {},
   "source": [
    "Method overriding is a feature of object-oriented programming where a subclass provides a different implementation of a method that is already defined in its superclass. This allows the subclass to provide a specialized implementation of a method that is specific to its needs."
   ]
  },
  {
   "cell_type": "code",
   "execution_count": 13,
   "id": "d7e0c4fd-d4fb-49bf-af30-fb348ec913aa",
   "metadata": {},
   "outputs": [],
   "source": [
    "class Animal:\n",
    "    def make_sound(self):\n",
    "        print(\"The animal makes a sound.\")\n",
    "\n",
    "class Cat(Animal):\n",
    "    def make_sound(self):\n",
    "        print(\"The cat meows.\")\n",
    "\n",
    "class Dog(Animal):\n",
    "    def make_sound(self):\n",
    "        print(\"The dog barks.\")"
   ]
  },
  {
   "cell_type": "code",
   "execution_count": 14,
   "id": "5ed5f84a-7e01-4588-a615-3ce8911872aa",
   "metadata": {},
   "outputs": [
    {
     "name": "stdout",
     "output_type": "stream",
     "text": [
      "The animal makes a sound.\n"
     ]
    }
   ],
   "source": [
    "animal = Animal()\n",
    "animal.make_sound()"
   ]
  },
  {
   "cell_type": "code",
   "execution_count": 15,
   "id": "02e74033-5f10-456e-b76b-610e2b31d1a7",
   "metadata": {},
   "outputs": [
    {
     "name": "stdout",
     "output_type": "stream",
     "text": [
      "The cat meows.\n"
     ]
    }
   ],
   "source": [
    "cat = Cat()\n",
    "cat.make_sound() "
   ]
  },
  {
   "cell_type": "code",
   "execution_count": 16,
   "id": "ddc9bef2-d051-4ef3-9fc6-21a2552f87be",
   "metadata": {},
   "outputs": [
    {
     "name": "stdout",
     "output_type": "stream",
     "text": [
      "The dog barks.\n"
     ]
    }
   ],
   "source": [
    "dog = Dog()\n",
    "dog.make_sound()"
   ]
  },
  {
   "cell_type": "markdown",
   "id": "06682a3f-9da0-4f9e-b3fe-6062112cb125",
   "metadata": {},
   "source": [
    "In this example, we define a base class Animal with a method make_sound that prints \"The animal makes a sound.\" We then define two subclasses Cat and Dog that inherit from the Animal class and override the make_sound method with their own implementations."
   ]
  },
  {
   "cell_type": "markdown",
   "id": "17a73a98-a115-4fac-ac0e-38f595c43a6c",
   "metadata": {},
   "source": [
    "When we create an instance of the Animal class and call the make_sound method, we get the default implementation defined in the base class."
   ]
  },
  {
   "cell_type": "markdown",
   "id": "143d03c9-f0b9-44e0-a8be-3365dc291a7e",
   "metadata": {},
   "source": [
    "When we create instances of the Cat and Dog classes and call their make_sound methods, we get the specialized implementation defined in each subclass."
   ]
  },
  {
   "cell_type": "code",
   "execution_count": null,
   "id": "5eac17de-e440-4f5c-b6f3-5fd64a6bc5bc",
   "metadata": {},
   "outputs": [],
   "source": []
  }
 ],
 "metadata": {
  "kernelspec": {
   "display_name": "Python 3 (ipykernel)",
   "language": "python",
   "name": "python3"
  },
  "language_info": {
   "codemirror_mode": {
    "name": "ipython",
    "version": 3
   },
   "file_extension": ".py",
   "mimetype": "text/x-python",
   "name": "python",
   "nbconvert_exporter": "python",
   "pygments_lexer": "ipython3",
   "version": "3.10.8"
  }
 },
 "nbformat": 4,
 "nbformat_minor": 5
}
