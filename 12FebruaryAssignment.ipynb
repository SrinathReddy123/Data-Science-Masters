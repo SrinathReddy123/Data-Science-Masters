{
 "cells": [
  {
   "cell_type": "code",
   "execution_count": null,
   "id": "6c01cdb1-39fe-417b-b80a-5deeb1204bea",
   "metadata": {},
   "outputs": [],
   "source": [
    "Answer 1:"
   ]
  },
  {
   "cell_type": "markdown",
   "id": "36ccbc78-2e0b-4cc2-ac19-bf12e5772e38",
   "metadata": {},
   "source": [
    "In Python, an exception is an error that occurs during the execution of a program. When an exception is raised, it interrupts the normal flow of the program and can be caught and handled by the program."
   ]
  },
  {
   "cell_type": "markdown",
   "id": "296be325-498b-4284-baac-11cadd9c7675",
   "metadata": {},
   "source": [
    "Exceptions can be raised by the interpreter, by built-in functions and methods, or by user-defined code. Common types of exceptions in Python include TypeError, ValueError, ZeroDivisionError, and FileNotFoundError, among others."
   ]
  },
  {
   "cell_type": "markdown",
   "id": "bf528b9d-df06-47d3-b9d6-03509588ca40",
   "metadata": {},
   "source": [
    "When an exception is raised, the Python interpreter prints a traceback that shows the sequence of function calls that led up to the exception, along with the type of exception and a message describing the error."
   ]
  },
  {
   "cell_type": "markdown",
   "id": "c9d61a4e-e919-4d80-ad2d-29eb3751a88b",
   "metadata": {},
   "source": [
    "Syntax errors, on the other hand, are errors that occur when the interpreter cannot parse the code due to a violation of the language syntax rules. Syntax errors are typically raised during the parsing phase of the program, before the program begins executing.\n",
    "\n",
    "Syntax errors can be found at compile time itself,Exceptions are raised at Run time(Execution time).\n",
    "First compilation happens then followed by Execution."
   ]
  },
  {
   "cell_type": "code",
   "execution_count": 1,
   "id": "1a3ce8ad-aac0-4219-839c-f6f14d27dba9",
   "metadata": {},
   "outputs": [
    {
     "ename": "SyntaxError",
     "evalue": "incomplete input (2687686074.py, line 2)",
     "output_type": "error",
     "traceback": [
      "\u001b[0;36m  Cell \u001b[0;32mIn[1], line 2\u001b[0;36m\u001b[0m\n\u001b[0;31m    print(\"Qwerty\"\u001b[0m\n\u001b[0m                  ^\u001b[0m\n\u001b[0;31mSyntaxError\u001b[0m\u001b[0;31m:\u001b[0m incomplete input\n"
     ]
    }
   ],
   "source": [
    "# Syntax error\n",
    "print(\"Qwerty\""
   ]
  },
  {
   "cell_type": "code",
   "execution_count": 2,
   "id": "85fd72bf-df97-4abf-9ea3-386795e5dc85",
   "metadata": {},
   "outputs": [
    {
     "ename": "ZeroDivisionError",
     "evalue": "division by zero",
     "output_type": "error",
     "traceback": [
      "\u001b[0;31m---------------------------------------------------------------------------\u001b[0m",
      "\u001b[0;31mZeroDivisionError\u001b[0m                         Traceback (most recent call last)",
      "Cell \u001b[0;32mIn[2], line 4\u001b[0m\n\u001b[1;32m      1\u001b[0m \u001b[38;5;66;03m# Here is an example of an exception:\u001b[39;00m\n\u001b[1;32m      2\u001b[0m \n\u001b[1;32m      3\u001b[0m \u001b[38;5;66;03m# Exception example\u001b[39;00m\n\u001b[0;32m----> 4\u001b[0m x \u001b[38;5;241m=\u001b[39m \u001b[38;5;241;43m10\u001b[39;49m\u001b[43m \u001b[49m\u001b[38;5;241;43m/\u001b[39;49m\u001b[43m \u001b[49m\u001b[38;5;241;43m0\u001b[39;49m\n",
      "\u001b[0;31mZeroDivisionError\u001b[0m: division by zero"
     ]
    }
   ],
   "source": [
    "# Here is an example of an exception:\n",
    "\n",
    "# Exception example\n",
    "x = 10 / 0"
   ]
  },
  {
   "cell_type": "code",
   "execution_count": null,
   "id": "a6c0d7d6-7787-4d58-b303-5be0d230b8af",
   "metadata": {},
   "outputs": [],
   "source": [
    "Answer 2:\n",
    "    "
   ]
  },
  {
   "cell_type": "markdown",
   "id": "f17febf5-9d37-4bd7-89a8-da19f5644f20",
   "metadata": {},
   "source": [
    "When an exception is not handled in a program, it will cause the program to terminate abruptly with an error message. This can make the program unusable and cause data loss or other problems."
   ]
  },
  {
   "cell_type": "code",
   "execution_count": 3,
   "id": "bb3c262a-5a9e-4e54-a47f-9e645d80d83b",
   "metadata": {},
   "outputs": [
    {
     "ename": "ZeroDivisionError",
     "evalue": "division by zero",
     "output_type": "error",
     "traceback": [
      "\u001b[0;31m---------------------------------------------------------------------------\u001b[0m",
      "\u001b[0;31mZeroDivisionError\u001b[0m                         Traceback (most recent call last)",
      "Cell \u001b[0;32mIn[3], line 2\u001b[0m\n\u001b[1;32m      1\u001b[0m \u001b[38;5;66;03m# Example of unhandled exception\u001b[39;00m\n\u001b[0;32m----> 2\u001b[0m x \u001b[38;5;241m=\u001b[39m \u001b[38;5;241;43m10\u001b[39;49m\u001b[43m \u001b[49m\u001b[38;5;241;43m/\u001b[39;49m\u001b[43m \u001b[49m\u001b[38;5;241;43m0\u001b[39;49m\n\u001b[1;32m      3\u001b[0m \u001b[38;5;28mprint\u001b[39m(\u001b[38;5;124m\"\u001b[39m\u001b[38;5;124mThis line will not be executed.\u001b[39m\u001b[38;5;124m\"\u001b[39m)\n",
      "\u001b[0;31mZeroDivisionError\u001b[0m: division by zero"
     ]
    }
   ],
   "source": [
    "# Example of unhandled exception\n",
    "x = 10 / 0\n",
    "print(\"This line will not be executed.\")"
   ]
  },
  {
   "cell_type": "markdown",
   "id": "538aa8b6-fb54-4aa6-8d93-2a48d06af731",
   "metadata": {},
   "source": [
    "In this example, the program attempts to divide the number 10 by zero, which raises a ZeroDivisionError exception. Since there is no exception handler to catch and handle the exception, the program will terminate with an error message:"
   ]
  },
  {
   "cell_type": "markdown",
   "id": "7d81791e-4398-4189-ac00-73776e571682",
   "metadata": {},
   "source": [
    "The line of code that follows the exception will not be executed, as the program has already terminated due to the unhandled exception when exceptions are not handled."
   ]
  },
  {
   "cell_type": "markdown",
   "id": "5cb9ceed-afa0-409c-95ff-1cdaf3686bdb",
   "metadata": {},
   "source": [
    "To avoid this problem, it's important to include exception handling in your programs, which allows you to catch and handle exceptions in a way that allows the program to continue running. Here's an example of how to catch and handle the ZeroDivisionError exception:"
   ]
  },
  {
   "cell_type": "code",
   "execution_count": null,
   "id": "543267bc-5cba-49f8-895a-4c7f8b767abd",
   "metadata": {},
   "outputs": [],
   "source": [
    "# Example of handled exception\n",
    "try:\n",
    "    x = 10 / 0\n",
    "except ZeroDivisionError:\n",
    "    print(\"Error: Cannot divide by zero.\")\n",
    "    \n",
    "print(\"This line will be executed.\")\n"
   ]
  },
  {
   "cell_type": "code",
   "execution_count": null,
   "id": "dd8a46cf-7a73-4076-a241-4aae019050d7",
   "metadata": {},
   "outputs": [],
   "source": [
    "Upon doing Exception Handling,the program won't terminate abruptly"
   ]
  },
  {
   "cell_type": "markdown",
   "id": "d48a53da-8fee-4682-8589-9138b17d7d3f",
   "metadata": {},
   "source": [
    "In this example, we use a try-except block to catch the ZeroDivisionError exception and print an error message. The program continues running after the exception is handled, and the line of code that follows the try-except block is executed."
   ]
  },
  {
   "cell_type": "code",
   "execution_count": null,
   "id": "e2376378-8e79-4424-91c6-b59e66d2de06",
   "metadata": {},
   "outputs": [],
   "source": [
    "Answer 3:\n",
    "    "
   ]
  },
  {
   "cell_type": "markdown",
   "id": "ae637bf6-3dd0-40f1-83fc-48f739ebf3ec",
   "metadata": {},
   "source": [
    "Python has a try-except statement that allows you to catch and handle exceptions that may occur during program execution.\n",
    "\n",
    "The try block contains the code that may raise an exception, and the except block catches and handles the exception."
   ]
  },
  {
   "cell_type": "code",
   "execution_count": 4,
   "id": "ab4b1474-4197-44e0-ae2a-9cf1f9619ea7",
   "metadata": {},
   "outputs": [
    {
     "name": "stdin",
     "output_type": "stream",
     "text": [
      "Enter a number:  0\n"
     ]
    },
    {
     "name": "stdout",
     "output_type": "stream",
     "text": [
      "Cannot divide by zero.\n"
     ]
    }
   ],
   "source": [
    "try:\n",
    "    x = int(input(\"Enter a number: \"))\n",
    "    y = 10 / x\n",
    "    print(\"The result is:\", y)\n",
    "except ValueError:\n",
    "    print(\"Invalid input. Please enter a number.\")\n",
    "except ZeroDivisionError:\n",
    "    print(\"Cannot divide by zero.\")\n"
   ]
  },
  {
   "cell_type": "markdown",
   "id": "721bfafe-3d1a-41b8-a6ab-09d28863786c",
   "metadata": {},
   "source": [
    "In this example, the user is prompted to enter a number, which is then converted to an integer and used to perform a division operation. The try block contains the code that may raise a ValueError if the user enters something that cannot be converted to an integer or a ZeroDivisionError if the user enters 0 as the input."
   ]
  },
  {
   "cell_type": "markdown",
   "id": "a9ef920c-31de-4047-b006-b51cffb77bb6",
   "metadata": {},
   "source": [
    "If an exception is raised in the try block, the corresponding except block is executed. For example, if the user enters a non-numeric input, the ValueError exception is raised and the except block that handles this exception will be executed, displaying the message \"Invalid input.\n",
    "\n",
    "Please enter a number.\" Similarly, if the user enters 0, the ZeroDivisionError exception is raised and the except block that handles this exception will be executed, displaying the message \"Cannot divide by zero.\""
   ]
  },
  {
   "cell_type": "code",
   "execution_count": 5,
   "id": "5762b756-f29d-491f-b5a0-321147a6ad05",
   "metadata": {},
   "outputs": [
    {
     "name": "stdout",
     "output_type": "stream",
     "text": [
      " this block will execute once try block will execute itself without an exception\n",
      "This will always be excuted\n"
     ]
    }
   ],
   "source": [
    "# else block will always be executed in 1 situation(If try block is able to get executed without any exception),\n",
    "# otherwise else block will never execute(If there is atleast one exception then else block will not gets \n",
    "#  executed)\n",
    "\n",
    "\n",
    "try:\n",
    "    f = open(\"test.txt\",\"w\")\n",
    "    f.write(\"This is my message\")\n",
    "\n",
    "except Exception as e :\n",
    "    print(\"there is some issue with my code\", e)\n",
    "else:\n",
    "    f.close()\n",
    "    print(\" this block will execute once try block will execute itself without an exception\")\n",
    "finally:\n",
    "    print(\"This will always be excuted\")   "
   ]
  },
  {
   "cell_type": "code",
   "execution_count": null,
   "id": "4f6bcad3-39e3-416a-8442-ebf1a39dd387",
   "metadata": {},
   "outputs": [],
   "source": [
    "# finally block will always be executed, irrespective of everything. Though there is an exception, even if we \n",
    "# don't handle it, and if finally block is present after try block then also finally block will be executed.\n",
    "\n",
    "\n",
    "# It doesn't matter what happened to our code.\n",
    "\n",
    "# we can keep code inside finally block, which we want always to get executed.  "
   ]
  },
  {
   "cell_type": "code",
   "execution_count": null,
   "id": "a964362a-5d12-4407-afb9-3f8157497b33",
   "metadata": {},
   "outputs": [],
   "source": []
  },
  {
   "cell_type": "code",
   "execution_count": null,
   "id": "d023393e-4189-40da-a154-d9f70f3eaae7",
   "metadata": {},
   "outputs": [],
   "source": [
    "Answer 5:"
   ]
  },
  {
   "cell_type": "markdown",
   "id": "bd8da0d2-5dae-4f6a-8eea-cf6f035273a4",
   "metadata": {},
   "source": [
    "Custom exceptions in Python are user-defined exceptions that can be raised by the programmer when certain conditions are met. These exceptions extend the built-in Exception class and provide a way to create and raise your own exceptions."
   ]
  },
  {
   "cell_type": "code",
   "execution_count": null,
   "id": "8f10f9e0-5e60-4685-a0b8-70630ece8340",
   "metadata": {},
   "outputs": [],
   "source": [
    "# There might be scenarios where programmers wants to throw an exception, not just only system raised exception."
   ]
  },
  {
   "cell_type": "markdown",
   "id": "3ed5989e-616a-4331-a4ac-ecc4ab9d3b62",
   "metadata": {},
   "source": [
    "We need custom exceptions in Python when we want to raise a specific type of exception that is not provided by the built-in exceptions.\n",
    "For example, you may want to raise an exception when a certain input value is out of a certain range, or when a file cannot be found in a specific location."
   ]
  },
  {
   "cell_type": "code",
   "execution_count": null,
   "id": "730558dd-1bf0-4e7f-8f74-f81161d031eb",
   "metadata": {},
   "outputs": [],
   "source": [
    "# Here's an example of a custom exception in Python:\n",
    "\n",
    "class NegativeNumberError(Exception):\n",
    "    def __init__(self, message):\n",
    "        self.message = message\n"
   ]
  },
  {
   "cell_type": "markdown",
   "id": "da4b6c42-9b6c-4997-aa98-1306bb80e800",
   "metadata": {},
   "source": [
    "In this example, we define a custom exception called NegativeNumberError. This exception is defined by creating a new class that extends the built-in Exception class. We also define a constructor method that takes a message argument and assigns it to an instance variable."
   ]
  },
  {
   "cell_type": "code",
   "execution_count": null,
   "id": "7e84bce9-031e-4d51-8a65-69eae161717c",
   "metadata": {},
   "outputs": [],
   "source": [
    "We can then raise this custom exception in our code like this:"
   ]
  },
  {
   "cell_type": "code",
   "execution_count": null,
   "id": "4ce163d0-5eda-4872-bab0-0c60172a7070",
   "metadata": {},
   "outputs": [],
   "source": [
    "def calculate_square_root(num):\n",
    "    if num < 0:\n",
    "        raise NegativeNumberError(\"Number cannot be negative\")\n",
    "    return math.sqrt(num)\n"
   ]
  },
  {
   "cell_type": "markdown",
   "id": "8145ae55-c04c-4960-978e-390d094b2e90",
   "metadata": {},
   "source": [
    "In this example, we define a function that calculates the square root of a number. We check if the input number is negative and, if it is, we raise the NegativeNumberError exception with a custom error message."
   ]
  },
  {
   "cell_type": "markdown",
   "id": "ee4f4e07-ce04-467e-93b3-023aa377410f",
   "metadata": {},
   "source": [
    "When we call this function with a negative number, it will raise the NegativeNumberError exception and display the error message we provided."
   ]
  },
  {
   "cell_type": "code",
   "execution_count": null,
   "id": "da527a97-1ce3-43b5-97a0-d5be49b6c1cf",
   "metadata": {},
   "outputs": [],
   "source": [
    "Answer 6:"
   ]
  },
  {
   "cell_type": "code",
   "execution_count": 10,
   "id": "392aa618-0899-429b-a0a4-104bf5208758",
   "metadata": {},
   "outputs": [],
   "source": [
    "class validateAgeClass(Exception):\n",
    "    def __init__(self,message):\n",
    "        self.msg = message"
   ]
  },
  {
   "cell_type": "code",
   "execution_count": 11,
   "id": "b5898744-496c-4f61-8a67-0d8b2d01b807",
   "metadata": {},
   "outputs": [],
   "source": [
    "# Raise is a reserved keyword in python, for raising an exception\n",
    "\n",
    "\n",
    "def validate_age(age):\n",
    "    if age < 0 :\n",
    "        raise validateAgeClass(\"Age should never be less than zero\")\n",
    "    elif age > 200 :\n",
    "        raise validateAgeClass(\"Age is too high\")\n",
    "    else:\n",
    "        print(\"Age is valid\")\n",
    "        "
   ]
  },
  {
   "cell_type": "code",
   "execution_count": 12,
   "id": "1c2773a5-8c2f-470a-9f85-3d0b280b0e3d",
   "metadata": {},
   "outputs": [
    {
     "name": "stdin",
     "output_type": "stream",
     "text": [
      "enter your age -234\n"
     ]
    },
    {
     "name": "stdout",
     "output_type": "stream",
     "text": [
      "Age should never be less than zero\n"
     ]
    }
   ],
   "source": [
    "try:\n",
    "    age = int(input(\"enter your age\"))\n",
    "    validate_age(age)\n",
    "except validateAgeClass as e:\n",
    "    print(e)"
   ]
  },
  {
   "cell_type": "code",
   "execution_count": null,
   "id": "56a791ef-1c8d-4ba0-85c8-cbe2974f65e4",
   "metadata": {},
   "outputs": [],
   "source": []
  }
 ],
 "metadata": {
  "kernelspec": {
   "display_name": "Python 3 (ipykernel)",
   "language": "python",
   "name": "python3"
  },
  "language_info": {
   "codemirror_mode": {
    "name": "ipython",
    "version": 3
   },
   "file_extension": ".py",
   "mimetype": "text/x-python",
   "name": "python",
   "nbconvert_exporter": "python",
   "pygments_lexer": "ipython3",
   "version": "3.10.8"
  }
 },
 "nbformat": 4,
 "nbformat_minor": 5
}
