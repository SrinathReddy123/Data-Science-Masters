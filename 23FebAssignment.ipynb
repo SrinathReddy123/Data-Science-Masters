{
 "cells": [
  {
   "cell_type": "code",
   "execution_count": null,
   "id": "e16c6e66-3e88-4c22-84ff-fb58cd567428",
   "metadata": {},
   "outputs": [],
   "source": [
    "Answer 1:"
   ]
  },
  {
   "cell_type": "code",
   "execution_count": 1,
   "id": "67efcd95-4b46-4690-8917-100f45123330",
   "metadata": {},
   "outputs": [
    {
     "name": "stdout",
     "output_type": "stream",
     "text": [
      "0     4\n",
      "1     8\n",
      "2    15\n",
      "3    16\n",
      "4    23\n",
      "5    42\n",
      "dtype: int64\n"
     ]
    }
   ],
   "source": [
    "import pandas as pd\n",
    "\n",
    "# Create a Pandas Series with the given data\n",
    "data = pd.Series([4, 8, 15, 16, 23, 42])\n",
    "\n",
    "# Print the series\n",
    "print(data)"
   ]
  },
  {
   "cell_type": "code",
   "execution_count": null,
   "id": "559de09a-8898-408c-ade0-201ecd4d0ab6",
   "metadata": {},
   "outputs": [],
   "source": [
    "Answer 2:"
   ]
  },
  {
   "cell_type": "code",
   "execution_count": 2,
   "id": "e008d1c1-9a2a-43e8-9201-e31a6cdf4889",
   "metadata": {},
   "outputs": [
    {
     "name": "stdout",
     "output_type": "stream",
     "text": [
      "0     1\n",
      "1     2\n",
      "2     3\n",
      "3     4\n",
      "4     5\n",
      "5     6\n",
      "6     7\n",
      "7     8\n",
      "8     9\n",
      "9    10\n",
      "dtype: int64\n"
     ]
    }
   ],
   "source": [
    "\n",
    "# Create a list of 10 elements\n",
    "my_list = [1, 2, 3, 4, 5, 6, 7, 8, 9, 10] \n",
    "\n",
    "# Convert the list to a Pandas Series\n",
    "my_series = pd.Series(my_list) \n",
    "\n",
    "# Print the series\n",
    "print(my_series)                          "
   ]
  },
  {
   "cell_type": "code",
   "execution_count": null,
   "id": "c8166b11-7628-4a50-873c-ab5eaff9abb7",
   "metadata": {},
   "outputs": [],
   "source": [
    "Answer 3:"
   ]
  },
  {
   "cell_type": "code",
   "execution_count": 3,
   "id": "3ca19777-f0c0-4685-a9c5-248ec63a6e06",
   "metadata": {},
   "outputs": [
    {
     "name": "stdout",
     "output_type": "stream",
     "text": [
      "     Name  Age  Gender\n",
      "0   Alice   25  Female\n",
      "1     Bob   30    Male\n",
      "2  Claire   27  Female\n"
     ]
    }
   ],
   "source": [
    "# Create a dictionary with the data\n",
    "data = {'Name': ['Alice', 'Bob', 'Claire'],\n",
    "        'Age': [25, 30, 27],\n",
    "        'Gender': ['Female', 'Male', 'Female']}\n",
    "\n",
    "# Create the DataFrame from the dictionary\n",
    "df = pd.DataFrame(data)\n",
    "\n",
    "# Print the DataFrame\n",
    "print(df)"
   ]
  },
  {
   "cell_type": "code",
   "execution_count": null,
   "id": "f4153980-d527-45d6-abd6-79e2335d903a",
   "metadata": {},
   "outputs": [],
   "source": [
    "Answer 4:"
   ]
  },
  {
   "cell_type": "markdown",
   "id": "8950782b-def5-400a-bfbb-834ba67a8628",
   "metadata": {},
   "source": [
    "In Pandas, a DataFrame is a two-dimensional tabular data structure that represents a collection of data organized in rows and columns. \n",
    "\n",
    "It is the most commonly used Pandas object and can be thought of as a spreadsheet or a SQL table. A DataFrame can be created from various data sources, such as lists, dictionaries, CSV files, Excel spreadsheets, and SQL databases."
   ]
  },
  {
   "cell_type": "markdown",
   "id": "ab019e53-b4f9-4b3a-8a83-cb71a58c87b7",
   "metadata": {},
   "source": [
    "On the other hand, a Pandas Series is a one-dimensional labeled array that represents a column of data. \n",
    "\n",
    "A Series can be created from a list, a dictionary, a NumPy array, or another Series.\n",
    "It has a one-dimensional shape and is labeled with an index that can be used to access individual elements."
   ]
  },
  {
   "cell_type": "code",
   "execution_count": 4,
   "id": "127f17e7-2f8e-4388-ae41-fc86a75e8043",
   "metadata": {},
   "outputs": [
    {
     "name": "stdout",
     "output_type": "stream",
     "text": [
      "     Name  Age  Gender\n",
      "0   Alice   25  Female\n",
      "1     Bob   30    Male\n",
      "2  Claire   27  Female\n",
      "0    25\n",
      "1    30\n",
      "2    27\n",
      "Name: Age, dtype: int64\n"
     ]
    }
   ],
   "source": [
    "# Create a dictionary with some data\n",
    "data = {'Name': ['Alice', 'Bob', 'Claire'],\n",
    "        'Age': [25, 30, 27],\n",
    "        'Gender': ['Female', 'Male', 'Female']}\n",
    "\n",
    "# Create a DataFrame from the dictionary\n",
    "df = pd.DataFrame(data)\n",
    "\n",
    "# Create a Series from the 'Age' column of the DataFrame\n",
    "age_series = df['Age']\n",
    "\n",
    "# Print the DataFrame and the Series\n",
    "print(df)\n",
    "print(age_series)"
   ]
  },
  {
   "cell_type": "markdown",
   "id": "bf9c62bf-6e0b-439a-8fa3-7e43912243a4",
   "metadata": {},
   "source": [
    "In this example, we first created a dictionary data with some data and then used it to create a Pandas DataFrame df. We then created a Series age_series by selecting the 'Age' column of the DataFrame. \n",
    "\n",
    "\n",
    "Note that the Series only contains the values of the 'Age' column and is labeled with the same index labels as the DataFrame. The DataFrame, on the other hand, contains all the columns of data and is labeled with both column names and index labels."
   ]
  },
  {
   "cell_type": "code",
   "execution_count": null,
   "id": "7f72b107-5d1c-4347-86d6-915d0b8222b7",
   "metadata": {},
   "outputs": [],
   "source": [
    "Answer 5:"
   ]
  },
  {
   "cell_type": "markdown",
   "id": "18509836-d3a0-4d34-a751-99554cd8ff73",
   "metadata": {},
   "source": [
    "Pandas provides a wide range of functions to manipulate data in a DataFrame. Here are some common functions:"
   ]
  },
  {
   "cell_type": "markdown",
   "id": "318f22cc-ca62-4e32-ac1d-7dd30686fe1f",
   "metadata": {},
   "source": [
    "1. head() and tail(): These functions allow you to view the first or last n rows of a DataFrame, respectively. For example, df.head() would display the first five rows of the DataFrame df.\n",
    "\n",
    "2. describe(): This function provides a statistical summary of the data in a DataFrame, including count, mean, standard deviation, minimum, and maximum values. For example, df.describe() would display the summary statistics for the DataFrame df.\n",
    "\n",
    "3. groupby(): This function allows you to group the data in a DataFrame by one or more columns and apply a function to each group. For example, df.groupby('Category').mean() would group the data in the DataFrame df by the 'Category' column and calculate the mean for each group.\n",
    "\n",
    "4. sort_values(): This function sorts the data in a DataFrame by one or more columns. For example, df.sort_values('Price') would sort the data in the DataFrame df by the 'Price' column in ascending order.\n",
    "\n",
    "5. drop(): This function allows you to remove one or more columns or rows from a DataFrame. For example, df.drop('Column1', axis=1) would remove the 'Column1' column from the DataFrame df.\n",
    "\n",
    "6. fillna(): This function allows you to fill missing values in a DataFrame with a specified value or method. For example, df.fillna(0) would fill all missing values in the DataFrame df with the value 0.\n",
    "\n"
   ]
  },
  {
   "cell_type": "markdown",
   "id": "9b23a8ce-898b-46a6-bec7-9da5ebc6348c",
   "metadata": {},
   "source": [
    "One example of when you might use these functions is when you are analyzing a dataset and want to view summary statistics or manipulate the data in some way. For instance, you might use head() to view the first few rows of a large DataFrame to get a sense of what the data looks like. \n",
    "\n",
    "Or you might use groupby() to group the data by a specific column and calculate the mean, median, or other statistic for each group. Similarly, you might use sort_values() to sort the data by a specific column to identify trends or outliers. These are just a few examples of the many functions available in Pandas for data manipulation."
   ]
  },
  {
   "cell_type": "code",
   "execution_count": null,
   "id": "25693262-a2fb-4528-9a6f-944b9bed6c28",
   "metadata": {},
   "outputs": [],
   "source": [
    "Answer 6:"
   ]
  },
  {
   "cell_type": "markdown",
   "id": "825f3f9d-42fa-4e42-bee4-936d3e3033c9",
   "metadata": {},
   "source": [
    "In Pandas, both Series and DataFrame are mutable in nature, meaning that you can modify their values, add or remove rows and columns, and perform other operations that change their contents."
   ]
  },
  {
   "cell_type": "markdown",
   "id": "452f6a2b-548d-459f-911b-4707f2f39cc1",
   "metadata": {},
   "source": [
    "On the other hand, Panel is an N-dimensional array-like data structure that has been deprecated since version 0.25.0 and has been replaced by other data structures like MultiIndex and xarray. Therefore, it is not recommended to use Panel in current versions of Pandas."
   ]
  },
  {
   "cell_type": "code",
   "execution_count": null,
   "id": "9beea9e0-8085-4dec-acfa-f2b1b91eef44",
   "metadata": {},
   "outputs": [],
   "source": [
    "Answer 7:"
   ]
  },
  {
   "cell_type": "markdown",
   "id": "ede879cf-c776-42e4-b431-7bf5ce1b0f79",
   "metadata": {},
   "source": [
    "To create a DataFrame using multiple Series, we can use the pd.DataFrame() function in Pandas and pass a dictionary where the keys are the column names and the values are the Series. \n",
    "\n",
    "Here is an example:"
   ]
  },
  {
   "cell_type": "code",
   "execution_count": 5,
   "id": "dad63037-0657-47db-9e27-4244c3d4fefa",
   "metadata": {},
   "outputs": [
    {
     "name": "stdout",
     "output_type": "stream",
     "text": [
      "     Name  Age  Gender\n",
      "0   Alice   25  Female\n",
      "1     Bob   30    Male\n",
      "2  Claire   27  Female\n"
     ]
    }
   ],
   "source": [
    "# Create Series for Name, Age, and Gender\n",
    "names = pd.Series(['Alice', 'Bob', 'Claire'])\n",
    "ages = pd.Series([25, 30, 27])\n",
    "genders = pd.Series(['Female', 'Male', 'Female'])\n",
    "\n",
    "# Create DataFrame using Series\n",
    "df = pd.DataFrame({'Name': names, 'Age': ages, 'Gender': genders})\n",
    "\n",
    "# Print DataFrame\n",
    "print(df)"
   ]
  },
  {
   "cell_type": "markdown",
   "id": "f5a847d1-a87a-4e9b-8155-4d843f142f8d",
   "metadata": {},
   "source": [
    "In this example, we first create three Series for the 'Name', 'Age', and 'Gender' columns. \n",
    "\n",
    "We then create a DataFrame by passing a dictionary to the pd.DataFrame() function, where the keys are the column names and the values are the Series. Finally, we print the DataFrame using the print() function.\n",
    "\n",
    "The resulting DataFrame has three columns ('Name', 'Age', and 'Gender') and three rows of data."
   ]
  }
 ],
 "metadata": {
  "kernelspec": {
   "display_name": "Python 3 (ipykernel)",
   "language": "python",
   "name": "python3"
  },
  "language_info": {
   "codemirror_mode": {
    "name": "ipython",
    "version": 3
   },
   "file_extension": ".py",
   "mimetype": "text/x-python",
   "name": "python",
   "nbconvert_exporter": "python",
   "pygments_lexer": "ipython3",
   "version": "3.10.8"
  }
 },
 "nbformat": 4,
 "nbformat_minor": 5
}
