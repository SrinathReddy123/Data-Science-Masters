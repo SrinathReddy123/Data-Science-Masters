{
 "cells": [
  {
   "cell_type": "code",
   "execution_count": 1,
   "id": "6138dee3-5a39-4b62-ac0f-d43cf16fec33",
   "metadata": {},
   "outputs": [],
   "source": [
    "# Answer 1:\n",
    "\n",
    "\n",
    "list1 = [1,2,3,4, [44,55,66, True], False, (34,56,78,89,34), {1,2,3,3,2,1}, {1:34, \"key2\": [55, 67, 78, 89], 4: (45, \n",
    "22, 61, 34)}, [56, 'data science'], 'Machine Learning']"
   ]
  },
  {
   "cell_type": "code",
   "execution_count": 2,
   "id": "e27675f6-6aef-44fe-9428-097544be01e5",
   "metadata": {},
   "outputs": [],
   "source": [
    "s1 = \"string\""
   ]
  },
  {
   "cell_type": "code",
   "execution_count": 3,
   "id": "aeefabd4-bd16-450d-9373-128f9e8f9dde",
   "metadata": {},
   "outputs": [
    {
     "data": {
      "text/plain": [
       "str"
      ]
     },
     "execution_count": 3,
     "metadata": {},
     "output_type": "execute_result"
    }
   ],
   "source": [
    "type(s1)"
   ]
  },
  {
   "cell_type": "code",
   "execution_count": 4,
   "id": "0c59c1a1-266f-4420-b379-6d8a364db685",
   "metadata": {},
   "outputs": [],
   "source": [
    "list_numbers = []"
   ]
  },
  {
   "cell_type": "code",
   "execution_count": 5,
   "id": "b0f2a38d-8665-416e-ba84-50a36ab0080e",
   "metadata": {},
   "outputs": [],
   "source": [
    "# Traverse the list and check what type of each element in list1 is:\n",
    "# If element is a collection, then traverse the collection\n",
    "\n",
    "\n",
    "product = 1\n",
    "def range_numbers(l):\n",
    "    for element in l:\n",
    "        if isinstance(element,list):\n",
    "            for item in element:\n",
    "                if isinstance(item,int):\n",
    "                    list_numbers.append(item)\n",
    "            \n",
    "        \n",
    "        elif isinstance(element,tuple):\n",
    "             for item in element:\n",
    "                if isinstance(item,int):\n",
    "                    list_numbers.append(item)\n",
    "                \n",
    "        elif isinstance(element,set): \n",
    "            for item in element:\n",
    "                if isinstance(item,int):\n",
    "                    list_numbers.append(item)\n",
    "                \n",
    "        \n",
    "        \n",
    "        elif isinstance(element, dict):\n",
    "            for key, value in element.items():\n",
    "                print(key,value)\n",
    "            \n",
    "            for key, value in element.items():\n",
    "                if isinstance(key, int):\n",
    "                    list_numbers.append(key)\n",
    "                if isinstance(value, list):\n",
    "                    for item in value:\n",
    "                        if isinstance(item, int):\n",
    "                            list_numbers.append(item)\n",
    "                if isinstance(value, tuple):\n",
    "                    for item in value:\n",
    "                        if isinstance(item, int):\n",
    "                            list_numbers.append(item)    \n",
    "                if isinstance(value, int):\n",
    "                    list_numbers.append(value)\n",
    "                \n",
    "        elif isinstance(element,(str,bool)):\n",
    "            pass\n",
    "        elif isinstance(element,int): \n",
    "            list_numbers.append(element)\n",
    "            \n",
    "        \n",
    "    return list_numbers    \n",
    "        \n",
    "                \n",
    "                \n",
    "                \n",
    "        \n",
    "        \n",
    "        \n",
    "    "
   ]
  },
  {
   "cell_type": "markdown",
   "id": "c7e0faf7-0476-46b0-8986-007628d49c5a",
   "metadata": {},
   "source": [
    "The code checks the type of each element in the given list using isinstance() function."
   ]
  },
  {
   "cell_type": "code",
   "execution_count": 6,
   "id": "3ce69c5b-2fb0-43cb-8849-e0975d7f4185",
   "metadata": {},
   "outputs": [
    {
     "name": "stdout",
     "output_type": "stream",
     "text": [
      "1 34\n",
      "key2 [55, 67, 78, 89]\n",
      "4 (45, 22, 61, 34)\n"
     ]
    },
    {
     "data": {
      "text/plain": [
       "[1,\n",
       " 2,\n",
       " 3,\n",
       " 4,\n",
       " 44,\n",
       " 55,\n",
       " 66,\n",
       " True,\n",
       " 34,\n",
       " 56,\n",
       " 78,\n",
       " 89,\n",
       " 34,\n",
       " 1,\n",
       " 2,\n",
       " 3,\n",
       " 1,\n",
       " 34,\n",
       " 55,\n",
       " 67,\n",
       " 78,\n",
       " 89,\n",
       " 4,\n",
       " 45,\n",
       " 22,\n",
       " 61,\n",
       " 34,\n",
       " 56]"
      ]
     },
     "execution_count": 6,
     "metadata": {},
     "output_type": "execute_result"
    }
   ],
   "source": [
    "range_numbers(list1)"
   ]
  },
  {
   "cell_type": "code",
   "execution_count": 7,
   "id": "732d6711-68d4-4b89-9d45-afdbb4ed6834",
   "metadata": {},
   "outputs": [
    {
     "name": "stdout",
     "output_type": "stream",
     "text": [
      "1 34\n",
      "key2 [55, 67, 78, 89]\n",
      "4 (45, 22, 61, 34)\n",
      "17095841991459966273878701380070854690499765716118883002220544000000\n"
     ]
    }
   ],
   "source": [
    "product = 1\n",
    "for i in range_numbers(list1):\n",
    "    product = product * i\n",
    "print(product)    "
   ]
  },
  {
   "cell_type": "code",
   "execution_count": null,
   "id": "79e0f054-85f9-4498-9583-2894f0243b51",
   "metadata": {},
   "outputs": [],
   "source": [
    "Answer 2 : "
   ]
  },
  {
   "cell_type": "code",
   "execution_count": 8,
   "id": "e2ce6ca3-7ba1-4b6d-ae82-d2803491e8a0",
   "metadata": {},
   "outputs": [],
   "source": [
    "def encrypt_message(message):\n",
    "    # Convert the message to lowercase\n",
    "    message = message.lower()\n",
    "\n",
    "    # Create a translation table to map each letter to its corresponding encrypted letter\n",
    "    translation_table = str.maketrans(\"abcdefghijklmnopqrstuvwxyz \", \"zyxwvutsrqponmlkjihgfedcba$\")\n",
    "\n",
    "    # Use the translation table to encrypt the message\n",
    "    encrypted_message = message.translate(translation_table)\n",
    "\n",
    "    return encrypted_message"
   ]
  },
  {
   "cell_type": "code",
   "execution_count": 9,
   "id": "f9c9d92f-e3b0-42e6-9794-19ab8d500e5a",
   "metadata": {},
   "outputs": [
    {
     "name": "stdout",
     "output_type": "stream",
     "text": [
      "r$dzmg$gl$yvxlnv$z$wzgz$hxrvmgrhg.\n"
     ]
    }
   ],
   "source": [
    "input_sentence = \"I want to become a Data Scientist.\"\n",
    "encrypted_sentence = encrypt_message(input_sentence)\n",
    "print(encrypted_sentence)"
   ]
  },
  {
   "cell_type": "code",
   "execution_count": null,
   "id": "e75fbc0a-d787-4735-a254-2e6ee7c5eb4f",
   "metadata": {},
   "outputs": [],
   "source": []
  }
 ],
 "metadata": {
  "kernelspec": {
   "display_name": "Python 3 (ipykernel)",
   "language": "python",
   "name": "python3"
  },
  "language_info": {
   "codemirror_mode": {
    "name": "ipython",
    "version": 3
   },
   "file_extension": ".py",
   "mimetype": "text/x-python",
   "name": "python",
   "nbconvert_exporter": "python",
   "pygments_lexer": "ipython3",
   "version": "3.10.8"
  }
 },
 "nbformat": 4,
 "nbformat_minor": 5
}
