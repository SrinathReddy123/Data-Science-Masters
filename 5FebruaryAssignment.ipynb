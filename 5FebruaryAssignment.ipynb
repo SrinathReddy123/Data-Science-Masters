{
 "cells": [
  {
   "cell_type": "markdown",
   "id": "2553b830-0e81-4fd5-8a35-38d3cacf5a0f",
   "metadata": {},
   "source": [
    "In object-oriented programming (OOP), a class is a blueprint or template for creating objects that define a set of attributes and methods that the objects will possess. "
   ]
  },
  {
   "cell_type": "markdown",
   "id": "9f5ffb64-1806-4aed-bc23-a8985324c67a",
   "metadata": {},
   "source": [
    " An object is an instance of a class, which can be created using the \"classname\" of that class.\n",
    " Each object created from a class has its own set of attributes and methods that can be manipulated and used independently."
   ]
  },
  {
   "cell_type": "markdown",
   "id": "c0a414cd-5eca-46e3-8f3c-acad6b8d8761",
   "metadata": {},
   "source": [
    "A class is defined using the class keyword followed by the class name, and may include a constructor method called __init__(), as well as other methods that define the behavior of the object.\n",
    "\n",
    "The attributes of the object are defined as instance variables, which can be accessed using the self keyword."
   ]
  },
  {
   "cell_type": "code",
   "execution_count": null,
   "id": "7205c9da-d75f-45dc-a155-93240ac3ee19",
   "metadata": {},
   "outputs": [],
   "source": []
  },
  {
   "cell_type": "code",
   "execution_count": 1,
   "id": "e0dd93ef-b941-4cad-8d5a-ab8b7499555f",
   "metadata": {},
   "outputs": [],
   "source": [
    "class Person:\n",
    "    def __init__(self, name, age):\n",
    "        self.name = name\n",
    "        self.age = age\n",
    "\n",
    "    def greet(self):\n",
    "        print(f\"Hello, my name is {self.name} and I'm {self.age} years old.\")\n",
    "\n",
    "    def have_birthday(self):\n",
    "        self.age += 1\n",
    "        print(f\"Happy birthday! You are now {self.age} years old.\")\n"
   ]
  },
  {
   "cell_type": "markdown",
   "id": "770a0931-17df-4978-a383-d5105771cc24",
   "metadata": {},
   "source": [
    "In this example, the Person class has two attributes: name and age. The __init__() method is the constructor for the class, which is called when a new object of the Person class is created. The greet() method prints a message to introduce the person, while the have_birthday() method increments the age of the person and prints a message to celebrate the birthday."
   ]
  },
  {
   "cell_type": "markdown",
   "id": "e206c692-7d6f-4234-802f-0b6f785b8a5a",
   "metadata": {},
   "source": [
    "We can create new objects of the Person class by calling the class name and passing the necessary arguments to the constructor method:"
   ]
  },
  {
   "cell_type": "code",
   "execution_count": 2,
   "id": "07029197-3cee-449c-a140-1b6d92c9ac9e",
   "metadata": {},
   "outputs": [],
   "source": [
    "person1 = Person(\"Srinath\", 23)\n",
    "person2 = Person(\"Ravi\", 23)"
   ]
  },
  {
   "cell_type": "markdown",
   "id": "1cd9d842-cac9-48b9-91fb-a0b99c8f415a",
   "metadata": {},
   "source": [
    "In this example, we have created two new objects, person1 and person2, which are instances of the Person class. \n",
    "Each object has its own set of attributes that can be accessed and manipulated independently:"
   ]
  },
  {
   "cell_type": "code",
   "execution_count": 3,
   "id": "cecef5da-1340-47f1-beed-21580b8f28df",
   "metadata": {},
   "outputs": [
    {
     "name": "stdout",
     "output_type": "stream",
     "text": [
      "Srinath\n",
      "23\n",
      "Happy birthday! You are now 24 years old.\n",
      "Hello, my name is Ravi and I'm 23 years old.\n"
     ]
    }
   ],
   "source": [
    "print(person1.name)  \n",
    "print(person2.age)  \n",
    "person1.have_birthday() \n",
    "person2.greet() "
   ]
  },
  {
   "cell_type": "markdown",
   "id": "dab51832-6b6a-432d-a658-c36724951e37",
   "metadata": {},
   "source": [
    "Answer 2:"
   ]
  },
  {
   "cell_type": "markdown",
   "id": "b1d8ad1a-bfb0-4669-a42a-154246b95142",
   "metadata": {},
   "source": [
    "The four pillars of Object-Oriented Programming (OOP) are:\n",
    "\n",
    "1. Encapsulation: This refers to the bundling of data and methods that act on that data into a single unit, i.e., a class. The data is typically hidden from outside access and can only be accessed through the methods provided by the class.\n",
    "\n",
    "2. Inheritance: This allows classes to inherit properties and methods from a parent class. This can help to reduce code duplication and improve code organization.\n",
    "\n",
    "3. Polymorphism: This allows objects of different classes to be treated as if they are of the same class, through the use of inheritance and interfaces. This can make code more flexible and extensible.\n",
    "\n",
    "4. Abstraction: This refers to the concept of focusing on the essential features of an object, while ignoring the details that are not relevant to its current use. This can help to reduce complexity and make code easier to understand and maintain.\n",
    "\n",
    "\n",
    "\n",
    "\n"
   ]
  },
  {
   "cell_type": "code",
   "execution_count": null,
   "id": "6767fe63-7d5b-4bc6-afcb-1b2ac63462e9",
   "metadata": {},
   "outputs": [],
   "source": [
    "Answer 3:"
   ]
  },
  {
   "cell_type": "markdown",
   "id": "89b15b55-344e-491e-94ec-859bfa4fb9aa",
   "metadata": {},
   "source": [
    "In Python, the __init__() function is used as a constructor for a class, and it gets called automatically when an object of the class is created. The purpose of the __init__() function is to initialize the attributes of an object with default or user-defined values."
   ]
  },
  {
   "cell_type": "code",
   "execution_count": 4,
   "id": "a7b140de-db34-437c-a61d-f64b7d91727f",
   "metadata": {},
   "outputs": [
    {
     "name": "stdout",
     "output_type": "stream",
     "text": [
      "200\n"
     ]
    }
   ],
   "source": [
    "class Rectangle:\n",
    "    def __init__(self, width, height):\n",
    "        self.width = width\n",
    "        self.height = height\n",
    "\n",
    "    def area(self):\n",
    "        return self.width * self.height\n",
    "\n",
    "rect1 = Rectangle(10, 20)\n",
    "print(rect1.area())  # Output: 200\n"
   ]
  },
  {
   "cell_type": "markdown",
   "id": "b66c2059-b228-494c-a942-de6f462e570f",
   "metadata": {},
   "source": [
    "In this example, we define a Rectangle class with two attributes: width and height. The __init__() function takes two parameters, width and height, and sets the corresponding instance attributes.\n",
    "\n",
    "When we create an object of the Rectangle class, such as rect1, the __init__() function is automatically called with the provided arguments, and the object's attributes are initialized with those values."
   ]
  },
  {
   "cell_type": "markdown",
   "id": "8090870d-0696-4215-8f40-db43afe581ee",
   "metadata": {},
   "source": [
    "Finally, we call the area() method on rect1 to calculate its area, which is 200 in this case.\n",
    "\n",
    "Thus, the __init__() function is an essential part of object-oriented programming, as it helps to ensure that objects are initialized properly and consistently, and that their attributes are set to appropriate values."
   ]
  },
  {
   "cell_type": "code",
   "execution_count": null,
   "id": "f3d89f91-856b-4b1a-9c61-3aec32d811a5",
   "metadata": {},
   "outputs": [],
   "source": [
    "Answer 4:"
   ]
  },
  {
   "cell_type": "markdown",
   "id": "037cdcc2-0fc6-4722-b9f6-973ee68abf80",
   "metadata": {},
   "source": [
    "In object-oriented programming, self is a reference to the current object, i.e., the object that is being operated on. It is a convention in Python (and some other object-oriented languages) to name this parameter self, although it can be named something else if desired."
   ]
  },
  {
   "cell_type": "markdown",
   "id": "b73d18cd-4686-48f5-b81c-36c927459ec9",
   "metadata": {},
   "source": [
    "The purpose of self is to allow instance methods of a class to access and modify the attributes of the object they belong to. By using self as a parameter in a method, we can access the attributes and methods of the object that the method belongs to."
   ]
  },
  {
   "cell_type": "markdown",
   "id": "a840ef1d-575b-4c5e-930c-b24f49ce31c9",
   "metadata": {},
   "source": [
    "class Person:\n",
    "    def __init__(self, name, age):\n",
    "        self.name = name\n",
    "        self.age = age\n",
    "\n",
    "    def introduce(self):\n",
    "        print(f\"My name is {self.name}, and I am {self.age} years old.\")\n",
    "\n",
    "p1 = Person(\"Srinath\", 23)\n",
    "p1.introduce()  # Output: My name is Alice, and I am 25 years old.\n"
   ]
  },
  {
   "cell_type": "markdown",
   "id": "1e71b58a-6fce-4d09-bc76-5814603c8a60",
   "metadata": {},
   "source": [
    "In this example, the Person class has two attributes, name and age, and a method called introduce(). The introduce() method uses self.name and self.age to access the object's name and age attributes and print out a message.\n",
    "\n",
    "When we create an instance of the Person class and call the introduce() method on it, the self parameter refers to the p1 object, and the method can access and print the values of its attributes."
   ]
  },
  {
   "cell_type": "markdown",
   "id": "1ec3d9dd-50d2-41ec-9dbe-772f25f6f3f1",
   "metadata": {},
   "source": [
    "In summary, self is used in OOPs to allow instance methods to access and modify the attributes and methods of the object they belong to."
   ]
  },
  {
   "cell_type": "code",
   "execution_count": null,
   "id": "35c7c6a7-a04b-4cc6-8d7a-ceaef496f578",
   "metadata": {},
   "outputs": [],
   "source": [
    "Answer 5:\n",
    "    "
   ]
  },
  {
   "cell_type": "markdown",
   "id": "ae2f29c4-0b9e-41bd-ad47-cfeec93f3fed",
   "metadata": {},
   "source": [
    "Inheritance is a fundamental concept in object-oriented programming (OOP) that allows classes to inherit properties and behaviors from parent classes.\n",
    "Inheritance enables code reusability, reduces code redundancy, and improves code organization."
   ]
  },
  {
   "cell_type": "markdown",
   "id": "ffa602df-ea18-4db7-9b7a-3435570354c0",
   "metadata": {},
   "source": [
    "In Python, there are three types of inheritance:\n",
    "    \n",
    "Single inheritance: In this type of inheritance, a class inherits properties and methods from a single parent class.    "
   ]
  },
  {
   "cell_type": "code",
   "execution_count": 8,
   "id": "48c93e73-bf09-43da-b0b9-cf3fd8071862",
   "metadata": {},
   "outputs": [],
   "source": [
    "class Animal:\n",
    "    def __init__(self, name):\n",
    "        self.name = name\n",
    "    \n",
    "    def sound(self):\n",
    "        pass\n",
    "\n",
    "class Cat(Animal):\n",
    "    def sound(self):\n",
    "        return \"Meow\"\n",
    "\n",
    " \n"
   ]
  },
  {
   "cell_type": "code",
   "execution_count": 9,
   "id": "3e12b87b-cc00-4708-b3bb-b90f16b66f13",
   "metadata": {},
   "outputs": [
    {
     "name": "stdout",
     "output_type": "stream",
     "text": [
      "Fluffy\n",
      "Meow\n"
     ]
    }
   ],
   "source": [
    "c = Cat(\"Fluffy\")\n",
    "print(c.name)   \n",
    "print(c.sound()) "
   ]
  },
  {
   "cell_type": "markdown",
   "id": "5ea7ee19-4db4-43aa-83aa-2249492101de",
   "metadata": {},
   "source": [
    "In this example, we have a Animal class with an __init__() method and a sound() method. The Cat class inherits from Animal and overrides the sound() method with its own implementation. When we create an instance of the Cat class and call its name and sound() methods, it prints the name and sound of the cat."
   ]
  },
  {
   "cell_type": "markdown",
   "id": "0d6a6631-f6c3-470d-82f1-194bfd947a64",
   "metadata": {},
   "source": [
    "2. Multiple inheritance: In this type of inheritance, a class inherits properties and methods from multiple parent classes."
   ]
  },
  {
   "cell_type": "code",
   "execution_count": 11,
   "id": "39e85b6e-d1e1-4ddc-9abe-c3facddc751f",
   "metadata": {},
   "outputs": [],
   "source": [
    "class A:\n",
    "    def method1(self):\n",
    "        print(\"Method 1 of class A\")\n",
    "        \n",
    "class B:\n",
    "    def method2(self):\n",
    "        print(\"Method 2 of class B\")\n",
    "        \n",
    "class C(A, B):\n",
    "    def method3(self):\n",
    "        print(\"Method 3 of class C\")\n",
    "        \n",
    "\n"
   ]
  },
  {
   "cell_type": "code",
   "execution_count": 12,
   "id": "6ece447f-682e-4ae1-a391-5e247b44995c",
   "metadata": {},
   "outputs": [
    {
     "name": "stdout",
     "output_type": "stream",
     "text": [
      "Method 1 of class A\n",
      "Method 2 of class B\n",
      "Method 3 of class C\n"
     ]
    }
   ],
   "source": [
    "c = C()\n",
    "c.method1() \n",
    "c.method2() \n",
    "c.method3() "
   ]
  },
  {
   "cell_type": "markdown",
   "id": "d2950ac9-3ed9-455e-a915-19552f119657",
   "metadata": {},
   "source": [
    "In this example, we have three classes, A, B, and C. The C class inherits from both A and B and can access the methods of both classes. When we create an instance of the C class and call its methods, it prints the messages of all three methods."
   ]
  },
  {
   "cell_type": "markdown",
   "id": "5892d3a2-33bd-4651-b10a-579156af155f",
   "metadata": {},
   "source": [
    "3. Multi-level inheritance: In this type of inheritance, a class inherits properties and methods from a parent class, which itself inherits from another parent class."
   ]
  },
  {
   "cell_type": "code",
   "execution_count": 13,
   "id": "f87fd1d1-7bb1-45bc-965d-3124c160a87a",
   "metadata": {},
   "outputs": [],
   "source": [
    "class A:\n",
    "    def method1(self):\n",
    "        print(\"Method 1 of class A\")\n",
    "        \n",
    "class B(A):\n",
    "    def method2(self):\n",
    "        print(\"Method 2 of class B\")\n",
    "        \n",
    "class C(B):\n",
    "    def method3(self):\n",
    "        print(\"Method 3 of class C\")\n",
    "        \n",
    "\n"
   ]
  },
  {
   "cell_type": "code",
   "execution_count": 14,
   "id": "5230624f-90c2-473a-8c13-08a12cd60b9e",
   "metadata": {},
   "outputs": [
    {
     "name": "stdout",
     "output_type": "stream",
     "text": [
      "Method 1 of class A\n",
      "Method 2 of class B\n",
      "Method 3 of class C\n"
     ]
    }
   ],
   "source": [
    "c = C()\n",
    "c.method1() \n",
    "c.method2()  \n",
    "c.method3()  "
   ]
  },
  {
   "cell_type": "markdown",
   "id": "2d165f39-69f7-4f89-9c52-0a39e23c0351",
   "metadata": {},
   "source": [
    "In this example, we have three classes, A, B, and C. The B class inherits from A, and the C class inherits from B. When we create an instance of the C class and call its methods, it can access all the methods of A, B, and C."
   ]
  }
 ],
 "metadata": {
  "kernelspec": {
   "display_name": "Python 3 (ipykernel)",
   "language": "python",
   "name": "python3"
  },
  "language_info": {
   "codemirror_mode": {
    "name": "ipython",
    "version": 3
   },
   "file_extension": ".py",
   "mimetype": "text/x-python",
   "name": "python",
   "nbconvert_exporter": "python",
   "pygments_lexer": "ipython3",
   "version": "3.10.8"
  }
 },
 "nbformat": 4,
 "nbformat_minor": 5
}
