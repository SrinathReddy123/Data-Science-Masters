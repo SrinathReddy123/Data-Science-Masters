{
 "cells": [
  {
   "cell_type": "code",
   "execution_count": 1,
   "id": "2e5f1334-43d3-4cd9-b4c0-a2488a38d012",
   "metadata": {},
   "outputs": [],
   "source": [
    "import numpy as np"
   ]
  },
  {
   "cell_type": "code",
   "execution_count": null,
   "id": "f732374c-0ac9-43bd-91e2-899f986a885b",
   "metadata": {},
   "outputs": [],
   "source": [
    "#Numpy - Array Manipulation."
   ]
  },
  {
   "cell_type": "code",
   "execution_count": 2,
   "id": "7127510e-32c7-47a8-bd05-f57023dca3ae",
   "metadata": {},
   "outputs": [],
   "source": [
    "# generates random integers in range of (1,10) as 2D Array, whose size is 4*4\n",
    "\n",
    "arr = np.random.randint(1,10 , (4,4))"
   ]
  },
  {
   "cell_type": "code",
   "execution_count": 3,
   "id": "d4e7c628-5312-47d8-95bc-a71b42293ae3",
   "metadata": {},
   "outputs": [
    {
     "data": {
      "text/plain": [
       "array([[1, 3, 2, 7],\n",
       "       [9, 8, 9, 5],\n",
       "       [4, 4, 3, 9],\n",
       "       [3, 2, 4, 2]])"
      ]
     },
     "execution_count": 3,
     "metadata": {},
     "output_type": "execute_result"
    }
   ],
   "source": [
    "arr"
   ]
  },
  {
   "cell_type": "code",
   "execution_count": 4,
   "id": "c57bfabd-5a27-4d35-b859-f5927dbaf03f",
   "metadata": {},
   "outputs": [
    {
     "data": {
      "text/plain": [
       "array([[1, 3],\n",
       "       [2, 7],\n",
       "       [9, 8],\n",
       "       [9, 5],\n",
       "       [4, 4],\n",
       "       [3, 9],\n",
       "       [3, 2],\n",
       "       [4, 2]])"
      ]
     },
     "execution_count": 4,
     "metadata": {},
     "output_type": "execute_result"
    }
   ],
   "source": [
    "# changing the shape of array, such that total no.of elements in new shape must be equal to no.of elements in \n",
    "# actual array.\n",
    "\n",
    "arr.reshape(8,2)"
   ]
  },
  {
   "cell_type": "code",
   "execution_count": 5,
   "id": "5a19800d-2853-4707-9b8d-657169934caa",
   "metadata": {},
   "outputs": [
    {
     "data": {
      "text/plain": [
       "array([[1, 3, 2, 7],\n",
       "       [9, 8, 9, 5],\n",
       "       [4, 4, 3, 9],\n",
       "       [3, 2, 4, 2]])"
      ]
     },
     "execution_count": 5,
     "metadata": {},
     "output_type": "execute_result"
    }
   ],
   "source": [
    "arr"
   ]
  },
  {
   "cell_type": "code",
   "execution_count": 6,
   "id": "5ddfbc4a-5fc0-4598-af57-265617057f84",
   "metadata": {},
   "outputs": [
    {
     "data": {
      "text/plain": [
       "array([[1, 9, 4, 3],\n",
       "       [3, 8, 4, 2],\n",
       "       [2, 9, 3, 4],\n",
       "       [7, 5, 9, 2]])"
      ]
     },
     "execution_count": 6,
     "metadata": {},
     "output_type": "execute_result"
    }
   ],
   "source": [
    "# Transpose : rows and columns are interchanged.\n",
    "\n",
    "arr.T\n",
    "\n",
    "# arr.T is a property used in Python to get the transpose of a NumPy array arr\n",
    "\n",
    "# The property returns a view of the original array with its axes transposed, i.e., the rows become columns and\n",
    "# the columns become rows."
   ]
  },
  {
   "cell_type": "code",
   "execution_count": 7,
   "id": "37ada3a3-964c-4aca-9e6b-49782808a214",
   "metadata": {},
   "outputs": [
    {
     "data": {
      "text/plain": [
       "array([1, 3, 2, 7, 9, 8, 9, 5, 4, 4, 3, 9, 3, 2, 4, 2])"
      ]
     },
     "execution_count": 7,
     "metadata": {},
     "output_type": "execute_result"
    }
   ],
   "source": [
    "# arr.flatten() is a method used in Python to convert a multi-dimensional array arr into a one-dimensional array. \n",
    "\n",
    "arr.flatten()\n",
    "\n",
    "# The method returns a copy of the original array with all the elements flattened or unraveled into a single\n",
    "# dimension."
   ]
  },
  {
   "cell_type": "code",
   "execution_count": 8,
   "id": "6227fe1c-beb6-45a0-bb94-d5f71e02c77d",
   "metadata": {},
   "outputs": [
    {
     "data": {
      "text/plain": [
       "array([[1, 3, 2, 7],\n",
       "       [9, 8, 9, 5],\n",
       "       [4, 4, 3, 9],\n",
       "       [3, 2, 4, 2]])"
      ]
     },
     "execution_count": 8,
     "metadata": {},
     "output_type": "execute_result"
    }
   ],
   "source": [
    "arr"
   ]
  },
  {
   "cell_type": "code",
   "execution_count": 9,
   "id": "99166762-a060-46f3-b4c2-58056e25f2f8",
   "metadata": {},
   "outputs": [
    {
     "data": {
      "text/plain": [
       "array([[[1, 3, 2, 7]],\n",
       "\n",
       "       [[9, 8, 9, 5]],\n",
       "\n",
       "       [[4, 4, 3, 9]],\n",
       "\n",
       "       [[3, 2, 4, 2]]])"
      ]
     },
     "execution_count": 9,
     "metadata": {},
     "output_type": "execute_result"
    }
   ],
   "source": [
    "np.expand_dims(arr,axis=1)\n",
    "\n",
    "# np.expand_dims(arr, axis=1) is a NumPy function that is used to add a new axis to a NumPy array arr.\n",
    "# The new axis is added at the specified position (axis=1 in this case), which creates a new dimension with size 1."
   ]
  },
  {
   "cell_type": "code",
   "execution_count": 10,
   "id": "b775a849-a462-4d69-a55e-3071000d9734",
   "metadata": {},
   "outputs": [
    {
     "data": {
      "text/plain": [
       "array([[[1, 3, 2, 7],\n",
       "        [9, 8, 9, 5],\n",
       "        [4, 4, 3, 9],\n",
       "        [3, 2, 4, 2]]])"
      ]
     },
     "execution_count": 10,
     "metadata": {},
     "output_type": "execute_result"
    }
   ],
   "source": [
    "np.expand_dims(arr,axis=0)\n",
    "\n",
    "#  np.expand_dims(arr, axis=0) is a NumPy function that is used to add a new axis to a NumPy array arr. The new\n",
    "# axis is added at the specified position (axis=0 in this case), which creates a new dimension with size 1."
   ]
  },
  {
   "cell_type": "code",
   "execution_count": null,
   "id": "9532a081-3072-4b99-a858-729f7f2b0d11",
   "metadata": {},
   "outputs": [],
   "source": []
  },
  {
   "cell_type": "code",
   "execution_count": 11,
   "id": "e06baea3-3dd4-43d4-b3a4-441971dbe81e",
   "metadata": {},
   "outputs": [],
   "source": [
    "data = np.array([[1] , [2] , [3]])"
   ]
  },
  {
   "cell_type": "code",
   "execution_count": 12,
   "id": "b7c1641b-ad59-4b60-bb5a-4d756122b6ed",
   "metadata": {},
   "outputs": [
    {
     "data": {
      "text/plain": [
       "array([1, 2, 3])"
      ]
     },
     "execution_count": 12,
     "metadata": {},
     "output_type": "execute_result"
    }
   ],
   "source": [
    "np.squeeze(data)\n",
    "\n",
    "# np.squeeze(data) is a NumPy function that is used to remove single-dimensional entries (i.e., dimensions with\n",
    "# size 1) from the shape of a NumPy array data. If an array has multiple dimensions with size 1, np.squeeze() will \n",
    "# remove all of them\n",
    "\n",
    "\n",
    "# np.squeeze(data) returns a new array, rather than modifying the original array in place. You can use this \n",
    "# function to reduce the dimensions of an array to simplify the shape for downstream processing, or to remove\n",
    "# batch or channel dimensions that are no longer needed."
   ]
  },
  {
   "cell_type": "code",
   "execution_count": null,
   "id": "d1511890-ec59-481f-9552-706b068bad13",
   "metadata": {},
   "outputs": [],
   "source": []
  },
  {
   "cell_type": "code",
   "execution_count": 13,
   "id": "93e00b6f-a804-4a01-b3a3-04ad8495dff3",
   "metadata": {},
   "outputs": [
    {
     "data": {
      "text/plain": [
       "array([1, 1, 1, 1, 2, 2, 2, 2, 3, 3, 3, 3])"
      ]
     },
     "execution_count": 13,
     "metadata": {},
     "output_type": "execute_result"
    }
   ],
   "source": [
    "np.repeat(data,4)\n",
    "\n",
    "# np.repeat(data, 4) is a NumPy function that is used to repeat each element in a NumPy array data a specified \n",
    "# number of times (4 in this case). The result is a new NumPy array with a larger size than the original array.\n",
    "\n",
    "\n",
    "# np.repeat(data, 4) returns a new array, rather than modifying the original array in place. You can use this \n",
    "# function to repeat an array to match the size of another array or to prepare an array for broadcasting operations."
   ]
  },
  {
   "cell_type": "code",
   "execution_count": 14,
   "id": "f6a9bbaa-95f4-4f33-9e3e-eb8bf8733f49",
   "metadata": {},
   "outputs": [
    {
     "data": {
      "text/plain": [
       "array([[2],\n",
       "       [3],\n",
       "       [1]])"
      ]
     },
     "execution_count": 14,
     "metadata": {},
     "output_type": "execute_result"
    }
   ],
   "source": [
    "# rotates all the elements of an array by specified number of times. Here 2 in this case.\n",
    "\n",
    "np.roll(data,2)\n",
    "\n",
    "# np.roll(data, shift) is a NumPy function that is used to shift the elements of a NumPy array data along a\n",
    "# specified axis by a certain number of positions"
   ]
  },
  {
   "cell_type": "code",
   "execution_count": 15,
   "id": "d1e30b56-b999-4244-83a0-d2de5deb1d9d",
   "metadata": {},
   "outputs": [
    {
     "data": {
      "text/plain": [
       "array([[1],\n",
       "       [2],\n",
       "       [3]])"
      ]
     },
     "execution_count": 15,
     "metadata": {},
     "output_type": "execute_result"
    }
   ],
   "source": [
    "np.roll(data,3)\n",
    "\n",
    "# np.roll(data, shift) returns a new array, rather than modifying the original array in place. You can use this\n",
    "# function to create a circular shift in an array or to shift the elements of an array to align with another array."
   ]
  },
  {
   "cell_type": "code",
   "execution_count": 16,
   "id": "beb7f76f-2dbb-40af-a6b2-eb99482f9f0c",
   "metadata": {},
   "outputs": [
    {
     "data": {
      "text/plain": [
       "array([[1, 0, 0, 0],\n",
       "       [0, 2, 0, 0],\n",
       "       [0, 0, 3, 0],\n",
       "       [0, 0, 0, 4]])"
      ]
     },
     "execution_count": 16,
     "metadata": {},
     "output_type": "execute_result"
    }
   ],
   "source": [
    "np.diag(np.array([1,2,3,4]))\n",
    "\n",
    "# creates a diagonal matrix with the elements of array as the diagonal elements."
   ]
  },
  {
   "cell_type": "markdown",
   "id": "2c276351-3dd2-4dd4-9e81-cf18d4627662",
   "metadata": {},
   "source": [
    "np.diag() is a NumPy function that is used to create a diagonal array or extract the diagonal elements of an array.\n",
    "\n",
    "When given a one-dimensional array as input, np.diag() returns a new two-dimensional array with the input array on the diagonal and zeros everywhere else.\n",
    "\n",
    "When given a two-dimensional array as input, np.diag() returns a one-dimensional array containing the diagonal elements of the input array."
   ]
  },
  {
   "cell_type": "code",
   "execution_count": null,
   "id": "744c7586-8b81-4333-bd3b-3e4227199ac4",
   "metadata": {},
   "outputs": [],
   "source": []
  },
  {
   "cell_type": "code",
   "execution_count": null,
   "id": "0cafb896-8a52-4093-a407-ed2ea2458274",
   "metadata": {},
   "outputs": [],
   "source": [
    "#Numpy - Binary Operators."
   ]
  },
  {
   "cell_type": "code",
   "execution_count": 17,
   "id": "ade61d5a-dde7-4954-a426-cf8ed6b36aac",
   "metadata": {},
   "outputs": [],
   "source": [
    "arr6 = np.random.randint(1,10 , (3,4))\n",
    "arr7 = np.random.randint(1,10 , (3,4))"
   ]
  },
  {
   "cell_type": "code",
   "execution_count": 18,
   "id": "23aeb7e4-e9ce-41f4-9702-c6f7b5f20db3",
   "metadata": {},
   "outputs": [
    {
     "data": {
      "text/plain": [
       "array([[6, 3, 7, 1],\n",
       "       [2, 5, 4, 5],\n",
       "       [6, 3, 7, 2]])"
      ]
     },
     "execution_count": 18,
     "metadata": {},
     "output_type": "execute_result"
    }
   ],
   "source": [
    "arr6"
   ]
  },
  {
   "cell_type": "code",
   "execution_count": 19,
   "id": "c5dd4dfe-eb5f-4f64-aad4-cd6c00a49ba8",
   "metadata": {},
   "outputs": [
    {
     "data": {
      "text/plain": [
       "array([[9, 8, 4, 9],\n",
       "       [8, 4, 3, 6],\n",
       "       [4, 1, 9, 4]])"
      ]
     },
     "execution_count": 19,
     "metadata": {},
     "output_type": "execute_result"
    }
   ],
   "source": [
    "arr7"
   ]
  },
  {
   "cell_type": "code",
   "execution_count": 20,
   "id": "c993d72e-1883-4ebd-9a51-e04c87353f7f",
   "metadata": {},
   "outputs": [
    {
     "data": {
      "text/plain": [
       "array([[15, 11, 11, 10],\n",
       "       [10,  9,  7, 11],\n",
       "       [10,  4, 16,  6]])"
      ]
     },
     "execution_count": 20,
     "metadata": {},
     "output_type": "execute_result"
    }
   ],
   "source": [
    "arr6 + arr7"
   ]
  },
  {
   "cell_type": "code",
   "execution_count": 21,
   "id": "55bd690a-a192-41c0-9947-9d7d59bc2bf5",
   "metadata": {},
   "outputs": [
    {
     "data": {
      "text/plain": [
       "array([[-3, -5,  3, -8],\n",
       "       [-6,  1,  1, -1],\n",
       "       [ 2,  2, -2, -2]])"
      ]
     },
     "execution_count": 21,
     "metadata": {},
     "output_type": "execute_result"
    }
   ],
   "source": [
    "arr6 - arr7"
   ]
  },
  {
   "cell_type": "code",
   "execution_count": 22,
   "id": "9d3ab8e5-2794-421e-b016-3ce419bb1209",
   "metadata": {},
   "outputs": [
    {
     "data": {
      "text/plain": [
       "array([[54, 24, 28,  9],\n",
       "       [16, 20, 12, 30],\n",
       "       [24,  3, 63,  8]])"
      ]
     },
     "execution_count": 22,
     "metadata": {},
     "output_type": "execute_result"
    }
   ],
   "source": [
    "arr6 * arr7"
   ]
  },
  {
   "cell_type": "code",
   "execution_count": 23,
   "id": "9e1229bd-cfa7-42f5-80ee-d58d59a39a72",
   "metadata": {},
   "outputs": [
    {
     "data": {
      "text/plain": [
       "array([[0.66666667, 0.375     , 1.75      , 0.11111111],\n",
       "       [0.25      , 1.25      , 1.33333333, 0.83333333],\n",
       "       [1.5       , 3.        , 0.77777778, 0.5       ]])"
      ]
     },
     "execution_count": 23,
     "metadata": {},
     "output_type": "execute_result"
    }
   ],
   "source": [
    "arr6 / arr7"
   ]
  },
  {
   "cell_type": "code",
   "execution_count": 24,
   "id": "cafa8f0b-859d-4959-bdf5-180bc4477bdb",
   "metadata": {},
   "outputs": [
    {
     "data": {
      "text/plain": [
       "array([[10077696,     6561,     2401,        1],\n",
       "       [     256,      625,       64,    15625],\n",
       "       [    1296,        3, 40353607,       16]])"
      ]
     },
     "execution_count": 24,
     "metadata": {},
     "output_type": "execute_result"
    }
   ],
   "source": [
    "arr6 ** arr7\n",
    "\n",
    "# index wise exponential operation will be performed."
   ]
  },
  {
   "cell_type": "code",
   "execution_count": 25,
   "id": "b656890f-ba22-4599-9b67-3189720efe09",
   "metadata": {},
   "outputs": [
    {
     "data": {
      "text/plain": [
       "array([[-7, -4, -8, -2],\n",
       "       [-3, -6, -5, -6],\n",
       "       [-7, -4, -8, -3]])"
      ]
     },
     "execution_count": 25,
     "metadata": {},
     "output_type": "execute_result"
    }
   ],
   "source": [
    "~arr6"
   ]
  },
  {
   "cell_type": "code",
   "execution_count": 26,
   "id": "0f3ea874-c5e2-4119-ba20-1a07580e33fe",
   "metadata": {},
   "outputs": [
    {
     "data": {
      "text/plain": [
       "array([[6, 3, 7, 1],\n",
       "       [2, 5, 4, 5],\n",
       "       [6, 3, 7, 2]])"
      ]
     },
     "execution_count": 26,
     "metadata": {},
     "output_type": "execute_result"
    }
   ],
   "source": [
    "arr6"
   ]
  },
  {
   "cell_type": "markdown",
   "id": "1e6a0063-62d3-47a4-907f-c2cc155fd4ec",
   "metadata": {},
   "source": [
    "~ is the Bitwise NOT operator in Python. When used with a NumPy array, it performs a bitwise NOT operation on each element of the array.\n",
    "\n",
    "It returns a new array with the result of the operation."
   ]
  },
  {
   "cell_type": "code",
   "execution_count": 27,
   "id": "6100a510-961c-4b6d-9ab7-960183f2a2ab",
   "metadata": {},
   "outputs": [
    {
     "data": {
      "text/plain": [
       "array([[False, False,  True, False],\n",
       "       [False,  True,  True, False],\n",
       "       [ True,  True, False, False]])"
      ]
     },
     "execution_count": 27,
     "metadata": {},
     "output_type": "execute_result"
    }
   ],
   "source": [
    "arr6 > arr7"
   ]
  },
  {
   "cell_type": "code",
   "execution_count": null,
   "id": "59167615-4b39-4504-87db-2c3441621768",
   "metadata": {},
   "outputs": [],
   "source": [
    "#Numpy - String Functions."
   ]
  },
  {
   "cell_type": "code",
   "execution_count": 30,
   "id": "706d01cb-cbba-4060-90b5-1d7c75b91aa6",
   "metadata": {},
   "outputs": [],
   "source": [
    "arr = np.array([\"srinath\" , \"reddy\"])"
   ]
  },
  {
   "cell_type": "code",
   "execution_count": 31,
   "id": "0864563c-bc8d-4fb0-a832-2ce3cb13dc3b",
   "metadata": {},
   "outputs": [
    {
     "data": {
      "text/plain": [
       "array(['srinath', 'reddy'], dtype='<U7')"
      ]
     },
     "execution_count": 31,
     "metadata": {},
     "output_type": "execute_result"
    }
   ],
   "source": [
    "arr"
   ]
  },
  {
   "cell_type": "code",
   "execution_count": 32,
   "id": "e474c239-5cf6-4315-8cac-44bd32913024",
   "metadata": {},
   "outputs": [
    {
     "data": {
      "text/plain": [
       "array(['SRINATH', 'REDDY'], dtype='<U7')"
      ]
     },
     "execution_count": 32,
     "metadata": {},
     "output_type": "execute_result"
    }
   ],
   "source": [
    "np.char.upper(arr)"
   ]
  },
  {
   "cell_type": "code",
   "execution_count": 33,
   "id": "20d962fc-b23e-40f5-aaec-91e97b17cc78",
   "metadata": {},
   "outputs": [
    {
     "data": {
      "text/plain": [
       "array(['Srinath', 'Reddy'], dtype='<U7')"
      ]
     },
     "execution_count": 33,
     "metadata": {},
     "output_type": "execute_result"
    }
   ],
   "source": [
    "np.char.capitalize(arr)"
   ]
  },
  {
   "cell_type": "code",
   "execution_count": 34,
   "id": "d276c1af-b45e-4845-8802-bdfd49f09c51",
   "metadata": {},
   "outputs": [
    {
     "data": {
      "text/plain": [
       "array(['Srinath', 'Reddy'], dtype='<U7')"
      ]
     },
     "execution_count": 34,
     "metadata": {},
     "output_type": "execute_result"
    }
   ],
   "source": [
    "np.char.title(arr)"
   ]
  },
  {
   "cell_type": "code",
   "execution_count": null,
   "id": "f7778e87-8e23-4f77-8e43-9cf64a6d6e1e",
   "metadata": {},
   "outputs": [],
   "source": [
    "#Numpy - Mathematical Functions."
   ]
  },
  {
   "cell_type": "code",
   "execution_count": 35,
   "id": "cdcf3c9e-e70f-4588-be40-3b1a37196a91",
   "metadata": {},
   "outputs": [
    {
     "data": {
      "text/plain": [
       "array([[6, 3, 7, 1],\n",
       "       [2, 5, 4, 5],\n",
       "       [6, 3, 7, 2]])"
      ]
     },
     "execution_count": 35,
     "metadata": {},
     "output_type": "execute_result"
    }
   ],
   "source": [
    "arr6"
   ]
  },
  {
   "cell_type": "code",
   "execution_count": 36,
   "id": "3caea946-5d21-4ad2-9218-8752f1a1e8d0",
   "metadata": {},
   "outputs": [
    {
     "data": {
      "text/plain": [
       "array([[-0.2794155 ,  0.14112001,  0.6569866 ,  0.84147098],\n",
       "       [ 0.90929743, -0.95892427, -0.7568025 , -0.95892427],\n",
       "       [-0.2794155 ,  0.14112001,  0.6569866 ,  0.90929743]])"
      ]
     },
     "execution_count": 36,
     "metadata": {},
     "output_type": "execute_result"
    }
   ],
   "source": [
    "np.sin(arr6)\n",
    "\n",
    "# Trigonometric sin theta"
   ]
  },
  {
   "cell_type": "code",
   "execution_count": 37,
   "id": "c3cc467a-709e-4365-b99e-51d5fe267712",
   "metadata": {},
   "outputs": [
    {
     "data": {
      "text/plain": [
       "array([[ 0.96017029, -0.9899925 ,  0.75390225,  0.54030231],\n",
       "       [-0.41614684,  0.28366219, -0.65364362,  0.28366219],\n",
       "       [ 0.96017029, -0.9899925 ,  0.75390225, -0.41614684]])"
      ]
     },
     "execution_count": 37,
     "metadata": {},
     "output_type": "execute_result"
    }
   ],
   "source": [
    "np.cos(arr6)"
   ]
  },
  {
   "cell_type": "code",
   "execution_count": 38,
   "id": "da58a623-c886-4659-89a4-df615b5e6e2d",
   "metadata": {},
   "outputs": [
    {
     "data": {
      "text/plain": [
       "array([[-0.29100619, -0.14254654,  0.87144798,  1.55740772],\n",
       "       [-2.18503986, -3.38051501,  1.15782128, -3.38051501],\n",
       "       [-0.29100619, -0.14254654,  0.87144798, -2.18503986]])"
      ]
     },
     "execution_count": 38,
     "metadata": {},
     "output_type": "execute_result"
    }
   ],
   "source": [
    "np.tan(arr6)"
   ]
  },
  {
   "cell_type": "code",
   "execution_count": 39,
   "id": "f4fa32aa-0666-4123-a191-66f2b5d74eb6",
   "metadata": {},
   "outputs": [
    {
     "data": {
      "text/plain": [
       "array([[0.77815125, 0.47712125, 0.84509804, 0.        ],\n",
       "       [0.30103   , 0.69897   , 0.60205999, 0.69897   ],\n",
       "       [0.77815125, 0.47712125, 0.84509804, 0.30103   ]])"
      ]
     },
     "execution_count": 39,
     "metadata": {},
     "output_type": "execute_result"
    }
   ],
   "source": [
    "np.log10(arr6)"
   ]
  },
  {
   "cell_type": "code",
   "execution_count": 40,
   "id": "a8aa95f8-1f72-4fd6-8f61-b28aa9caa3fe",
   "metadata": {},
   "outputs": [
    {
     "data": {
      "text/plain": [
       "array([[ 403.42879349,   20.08553692, 1096.63315843,    2.71828183],\n",
       "       [   7.3890561 ,  148.4131591 ,   54.59815003,  148.4131591 ],\n",
       "       [ 403.42879349,   20.08553692, 1096.63315843,    7.3890561 ]])"
      ]
     },
     "execution_count": 40,
     "metadata": {},
     "output_type": "execute_result"
    }
   ],
   "source": [
    "# Taking exponent(each element) in the array i.e e^\n",
    "\n",
    "np.exp(arr6)"
   ]
  },
  {
   "cell_type": "code",
   "execution_count": 42,
   "id": "11fc1111-31f6-4f37-9832-46e5af44a808",
   "metadata": {},
   "outputs": [
    {
     "data": {
      "text/plain": [
       "array([[36,  9, 49,  1],\n",
       "       [ 4, 25, 16, 25],\n",
       "       [36,  9, 49,  4]])"
      ]
     },
     "execution_count": 42,
     "metadata": {},
     "output_type": "execute_result"
    }
   ],
   "source": [
    "np.power(arr6,2)"
   ]
  },
  {
   "cell_type": "code",
   "execution_count": null,
   "id": "851e0589-4b8f-48ea-9dc2-2663f4c8d5f1",
   "metadata": {},
   "outputs": [],
   "source": [
    "#Numpy - Statistical Functions."
   ]
  },
  {
   "cell_type": "code",
   "execution_count": 43,
   "id": "fa3bf857-8e5a-41cd-bec4-5723bdb63121",
   "metadata": {},
   "outputs": [
    {
     "data": {
      "text/plain": [
       "4.25"
      ]
     },
     "execution_count": 43,
     "metadata": {},
     "output_type": "execute_result"
    }
   ],
   "source": [
    "np.mean(arr6)"
   ]
  },
  {
   "cell_type": "code",
   "execution_count": 44,
   "id": "b94ac879-bd51-435c-b3ff-1f34b9033b98",
   "metadata": {},
   "outputs": [
    {
     "data": {
      "text/plain": [
       "4.5"
      ]
     },
     "execution_count": 44,
     "metadata": {},
     "output_type": "execute_result"
    }
   ],
   "source": [
    "np.median(arr6)"
   ]
  },
  {
   "cell_type": "code",
   "execution_count": 45,
   "id": "4cc7153f-f1db-4596-8eb9-0b6b403f3d55",
   "metadata": {},
   "outputs": [
    {
     "ename": "AttributeError",
     "evalue": "module 'numpy' has no attribute 'mode'",
     "output_type": "error",
     "traceback": [
      "\u001b[0;31m---------------------------------------------------------------------------\u001b[0m",
      "\u001b[0;31mAttributeError\u001b[0m                            Traceback (most recent call last)",
      "Cell \u001b[0;32mIn[45], line 1\u001b[0m\n\u001b[0;32m----> 1\u001b[0m \u001b[43mnp\u001b[49m\u001b[38;5;241;43m.\u001b[39;49m\u001b[43mmode\u001b[49m(arr6)\n",
      "File \u001b[0;32m/opt/conda/lib/python3.10/site-packages/numpy/__init__.py:311\u001b[0m, in \u001b[0;36m__getattr__\u001b[0;34m(attr)\u001b[0m\n\u001b[1;32m    308\u001b[0m     \u001b[38;5;28;01mfrom\u001b[39;00m \u001b[38;5;21;01m.\u001b[39;00m\u001b[38;5;21;01mtesting\u001b[39;00m \u001b[38;5;28;01mimport\u001b[39;00m Tester\n\u001b[1;32m    309\u001b[0m     \u001b[38;5;28;01mreturn\u001b[39;00m Tester\n\u001b[0;32m--> 311\u001b[0m \u001b[38;5;28;01mraise\u001b[39;00m \u001b[38;5;167;01mAttributeError\u001b[39;00m(\u001b[38;5;124m\"\u001b[39m\u001b[38;5;124mmodule \u001b[39m\u001b[38;5;132;01m{!r}\u001b[39;00m\u001b[38;5;124m has no attribute \u001b[39m\u001b[38;5;124m\"\u001b[39m\n\u001b[1;32m    312\u001b[0m                      \u001b[38;5;124m\"\u001b[39m\u001b[38;5;132;01m{!r}\u001b[39;00m\u001b[38;5;124m\"\u001b[39m\u001b[38;5;241m.\u001b[39mformat(\u001b[38;5;18m__name__\u001b[39m, attr))\n",
      "\u001b[0;31mAttributeError\u001b[0m: module 'numpy' has no attribute 'mode'"
     ]
    }
   ],
   "source": [
    "np.mode(arr6)"
   ]
  },
  {
   "cell_type": "code",
   "execution_count": 46,
   "id": "5f1fa7e2-56cb-401e-a7fa-b52faaee7f1e",
   "metadata": {},
   "outputs": [
    {
     "data": {
      "text/plain": [
       "1.963203164898291"
      ]
     },
     "execution_count": 46,
     "metadata": {},
     "output_type": "execute_result"
    }
   ],
   "source": [
    "np.std(arr6)\n",
    "\n",
    "# Deviation from mean is called standard deviation."
   ]
  },
  {
   "cell_type": "code",
   "execution_count": 47,
   "id": "f32fa75f-fe2d-4eaf-9d51-8db8ef80d568",
   "metadata": {},
   "outputs": [
    {
     "data": {
      "text/plain": [
       "3.8541666666666665"
      ]
     },
     "execution_count": 47,
     "metadata": {},
     "output_type": "execute_result"
    }
   ],
   "source": [
    "np.var(arr6)"
   ]
  },
  {
   "cell_type": "code",
   "execution_count": 48,
   "id": "330add91-2211-4dda-aa72-fdc9debde5de",
   "metadata": {},
   "outputs": [
    {
     "data": {
      "text/plain": [
       "1"
      ]
     },
     "execution_count": 48,
     "metadata": {},
     "output_type": "execute_result"
    }
   ],
   "source": [
    "np.min(arr6)"
   ]
  },
  {
   "cell_type": "code",
   "execution_count": 49,
   "id": "c2d16be7-cc69-48d8-991e-13ffbe2e86a3",
   "metadata": {},
   "outputs": [
    {
     "data": {
      "text/plain": [
       "7"
      ]
     },
     "execution_count": 49,
     "metadata": {},
     "output_type": "execute_result"
    }
   ],
   "source": [
    "np.max(arr6)"
   ]
  },
  {
   "cell_type": "code",
   "execution_count": null,
   "id": "227412eb-048e-45f0-ba30-a4798078358b",
   "metadata": {},
   "outputs": [],
   "source": [
    "#Numpy - Arithmetic Operations."
   ]
  },
  {
   "cell_type": "code",
   "execution_count": 50,
   "id": "41c8f413-a7be-4c3a-a4f1-7de7cd25a708",
   "metadata": {},
   "outputs": [
    {
     "data": {
      "text/plain": [
       "array([[-3, -5,  3, -8],\n",
       "       [-6,  1,  1, -1],\n",
       "       [ 2,  2, -2, -2]])"
      ]
     },
     "execution_count": 50,
     "metadata": {},
     "output_type": "execute_result"
    }
   ],
   "source": [
    "np.subtract(arr6,arr7)"
   ]
  },
  {
   "cell_type": "code",
   "execution_count": 51,
   "id": "e8ce3b66-65ba-4c56-bc05-a7bf11b46cc7",
   "metadata": {},
   "outputs": [
    {
     "data": {
      "text/plain": [
       "array([[54, 24, 28,  9],\n",
       "       [16, 20, 12, 30],\n",
       "       [24,  3, 63,  8]])"
      ]
     },
     "execution_count": 51,
     "metadata": {},
     "output_type": "execute_result"
    }
   ],
   "source": [
    "np.multiply(arr6,arr7)"
   ]
  },
  {
   "cell_type": "code",
   "execution_count": 52,
   "id": "299836b0-55ee-4589-b889-6409c39e5bbb",
   "metadata": {},
   "outputs": [
    {
     "data": {
      "text/plain": [
       "array([[6, 3, 3, 1],\n",
       "       [2, 1, 1, 5],\n",
       "       [2, 0, 7, 2]])"
      ]
     },
     "execution_count": 52,
     "metadata": {},
     "output_type": "execute_result"
    }
   ],
   "source": [
    "np.mod(arr6,arr7)"
   ]
  },
  {
   "cell_type": "code",
   "execution_count": 53,
   "id": "8400e2a8-3050-4b58-8e03-19de0e387e86",
   "metadata": {},
   "outputs": [
    {
     "data": {
      "text/plain": [
       "array([[10077696,     6561,     2401,        1],\n",
       "       [     256,      625,       64,    15625],\n",
       "       [    1296,        3, 40353607,       16]])"
      ]
     },
     "execution_count": 53,
     "metadata": {},
     "output_type": "execute_result"
    }
   ],
   "source": [
    "np.power(arr6,arr7)"
   ]
  },
  {
   "cell_type": "code",
   "execution_count": 54,
   "id": "10d678f5-ee67-4bb1-8e29-f3a61a63dbaf",
   "metadata": {},
   "outputs": [
    {
     "data": {
      "text/plain": [
       "array([[2.44948974, 1.73205081, 2.64575131, 1.        ],\n",
       "       [1.41421356, 2.23606798, 2.        , 2.23606798],\n",
       "       [2.44948974, 1.73205081, 2.64575131, 1.41421356]])"
      ]
     },
     "execution_count": 54,
     "metadata": {},
     "output_type": "execute_result"
    }
   ],
   "source": [
    "np.sqrt(arr6)"
   ]
  },
  {
   "cell_type": "code",
   "execution_count": null,
   "id": "fb375695-0c69-4d2f-82ff-9a9e450a79e1",
   "metadata": {},
   "outputs": [],
   "source": []
  }
 ],
 "metadata": {
  "kernelspec": {
   "display_name": "Python 3 (ipykernel)",
   "language": "python",
   "name": "python3"
  },
  "language_info": {
   "codemirror_mode": {
    "name": "ipython",
    "version": 3
   },
   "file_extension": ".py",
   "mimetype": "text/x-python",
   "name": "python",
   "nbconvert_exporter": "python",
   "pygments_lexer": "ipython3",
   "version": "3.10.8"
  }
 },
 "nbformat": 4,
 "nbformat_minor": 5
}
