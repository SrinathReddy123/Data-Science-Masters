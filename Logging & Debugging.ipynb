{
 "cells": [
  {
   "cell_type": "code",
   "execution_count": 1,
   "id": "572fc375-859e-46b2-bc6c-af30ede1bdb1",
   "metadata": {},
   "outputs": [],
   "source": [
    "# What is logging and how can we implement it. What are the advantages of it??"
   ]
  },
  {
   "cell_type": "code",
   "execution_count": 2,
   "id": "5d2e062f-bd1e-416a-9f20-21c7a854489f",
   "metadata": {},
   "outputs": [
    {
     "name": "stdout",
     "output_type": "stream",
     "text": [
      "this is my first statement\n"
     ]
    }
   ],
   "source": [
    "print(\"this is my first statement\")\n",
    "\n",
    "# whenever we perform any operation(like read a file,write a file, doing some computation, or database operation\n",
    "# and if there is an error or if a bug can occur at any point in time, then it won't fulfill my objective.\n",
    "# Here we should look into it, and fixany possible bugs and errors.\n",
    "\n",
    "\n",
    "\n",
    "# In general in production level code, we are not supposed to use print(), because it will print the content on\n",
    "# the console, and it won't be available once we shutdown our computer.\n",
    "\n",
    "# we need a permanent storage to log each and every information."
   ]
  },
  {
   "cell_type": "code",
   "execution_count": 3,
   "id": "6b963d59-cbb3-4aca-9603-19eb78222ded",
   "metadata": {},
   "outputs": [],
   "source": [
    "import logging\n"
   ]
  },
  {
   "cell_type": "code",
   "execution_count": 4,
   "id": "e9742a44-4052-4953-8724-238264c56fb6",
   "metadata": {},
   "outputs": [],
   "source": [
    "# we should create a file in which we log each and every information, so that we can investigate what went wrong\n",
    "# at any possible time in future."
   ]
  },
  {
   "cell_type": "code",
   "execution_count": 5,
   "id": "65d43460-4ab1-4919-a642-dc2cb1aa291a",
   "metadata": {},
   "outputs": [],
   "source": [
    "logging.basicConfig(filename = \"test1102.log\", level = logging.INFO)\n",
    "\n",
    "# we should give name(test1102) of log file and name of log label(logging.INFO)"
   ]
  },
  {
   "cell_type": "code",
   "execution_count": 6,
   "id": "58e5339d-204d-40e7-baee-8f8f1f842ffa",
   "metadata": {},
   "outputs": [],
   "source": [
    "# upon executing aabove cell, we can see a log file that is created with the name that we have mentioned\n",
    "# so we will be maintaining our logs in this file."
   ]
  },
  {
   "cell_type": "code",
   "execution_count": 7,
   "id": "b024f068-37b0-404b-ab1b-9f7f99ad722f",
   "metadata": {},
   "outputs": [],
   "source": [
    "logging.info(\"this is my line of execution\")\n",
    "\n",
    "# info() is a predefined method, the contents of this can be observed in log file\n",
    "# here system gives INFO tag because we r trying to log things, we can log things as error, critical error,debug\n",
    "\n",
    "# There r different types of log labels."
   ]
  },
  {
   "cell_type": "code",
   "execution_count": 8,
   "id": "0774c419-4c1e-4c1b-9536-8ff655268723",
   "metadata": {},
   "outputs": [],
   "source": [
    "logging.error(\"this is my error\")"
   ]
  },
  {
   "cell_type": "code",
   "execution_count": 9,
   "id": "63baa98d-2912-42b4-ac2d-3eb24585d4cb",
   "metadata": {},
   "outputs": [],
   "source": [
    "logging.critical(\"this is my critical\")"
   ]
  },
  {
   "cell_type": "markdown",
   "id": "021756c4-d080-4691-9c38-2df8f64af92b",
   "metadata": {},
   "source": [
    "# How logging works in terms of hierarchy.\n",
    "\n",
    "# This is the hierarchy any logging is going to follow.\n",
    "\n",
    "1.NOSET\n",
    "2.DEBUG\n",
    "3.INFO\n",
    "4.WARNING\n",
    "5.ERROR\n",
    "6.CRITICAL"
   ]
  },
  {
   "cell_type": "code",
   "execution_count": 11,
   "id": "d2336e47-2e1a-428b-892d-ccbc0ff5504b",
   "metadata": {},
   "outputs": [],
   "source": [
    "logging.warning(\"this is my warning\")"
   ]
  },
  {
   "cell_type": "code",
   "execution_count": 12,
   "id": "4c3d76d7-9a11-43c9-92c5-5a5e4041354c",
   "metadata": {},
   "outputs": [],
   "source": [
    "logging.debug(\"this is my information regarding debugging\")\n",
    "\n",
    "# In log file, we can find nothing with respect to debug.\n",
    "# It is not able to log anything  with respect to 'debug' tag,because we set the logging level to INFO, so \n",
    "#  whatever comes below INFO in hierarchy level including itself, it will be able to log only them. So it won't\n",
    "#  be able to log Noset, Debug upon setting logging level to INFO.\n",
    "\n",
    "\n",
    "# If logging level is set to noset, then it can log every possible log level."
   ]
  },
  {
   "cell_type": "code",
   "execution_count": 13,
   "id": "15144478-909b-4948-8095-608e41b0dcd7",
   "metadata": {},
   "outputs": [
    {
     "ename": "AttributeError",
     "evalue": "module 'logging' has no attribute 'noset'",
     "output_type": "error",
     "traceback": [
      "\u001b[0;31m---------------------------------------------------------------------------\u001b[0m",
      "\u001b[0;31mAttributeError\u001b[0m                            Traceback (most recent call last)",
      "Cell \u001b[0;32mIn[13], line 1\u001b[0m\n\u001b[0;32m----> 1\u001b[0m \u001b[43mlogging\u001b[49m\u001b[38;5;241;43m.\u001b[39;49m\u001b[43mnoset\u001b[49m(\u001b[38;5;124m\"\u001b[39m\u001b[38;5;124mthis is my noset related log\u001b[39m\u001b[38;5;124m\"\u001b[39m)\n",
      "\u001b[0;31mAttributeError\u001b[0m: module 'logging' has no attribute 'noset'"
     ]
    }
   ],
   "source": [
    "logging.noset(\"this is my noset related log\")"
   ]
  },
  {
   "cell_type": "code",
   "execution_count": null,
   "id": "6de5ab90-fd32-4a95-ad3f-1fccea884ecd",
   "metadata": {},
   "outputs": [],
   "source": [
    "# It's deprecated inside the latest version of Python, in previous version of python it is available.\n",
    "# so it is not able to log anything above INFO label."
   ]
  },
  {
   "cell_type": "code",
   "execution_count": null,
   "id": "7514507a-1174-4fea-a0b3-a3a6234a9663",
   "metadata": {},
   "outputs": [],
   "source": [
    "# As our codebase increases we will get many problems,and if our code is in production then it is always better\n",
    "#  to log each and every information"
   ]
  },
  {
   "cell_type": "code",
   "execution_count": 14,
   "id": "5534c3af-2147-4eaa-a041-5c2cbae1d0ef",
   "metadata": {},
   "outputs": [],
   "source": [
    "# To close the logs:\n",
    "\n",
    "logging.shutdown()"
   ]
  },
  {
   "cell_type": "code",
   "execution_count": 21,
   "id": "db042b7e-a404-4055-817a-3ed1ea6f817f",
   "metadata": {},
   "outputs": [],
   "source": [
    "# assume we want to log time at which something has occured, then also we will be able to do that.\n",
    "# Here we logged time as well as message\n",
    "logging.basicConfig(filename = \"test11022023.log\", level = logging.DEBUG, format = '%(asctime)s %(message)' )\n",
    "\n",
    "\n",
    "# Now we can log levels that are below debug including itself."
   ]
  },
  {
   "cell_type": "code",
   "execution_count": 16,
   "id": "c149fdda-9fc9-47eb-80e0-c734ac56d29f",
   "metadata": {},
   "outputs": [],
   "source": [
    "logging.info(\"this is my info log\")"
   ]
  },
  {
   "cell_type": "code",
   "execution_count": 17,
   "id": "c2c702b0-47da-44fd-ba78-11fecf338b08",
   "metadata": {},
   "outputs": [],
   "source": [
    "logging.debug(\"this is my debug log\")"
   ]
  },
  {
   "cell_type": "code",
   "execution_count": 18,
   "id": "007540b1-4e2c-433c-9521-1e7fad6e1a95",
   "metadata": {},
   "outputs": [],
   "source": [
    "logging.warning(\"this is my warning\")"
   ]
  },
  {
   "cell_type": "code",
   "execution_count": null,
   "id": "4735f92b-6bcd-420f-81fa-688f0fc322c9",
   "metadata": {},
   "outputs": [],
   "source": [
    "# If we have to log a message and time, then these are useful and also we want to log the system name which is \n",
    "# generating the logs then also we can do that."
   ]
  },
  {
   "cell_type": "code",
   "execution_count": 19,
   "id": "8edbf478-e5a2-42b1-8813-a187f0ca1390",
   "metadata": {},
   "outputs": [],
   "source": [
    "# To shutdown the logging use\n",
    "\n",
    "logging.shutdown()"
   ]
  },
  {
   "cell_type": "code",
   "execution_count": 3,
   "id": "be5d920d-865c-4743-8899-074f0efcf63d",
   "metadata": {},
   "outputs": [
    {
     "ename": "SyntaxError",
     "evalue": "unterminated string literal (detected at line 1) (2075138291.py, line 1)",
     "output_type": "error",
     "traceback": [
      "\u001b[0;36m  Cell \u001b[0;32mIn[3], line 1\u001b[0;36m\u001b[0m\n\u001b[0;31m    logging.basicConfig(filename =\"test3.log\", level = logging.DEBUG, format = '%(asctime)s %(name)s %( message)s )\u001b[0m\n\u001b[0m                                                                               ^\u001b[0m\n\u001b[0;31mSyntaxError\u001b[0m\u001b[0;31m:\u001b[0m unterminated string literal (detected at line 1)\n"
     ]
    }
   ],
   "source": [
    "logging.basicConfig(filename =\"test3.log\", level = logging.DEBUG, format = '%(asctime)s %(name)s %(message)s )"
   ]
  },
  {
   "cell_type": "code",
   "execution_count": 4,
   "id": "e9fc1687-1b2a-4181-b394-e1959eb15215",
   "metadata": {},
   "outputs": [
    {
     "ename": "NameError",
     "evalue": "name 'logging' is not defined",
     "output_type": "error",
     "traceback": [
      "\u001b[0;31m---------------------------------------------------------------------------\u001b[0m",
      "\u001b[0;31mNameError\u001b[0m                                 Traceback (most recent call last)",
      "Cell \u001b[0;32mIn[4], line 1\u001b[0m\n\u001b[0;32m----> 1\u001b[0m \u001b[43mlogging\u001b[49m\u001b[38;5;241m.\u001b[39minfo()\n",
      "\u001b[0;31mNameError\u001b[0m: name 'logging' is not defined"
     ]
    }
   ],
   "source": [
    "logging.info()"
   ]
  },
  {
   "cell_type": "code",
   "execution_count": null,
   "id": "eb205071-49ff-4799-9060-05fa0406f06f",
   "metadata": {},
   "outputs": [],
   "source": [
    "# debug - it can log timestamp and system name, log label \n",
    "# debug is always going to generate a lot of logs.\n",
    "# we have a tag associated with each and every log label."
   ]
  },
  {
   "cell_type": "code",
   "execution_count": 6,
   "id": "0d4d0f30-7c64-4b35-a8e4-bb71c6f217f1",
   "metadata": {},
   "outputs": [],
   "source": [
    "# Implementation of logging in Python code.\n",
    "\n",
    "l = [1,2,3,4,[5,6,7] ,\"sudh\", \"kumar\" ] "
   ]
  },
  {
   "cell_type": "code",
   "execution_count": 8,
   "id": "d353a9a4-fb42-4e5a-b29d-025aec1549ad",
   "metadata": {},
   "outputs": [],
   "source": [
    "l1_int = []\n",
    "l2_str = []\n",
    "\n",
    "for i in l:\n",
    "    if type(i) == list:\n",
    "        for j in i :\n",
    "            if type(j) == int:\n",
    "                l1_int.append(j)\n",
    "                \n",
    "    elif type(i) == int:  \n",
    "        l1_int.append(i)\n",
    "    else:\n",
    "        if type(i) == str:\n",
    "            l2_str.append(i)\n",
    "            \n",
    "    \n",
    "    "
   ]
  },
  {
   "cell_type": "code",
   "execution_count": 9,
   "id": "8e5c2095-4445-4206-a34b-c46da780bfc3",
   "metadata": {},
   "outputs": [
    {
     "data": {
      "text/plain": [
       "[1, 2, 3, 4, 5, 6, 7]"
      ]
     },
     "execution_count": 9,
     "metadata": {},
     "output_type": "execute_result"
    }
   ],
   "source": [
    "l1_int"
   ]
  },
  {
   "cell_type": "code",
   "execution_count": 10,
   "id": "f3d39e87-dcb6-4d57-bbd0-32dae8d53e76",
   "metadata": {},
   "outputs": [
    {
     "data": {
      "text/plain": [
       "['sudh', 'kumar']"
      ]
     },
     "execution_count": 10,
     "metadata": {},
     "output_type": "execute_result"
    }
   ],
   "source": [
    "l2_str"
   ]
  },
  {
   "cell_type": "code",
   "execution_count": 12,
   "id": "24abbc3b-1032-481f-bf43-c12848172195",
   "metadata": {},
   "outputs": [],
   "source": [
    "import logging"
   ]
  },
  {
   "cell_type": "code",
   "execution_count": 13,
   "id": "128a7e0a-2a62-4ba9-a08e-8bab88e55062",
   "metadata": {},
   "outputs": [],
   "source": [
    "l1_int = []\n",
    "l2_str = []\n",
    "\n",
    "for i in l:\n",
    "    logging.info(\"this is my start of my first for loop{}\".format(l))\n",
    "    logging.info(\"this is the value of i am begging {}\".format(i))\n",
    "    if type(i) == list:\n",
    "        for j in i :\n",
    "            if type(j) == int:\n",
    "                l1_int.append(j)\n",
    "                \n",
    "    elif type(i) == int:  \n",
    "        l1_int.append(i)\n",
    "    else:\n",
    "        if type(i) == str:\n",
    "            l2_str.append(i)"
   ]
  },
  {
   "cell_type": "code",
   "execution_count": null,
   "id": "8b2e797c-09fe-4a52-8c8c-77d87b67a091",
   "metadata": {},
   "outputs": [],
   "source": []
  }
 ],
 "metadata": {
  "kernelspec": {
   "display_name": "Python 3 (ipykernel)",
   "language": "python",
   "name": "python3"
  },
  "language_info": {
   "codemirror_mode": {
    "name": "ipython",
    "version": 3
   },
   "file_extension": ".py",
   "mimetype": "text/x-python",
   "name": "python",
   "nbconvert_exporter": "python",
   "pygments_lexer": "ipython3",
   "version": "3.10.8"
  }
 },
 "nbformat": 4,
 "nbformat_minor": 5
}
