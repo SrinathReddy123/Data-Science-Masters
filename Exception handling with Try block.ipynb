{
 "cells": [
  {
   "cell_type": "code",
   "execution_count": 1,
   "id": "8da6b67a-f55d-4f66-92e0-510560e4d3f7",
   "metadata": {},
   "outputs": [],
   "source": [
    "a = 0"
   ]
  },
  {
   "cell_type": "code",
   "execution_count": 2,
   "id": "cb77395d-20da-4168-8831-6f9527b1cca5",
   "metadata": {},
   "outputs": [
    {
     "ename": "ZeroDivisionError",
     "evalue": "division by zero",
     "output_type": "error",
     "traceback": [
      "\u001b[0;31m---------------------------------------------------------------------------\u001b[0m",
      "\u001b[0;31mZeroDivisionError\u001b[0m                         Traceback (most recent call last)",
      "Cell \u001b[0;32mIn[2], line 1\u001b[0m\n\u001b[0;32m----> 1\u001b[0m \u001b[43ma\u001b[49m\u001b[38;5;241;43m/\u001b[39;49m\u001b[38;5;241;43m0\u001b[39;49m\n\u001b[1;32m      3\u001b[0m \u001b[38;5;66;03m# here we will get division by zero error.    \u001b[39;00m\n",
      "\u001b[0;31mZeroDivisionError\u001b[0m: division by zero"
     ]
    }
   ],
   "source": [
    " a/0\n",
    "    \n",
    "# here we will get division by zero error.    "
   ]
  },
  {
   "cell_type": "code",
   "execution_count": 3,
   "id": "b0b57297-523e-41b0-93bb-bb10c933919e",
   "metadata": {},
   "outputs": [
    {
     "ename": "FileNotFoundError",
     "evalue": "[Errno 2] No such file or directory: 'test.txt'",
     "output_type": "error",
     "traceback": [
      "\u001b[0;31m---------------------------------------------------------------------------\u001b[0m",
      "\u001b[0;31mFileNotFoundError\u001b[0m                         Traceback (most recent call last)",
      "Cell \u001b[0;32mIn[3], line 3\u001b[0m\n\u001b[1;32m      1\u001b[0m \u001b[38;5;66;03m# here the file \"test.txt\" is not existing and we are trying to open it in read mode\u001b[39;00m\n\u001b[0;32m----> 3\u001b[0m f \u001b[38;5;241m=\u001b[39m \u001b[38;5;28;43mopen\u001b[39;49m\u001b[43m(\u001b[49m\u001b[38;5;124;43m\"\u001b[39;49m\u001b[38;5;124;43mtest.txt\u001b[39;49m\u001b[38;5;124;43m\"\u001b[39;49m\u001b[43m,\u001b[49m\u001b[38;5;124;43m\"\u001b[39;49m\u001b[38;5;124;43mr\u001b[39;49m\u001b[38;5;124;43m\"\u001b[39;49m\u001b[43m)\u001b[49m\n\u001b[1;32m      5\u001b[0m \u001b[38;5;66;03m# so this will give file cannot be found error(FileNotFoundError)\u001b[39;00m\n",
      "File \u001b[0;32m/opt/conda/lib/python3.10/site-packages/IPython/core/interactiveshell.py:282\u001b[0m, in \u001b[0;36m_modified_open\u001b[0;34m(file, *args, **kwargs)\u001b[0m\n\u001b[1;32m    275\u001b[0m \u001b[38;5;28;01mif\u001b[39;00m file \u001b[38;5;129;01min\u001b[39;00m {\u001b[38;5;241m0\u001b[39m, \u001b[38;5;241m1\u001b[39m, \u001b[38;5;241m2\u001b[39m}:\n\u001b[1;32m    276\u001b[0m     \u001b[38;5;28;01mraise\u001b[39;00m \u001b[38;5;167;01mValueError\u001b[39;00m(\n\u001b[1;32m    277\u001b[0m         \u001b[38;5;124mf\u001b[39m\u001b[38;5;124m\"\u001b[39m\u001b[38;5;124mIPython won\u001b[39m\u001b[38;5;124m'\u001b[39m\u001b[38;5;124mt let you open fd=\u001b[39m\u001b[38;5;132;01m{\u001b[39;00mfile\u001b[38;5;132;01m}\u001b[39;00m\u001b[38;5;124m by default \u001b[39m\u001b[38;5;124m\"\u001b[39m\n\u001b[1;32m    278\u001b[0m         \u001b[38;5;124m\"\u001b[39m\u001b[38;5;124mas it is likely to crash IPython. If you know what you are doing, \u001b[39m\u001b[38;5;124m\"\u001b[39m\n\u001b[1;32m    279\u001b[0m         \u001b[38;5;124m\"\u001b[39m\u001b[38;5;124myou can use builtins\u001b[39m\u001b[38;5;124m'\u001b[39m\u001b[38;5;124m open.\u001b[39m\u001b[38;5;124m\"\u001b[39m\n\u001b[1;32m    280\u001b[0m     )\n\u001b[0;32m--> 282\u001b[0m \u001b[38;5;28;01mreturn\u001b[39;00m \u001b[43mio_open\u001b[49m\u001b[43m(\u001b[49m\u001b[43mfile\u001b[49m\u001b[43m,\u001b[49m\u001b[43m \u001b[49m\u001b[38;5;241;43m*\u001b[39;49m\u001b[43margs\u001b[49m\u001b[43m,\u001b[49m\u001b[43m \u001b[49m\u001b[38;5;241;43m*\u001b[39;49m\u001b[38;5;241;43m*\u001b[39;49m\u001b[43mkwargs\u001b[49m\u001b[43m)\u001b[49m\n",
      "\u001b[0;31mFileNotFoundError\u001b[0m: [Errno 2] No such file or directory: 'test.txt'"
     ]
    }
   ],
   "source": [
    "# here the file \"test.txt\" is not existing and we are trying to open it in read mode\n",
    "\n",
    "f = open(\"test.txt\",\"r\")\n",
    "\n",
    "# so this will give file cannot be found error(FileNotFoundError)"
   ]
  },
  {
   "cell_type": "code",
   "execution_count": 4,
   "id": "a496b0e5-2b76-4fce-bfcd-84c6ea5c70dc",
   "metadata": {},
   "outputs": [
    {
     "ename": "FileNotFoundError",
     "evalue": "[Errno 2] No such file or directory: 'test.txt'",
     "output_type": "error",
     "traceback": [
      "\u001b[0;31m---------------------------------------------------------------------------\u001b[0m",
      "\u001b[0;31mFileNotFoundError\u001b[0m                         Traceback (most recent call last)",
      "Cell \u001b[0;32mIn[4], line 1\u001b[0m\n\u001b[0;32m----> 1\u001b[0m f \u001b[38;5;241m=\u001b[39m \u001b[38;5;28;43mopen\u001b[39;49m\u001b[43m(\u001b[49m\u001b[38;5;124;43m\"\u001b[39;49m\u001b[38;5;124;43mtest.txt\u001b[39;49m\u001b[38;5;124;43m\"\u001b[39;49m\u001b[43m,\u001b[49m\u001b[38;5;124;43m\"\u001b[39;49m\u001b[38;5;124;43mr\u001b[39;49m\u001b[38;5;124;43m\"\u001b[39;49m\u001b[43m)\u001b[49m\n\u001b[1;32m      2\u001b[0m \u001b[38;5;28mprint\u001b[39m(\u001b[38;5;124m\"\u001b[39m\u001b[38;5;124mthis is code after opening file\u001b[39m\u001b[38;5;124m\"\u001b[39m)\n",
      "File \u001b[0;32m/opt/conda/lib/python3.10/site-packages/IPython/core/interactiveshell.py:282\u001b[0m, in \u001b[0;36m_modified_open\u001b[0;34m(file, *args, **kwargs)\u001b[0m\n\u001b[1;32m    275\u001b[0m \u001b[38;5;28;01mif\u001b[39;00m file \u001b[38;5;129;01min\u001b[39;00m {\u001b[38;5;241m0\u001b[39m, \u001b[38;5;241m1\u001b[39m, \u001b[38;5;241m2\u001b[39m}:\n\u001b[1;32m    276\u001b[0m     \u001b[38;5;28;01mraise\u001b[39;00m \u001b[38;5;167;01mValueError\u001b[39;00m(\n\u001b[1;32m    277\u001b[0m         \u001b[38;5;124mf\u001b[39m\u001b[38;5;124m\"\u001b[39m\u001b[38;5;124mIPython won\u001b[39m\u001b[38;5;124m'\u001b[39m\u001b[38;5;124mt let you open fd=\u001b[39m\u001b[38;5;132;01m{\u001b[39;00mfile\u001b[38;5;132;01m}\u001b[39;00m\u001b[38;5;124m by default \u001b[39m\u001b[38;5;124m\"\u001b[39m\n\u001b[1;32m    278\u001b[0m         \u001b[38;5;124m\"\u001b[39m\u001b[38;5;124mas it is likely to crash IPython. If you know what you are doing, \u001b[39m\u001b[38;5;124m\"\u001b[39m\n\u001b[1;32m    279\u001b[0m         \u001b[38;5;124m\"\u001b[39m\u001b[38;5;124myou can use builtins\u001b[39m\u001b[38;5;124m'\u001b[39m\u001b[38;5;124m open.\u001b[39m\u001b[38;5;124m\"\u001b[39m\n\u001b[1;32m    280\u001b[0m     )\n\u001b[0;32m--> 282\u001b[0m \u001b[38;5;28;01mreturn\u001b[39;00m \u001b[43mio_open\u001b[49m\u001b[43m(\u001b[49m\u001b[43mfile\u001b[49m\u001b[43m,\u001b[49m\u001b[43m \u001b[49m\u001b[38;5;241;43m*\u001b[39;49m\u001b[43margs\u001b[49m\u001b[43m,\u001b[49m\u001b[43m \u001b[49m\u001b[38;5;241;43m*\u001b[39;49m\u001b[38;5;241;43m*\u001b[39;49m\u001b[43mkwargs\u001b[49m\u001b[43m)\u001b[49m\n",
      "\u001b[0;31mFileNotFoundError\u001b[0m: [Errno 2] No such file or directory: 'test.txt'"
     ]
    }
   ],
   "source": [
    "f = open(\"test.txt\",\"r\")\n",
    "print(\"this is code after opening file\")"
   ]
  },
  {
   "cell_type": "code",
   "execution_count": null,
   "id": "96e20af2-397b-410f-815f-f52a3154d9ab",
   "metadata": {},
   "outputs": [],
   "source": [
    "# Here any code that is present after the line at which we have error won't be executed as error is thrown at \n",
    "# that line itself. This is a major problem.\n",
    "\n",
    "# we might have many lines of code and we don't know where our program is going to stop because of such errors.\n",
    "# These errors are Run time errors, there might be no syntactical errors.\n",
    "# We might get Input error, Output error ,attribute error\n",
    "\n",
    "# there are many kinds of different errors, that we might get at Run time . How to handle all such errors during\n",
    "# real time situation. So Exception Handling comes here into the picture.\n",
    "\n",
    "# It doesn't matter whether our code, generates an error during Run time, but we should always include Exception\n",
    "# handling in our code. It is a convention that we should follow.\n",
    "\n",
    "# We should also implement Logging \n",
    "# So Logging and Exception Handling should always be there in our code."
   ]
  },
  {
   "cell_type": "code",
   "execution_count": 5,
   "id": "1a35a882-b762-4afc-8c9b-ef94a0bd193e",
   "metadata": {},
   "outputs": [
    {
     "ename": "SyntaxError",
     "evalue": "incomplete input (3713282381.py, line 2)",
     "output_type": "error",
     "traceback": [
      "\u001b[0;36m  Cell \u001b[0;32mIn[5], line 2\u001b[0;36m\u001b[0m\n\u001b[0;31m    f = open(\"test.txt\",\"r\")\u001b[0m\n\u001b[0m                            ^\u001b[0m\n\u001b[0;31mSyntaxError\u001b[0m\u001b[0;31m:\u001b[0m incomplete input\n"
     ]
    }
   ],
   "source": [
    "try:\n",
    "    f = open(\"test.txt\",\"r\")"
   ]
  },
  {
   "cell_type": "code",
   "execution_count": null,
   "id": "5470301e-8b9c-4840-b91b-653c02836fa7",
   "metadata": {},
   "outputs": [],
   "source": [
    "# Try block: (try is a reserved keyword)\n",
    "# It has all the suspicious code which can generate an exception at Run time\n",
    "\n",
    "\n",
    "# Try block monitors for all exceptions and it needs someone to handle exceptions that are generated in Try block.\n",
    "# Except block : comes into picture. It is used for handling all exceptions that are generated in Try block.\n",
    "\n",
    "\n",
    "# Exception is a predefined class in Python, and it has so many exceptions that are defined as part of it."
   ]
  },
  {
   "cell_type": "code",
   "execution_count": 6,
   "id": "67bf2d8e-8c52-43c6-bb99-d71fe51508b4",
   "metadata": {},
   "outputs": [
    {
     "name": "stdout",
     "output_type": "stream",
     "text": [
      "there is some issue with my code [Errno 2] No such file or directory: 'test.txt'\n"
     ]
    }
   ],
   "source": [
    "try:\n",
    "    f = open(\"test.txt\",\"r\")\n",
    "except Exception as e :\n",
    "    print(\"there is some issue with my code\", e)\n",
    "  \n",
    "\n",
    "# Here 'e' is the exception object.\n",
    "# whenever there is an exception, it will throw an error to except block \n",
    "\n",
    "# FileNotFound exception is a child class exception of Exception class(Base/parent class)"
   ]
  },
  {
   "cell_type": "code",
   "execution_count": null,
   "id": "a5cd44e9-bca7-4e56-8213-8eaa73ffac42",
   "metadata": {},
   "outputs": [],
   "source": [
    "try:\n",
    "    f = open(\"test.txt\",\"r\")\n",
    "except Exception as e :\n",
    "    print(\"there is some issue with my code\", e)\n",
    "print(\"This is my print\")\n",
    "a = 10\n",
    "print(a)\n",
    "\n",
    "\n",
    "# Here all the code that is present after handling the exception, will also gets executed.\n",
    "# Technically we can have any number of try blocks."
   ]
  },
  {
   "cell_type": "code",
   "execution_count": null,
   "id": "f2fca013-d9d8-4b65-956a-25522edf2bad",
   "metadata": {},
   "outputs": [],
   "source": [
    "# Open file in write mode,\n",
    "try:\n",
    "    f = open(\"test.txt\",\"r\")\n",
    "    f.write(\"This is my message\")\n",
    "except Exception as e :\n",
    "    print(\"there is some issue with my code\", e)\n",
    "    \n",
    "    \n",
    "    "
   ]
  },
  {
   "cell_type": "code",
   "execution_count": null,
   "id": "163d40aa-7d07-40a6-9783-b32b99db63c0",
   "metadata": {},
   "outputs": [],
   "source": [
    "# We can't see any data inside the file, because file should be closed, then only the contents of the file\n",
    "# can be viewed."
   ]
  },
  {
   "cell_type": "code",
   "execution_count": null,
   "id": "6c8ad92b-ba82-4a98-9518-03c64ed70180",
   "metadata": {},
   "outputs": [],
   "source": [
    "try:\n",
    "    f = open(\"test.txt\",\"r\")\n",
    "    f.write(\"This is my message\")\n",
    "    f.close()\n",
    "except Exception as e :\n",
    "    print(\"there is some issue with my code\", e)"
   ]
  },
  {
   "cell_type": "code",
   "execution_count": null,
   "id": "efb15d8d-2f5c-47ae-8f6f-a26ee8ea7059",
   "metadata": {},
   "outputs": [],
   "source": [
    "# Let's see what will happen if we close file in else block\n",
    "try:\n",
    "    f = open(\"test.txt\",\"r\")\n",
    "    f.write(\"This is my message\")\n",
    "\n",
    "except Exception as e :\n",
    "    print(\"there is some issue with my code\", e)\n",
    "else:\n",
    "    f.close()\n",
    "    print(\" this block will execute once try block will execute itself without an exception\")\n",
    "    \n",
    "# else block will always be executed in 1 situation(If try block is able to get executed without any exception),\n",
    "# otherwise else block will never execute(If there is atleast one exception then else block will not gets \n",
    "#  executed)"
   ]
  },
  {
   "cell_type": "code",
   "execution_count": null,
   "id": "99964bb5-1200-42d5-b961-e439eccd40ee",
   "metadata": {},
   "outputs": [],
   "source": [
    "# the file \"test1.txt\" is not existing at all.\n",
    "\n",
    "\n",
    "# If there is an exception that is thrown, then control will move to \"except\" block.\n",
    "try:\n",
    "    f = open(\"test1.txt\",\"r\")\n",
    "    f.write(\"This is my message\")\n",
    "\n",
    "except Exception as e :\n",
    "    print(\"there is some issue with my code\", e)\n",
    "else:\n",
    "    f.close()\n",
    "    print(\" this block will execute once try block will execute itself without an exception\")\n",
    "    \n",
    "    \n",
    "# whatever code that we would like to write on successful completion of code  that is in Try block, we can have \n",
    "# inside else block."
   ]
  },
  {
   "cell_type": "code",
   "execution_count": 7,
   "id": "eb6d4be5-ae6d-4c0f-801d-31524d87e361",
   "metadata": {},
   "outputs": [
    {
     "name": "stdout",
     "output_type": "stream",
     "text": [
      "This will always be excuted\n"
     ]
    },
    {
     "ename": "FileNotFoundError",
     "evalue": "[Errno 2] No such file or directory: 'test1.txt'",
     "output_type": "error",
     "traceback": [
      "\u001b[0;31m---------------------------------------------------------------------------\u001b[0m",
      "\u001b[0;31mFileNotFoundError\u001b[0m                         Traceback (most recent call last)",
      "Cell \u001b[0;32mIn[7], line 9\u001b[0m\n\u001b[1;32m      1\u001b[0m \u001b[38;5;66;03m# finally block will always be executed, irrespective of everything. Though there is an exception, even if we \u001b[39;00m\n\u001b[1;32m      2\u001b[0m \u001b[38;5;66;03m# don't handle it, and if finally block is present after try block then also finally block will be executed.\u001b[39;00m\n\u001b[1;32m      3\u001b[0m \n\u001b[1;32m      4\u001b[0m \n\u001b[1;32m      5\u001b[0m \u001b[38;5;66;03m# It doesn't matter what happened to our code.\u001b[39;00m\n\u001b[1;32m      8\u001b[0m \u001b[38;5;28;01mtry\u001b[39;00m:\n\u001b[0;32m----> 9\u001b[0m     f \u001b[38;5;241m=\u001b[39m \u001b[38;5;28;43mopen\u001b[39;49m\u001b[43m(\u001b[49m\u001b[38;5;124;43m\"\u001b[39;49m\u001b[38;5;124;43mtest1.txt\u001b[39;49m\u001b[38;5;124;43m\"\u001b[39;49m\u001b[43m,\u001b[49m\u001b[38;5;124;43m\"\u001b[39;49m\u001b[38;5;124;43mr\u001b[39;49m\u001b[38;5;124;43m\"\u001b[39;49m\u001b[43m)\u001b[49m\n\u001b[1;32m     10\u001b[0m     f\u001b[38;5;241m.\u001b[39mwrite(\u001b[38;5;124m\"\u001b[39m\u001b[38;5;124mThis is my message\u001b[39m\u001b[38;5;124m\"\u001b[39m)\n\u001b[1;32m     11\u001b[0m \u001b[38;5;28;01mfinally\u001b[39;00m:\n",
      "File \u001b[0;32m/opt/conda/lib/python3.10/site-packages/IPython/core/interactiveshell.py:282\u001b[0m, in \u001b[0;36m_modified_open\u001b[0;34m(file, *args, **kwargs)\u001b[0m\n\u001b[1;32m    275\u001b[0m \u001b[38;5;28;01mif\u001b[39;00m file \u001b[38;5;129;01min\u001b[39;00m {\u001b[38;5;241m0\u001b[39m, \u001b[38;5;241m1\u001b[39m, \u001b[38;5;241m2\u001b[39m}:\n\u001b[1;32m    276\u001b[0m     \u001b[38;5;28;01mraise\u001b[39;00m \u001b[38;5;167;01mValueError\u001b[39;00m(\n\u001b[1;32m    277\u001b[0m         \u001b[38;5;124mf\u001b[39m\u001b[38;5;124m\"\u001b[39m\u001b[38;5;124mIPython won\u001b[39m\u001b[38;5;124m'\u001b[39m\u001b[38;5;124mt let you open fd=\u001b[39m\u001b[38;5;132;01m{\u001b[39;00mfile\u001b[38;5;132;01m}\u001b[39;00m\u001b[38;5;124m by default \u001b[39m\u001b[38;5;124m\"\u001b[39m\n\u001b[1;32m    278\u001b[0m         \u001b[38;5;124m\"\u001b[39m\u001b[38;5;124mas it is likely to crash IPython. If you know what you are doing, \u001b[39m\u001b[38;5;124m\"\u001b[39m\n\u001b[1;32m    279\u001b[0m         \u001b[38;5;124m\"\u001b[39m\u001b[38;5;124myou can use builtins\u001b[39m\u001b[38;5;124m'\u001b[39m\u001b[38;5;124m open.\u001b[39m\u001b[38;5;124m\"\u001b[39m\n\u001b[1;32m    280\u001b[0m     )\n\u001b[0;32m--> 282\u001b[0m \u001b[38;5;28;01mreturn\u001b[39;00m \u001b[43mio_open\u001b[49m\u001b[43m(\u001b[49m\u001b[43mfile\u001b[49m\u001b[43m,\u001b[49m\u001b[43m \u001b[49m\u001b[38;5;241;43m*\u001b[39;49m\u001b[43margs\u001b[49m\u001b[43m,\u001b[49m\u001b[43m \u001b[49m\u001b[38;5;241;43m*\u001b[39;49m\u001b[38;5;241;43m*\u001b[39;49m\u001b[43mkwargs\u001b[49m\u001b[43m)\u001b[49m\n",
      "\u001b[0;31mFileNotFoundError\u001b[0m: [Errno 2] No such file or directory: 'test1.txt'"
     ]
    }
   ],
   "source": [
    "# finally block will always be executed, irrespective of everything. Though there is an exception, even if we \n",
    "# don't handle it, and if finally block is present after try block then also finally block will be executed.\n",
    "\n",
    "\n",
    "# It doesn't matter what happened to our code.\n",
    "\n",
    "\n",
    "try:\n",
    "    f = open(\"test1.txt\",\"r\")\n",
    "    f.write(\"This is my message\")\n",
    "finally:\n",
    "    print(\"This will always be excuted\")\n",
    "    \n",
    "    \n",
    "# we can keep code inside finally block, which we want always to get executed.  \n",
    "    "
   ]
  },
  {
   "cell_type": "code",
   "execution_count": null,
   "id": "567a238f-f822-4fd5-a892-cb07192223fc",
   "metadata": {},
   "outputs": [],
   "source": [
    "# else block will always be executed on successful on a successful Try.\n",
    "\n",
    "try:\n",
    "    f = open(\"test.txt\",\"w\")\n",
    "    f.write(\"This is my message\")\n",
    "\n",
    "except Exception as e :\n",
    "    print(\"there is some issue with my code\", e)\n",
    "else:\n",
    "    f.close()\n",
    "    print(\" this block will execute once try block will execute itself without an exception\")\n",
    "finally:\n",
    "    print(\"This will always be excuted\")    \n",
    "    "
   ]
  }
 ],
 "metadata": {
  "kernelspec": {
   "display_name": "Python 3 (ipykernel)",
   "language": "python",
   "name": "python3"
  },
  "language_info": {
   "codemirror_mode": {
    "name": "ipython",
    "version": 3
   },
   "file_extension": ".py",
   "mimetype": "text/x-python",
   "name": "python",
   "nbconvert_exporter": "python",
   "pygments_lexer": "ipython3",
   "version": "3.10.8"
  }
 },
 "nbformat": 4,
 "nbformat_minor": 5
}
