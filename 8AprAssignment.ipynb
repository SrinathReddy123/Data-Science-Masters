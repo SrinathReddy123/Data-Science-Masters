{
 "cells": [
  {
   "cell_type": "code",
   "execution_count": null,
   "id": "370d1252-87da-4c78-8808-0844cea86b6e",
   "metadata": {},
   "outputs": [],
   "source": [
    "Answer 1:"
   ]
  },
  {
   "cell_type": "markdown",
   "id": "04f19d0f-bcfd-487a-a0c1-1ea4ca6021f1",
   "metadata": {},
   "source": [
    "In this situation, Mean Squared Error (MSE) would be the best regression metric to employ. MSE measures the average squared difference between the predicted and actual house prices. In other words, it quantifies how well the model fits the data by measuring the amount of error in the predicted values."
   ]
  },
  {
   "cell_type": "markdown",
   "id": "3aa6e037-0e9a-42d6-802e-848f129036e0",
   "metadata": {},
   "source": [
    "Using MSE as the regression metric, the SVM regression model can minimize the average squared difference between the predicted and actual house prices during training. This can result in a more accurate model for predicting house prices."
   ]
  },
  {
   "cell_type": "code",
   "execution_count": null,
   "id": "59c60f0c-c090-470d-9ae5-90a945a15585",
   "metadata": {},
   "outputs": [],
   "source": [
    "Answer 2:"
   ]
  },
  {
   "cell_type": "markdown",
   "id": "0f9c171c-ecd7-4908-bc30-74be112979a6",
   "metadata": {},
   "source": [
    "If your goal is to predict the actual price of a house as accurately as possible, Mean Squared Error (MSE) would be a more appropriate evaluation metric to use than R-squared."
   ]
  },
  {
   "cell_type": "markdown",
   "id": "985c8151-f114-4423-b33c-56281ba59ab2",
   "metadata": {},
   "source": [
    "MSE measures the average squared difference between the predicted and actual values, which provides a measure of how well the model is able to predict the target variable. A lower MSE value indicates better performance, as it means that the model's predictions are closer to the actual values."
   ]
  },
  {
   "cell_type": "markdown",
   "id": "8fce497e-3a05-42ec-aefd-dad28cd37d97",
   "metadata": {},
   "source": [
    "R-squared, on the other hand, measures the proportion of variance in the target variable that can be explained by the model. While it can be a useful metric for understanding the overall performance of the model, it does not necessarily reflect how well the model is able to predict the actual values. \n",
    "\n",
    "Additionally, R-squared can be misleading if the model is overfitting the data, as it may appear to have good performance even if it is not able to generalize well to new data."
   ]
  },
  {
   "cell_type": "markdown",
   "id": "c9f8073c-e342-467f-a9fd-2857cacdb682",
   "metadata": {},
   "source": [
    "Therefore, for the specific goal of predicting the actual price of a house as accurately as possible, MSE would be a more appropriate evaluation metric to use."
   ]
  },
  {
   "cell_type": "code",
   "execution_count": null,
   "id": "7b338281-8680-4d4a-85c8-22c84b02768c",
   "metadata": {},
   "outputs": [],
   "source": [
    "Answer 3:"
   ]
  },
  {
   "cell_type": "markdown",
   "id": "d8781b03-de68-471b-a397-7de8d20ca430",
   "metadata": {},
   "source": [
    "When dealing with a significant number of outliers, mean squared error (MSE) is not a reliable metric as it is sensitive to outliers. Instead, a more robust regression metric such as mean absolute error (MAE) or median absolute error (MedAE) would be more appropriate to use with the SVM model.\n",
    "\n",
    "These metrics are less sensitive to outliers and provide a more accurate representation of the model's performance."
   ]
  },
  {
   "cell_type": "code",
   "execution_count": null,
   "id": "bce1464e-2f7d-46a9-96d2-873f55917416",
   "metadata": {},
   "outputs": [],
   "source": [
    "Answer 4:"
   ]
  },
  {
   "cell_type": "markdown",
   "id": "1ec8d334-402d-4d07-86b8-1ef39730b668",
   "metadata": {},
   "source": [
    "In this case, since MSE and RMSE are very close, either metric can be used to evaluate the performance of the SVM regression model with a polynomial kernel.\n",
    "\n",
    "However, if interpretability is important, then MSE may be preferred since it represents the average squared difference between the predicted and actual values. \n",
    "\n",
    "On the other hand, if the focus is on the magnitude of the error, then RMSE may be preferred as it is the square root of the average squared difference and provides a more interpretable measure of the error. Ultimately, the choice of metric depends on the specific context and goals of the analysis."
   ]
  },
  {
   "cell_type": "code",
   "execution_count": null,
   "id": "7a5fa8df-e110-4753-a971-9b43c452ff10",
   "metadata": {},
   "outputs": [],
   "source": [
    "Answer 5:"
   ]
  },
  {
   "cell_type": "markdown",
   "id": "1b0a6964-cbcc-4d80-86ae-7021965848f2",
   "metadata": {},
   "source": [
    "The most appropriate metric to measure how well the model explains the variance in the target variable is the coefficient of determination or R-squared. R-squared represents the proportion of the variance in the target variable that is explained by the model. \n",
    "\n",
    "Therefore, a higher R-squared value indicates that the model is explaining a larger portion of the variance in the target variable and is a better fit for the data."
   ]
  }
 ],
 "metadata": {
  "kernelspec": {
   "display_name": "Python 3 (ipykernel)",
   "language": "python",
   "name": "python3"
  },
  "language_info": {
   "codemirror_mode": {
    "name": "ipython",
    "version": 3
   },
   "file_extension": ".py",
   "mimetype": "text/x-python",
   "name": "python",
   "nbconvert_exporter": "python",
   "pygments_lexer": "ipython3",
   "version": "3.10.8"
  }
 },
 "nbformat": 4,
 "nbformat_minor": 5
}
