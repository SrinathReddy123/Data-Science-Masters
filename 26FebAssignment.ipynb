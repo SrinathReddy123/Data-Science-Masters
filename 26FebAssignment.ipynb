{
 "cells": [
  {
   "cell_type": "code",
   "execution_count": 1,
   "id": "1b31143d-5dd2-4645-b3c2-968699036e8e",
   "metadata": {},
   "outputs": [],
   "source": [
    "import numpy as np\n"
   ]
  },
  {
   "cell_type": "code",
   "execution_count": null,
   "id": "ffc49267-8991-4e98-bd5f-3a02f4bf07fa",
   "metadata": {},
   "outputs": [],
   "source": [
    "Answer 1:"
   ]
  },
  {
   "cell_type": "code",
   "execution_count": 2,
   "id": "6cf6d748-94c4-49a6-8497-bd7f70ece980",
   "metadata": {},
   "outputs": [],
   "source": [
    "list_ = ['1', '2', '3', '4', '5']\n",
    "array_list = np.array(list_)"
   ]
  },
  {
   "cell_type": "code",
   "execution_count": 3,
   "id": "4ae22a67-ca23-42fc-9e5f-36a678787f68",
   "metadata": {},
   "outputs": [
    {
     "name": "stdout",
     "output_type": "stream",
     "text": [
      "<class 'list'>\n",
      "<class 'numpy.ndarray'>\n"
     ]
    }
   ],
   "source": [
    "print(type(list_))\n",
    "print(type(array_list))"
   ]
  },
  {
   "cell_type": "markdown",
   "id": "915fe846-2f6c-45ab-859d-dd7b8e655670",
   "metadata": {},
   "source": [
    "list_ is a Python list, while array_list is a NumPy array\n",
    "\n",
    "So, list_ is of type list, while array_list is of type numpy.ndarray"
   ]
  },
  {
   "cell_type": "code",
   "execution_count": null,
   "id": "46c772b9-0102-4911-8256-07c0a8c74835",
   "metadata": {},
   "outputs": [],
   "source": []
  },
  {
   "cell_type": "code",
   "execution_count": null,
   "id": "7f0abf74-b54b-4a2d-ad28-bf702c8c8ada",
   "metadata": {},
   "outputs": [],
   "source": [
    "Answer 2:"
   ]
  },
  {
   "cell_type": "code",
   "execution_count": 4,
   "id": "32660392-d0e7-411d-8c2c-05217041d2b6",
   "metadata": {},
   "outputs": [
    {
     "name": "stdout",
     "output_type": "stream",
     "text": [
      "<class 'str'>\n",
      "<class 'str'>\n",
      "<class 'str'>\n",
      "<class 'str'>\n",
      "<class 'str'>\n"
     ]
    }
   ],
   "source": [
    "# Print data type of each element in list_\n",
    "for element in list_:\n",
    "    print(type(element))\n",
    "\n"
   ]
  },
  {
   "cell_type": "code",
   "execution_count": 5,
   "id": "1ac90664-3e20-42b5-9582-977d03b82a0c",
   "metadata": {},
   "outputs": [
    {
     "name": "stdout",
     "output_type": "stream",
     "text": [
      "<class 'numpy.str_'>\n",
      "<class 'numpy.str_'>\n",
      "<class 'numpy.str_'>\n",
      "<class 'numpy.str_'>\n",
      "<class 'numpy.str_'>\n"
     ]
    }
   ],
   "source": [
    "# Print data type of each element in array_list\n",
    "for element in array_list:\n",
    "    print(type(element))"
   ]
  },
  {
   "cell_type": "markdown",
   "id": "08e1f2d0-4c07-4811-be0a-cce872d481de",
   "metadata": {},
   "source": [
    "As you can see, the elements in list_ are all of type str, while the elements in array_list are of\n",
    " type numpy.str_"
   ]
  },
  {
   "cell_type": "code",
   "execution_count": null,
   "id": "5e164134-210f-4a65-87e6-d9c371c5f2ba",
   "metadata": {},
   "outputs": [],
   "source": []
  },
  {
   "cell_type": "code",
   "execution_count": null,
   "id": "4297f8cb-74f2-46ee-bbbe-b18b9616c9bc",
   "metadata": {},
   "outputs": [],
   "source": [
    "Answer 3:"
   ]
  },
  {
   "cell_type": "markdown",
   "id": "f38db0f7-cf81-4d36-83c1-0fb4ad2e2ca8",
   "metadata": {},
   "source": [
    "Yes, there will be a difference in the data type of the elements present in list_ and array_list after the following change:"
   ]
  },
  {
   "cell_type": "code",
   "execution_count": 6,
   "id": "3404aec8-5945-42a3-9850-b7e36e89256c",
   "metadata": {},
   "outputs": [],
   "source": [
    "array_list = np.array(list_, dtype=int)\n"
   ]
  },
  {
   "cell_type": "markdown",
   "id": "650aa8d3-c053-4f64-94f0-25349ee7b893",
   "metadata": {},
   "source": [
    "Here, we are specifying the dtype parameter as int which means that the elements in the resulting NumPy array will be of integer type."
   ]
  },
  {
   "cell_type": "markdown",
   "id": "161e5fa8-b68a-49f2-89ea-fb4811b89de8",
   "metadata": {},
   "source": [
    "To print the data type of each and every element present in both variables list_ and array_list, you can use a loop to iterate through each element and apply the type() function. \n",
    "\n",
    "Here's an example code:"
   ]
  },
  {
   "cell_type": "code",
   "execution_count": 7,
   "id": "24c40dc2-5c78-4650-85f9-b73f91d4b491",
   "metadata": {},
   "outputs": [
    {
     "name": "stdout",
     "output_type": "stream",
     "text": [
      "<class 'str'>\n",
      "<class 'str'>\n",
      "<class 'str'>\n",
      "<class 'str'>\n",
      "<class 'str'>\n",
      "<class 'numpy.int64'>\n",
      "<class 'numpy.int64'>\n",
      "<class 'numpy.int64'>\n",
      "<class 'numpy.int64'>\n",
      "<class 'numpy.int64'>\n"
     ]
    }
   ],
   "source": [
    "# Print data type of each element in list_\n",
    "for element in list_:\n",
    "    print(type(element))\n",
    "\n",
    "# Print data type of each element in array_list\n",
    "for element in array_list:\n",
    "    print(type(element))"
   ]
  },
  {
   "cell_type": "code",
   "execution_count": null,
   "id": "f8e12740-3843-4e76-890e-f0ecb33b12f3",
   "metadata": {},
   "outputs": [],
   "source": [
    "Answer 4:"
   ]
  },
  {
   "cell_type": "code",
   "execution_count": 8,
   "id": "ae20e937-85aa-4f84-bbd7-0cc9389f62f4",
   "metadata": {},
   "outputs": [],
   "source": [
    "\n",
    "\n",
    "num_list = [ [ 1 , 2 , 3 ] , [ 4 , 5 , 6 ] ]\n",
    "\n",
    "num_array = np.array(object = num_list)"
   ]
  },
  {
   "cell_type": "code",
   "execution_count": 9,
   "id": "81f638f7-803b-482c-b69d-d8514dd79d36",
   "metadata": {},
   "outputs": [
    {
     "name": "stdout",
     "output_type": "stream",
     "text": [
      "Shape of num_array: (2, 3)\n",
      "Size of num_array: 6\n"
     ]
    }
   ],
   "source": [
    "# Print shape of num_array\n",
    "print(\"Shape of num_array:\", num_array.shape)\n",
    "\n",
    "# Print size of num_array\n",
    "print(\"Size of num_array:\", num_array.size)"
   ]
  },
  {
   "cell_type": "code",
   "execution_count": null,
   "id": "3297eb47-5def-4382-8763-44b76a42dabe",
   "metadata": {},
   "outputs": [],
   "source": []
  },
  {
   "cell_type": "code",
   "execution_count": null,
   "id": "a80dd03f-c016-4865-9ff2-04698f5c078f",
   "metadata": {},
   "outputs": [],
   "source": [
    "Answer 5:"
   ]
  },
  {
   "cell_type": "markdown",
   "id": "5ed0345a-60d6-4e5a-ad53-a705bd2cf80c",
   "metadata": {},
   "source": [
    "To create a NumPy array of 3x3 matrix containing zeros only, you can use the np.zeros() function.\n",
    "Here's an example code:"
   ]
  },
  {
   "cell_type": "code",
   "execution_count": 10,
   "id": "c9e10667-4e91-433e-a0a6-a27da09975f9",
   "metadata": {},
   "outputs": [
    {
     "name": "stdout",
     "output_type": "stream",
     "text": [
      "[[0. 0. 0.]\n",
      " [0. 0. 0.]\n",
      " [0. 0. 0.]]\n"
     ]
    }
   ],
   "source": [
    "zeros_array = np.zeros((3, 3))\n",
    "\n",
    "print(zeros_array)"
   ]
  },
  {
   "cell_type": "code",
   "execution_count": null,
   "id": "565bb2b1-400f-4409-af19-8cffca44c66c",
   "metadata": {},
   "outputs": [],
   "source": [
    "Answer 6:"
   ]
  },
  {
   "cell_type": "code",
   "execution_count": 11,
   "id": "1419f3ad-e369-4c8b-b21d-692bc1a15172",
   "metadata": {},
   "outputs": [
    {
     "name": "stdout",
     "output_type": "stream",
     "text": [
      "[[1. 0. 0. 0. 0.]\n",
      " [0. 1. 0. 0. 0.]\n",
      " [0. 0. 1. 0. 0.]\n",
      " [0. 0. 0. 1. 0.]\n",
      " [0. 0. 0. 0. 1.]]\n"
     ]
    }
   ],
   "source": [
    "\n",
    "identity_matrix = np.eye(5)\n",
    "\n",
    "print(identity_matrix)"
   ]
  },
  {
   "cell_type": "code",
   "execution_count": null,
   "id": "046f785d-2500-4c81-bbae-c9867898c1f0",
   "metadata": {},
   "outputs": [],
   "source": []
  }
 ],
 "metadata": {
  "kernelspec": {
   "display_name": "Python 3 (ipykernel)",
   "language": "python",
   "name": "python3"
  },
  "language_info": {
   "codemirror_mode": {
    "name": "ipython",
    "version": 3
   },
   "file_extension": ".py",
   "mimetype": "text/x-python",
   "name": "python",
   "nbconvert_exporter": "python",
   "pygments_lexer": "ipython3",
   "version": "3.10.8"
  }
 },
 "nbformat": 4,
 "nbformat_minor": 5
}
