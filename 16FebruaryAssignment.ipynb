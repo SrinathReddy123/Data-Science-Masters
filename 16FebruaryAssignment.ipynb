{
 "cells": [
  {
   "cell_type": "code",
   "execution_count": null,
   "id": "9d48acd0-bef8-4ef5-8afe-95eb258ca302",
   "metadata": {},
   "outputs": [],
   "source": [
    "Answer 1:"
   ]
  },
  {
   "cell_type": "markdown",
   "id": "92348dd6-f96b-48af-be0f-40ead32b1519",
   "metadata": {},
   "source": [
    "Database:\n",
    "\n",
    "A database is a collection of organized and structured data that can be easily accessed, managed, and updated. Databases are used to store and manage data for various applications, such as web applications, mobile apps, and enterprise systems."
   ]
  },
  {
   "cell_type": "markdown",
   "id": "2f818eac-1191-4fad-a417-68543da77095",
   "metadata": {},
   "source": [
    "There are two main types of databases: SQL and NoSQL. Here are the key differences between them:"
   ]
  },
  {
   "cell_type": "markdown",
   "id": "13e12ec0-656e-41b6-948b-ccc6941a9183",
   "metadata": {},
   "source": [
    "SQL Databases:\n",
    "\n",
    "SQL (Structured Query Language) databases are relational databases that use SQL to manage and query data.\n",
    "\n",
    "They have a predefined schema that defines the structure of the data and the relationships between different tables. \n",
    "SQL databases are widely used for applications that require a high degree of data integrity and consistency, such as financial systems and healthcare applications. \n",
    "Examples of SQL databases include MySQL, Oracle, and SQL Server."
   ]
  },
  {
   "cell_type": "markdown",
   "id": "dc195711-c332-478a-8c5a-4aefb8905cde",
   "metadata": {},
   "source": [
    "NoSQL Databases:\n",
    "\n",
    "NoSQL (Not Only SQL) databases are non-relational databases that are designed to handle large amounts of unstructured and semi-structured data. \n",
    "\n",
    "They do not have a fixed schema and do not use SQL for querying data.\n",
    "\n",
    "NoSQL databases are often used for big data applications, such as social media analytics and IoT (Internet of Things) systems. Examples of NoSQL databases include MongoDB, Cassandra, and DynamoDB."
   ]
  },
  {
   "cell_type": "markdown",
   "id": "a2b07bef-7182-4d3a-9ac0-cb95869d102a",
   "metadata": {},
   "source": [
    "Here are some key differences between SQL and NoSQL databases:\n",
    "\n",
    "1. Schema: SQL databases have a fixed schema, while NoSQL databases do not have a fixed schema and can easily handle unstructured and semi-structured data.\n",
    "\n",
    "2. Query Language: SQL databases use SQL for querying and managing data, while NoSQL databases use different query languages depending on the database type.\n",
    "\n",
    "3. Scalability: NoSQL databases are often more scalable than SQL databases, as they can handle large amounts of data and are designed to run on distributed systems.\n",
    "\n",
    "4. Flexibility: NoSQL databases are often more flexible than SQL databases, as they can handle different types of data, such as documents, graphs, and key-value pairs.\n",
    "\n",
    "5. Consistency: SQL databases offer strong consistency, which means that data is always in a consistent state. NoSQL databases often offer weaker consistency, which allows for faster performance and scalability, but can lead to data inconsistencies in some cases."
   ]
  },
  {
   "cell_type": "markdown",
   "id": "d63e7e96-13d1-4f82-a733-3a3548a88018",
   "metadata": {},
   "source": [
    "Overall, the choice between SQL and NoSQL databases depends on the specific requirements of the application, such as scalability, data structure, and consistency."
   ]
  },
  {
   "cell_type": "code",
   "execution_count": null,
   "id": "e7a0057f-1bdb-4e7f-82fa-da7f0b4f6d22",
   "metadata": {},
   "outputs": [],
   "source": []
  },
  {
   "cell_type": "code",
   "execution_count": null,
   "id": "e4a8a4e8-acc2-4a58-a8a0-50aa0e4c369b",
   "metadata": {},
   "outputs": [],
   "source": [
    "Answer 2:"
   ]
  },
  {
   "cell_type": "markdown",
   "id": "ff6391c1-ad8a-4ddb-8ace-cdc506a1ecff",
   "metadata": {},
   "source": [
    "DDL stands for Data Definition Language, which is a subset of SQL (Structured Query Language) used to define the structure and layout of a database.\n",
    "\n",
    "DDL commands are used to create, modify, and delete database objects such as tables, indexes, and constraints. Here are some examples of DDL commands and how they are used:"
   ]
  },
  {
   "cell_type": "markdown",
   "id": "b639bcd4-b2aa-47a8-b641-5c8e5948d966",
   "metadata": {},
   "source": [
    "CREATE:\n",
    "\n",
    "The CREATE command is used to create new database objects, such as tables, indexes, or views.\n",
    "For example, to create a new table in a database, you can use the following CREATE command:"
   ]
  },
  {
   "cell_type": "code",
   "execution_count": null,
   "id": "eb3de055-5ec5-4ee8-a90a-b3b88f5d2427",
   "metadata": {},
   "outputs": [],
   "source": [
    "CREATE TABLE customers (\n",
    "   id INT PRIMARY KEY,\n",
    "   name VARCHAR(255),\n",
    "   email VARCHAR(255)\n",
    ");"
   ]
  },
  {
   "cell_type": "markdown",
   "id": "3c1e19d0-9dcf-4155-b753-cc89fac572b0",
   "metadata": {},
   "source": [
    "DROP:\n",
    "\n",
    "The DROP command is used to remove an existing database object, such as a table or an index.\n",
    "\n",
    "For example, to drop the \"customers\" table created in the previous example, you can use the following DROP command:"
   ]
  },
  {
   "cell_type": "code",
   "execution_count": null,
   "id": "afa41922-e24e-4388-80a6-123d12b5bd96",
   "metadata": {},
   "outputs": [],
   "source": [
    "Eg : DROP TABLE customers;\n"
   ]
  },
  {
   "cell_type": "markdown",
   "id": "6c431a62-e53a-4375-a3b2-19b4df5152d6",
   "metadata": {},
   "source": [
    "This command deletes the \"customers\" table and all its associated data from the database."
   ]
  },
  {
   "cell_type": "markdown",
   "id": "13283bb3-a27b-4e4d-9b05-a581c3574207",
   "metadata": {},
   "source": [
    "ALTER:\n",
    "\n",
    "The ALTER command is used to modify the structure of an existing database object, such as a table or a column.\n",
    "\n",
    "For example, to add a new column called \"phone\" to the \"customers\" table created earlier, you can use the following ALTER command:"
   ]
  },
  {
   "cell_type": "code",
   "execution_count": null,
   "id": "b188f77d-9dd9-4955-a9eb-2bfe687f8ef2",
   "metadata": {},
   "outputs": [],
   "source": [
    "Eg : ALTER TABLE customers ADD COLUMN phone VARCHAR(20);\n"
   ]
  },
  {
   "cell_type": "code",
   "execution_count": null,
   "id": "f2bbb805-3c3a-440f-9813-94e4d6c50146",
   "metadata": {},
   "outputs": [],
   "source": [
    "This command adds a new column called \"phone\" to the \"customers\" table with a data type of VARCHAR(20)."
   ]
  },
  {
   "cell_type": "markdown",
   "id": "ce079569-a06c-462f-a8b3-b9f50694a955",
   "metadata": {},
   "source": [
    "TRUNCATE:\n",
    "\n",
    "The TRUNCATE command is used to delete all the data from a table without deleting the table structure itself.\n",
    "\n",
    "For example, to remove all the data from the \"customers\" table created earlier, you can use the following TRUNCATE command:"
   ]
  },
  {
   "cell_type": "code",
   "execution_count": null,
   "id": "4a1151c4-62ba-4b8e-a186-95763c8e8e42",
   "metadata": {},
   "outputs": [],
   "source": [
    "Eg : TRUNCATE TABLE customers;\n"
   ]
  },
  {
   "cell_type": "code",
   "execution_count": null,
   "id": "1245b3e8-d113-4201-9957-e3c3bcc84412",
   "metadata": {},
   "outputs": [],
   "source": [
    "This command removes all the data from the \"customers\" table, but keeps the table structure intact."
   ]
  },
  {
   "cell_type": "markdown",
   "id": "2d7f65c2-424b-4f25-a7cf-7a250da830c0",
   "metadata": {},
   "source": [
    "This command creates a new table called \"customers\" with three columns: \"id\", \"name\", and \"email\". The \"id\" column is defined as the primary key of the table.\n",
    "\n",
    "Primary key makes sures that no two tuples have same values for all attributes.\n",
    "Primary key will always be unique, and it can't be NULL."
   ]
  },
  {
   "cell_type": "markdown",
   "id": "ec0337f9-1a98-4b7a-897b-62bda516e443",
   "metadata": {},
   "source": [
    "In summary, DDL commands are used to create, modify, and delete database structures.\n",
    "\n",
    "CREATE is used to create new database objects, DROP is used to delete database objects, ALTER is used to modify the structure of existing database objects, and TRUNCATE is used to delete data from a table without deleting the table structure."
   ]
  },
  {
   "cell_type": "code",
   "execution_count": null,
   "id": "08269f65-4cb6-4aa6-abc0-6116f73d12b2",
   "metadata": {},
   "outputs": [],
   "source": []
  },
  {
   "cell_type": "code",
   "execution_count": null,
   "id": "8dc4bef5-03fc-47b8-8068-3dd1184cff7c",
   "metadata": {},
   "outputs": [],
   "source": [
    "Answer 3:"
   ]
  },
  {
   "cell_type": "markdown",
   "id": "cf14e2ce-cd63-4085-a813-08a8fae15bd1",
   "metadata": {},
   "source": [
    "DML stands for Data Manipulation Language, which is a subset of SQL (Structured Query Language) used to manipulate data within a database.\n",
    "\n",
    "The three main commands in DML are INSERT, UPDATE, and DELETE. Here is a brief explanation of each command and an example:"
   ]
  },
  {
   "cell_type": "code",
   "execution_count": null,
   "id": "7e12a7aa-da27-4fd7-87dd-3cac65ba3963",
   "metadata": {},
   "outputs": [],
   "source": [
    "INSERT - The INSERT command is used to add new data into a table. The basic syntax is:"
   ]
  },
  {
   "cell_type": "code",
   "execution_count": null,
   "id": "d7f7a5f2-746b-4378-83a4-5ffb21427e6d",
   "metadata": {},
   "outputs": [],
   "source": [
    "INSERT INTO table_name (column1, column2, column3, ...)\n",
    "VALUES (value1, value2, value3, ...);\n"
   ]
  },
  {
   "cell_type": "markdown",
   "id": "e84f407c-34ac-4f02-b8e6-dd31765b9979",
   "metadata": {},
   "source": [
    "For example, suppose we have a table named \"customers\" with columns \"customer_id,\" \"first_name,\" and \"last_name.\" To add a new customer to the table, we can use the following command:"
   ]
  },
  {
   "cell_type": "code",
   "execution_count": null,
   "id": "6644aecc-6e78-4289-ad37-93221bc3a5f4",
   "metadata": {},
   "outputs": [],
   "source": [
    "INSERT INTO customers (customer_id, first_name, last_name)\n",
    "VALUES (1, 'John', 'Doe');\n"
   ]
  },
  {
   "cell_type": "markdown",
   "id": "94a9cab3-c1e4-47c8-8722-238fc66250f2",
   "metadata": {},
   "source": [
    "This command will insert a new row with customer_id = 1, first_name = 'John', and last_name = 'Doe' into the customers table."
   ]
  },
  {
   "cell_type": "code",
   "execution_count": null,
   "id": "414b1347-243e-43f2-9146-0bfd00044fb5",
   "metadata": {},
   "outputs": [],
   "source": []
  },
  {
   "cell_type": "markdown",
   "id": "96ca6a54-30f1-45b2-a621-4be61ba6915f",
   "metadata": {},
   "source": [
    "UPDATE - The UPDATE command is used to modify existing data in a table. The basic syntax is:"
   ]
  },
  {
   "cell_type": "code",
   "execution_count": null,
   "id": "a820f89a-2281-484e-ae88-be3351a3e997",
   "metadata": {},
   "outputs": [],
   "source": [
    "UPDATE table_name\n",
    "SET column1 = value1, column2 = value2, ...\n",
    "WHERE condition;\n"
   ]
  },
  {
   "cell_type": "markdown",
   "id": "94577c95-1cc7-4fd5-a91a-f5a7f24001b6",
   "metadata": {},
   "source": [
    "For example, suppose we want to update the last name of the customer with customer_id = 1 to 'Srinath.' We can use the following command:"
   ]
  },
  {
   "cell_type": "code",
   "execution_count": null,
   "id": "670e28ef-29bc-4a34-b46b-009fac30d8dc",
   "metadata": {},
   "outputs": [],
   "source": [
    "UPDATE customers\n",
    "SET last_name = 'Srinath'\n",
    "WHERE customer_id = 1;\n"
   ]
  },
  {
   "cell_type": "code",
   "execution_count": null,
   "id": "b954d3f8-2309-4af0-b6d4-2764601f538d",
   "metadata": {},
   "outputs": [],
   "source": [
    "This command will update the last name of the customer with customer_id = 1 to 'Srinath' in the customers table."
   ]
  },
  {
   "cell_type": "code",
   "execution_count": null,
   "id": "9c8ddb35-fd38-4ae0-99c7-1e422d645b36",
   "metadata": {},
   "outputs": [],
   "source": []
  },
  {
   "cell_type": "code",
   "execution_count": null,
   "id": "de9953d4-28ed-41d4-9a20-d1a661acf1a5",
   "metadata": {},
   "outputs": [],
   "source": [
    "DELETE - The DELETE command is used to remove data from a table. The basic syntax is:"
   ]
  },
  {
   "cell_type": "code",
   "execution_count": null,
   "id": "c5052739-6bc6-4a32-ad6e-f407ab2a6a54",
   "metadata": {},
   "outputs": [],
   "source": [
    "DELETE FROM table_name\n",
    "WHERE condition;\n"
   ]
  },
  {
   "cell_type": "markdown",
   "id": "ab125a27-a42d-48ed-a588-64d681de2259",
   "metadata": {},
   "source": [
    "For example, suppose we want to delete the customer with customer_id = 1 from the customers table. We can use the following command:"
   ]
  },
  {
   "cell_type": "code",
   "execution_count": null,
   "id": "611201ad-f040-485d-ad46-2f599eade75a",
   "metadata": {},
   "outputs": [],
   "source": [
    "DELETE FROM customers\n",
    "WHERE customer_id = 1;\n"
   ]
  },
  {
   "cell_type": "code",
   "execution_count": null,
   "id": "0b595223-2d13-40c5-9fde-184e1fca6959",
   "metadata": {},
   "outputs": [],
   "source": [
    "This command will delete the row with customer_id = 1 from the customers table."
   ]
  },
  {
   "cell_type": "code",
   "execution_count": null,
   "id": "78b16215-5622-4679-91c0-709bcf32dd83",
   "metadata": {},
   "outputs": [],
   "source": []
  },
  {
   "cell_type": "code",
   "execution_count": null,
   "id": "d18f2a8b-d3bf-4c12-bf2d-39ffd594a6bf",
   "metadata": {},
   "outputs": [],
   "source": [
    "Answer 4:"
   ]
  },
  {
   "cell_type": "markdown",
   "id": "8e4b353c-87f8-409d-9ad6-72fd9f99aa29",
   "metadata": {},
   "source": [
    "DQL stands for Data Query Language, which is a subset of SQL (Structured Query Language) used for retrieving data from a relational database. \n",
    "\n",
    "It is one of the four fundamental operations of CRUD (Create, Read, Update, Delete) used to manipulate data in a database."
   ]
  },
  {
   "cell_type": "markdown",
   "id": "48c73553-1e88-485e-bb89-27175291d172",
   "metadata": {},
   "source": [
    "The SELECT statement is used in DQL to retrieve data from a database table. The basic syntax of the SELECT statement is:"
   ]
  },
  {
   "cell_type": "code",
   "execution_count": null,
   "id": "551afae0-224e-46a3-8a82-654fcdb93c3b",
   "metadata": {},
   "outputs": [],
   "source": [
    "SELECT column1, column2, ..., columnN\n",
    "FROM table_name;\n"
   ]
  },
  {
   "cell_type": "markdown",
   "id": "e4247086-9dfd-4b84-b764-54f1b44a5b0a",
   "metadata": {},
   "source": [
    "Here, column1 to columnN are the names of the columns that you want to retrieve data from, and table_name is the name of the table from which you want to retrieve data. You can specify one or more columns to retrieve data from.\n",
    "If you want to retrieve all the columns from the table, you can use the wildcard * instead of specifying the column names."
   ]
  },
  {
   "cell_type": "markdown",
   "id": "a2569485-6da3-47a7-971c-e76b736c0104",
   "metadata": {},
   "source": [
    "For example, if you have a table named employees with columns id, name, age, and salary, and you want to retrieve the name and salary of all employees, you can use the following SELECT statement:"
   ]
  },
  {
   "cell_type": "code",
   "execution_count": null,
   "id": "ce261ef6-41f7-422a-831a-4657fccd78d5",
   "metadata": {},
   "outputs": [],
   "source": [
    "SELECT name, salary\n",
    "FROM employees;\n"
   ]
  },
  {
   "cell_type": "markdown",
   "id": "93416721-982a-4808-b9b0-164b9867ccad",
   "metadata": {},
   "source": [
    "This statement will retrieve the name and salary columns from the employees table.\n",
    "\n",
    "You can also use the WHERE clause to filter the results based on a specific condition. \n",
    "For example, if you want to retrieve the name and salary of all employees whose age is greater than 30, you can use the following SELECT statement:"
   ]
  },
  {
   "cell_type": "code",
   "execution_count": null,
   "id": "a6b02ee7-25a7-45df-a056-257a2f155338",
   "metadata": {},
   "outputs": [],
   "source": [
    "SELECT name, salary\n",
    "FROM employees\n",
    "WHERE age > 30;\n"
   ]
  },
  {
   "cell_type": "markdown",
   "id": "b1a70041-c9be-498f-96f1-6638bc185a73",
   "metadata": {},
   "source": [
    "This statement will retrieve the name and salary columns from the employees table where the age is greater than 30."
   ]
  },
  {
   "cell_type": "code",
   "execution_count": null,
   "id": "a786f917-eb5e-4952-a535-6c2e2ede2773",
   "metadata": {},
   "outputs": [],
   "source": [
    "Answer 5:"
   ]
  },
  {
   "cell_type": "markdown",
   "id": "31934a72-b7ab-4cb8-a91e-c0f7a67238c4",
   "metadata": {},
   "source": [
    " A Primary key is a column or set of columns that uniquely identifies each row in a table. \n",
    " It is used to enforce data integrity and ensure that each row in the table is uniquely identifiable.\n",
    "\n",
    "\n",
    "The primary key can be any combination of columns that uniquely identifies a row in a table, but typically a single column is used as the primary key."
   ]
  },
  {
   "cell_type": "markdown",
   "id": "3df07226-e6e2-4eb8-8151-86c37b51e3f2",
   "metadata": {},
   "source": [
    "A foreign key is a column or set of columns in a table that refers to the primary key of another table.\n",
    "\n",
    "It is used to establish a relationship between two tables and ensure that the data in the tables remain consistent.\n",
    "\n",
    "The foreign key constraint ensures that the values in the foreign key column(s) match the values in the primary key column(s) of the referenced table."
   ]
  },
  {
   "cell_type": "markdown",
   "id": "c5b194a8-4cf8-4dd1-a7ac-2664cbab04d1",
   "metadata": {},
   "source": [
    "In summary, a primary key uniquely identifies each row in a table, while a foreign key establishes a relationship between two tables by referring to the primary key of another table."
   ]
  },
  {
   "cell_type": "code",
   "execution_count": null,
   "id": "e9295512-3228-48a9-ab6e-beb66147cdac",
   "metadata": {},
   "outputs": [],
   "source": [
    "Answer 6:"
   ]
  },
  {
   "cell_type": "markdown",
   "id": "79dd9777-a282-4b15-b1c9-90cba14bfe84",
   "metadata": {},
   "source": [
    "To connect MySQL to Python, we can use the mysql-connector-python module.\n",
    "\n",
    "Here is an example Python code to connect to a MySQL database using this module:"
   ]
  },
  {
   "cell_type": "code",
   "execution_count": null,
   "id": "8bbae99f-4d85-4e32-8258-dd0df8f1653b",
   "metadata": {},
   "outputs": [],
   "source": [
    "import mysql.connector\n",
    "\n",
    "mydb = mysql.connector.connect(\n",
    "  host=\"localhost\",\n",
    "  user=\"username\",\n",
    "  password=\"password\",\n",
    "  database=\"database_name\"\n",
    ")\n",
    "\n",
    "mycursor = mydb.cursor()\n",
    "\n",
    "mycursor.execute(\"SELECT * FROM customers\")\n",
    "\n",
    "myresult = mycursor.fetchall()\n",
    "\n",
    "for x in myresult:\n",
    "  print(x)\n"
   ]
  },
  {
   "cell_type": "markdown",
   "id": "39230542-c04d-4ae6-b84e-2077564f18ed",
   "metadata": {},
   "source": [
    "In this code, we first import the mysql.connector module and use the connect() method to connect to the MySQL database. We pass the host, user, password, and database name as arguments to the connect() method."
   ]
  },
  {
   "cell_type": "markdown",
   "id": "88b0db40-4aa3-44cc-9dd4-652f5b2400a2",
   "metadata": {},
   "source": [
    "We then create a cursor object using the cursor() method of the database connection object. The cursor object is used to execute SQL queries and fetch results."
   ]
  },
  {
   "cell_type": "markdown",
   "id": "bd8c5110-7f9c-46cd-b3ac-612ca574dc01",
   "metadata": {},
   "source": [
    "The execute() method of the cursor object is used to execute SQL queries. We pass the SQL query as a string argument to the execute() method. In this example, we execute a SELECT query to retrieve all rows from the customers table."
   ]
  },
  {
   "cell_type": "markdown",
   "id": "bdd04a9e-071a-4e45-bbea-7220ece88ad4",
   "metadata": {},
   "source": [
    "The fetchall() method of the cursor object is used to fetch all the rows returned by the SELECT query. The rows are returned as a list of tuples."
   ]
  },
  {
   "cell_type": "code",
   "execution_count": null,
   "id": "cb47000c-e192-4b74-afb2-d95149ae4c3f",
   "metadata": {},
   "outputs": [],
   "source": []
  },
  {
   "cell_type": "markdown",
   "id": "4fedab87-5de1-443c-a68a-1f064317b266",
   "metadata": {},
   "source": [
    "The cursor() method creates a cursor object, which is used to execute SQL queries and fetch results. \n",
    "The cursor object provides methods to execute SQL queries and fetch the results, such as execute(), fetchone(), and fetchall()."
   ]
  },
  {
   "cell_type": "markdown",
   "id": "068becb6-88aa-4c83-a743-2ea48b1b096a",
   "metadata": {},
   "source": [
    "The execute() method of the cursor object is used to execute SQL queries. We pass the SQL query as a string argument to the execute() method. \n",
    "The execute() method returns None if the query is successful, or raises an exception if there is an error."
   ]
  },
  {
   "cell_type": "markdown",
   "id": "c7b765cb-092f-4b6f-aa77-14d38831bf85",
   "metadata": {},
   "source": [
    "In summary, the cursor() method creates a cursor object, which is used to execute SQL queries and fetch results, and the execute() method of the cursor object is used to execute SQL queries."
   ]
  },
  {
   "cell_type": "code",
   "execution_count": null,
   "id": "e372db64-b0ea-4f82-b106-8c69713602c1",
   "metadata": {},
   "outputs": [],
   "source": []
  },
  {
   "cell_type": "code",
   "execution_count": null,
   "id": "d64ab1cc-e77a-4ceb-b798-4db1b59aae53",
   "metadata": {},
   "outputs": [],
   "source": [
    "Answer 7:\n",
    "    "
   ]
  },
  {
   "cell_type": "code",
   "execution_count": null,
   "id": "3cb3c115-16d1-4739-9372-bbac4456a2b7",
   "metadata": {},
   "outputs": [],
   "source": [
    "In an SQL query, the order of execution of SQL clauses is as follows:"
   ]
  },
  {
   "cell_type": "markdown",
   "id": "1d8b990d-69a9-4405-9973-525173ac5b67",
   "metadata": {},
   "source": [
    "1. FROM clause: specifies the table or tables from which data is being selected\n",
    "\n",
    "2. JOIN clause: used to join tables based on a specified condition\n",
    "\n",
    "3. WHERE clause: specifies the condition(s) that must be met for a row to be included in the query results\n",
    "\n",
    "4. GROUP BY clause: used to group the rows returned by the query by one or more columns\n",
    "\n",
    "5. HAVING clause: specifies the condition(s) that must be met for a group of rows to be included in the query results\n",
    "\n",
    "6. SELECT clause: specifies the columns to be returned in the query results\n",
    "\n",
    "7. ORDER BY clause: used to sort the query results based on one or more columns\n",
    "\n",
    "8. LIMIT clause: used to limit the number of rows returned by the query"
   ]
  },
  {
   "cell_type": "markdown",
   "id": "a9c581e8-4ef1-4b63-8caf-00f9c85cbd46",
   "metadata": {},
   "source": [
    "It is important to note that not all of these clauses are required in every query.\n",
    "\n",
    "The FROM and SELECT clauses are the minimum requirements for an SQL query. Other clauses can be added to modify the behavior of the query and customize the results."
   ]
  }
 ],
 "metadata": {
  "kernelspec": {
   "display_name": "Python 3 (ipykernel)",
   "language": "python",
   "name": "python3"
  },
  "language_info": {
   "codemirror_mode": {
    "name": "ipython",
    "version": 3
   },
   "file_extension": ".py",
   "mimetype": "text/x-python",
   "name": "python",
   "nbconvert_exporter": "python",
   "pygments_lexer": "ipython3",
   "version": "3.10.8"
  }
 },
 "nbformat": 4,
 "nbformat_minor": 5
}
