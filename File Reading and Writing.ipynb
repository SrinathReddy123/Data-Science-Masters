{
 "cells": [
  {
   "cell_type": "code",
   "execution_count": 2,
   "id": "212b0837-a235-423e-8a50-d1750c681048",
   "metadata": {},
   "outputs": [],
   "source": [
    "data = {\n",
    "    \"name\": \"sudh\",\n",
    "    \"email_id\":\"sri@gmail.com\",\n",
    "    \"phoneno\":123454321,\n",
    "    \"subjects\":[\"Data Science\",\"Big Data\",\"Data Analytics\"]\n",
    "}"
   ]
  },
  {
   "cell_type": "code",
   "execution_count": null,
   "id": "9a819b85-b9f0-44f8-b55f-6bbb00234480",
   "metadata": {},
   "outputs": [],
   "source": [
    "# It is a dictionary object, it is equivalent to JSON(JavaScript Object Notation)\n",
    "# JSON tries to store all the information in <key,value> pairs."
   ]
  },
  {
   "cell_type": "code",
   "execution_count": 4,
   "id": "510e54b6-51d2-426a-ab92-5e9f7cbbedc5",
   "metadata": {},
   "outputs": [],
   "source": [
    "import json\n",
    "\n",
    "# we imported JSON module, and it is by default available in python installation"
   ]
  },
  {
   "cell_type": "code",
   "execution_count": 6,
   "id": "90e4324e-7809-48d2-a38a-0fbe418dd0f2",
   "metadata": {},
   "outputs": [],
   "source": [
    "with open(\"test33.json\",\"w\") as f:\n",
    "    json.dump(data,f)\n",
    "    "
   ]
  },
  {
   "cell_type": "code",
   "execution_count": null,
   "id": "0538a1ac-9678-4dba-bba0-a953d4a478f4",
   "metadata": {},
   "outputs": [],
   "source": [
    "\"\"\" This code opens a file named \"test33.json\" in write mode, and writes the contents of the variable \"data\" to \n",
    "the file in JSON format using the json.dump() method. The \"with\" statement ensures that the file is\n",
    "automatically closed after the write operation is completed. \"\"\"\n",
    "\n",
    "# Here upon execution of above cell, a new file named test33.json will be created in write mode, and it writes\n",
    "# the contents of data into test33.json file through dump().\n",
    "\n",
    "# For json - to write we use dump()\n",
    "# For json - to read we use load()"
   ]
  },
  {
   "cell_type": "code",
   "execution_count": 7,
   "id": "754b0ef0-2fd4-4162-8c41-ff6bf7de8238",
   "metadata": {},
   "outputs": [],
   "source": [
    "with open(\"test33.json\",\"r\") as f:\n",
    "    data1 = json.load(f)"
   ]
  },
  {
   "cell_type": "code",
   "execution_count": 8,
   "id": "0402d4c8-02f8-413b-bcb6-ae7b39b53533",
   "metadata": {},
   "outputs": [
    {
     "data": {
      "text/plain": [
       "{'name': 'sudh',\n",
       " 'email_id': 'sri@gmail.com',\n",
       " 'phoneno': 123454321,\n",
       " 'subjects': ['Data Science', 'Big Data', 'Data Analytics']}"
      ]
     },
     "execution_count": 8,
     "metadata": {},
     "output_type": "execute_result"
    }
   ],
   "source": [
    "data1"
   ]
  },
  {
   "cell_type": "code",
   "execution_count": null,
   "id": "fcca4476-155c-4950-901b-53b36b2796b5",
   "metadata": {},
   "outputs": [],
   "source": [
    "\"\"\"This code opens a file named \"test33.json\" in read mode, and reads the contents of the file in JSON format\n",
    "   using the json.load() method, and stores the contents in the variable \"data1\". The \"with\" statement ensures\n",
    "   that the file is automatically closed after the read operation is completed. \"\"\"\n",
    "\n",
    "\n",
    "# Here \"test33.json\" named file will be opened in read mode and it reads contents of test33.json file, and \n",
    "# stores it in  variable called data1 using json.load()."
   ]
  },
  {
   "cell_type": "code",
   "execution_count": 10,
   "id": "58ca9a34-65b3-4c24-9e86-8a67a599438b",
   "metadata": {},
   "outputs": [
    {
     "data": {
      "text/plain": [
       "'Big Data'"
      ]
     },
     "execution_count": 10,
     "metadata": {},
     "output_type": "execute_result"
    }
   ],
   "source": [
    "# How to retrieve Data Science\n",
    "data1['subjects'][1]"
   ]
  },
  {
   "cell_type": "code",
   "execution_count": null,
   "id": "00db5f16-3160-4fe0-a2cc-4b88421ff7ac",
   "metadata": {},
   "outputs": [],
   "source": [
    "# CSV Comma Sepearted Value\n",
    "# How do we do read and write operations on this data."
   ]
  },
  {
   "cell_type": "code",
   "execution_count": 11,
   "id": "610854a4-debb-4ff9-88cf-67eb666664b4",
   "metadata": {},
   "outputs": [],
   "source": [
    "data = [[\"name\",\"email_id\",\"phone\"],\n",
    "        [\"sudh\",\"sri@gmail.com\",1234],\n",
    "        [\"krish\",\"kris@gmail.com\",4321]]\n",
    "\n",
    "# The above data can be stored in CSV file.\n",
    "# here we data such that each item in list is also a list, we can store each item in list in 1 row."
   ]
  },
  {
   "cell_type": "code",
   "execution_count": 12,
   "id": "8f9ee514-69d2-444f-8915-cb5899923aa1",
   "metadata": {},
   "outputs": [],
   "source": [
    "import csv"
   ]
  },
  {
   "cell_type": "code",
   "execution_count": 13,
   "id": "31cf8ec1-38a5-4a1d-84bb-ed177e2cccd4",
   "metadata": {},
   "outputs": [],
   "source": [
    "with open(\"test3.csv\",'w') as f:\n",
    "    w = csv.writer(f)\n",
    "    for i in data:\n",
    "        w.writerow(i)\n",
    "        \n",
    "\n",
    "# This code opens a file named \"test3.csv\" in write mode, creates a csv writer object using the csv.writer()\n",
    "# method, and writes the contents of the variable \"data\" to the file. Each item in \"data\" is written as a \n",
    "# separate row using the writerow() method of the csv writer object. The \"with\" statement ensures that the file\n",
    "# is automatically closed after the write operation is completed.   \n",
    "\n",
    "\n",
    "\n",
    "\n",
    "\"\"\" Here we iterated through the list(data) one after the other and write it to 'w' variable\"\"\""
   ]
  },
  {
   "cell_type": "code",
   "execution_count": null,
   "id": "266857c8-af69-4088-9df6-6daa5febeeaf",
   "metadata": {},
   "outputs": [],
   "source": [
    "# upon running above cell,then \"test3.csv\" named file will be created and into this the "
   ]
  },
  {
   "cell_type": "code",
   "execution_count": 14,
   "id": "3c29eac9-b23b-4585-b001-8ba743b69fa9",
   "metadata": {},
   "outputs": [
    {
     "name": "stdout",
     "output_type": "stream",
     "text": [
      "['name', 'email_id', 'phone']\n",
      "['sudh', 'sri@gmail.com', '1234']\n",
      "['krish', 'kris@gmail.com', '4321']\n"
     ]
    }
   ],
   "source": [
    "with open(\"test3.csv\",\"r\") as f :\n",
    "    read = csv.reader(f)\n",
    "    for i in read:\n",
    "        print(i)\n",
    "        "
   ]
  },
  {
   "cell_type": "code",
   "execution_count": null,
   "id": "c3adbf69-c11d-4d81-90e5-e8aed7261005",
   "metadata": {},
   "outputs": [],
   "source": [
    "\"\"\" This code opens a file named \"test3.csv\" in read mode, creates a csv reader object using the csv.reader() \n",
    " method, and assigns it to the variable \"read\". The csv reader object can be used to iterate over the contents\n",
    " of the CSV file row by row.  It then iterates over the contents of the CSV file row by row using a for loop, \n",
    " and prints each row using the print() function. This code will print each row of the CSV file to the console.\n",
    " The \"with\" statement ensures that the file is automatically closed after the read operation is completed. \"\"\""
   ]
  },
  {
   "cell_type": "code",
   "execution_count": null,
   "id": "8499aff3-4853-4adc-83ac-63a9ec5ca5f4",
   "metadata": {},
   "outputs": [],
   "source": [
    "# Binary data read and write - data which may be available in the form of audio, video , images"
   ]
  },
  {
   "cell_type": "code",
   "execution_count": 15,
   "id": "09e832d6-440b-4e7c-b669-f66522a01d05",
   "metadata": {},
   "outputs": [],
   "source": [
    "# the extension of files is different, json is different, csv is different, bin is different etc.\n",
    "# wb - write binary mode\n",
    "# as is used for aliasing/renaming\n",
    "# for binary, at beginning we give b\n",
    "\n",
    "\n",
    "# Eg of write into binary files.\n",
    "with open(\"test4.bin\",\"wb\") as f:\n",
    "    f.write(b\"\\x01\\x02\\x03\")"
   ]
  },
  {
   "cell_type": "code",
   "execution_count": null,
   "id": "cf189130-a55b-4779-9f07-d0c856b1a90a",
   "metadata": {},
   "outputs": [],
   "source": [
    "# Now a bin file named \"test4.bin\" will be created if the file is not existing previously."
   ]
  },
  {
   "cell_type": "code",
   "execution_count": 16,
   "id": "820024da-af82-4986-b1d6-6498b69a563d",
   "metadata": {},
   "outputs": [
    {
     "name": "stdout",
     "output_type": "stream",
     "text": [
      "b'\\x01\\x02\\x03'\n"
     ]
    }
   ],
   "source": [
    "\n",
    "# Eg of reading from binary file\n",
    "with open(\"test4.bin\", \"rb\") as f :\n",
    "    print(f.read())\n",
    "    "
   ]
  },
  {
   "cell_type": "code",
   "execution_count": null,
   "id": "f9cb7b1b-1845-47d4-bb19-6f11143afa14",
   "metadata": {},
   "outputs": [],
   "source": []
  }
 ],
 "metadata": {
  "kernelspec": {
   "display_name": "Python 3 (ipykernel)",
   "language": "python",
   "name": "python3"
  },
  "language_info": {
   "codemirror_mode": {
    "name": "ipython",
    "version": 3
   },
   "file_extension": ".py",
   "mimetype": "text/x-python",
   "name": "python",
   "nbconvert_exporter": "python",
   "pygments_lexer": "ipython3",
   "version": "3.10.8"
  }
 },
 "nbformat": 4,
 "nbformat_minor": 5
}
