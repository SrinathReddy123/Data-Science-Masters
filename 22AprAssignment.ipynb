{
 "cells": [
  {
   "cell_type": "code",
   "execution_count": null,
   "id": "bab872fe-5551-4cf4-bd51-70d71a0f541a",
   "metadata": {},
   "outputs": [],
   "source": [
    "Answer 1:"
   ]
  },
  {
   "cell_type": "code",
   "execution_count": 1,
   "id": "f8cf0778-2286-4c51-95de-e8e1bd3aeff4",
   "metadata": {},
   "outputs": [
    {
     "name": "stdout",
     "output_type": "stream",
     "text": [
      "Accuracy: 1.0\n"
     ]
    }
   ],
   "source": [
    "from sklearn.datasets import load_iris\n",
    "from sklearn.model_selection import train_test_split\n",
    "from sklearn.neighbors import KNeighborsClassifier\n",
    "from sklearn.metrics import accuracy_score\n",
    "\n",
    "# Load iris dataset\n",
    "iris = load_iris()\n",
    "\n",
    "# Split data into training and testing sets\n",
    "X_train, X_test, y_train, y_test = train_test_split(iris.data, iris.target, test_size=0.2, random_state=42)\n",
    "\n",
    "# Create KNN classifier object with k=3\n",
    "knn = KNeighborsClassifier(n_neighbors=3)\n",
    "\n",
    "# Train the model using the training sets\n",
    "knn.fit(X_train, y_train)\n",
    "\n",
    "# Predict the response for test dataset\n",
    "y_pred = knn.predict(X_test)\n",
    "\n",
    "# Calculate the accuracy of the model\n",
    "accuracy = accuracy_score(y_test, y_pred)\n",
    "print(\"Accuracy:\", accuracy)\n"
   ]
  },
  {
   "cell_type": "markdown",
   "id": "f9842df6-40a1-4854-b939-0c38347c3229",
   "metadata": {},
   "source": [
    "In this code, we first load the iris dataset using the load_iris() function from Scikit-learn. We then split the data into training and testing sets using the train_test_split() function."
   ]
  },
  {
   "cell_type": "markdown",
   "id": "beec4f59-50cb-4468-91eb-d44ff6ffa2d6",
   "metadata": {},
   "source": [
    "Next, we create a KNN classifier object with n_neighbors=3 and train the model using the fit() function with the training data. We then use the trained model to predict the response for the test data using the predict() function."
   ]
  },
  {
   "cell_type": "markdown",
   "id": "8ae94f95-4c59-4bf9-aa68-f87465baf90d",
   "metadata": {},
   "source": [
    "Finally, we calculate the accuracy of the model using the accuracy_score() function from Scikit-learn and print it to the console."
   ]
  },
  {
   "cell_type": "code",
   "execution_count": null,
   "id": "adf315d4-00b5-440e-ae9e-bc101dae6459",
   "metadata": {},
   "outputs": [],
   "source": [
    "Answer 2:"
   ]
  },
  {
   "cell_type": "code",
   "execution_count": 2,
   "id": "11bff8d2-2232-4ef4-b6fb-9596025e7d92",
   "metadata": {},
   "outputs": [
    {
     "ename": "ImportError",
     "evalue": "\n`load_boston` has been removed from scikit-learn since version 1.2.\n\nThe Boston housing prices dataset has an ethical problem: as\ninvestigated in [1], the authors of this dataset engineered a\nnon-invertible variable \"B\" assuming that racial self-segregation had a\npositive impact on house prices [2]. Furthermore the goal of the\nresearch that led to the creation of this dataset was to study the\nimpact of air quality but it did not give adequate demonstration of the\nvalidity of this assumption.\n\nThe scikit-learn maintainers therefore strongly discourage the use of\nthis dataset unless the purpose of the code is to study and educate\nabout ethical issues in data science and machine learning.\n\nIn this special case, you can fetch the dataset from the original\nsource::\n\n    import pandas as pd\n    import numpy as np\n\n    data_url = \"http://lib.stat.cmu.edu/datasets/boston\"\n    raw_df = pd.read_csv(data_url, sep=\"\\s+\", skiprows=22, header=None)\n    data = np.hstack([raw_df.values[::2, :], raw_df.values[1::2, :2]])\n    target = raw_df.values[1::2, 2]\n\nAlternative datasets include the California housing dataset and the\nAmes housing dataset. You can load the datasets as follows::\n\n    from sklearn.datasets import fetch_california_housing\n    housing = fetch_california_housing()\n\nfor the California housing dataset and::\n\n    from sklearn.datasets import fetch_openml\n    housing = fetch_openml(name=\"house_prices\", as_frame=True)\n\nfor the Ames housing dataset.\n\n[1] M Carlisle.\n\"Racist data destruction?\"\n<https://medium.com/@docintangible/racist-data-destruction-113e3eff54a8>\n\n[2] Harrison Jr, David, and Daniel L. Rubinfeld.\n\"Hedonic housing prices and the demand for clean air.\"\nJournal of environmental economics and management 5.1 (1978): 81-102.\n<https://www.researchgate.net/publication/4974606_Hedonic_housing_prices_and_the_demand_for_clean_air>\n",
     "output_type": "error",
     "traceback": [
      "\u001b[0;31m---------------------------------------------------------------------------\u001b[0m",
      "\u001b[0;31mImportError\u001b[0m                               Traceback (most recent call last)",
      "Cell \u001b[0;32mIn[2], line 1\u001b[0m\n\u001b[0;32m----> 1\u001b[0m \u001b[38;5;28;01mfrom\u001b[39;00m \u001b[38;5;21;01msklearn\u001b[39;00m\u001b[38;5;21;01m.\u001b[39;00m\u001b[38;5;21;01mdatasets\u001b[39;00m \u001b[38;5;28;01mimport\u001b[39;00m load_boston\n\u001b[1;32m      2\u001b[0m \u001b[38;5;28;01mfrom\u001b[39;00m \u001b[38;5;21;01msklearn\u001b[39;00m\u001b[38;5;21;01m.\u001b[39;00m\u001b[38;5;21;01mmodel_selection\u001b[39;00m \u001b[38;5;28;01mimport\u001b[39;00m train_test_split\n\u001b[1;32m      3\u001b[0m \u001b[38;5;28;01mfrom\u001b[39;00m \u001b[38;5;21;01msklearn\u001b[39;00m\u001b[38;5;21;01m.\u001b[39;00m\u001b[38;5;21;01mneighbors\u001b[39;00m \u001b[38;5;28;01mimport\u001b[39;00m KNeighborsRegressor\n",
      "File \u001b[0;32m/opt/conda/lib/python3.10/site-packages/sklearn/datasets/__init__.py:156\u001b[0m, in \u001b[0;36m__getattr__\u001b[0;34m(name)\u001b[0m\n\u001b[1;32m    105\u001b[0m \u001b[38;5;28;01mif\u001b[39;00m name \u001b[38;5;241m==\u001b[39m \u001b[38;5;124m\"\u001b[39m\u001b[38;5;124mload_boston\u001b[39m\u001b[38;5;124m\"\u001b[39m:\n\u001b[1;32m    106\u001b[0m     msg \u001b[38;5;241m=\u001b[39m textwrap\u001b[38;5;241m.\u001b[39mdedent(\n\u001b[1;32m    107\u001b[0m         \u001b[38;5;124;03m\"\"\"\u001b[39;00m\n\u001b[1;32m    108\u001b[0m \u001b[38;5;124;03m        `load_boston` has been removed from scikit-learn since version 1.2.\u001b[39;00m\n\u001b[0;32m   (...)\u001b[0m\n\u001b[1;32m    154\u001b[0m \u001b[38;5;124;03m        \"\"\"\u001b[39;00m\n\u001b[1;32m    155\u001b[0m     )\n\u001b[0;32m--> 156\u001b[0m     \u001b[38;5;28;01mraise\u001b[39;00m \u001b[38;5;167;01mImportError\u001b[39;00m(msg)\n\u001b[1;32m    157\u001b[0m \u001b[38;5;28;01mtry\u001b[39;00m:\n\u001b[1;32m    158\u001b[0m     \u001b[38;5;28;01mreturn\u001b[39;00m \u001b[38;5;28mglobals\u001b[39m()[name]\n",
      "\u001b[0;31mImportError\u001b[0m: \n`load_boston` has been removed from scikit-learn since version 1.2.\n\nThe Boston housing prices dataset has an ethical problem: as\ninvestigated in [1], the authors of this dataset engineered a\nnon-invertible variable \"B\" assuming that racial self-segregation had a\npositive impact on house prices [2]. Furthermore the goal of the\nresearch that led to the creation of this dataset was to study the\nimpact of air quality but it did not give adequate demonstration of the\nvalidity of this assumption.\n\nThe scikit-learn maintainers therefore strongly discourage the use of\nthis dataset unless the purpose of the code is to study and educate\nabout ethical issues in data science and machine learning.\n\nIn this special case, you can fetch the dataset from the original\nsource::\n\n    import pandas as pd\n    import numpy as np\n\n    data_url = \"http://lib.stat.cmu.edu/datasets/boston\"\n    raw_df = pd.read_csv(data_url, sep=\"\\s+\", skiprows=22, header=None)\n    data = np.hstack([raw_df.values[::2, :], raw_df.values[1::2, :2]])\n    target = raw_df.values[1::2, 2]\n\nAlternative datasets include the California housing dataset and the\nAmes housing dataset. You can load the datasets as follows::\n\n    from sklearn.datasets import fetch_california_housing\n    housing = fetch_california_housing()\n\nfor the California housing dataset and::\n\n    from sklearn.datasets import fetch_openml\n    housing = fetch_openml(name=\"house_prices\", as_frame=True)\n\nfor the Ames housing dataset.\n\n[1] M Carlisle.\n\"Racist data destruction?\"\n<https://medium.com/@docintangible/racist-data-destruction-113e3eff54a8>\n\n[2] Harrison Jr, David, and Daniel L. Rubinfeld.\n\"Hedonic housing prices and the demand for clean air.\"\nJournal of environmental economics and management 5.1 (1978): 81-102.\n<https://www.researchgate.net/publication/4974606_Hedonic_housing_prices_and_the_demand_for_clean_air>\n"
     ]
    }
   ],
   "source": [
    "from sklearn.datasets import load_boston\n",
    "from sklearn.model_selection import train_test_split\n",
    "from sklearn.neighbors import KNeighborsRegressor\n",
    "from sklearn.metrics import mean_squared_error\n",
    "\n",
    "# Load the Boston housing dataset\n",
    "boston = load_boston()\n",
    "\n",
    "# Split data into training and testing sets\n",
    "X_train, X_test, y_train, y_test = train_test_split(boston.data, boston.target, test_size=0.2, random_state=42)\n",
    "\n",
    "# Create KNN regressor object with k=3\n",
    "knn = KNeighborsRegressor(n_neighbors=3)\n",
    "\n",
    "# Train the model using the training sets\n",
    "knn.fit(X_train, y_train)\n",
    "\n",
    "# Predict the response for test dataset\n",
    "y_pred = knn.predict(X_test)\n",
    "\n",
    "# Calculate the mean squared error of the model\n",
    "mse = mean_squared_error(y_test, y_pred)\n",
    "print(\"Mean Squared Error:\", mse)\n"
   ]
  },
  {
   "cell_type": "markdown",
   "id": "ac95c57f-98a4-476c-8d88-6571737dc50d",
   "metadata": {},
   "source": [
    "In this code, we first load the Boston housing dataset using the load_boston() function from Scikit-learn. We then split the data into training and testing sets using the train_test_split() function."
   ]
  },
  {
   "cell_type": "markdown",
   "id": "c371a3e3-2240-41d9-992d-d39a9c867041",
   "metadata": {},
   "source": [
    "Next, we create a KNN regressor object with n_neighbors=3 and train the model using the fit() function with the training data. We then use the trained model to predict the response for the test data using the predict() function."
   ]
  },
  {
   "cell_type": "markdown",
   "id": "563b8fce-1a40-4588-af4b-d48a3065b681",
   "metadata": {},
   "source": [
    "Finally, we calculate the mean squared error of the model using the mean_squared_error() function from Scikit-learn and print it to the console."
   ]
  },
  {
   "cell_type": "code",
   "execution_count": null,
   "id": "9d0b43c5-13be-481e-8d01-d31d0ac381b7",
   "metadata": {},
   "outputs": [],
   "source": [
    "Answer 3:"
   ]
  },
  {
   "cell_type": "markdown",
   "id": "d6e20cec-fe07-4889-87be-f9489b9fc8fe",
   "metadata": {},
   "source": [
    "Here's a Python code snippet that uses cross-validation to find the optimal value of K for the KNN classifier algorithm on the load_iris dataset from the sklearn.datasets module:"
   ]
  },
  {
   "cell_type": "code",
   "execution_count": 3,
   "id": "7759659d-a1b0-40ac-b127-fc415e9626e9",
   "metadata": {},
   "outputs": [
    {
     "name": "stdout",
     "output_type": "stream",
     "text": [
      "The optimal number of neighbors is 13\n"
     ]
    }
   ],
   "source": [
    "from sklearn.datasets import load_iris\n",
    "from sklearn.neighbors import KNeighborsClassifier\n",
    "from sklearn.model_selection import cross_val_score\n",
    "\n",
    "# Load the dataset\n",
    "iris = load_iris()\n",
    "\n",
    "# Create a KNN classifier object\n",
    "knn = KNeighborsClassifier()\n",
    "\n",
    "# Define the range of K values to test\n",
    "k_range = range(1, 31)\n",
    "\n",
    "# Use cross-validation to evaluate each K value\n",
    "cv_scores = []\n",
    "for k in k_range:\n",
    "    knn.n_neighbors = k\n",
    "    scores = cross_val_score(knn, iris.data, iris.target, cv=10, scoring='accuracy')\n",
    "    cv_scores.append(scores.mean())\n",
    "\n",
    "# Find the optimal K value\n",
    "optimal_k = k_range[cv_scores.index(max(cv_scores))]\n",
    "\n",
    "# Print the results\n",
    "print(\"The optimal number of neighbors is %d\" % optimal_k)\n"
   ]
  },
  {
   "cell_type": "markdown",
   "id": "ca9aac26-61c6-4395-bf9a-51d553f5ab2f",
   "metadata": {},
   "source": [
    "This code snippet first loads the load_iris dataset and creates a KNeighborsClassifier object. It then defines the range of K values to test (in this case, from 1 to 30), and uses cross-validation with 10 folds to evaluate the accuracy of the KNN classifier for each K value. The results are stored in the cv_scores list."
   ]
  },
  {
   "cell_type": "markdown",
   "id": "c4de318c-2941-4deb-bbab-7e582178c0f4",
   "metadata": {},
   "source": [
    "Finally, the code finds the optimal K value by selecting the one that gives the highest average accuracy across all the folds. This is done by using the index method to find the index of the maximum value in the cv_scores list, and then using that index to look up the corresponding K value in the k_range list."
   ]
  },
  {
   "cell_type": "code",
   "execution_count": null,
   "id": "1d16554f-423d-4b4e-b337-ed5ab20c3cf3",
   "metadata": {},
   "outputs": [],
   "source": [
    "Answer 4:"
   ]
  },
  {
   "cell_type": "code",
   "execution_count": null,
   "id": "dbf94f6e-1552-4f06-9347-16565cad983c",
   "metadata": {},
   "outputs": [],
   "source": []
  },
  {
   "cell_type": "code",
   "execution_count": null,
   "id": "db0d3381-80df-4580-aae4-ea21c3916a52",
   "metadata": {},
   "outputs": [],
   "source": [
    "Answer 5:"
   ]
  },
  {
   "cell_type": "markdown",
   "id": "8974d631-b024-4c2f-9f44-f15bb0a66ded",
   "metadata": {},
   "source": [
    "Here's a Python code snippet to implement the KNN classifier algorithm with weighted voting on the load_iris dataset in sklearn.datasets:"
   ]
  },
  {
   "cell_type": "code",
   "execution_count": 1,
   "id": "57615558-7574-417e-9a6d-2b64e99cfee9",
   "metadata": {},
   "outputs": [
    {
     "name": "stdout",
     "output_type": "stream",
     "text": [
      "Accuracy: 0.97\n"
     ]
    }
   ],
   "source": [
    "from sklearn.datasets import load_iris\n",
    "from sklearn.model_selection import train_test_split\n",
    "from sklearn.neighbors import KNeighborsClassifier\n",
    "from sklearn.metrics import accuracy_score\n",
    "\n",
    "# Load the iris dataset\n",
    "iris = load_iris()\n",
    "X = iris.data\n",
    "y = iris.target\n",
    "\n",
    "# Split the dataset into training and testing sets\n",
    "X_train, X_test, y_train, y_test = train_test_split(X, y, test_size=0.2)\n",
    "\n",
    "# Create a KNN classifier with weighted voting\n",
    "knn = KNeighborsClassifier(weights='distance')\n",
    "\n",
    "# Fit the classifier to the training data\n",
    "knn.fit(X_train, y_train)\n",
    "\n",
    "# Make predictions on the testing data\n",
    "y_pred = knn.predict(X_test)\n",
    "\n",
    "# Calculate the accuracy of the classifier\n",
    "accuracy = accuracy_score(y_test, y_pred)\n",
    "print(f\"Accuracy: {accuracy:.2f}\")\n"
   ]
  },
  {
   "cell_type": "markdown",
   "id": "413829d3-35ac-4bce-9f40-3952d8f376ea",
   "metadata": {},
   "source": [
    "In this code, we first load the iris dataset from sklearn.datasets and split it into training and testing sets using train_test_split.\n",
    "\n",
    "Then, we create a KNN classifier with weighted voting by setting the weights parameter to 'distance'. We fit the classifier to the training data using the fit method and make predictions on the testing data using the predict method. Finally, we calculate the accuracy of the classifier using accuracy_score from sklearn.metrics and print it to the console."
   ]
  },
  {
   "cell_type": "code",
   "execution_count": null,
   "id": "cd731baa-5374-49ec-bd46-f1de4c03c5c0",
   "metadata": {},
   "outputs": [],
   "source": [
    "Answer 6:"
   ]
  },
  {
   "cell_type": "markdown",
   "id": "db6e89ef-27fa-4dc4-a161-aef6364fb45a",
   "metadata": {},
   "source": [
    "Here's a Python code snippet that shows how to implement a function to standardize the features before applying KNN classifier:"
   ]
  },
  {
   "cell_type": "code",
   "execution_count": 2,
   "id": "a02dce6d-2b22-4919-9839-a4f796052bcd",
   "metadata": {},
   "outputs": [
    {
     "name": "stdout",
     "output_type": "stream",
     "text": [
      "Accuracy: 0.93\n"
     ]
    }
   ],
   "source": [
    "from sklearn.datasets import load_iris\n",
    "from sklearn.model_selection import train_test_split\n",
    "from sklearn.neighbors import KNeighborsClassifier\n",
    "from sklearn.metrics import accuracy_score\n",
    "from sklearn.preprocessing import StandardScaler\n",
    "\n",
    "def knn_classifier(X_train, y_train, X_test, y_test, k=5):\n",
    "    # Standardize the features\n",
    "    scaler = StandardScaler()\n",
    "    X_train = scaler.fit_transform(X_train)\n",
    "    X_test = scaler.transform(X_test)\n",
    "\n",
    "    # Create a KNN classifier with k neighbors\n",
    "    knn = KNeighborsClassifier(n_neighbors=k)\n",
    "\n",
    "    # Fit the classifier to the training data\n",
    "    knn.fit(X_train, y_train)\n",
    "\n",
    "    # Make predictions on the testing data\n",
    "    y_pred = knn.predict(X_test)\n",
    "\n",
    "    # Calculate the accuracy of the classifier\n",
    "    accuracy = accuracy_score(y_test, y_pred)\n",
    "    print(f\"Accuracy: {accuracy:.2f}\")\n",
    "\n",
    "# Load the iris dataset\n",
    "iris = load_iris()\n",
    "X = iris.data\n",
    "y = iris.target\n",
    "\n",
    "# Split the dataset into training and testing sets\n",
    "X_train, X_test, y_train, y_test = train_test_split(X, y, test_size=0.2)\n",
    "\n",
    "# Apply the KNN classifier with standardized features\n",
    "knn_classifier(X_train, y_train, X_test, y_test, k=5)\n"
   ]
  },
  {
   "cell_type": "markdown",
   "id": "4f4b8d8e-f7e5-47bf-a2a5-d3c863da8d1a",
   "metadata": {},
   "source": [
    "In this code, we first define a function called knn_classifier that takes in the training and testing data, as well as the number of neighbors k.\n",
    "\n",
    "Inside the function, we create a StandardScaler object and use it to standardize the features of both the training and testing data. Then, we create a KNN classifier with k neighbors and fit it to the training data. We use the classifier to make predictions on the testing data, calculate the accuracy of the classifier, and print it to the console"
   ]
  },
  {
   "cell_type": "markdown",
   "id": "c264d78d-fd13-4357-b38a-d709f8505685",
   "metadata": {},
   "source": [
    "After defining the function, we load the iris dataset, split it into training and testing sets, and call the knn_classifier function with the standardized training and testing data and k=5."
   ]
  },
  {
   "cell_type": "markdown",
   "id": "6a7c6edd-3bdc-477d-b9fb-7563f0182244",
   "metadata": {},
   "source": [
    "Note that we're applying the scaler to both the training and testing data separately. This is because we don't want to include information from the testing set when calculating the mean and standard deviation used for scaling."
   ]
  },
  {
   "cell_type": "code",
   "execution_count": null,
   "id": "7f12ab9e-efa7-4a81-93f9-fdd89c88a68f",
   "metadata": {},
   "outputs": [],
   "source": [
    "Answer 7:"
   ]
  },
  {
   "cell_type": "code",
   "execution_count": 3,
   "id": "73045dac-30c3-4c20-a08b-3659ed5d391d",
   "metadata": {},
   "outputs": [
    {
     "name": "stdout",
     "output_type": "stream",
     "text": [
      "\u001b[31mERROR: Could not find a version that satisfies the requirement math (from versions: none)\u001b[0m\u001b[31m\n",
      "\u001b[0m\u001b[31mERROR: No matching distribution found for math\u001b[0m\u001b[31m\n",
      "\u001b[0mNote: you may need to restart the kernel to use updated packages.\n"
     ]
    }
   ],
   "source": [
    "pip install math"
   ]
  },
  {
   "cell_type": "code",
   "execution_count": 4,
   "id": "6af3ea6e-cc5a-4223-97ea-a3a171b12149",
   "metadata": {},
   "outputs": [],
   "source": [
    "import math"
   ]
  },
  {
   "cell_type": "code",
   "execution_count": 3,
   "id": "4bb51391-b076-47b5-8af8-6c025487a249",
   "metadata": {},
   "outputs": [],
   "source": [
    "\n",
    "\n",
    "def euclidean_distance(x1, y1, x2, y2):\n",
    "    distance = math.sqrt((x2 - x1)**2 + (y2 - y1)**2)\n",
    "    return distance\n"
   ]
  },
  {
   "cell_type": "markdown",
   "id": "49fb8f03-4081-4e25-9902-00ad1c90ef38",
   "metadata": {},
   "source": [
    "In this code, we define a function called euclidean_distance that takes in four arguments: x1, y1, x2, and y2, which represent the coordinates of two points in a two-dimensional space."
   ]
  },
  {
   "cell_type": "code",
   "execution_count": null,
   "id": "486bd9ef-0667-40b7-bb7d-c4afe17e391a",
   "metadata": {},
   "outputs": [],
   "source": [
    "The function calculates the Euclidean distance between the two points using the formula:"
   ]
  },
  {
   "cell_type": "code",
   "execution_count": 4,
   "id": "423f4f6d-90c9-4cb2-9a1c-1896ee612467",
   "metadata": {},
   "outputs": [
    {
     "ename": "NameError",
     "evalue": "name 'sqrt' is not defined",
     "output_type": "error",
     "traceback": [
      "\u001b[0;31m---------------------------------------------------------------------------\u001b[0m",
      "\u001b[0;31mNameError\u001b[0m                                 Traceback (most recent call last)",
      "Cell \u001b[0;32mIn[4], line 1\u001b[0m\n\u001b[0;32m----> 1\u001b[0m distance \u001b[38;5;241m=\u001b[39m \u001b[43msqrt\u001b[49m((x2 \u001b[38;5;241m-\u001b[39m x1)\u001b[38;5;241m^\u001b[39m\u001b[38;5;241m2\u001b[39m \u001b[38;5;241m+\u001b[39m (y2 \u001b[38;5;241m-\u001b[39m y1)\u001b[38;5;241m^\u001b[39m\u001b[38;5;241m2\u001b[39m)\n",
      "\u001b[0;31mNameError\u001b[0m: name 'sqrt' is not defined"
     ]
    }
   ],
   "source": [
    "distance = sqrt((x2 - x1)^2 + (y2 - y1)^2)\n"
   ]
  },
  {
   "cell_type": "code",
   "execution_count": null,
   "id": "6846d964-aa65-43f8-901c-338594fc1827",
   "metadata": {},
   "outputs": [],
   "source": [
    "where sqrt is the square root function and ^ represents the exponentiation operator.\n",
    "\n",
    "The function returns the calculated distance."
   ]
  },
  {
   "cell_type": "markdown",
   "id": "4eebbf0c-380d-4d10-bbcc-a30f0519fe85",
   "metadata": {},
   "source": [
    "You can call this function by passing in the coordinates of the two points you want to calculate the distance between, like this:"
   ]
  },
  {
   "cell_type": "code",
   "execution_count": null,
   "id": "c56674ed-ab7b-4c50-8e39-ada5a7219051",
   "metadata": {},
   "outputs": [],
   "source": [
    "distance = euclidean_distance(0, 0, 3, 4)\n",
    "print(distance)  # Output: 5.0\n"
   ]
  },
  {
   "cell_type": "markdown",
   "id": "0da40472-1299-4bad-ba8e-e65e607d5e10",
   "metadata": {},
   "source": [
    "In this example, we're calculating the Euclidean distance between the points (0, 0) and (3, 4), which should result in a distance of 5.0."
   ]
  },
  {
   "cell_type": "code",
   "execution_count": null,
   "id": "b4c831b4-2d49-4129-a534-958ee79fb155",
   "metadata": {},
   "outputs": [],
   "source": [
    "Answer 8:"
   ]
  },
  {
   "cell_type": "markdown",
   "id": "ef747e15-1583-4dbc-93c5-3409f7586c36",
   "metadata": {},
   "source": [
    "Here's a Python code snippet that shows how to implement a function to calculate the Manhattan distance between two points:"
   ]
  },
  {
   "cell_type": "code",
   "execution_count": 5,
   "id": "c69a42f5-5057-4c88-9f0f-64facdda9c69",
   "metadata": {},
   "outputs": [],
   "source": [
    "def manhattan_distance(x1, y1, x2, y2):\n",
    "    distance = abs(x2 - x1) + abs(y2 - y1)\n",
    "    return distance\n"
   ]
  },
  {
   "cell_type": "markdown",
   "id": "90c3805f-b65f-466a-b4f5-0a7c8edcea7f",
   "metadata": {},
   "source": [
    "In this code, we define a function called manhattan_distance that takes in four arguments: x1, y1, x2, and y2, which represent the coordinates of two points in a two-dimensional space."
   ]
  },
  {
   "cell_type": "code",
   "execution_count": null,
   "id": "e214c8ee-1dd3-4cee-8610-7b76c16f18f3",
   "metadata": {},
   "outputs": [],
   "source": [
    "The function calculates the Manhattan distance between the two points using the formula:"
   ]
  },
  {
   "cell_type": "code",
   "execution_count": null,
   "id": "7bc590a5-c26a-4a2a-87aa-827ed23a7688",
   "metadata": {},
   "outputs": [],
   "source": [
    "distance = |x2 - x1| + |y2 - y1|\n"
   ]
  },
  {
   "cell_type": "code",
   "execution_count": null,
   "id": "eaabbae8-0582-49c7-988f-8c38763dbed6",
   "metadata": {},
   "outputs": [],
   "source": [
    "where | | represents the absolute value function.\n",
    "\n",
    "The function returns the calculated distance."
   ]
  },
  {
   "cell_type": "markdown",
   "id": "88ad22c3-45b8-438f-9a25-1fa3fc1c65e4",
   "metadata": {},
   "source": [
    "You can call this function by passing in the coordinates of the two points you want to calculate the distance between, like this:"
   ]
  },
  {
   "cell_type": "code",
   "execution_count": 6,
   "id": "9651cd61-1863-4e4f-9fe4-8b79393acbab",
   "metadata": {},
   "outputs": [
    {
     "name": "stdout",
     "output_type": "stream",
     "text": [
      "7\n"
     ]
    }
   ],
   "source": [
    "distance = manhattan_distance(0, 0, 3, 4)\n",
    "print(distance)  # Output: 7\n"
   ]
  },
  {
   "cell_type": "markdown",
   "id": "638522ec-bcf5-420e-813c-6a8b65de6266",
   "metadata": {},
   "source": [
    "\n",
    "In this example, we're calculating the Manhattan distance between the points (0, 0) and (3, 4), which should result in a distance of 7."
   ]
  }
 ],
 "metadata": {
  "kernelspec": {
   "display_name": "Python 3 (ipykernel)",
   "language": "python",
   "name": "python3"
  },
  "language_info": {
   "codemirror_mode": {
    "name": "ipython",
    "version": 3
   },
   "file_extension": ".py",
   "mimetype": "text/x-python",
   "name": "python",
   "nbconvert_exporter": "python",
   "pygments_lexer": "ipython3",
   "version": "3.10.8"
  }
 },
 "nbformat": 4,
 "nbformat_minor": 5
}
