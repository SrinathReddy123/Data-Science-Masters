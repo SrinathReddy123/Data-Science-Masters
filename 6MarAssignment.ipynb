{
 "cells": [
  {
   "cell_type": "code",
   "execution_count": null,
   "id": "9af18f26-192d-4083-bcb3-8f4f22b32c80",
   "metadata": {},
   "outputs": [],
   "source": [
    "Answer 1:"
   ]
  },
  {
   "cell_type": "markdown",
   "id": "421b3013-dc04-4538-8ce7-2fbb3412f714",
   "metadata": {},
   "source": [
    "Statistics is a branch of mathematics that deals with the collection, analysis, interpretation, presentation, and organization of data.\n",
    "The goal of statistics is to provide meaningful insights and conclusions from data."
   ]
  },
  {
   "cell_type": "markdown",
   "id": "e076ea57-db10-4b27-9327-e196eef2bf6c",
   "metadata": {},
   "source": [
    "Statisticians use various techniques and methods to gather and analyze data, including sampling, hypothesis testing, regression analysis, and probability theory. Statistics is widely used in many fields, including business, finance, healthcare, economics, social sciences, and engineering."
   ]
  },
  {
   "cell_type": "code",
   "execution_count": null,
   "id": "ac8521a8-afa8-430c-afa9-a0f32ecd01e4",
   "metadata": {},
   "outputs": [],
   "source": [
    "Answer 2:"
   ]
  },
  {
   "cell_type": "code",
   "execution_count": null,
   "id": "b7e43a9e-d75d-40ef-814a-c09c7af608a1",
   "metadata": {},
   "outputs": [],
   "source": [
    "There are two main types of statistics: descriptive statistics and inferential statistics."
   ]
  },
  {
   "cell_type": "markdown",
   "id": "02fee8f5-2537-4b1e-b080-36eb496d9f7d",
   "metadata": {},
   "source": [
    "1. Descriptive statistics:\n",
    "\n",
    "Descriptive statistics is the branch of statistics that deals with the summary and description of data. This type of statistics involves the use of measures such as mean, median, mode, standard deviation of a dataset. Descriptive statistics are often used to provide a clear and concise summary of the data for easy interpretation. For example, a healthcare organization might use descriptive statistics to report the average length of stay for patients in a hospital or the average number of doctor visits per patient."
   ]
  },
  {
   "cell_type": "markdown",
   "id": "c0ee1574-b959-4ce9-a6fc-53b0ddb38014",
   "metadata": {},
   "source": [
    "2. Inferential statistics:\n",
    "\n",
    "Inferential statistics is the branch of statistics that deals with making predictions or inferences about a larger population based on a sample. This type of statistics involves the use of hypothesis testing, confidence intervals, and regression analysis to draw conclusions from the data. Inferential statistics are often used in scientific research or market research to make predictions about the larger population based on a smaller sample. For example, a market researcher might use inferential statistics to estimate the proportion of people who will buy a new product based on a sample of survey responses."
   ]
  },
  {
   "cell_type": "code",
   "execution_count": null,
   "id": "ef573abe-e66a-4b2a-ab28-48a4ff72de41",
   "metadata": {},
   "outputs": [],
   "source": []
  },
  {
   "cell_type": "code",
   "execution_count": null,
   "id": "b752f463-bace-4fa7-ae42-c30106cc24a4",
   "metadata": {},
   "outputs": [],
   "source": [
    "Answer 3:"
   ]
  },
  {
   "cell_type": "code",
   "execution_count": null,
   "id": "f04db0ab-7c71-4e0a-a416-9a7a77a9ea37",
   "metadata": {},
   "outputs": [],
   "source": [
    "There are four main types of data: nominal, ordinal, interval, and ratio."
   ]
  },
  {
   "cell_type": "markdown",
   "id": "be98feb1-f3f8-413e-b2c0-d21f48d45104",
   "metadata": {},
   "source": [
    "Nominal data:\n",
    "\n",
    "Nominal data is data that is categorized into distinct groups or categories with no inherent order or ranking. Examples of nominal data include gender (male or female), eye color (blue, green, or brown), or country of birth. Nominal data can be summarized using frequency counts or proportions."
   ]
  },
  {
   "cell_type": "markdown",
   "id": "64e9acbd-8472-4ba2-a5f4-8f6806f45956",
   "metadata": {},
   "source": [
    "Ordinal data:\n",
    "\n",
    "Ordinal data is data that has a natural order or ranking, but the differences between the values cannot be measured or are not meaningful. Examples of ordinal data include survey responses that use a Likert scale (e.g. strongly agree, agree, neutral, disagree, strongly disagree) or academic grades (A, B, C, D, F). Ordinal data can be summarized using median or mode."
   ]
  },
  {
   "cell_type": "markdown",
   "id": "bb56c177-5bf2-46f1-b0f9-85eaa6e913e9",
   "metadata": {},
   "source": [
    "Interval data:\n",
    "\n",
    "Interval data is data where the differences between the values are meaningful, but there is no true zero point. Examples of interval data include temperature (measured in Celsius or Fahrenheit) or time (measured in hours, minutes, or seconds). Interval data can be summarized using mean or standard deviation."
   ]
  },
  {
   "cell_type": "markdown",
   "id": "b526b6d2-6094-4bec-954c-178ae3b66f78",
   "metadata": {},
   "source": [
    "Ratio data:\n",
    "\n",
    "Ratio data is data where the differences between the values are meaningful and there is a true zero point. Examples of ratio data include weight, height, or income. Ratio data can be summarized using mean, median, mode, or range."
   ]
  },
  {
   "cell_type": "markdown",
   "id": "4b3638ff-1166-4db5-be91-e8ed89068a11",
   "metadata": {},
   "source": [
    "It's important to note that the level of measurement of data affects the types of statistical analysis that can be performed on them. For example, nominal and ordinal data are often analyzed using non-parametric tests, while interval and ratio data can be analyzed using parametric tests."
   ]
  },
  {
   "cell_type": "code",
   "execution_count": null,
   "id": "b88b32f1-1bd2-42ee-8391-fcb37b56e44b",
   "metadata": {},
   "outputs": [],
   "source": []
  },
  {
   "cell_type": "markdown",
   "id": "2dbf2e7f-98cd-4bce-88ce-eca189d44a5b",
   "metadata": {},
   "source": [
    "Answer 4:"
   ]
  },
  {
   "cell_type": "code",
   "execution_count": null,
   "id": "281908b7-f3a8-4a0c-9723-87f42f3f2ce3",
   "metadata": {},
   "outputs": [],
   "source": [
    "(i) Grading in exam: A+, A, B+, B, C+, C, D, E\n",
    "\n",
    "Qualitative data (because the grades are categories and not numerical values)"
   ]
  },
  {
   "cell_type": "code",
   "execution_count": null,
   "id": "28295155-78f3-43ce-a755-5827a58c63c2",
   "metadata": {},
   "outputs": [],
   "source": [
    "(ii) Colour of mangoes: yellow, green, orange, red\n",
    "\n",
    "Qualitative data (because the colors are categories and not numerical values)"
   ]
  },
  {
   "cell_type": "code",
   "execution_count": null,
   "id": "cd341cb2-d75e-4f7d-8bb7-8685bc03f4c8",
   "metadata": {},
   "outputs": [],
   "source": [
    "(iii) Height data of a class: [178.9, 179, 179.5, 176, 177.2, 178.3, 175.8,...]\n",
    "\n",
    "Quantitative data (because the data is numerical and can be measured)"
   ]
  },
  {
   "cell_type": "code",
   "execution_count": null,
   "id": "1f662451-b235-48aa-b35c-2805cb5c9784",
   "metadata": {},
   "outputs": [],
   "source": [
    "(iv) Number of mangoes exported by a farm: [500, 600, 478, 672, …]\n",
    "\n",
    "Quantitative data (because the data is numerical and can be measured)"
   ]
  },
  {
   "cell_type": "code",
   "execution_count": null,
   "id": "d4236980-cced-4c63-b07f-873ecdc55a09",
   "metadata": {},
   "outputs": [],
   "source": [
    "Answer 5:"
   ]
  },
  {
   "cell_type": "markdown",
   "id": "0624dcf5-90b0-448b-a80b-6a82f6713ca1",
   "metadata": {},
   "source": [
    "Levels of measurement refer to the types of data that can be collected and analyzed. There are four main levels of measurement: nominal, ordinal, interval, and ratio."
   ]
  },
  {
   "cell_type": "markdown",
   "id": "4460bf87-02df-4d9f-9867-ebe61a9cbfc9",
   "metadata": {},
   "source": [
    "Nominal level of measurement:\n",
    "\n",
    "Nominal level of measurement involves the classification of data into categories with no inherent order or ranking. Examples of nominal level variables include gender (male or female), blood type (A, B, AB, or O), or marital status (single, married, divorced, or widowed)."
   ]
  },
  {
   "cell_type": "markdown",
   "id": "19bbc35e-5b99-45a3-9a2f-a17a0e28ceac",
   "metadata": {},
   "source": [
    "Ordinal level of measurement:\n",
    "\n",
    "Ordinal level of measurement involves the classification of data into categories that have a natural order or ranking. However, the difference between the categories cannot be measured or is not meaningful. Examples of ordinal level variables include academic grades (A, B, C, D, F), military rank (private, sergeant, captain, general), or survey responses that use a Likert scale (e.g. strongly agree, agree, neutral, disagree, strongly disagree)."
   ]
  },
  {
   "cell_type": "markdown",
   "id": "33422165-a43d-473b-9a98-1eb9a666918a",
   "metadata": {},
   "source": [
    "Interval level of measurement:\n",
    "\n",
    "Interval level of measurement involves the classification of data into categories where the differences between the categories are meaningful, but there is no true zero point. Examples of interval level variables include temperature (measured in Celsius or Fahrenheit), time (measured in hours, minutes, or seconds), or year (measured in AD or BC)."
   ]
  },
  {
   "cell_type": "markdown",
   "id": "53bd5358-ce76-4438-9364-6a11b2658d81",
   "metadata": {},
   "source": [
    "Ratio level of measurement:\n",
    "\n",
    "Ratio level of measurement involves the classification of data into categories where the differences between the categories are meaningful, and there is a true zero point. Examples of ratio level variables include weight, height, age, or income."
   ]
  },
  {
   "cell_type": "markdown",
   "id": "ecef43dc-7b60-42f7-a23e-791319658f2f",
   "metadata": {},
   "source": [
    "It's important to note that the level of measurement of a variable affects the types of statistical analysis that can be performed on it. For example, nominal and ordinal variables are often analyzed using non-parametric tests, while interval and ratio variables can be analyzed using parametric tests."
   ]
  },
  {
   "cell_type": "code",
   "execution_count": null,
   "id": "cb6d4ca0-babf-4756-8fa2-64ab8ccae294",
   "metadata": {},
   "outputs": [],
   "source": []
  },
  {
   "cell_type": "code",
   "execution_count": null,
   "id": "9baa5941-1810-4337-9c6d-575dd8973ffd",
   "metadata": {},
   "outputs": [],
   "source": [
    "Answer 6:"
   ]
  },
  {
   "cell_type": "markdown",
   "id": "ea556b25-f193-4527-a5ed-e3f653a1054c",
   "metadata": {},
   "source": [
    "Understanding the level of measurement is important when analyzing data because it determines the types of statistical analyses that can be performed on the data, as well as the types of inferences that can be made from the analysis. The level of measurement also affects the type of summary statistics that can be used, such as mean, median, mode, or frequency counts."
   ]
  },
  {
   "cell_type": "markdown",
   "id": "2ee1e4ee-7505-4cf6-b23e-9f5246f7956d",
   "metadata": {},
   "source": [
    "For example, if we have a dataset that consists of different blood types (A, B, AB, O), and we want to calculate the mean blood type, it doesn't make sense because the blood type variable is nominal, which means that the categories cannot be ordered, and there is no meaningful way to calculate an average blood type. Instead, we would use frequency counts to determine how many people fall into each blood type category."
   ]
  },
  {
   "cell_type": "markdown",
   "id": "24fd3f65-41ed-4f11-89f3-9c8aa3b0d6c4",
   "metadata": {},
   "source": [
    "On the other hand, if we have a dataset that consists of height measurements of students in a class, we can calculate the mean height because the height variable is interval, which means that there is a meaningful difference between the values, but there is no true zero point. In this case, we can use summary statistics such as mean or standard deviation to describe the distribution of the data."
   ]
  },
  {
   "cell_type": "markdown",
   "id": "bf6c7f62-9a0b-45c2-86f4-dd399d1354f2",
   "metadata": {},
   "source": [
    "Thus, understanding the level of measurement of a variable is crucial to ensuring that the appropriate statistical analysis is performed, and that accurate inferences are made from the analysis."
   ]
  },
  {
   "cell_type": "code",
   "execution_count": null,
   "id": "ee7025ef-5db3-4e23-95b8-5a57fbd9297a",
   "metadata": {},
   "outputs": [],
   "source": []
  },
  {
   "cell_type": "code",
   "execution_count": null,
   "id": "56e219bf-6031-4083-9f74-f41dcb674e4b",
   "metadata": {},
   "outputs": [],
   "source": [
    "Answer 7:"
   ]
  },
  {
   "cell_type": "markdown",
   "id": "7ea58862-15dd-4436-9331-2f2400fcd87b",
   "metadata": {},
   "source": [
    "Nominal and ordinal data types are both categorical data types, but they differ in their level of measurement and the nature of the categories."
   ]
  },
  {
   "cell_type": "markdown",
   "id": "8c2f80eb-d41b-4ec5-8481-39b8c631eec8",
   "metadata": {},
   "source": [
    "Nominal data is the lowest level of measurement and refers to data that can be categorized but not ranked or ordered. Nominal data consists of categories that are mutually exclusive and exhaustive. For example, gender, eye color, blood type, or brand of car are all nominal variables. The categories in nominal data are named as labels, and there is no inherent order or ranking between the categories."
   ]
  },
  {
   "cell_type": "markdown",
   "id": "41a8d0fe-073f-45af-9ac3-5df3229b9606",
   "metadata": {},
   "source": [
    "The key difference between nominal and ordinal data is that nominal data is unordered, while ordinal data is ordered. Nominal data is used to categorize or classify data, while ordinal data is used to categorize and rank data. In statistical analysis, nominal data is often analyzed using frequency counts, while ordinal data is analyzed using central tendency measures like median or mode, as well as dispersion measures like range or quartiles."
   ]
  },
  {
   "cell_type": "markdown",
   "id": "4e0ebcdd-2f26-43e7-ac1a-cb2215295fb1",
   "metadata": {},
   "source": [
    "In summary, nominal data has categories that are mutually exclusive and exhaustive, but without any natural order or ranking, while ordinal data has categories that are mutually exclusive and exhaustive, with a natural order or ranking."
   ]
  },
  {
   "cell_type": "code",
   "execution_count": null,
   "id": "bd10863a-6f1c-45eb-81c3-fe8d2cc9b003",
   "metadata": {},
   "outputs": [],
   "source": []
  },
  {
   "cell_type": "code",
   "execution_count": null,
   "id": "9ba9de7c-8cff-4d30-b8d4-db8178dee779",
   "metadata": {},
   "outputs": [],
   "source": [
    "Answer 8:"
   ]
  },
  {
   "cell_type": "markdown",
   "id": "a5a064e5-0b5e-469b-a46b-7d807fd1d9e6",
   "metadata": {},
   "source": [
    "A box plot, also known as a box and whisker plot, is a type of plot that can be used to display data in terms of range."
   ]
  },
  {
   "cell_type": "markdown",
   "id": "3cdf03ab-f0d8-41ea-950b-a1e8ae210dfe",
   "metadata": {},
   "source": [
    "A box plot displays the distribution of a dataset by showing the median, quartiles, and outliers. The box represents the interquartile range (IQR), which is the middle 50% of the data. \n",
    "\n",
    "The bottom of the box represents the first quartile, the top of the box represents the third quartile, and the line inside the box represents the median. The whiskers extend from the box to the minimum and maximum values that are not outliers, and outliers are displayed as individual points beyond the whiskers."
   ]
  },
  {
   "cell_type": "markdown",
   "id": "d6b36615-0a16-4ebb-853f-bc5e477ef3e0",
   "metadata": {},
   "source": [
    "By displaying the range of the data, a box plot can provide a visual summary of the spread of the data, and can be particularly useful for identifying potential outliers or extreme values in the dataset. \n",
    "\n",
    "Box plots are commonly used in statistical analysis, particularly in exploratory data analysis, to help identify patterns and distributions in the data."
   ]
  },
  {
   "cell_type": "markdown",
   "id": "f568d032-35a8-4a2a-a18a-c421dc5f6af8",
   "metadata": {},
   "source": [
    "In summary, a box plot is a useful type of plot to display data in terms of range, and can provide a visual summary of the spread of the data, including any potential outliers or extreme values."
   ]
  },
  {
   "cell_type": "code",
   "execution_count": null,
   "id": "55be04d8-45cd-4a03-9696-84021df8e205",
   "metadata": {},
   "outputs": [],
   "source": []
  },
  {
   "cell_type": "code",
   "execution_count": null,
   "id": "877f587e-e6c2-42a9-84b1-fa5ef21056a7",
   "metadata": {},
   "outputs": [],
   "source": [
    "Answer 9:"
   ]
  },
  {
   "cell_type": "code",
   "execution_count": null,
   "id": "b03af80d-cdcd-491c-9fad-ba7782b11ccd",
   "metadata": {},
   "outputs": [],
   "source": [
    "Descriptive and inferential statistics are two main branches of statistics that serve different purposes."
   ]
  },
  {
   "cell_type": "markdown",
   "id": "c482536e-ee88-4c3f-b8f6-03bfa96d2a4f",
   "metadata": {},
   "source": [
    "Descriptive statistics refers to methods of summarizing and describing a dataset, such as calculating measures of central tendency (mean, median, mode) and measures of dispersion (standard deviation, range, interquartile range).\n",
    "\n",
    "Descriptive statistics are used to understand the distribution and characteristics of the data, and to provide a summary of the key features of the dataset."
   ]
  },
  {
   "cell_type": "markdown",
   "id": "4dd1d2e0-a425-4ff1-ba77-ddc6a004add3",
   "metadata": {},
   "source": [
    "For example, a researcher might use descriptive statistics to summarize the exam scores of a class by calculating the mean, median, and standard deviation. These statistics provide information about the central tendency of the scores and the variability of the scores in the class."
   ]
  },
  {
   "cell_type": "markdown",
   "id": "f635183c-ca1b-4acc-adce-a84b99367011",
   "metadata": {},
   "source": [
    "Inferential statistics, on the other hand, refers to methods of making inferences about a population based on a sample of data. Inferential statistics are used to test hypotheses, make predictions, and generalize results from a sample to a larger population."
   ]
  },
  {
   "cell_type": "markdown",
   "id": "9c3abe7a-afad-4f69-9a48-c49d9c1babc7",
   "metadata": {},
   "source": [
    "For example, a researcher might use inferential statistics to test whether a new teaching method improves student performance by comparing the exam scores of students who received the new teaching method to the exam scores of students who did not receive the new teaching method. \n",
    "\n",
    "The researcher would use inferential statistics to determine whether the observed difference in exam scores is statistically significant and can be generalized to the larger population of students."
   ]
  },
  {
   "cell_type": "markdown",
   "id": "177675c2-3f7f-4838-9459-91bc5c5ce94e",
   "metadata": {},
   "source": [
    "In summary, descriptive statistics are used to summarize and describe a dataset, while inferential statistics are used to make inferences and generalize results from a sample to a larger population. \n",
    "\n",
    "Both types of statistics are important in statistical analysis and can provide insights into different aspects of the data."
   ]
  },
  {
   "cell_type": "code",
   "execution_count": null,
   "id": "5852fe78-6d1a-4960-9f46-d659d8095141",
   "metadata": {},
   "outputs": [],
   "source": []
  },
  {
   "cell_type": "code",
   "execution_count": null,
   "id": "bf1384ff-039c-4846-a108-bc72b0d19431",
   "metadata": {},
   "outputs": [],
   "source": [
    "Answer 10:"
   ]
  },
  {
   "cell_type": "markdown",
   "id": "0519132d-0a25-4035-88eb-742750590a24",
   "metadata": {},
   "source": [
    "Measures of central tendency and variability are important statistical tools used to summarize and describe a dataset.\n",
    "\n",
    "Measures of central tendency describe the central or typical value of a dataset. The three most commonly used measures of central tendency are:"
   ]
  },
  {
   "cell_type": "markdown",
   "id": "6e65db42-792e-414d-8f6a-044a3d64b281",
   "metadata": {},
   "source": [
    "Mean: The arithmetic mean is the sum of all values in a dataset divided by the number of values. It represents the \"average\" value of the dataset. The mean is sensitive to outliers, and extreme values can have a significant impact on its value.\n",
    "\n",
    "Median: The median is the middle value in a dataset when the values are arranged in order. It represents the value that is exactly in the middle of the dataset, with 50% of the values below it and 50% above it. The median is less sensitive to outliers than the mean.\n",
    "\n",
    "Mode: The mode is the most frequent value in a dataset. It represents the value that occurs most often in the dataset. The mode can be useful for describing the shape of a distribution, and is particularly useful for nominal or categorical data."
   ]
  },
  {
   "cell_type": "markdown",
   "id": "c04a2df1-9dae-4cdb-94e7-e1e61ea9c17a",
   "metadata": {},
   "source": [
    "Measures of variability describe the spread or dispersion of a dataset. The three most commonly used measures of variability are:\n",
    "\n",
    "Range: The range is the difference between the maximum and minimum values in a dataset. It represents the total spread of the data, but is highly sensitive to outliers.\n",
    "\n",
    "Variance: The variance is the average of the squared deviations from the mean. It represents the spread of the data, and is less sensitive to outliers than the range.\n",
    "\n",
    "Standard deviation: The standard deviation is the square root of the variance. It represents the spread of the data, and is more interpretable than the variance because it is in the same units as the original data."
   ]
  },
  {
   "cell_type": "markdown",
   "id": "06bbc48f-0eda-4f24-8c75-927aee8c038d",
   "metadata": {},
   "source": [
    "In summary, measures of central tendency and variability are used to summarize and describe a dataset. \n",
    "\n",
    "The choice of measure depends on the type of data and the research question at hand. \n",
    "\n",
    "The mean, median, and mode are measures of central tendency that describe the typical value of the dataset, while the range, variance, and standard deviation are measures of variability that describe the spread of the dataset."
   ]
  }
 ],
 "metadata": {
  "kernelspec": {
   "display_name": "Python 3 (ipykernel)",
   "language": "python",
   "name": "python3"
  },
  "language_info": {
   "codemirror_mode": {
    "name": "ipython",
    "version": 3
   },
   "file_extension": ".py",
   "mimetype": "text/x-python",
   "name": "python",
   "nbconvert_exporter": "python",
   "pygments_lexer": "ipython3",
   "version": "3.10.8"
  }
 },
 "nbformat": 4,
 "nbformat_minor": 5
}
