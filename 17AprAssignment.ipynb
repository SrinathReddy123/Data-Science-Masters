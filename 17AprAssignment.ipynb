{
 "cells": [
  {
   "cell_type": "code",
   "execution_count": null,
   "id": "3f380303-2671-4d63-91e2-1ea9ac6c91ac",
   "metadata": {},
   "outputs": [],
   "source": [
    "Answer 1:"
   ]
  },
  {
   "cell_type": "markdown",
   "id": "11b4fe52-48f6-4e3c-aa17-240dd71b55a1",
   "metadata": {},
   "source": [
    "Gradient Boosting Regression is a popular machine learning algorithm for regression problems that involves the construction of an ensemble of decision trees to predict the target variable. In this algorithm, each decision tree is built to correct the errors of the previous tree, and the final prediction is obtained by combining the predictions of all the trees."
   ]
  },
  {
   "cell_type": "markdown",
   "id": "32adfffd-395d-421c-bdb8-d3def084c895",
   "metadata": {},
   "source": [
    "The Gradient Boosting Regression algorithm works by iteratively adding decision trees to the ensemble, where each tree is built to minimize the residual error of the previous trees. The residual error is the difference between the actual target values and the predicted values of the previous trees. In other words, each new tree is trained to predict the difference between the target values and the predicted values of the previous trees."
   ]
  },
  {
   "cell_type": "markdown",
   "id": "048afa32-e669-46ec-acbf-ea63fd2b97dc",
   "metadata": {},
   "source": [
    "The Gradient Boosting Regression algorithm uses the gradient descent optimization technique to minimize the residual error.\n",
    "\n",
    "In each iteration, the algorithm calculates the negative gradient of the loss function with respect to the predicted values of the previous trees, and uses this information to train a new decision tree that best fits the residual error.\n",
    "\n",
    "The predicted values of the new tree are then added to the predictions of the previous trees to obtain an updated prediction."
   ]
  },
  {
   "cell_type": "markdown",
   "id": "589961aa-5964-496a-92b8-6768e31b9e95",
   "metadata": {},
   "source": [
    "The Gradient Boosting Regression algorithm allows for the use of different loss functions and tree structures, which can be customized for specific applications. \n",
    "\n",
    "The most commonly used loss function is the mean squared error, but other loss functions like Huber loss or quantile loss can also be used. Similarly, the tree structures can be varied by changing the depth, number of nodes, or splitting criteria of the decision trees."
   ]
  },
  {
   "cell_type": "markdown",
   "id": "80bb5031-358e-4f02-b784-eeb562d7105f",
   "metadata": {},
   "source": [
    "Gradient Boosting Regression is known for its ability to handle high-dimensional data, handle missing values, and avoid overfitting by using a combination of ensemble learning and gradient descent optimization. However, it can be sensitive to hyperparameters and requires careful tuning to obtain the best performance."
   ]
  },
  {
   "cell_type": "code",
   "execution_count": null,
   "id": "77729f22-5b6f-4a65-af3d-fd83d4e57d36",
   "metadata": {},
   "outputs": [],
   "source": [
    "Answer 2:"
   ]
  },
  {
   "cell_type": "code",
   "execution_count": null,
   "id": "ca35c52e-5022-4a3d-b21a-5fd8d4b7ca97",
   "metadata": {},
   "outputs": [],
   "source": [
    "Here's an implementation of a simple gradient boosting algorithm from scratch using Python and NumPy:"
   ]
  },
  {
   "cell_type": "code",
   "execution_count": 1,
   "id": "86c1f697-7d5c-4dee-8f5f-dc01ee023745",
   "metadata": {},
   "outputs": [],
   "source": [
    "import numpy as np\n",
    "\n",
    "class GradientBoostingRegressor:\n",
    "    def __init__(self, n_estimators=100, learning_rate=0.1, max_depth=3):\n",
    "        self.n_estimators = n_estimators\n",
    "        self.learning_rate = learning_rate\n",
    "        self.max_depth = max_depth\n",
    "        self.trees = []\n",
    "        self.intercept = 0\n",
    "\n",
    "    def fit(self, X, y):\n",
    "        self.intercept = np.mean(y)\n",
    "        f = np.full_like(y, self.intercept)\n",
    "        for i in range(self.n_estimators):\n",
    "            residual = y - f\n",
    "            tree = self.build_tree(X, residual, self.max_depth)\n",
    "            self.trees.append(tree)\n",
    "            f += self.learning_rate * tree.predict(X)\n",
    "\n",
    "    def predict(self, X):\n",
    "        y_pred = np.full(len(X), self.intercept)\n",
    "        for tree in self.trees:\n",
    "            y_pred += self.learning_rate * tree.predict(X)\n",
    "        return y_pred\n",
    "\n",
    "    def build_tree(self, X, y, max_depth):\n",
    "        if max_depth == 0:\n",
    "            return LeafNode(np.mean(y))\n",
    "\n",
    "        best_feature, best_threshold = self.find_best_split(X, y)\n",
    "        left_idx = X[:, best_feature] < best_threshold\n",
    "        right_idx = X[:, best_feature] >= best_threshold\n",
    "\n",
    "        left_tree = self.build_tree(X[left_idx], y[left_idx], max_depth - 1)\n",
    "        right_tree = self.build_tree(X[right_idx], y[right_idx], max_depth - 1)\n",
    "\n",
    "        return DecisionNode(best_feature, best_threshold, left_tree, right_tree)\n",
    "\n",
    "    def find_best_split(self, X, y):\n",
    "        n_samples, n_features = X.shape\n",
    "        best_feature = None\n",
    "        best_threshold = None\n",
    "        best_loss = float('inf')\n",
    "\n",
    "        for feature in range(n_features):\n",
    "            thresholds = np.unique(X[:, feature])\n",
    "            for threshold in thresholds:\n",
    "                left_idx = X[:, feature] < threshold\n",
    "                right_idx = X[:, feature] >= threshold\n",
    "\n",
    "                if np.sum(left_idx) == 0 or np.sum(right_idx) == 0:\n",
    "                    continue\n",
    "\n",
    "                left_y = y[left_idx]\n",
    "                right_y = y[right_idx]\n",
    "                loss = self.loss(left_y) + self.loss(right_y)\n",
    "\n",
    "                if loss < best_loss:\n",
    "                    best_loss = loss\n",
    "                    best_feature = feature\n",
    "                    best_threshold = threshold\n",
    "\n",
    "        return best_feature, best_threshold\n",
    "\n",
    "    def loss(self, y):\n",
    "        return np.sum((y - np.mean(y)) ** 2)\n",
    "    \n",
    "    \n",
    "class DecisionNode:\n",
    "    def __init__(self, feature, threshold, left, right):\n",
    "        self.feature = feature\n",
    "        self.threshold = threshold\n",
    "        self.left = left\n",
    "        self.right = right\n",
    "\n",
    "    def predict(self, X):\n",
    "        if X[self.feature] < self.threshold:\n",
    "            return self.left.predict(X)\n",
    "        else:\n",
    "            return self.right.predict(X)\n",
    "\n",
    "class LeafNode:\n",
    "    def __init__(self, value):\n",
    "        self.value = value\n",
    "\n",
    "    def predict(self, X):\n",
    "        return self.value\n"
   ]
  },
  {
   "cell_type": "code",
   "execution_count": null,
   "id": "997746b4-e720-42df-be66-b9ede2b9c5c6",
   "metadata": {},
   "outputs": [],
   "source": [
    "Here's an example of how to use the GradientBoostingRegressor class to train a model on a small dataset:"
   ]
  },
  {
   "cell_type": "code",
   "execution_count": 3,
   "id": "e0d0a8b3-2fda-43ac-8a6a-ca1ae78ccf88",
   "metadata": {},
   "outputs": [
    {
     "ename": "TypeError",
     "evalue": "'<' not supported between instances of 'int' and 'NoneType'",
     "output_type": "error",
     "traceback": [
      "\u001b[0;31m---------------------------------------------------------------------------\u001b[0m",
      "\u001b[0;31mTypeError\u001b[0m                                 Traceback (most recent call last)",
      "Cell \u001b[0;32mIn[3], line 5\u001b[0m\n\u001b[1;32m      2\u001b[0m y \u001b[38;5;241m=\u001b[39m np\u001b[38;5;241m.\u001b[39marray([\u001b[38;5;241m1\u001b[39m, \u001b[38;5;241m2\u001b[39m, \u001b[38;5;241m3\u001b[39m, \u001b[38;5;241m4\u001b[39m, \u001b[38;5;241m5\u001b[39m, \u001b[38;5;241m6\u001b[39m])\n\u001b[1;32m      4\u001b[0m gb \u001b[38;5;241m=\u001b[39m GradientBoostingRegressor(n_estimators\u001b[38;5;241m=\u001b[39m\u001b[38;5;241m100\u001b[39m, learning_rate\u001b[38;5;241m=\u001b[39m\u001b[38;5;241m0.1\u001b[39m, max_depth\u001b[38;5;241m=\u001b[39m\u001b[38;5;241m3\u001b[39m)\n\u001b[0;32m----> 5\u001b[0m \u001b[43mgb\u001b[49m\u001b[38;5;241;43m.\u001b[39;49m\u001b[43mfit\u001b[49m\u001b[43m(\u001b[49m\u001b[43mX\u001b[49m\u001b[43m,\u001b[49m\u001b[43m \u001b[49m\u001b[43my\u001b[49m\u001b[43m)\u001b[49m\n\u001b[1;32m      7\u001b[0m y_pred \u001b[38;5;241m=\u001b[39m gb\u001b[38;5;241m.\u001b[39mpredict(X)\n\u001b[1;32m      9\u001b[0m mse \u001b[38;5;241m=\u001b[39m np\u001b[38;5;241m.\u001b[39mmean((y \u001b[38;5;241m-\u001b[39m y_pred) \u001b[38;5;241m*\u001b[39m\u001b[38;5;241m*\u001b[39m \u001b[38;5;241m2\u001b[39m)\n",
      "Cell \u001b[0;32mIn[1], line 16\u001b[0m, in \u001b[0;36mGradientBoostingRegressor.fit\u001b[0;34m(self, X, y)\u001b[0m\n\u001b[1;32m     14\u001b[0m \u001b[38;5;28;01mfor\u001b[39;00m i \u001b[38;5;129;01min\u001b[39;00m \u001b[38;5;28mrange\u001b[39m(\u001b[38;5;28mself\u001b[39m\u001b[38;5;241m.\u001b[39mn_estimators):\n\u001b[1;32m     15\u001b[0m     residual \u001b[38;5;241m=\u001b[39m y \u001b[38;5;241m-\u001b[39m f\n\u001b[0;32m---> 16\u001b[0m     tree \u001b[38;5;241m=\u001b[39m \u001b[38;5;28;43mself\u001b[39;49m\u001b[38;5;241;43m.\u001b[39;49m\u001b[43mbuild_tree\u001b[49m\u001b[43m(\u001b[49m\u001b[43mX\u001b[49m\u001b[43m,\u001b[49m\u001b[43m \u001b[49m\u001b[43mresidual\u001b[49m\u001b[43m,\u001b[49m\u001b[43m \u001b[49m\u001b[38;5;28;43mself\u001b[39;49m\u001b[38;5;241;43m.\u001b[39;49m\u001b[43mmax_depth\u001b[49m\u001b[43m)\u001b[49m\n\u001b[1;32m     17\u001b[0m     \u001b[38;5;28mself\u001b[39m\u001b[38;5;241m.\u001b[39mtrees\u001b[38;5;241m.\u001b[39mappend(tree)\n\u001b[1;32m     18\u001b[0m     f \u001b[38;5;241m+\u001b[39m\u001b[38;5;241m=\u001b[39m \u001b[38;5;28mself\u001b[39m\u001b[38;5;241m.\u001b[39mlearning_rate \u001b[38;5;241m*\u001b[39m tree\u001b[38;5;241m.\u001b[39mpredict(X)\n",
      "Cell \u001b[0;32mIn[1], line 34\u001b[0m, in \u001b[0;36mGradientBoostingRegressor.build_tree\u001b[0;34m(self, X, y, max_depth)\u001b[0m\n\u001b[1;32m     31\u001b[0m left_idx \u001b[38;5;241m=\u001b[39m X[:, best_feature] \u001b[38;5;241m<\u001b[39m best_threshold\n\u001b[1;32m     32\u001b[0m right_idx \u001b[38;5;241m=\u001b[39m X[:, best_feature] \u001b[38;5;241m>\u001b[39m\u001b[38;5;241m=\u001b[39m best_threshold\n\u001b[0;32m---> 34\u001b[0m left_tree \u001b[38;5;241m=\u001b[39m \u001b[38;5;28;43mself\u001b[39;49m\u001b[38;5;241;43m.\u001b[39;49m\u001b[43mbuild_tree\u001b[49m\u001b[43m(\u001b[49m\u001b[43mX\u001b[49m\u001b[43m[\u001b[49m\u001b[43mleft_idx\u001b[49m\u001b[43m]\u001b[49m\u001b[43m,\u001b[49m\u001b[43m \u001b[49m\u001b[43my\u001b[49m\u001b[43m[\u001b[49m\u001b[43mleft_idx\u001b[49m\u001b[43m]\u001b[49m\u001b[43m,\u001b[49m\u001b[43m \u001b[49m\u001b[43mmax_depth\u001b[49m\u001b[43m \u001b[49m\u001b[38;5;241;43m-\u001b[39;49m\u001b[43m \u001b[49m\u001b[38;5;241;43m1\u001b[39;49m\u001b[43m)\u001b[49m\n\u001b[1;32m     35\u001b[0m right_tree \u001b[38;5;241m=\u001b[39m \u001b[38;5;28mself\u001b[39m\u001b[38;5;241m.\u001b[39mbuild_tree(X[right_idx], y[right_idx], max_depth \u001b[38;5;241m-\u001b[39m \u001b[38;5;241m1\u001b[39m)\n\u001b[1;32m     37\u001b[0m \u001b[38;5;28;01mreturn\u001b[39;00m DecisionNode(best_feature, best_threshold, left_tree, right_tree)\n",
      "Cell \u001b[0;32mIn[1], line 34\u001b[0m, in \u001b[0;36mGradientBoostingRegressor.build_tree\u001b[0;34m(self, X, y, max_depth)\u001b[0m\n\u001b[1;32m     31\u001b[0m left_idx \u001b[38;5;241m=\u001b[39m X[:, best_feature] \u001b[38;5;241m<\u001b[39m best_threshold\n\u001b[1;32m     32\u001b[0m right_idx \u001b[38;5;241m=\u001b[39m X[:, best_feature] \u001b[38;5;241m>\u001b[39m\u001b[38;5;241m=\u001b[39m best_threshold\n\u001b[0;32m---> 34\u001b[0m left_tree \u001b[38;5;241m=\u001b[39m \u001b[38;5;28;43mself\u001b[39;49m\u001b[38;5;241;43m.\u001b[39;49m\u001b[43mbuild_tree\u001b[49m\u001b[43m(\u001b[49m\u001b[43mX\u001b[49m\u001b[43m[\u001b[49m\u001b[43mleft_idx\u001b[49m\u001b[43m]\u001b[49m\u001b[43m,\u001b[49m\u001b[43m \u001b[49m\u001b[43my\u001b[49m\u001b[43m[\u001b[49m\u001b[43mleft_idx\u001b[49m\u001b[43m]\u001b[49m\u001b[43m,\u001b[49m\u001b[43m \u001b[49m\u001b[43mmax_depth\u001b[49m\u001b[43m \u001b[49m\u001b[38;5;241;43m-\u001b[39;49m\u001b[43m \u001b[49m\u001b[38;5;241;43m1\u001b[39;49m\u001b[43m)\u001b[49m\n\u001b[1;32m     35\u001b[0m right_tree \u001b[38;5;241m=\u001b[39m \u001b[38;5;28mself\u001b[39m\u001b[38;5;241m.\u001b[39mbuild_tree(X[right_idx], y[right_idx], max_depth \u001b[38;5;241m-\u001b[39m \u001b[38;5;241m1\u001b[39m)\n\u001b[1;32m     37\u001b[0m \u001b[38;5;28;01mreturn\u001b[39;00m DecisionNode(best_feature, best_threshold, left_tree, right_tree)\n",
      "Cell \u001b[0;32mIn[1], line 31\u001b[0m, in \u001b[0;36mGradientBoostingRegressor.build_tree\u001b[0;34m(self, X, y, max_depth)\u001b[0m\n\u001b[1;32m     28\u001b[0m     \u001b[38;5;28;01mreturn\u001b[39;00m LeafNode(np\u001b[38;5;241m.\u001b[39mmean(y))\n\u001b[1;32m     30\u001b[0m best_feature, best_threshold \u001b[38;5;241m=\u001b[39m \u001b[38;5;28mself\u001b[39m\u001b[38;5;241m.\u001b[39mfind_best_split(X, y)\n\u001b[0;32m---> 31\u001b[0m left_idx \u001b[38;5;241m=\u001b[39m \u001b[43mX\u001b[49m\u001b[43m[\u001b[49m\u001b[43m:\u001b[49m\u001b[43m,\u001b[49m\u001b[43m \u001b[49m\u001b[43mbest_feature\u001b[49m\u001b[43m]\u001b[49m\u001b[43m \u001b[49m\u001b[38;5;241;43m<\u001b[39;49m\u001b[43m \u001b[49m\u001b[43mbest_threshold\u001b[49m\n\u001b[1;32m     32\u001b[0m right_idx \u001b[38;5;241m=\u001b[39m X[:, best_feature] \u001b[38;5;241m>\u001b[39m\u001b[38;5;241m=\u001b[39m best_threshold\n\u001b[1;32m     34\u001b[0m left_tree \u001b[38;5;241m=\u001b[39m \u001b[38;5;28mself\u001b[39m\u001b[38;5;241m.\u001b[39mbuild_tree(X[left_idx], y[left_idx], max_depth \u001b[38;5;241m-\u001b[39m \u001b[38;5;241m1\u001b[39m)\n",
      "\u001b[0;31mTypeError\u001b[0m: '<' not supported between instances of 'int' and 'NoneType'"
     ]
    }
   ],
   "source": [
    "X = np.array([[0], [1], [2], [3], [4], [5]])\n",
    "y = np.array([1, 2, 3, 4, 5, 6])\n",
    "\n",
    "gb = GradientBoostingRegressor(n_estimators=100, learning_rate=0.1, max_depth=3)\n",
    "gb.fit(X, y)\n",
    "\n",
    "y_pred = gb.predict(X)\n",
    "\n",
    "mse = np.mean((y - y_pred) ** 2)\n",
    "r2 = 1 - np.sum((y - y_pred) ** 2) / np.sum((y - np.mean(y)) ** 2)\n",
    "\n",
    "print(\"Mean squared error:\", mse)\n",
    "print(\"R-squared score:\", r2)\n"
   ]
  },
  {
   "cell_type": "markdown",
   "id": "95a7346c-719a-4a89-91b8-1449cb537ef8",
   "metadata": {},
   "source": [
    "\n",
    "This code creates a simple dataset with six data points and trains a `GradientBoostingRegressor` model with 100 estimators, a learning rate of 0.1, and a maximum depth of 3. \n",
    "\n",
    "It then makes predictions on the training data and computes the mean squared error and R-squared score to evaluate the model's performance. Note that this is a very simple example and that in practice, you would want to use more data and possibly more complex models to achieve better results.\n"
   ]
  },
  {
   "cell_type": "code",
   "execution_count": null,
   "id": "26a06b9e-3bfa-47af-b3d3-dae84e9b66c4",
   "metadata": {},
   "outputs": [],
   "source": [
    "Answer 3:"
   ]
  },
  {
   "cell_type": "markdown",
   "id": "bd20320a-69af-457d-826f-3e3fc7f66b84",
   "metadata": {},
   "source": [
    "To perform hyperparameter optimization for a machine learning model, we can use grid search or random search. Grid search tests all possible combinations of hyperparameters, while random search tests a random subset of all possible hyperparameters. In this answer, I will provide a general outline of how to perform hyperparameter optimization for a random forest model using random search in Python."
   ]
  },
  {
   "cell_type": "code",
   "execution_count": 1,
   "id": "ba7d181b-677f-4298-875c-c0afd1ea9ff6",
   "metadata": {},
   "outputs": [],
   "source": [
    "# First, we need to import the necessary libraries:\n",
    "\n",
    "from sklearn.ensemble import RandomForestClassifier\n",
    "from sklearn.model_selection import RandomizedSearchCV\n",
    "from sklearn.datasets import make_classification\n",
    "import numpy as np\n"
   ]
  },
  {
   "cell_type": "code",
   "execution_count": 2,
   "id": "4246a59b-a299-43f2-b273-6a6260f7f4e6",
   "metadata": {},
   "outputs": [],
   "source": [
    "# Next, we will generate some example data for testing our random forest model:\n",
    "\n",
    "X, y = make_classification(n_samples=1000, n_features=10, n_informative=5, n_classes=2, random_state=42)\n"
   ]
  },
  {
   "cell_type": "code",
   "execution_count": 3,
   "id": "9a042816-ee71-4035-94eb-31a1868642c0",
   "metadata": {},
   "outputs": [],
   "source": [
    "# Now, we can define our random forest model with default hyperparameters:\n",
    "\n",
    "rf = RandomForestClassifier(random_state=42)\n"
   ]
  },
  {
   "cell_type": "code",
   "execution_count": 4,
   "id": "3e9da568-310e-4fd4-af11-600bd56f67d3",
   "metadata": {},
   "outputs": [],
   "source": [
    "# We can then define a dictionary of hyperparameters to test and their possible values:\n",
    "\n",
    "param_dist = {\n",
    "    'n_estimators': [10, 50, 100, 150, 200],\n",
    "    'max_depth': [None, 5, 10, 20],\n",
    "    'min_samples_split': [2, 5, 10],\n",
    "    'min_samples_leaf': [1, 2, 4],\n",
    "    'max_features': ['auto', 'sqrt']\n",
    "}\n"
   ]
  },
  {
   "cell_type": "markdown",
   "id": "74c3cd4b-5991-41b6-b204-401e9246cb48",
   "metadata": {},
   "source": [
    "In this example, we are testing the number of trees, maximum depth of trees, minimum number of samples required to split an internal node, minimum number of samples required to be at a leaf node, and the number of features to consider when looking for the best split. We can then create a RandomizedSearchCV object, which will test a random subset of hyperparameters and fit the model:"
   ]
  },
  {
   "cell_type": "code",
   "execution_count": null,
   "id": "6b00fa2d-818d-4f81-b692-f3621328bbdc",
   "metadata": {},
   "outputs": [
    {
     "name": "stdout",
     "output_type": "stream",
     "text": [
      "Fitting 5 folds for each of 100 candidates, totalling 500 fits\n"
     ]
    },
    {
     "name": "stderr",
     "output_type": "stream",
     "text": [
      "/opt/conda/lib/python3.10/site-packages/sklearn/ensemble/_forest.py:425: FutureWarning: `max_features='auto'` has been deprecated in 1.1 and will be removed in 1.3. To keep the past behaviour, explicitly set `max_features='sqrt'` or remove this parameter as it is also the default value for RandomForestClassifiers and ExtraTreesClassifiers.\n",
      "  warn(\n",
      "/opt/conda/lib/python3.10/site-packages/sklearn/ensemble/_forest.py:425: FutureWarning: `max_features='auto'` has been deprecated in 1.1 and will be removed in 1.3. To keep the past behaviour, explicitly set `max_features='sqrt'` or remove this parameter as it is also the default value for RandomForestClassifiers and ExtraTreesClassifiers.\n",
      "  warn(\n",
      "/opt/conda/lib/python3.10/site-packages/sklearn/ensemble/_forest.py:425: FutureWarning: `max_features='auto'` has been deprecated in 1.1 and will be removed in 1.3. To keep the past behaviour, explicitly set `max_features='sqrt'` or remove this parameter as it is also the default value for RandomForestClassifiers and ExtraTreesClassifiers.\n",
      "  warn(\n",
      "/opt/conda/lib/python3.10/site-packages/sklearn/ensemble/_forest.py:425: FutureWarning: `max_features='auto'` has been deprecated in 1.1 and will be removed in 1.3. To keep the past behaviour, explicitly set `max_features='sqrt'` or remove this parameter as it is also the default value for RandomForestClassifiers and ExtraTreesClassifiers.\n",
      "  warn(\n",
      "/opt/conda/lib/python3.10/site-packages/sklearn/ensemble/_forest.py:425: FutureWarning: `max_features='auto'` has been deprecated in 1.1 and will be removed in 1.3. To keep the past behaviour, explicitly set `max_features='sqrt'` or remove this parameter as it is also the default value for RandomForestClassifiers and ExtraTreesClassifiers.\n",
      "  warn(\n",
      "/opt/conda/lib/python3.10/site-packages/sklearn/ensemble/_forest.py:425: FutureWarning: `max_features='auto'` has been deprecated in 1.1 and will be removed in 1.3. To keep the past behaviour, explicitly set `max_features='sqrt'` or remove this parameter as it is also the default value for RandomForestClassifiers and ExtraTreesClassifiers.\n",
      "  warn(\n",
      "/opt/conda/lib/python3.10/site-packages/sklearn/ensemble/_forest.py:425: FutureWarning: `max_features='auto'` has been deprecated in 1.1 and will be removed in 1.3. To keep the past behaviour, explicitly set `max_features='sqrt'` or remove this parameter as it is also the default value for RandomForestClassifiers and ExtraTreesClassifiers.\n",
      "  warn(\n",
      "/opt/conda/lib/python3.10/site-packages/sklearn/ensemble/_forest.py:425: FutureWarning: `max_features='auto'` has been deprecated in 1.1 and will be removed in 1.3. To keep the past behaviour, explicitly set `max_features='sqrt'` or remove this parameter as it is also the default value for RandomForestClassifiers and ExtraTreesClassifiers.\n",
      "  warn(\n",
      "/opt/conda/lib/python3.10/site-packages/sklearn/ensemble/_forest.py:425: FutureWarning: `max_features='auto'` has been deprecated in 1.1 and will be removed in 1.3. To keep the past behaviour, explicitly set `max_features='sqrt'` or remove this parameter as it is also the default value for RandomForestClassifiers and ExtraTreesClassifiers.\n",
      "  warn(\n",
      "/opt/conda/lib/python3.10/site-packages/sklearn/ensemble/_forest.py:425: FutureWarning: `max_features='auto'` has been deprecated in 1.1 and will be removed in 1.3. To keep the past behaviour, explicitly set `max_features='sqrt'` or remove this parameter as it is also the default value for RandomForestClassifiers and ExtraTreesClassifiers.\n",
      "  warn(\n",
      "/opt/conda/lib/python3.10/site-packages/sklearn/ensemble/_forest.py:425: FutureWarning: `max_features='auto'` has been deprecated in 1.1 and will be removed in 1.3. To keep the past behaviour, explicitly set `max_features='sqrt'` or remove this parameter as it is also the default value for RandomForestClassifiers and ExtraTreesClassifiers.\n",
      "  warn(\n",
      "/opt/conda/lib/python3.10/site-packages/sklearn/ensemble/_forest.py:425: FutureWarning: `max_features='auto'` has been deprecated in 1.1 and will be removed in 1.3. To keep the past behaviour, explicitly set `max_features='sqrt'` or remove this parameter as it is also the default value for RandomForestClassifiers and ExtraTreesClassifiers.\n",
      "  warn(\n",
      "/opt/conda/lib/python3.10/site-packages/sklearn/ensemble/_forest.py:425: FutureWarning: `max_features='auto'` has been deprecated in 1.1 and will be removed in 1.3. To keep the past behaviour, explicitly set `max_features='sqrt'` or remove this parameter as it is also the default value for RandomForestClassifiers and ExtraTreesClassifiers.\n",
      "  warn(\n",
      "/opt/conda/lib/python3.10/site-packages/sklearn/ensemble/_forest.py:425: FutureWarning: `max_features='auto'` has been deprecated in 1.1 and will be removed in 1.3. To keep the past behaviour, explicitly set `max_features='sqrt'` or remove this parameter as it is also the default value for RandomForestClassifiers and ExtraTreesClassifiers.\n",
      "  warn(\n",
      "/opt/conda/lib/python3.10/site-packages/sklearn/ensemble/_forest.py:425: FutureWarning: `max_features='auto'` has been deprecated in 1.1 and will be removed in 1.3. To keep the past behaviour, explicitly set `max_features='sqrt'` or remove this parameter as it is also the default value for RandomForestClassifiers and ExtraTreesClassifiers.\n",
      "  warn(\n",
      "/opt/conda/lib/python3.10/site-packages/sklearn/ensemble/_forest.py:425: FutureWarning: `max_features='auto'` has been deprecated in 1.1 and will be removed in 1.3. To keep the past behaviour, explicitly set `max_features='sqrt'` or remove this parameter as it is also the default value for RandomForestClassifiers and ExtraTreesClassifiers.\n",
      "  warn(\n",
      "/opt/conda/lib/python3.10/site-packages/sklearn/ensemble/_forest.py:425: FutureWarning: `max_features='auto'` has been deprecated in 1.1 and will be removed in 1.3. To keep the past behaviour, explicitly set `max_features='sqrt'` or remove this parameter as it is also the default value for RandomForestClassifiers and ExtraTreesClassifiers.\n",
      "  warn(\n",
      "/opt/conda/lib/python3.10/site-packages/sklearn/ensemble/_forest.py:425: FutureWarning: `max_features='auto'` has been deprecated in 1.1 and will be removed in 1.3. To keep the past behaviour, explicitly set `max_features='sqrt'` or remove this parameter as it is also the default value for RandomForestClassifiers and ExtraTreesClassifiers.\n",
      "  warn(\n",
      "/opt/conda/lib/python3.10/site-packages/sklearn/ensemble/_forest.py:425: FutureWarning: `max_features='auto'` has been deprecated in 1.1 and will be removed in 1.3. To keep the past behaviour, explicitly set `max_features='sqrt'` or remove this parameter as it is also the default value for RandomForestClassifiers and ExtraTreesClassifiers.\n",
      "  warn(\n",
      "/opt/conda/lib/python3.10/site-packages/sklearn/ensemble/_forest.py:425: FutureWarning: `max_features='auto'` has been deprecated in 1.1 and will be removed in 1.3. To keep the past behaviour, explicitly set `max_features='sqrt'` or remove this parameter as it is also the default value for RandomForestClassifiers and ExtraTreesClassifiers.\n",
      "  warn(\n",
      "/opt/conda/lib/python3.10/site-packages/sklearn/ensemble/_forest.py:425: FutureWarning: `max_features='auto'` has been deprecated in 1.1 and will be removed in 1.3. To keep the past behaviour, explicitly set `max_features='sqrt'` or remove this parameter as it is also the default value for RandomForestClassifiers and ExtraTreesClassifiers.\n",
      "  warn(\n",
      "/opt/conda/lib/python3.10/site-packages/sklearn/ensemble/_forest.py:425: FutureWarning: `max_features='auto'` has been deprecated in 1.1 and will be removed in 1.3. To keep the past behaviour, explicitly set `max_features='sqrt'` or remove this parameter as it is also the default value for RandomForestClassifiers and ExtraTreesClassifiers.\n",
      "  warn(\n",
      "/opt/conda/lib/python3.10/site-packages/sklearn/ensemble/_forest.py:425: FutureWarning: `max_features='auto'` has been deprecated in 1.1 and will be removed in 1.3. To keep the past behaviour, explicitly set `max_features='sqrt'` or remove this parameter as it is also the default value for RandomForestClassifiers and ExtraTreesClassifiers.\n",
      "  warn(\n",
      "/opt/conda/lib/python3.10/site-packages/sklearn/ensemble/_forest.py:425: FutureWarning: `max_features='auto'` has been deprecated in 1.1 and will be removed in 1.3. To keep the past behaviour, explicitly set `max_features='sqrt'` or remove this parameter as it is also the default value for RandomForestClassifiers and ExtraTreesClassifiers.\n",
      "  warn(\n",
      "/opt/conda/lib/python3.10/site-packages/sklearn/ensemble/_forest.py:425: FutureWarning: `max_features='auto'` has been deprecated in 1.1 and will be removed in 1.3. To keep the past behaviour, explicitly set `max_features='sqrt'` or remove this parameter as it is also the default value for RandomForestClassifiers and ExtraTreesClassifiers.\n",
      "  warn(\n",
      "/opt/conda/lib/python3.10/site-packages/sklearn/ensemble/_forest.py:425: FutureWarning: `max_features='auto'` has been deprecated in 1.1 and will be removed in 1.3. To keep the past behaviour, explicitly set `max_features='sqrt'` or remove this parameter as it is also the default value for RandomForestClassifiers and ExtraTreesClassifiers.\n",
      "  warn(\n",
      "/opt/conda/lib/python3.10/site-packages/sklearn/ensemble/_forest.py:425: FutureWarning: `max_features='auto'` has been deprecated in 1.1 and will be removed in 1.3. To keep the past behaviour, explicitly set `max_features='sqrt'` or remove this parameter as it is also the default value for RandomForestClassifiers and ExtraTreesClassifiers.\n",
      "  warn(\n",
      "/opt/conda/lib/python3.10/site-packages/sklearn/ensemble/_forest.py:425: FutureWarning: `max_features='auto'` has been deprecated in 1.1 and will be removed in 1.3. To keep the past behaviour, explicitly set `max_features='sqrt'` or remove this parameter as it is also the default value for RandomForestClassifiers and ExtraTreesClassifiers.\n",
      "  warn(\n",
      "/opt/conda/lib/python3.10/site-packages/sklearn/ensemble/_forest.py:425: FutureWarning: `max_features='auto'` has been deprecated in 1.1 and will be removed in 1.3. To keep the past behaviour, explicitly set `max_features='sqrt'` or remove this parameter as it is also the default value for RandomForestClassifiers and ExtraTreesClassifiers.\n",
      "  warn(\n",
      "/opt/conda/lib/python3.10/site-packages/sklearn/ensemble/_forest.py:425: FutureWarning: `max_features='auto'` has been deprecated in 1.1 and will be removed in 1.3. To keep the past behaviour, explicitly set `max_features='sqrt'` or remove this parameter as it is also the default value for RandomForestClassifiers and ExtraTreesClassifiers.\n",
      "  warn(\n",
      "/opt/conda/lib/python3.10/site-packages/sklearn/ensemble/_forest.py:425: FutureWarning: `max_features='auto'` has been deprecated in 1.1 and will be removed in 1.3. To keep the past behaviour, explicitly set `max_features='sqrt'` or remove this parameter as it is also the default value for RandomForestClassifiers and ExtraTreesClassifiers.\n",
      "  warn(\n",
      "/opt/conda/lib/python3.10/site-packages/sklearn/ensemble/_forest.py:425: FutureWarning: `max_features='auto'` has been deprecated in 1.1 and will be removed in 1.3. To keep the past behaviour, explicitly set `max_features='sqrt'` or remove this parameter as it is also the default value for RandomForestClassifiers and ExtraTreesClassifiers.\n",
      "  warn(\n",
      "/opt/conda/lib/python3.10/site-packages/sklearn/ensemble/_forest.py:425: FutureWarning: `max_features='auto'` has been deprecated in 1.1 and will be removed in 1.3. To keep the past behaviour, explicitly set `max_features='sqrt'` or remove this parameter as it is also the default value for RandomForestClassifiers and ExtraTreesClassifiers.\n",
      "  warn(\n",
      "/opt/conda/lib/python3.10/site-packages/sklearn/ensemble/_forest.py:425: FutureWarning: `max_features='auto'` has been deprecated in 1.1 and will be removed in 1.3. To keep the past behaviour, explicitly set `max_features='sqrt'` or remove this parameter as it is also the default value for RandomForestClassifiers and ExtraTreesClassifiers.\n",
      "  warn(\n",
      "/opt/conda/lib/python3.10/site-packages/sklearn/ensemble/_forest.py:425: FutureWarning: `max_features='auto'` has been deprecated in 1.1 and will be removed in 1.3. To keep the past behaviour, explicitly set `max_features='sqrt'` or remove this parameter as it is also the default value for RandomForestClassifiers and ExtraTreesClassifiers.\n",
      "  warn(\n",
      "/opt/conda/lib/python3.10/site-packages/sklearn/ensemble/_forest.py:425: FutureWarning: `max_features='auto'` has been deprecated in 1.1 and will be removed in 1.3. To keep the past behaviour, explicitly set `max_features='sqrt'` or remove this parameter as it is also the default value for RandomForestClassifiers and ExtraTreesClassifiers.\n",
      "  warn(\n",
      "/opt/conda/lib/python3.10/site-packages/sklearn/ensemble/_forest.py:425: FutureWarning: `max_features='auto'` has been deprecated in 1.1 and will be removed in 1.3. To keep the past behaviour, explicitly set `max_features='sqrt'` or remove this parameter as it is also the default value for RandomForestClassifiers and ExtraTreesClassifiers.\n",
      "  warn(\n",
      "/opt/conda/lib/python3.10/site-packages/sklearn/ensemble/_forest.py:425: FutureWarning: `max_features='auto'` has been deprecated in 1.1 and will be removed in 1.3. To keep the past behaviour, explicitly set `max_features='sqrt'` or remove this parameter as it is also the default value for RandomForestClassifiers and ExtraTreesClassifiers.\n",
      "  warn(\n"
     ]
    }
   ],
   "source": [
    "rf_random = RandomizedSearchCV(\n",
    "    estimator=rf,\n",
    "    param_distributions=param_dist,\n",
    "    n_iter=100,\n",
    "    cv=5,\n",
    "    verbose=2,\n",
    "    random_state=42,\n",
    "    n_jobs=-1\n",
    ")\n",
    "rf_random.fit(X, y)\n"
   ]
  },
  {
   "cell_type": "code",
   "execution_count": null,
   "id": "36f653bd-6aa5-4e0d-a3e1-74ef7bfd5f75",
   "metadata": {},
   "outputs": [],
   "source": [
    "Answer 4:"
   ]
  },
  {
   "cell_type": "markdown",
   "id": "914f159c-0f89-4a4f-a9b1-70bdb9f1bbfd",
   "metadata": {},
   "source": [
    "In Gradient Boosting, a weak learner is a simple model that performs slightly better than random guessing. Specifically, a weak learner has an error rate that is only slightly better than 50%, which is the error rate for random guessing in binary classification problems. Examples of weak learners include decision trees with only a few levels or linear models with low complexity."
   ]
  },
  {
   "cell_type": "markdown",
   "id": "0af84d20-ca5f-4c08-87ca-cb24b117e126",
   "metadata": {},
   "source": [
    "The idea behind Gradient Boosting is to combine many weak learners to create a strong learner. In each iteration of the algorithm, a new weak learner is trained to predict the errors of the current ensemble. \n",
    "\n",
    "The predictions of all the weak learners are then combined to make the final prediction. By iteratively adding weak learners to the ensemble, the algorithm gradually improves its performance until a satisfactory level is achieved."
   ]
  },
  {
   "cell_type": "markdown",
   "id": "aa9308d2-51c6-4266-b2c3-b1d5e1d47a79",
   "metadata": {},
   "source": [
    "The use of weak learners in Gradient Boosting has several advantages, including their computational efficiency, their ability to handle high-dimensional data, and their ability to capture complex interactions between features.\n",
    "\n",
    "However, the choice of weak learner and the hyperparameters of the algorithm can have a significant impact on the final performance, and careful tuning is often necessary to achieve good results."
   ]
  },
  {
   "cell_type": "code",
   "execution_count": null,
   "id": "e0396a73-2238-4f8c-95f6-98cedf62ac0d",
   "metadata": {},
   "outputs": [],
   "source": [
    "Answer 5:"
   ]
  },
  {
   "cell_type": "markdown",
   "id": "eef64ef9-6100-4a39-b64d-ce8ee67bbe2e",
   "metadata": {},
   "source": [
    "The intuition behind the Gradient Boosting algorithm is to combine the predictions of multiple weak models to create a strong model that can make accurate predictions on a given dataset.\n",
    "\n",
    "The key idea is to iteratively add new models to the ensemble, each one trained to correct the errors of the previous models."
   ]
  },
  {
   "cell_type": "markdown",
   "id": "c8213a67-9e87-43cd-9de9-2396b7b6f45b",
   "metadata": {},
   "source": [
    "The algorithm starts by fitting an initial model to the data. This model can be any simple model, such as a decision tree or a linear regression. The initial model's predictions are then compared to the true values of the target variable, and the errors are computed.\n",
    "\n",
    "The next model is then trained to predict the errors of the first model. Specifically, the new model is trained on the original features and the negative gradients of the loss function with respect to the previous model's predictions."
   ]
  },
  {
   "cell_type": "markdown",
   "id": "edac0d3c-238a-4d6d-b144-2199812dc878",
   "metadata": {},
   "source": [
    "The negative gradients provide a measure of how much the predictions of the first model should be adjusted to reduce the loss function. By training the second model to predict the negative gradients, we ensure that its predictions will be in the opposite direction of the errors made by the first model. \n",
    "\n",
    "The predictions of the first and second models are then combined to form a new set of predictions, which are again compared to the true values, and the process is repeated."
   ]
  },
  {
   "cell_type": "markdown",
   "id": "4618f03f-22d0-49a7-b3e5-4df45f2ab371",
   "metadata": {},
   "source": [
    "In each iteration, the new model is trained to predict the errors of the current ensemble, and the predictions of all models are combined to create a final prediction. By iteratively adding new models to the ensemble, the algorithm gradually improves its performance until a satisfactory level is achieved."
   ]
  },
  {
   "cell_type": "markdown",
   "id": "26202ca7-708f-4c0d-b3d9-a2f8b402af4a",
   "metadata": {},
   "source": [
    "The intuition behind Gradient Boosting is that by combining the predictions of multiple weak models, we can create a strong model that is capable of capturing complex relationships between the features and the target variable. \n",
    "\n",
    "Each new model is trained to correct the errors of the previous models, allowing the algorithm to gradually converge to the optimal solution."
   ]
  },
  {
   "cell_type": "code",
   "execution_count": null,
   "id": "e6f7a657-da81-47db-99be-9eee9a230bee",
   "metadata": {},
   "outputs": [],
   "source": [
    "Answer 6:"
   ]
  },
  {
   "cell_type": "markdown",
   "id": "250af952-5e1f-4ab8-a0d9-aa11c3103289",
   "metadata": {},
   "source": [
    "Gradient Boosting algorithm builds an ensemble of weak learners by iteratively adding new models to the existing ensemble, with each new model trained to correct the errors of the previous models."
   ]
  },
  {
   "cell_type": "markdown",
   "id": "1170ea28-c32b-49f3-b435-7596fb11a69b",
   "metadata": {},
   "source": [
    "The process of building the ensemble typically involves the following steps:\n",
    "\n",
    "1.Initialize the ensemble: The first step is to initialize the ensemble by fitting an initial model to the data. This model can be any simple model, such as a decision tree or a linear regression.\n",
    "\n",
    "2.Compute the residuals: After fitting the initial model, the residuals, which are the differences between the predicted and actual values, are computed for each data point.\n",
    "\n",
    "3.Train a weak learner: A new weak learner is trained on the residuals to predict the errors of the previous model. The objective is to find a model that can accurately predict the residuals of the previous model, which can be interpreted as the direction and magnitude of the error made by the previous model.\n",
    "\n",
    "4.Add the weak learner to the ensemble: The new weak learner is added to the ensemble, and its predictions are combined with the predictions of the previous models.\n",
    "\n",
    "5.Repeat the process: The process of computing the residuals, training a weak learner, and adding it to the ensemble is repeated for a specified number of iterations or until the desired level of performance is achieved.\n",
    "\n",
    "6.Make final predictions: Once the ensemble is trained, the final predictions are made by aggregating the predictions of all the weak learners.\n"
   ]
  },
  {
   "cell_type": "markdown",
   "id": "61c0ac62-d777-4adc-8ea4-332b982266b9",
   "metadata": {},
   "source": [
    "In summary, Gradient Boosting algorithm builds an ensemble of weak learners by iteratively adding new models to the existing ensemble, with each new model trained to correct the errors of the previous models.\n",
    "\n",
    "This process allows the algorithm to gradually improve its performance and capture complex relationships between the features and the target variable.\n"
   ]
  },
  {
   "cell_type": "code",
   "execution_count": null,
   "id": "556ff39d-1c50-447e-95ad-06121c942684",
   "metadata": {},
   "outputs": [],
   "source": [
    "Answer 7:"
   ]
  },
  {
   "cell_type": "markdown",
   "id": "19cf18c6-f43d-45c9-b3d4-54315093e575",
   "metadata": {},
   "source": [
    "The mathematical intuition of Gradient Boosting algorithm involves several steps, including defining the loss function, computing the negative gradients, and updating the model parameters. Here are the steps involved in constructing the mathematical intuition of Gradient Boosting algorithm:"
   ]
  },
  {
   "cell_type": "markdown",
   "id": "1e8753ca-27ae-4f26-bf60-aa00b4d077e0",
   "metadata": {},
   "source": [
    "1.Define the loss function: The first step is to define the loss function, which is a measure of the difference between the predicted values and the actual values. The most commonly used loss function for Gradient Boosting is the mean squared error (MSE), which is defined as the average squared difference between the predicted and actual values.\n",
    "\n",
    "2.Initialize the model: The second step is to initialize the model with some initial parameters. This model can be any simple model, such as a decision tree or a linear regression.\n",
    "\n",
    "3.Compute the negative gradients: The next step is to compute the negative gradients of the loss function with respect to the predicted values of the model. These negative gradients provide a measure of how much the predicted values should be adjusted to reduce the loss function.\n",
    "\n",
    "4.Train a new model: A new model is trained to predict the negative gradients. This model can be any simple model, such as a decision tree or a linear regression. The objective is to find a model that can accurately predict the negative gradients of the previous model.\n",
    "\n",
    "5.Update the model parameters: Once the new model is trained, its predictions are multiplied by a learning rate, and the result is added to the predictions of the previous model. This update step adjusts the parameters of the model to reduce the loss function.\n",
    "\n",
    "6.Repeat the process: Steps 3 to 5 are repeated for a specified number of iterations or until the desired level of performance is achieved.\n",
    "\n",
    "7.Make final predictions: Once the model is trained, the final predictions are made by aggregating the predictions of all the models in the ensemble.\n",
    "\n"
   ]
  },
  {
   "cell_type": "markdown",
   "id": "3d9d9b9a-e029-4090-a76b-24ec9b92cc9a",
   "metadata": {},
   "source": [
    "\n",
    "In summary, constructing the mathematical intuition of Gradient Boosting algorithm involves defining the loss function, computing the negative gradients, training a new model to predict the negative gradients, updating the model parameters, and repeating the process for a specified number of iterations. \n",
    "\n",
    "\n",
    "This process allows the algorithm to gradually improve its performance and capture complex relationships between the features and the target variable."
   ]
  }
 ],
 "metadata": {
  "kernelspec": {
   "display_name": "Python 3 (ipykernel)",
   "language": "python",
   "name": "python3"
  },
  "language_info": {
   "codemirror_mode": {
    "name": "ipython",
    "version": 3
   },
   "file_extension": ".py",
   "mimetype": "text/x-python",
   "name": "python",
   "nbconvert_exporter": "python",
   "pygments_lexer": "ipython3",
   "version": "3.10.8"
  }
 },
 "nbformat": 4,
 "nbformat_minor": 5
}
