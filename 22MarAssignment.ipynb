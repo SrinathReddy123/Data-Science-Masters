{
 "cells": [
  {
   "cell_type": "code",
   "execution_count": null,
   "id": "de6d6c7d-96c0-4ca1-a0d9-a1dbb0802cb0",
   "metadata": {},
   "outputs": [],
   "source": [
    "Answer 1:"
   ]
  },
  {
   "cell_type": "markdown",
   "id": "2a9dfe90-6007-4066-a46a-0fccf26d8772",
   "metadata": {},
   "source": [
    "To calculate the Pearson correlation coefficient between two variables, we need to first calculate the covariance and the standard deviation of each variable, and then use the formula:"
   ]
  },
  {
   "cell_type": "markdown",
   "id": "830eae71-6ddd-4b01-a144-939b0292f508",
   "metadata": {},
   "source": [
    "r = Cov(X,Y) / (SD(X) * SD(Y))\n",
    "\n",
    "where r is the Pearson correlation coefficient, Cov(X,Y) is the covariance between X and Y, and SD(X) and SD(Y) are the standard deviations of X and Y, respectively."
   ]
  },
  {
   "cell_type": "markdown",
   "id": "3416f436-a266-40db-8400-a503966a1791",
   "metadata": {},
   "source": [
    "Let's suppose that we have collected data on the amount of time students spend studying for an exam (X) and their final exam scores (Y), and we have the following data:\n",
    "\n",
    "Student\tStudy time (hours)\tExam score\n",
    "1\t3\t80\n",
    "2\t4\t85\n",
    "3\t6\t90\n",
    "4\t2\t75\n",
    "5\t5\t88\n",
    "6\t7\t92\n",
    "7\t1\t68\n",
    "8\t8\t95\n",
    "9\t4\t82\n",
    "10\t5\t87"
   ]
  },
  {
   "cell_type": "code",
   "execution_count": null,
   "id": "676d2c88-81b0-4a0f-82b0-3dd0f84eb211",
   "metadata": {},
   "outputs": [],
   "source": []
  },
  {
   "cell_type": "markdown",
   "id": "f0166bf0-b515-414c-b5b4-0ff7f4098f3f",
   "metadata": {},
   "source": [
    "First, let's calculate the means of X and Y:\n",
    "\n",
    "mean(X) = (3 + 4 + 6 + 2 + 5 + 7 + 1 + 8 + 4 + 5) / 10 = 4.5\n",
    "mean(Y) = (80 + 85 + 90 + 75 + 88 + 92 + 68 + 95 + 82 + 87) / 10 = 83\n"
   ]
  },
  {
   "cell_type": "markdown",
   "id": "d86fae01-b9af-486a-81f1-6231e11f0088",
   "metadata": {},
   "source": [
    "Next, let's calculate the standard deviations of X and Y:\n",
    "\n",
    "SD(X) = sqrt(((3 - 4.5)^2 + (4 - 4.5)^2 + (6 - 4.5)^2 + (2 - 4.5)^2 + (5 - 4.5)^2 + (7 - 4.5)^2 + (1 - 4.5)^2 + (8 - 4.5)^2 + (4 - 4.5)^2 + (5 - 4.5)^2) / 9) = 2.138\n",
    "SD(Y) = sqrt(((80 - 83)^2 + (85 - 83)^2 + (90 - 83)^2 + (75 - 83)^2 + (88 - 83)^2 + (92 - 83)^2 + (68 - 83)^2 + (95 - 83)^2 + (82 - 83)^2 + (87 - 83)^2) / 9) = 7.15\n"
   ]
  },
  {
   "cell_type": "markdown",
   "id": "37752121-4a7f-44fc-b631-7b988af6a35d",
   "metadata": {},
   "source": [
    "Finally, let's calculate the covariance between X and Y:\n",
    "\n",
    "Cov(X,Y) = ((3 - 4.5) * (80 - 83) + (4 - 4.5) * (85 - 83) + (6 - 4.5) * (90 - 83) + (2 - 4.5) * (75 - 83) + (5 - 4.5) * (88 - 83) + (7 - 4.5) * (92 - 83) + (1 - 4.5) * (68 - 83) + (8 - 4.5) * (95 - 83) + (4 - 4.5) * (82 - 83) + (5 - 4.5) * (87\n"
   ]
  },
  {
   "cell_type": "code",
   "execution_count": null,
   "id": "ec72c6bd-bf99-4a3c-8abd-b1c62f26bfe5",
   "metadata": {},
   "outputs": [],
   "source": []
  },
  {
   "cell_type": "code",
   "execution_count": null,
   "id": "e2dae746-d480-4b40-9c4d-80bb309e8cc9",
   "metadata": {},
   "outputs": [],
   "source": [
    "Answer 2:"
   ]
  },
  {
   "cell_type": "markdown",
   "id": "0489f378-9256-418a-968d-76058104c4c3",
   "metadata": {},
   "source": [
    "To calculate the Spearman's rank correlation coefficient between two variables, we need to first rank each variable from lowest to highest, and then calculate the difference between the ranks for each observation. Next, we square each difference, sum them up, and use the formula:"
   ]
  },
  {
   "cell_type": "markdown",
   "id": "4c75553d-1241-4d4e-994c-3efb650acb39",
   "metadata": {},
   "source": [
    "rs = 1 - (6 * sum(d^2)) / (n * (n^2 - 1))\n",
    "\n",
    "where rs is the Spearman's rank correlation coefficient, d is the difference between the ranks for each observation, and n is the number of observations."
   ]
  },
  {
   "cell_type": "markdown",
   "id": "eb1d6eef-e4fc-45ca-b193-ca03cf1d90cc",
   "metadata": {},
   "source": [
    "Let's suppose that we have collected data on the amount of sleep individuals get each night (X) and their overall job satisfaction level on a scale of 1 to 10 (Y), and we have the following data:\n",
    "\n",
    "Individual\tHours of sleep\tJob satisfaction\n",
    "1\t7\t8\n",
    "2\t6\t5\n",
    "3\t8\t9\n",
    "4\t5\t4\n",
    "5\t6\t6\n",
    "6\t7\t7\n",
    "7\t8\t10\n",
    "8\t7\t8\n",
    "9\t6\t6\n",
    "10\t5\t4"
   ]
  },
  {
   "cell_type": "markdown",
   "id": "aa759e84-d8e0-44b6-bd22-c2c7b14e26a6",
   "metadata": {},
   "source": [
    "First, let's rank each variable from lowest to highest:\n",
    "\n",
    "Individual\tHours of sleep\tSleep rank\tJob satisfaction\tSatisfaction rank\n",
    "1\t7\t4\t8\t4\n",
    "2\t6\t3\t5\t1\n",
    "3\t8\t6\t9\t7\n",
    "4\t5\t2\t4\t2\n",
    "5\t6\t3\t6\t3\n",
    "6\t7\t4\t7\t5\n",
    "7\t8\t6\t10\t10\n",
    "8\t7\t4\t8\t4\n",
    "9\t6\t3\t6\t3\n",
    "10\t5\t2\t4\t2"
   ]
  },
  {
   "cell_type": "markdown",
   "id": "e618a09f-4674-411e-bec6-d06de9c9341d",
   "metadata": {},
   "source": [
    "Next, let's calculate the difference between the ranks for each observation:\n",
    "\n",
    "Individual\td\n",
    "1\t0\n",
    "2\t2\n",
    "3\t1\n",
    "4\t0\n",
    "5\t0\n",
    "6\t1\n",
    "7\t4\n",
    "8\t0\n",
    "9\t0\n",
    "10\t0"
   ]
  },
  {
   "cell_type": "markdown",
   "id": "af81fbcc-f968-4296-8571-7b772ec78265",
   "metadata": {},
   "source": [
    "Then, let's square each difference, sum them up, and use the formula to calculate the Spearman's rank correlation coefficient:"
   ]
  },
  {
   "cell_type": "markdown",
   "id": "0781068e-620f-41ab-aa32-0157fd90c481",
   "metadata": {},
   "source": [
    "sum(d^2) = 2^2 + 1^2 + 1^2 + 4^2 = 22\n",
    "n = 10\n",
    "\n",
    "rs = 1 - (6 * sum(d^2)) / (n * (n^2 - 1))\n",
    "   = 1 - (6 * 22) / (10 * (10^2 - 1))\n"
   ]
  },
  {
   "cell_type": "code",
   "execution_count": null,
   "id": "15c3ba1f-b667-4877-917c-3ec3b3002980",
   "metadata": {},
   "outputs": [],
   "source": [
    "Answer 3:"
   ]
  },
  {
   "cell_type": "markdown",
   "id": "3e66d134-f131-42a7-b13c-e37b48c06967",
   "metadata": {},
   "source": [
    "To calculate the Pearson correlation coefficient and the Spearman's rank correlation coefficient between the number of hours of exercise per week and BMI, we need to have the data for both variables. Let's suppose that we have collected data on 50 participants, and the data is as follows:"
   ]
  },
  {
   "cell_type": "markdown",
   "id": "47a28133-0993-4a0d-877b-f1594d2b20dc",
   "metadata": {},
   "source": [
    "Participant\tHours of exercise per week\tBMI\n",
    "1\t2\t24\n",
    "2\t3\t23\n",
    "3\t2.5\t25\n",
    "4\t1\t29\n",
    "5\t4\t22\n",
    "6\t2\t27\n",
    "7\t3.5\t24\n",
    "8\t5\t21\n",
    "9\t2\t28\n",
    "10\t1.5\t30"
   ]
  },
  {
   "cell_type": "markdown",
   "id": "2d3efef8-88ef-4361-a8cb-fa78c5f15ec2",
   "metadata": {},
   "source": [
    "First, let's calculate the Pearson correlation coefficient between the number of hours of exercise per week and BMI. We can use the formula:\n",
    "\n",
    "r = (n * sum(XY) - sum(X) * sum(Y)) / sqrt((n * sum(X^2) - sum(X)^2) * (n * sum(Y^2) - sum(Y)^2))\n",
    "\n",
    "where r is the Pearson correlation coefficient, n is the number of observations, X is the variable for hours of exercise per week, Y is the variable for BMI, XY is the product of X and Y for each observation, and sum() means to sum up over all observations."
   ]
  },
  {
   "cell_type": "markdown",
   "id": "fcc4aada-310b-4de4-a5d6-02169e8b182e",
   "metadata": {},
   "source": [
    "To make it simpler to calculate, let's calculate the means and standard deviations of each variable first:\n",
    "\n",
    "Variable\tMean\tStandard deviation\n",
    "Hours of exercise per week\t2.8\t1.29\n",
    "BMI\t25.8\t3.36"
   ]
  },
  {
   "cell_type": "code",
   "execution_count": null,
   "id": "1b9d3d88-4c0d-4230-b86e-0b1d69143d99",
   "metadata": {},
   "outputs": [],
   "source": [
    "Now we can calculate the Pearson correlation coefficient:"
   ]
  },
  {
   "cell_type": "markdown",
   "id": "b11a45fb-39c0-44c4-90cb-cd59bfe2f3a2",
   "metadata": {},
   "source": [
    "n = 50\n",
    "sum(XY) = (2-2.8)*(24-25.8) + (3-2.8)*(23-25.8) + ... + (1.5-2.8)*(30-25.8) = -328.5\n",
    "sum(X) = 140\n",
    "sum(Y) = 1290\n",
    "sum(X^2) = 410\n",
    "sum(Y^2) = 36492\n",
    "\n",
    "r = (n * sum(XY) - sum(X) * sum(Y)) / sqrt((n * sum(X^2) - sum(X)^2) * (n * sum(Y^2) - sum(Y)^2))\n",
    "  = (50 * -328.5 - 140 * 1290) / sqrt((50 * 410 - 140^2) * (50 * 36492 - 1290^2))\n",
    "  = -0.682\n"
   ]
  },
  {
   "cell_type": "markdown",
   "id": "cadad4d6-07f9-4b67-ba56-3eed0d899da8",
   "metadata": {},
   "source": [
    "The Pearson correlation coefficient between the number of hours of exercise per week and BMI is -0.682. This indicates a negative correlation between the two variables, which means that as the number of hours of exercise per week increases, BMI decreases, and vice versa. The magnitude of the correlation is moderate to strong, with a coefficient of -1 indicating a perfect negative correlation and a coefficient of 0 indicating no correlation."
   ]
  },
  {
   "cell_type": "markdown",
   "id": "d4482b4f-0102-482a-aacc-478affe455fa",
   "metadata": {},
   "source": [
    "Now let's calculate the Spearman's rank correlation coefficient between the number of hours of exercise per week and BMI. We can use the formula:"
   ]
  },
  {
   "cell_type": "markdown",
   "id": "75211c22-8091-4d5e-8553-620cfc0807c7",
   "metadata": {},
   "source": []
  },
  {
   "cell_type": "code",
   "execution_count": null,
   "id": "e0d98bd4-bb8a-4cd5-a76a-aec98acca7c0",
   "metadata": {},
   "outputs": [],
   "source": []
  },
  {
   "cell_type": "code",
   "execution_count": null,
   "id": "d93213c7-743d-4533-b4c3-3ecde46e5649",
   "metadata": {},
   "outputs": [],
   "source": [
    "Answer 4:"
   ]
  },
  {
   "cell_type": "markdown",
   "id": "eb24623e-0030-4bf4-88f4-a8a9e1842f3f",
   "metadata": {},
   "source": [
    "To calculate the Pearson correlation coefficient between the number of hours individuals spend watching television per day and their level of physical activity, we need to have the data for both variables. Let's suppose that we have collected data on 50 participants, and the data is as follows:"
   ]
  },
  {
   "cell_type": "markdown",
   "id": "5724b8f5-3f9e-4a74-82c7-bf891f607c9c",
   "metadata": {},
   "source": [
    "Participant\tHours of TV per day\tPhysical activity level\n",
    "1\t2\t8\n",
    "2\t3\t7\n",
    "3\t2.5\t7\n",
    "4\t1\t9\n",
    "5\t4\t6\n",
    "6\t2\t8\n",
    "7\t3.5\t6\n",
    "8\t5\t5\n",
    "9\t2\t7\n",
    "10\t1.5\t9"
   ]
  },
  {
   "cell_type": "markdown",
   "id": "c97a9069-bcd0-44b0-afe1-8ea87a621994",
   "metadata": {},
   "source": [
    "We can use the formula for the Pearson correlation coefficient:\n",
    "\n",
    "r = (n * sum(XY) - sum(X) * sum(Y)) / sqrt((n * sum(X^2) - sum(X)^2) * (n * sum(Y^2) - sum(Y)^2))\n",
    "\n",
    "where r is the Pearson correlation coefficient, n is the number of observations, X is the variable for hours of TV per day, Y is the variable for physical activity level, XY is the product of X and Y for each observation, and sum() means to sum up over all observations."
   ]
  },
  {
   "cell_type": "markdown",
   "id": "e7b391a3-0e48-47db-90b4-59fa37a4519f",
   "metadata": {},
   "source": [
    "To make it simpler to calculate, let's calculate the means and standard deviations of each variable first:\n",
    "\n",
    "Variable\tMean\tStandard deviation\n",
    "Hours of TV per day\t2.8\t1.29\n",
    "Physical activity level\t7.2\t1.67"
   ]
  },
  {
   "cell_type": "markdown",
   "id": "bdd1f3be-a29b-4a16-b282-9deef7beff99",
   "metadata": {},
   "source": [
    "Now we can calculate the Pearson correlation coefficient:\n",
    "    \n",
    "n = 50\n",
    "sum(XY) = (2-2.8)*(8-7.2) + (3-2.8)*(7-7.2) + ... + (1.5-2.8)*(9-7.2) = -52.5\n",
    "sum(X) = 140\n",
    "sum(Y) = 360\n",
    "sum(X^2) = 410\n",
    "sum(Y^2) = 1710\n",
    "\n",
    "r = (n * sum(XY) - sum(X) * sum(Y)) / sqrt((n * sum(X^2) - sum(X)^2) * (n * sum(Y^2) - sum(Y)^2))\n",
    "  = (50 * -52.5 - 140 * 360) / sqrt((50 * 410 - 140^2) * (50 * 1710 - 360^2))\n",
    "  = -0.543\n",
    "    "
   ]
  },
  {
   "cell_type": "markdown",
   "id": "c49baa85-5608-40ad-8bd6-18586166afc8",
   "metadata": {},
   "source": [
    "The Pearson correlation coefficient between the number of hours individuals spend watching television per day and their level of physical activity is -0.543. This indicates a moderate negative correlation between the two variables, which means that as the number of hours individuals spend watching television per day increases, their level of physical activity decreases, and vice versa. The magnitude of the correlation is moderate, with a coefficient of -1 indicating a perfect negative correlation and a coefficient of 0 indicating no correlation."
   ]
  },
  {
   "cell_type": "code",
   "execution_count": null,
   "id": "cfdb5c24-4134-4be6-861d-d72a90264164",
   "metadata": {},
   "outputs": [],
   "source": [
    "Answer 5:"
   ]
  },
  {
   "cell_type": "raw",
   "id": "0bfc893f-eeb6-4a73-ae3e-8d744ae75350",
   "metadata": {},
   "source": [
    "Descriptive statistics:\n",
    "\n",
    "Mean age: (25+42+37+19+31+28)/6 = 30.33 years\n",
    "Mode of soft drink preference: Coke (3 out of 6 participants)\n",
    "Range of age: 42-19 = 23 years"
   ]
  },
  {
   "cell_type": "markdown",
   "id": "f4ef6ee5-04b9-4bf1-9931-97a7966c5d58",
   "metadata": {},
   "source": [
    "Frequency table of soft drink preferences:\n",
    "\n",
    "Soft drink preference\tFrequency\n",
    "Coke\t3\n",
    "Pepsi\t2\n",
    "Mountain dew\t1\n",
    "\n",
    "\n",
    "This table shows that the most preferred soft drink among the participants is Coke, with 3 out of 6 participants choosing it. Pepsi is the second most preferred drink with 2 participants, while Mountain dew is the least preferred drink with only 1 participant choosing it.\n",
    "\n"
   ]
  },
  {
   "cell_type": "markdown",
   "id": "0e658057-1f81-4551-82b0-4b1dced732a7",
   "metadata": {},
   "source": [
    "Without additional information or analysis, we cannot determine the relationship between age and soft drink preference. We may want to conduct further analysis, such as calculating measures of association like chi-square or contingency coefficient, to determine if there is a statistically significant relationship between these variables."
   ]
  },
  {
   "cell_type": "raw",
   "id": "96c4ff53-4a8e-4652-a3a3-521d48e0b743",
   "metadata": {},
   "source": []
  },
  {
   "cell_type": "code",
   "execution_count": null,
   "id": "8590a2d9-637f-4068-af53-9f653ea54c96",
   "metadata": {},
   "outputs": [],
   "source": [
    "Answer 6:"
   ]
  },
  {
   "cell_type": "markdown",
   "id": "0c7d118d-57dc-4909-be23-e9137f964d28",
   "metadata": {},
   "source": [
    "To calculate the Pearson correlation coefficient between the number of sales calls made per day and the number of sales made per week, we need to have paired observations of these two variables for each of the 30 sales representatives. Once we have this data, we can use a statistical software or calculator to calculate the Pearson correlation coefficient, which is denoted by r."
   ]
  },
  {
   "cell_type": "code",
   "execution_count": null,
   "id": "00069f3f-a341-44c7-a825-4e79420e7e02",
   "metadata": {},
   "outputs": [],
   "source": [
    "Assuming we have the necessary data, the steps to calculate the Pearson correlation coefficient are as follows:\n",
    "\n",
    "Calculate the mean (average) and standard deviation of both variables.\n",
    "Calculate the covariance of the two variables.\n",
    "Divide the covariance by the product of the standard deviations of the two variables.\n",
    "The resulting value is the Pearson correlation coefficient."
   ]
  },
  {
   "cell_type": "markdown",
   "id": "0dc5c07e-c5ab-4a7e-aeaf-0b99ae58f51a",
   "metadata": {},
   "source": [
    "The Pearson correlation coefficient r ranges from -1 to 1, with values closer to -1 indicating a strong negative linear relationship, values closer to 1 indicating a strong positive linear relationship, and values closer to 0 indicating a weak or no linear relationship.\n",
    "\n",
    "Without the data, we cannot provide a specific value for the Pearson correlation coefficient between the number of sales calls made per day and the number of sales made per week."
   ]
  }
 ],
 "metadata": {
  "kernelspec": {
   "display_name": "Python 3 (ipykernel)",
   "language": "python",
   "name": "python3"
  },
  "language_info": {
   "codemirror_mode": {
    "name": "ipython",
    "version": 3
   },
   "file_extension": ".py",
   "mimetype": "text/x-python",
   "name": "python",
   "nbconvert_exporter": "python",
   "pygments_lexer": "ipython3",
   "version": "3.10.8"
  }
 },
 "nbformat": 4,
 "nbformat_minor": 5
}
