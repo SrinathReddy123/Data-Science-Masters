{
 "cells": [
  {
   "cell_type": "code",
   "execution_count": null,
   "id": "3fc1d111-0b4e-491a-8891-0fe3a5f0cc6e",
   "metadata": {},
   "outputs": [],
   "source": [
    "Answer 1:"
   ]
  },
  {
   "cell_type": "code",
   "execution_count": null,
   "id": "98dd23b7-1336-4730-b36c-5338fb160932",
   "metadata": {},
   "outputs": [],
   "source": [
    "First, we need to import the necessary libraries and load the heart disease dataset:"
   ]
  },
  {
   "cell_type": "code",
   "execution_count": 1,
   "id": "8db30257-4a21-40c2-864b-f76a160b3b6b",
   "metadata": {},
   "outputs": [],
   "source": [
    "import pandas as pd\n",
    "from sklearn.model_selection import train_test_split\n",
    "from sklearn.ensemble import RandomForestClassifier\n",
    "from sklearn.metrics import accuracy_score, precision_score, recall_score, f1_score\n",
    "\n",
    "# Load the dataset\n",
    "url = \"https://drive.google.com/uc?id=1bGoIE4Z2kG5nyh-fGZAJ7LH0ki3UfmSJ\"\n",
    "data = pd.read_csv(url)"
   ]
  },
  {
   "cell_type": "code",
   "execution_count": 2,
   "id": "99237f13-e927-4596-ae0a-c89fb1f45f96",
   "metadata": {},
   "outputs": [
    {
     "data": {
      "text/html": [
       "<div>\n",
       "<style scoped>\n",
       "    .dataframe tbody tr th:only-of-type {\n",
       "        vertical-align: middle;\n",
       "    }\n",
       "\n",
       "    .dataframe tbody tr th {\n",
       "        vertical-align: top;\n",
       "    }\n",
       "\n",
       "    .dataframe thead th {\n",
       "        text-align: right;\n",
       "    }\n",
       "</style>\n",
       "<table border=\"1\" class=\"dataframe\">\n",
       "  <thead>\n",
       "    <tr style=\"text-align: right;\">\n",
       "      <th></th>\n",
       "      <th>age</th>\n",
       "      <th>sex</th>\n",
       "      <th>cp</th>\n",
       "      <th>trestbps</th>\n",
       "      <th>chol</th>\n",
       "      <th>fbs</th>\n",
       "      <th>restecg</th>\n",
       "      <th>thalach</th>\n",
       "      <th>exang</th>\n",
       "      <th>oldpeak</th>\n",
       "      <th>slope</th>\n",
       "      <th>ca</th>\n",
       "      <th>thal</th>\n",
       "      <th>target</th>\n",
       "    </tr>\n",
       "  </thead>\n",
       "  <tbody>\n",
       "    <tr>\n",
       "      <th>0</th>\n",
       "      <td>63</td>\n",
       "      <td>1</td>\n",
       "      <td>3</td>\n",
       "      <td>145</td>\n",
       "      <td>233</td>\n",
       "      <td>1</td>\n",
       "      <td>0</td>\n",
       "      <td>150</td>\n",
       "      <td>0</td>\n",
       "      <td>2.3</td>\n",
       "      <td>0</td>\n",
       "      <td>0</td>\n",
       "      <td>1</td>\n",
       "      <td>1</td>\n",
       "    </tr>\n",
       "    <tr>\n",
       "      <th>1</th>\n",
       "      <td>37</td>\n",
       "      <td>1</td>\n",
       "      <td>2</td>\n",
       "      <td>130</td>\n",
       "      <td>250</td>\n",
       "      <td>0</td>\n",
       "      <td>1</td>\n",
       "      <td>187</td>\n",
       "      <td>0</td>\n",
       "      <td>3.5</td>\n",
       "      <td>0</td>\n",
       "      <td>0</td>\n",
       "      <td>2</td>\n",
       "      <td>1</td>\n",
       "    </tr>\n",
       "    <tr>\n",
       "      <th>2</th>\n",
       "      <td>41</td>\n",
       "      <td>0</td>\n",
       "      <td>1</td>\n",
       "      <td>130</td>\n",
       "      <td>204</td>\n",
       "      <td>0</td>\n",
       "      <td>0</td>\n",
       "      <td>172</td>\n",
       "      <td>0</td>\n",
       "      <td>1.4</td>\n",
       "      <td>2</td>\n",
       "      <td>0</td>\n",
       "      <td>2</td>\n",
       "      <td>1</td>\n",
       "    </tr>\n",
       "    <tr>\n",
       "      <th>3</th>\n",
       "      <td>56</td>\n",
       "      <td>1</td>\n",
       "      <td>1</td>\n",
       "      <td>120</td>\n",
       "      <td>236</td>\n",
       "      <td>0</td>\n",
       "      <td>1</td>\n",
       "      <td>178</td>\n",
       "      <td>0</td>\n",
       "      <td>0.8</td>\n",
       "      <td>2</td>\n",
       "      <td>0</td>\n",
       "      <td>2</td>\n",
       "      <td>1</td>\n",
       "    </tr>\n",
       "    <tr>\n",
       "      <th>4</th>\n",
       "      <td>57</td>\n",
       "      <td>0</td>\n",
       "      <td>0</td>\n",
       "      <td>120</td>\n",
       "      <td>354</td>\n",
       "      <td>0</td>\n",
       "      <td>1</td>\n",
       "      <td>163</td>\n",
       "      <td>1</td>\n",
       "      <td>0.6</td>\n",
       "      <td>2</td>\n",
       "      <td>0</td>\n",
       "      <td>2</td>\n",
       "      <td>1</td>\n",
       "    </tr>\n",
       "    <tr>\n",
       "      <th>...</th>\n",
       "      <td>...</td>\n",
       "      <td>...</td>\n",
       "      <td>...</td>\n",
       "      <td>...</td>\n",
       "      <td>...</td>\n",
       "      <td>...</td>\n",
       "      <td>...</td>\n",
       "      <td>...</td>\n",
       "      <td>...</td>\n",
       "      <td>...</td>\n",
       "      <td>...</td>\n",
       "      <td>...</td>\n",
       "      <td>...</td>\n",
       "      <td>...</td>\n",
       "    </tr>\n",
       "    <tr>\n",
       "      <th>298</th>\n",
       "      <td>57</td>\n",
       "      <td>0</td>\n",
       "      <td>0</td>\n",
       "      <td>140</td>\n",
       "      <td>241</td>\n",
       "      <td>0</td>\n",
       "      <td>1</td>\n",
       "      <td>123</td>\n",
       "      <td>1</td>\n",
       "      <td>0.2</td>\n",
       "      <td>1</td>\n",
       "      <td>0</td>\n",
       "      <td>3</td>\n",
       "      <td>0</td>\n",
       "    </tr>\n",
       "    <tr>\n",
       "      <th>299</th>\n",
       "      <td>45</td>\n",
       "      <td>1</td>\n",
       "      <td>3</td>\n",
       "      <td>110</td>\n",
       "      <td>264</td>\n",
       "      <td>0</td>\n",
       "      <td>1</td>\n",
       "      <td>132</td>\n",
       "      <td>0</td>\n",
       "      <td>1.2</td>\n",
       "      <td>1</td>\n",
       "      <td>0</td>\n",
       "      <td>3</td>\n",
       "      <td>0</td>\n",
       "    </tr>\n",
       "    <tr>\n",
       "      <th>300</th>\n",
       "      <td>68</td>\n",
       "      <td>1</td>\n",
       "      <td>0</td>\n",
       "      <td>144</td>\n",
       "      <td>193</td>\n",
       "      <td>1</td>\n",
       "      <td>1</td>\n",
       "      <td>141</td>\n",
       "      <td>0</td>\n",
       "      <td>3.4</td>\n",
       "      <td>1</td>\n",
       "      <td>2</td>\n",
       "      <td>3</td>\n",
       "      <td>0</td>\n",
       "    </tr>\n",
       "    <tr>\n",
       "      <th>301</th>\n",
       "      <td>57</td>\n",
       "      <td>1</td>\n",
       "      <td>0</td>\n",
       "      <td>130</td>\n",
       "      <td>131</td>\n",
       "      <td>0</td>\n",
       "      <td>1</td>\n",
       "      <td>115</td>\n",
       "      <td>1</td>\n",
       "      <td>1.2</td>\n",
       "      <td>1</td>\n",
       "      <td>1</td>\n",
       "      <td>3</td>\n",
       "      <td>0</td>\n",
       "    </tr>\n",
       "    <tr>\n",
       "      <th>302</th>\n",
       "      <td>57</td>\n",
       "      <td>0</td>\n",
       "      <td>1</td>\n",
       "      <td>130</td>\n",
       "      <td>236</td>\n",
       "      <td>0</td>\n",
       "      <td>0</td>\n",
       "      <td>174</td>\n",
       "      <td>0</td>\n",
       "      <td>0.0</td>\n",
       "      <td>1</td>\n",
       "      <td>1</td>\n",
       "      <td>2</td>\n",
       "      <td>0</td>\n",
       "    </tr>\n",
       "  </tbody>\n",
       "</table>\n",
       "<p>303 rows × 14 columns</p>\n",
       "</div>"
      ],
      "text/plain": [
       "     age  sex  cp  trestbps  chol  fbs  restecg  thalach  exang  oldpeak  \\\n",
       "0     63    1   3       145   233    1        0      150      0      2.3   \n",
       "1     37    1   2       130   250    0        1      187      0      3.5   \n",
       "2     41    0   1       130   204    0        0      172      0      1.4   \n",
       "3     56    1   1       120   236    0        1      178      0      0.8   \n",
       "4     57    0   0       120   354    0        1      163      1      0.6   \n",
       "..   ...  ...  ..       ...   ...  ...      ...      ...    ...      ...   \n",
       "298   57    0   0       140   241    0        1      123      1      0.2   \n",
       "299   45    1   3       110   264    0        1      132      0      1.2   \n",
       "300   68    1   0       144   193    1        1      141      0      3.4   \n",
       "301   57    1   0       130   131    0        1      115      1      1.2   \n",
       "302   57    0   1       130   236    0        0      174      0      0.0   \n",
       "\n",
       "     slope  ca  thal  target  \n",
       "0        0   0     1       1  \n",
       "1        0   0     2       1  \n",
       "2        2   0     2       1  \n",
       "3        2   0     2       1  \n",
       "4        2   0     2       1  \n",
       "..     ...  ..   ...     ...  \n",
       "298      1   0     3       0  \n",
       "299      1   0     3       0  \n",
       "300      1   2     3       0  \n",
       "301      1   1     3       0  \n",
       "302      1   1     2       0  \n",
       "\n",
       "[303 rows x 14 columns]"
      ]
     },
     "execution_count": 2,
     "metadata": {},
     "output_type": "execute_result"
    }
   ],
   "source": [
    "data"
   ]
  },
  {
   "cell_type": "code",
   "execution_count": 6,
   "id": "b6eb4659-8024-43d2-8a80-9a1738f187bf",
   "metadata": {},
   "outputs": [],
   "source": [
    "from sklearn.impute import SimpleImputer\n",
    "from sklearn.preprocessing import StandardScaler, LabelEncoder\n",
    "import numpy as np"
   ]
  },
  {
   "cell_type": "code",
   "execution_count": 7,
   "id": "17fb3023-6598-4daa-87c9-e417bbc0cfe8",
   "metadata": {},
   "outputs": [
    {
     "name": "stderr",
     "output_type": "stream",
     "text": [
      "/tmp/ipykernel_110/580326495.py:4: FutureWarning: In a future version, `df.iloc[:, i] = newvals` will attempt to set the values inplace instead of always setting a new array. To retain the old behavior, use either `df[df.columns[i]] = newvals` or, if columns are non-unique, `df.isetitem(i, newvals)`\n",
      "  data.iloc[:, [0,3,4,7,9]] = imputer.fit_transform(data.iloc[:, [0,3,4,7,9]])\n"
     ]
    }
   ],
   "source": [
    "# Handle missing values\n",
    "\n",
    "imputer = SimpleImputer(missing_values=np.nan, strategy='mean')\n",
    "data.iloc[:, [0,3,4,7,9]] = imputer.fit_transform(data.iloc[:, [0,3,4,7,9]])\n"
   ]
  },
  {
   "cell_type": "code",
   "execution_count": 8,
   "id": "f28a4df3-e207-4df6-9bc7-7d83ad5b847a",
   "metadata": {},
   "outputs": [],
   "source": [
    "# Encode categorical variables\n",
    "\n",
    "label_encoder = LabelEncoder()\n",
    "data.iloc[:, 2] = label_encoder.fit_transform(data.iloc[:, 2])\n",
    "data.iloc[:, 11] = label_encoder.fit_transform(data.iloc[:, 11])\n",
    "data.iloc[:, 12] = label_encoder.fit_transform(data.iloc[:, 12])"
   ]
  },
  {
   "cell_type": "code",
   "execution_count": 9,
   "id": "600ece7c-5c30-44e4-bb5c-b69023f49bc4",
   "metadata": {},
   "outputs": [],
   "source": [
    "# Scale numerical features\n",
    "\n",
    "scaler = StandardScaler()\n",
    "data.iloc[:, [0,3,4,7,9]] = scaler.fit_transform(data.iloc[:, [0,3,4,7,9]])\n"
   ]
  },
  {
   "cell_type": "markdown",
   "id": "3e6dbdca-0a9f-4e4a-ad34-90de1d81329f",
   "metadata": {},
   "source": [
    "Here's what we did:\n",
    "\n",
    "1.We used the SimpleImputer class from scikit-learn to fill in missing values with the mean of the column. 2.We selected the columns that contain missing values by their indices.\n",
    "3.We used the LabelEncoder class to encode the categorical variables. We selected the columns to be encoded by their indices.\n",
    "4.We used the StandardScaler class to scale the numerical features to have a mean of 0 and a standard deviation of 1. We selected the columns to be scaled by their indices."
   ]
  },
  {
   "cell_type": "markdown",
   "id": "70989c89-a02e-4ebf-86bc-953d448b6f38",
   "metadata": {},
   "source": [
    "After preprocessing, we split the dataset into training and testing sets, trained a random forest classifier on the training set, and evaluated its performance on the testing set."
   ]
  },
  {
   "cell_type": "markdown",
   "id": "ad77e758-f151-458e-846b-0b9af6b021ac",
   "metadata": {},
   "source": [
    "Preprocessing is an important step in machine learning, as it can help to improve the performance of models and ensure that they are robust to missing data and categorical variables."
   ]
  },
  {
   "cell_type": "code",
   "execution_count": null,
   "id": "a17de5be-857a-45d5-9728-c5dd984928d5",
   "metadata": {},
   "outputs": [],
   "source": [
    "Answer 2:"
   ]
  },
  {
   "cell_type": "code",
   "execution_count": 10,
   "id": "00de5a92-fc11-4da7-a376-074d081d5155",
   "metadata": {},
   "outputs": [],
   "source": [
    "# Split the dataset into features and labels\n",
    "\n",
    "X = data.iloc[:, :-1]\n",
    "y = data.iloc[:, -1]"
   ]
  },
  {
   "cell_type": "code",
   "execution_count": 11,
   "id": "6dd8618d-f92b-43b2-95ec-12588bf90f8c",
   "metadata": {},
   "outputs": [],
   "source": [
    "# Split the dataset into training and testing sets\n",
    "\n",
    "X_train, X_test, y_train, y_test = train_test_split(X, y, test_size=0.3, random_state=42)"
   ]
  },
  {
   "cell_type": "code",
   "execution_count": 12,
   "id": "331d609e-be36-47cb-bf86-c3c92e5fbc0c",
   "metadata": {},
   "outputs": [
    {
     "data": {
      "text/plain": [
       "(212, 13)"
      ]
     },
     "execution_count": 12,
     "metadata": {},
     "output_type": "execute_result"
    }
   ],
   "source": [
    "X_train.shape"
   ]
  },
  {
   "cell_type": "code",
   "execution_count": 13,
   "id": "536485a9-1404-4d15-bb70-b0788732519f",
   "metadata": {},
   "outputs": [
    {
     "data": {
      "text/plain": [
       "(91, 13)"
      ]
     },
     "execution_count": 13,
     "metadata": {},
     "output_type": "execute_result"
    }
   ],
   "source": [
    "X_test.shape"
   ]
  },
  {
   "cell_type": "code",
   "execution_count": 14,
   "id": "2b3afaac-6439-4269-a4b9-77f9ffc934b1",
   "metadata": {},
   "outputs": [
    {
     "data": {
      "text/plain": [
       "(212,)"
      ]
     },
     "execution_count": 14,
     "metadata": {},
     "output_type": "execute_result"
    }
   ],
   "source": [
    "y_train.shape"
   ]
  },
  {
   "cell_type": "code",
   "execution_count": 15,
   "id": "27e2d554-6b63-479a-b0c7-df2ce8161289",
   "metadata": {},
   "outputs": [
    {
     "data": {
      "text/plain": [
       "(91,)"
      ]
     },
     "execution_count": 15,
     "metadata": {},
     "output_type": "execute_result"
    }
   ],
   "source": [
    "y_test.shape"
   ]
  },
  {
   "cell_type": "code",
   "execution_count": 16,
   "id": "2c4e1e26-67df-4c48-8205-a8170192eb04",
   "metadata": {},
   "outputs": [
    {
     "name": "stdout",
     "output_type": "stream",
     "text": [
      "Training set shape: (212, 13) (212,)\n",
      "Testing set shape: (91, 13) (91,)\n"
     ]
    }
   ],
   "source": [
    "# Print the shapes of the training and testing sets\n",
    "print(\"Training set shape:\", X_train.shape, y_train.shape)\n",
    "print(\"Testing set shape:\", X_test.shape, y_test.shape)"
   ]
  },
  {
   "cell_type": "markdown",
   "id": "f7c89689-b19b-42ee-b03e-48892c4a5ab7",
   "metadata": {},
   "source": [
    "Here's what we did:\n",
    "\n",
    "1. We loaded the heart disease dataset using pandas.\n",
    "2. We split the dataset into features (X) and labels (y).\n",
    "3. We used the train_test_split function from scikit-learn to split the dataset into a training set (X_train, y_train) and a test set (X_test, y_test). We set the test_size parameter to 0.3, which means that 30% of the data is reserved for testing, and we set the random_state parameter to 42 for reproducibility.\n",
    "4. We printed the shapes of the training and testing sets to verify that the split was done correctly."
   ]
  },
  {
   "cell_type": "markdown",
   "id": "d19889e1-4d5f-45ab-b0db-5062b9aef3ea",
   "metadata": {},
   "source": [
    "Splitting the dataset into training and testing sets is an important step in machine learning, as it allows us to train the model on one set of data and evaluate its performance on another set of data that it has not seen before."
   ]
  },
  {
   "cell_type": "code",
   "execution_count": null,
   "id": "b9013fc4-b24c-4b6c-ac4c-54ea5b628e40",
   "metadata": {},
   "outputs": [],
   "source": [
    "Answer 3:"
   ]
  },
  {
   "cell_type": "code",
   "execution_count": 17,
   "id": "c97be721-ff49-4414-84b2-93fbc9bc99a9",
   "metadata": {},
   "outputs": [
    {
     "data": {
      "text/html": [
       "<style>#sk-container-id-1 {color: black;background-color: white;}#sk-container-id-1 pre{padding: 0;}#sk-container-id-1 div.sk-toggleable {background-color: white;}#sk-container-id-1 label.sk-toggleable__label {cursor: pointer;display: block;width: 100%;margin-bottom: 0;padding: 0.3em;box-sizing: border-box;text-align: center;}#sk-container-id-1 label.sk-toggleable__label-arrow:before {content: \"▸\";float: left;margin-right: 0.25em;color: #696969;}#sk-container-id-1 label.sk-toggleable__label-arrow:hover:before {color: black;}#sk-container-id-1 div.sk-estimator:hover label.sk-toggleable__label-arrow:before {color: black;}#sk-container-id-1 div.sk-toggleable__content {max-height: 0;max-width: 0;overflow: hidden;text-align: left;background-color: #f0f8ff;}#sk-container-id-1 div.sk-toggleable__content pre {margin: 0.2em;color: black;border-radius: 0.25em;background-color: #f0f8ff;}#sk-container-id-1 input.sk-toggleable__control:checked~div.sk-toggleable__content {max-height: 200px;max-width: 100%;overflow: auto;}#sk-container-id-1 input.sk-toggleable__control:checked~label.sk-toggleable__label-arrow:before {content: \"▾\";}#sk-container-id-1 div.sk-estimator input.sk-toggleable__control:checked~label.sk-toggleable__label {background-color: #d4ebff;}#sk-container-id-1 div.sk-label input.sk-toggleable__control:checked~label.sk-toggleable__label {background-color: #d4ebff;}#sk-container-id-1 input.sk-hidden--visually {border: 0;clip: rect(1px 1px 1px 1px);clip: rect(1px, 1px, 1px, 1px);height: 1px;margin: -1px;overflow: hidden;padding: 0;position: absolute;width: 1px;}#sk-container-id-1 div.sk-estimator {font-family: monospace;background-color: #f0f8ff;border: 1px dotted black;border-radius: 0.25em;box-sizing: border-box;margin-bottom: 0.5em;}#sk-container-id-1 div.sk-estimator:hover {background-color: #d4ebff;}#sk-container-id-1 div.sk-parallel-item::after {content: \"\";width: 100%;border-bottom: 1px solid gray;flex-grow: 1;}#sk-container-id-1 div.sk-label:hover label.sk-toggleable__label {background-color: #d4ebff;}#sk-container-id-1 div.sk-serial::before {content: \"\";position: absolute;border-left: 1px solid gray;box-sizing: border-box;top: 0;bottom: 0;left: 50%;z-index: 0;}#sk-container-id-1 div.sk-serial {display: flex;flex-direction: column;align-items: center;background-color: white;padding-right: 0.2em;padding-left: 0.2em;position: relative;}#sk-container-id-1 div.sk-item {position: relative;z-index: 1;}#sk-container-id-1 div.sk-parallel {display: flex;align-items: stretch;justify-content: center;background-color: white;position: relative;}#sk-container-id-1 div.sk-item::before, #sk-container-id-1 div.sk-parallel-item::before {content: \"\";position: absolute;border-left: 1px solid gray;box-sizing: border-box;top: 0;bottom: 0;left: 50%;z-index: -1;}#sk-container-id-1 div.sk-parallel-item {display: flex;flex-direction: column;z-index: 1;position: relative;background-color: white;}#sk-container-id-1 div.sk-parallel-item:first-child::after {align-self: flex-end;width: 50%;}#sk-container-id-1 div.sk-parallel-item:last-child::after {align-self: flex-start;width: 50%;}#sk-container-id-1 div.sk-parallel-item:only-child::after {width: 0;}#sk-container-id-1 div.sk-dashed-wrapped {border: 1px dashed gray;margin: 0 0.4em 0.5em 0.4em;box-sizing: border-box;padding-bottom: 0.4em;background-color: white;}#sk-container-id-1 div.sk-label label {font-family: monospace;font-weight: bold;display: inline-block;line-height: 1.2em;}#sk-container-id-1 div.sk-label-container {text-align: center;}#sk-container-id-1 div.sk-container {/* jupyter's `normalize.less` sets `[hidden] { display: none; }` but bootstrap.min.css set `[hidden] { display: none !important; }` so we also need the `!important` here to be able to override the default hidden behavior on the sphinx rendered scikit-learn.org. See: https://github.com/scikit-learn/scikit-learn/issues/21755 */display: inline-block !important;position: relative;}#sk-container-id-1 div.sk-text-repr-fallback {display: none;}</style><div id=\"sk-container-id-1\" class=\"sk-top-container\"><div class=\"sk-text-repr-fallback\"><pre>RandomForestClassifier(max_depth=10, random_state=42)</pre><b>In a Jupyter environment, please rerun this cell to show the HTML representation or trust the notebook. <br />On GitHub, the HTML representation is unable to render, please try loading this page with nbviewer.org.</b></div><div class=\"sk-container\" hidden><div class=\"sk-item\"><div class=\"sk-estimator sk-toggleable\"><input class=\"sk-toggleable__control sk-hidden--visually\" id=\"sk-estimator-id-1\" type=\"checkbox\" checked><label for=\"sk-estimator-id-1\" class=\"sk-toggleable__label sk-toggleable__label-arrow\">RandomForestClassifier</label><div class=\"sk-toggleable__content\"><pre>RandomForestClassifier(max_depth=10, random_state=42)</pre></div></div></div></div></div>"
      ],
      "text/plain": [
       "RandomForestClassifier(max_depth=10, random_state=42)"
      ]
     },
     "execution_count": 17,
     "metadata": {},
     "output_type": "execute_result"
    }
   ],
   "source": [
    "# Create a random forest classifier with 100 trees and a max depth of 10\n",
    "rfc = RandomForestClassifier(n_estimators=100, max_depth=10, random_state=42)\n",
    "\n",
    "# Fit the model to the training data\n",
    "rfc.fit(X_train, y_train)"
   ]
  },
  {
   "cell_type": "markdown",
   "id": "5a57b4d3-6dfe-4d55-ad1e-eb0f5ebaf900",
   "metadata": {},
   "source": [
    "Here's what we did:\n",
    "\n",
    "1. We imported the RandomForestClassifier class from scikit-learn's ensemble module.\n",
    "2. We created a RandomForestClassifier object called rfc with 100 trees and a maximum depth of 10 for each tree. We set the random_state parameter to 42 for reproducibility.\n",
    "3. We trained the model on the training data (X_train and y_train) using the fit method of the rfc object."
   ]
  },
  {
   "cell_type": "markdown",
   "id": "8319404f-4709-4460-8d0c-2017a12e5ddd",
   "metadata": {},
   "source": [
    "The random forest algorithm works by creating multiple decision trees and combining their predictions. Each tree is trained on a random subset of the training data, and at each split, the algorithm selects a random subset of the features to consider.\n",
    "\n",
    "The number of trees and the maximum depth of each tree are hyperparameters that we can tune to improve the performance of the model. In this example, we used 100 trees and a maximum depth of 10 for each tree, but these values may not be optimal for every dataset.\n"
   ]
  },
  {
   "cell_type": "code",
   "execution_count": null,
   "id": "1f76013b-2d60-4b4d-ac47-7b57d54ac776",
   "metadata": {},
   "outputs": [],
   "source": [
    "Answwer 4:"
   ]
  },
  {
   "cell_type": "markdown",
   "id": "95d9f347-b4fa-4668-999d-9d9b0a7cd9ec",
   "metadata": {},
   "source": [
    " how to evaluate the performance of the random forest classifier on the test set using scikit-learn:"
   ]
  },
  {
   "cell_type": "code",
   "execution_count": 18,
   "id": "8f274c43-08cb-4a0e-8b8c-748bfd19c612",
   "metadata": {},
   "outputs": [
    {
     "name": "stdout",
     "output_type": "stream",
     "text": [
      "Accuracy: 0.8131868131868132\n",
      "Precision: 0.8367346938775511\n",
      "Recall: 0.82\n",
      "F1 score: 0.8282828282828283\n"
     ]
    }
   ],
   "source": [
    "# Make predictions on the test data\n",
    "y_pred = rfc.predict(X_test)\n",
    "\n",
    "# Calculate evaluation metrics\n",
    "accuracy = accuracy_score(y_test, y_pred)\n",
    "precision = precision_score(y_test, y_pred)\n",
    "recall = recall_score(y_test, y_pred)\n",
    "f1 = f1_score(y_test, y_pred)\n",
    "\n",
    "# Print the evaluation metrics\n",
    "print(\"Accuracy:\", accuracy)\n",
    "print(\"Precision:\", precision)\n",
    "print(\"Recall:\", recall)\n",
    "print(\"F1 score:\", f1)"
   ]
  },
  {
   "cell_type": "markdown",
   "id": "5a4c849e-aeff-4a74-b19e-1d74000fb707",
   "metadata": {},
   "source": [
    "Here's what we did:\n",
    "\n",
    "1.We imported the accuracy_score, precision_score, recall_score, and f1_score functions from scikit-learn's metrics module.\n",
    "2.We used the predict method of the rfc object to make predictions on the test data (X_test).\n",
    "3.We calculated the accuracy, precision, recall, and F1 score of the predictions using the corresponding functions from scikit-learn's metrics module. We passed in the true labels (y_test) and the predicted labels (y_pred) as arguments.\n",
    "4.We printed the evaluation metrics."
   ]
  },
  {
   "cell_type": "markdown",
   "id": "65d0c78e-ef7d-4ee5-9fca-ac05f5a9f12c",
   "metadata": {},
   "source": [
    "The accuracy is a measure of the overall performance of the model, the precision measures the proportion of true positives among all positive predictions, the recall measures the proportion of true positives among all actual positives, and the F1 score is the harmonic mean of precision and recall. \n",
    "\n",
    "These metrics can give us a better understanding of how well the model is performing on the test set."
   ]
  },
  {
   "cell_type": "code",
   "execution_count": null,
   "id": "9514bbe6-a481-43ae-847c-9569f9552415",
   "metadata": {},
   "outputs": [],
   "source": [
    "Answer 5:"
   ]
  },
  {
   "cell_type": "markdown",
   "id": "bd060f13-3f7e-49cf-9981-ae8e79df792a",
   "metadata": {},
   "source": [
    "Here's an example of how to get the feature importance scores from the random forest classifier and visualize them using a bar chart:"
   ]
  },
  {
   "cell_type": "code",
   "execution_count": 19,
   "id": "3d45e608-d93a-4351-ab0b-fac7c2e6dd47",
   "metadata": {},
   "outputs": [
    {
     "data": {
      "image/png": "[encoded data removed]",
      "text/plain": [
       "<Figure size 640x480 with 1 Axes>"
      ]
     },
     "metadata": {},
     "output_type": "display_data"
    }
   ],
   "source": [
    "import matplotlib.pyplot as plt\n",
    "\n",
    "# Get feature importances from the random forest classifier\n",
    "importances = rfc.feature_importances_\n",
    "\n",
    "# Get the indices of the top 5 features\n",
    "indices = importances.argsort()[-5:]\n",
    "\n",
    "# Get the names of the top 5 features\n",
    "names = [X.columns[i] for i in indices]\n",
    "\n",
    "# Plot the feature importances as a bar chart\n",
    "plt.barh(range(len(indices)), importances[indices], align='center')\n",
    "plt.yticks(range(len(indices)), names)\n",
    "plt.xlabel(\"Feature importance\")\n",
    "plt.show()\n"
   ]
  },
  {
   "cell_type": "markdown",
   "id": "755bfc74-eea2-4aff-a940-c7c6bd59ee32",
   "metadata": {},
   "source": [
    "Here's what we did:\n",
    "\n",
    "1.We imported the matplotlib.pyplot module for visualizing the feature importances.\n",
    "2.We used the feature_importances_ attribute of the rfc object to get the feature importance scores.\n",
    "3.We used the argsort method of the importances array to get the indices of the top 5 features.\n",
    "4.We used the indices to get the names of the top 5 features from the X dataframe.\n",
    "5.We plotted the feature importances as a horizontal bar chart using the barh function of pyplot. We passed in the indices and importances as arguments, set the align parameter to 'center' to center the bars on the y-axis ticks, and set the y-axis ticks to the feature names using the yticks function. We also added a label to the x-axis and displayed the plot using the show function."
   ]
  },
  {
   "cell_type": "markdown",
   "id": "159cac98-21a9-4f71-a98d-1099a9979eb7",
   "metadata": {},
   "source": [
    "This code should give you a bar chart that shows the relative importance of the top 5 features in predicting heart disease risk."
   ]
  },
  {
   "cell_type": "code",
   "execution_count": null,
   "id": "1e79093b-4646-4c60-9bd1-b12b037d7e3c",
   "metadata": {},
   "outputs": [],
   "source": [
    "Answwer 6:"
   ]
  },
  {
   "cell_type": "markdown",
   "id": "937ba966-99a7-454a-8421-052dc2063ccf",
   "metadata": {},
   "source": [
    "Here's an example of how to tune the hyperparameters of the random forest classifier using grid search and 5-fold cross-validation:"
   ]
  },
  {
   "cell_type": "code",
   "execution_count": 21,
   "id": "830bbbac-61e4-441c-87b0-ada0de1c1a87",
   "metadata": {},
   "outputs": [
    {
     "name": "stdout",
     "output_type": "stream",
     "text": [
      "Best hyperparameters:  {'max_depth': 5, 'min_samples_leaf': 4, 'min_samples_split': 4, 'n_estimators': 50}\n",
      "Best score:  0.8440753045404208\n"
     ]
    }
   ],
   "source": [
    "from sklearn.model_selection import GridSearchCV\n",
    "\n",
    "# Define the hyperparameter grid to search over\n",
    "param_grid = {\n",
    "    'n_estimators': [50, 100, 150, 200],\n",
    "    'max_depth': [5, 10, 15, 20],\n",
    "    'min_samples_split': [2, 4, 6],\n",
    "    'min_samples_leaf': [1, 2, 4]\n",
    "}\n",
    "\n",
    "# Create a grid search object\n",
    "grid_search = GridSearchCV(RandomForestClassifier(), param_grid, cv=5)\n",
    "\n",
    "# Fit the grid search object to the training data\n",
    "grid_search.fit(X_train, y_train)\n",
    "\n",
    "# Print the best hyperparameters and corresponding score\n",
    "print(\"Best hyperparameters: \", grid_search.best_params_)\n",
    "print(\"Best score: \", grid_search.best_score_)\n"
   ]
  },
  {
   "cell_type": "markdown",
   "id": "0abea70d-cc83-494b-8517-ec73d27290d1",
   "metadata": {},
   "source": [
    "Here's what we did:\n",
    "\n",
    "1.We imported the GridSearchCV class from the sklearn.model_selection module to perform the grid search.\n",
    "2.We defined a dictionary param_grid that specifies the hyperparameters to search over and the values to try for each hyperparameter.\n",
    "3.We created a GridSearchCV object by passing in a new RandomForestClassifier object, the param_grid dictionary, and the number of folds for cross-validation (cv=5).\n",
    "4.We fit the grid_search object to the training data (X_train and y_train).\n",
    "5.We printed the best hyperparameters and corresponding score using the best_params_ and best_score_ attributes of the grid_search object.\n"
   ]
  },
  {
   "cell_type": "markdown",
   "id": "499fab57-787b-49fb-b1c1-ec58acbf5ffa",
   "metadata": {},
   "source": [
    "\n",
    "This code should perform a grid search over the specified hyperparameters and print out the best hyperparameters and corresponding score. You can modify the param_grid dictionary to include other hyperparameters or values to try.\n"
   ]
  },
  {
   "cell_type": "code",
   "execution_count": null,
   "id": "11c773b8-b05e-43c1-b13d-2ae7e9496464",
   "metadata": {},
   "outputs": [],
   "source": [
    "Answer 7:"
   ]
  },
  {
   "cell_type": "markdown",
   "id": "a7821eab-ab03-4978-ae67-330676bdd0a1",
   "metadata": {},
   "source": [
    "Here's an example of how to report the best set of hyperparameters and corresponding performance metrics for the tuned model:"
   ]
  },
  {
   "cell_type": "code",
   "execution_count": 22,
   "id": "333ccf3a-9502-4304-9883-070a2f853f02",
   "metadata": {},
   "outputs": [
    {
     "name": "stdout",
     "output_type": "stream",
     "text": [
      "Best hyperparameters:  {'max_depth': 5, 'min_samples_leaf': 4, 'min_samples_split': 4, 'n_estimators': 50}\n",
      "Best score:  0.8440753045404208\n",
      "Accuracy:  0.8351648351648352\n",
      "Precision:  0.8301886792452831\n",
      "Recall:  0.88\n",
      "F1 score:  0.8543689320388349\n"
     ]
    }
   ],
   "source": [
    "from sklearn.metrics import classification_report\n",
    "\n",
    "# Print the best hyperparameters and corresponding score\n",
    "print(\"Best hyperparameters: \", grid_search.best_params_)\n",
    "print(\"Best score: \", grid_search.best_score_)\n",
    "\n",
    "# Get the best model from the grid search\n",
    "best_model = grid_search.best_estimator_\n",
    "\n",
    "# Evaluate the best model on the test set\n",
    "y_pred = best_model.predict(X_test)\n",
    "accuracy = accuracy_score(y_test, y_pred)\n",
    "precision = precision_score(y_test, y_pred)\n",
    "recall = recall_score(y_test, y_pred)\n",
    "f1 = f1_score(y_test, y_pred)\n",
    "\n",
    "# Print the performance metrics of the best model\n",
    "print(\"Accuracy: \", accuracy)\n",
    "print(\"Precision: \", precision)\n",
    "print(\"Recall: \", recall)\n",
    "print(\"F1 score: \", f1)\n"
   ]
  },
  {
   "cell_type": "markdown",
   "id": "abb2e340-bc66-4b88-ac2d-81cec368f29b",
   "metadata": {},
   "source": [
    "Here's what we did:\n",
    "\n",
    "1.We printed the best hyperparameters and corresponding score found by the grid search using the best_params_ and best_score_ attributes of the grid_search object.\n",
    "2.We got the best model from the grid search by accessing the best_estimator_ attribute of the grid_search object.\n",
    "3.We evaluated the best model on the test set by making predictions with predict and calculating the performance metrics using accuracy_score, precision_score, recall_score, and f1_score.\n",
    "4.We printed the performance metrics of the best model."
   ]
  },
  {
   "cell_type": "markdown",
   "id": "45be70ec-8555-4349-aeda-a9d6f6466877",
   "metadata": {},
   "source": [
    "To compare the performance of the tuned model with the default model, you can print the performance metrics of the default model on the test set as well:"
   ]
  },
  {
   "cell_type": "code",
   "execution_count": null,
   "id": "b971d25b-f888-4103-8930-202a898beb26",
   "metadata": {},
   "outputs": [],
   "source": [
    "# Evaluate the default model on the test set\n",
    "y_pred_default = rf_default.predict(X_test)\n",
    "accuracy_default = accuracy_score(y_test, y_pred_default)\n",
    "precision_default = precision_score(y_test, y_pred_default)\n",
    "recall_default = recall_score(y_test, y_pred_default)\n",
    "f1_default = f1_score(y_test, y_pred_default)\n",
    "\n",
    "# Print the performance metrics of the default model\n",
    "print(\"Default Model Performance Metrics:\")\n",
    "print(\"Accuracy: \", accuracy_default)\n",
    "print(\"Precision: \", precision_default)\n",
    "print(\"Recall: \", recall_default)\n",
    "print(\"F1 score: \", f1_default)\n"
   ]
  },
  {
   "cell_type": "markdown",
   "id": "1317a07e-46d0-43e7-b9ad-d6041e4418aa",
   "metadata": {},
   "source": [
    "This will print the performance metrics of the default model on the test set. You can compare these metrics with the ones obtained for the tuned model to see if there was an improvement in performance."
   ]
  },
  {
   "cell_type": "code",
   "execution_count": null,
   "id": "ff4c7e2f-c7de-474d-9c0e-5b6efba58d9b",
   "metadata": {},
   "outputs": [],
   "source": []
  },
  {
   "cell_type": "code",
   "execution_count": null,
   "id": "04ffc853-15ba-44f3-8301-38311d44670a",
   "metadata": {},
   "outputs": [],
   "source": [
    "Answer 8:"
   ]
  },
  {
   "cell_type": "markdown",
   "id": "ac41709a-2458-465f-b641-1baab5081641",
   "metadata": {},
   "source": [
    "To visualize the decision boundaries of the random forest classifier, we can use a scatter plot of two of the most important features and color-code the points based on their predicted class. Here's an example of how to do this using the matplotlib library:"
   ]
  },
  {
   "cell_type": "code",
   "execution_count": null,
   "id": "fda84ec5-21d8-481d-83bf-ccef88f59552",
   "metadata": {},
   "outputs": [],
   "source": [
    "import numpy as np\n",
    "import matplotlib.pyplot as plt\n",
    "\n",
    "# Select two of the most important features\n",
    "importances = rf_tuned.feature_importances_\n",
    "indices = np.argsort(importances)[::-1]\n",
    "top_two_idx = indices[:2]\n",
    "X_plot = X_test[:, top_two_idx]\n",
    "# X_plot = X_test[:, [2, 12]]\n",
    "\n",
    "# Create a meshgrid of points for the two features\n",
    "x_min, x_max = X_plot[:, 0].min() - 1, X_plot[:, 0].max() + 1\n",
    "y_min, y_max = X_plot[:, 1].min() - 1, X_plot[:, 1].max() + 1\n",
    "xx, yy = np.meshgrid(np.arange(x_min, x_max, 0.01),\n",
    "                     np.arange(y_min, y_max, 0.01))\n",
    "\n",
    "# Make predictions for the meshgrid points using the tuned model\n",
    "Z = best_model.predict(np.c_[xx.ravel(), yy.ravel()])\n",
    "Z = Z.reshape(xx.shape)\n",
    "\n",
    "# Plot the decision boundaries and the scatter plot of the test set\n",
    "plt.figure(figsize=(8, 6))\n",
    "plt.contourf(xx, yy, Z, alpha=0.4, cmap='viridis')\n",
    "plt.scatter(X_plot[:, 0], X_plot[:, 1], c=y_test, s=20, edgecolor='k', cmap='viridis')\n",
    "plt.xlabel('Age')\n",
    "plt.ylabel('Maximum heart rate achieved')\n",
    "plt.title('Random Forest Classifier Decision Boundaries')\n",
    "plt.colorbar()\n",
    "plt.show()\n"
   ]
  },
  {
   "cell_type": "markdown",
   "id": "64e1c782-c30e-4a1f-acd0-24546d966614",
   "metadata": {},
   "source": [
    "Here's what we did:\n",
    "\n",
    "1.We selected two of the most important features using their indices in the X_test array.\n",
    "2.We created a meshgrid of points for the two features using np.meshgrid.\n",
    "3.We made predictions for the meshgrid points using the tuned model.\n",
    "4.We plotted the decision boundaries using plt.contourf and the scatter plot of the test set using plt.scatter."
   ]
  },
  {
   "cell_type": "markdown",
   "id": "35ca911b-d742-4bfc-b1bb-a27f156d2c65",
   "metadata": {},
   "source": [
    "The resulting plot shows the decision boundaries of the random forest classifier for the two selected features:\n",
    "\n",
    "We can see that the decision boundaries are non-linear and can capture complex interactions between the features. However, there are still some limitations of the model for predicting heart disease risk:"
   ]
  },
  {
   "cell_type": "markdown",
   "id": "d46d5722-05dd-4186-9a9a-0d7522e85125",
   "metadata": {},
   "source": [
    "1.The model assumes that the relationship between the features and the target is additive and independent, which may not be the case in reality.\n",
    "2.The model may not capture all relevant features or interactions between them, leading to errors in predictions.\n",
    "3.The model is based on a fixed set of input features and may not be able to adapt to new or changing features that are relevant for predicting heart disease risk."
   ]
  },
  {
   "cell_type": "markdown",
   "id": "e014452a-db78-4aa5-95a3-a95bbd26f688",
   "metadata": {},
   "source": [
    "Despite these limitations, the random forest classifier can still be a useful tool for predicting heart disease risk and informing clinical decision making. However, its predictions should be interpreted with caution and validated with additional tests or expert knowledge."
   ]
  }
 ],
 "metadata": {
  "kernelspec": {
   "display_name": "Python 3 (ipykernel)",
   "language": "python",
   "name": "python3"
  },
  "language_info": {
   "codemirror_mode": {
    "name": "ipython",
    "version": 3
   },
   "file_extension": ".py",
   "mimetype": "text/x-python",
   "name": "python",
   "nbconvert_exporter": "python",
   "pygments_lexer": "ipython3",
   "version": "3.10.8"
  }
 },
 "nbformat": 4,
 "nbformat_minor": 5
}
